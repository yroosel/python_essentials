{
 "cells": [
  {
   "cell_type": "markdown",
   "id": "34cb04a6-6f77-492d-b53f-1ea988a728e5",
   "metadata": {},
   "source": [
    "# Praktijkvoorbeelden 28 mei"
   ]
  },
  {
   "cell_type": "markdown",
   "id": "fae3ef29-09a6-407a-a767-801dabdbf13a",
   "metadata": {},
   "source": [
    "## Python Functions and Libraries Continued"
   ]
  },
  {
   "cell_type": "code",
   "execution_count": null,
   "id": "04c062e1-ffaa-48a1-906c-44eb270fb716",
   "metadata": {},
   "outputs": [],
   "source": []
  }
 ],
 "metadata": {
  "kernelspec": {
   "display_name": "Python [conda env:base] *",
   "language": "python",
   "name": "conda-base-py"
  },
  "language_info": {
   "codemirror_mode": {
    "name": "ipython",
    "version": 3
   },
   "file_extension": ".py",
   "mimetype": "text/x-python",
   "name": "python",
   "nbconvert_exporter": "python",
   "pygments_lexer": "ipython3",
   "version": "3.11.11"
  }
 },
 "nbformat": 4,
 "nbformat_minor": 5
}
