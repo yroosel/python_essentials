{
 "cells": [
  {
   "cell_type": "markdown",
   "id": "34cb04a6-6f77-492d-b53f-1ea988a728e5",
   "metadata": {},
   "source": [
    "# Praktijkvoorbeelden 28 mei"
   ]
  },
  {
   "cell_type": "markdown",
   "id": "991f8777-11d0-4261-8cfc-f155f88c7954",
   "metadata": {},
   "source": [
    "The **Python Essentials** course offers a comprehensive introduction, covering and practicing all the key features of Python. In fact, it includes more than most users typically need for everyday information management tasks.\n",
    "\n",
    "The **hands-on practice** in Python Essentials lays a solid foundation, even for features that aren't explicitly covered in the course. To build on this, we are adding real-world practical examples in this online course to help you advance further and become a confident and capable Python user for business applications."
   ]
  },
  {
   "cell_type": "markdown",
   "id": "379636f4-867f-4bbb-9721-c77aa02f4383",
   "metadata": {},
   "source": [
    "## Managing Tables & Spreadsheet Data Revisited"
   ]
  },
  {
   "cell_type": "code",
   "execution_count": null,
   "id": "7ebe3349-2f62-4d6c-a95a-3a8b0ac3364e",
   "metadata": {},
   "outputs": [],
   "source": []
  },
  {
   "cell_type": "markdown",
   "id": "fae3ef29-09a6-407a-a767-801dabdbf13a",
   "metadata": {},
   "source": [
    "## Python Functions and Libraries Continued"
   ]
  },
  {
   "cell_type": "code",
   "execution_count": null,
   "id": "04c062e1-ffaa-48a1-906c-44eb270fb716",
   "metadata": {},
   "outputs": [],
   "source": []
  }
 ],
 "metadata": {
  "kernelspec": {
   "display_name": "Python [conda env:base] *",
   "language": "python",
   "name": "conda-base-py"
  },
  "language_info": {
   "codemirror_mode": {
    "name": "ipython",
    "version": 3
   },
   "file_extension": ".py",
   "mimetype": "text/x-python",
   "name": "python",
   "nbconvert_exporter": "python",
   "pygments_lexer": "ipython3",
   "version": "3.11.11"
  }
 },
 "nbformat": 4,
 "nbformat_minor": 5
}
