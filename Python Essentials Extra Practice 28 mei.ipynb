{
 "cells": [
  {
   "cell_type": "markdown",
   "id": "34cb04a6-6f77-492d-b53f-1ea988a728e5",
   "metadata": {},
   "source": [
    "# Praktijkvoorbeelden 28 mei"
   ]
  },
  {
   "cell_type": "markdown",
   "id": "7a2ed36d-4a97-4c57-8c32-2a1d327a8c5d",
   "metadata": {},
   "source": [
    "### Python Essentials \n",
    "\n",
    "The **Python Essentials** course offers a thorough introduction to Python programming, covering and practicing all the key features of the language. In fact, it encompasses more than what most professionals typically require for information management tasks.\n",
    "\n",
    "The **hands-on practice** provided in Python Essentials lays a solid foundation, even for features not explicitly covered in the course. To build upon this, we are incorporating real-world practical examples in this online course to help you advance further and become a confident and capable Python user for business applications.\n",
    "\n",
    "### Useful Python Tools for Business Applications\n",
    "\n",
    "While the Python Essentials course is designed to be generic, it equips you with the skills necessary to explore additional tools relevant to business applications. Some of these tools include:\n",
    "\n",
    "* **tabulate**: For outputting structured data in a readable table format.\n",
    "* **pandas**: For managing and analyzing data efficiently.\n",
    "* **matplotlib**: For creating a wide range of static, animated, and interactive charts.\n",
    "* **requests**: For accessing server APIs using HTTP protocols.([pythoncharts.com][1])\n",
    "\n",
    "These tools are not discussed in the Python Essentials course, but after completing the course, you will be well-prepared to delve into these areas and apply Python effectively in various business contexts.\n",
    "\n",
    "[1]: https://www.pythoncharts.com/matplotlib/customizing-grid-matplotlib/?utm_source=chatgpt.com \"Python Charts - Customizing the Grid in Matplotlib\"\n"
   ]
  },
  {
   "cell_type": "markdown",
   "id": "379636f4-867f-4bbb-9721-c77aa02f4383",
   "metadata": {},
   "source": [
    "## Managing Tables & Spreadsheet Data Revisited"
   ]
  },
  {
   "cell_type": "code",
   "execution_count": null,
   "id": "7ebe3349-2f62-4d6c-a95a-3a8b0ac3364e",
   "metadata": {},
   "outputs": [],
   "source": []
  },
  {
   "cell_type": "markdown",
   "id": "fae3ef29-09a6-407a-a767-801dabdbf13a",
   "metadata": {},
   "source": [
    "## Python Functions and Libraries Continued"
   ]
  },
  {
   "cell_type": "code",
   "execution_count": null,
   "id": "04c062e1-ffaa-48a1-906c-44eb270fb716",
   "metadata": {},
   "outputs": [],
   "source": []
  }
 ],
 "metadata": {
  "kernelspec": {
   "display_name": "Python [conda env:base] *",
   "language": "python",
   "name": "conda-base-py"
  },
  "language_info": {
   "codemirror_mode": {
    "name": "ipython",
    "version": 3
   },
   "file_extension": ".py",
   "mimetype": "text/x-python",
   "name": "python",
   "nbconvert_exporter": "python",
   "pygments_lexer": "ipython3",
   "version": "3.11.11"
  }
 },
 "nbformat": 4,
 "nbformat_minor": 5
}
