{
 "cells": [
  {
   "cell_type": "markdown",
   "id": "4646ed86-0fa1-494b-b09a-adf53f8da5e0",
   "metadata": {},
   "source": [
    "# pandas examples"
   ]
  },
  {
   "cell_type": "markdown",
   "id": "65aa9bbb-98a0-4db8-b255-bbaf8d3e3660",
   "metadata": {},
   "source": [
    "**Dataframes**"
   ]
  },
  {
   "cell_type": "code",
   "execution_count": 7,
   "id": "ddb3f3d7-1710-4bb8-8b36-76ae5e9b456f",
   "metadata": {},
   "outputs": [
    {
     "data": {
      "text/html": [
       "<div>\n",
       "<style scoped>\n",
       "    .dataframe tbody tr th:only-of-type {\n",
       "        vertical-align: middle;\n",
       "    }\n",
       "\n",
       "    .dataframe tbody tr th {\n",
       "        vertical-align: top;\n",
       "    }\n",
       "\n",
       "    .dataframe thead th {\n",
       "        text-align: right;\n",
       "    }\n",
       "</style>\n",
       "<table border=\"1\" class=\"dataframe\">\n",
       "  <thead>\n",
       "    <tr style=\"text-align: right;\">\n",
       "      <th></th>\n",
       "      <th>Name</th>\n",
       "      <th>Age</th>\n",
       "      <th>City</th>\n",
       "    </tr>\n",
       "  </thead>\n",
       "  <tbody>\n",
       "    <tr>\n",
       "      <th>0</th>\n",
       "      <td>Alice</td>\n",
       "      <td>25</td>\n",
       "      <td>Brussels</td>\n",
       "    </tr>\n",
       "    <tr>\n",
       "      <th>1</th>\n",
       "      <td>Bob</td>\n",
       "      <td>30</td>\n",
       "      <td>Antwerp</td>\n",
       "    </tr>\n",
       "    <tr>\n",
       "      <th>2</th>\n",
       "      <td>Charlie</td>\n",
       "      <td>35</td>\n",
       "      <td>Ghent</td>\n",
       "    </tr>\n",
       "  </tbody>\n",
       "</table>\n",
       "</div>"
      ],
      "text/plain": [
       "      Name  Age      City\n",
       "0    Alice   25  Brussels\n",
       "1      Bob   30   Antwerp\n",
       "2  Charlie   35     Ghent"
      ]
     },
     "execution_count": 7,
     "metadata": {},
     "output_type": "execute_result"
    }
   ],
   "source": [
    "import pandas as pd\n",
    "\n",
    "# Create a sample DataFrame\n",
    "data = {\n",
    "    'Name': ['Alice', 'Bob', 'Charlie'],\n",
    "    'Age': [25, 30, 35],\n",
    "    'City': ['Brussels', 'Antwerp', 'Ghent']\n",
    "}\n",
    "\n",
    "df = pd.DataFrame(data)\n",
    "df.head()\n",
    "\n"
   ]
  },
  {
   "cell_type": "markdown",
   "id": "fb2cecc9-dcc6-4101-a575-f018bdd1403e",
   "metadata": {},
   "source": [
    "**Using df.iterrows()**"
   ]
  },
  {
   "cell_type": "code",
   "execution_count": 16,
   "id": "e8920082-664e-4473-883b-a4b8936ecb2b",
   "metadata": {},
   "outputs": [
    {
     "name": "stdout",
     "output_type": "stream",
     "text": [
      "Index 0: Alice is 25 years old and lives in Brussels\n",
      "Index 1: Bob is 30 years old and lives in Antwerp\n",
      "Index 2: Charlie is 35 years old and lives in Ghent\n"
     ]
    }
   ],
   "source": [
    "# Use iterrows() to loop through each row\n",
    "for idx, row in df.iterrows():\n",
    "    # row is a Series, so you access columns by name\n",
    "    print(f\"Index {idx}: {row['Name']} is {row['Age']} years old and lives in {row['City']}\")"
   ]
  },
  {
   "cell_type": "markdown",
   "id": "e966f2ad-53d5-4b88-9654-f49ecfbfdc2e",
   "metadata": {},
   "source": [
    " **Using df.itertuples()**\n",
    "\n",
    "This is generally the fastest, and gives you namedtuples you can access by attribute:"
   ]
  },
  {
   "cell_type": "code",
   "execution_count": 18,
   "id": "0edac65f-f25c-467e-bab7-443a40979fcc",
   "metadata": {},
   "outputs": [
    {
     "name": "stdout",
     "output_type": "stream",
     "text": [
      "Index 0: Alice is 25 years old and lives in Brussels\n",
      "Index 1: Bob is 30 years old and lives in Antwerp\n",
      "Index 2: Charlie is 35 years old and lives in Ghent\n"
     ]
    }
   ],
   "source": [
    "for row in df.itertuples(index=True, name=\"Row\"):\n",
    "    # row.Index is the original DataFrame index\n",
    "    # row.Name, row.Age, row.City are the columns\n",
    "    print(f\"Index {row.Index}: {row.Name} is {row.Age} years old and lives in {row.City}\")"
   ]
  },
  {
   "cell_type": "markdown",
   "id": "f3aa36dd-3b59-4008-b822-35fe56eddf4a",
   "metadata": {},
   "source": [
    "**Notes on performance**\n",
    "    \n",
    "- itertuples() is faster and should be your default if you just need to read values.\n",
    "\n",
    "- iterrows() converts each row to a Series (slower) but allows more pandas-style operations on row."
   ]
  },
  {
   "cell_type": "markdown",
   "id": "32b9e419-9a45-47c7-9d35-5a6cccd0d015",
   "metadata": {},
   "source": [
    "**Using enumerate()**"
   ]
  },
  {
   "cell_type": "code",
   "execution_count": 26,
   "id": "5bdbc91c-c403-425f-98e5-ccb636714607",
   "metadata": {},
   "outputs": [
    {
     "name": "stdout",
     "output_type": "stream",
     "text": [
      "Row 0: Alice is 25 years old and lives in Brussels\n",
      "Row 1: Bob is 30 years old and lives in Antwerp\n",
      "Row 2: Charlie is 35 years old and lives in Ghent\n"
     ]
    }
   ],
   "source": [
    "# Example: Using enumerate() with .iterrows()\n",
    "for i, (index, row) in enumerate(df.iterrows()):\n",
    "    print(f\"Row {i}: {row['Name']} is {row['Age']} years old and lives in {row['City']}\")"
   ]
  },
  {
   "cell_type": "code",
   "execution_count": 30,
   "id": "3a7931a6-1be8-4af3-9516-ccf927780310",
   "metadata": {},
   "outputs": [
    {
     "name": "stdout",
     "output_type": "stream",
     "text": [
      "Row 0: Alice is 25 years old and lives in Brussels\n",
      "Row 1: Bob is 30 years old and lives in Antwerp\n",
      "Row 2: Charlie is 35 years old and lives in Ghent\n"
     ]
    }
   ],
   "source": [
    "# Example: Using enumerate() with .itertuples()\n",
    "for i, row in enumerate(df.itertuples(index=False)):\n",
    "    print(f\"Row {i}: {row.Name} is {row.Age} years old and lives in {row.City}\")"
   ]
  },
  {
   "cell_type": "markdown",
   "id": "4364fe74-0531-4598-8a3b-15a21e441fae",
   "metadata": {},
   "source": [
    "**When to use enumerate():**\n",
    "\n",
    "- When you want to **count** how many rows you've processed.\n",
    "- When the DataFrame index isn't meaningful or consistent.\n",
    "- To add a **serial number** or loop index unrelated to the DataFrame index."
   ]
  },
  {
   "cell_type": "markdown",
   "id": "dd12833d-7c94-412c-b42c-7763659c4f79",
   "metadata": {},
   "source": [
    "## Series\n",
    "\n",
    "A Series is:\n",
    "\n",
    "- A one-dimensional array of data (e.g. numbers, strings, dates, etc.)\n",
    "- With an associated index labeling each element\n",
    "- Always ordered\n",
    "\n",
    "Series are designed for **tabular data analysis**."
   ]
  },
  {
   "cell_type": "code",
   "execution_count": 3,
   "id": "feea65d2-5647-4834-b876-eb4cac5a6bf9",
   "metadata": {},
   "outputs": [
    {
     "name": "stdout",
     "output_type": "stream",
     "text": [
      "a    10\n",
      "b    20\n",
      "c    30\n",
      "dtype: int64\n"
     ]
    }
   ],
   "source": [
    "import pandas as pd\n",
    "\n",
    "s = pd.Series([10, 20, 30], index=['a', 'b', 'c'])\n",
    "print(s)"
   ]
  },
  {
   "cell_type": "markdown",
   "id": "100fe578-6a0d-40d6-85a1-4ad220171fd8",
   "metadata": {},
   "source": [
    "**Series vs JSON (dictionary)**"
   ]
  },
  {
   "cell_type": "code",
   "execution_count": 12,
   "id": "e31d2a91-8a0f-469e-82d5-0a250d22616d",
   "metadata": {},
   "outputs": [
    {
     "name": "stdout",
     "output_type": "stream",
     "text": [
      "30\n"
     ]
    }
   ],
   "source": [
    "# json object\n",
    "person = {\n",
    "    \"name\": \"Alice\",\n",
    "    \"age\": 30,\n",
    "    \"city\": \"Brussels\"\n",
    "}\n",
    "\n",
    "# Access value\n",
    "print(person[\"age\"])  # → 30\n"
   ]
  },
  {
   "cell_type": "code",
   "execution_count": 14,
   "id": "e2d9c645-7ccb-44d4-b573-4baf33713420",
   "metadata": {},
   "outputs": [
    {
     "name": "stdout",
     "output_type": "stream",
     "text": [
      "{'name': 'Alice', 'age': 30, 'city': 'Brussels'}\n"
     ]
    }
   ],
   "source": [
    "# First execute previous cell\n",
    "print(person)"
   ]
  },
  {
   "cell_type": "code",
   "execution_count": 8,
   "id": "fa5d16e7-3b0e-497c-8688-19e54b714856",
   "metadata": {},
   "outputs": [
    {
     "name": "stdout",
     "output_type": "stream",
     "text": [
      "30\n"
     ]
    }
   ],
   "source": [
    "# equivalent pandas series\n",
    "import pandas as pd\n",
    "\n",
    "person_series = pd.Series({\n",
    "    \"name\": \"Alice\",\n",
    "    \"age\": 30,\n",
    "    \"city\": \"Brussels\"\n",
    "})\n",
    "\n",
    "# Access value\n",
    "print(person_series[\"age\"])  # → 30\n"
   ]
  },
  {
   "cell_type": "code",
   "execution_count": 15,
   "id": "e63cf70a-a987-4ce8-92fc-d0f3b96e2b72",
   "metadata": {},
   "outputs": [
    {
     "name": "stdout",
     "output_type": "stream",
     "text": [
      "name       Alice\n",
      "age           30\n",
      "city    Brussels\n",
      "dtype: object\n"
     ]
    }
   ],
   "source": [
    "# First execute previous cell\n",
    "print(person_series)"
   ]
  },
  {
   "cell_type": "markdown",
   "id": "5da40ded-467b-46fb-aa26-ef1697438c1b",
   "metadata": {},
   "source": [
    "**Tabular data analysis**"
   ]
  },
  {
   "cell_type": "markdown",
   "id": "4fb1ae8f-e148-4348-9196-b14763f5d0bf",
   "metadata": {},
   "source": [
    "A Pandas Series is like a typed, indexed version of a JSON object, with powerful tools for analysis, computation, and integration into DataFrames."
   ]
  },
  {
   "cell_type": "code",
   "execution_count": 16,
   "id": "a0fe6523-138c-4179-8bf6-563cc4f8eebb",
   "metadata": {},
   "outputs": [
    {
     "name": "stdout",
     "output_type": "stream",
     "text": [
      "27.5\n"
     ]
    }
   ],
   "source": [
    "# Suppose we have multiple persons\n",
    "people = pd.DataFrame([\n",
    "    {\"name\": \"Alice\", \"age\": 30},\n",
    "    {\"name\": \"Bob\", \"age\": 25}\n",
    "])\n",
    "\n",
    "# Get a Series (column)\n",
    "ages = people[\"age\"]  # Series: index = row number, values = ages\n",
    "\n",
    "print(ages.mean())  # → 27.5"
   ]
  },
  {
   "cell_type": "markdown",
   "id": "ce690e1b-bdfb-47ba-81f7-df3105c6a4ee",
   "metadata": {},
   "source": [
    "**Mean and Mode from a Series**"
   ]
  },
  {
   "cell_type": "code",
   "execution_count": 18,
   "id": "dcbf5d47-d622-4d64-b5c5-ed137497ccd6",
   "metadata": {},
   "outputs": [
    {
     "name": "stdout",
     "output_type": "stream",
     "text": [
      "Mean age: 22.375\n",
      "Mode age(s): [22]\n"
     ]
    }
   ],
   "source": [
    "import pandas as pd\n",
    "\n",
    "# Sample Series: ages of students\n",
    "ages = pd.Series([20, 22, 22, 23, 21, 22, 24, 25])\n",
    "\n",
    "# Mean (average)\n",
    "mean_value = ages.mean()\n",
    "print(f\"Mean age: {mean_value}\")  # Output: 22.375\n",
    "\n",
    "# Mode (most frequent value)\n",
    "mode_value = ages.mode()\n",
    "print(f\"Mode age(s): {mode_value.values}\")  # Output: [22]\n"
   ]
  },
  {
   "cell_type": "markdown",
   "id": "bcc17fb8-0b11-4ea4-a652-ac98070a044f",
   "metadata": {},
   "source": [
    "| Function          | Description                     |\r\n",
    "| ----------------- | ------------------------------- |\r\n",
    "| `.mean()`         | Arithmetic average (if numeric) |\r\n",
    "| `.median()`       | Middle value                    |\r\n",
    "| `.mode()`         | Most frequent value(s)          |\r\n",
    "| `.sum()`          | Total sum of values             |\r\n",
    "| `.value_counts()` | Frequency of each unique value  |\r\n"
   ]
  },
  {
   "cell_type": "markdown",
   "id": "c82d85d4-4244-44b6-a16c-7644c5e9112c",
   "metadata": {},
   "source": [
    "**DataFrame: Students per Academy**"
   ]
  },
  {
   "cell_type": "code",
   "execution_count": 42,
   "id": "44095cef-2d87-40a9-8ac5-a8200c8fcd9c",
   "metadata": {},
   "outputs": [
    {
     "name": "stdout",
     "output_type": "stream",
     "text": [
      "  Academy   Region  Students_SP Type\n",
      "0     AAA    NORTH          120  HEI\n",
      "1     BBB     WEST           80  PRO\n",
      "2     CCC  CENTRAL          150  HEI\n",
      "3     DDD    SOUTH           90  EDU\n",
      "4     EEE     EAST           80  PRO\n"
     ]
    }
   ],
   "source": [
    "import pandas as pd\n",
    "\n",
    "data = {\n",
    "    'Academy': ['AAA', 'BBB', 'CCC', 'DDD', 'EEE'],\n",
    "    'Region': ['NORTH', 'WEST', 'CENTRAL', 'SOUTH', 'EAST'],\n",
    "    'Students_SP': [120, 80, 150, 90, 80],\n",
    "    'Type': ['HEI', 'PRO', 'HEI', 'EDU', 'PRO']\n",
    "}\n",
    "\n",
    "df = pd.DataFrame(data)\n",
    "print(df)\n"
   ]
  },
  {
   "cell_type": "code",
   "execution_count": 44,
   "id": "e0741f91-9a99-467d-b218-fb51346952bb",
   "metadata": {},
   "outputs": [
    {
     "name": "stdout",
     "output_type": "stream",
     "text": [
      "<class 'pandas.core.frame.DataFrame'>\n",
      "RangeIndex: 5 entries, 0 to 4\n",
      "Data columns (total 4 columns):\n",
      " #   Column       Non-Null Count  Dtype \n",
      "---  ------       --------------  ----- \n",
      " 0   Academy      5 non-null      object\n",
      " 1   Region       5 non-null      object\n",
      " 2   Students_SP  5 non-null      int64 \n",
      " 3   Type         5 non-null      object\n",
      "dtypes: int64(1), object(3)\n",
      "memory usage: 292.0+ bytes\n"
     ]
    }
   ],
   "source": [
    "# df.info() Gives a quick overview of column types and non-null values.\n",
    "df.info()"
   ]
  },
  {
   "cell_type": "code",
   "execution_count": 46,
   "id": "36ccc7da-2fcf-4a17-9c9c-deab82cef557",
   "metadata": {},
   "outputs": [
    {
     "data": {
      "text/html": [
       "<div>\n",
       "<style scoped>\n",
       "    .dataframe tbody tr th:only-of-type {\n",
       "        vertical-align: middle;\n",
       "    }\n",
       "\n",
       "    .dataframe tbody tr th {\n",
       "        vertical-align: top;\n",
       "    }\n",
       "\n",
       "    .dataframe thead th {\n",
       "        text-align: right;\n",
       "    }\n",
       "</style>\n",
       "<table border=\"1\" class=\"dataframe\">\n",
       "  <thead>\n",
       "    <tr style=\"text-align: right;\">\n",
       "      <th></th>\n",
       "      <th>Students_SP</th>\n",
       "    </tr>\n",
       "  </thead>\n",
       "  <tbody>\n",
       "    <tr>\n",
       "      <th>count</th>\n",
       "      <td>5.000000</td>\n",
       "    </tr>\n",
       "    <tr>\n",
       "      <th>mean</th>\n",
       "      <td>104.000000</td>\n",
       "    </tr>\n",
       "    <tr>\n",
       "      <th>std</th>\n",
       "      <td>30.495901</td>\n",
       "    </tr>\n",
       "    <tr>\n",
       "      <th>min</th>\n",
       "      <td>80.000000</td>\n",
       "    </tr>\n",
       "    <tr>\n",
       "      <th>25%</th>\n",
       "      <td>80.000000</td>\n",
       "    </tr>\n",
       "    <tr>\n",
       "      <th>50%</th>\n",
       "      <td>90.000000</td>\n",
       "    </tr>\n",
       "    <tr>\n",
       "      <th>75%</th>\n",
       "      <td>120.000000</td>\n",
       "    </tr>\n",
       "    <tr>\n",
       "      <th>max</th>\n",
       "      <td>150.000000</td>\n",
       "    </tr>\n",
       "  </tbody>\n",
       "</table>\n",
       "</div>"
      ],
      "text/plain": [
       "       Students_SP\n",
       "count     5.000000\n",
       "mean    104.000000\n",
       "std      30.495901\n",
       "min      80.000000\n",
       "25%      80.000000\n",
       "50%      90.000000\n",
       "75%     120.000000\n",
       "max     150.000000"
      ]
     },
     "execution_count": 46,
     "metadata": {},
     "output_type": "execute_result"
    }
   ],
   "source": [
    "#df.describe() Generates summary statistics for numeric columns.\n",
    "df.describe()"
   ]
  },
  {
   "cell_type": "code",
   "execution_count": 48,
   "id": "f86497d2-28c3-4dda-a518-1ceae6c253bb",
   "metadata": {},
   "outputs": [
    {
     "data": {
      "text/plain": [
       "Region\n",
       "CENTRAL    150\n",
       "EAST        80\n",
       "NORTH      120\n",
       "SOUTH       90\n",
       "WEST        80\n",
       "Name: Students_SP, dtype: int64"
      ]
     },
     "execution_count": 48,
     "metadata": {},
     "output_type": "execute_result"
    }
   ],
   "source": [
    "# df.groupby() Aggregates values by category (e.g. total students per region).\n",
    "df.groupby('Region')['Students_SP'].sum()"
   ]
  },
  {
   "cell_type": "code",
   "execution_count": 50,
   "id": "7d56fc40-4053-4aac-afad-81f9792a9742",
   "metadata": {},
   "outputs": [
    {
     "data": {
      "text/html": [
       "<div>\n",
       "<style scoped>\n",
       "    .dataframe tbody tr th:only-of-type {\n",
       "        vertical-align: middle;\n",
       "    }\n",
       "\n",
       "    .dataframe tbody tr th {\n",
       "        vertical-align: top;\n",
       "    }\n",
       "\n",
       "    .dataframe thead th {\n",
       "        text-align: right;\n",
       "    }\n",
       "</style>\n",
       "<table border=\"1\" class=\"dataframe\">\n",
       "  <thead>\n",
       "    <tr style=\"text-align: right;\">\n",
       "      <th></th>\n",
       "      <th>Academy</th>\n",
       "      <th>Region</th>\n",
       "      <th>Students_SP</th>\n",
       "      <th>Type</th>\n",
       "    </tr>\n",
       "  </thead>\n",
       "  <tbody>\n",
       "    <tr>\n",
       "      <th>2</th>\n",
       "      <td>CCC</td>\n",
       "      <td>CENTRAL</td>\n",
       "      <td>150</td>\n",
       "      <td>HEI</td>\n",
       "    </tr>\n",
       "    <tr>\n",
       "      <th>0</th>\n",
       "      <td>AAA</td>\n",
       "      <td>NORTH</td>\n",
       "      <td>120</td>\n",
       "      <td>HEI</td>\n",
       "    </tr>\n",
       "    <tr>\n",
       "      <th>3</th>\n",
       "      <td>DDD</td>\n",
       "      <td>SOUTH</td>\n",
       "      <td>90</td>\n",
       "      <td>EDU</td>\n",
       "    </tr>\n",
       "    <tr>\n",
       "      <th>1</th>\n",
       "      <td>BBB</td>\n",
       "      <td>WEST</td>\n",
       "      <td>80</td>\n",
       "      <td>PRO</td>\n",
       "    </tr>\n",
       "    <tr>\n",
       "      <th>4</th>\n",
       "      <td>EEE</td>\n",
       "      <td>EAST</td>\n",
       "      <td>80</td>\n",
       "      <td>PRO</td>\n",
       "    </tr>\n",
       "  </tbody>\n",
       "</table>\n",
       "</div>"
      ],
      "text/plain": [
       "  Academy   Region  Students_SP Type\n",
       "2     CCC  CENTRAL          150  HEI\n",
       "0     AAA    NORTH          120  HEI\n",
       "3     DDD    SOUTH           90  EDU\n",
       "1     BBB     WEST           80  PRO\n",
       "4     EEE     EAST           80  PRO"
      ]
     },
     "execution_count": 50,
     "metadata": {},
     "output_type": "execute_result"
    }
   ],
   "source": [
    "#df.sort_values() Sorts the DataFrame by a column.\n",
    "df.sort_values(by='Students_SP', ascending=False)"
   ]
  },
  {
   "cell_type": "code",
   "execution_count": 52,
   "id": "0397714c-b446-47a6-980e-f6ceb3cda0f5",
   "metadata": {},
   "outputs": [
    {
     "data": {
      "text/plain": [
       "Type\n",
       "HEI    2\n",
       "PRO    2\n",
       "EDU    1\n",
       "Name: count, dtype: int64"
      ]
     },
     "execution_count": 52,
     "metadata": {},
     "output_type": "execute_result"
    }
   ],
   "source": [
    "# df.value_counts() Counts unique values (e.g. how many of each type).\n",
    "df['Type'].value_counts()"
   ]
  },
  {
   "cell_type": "code",
   "execution_count": 54,
   "id": "dfa0344d-e6b8-4c6f-b4b2-7200bf903a78",
   "metadata": {},
   "outputs": [
    {
     "data": {
      "text/plain": [
       "Academy          AAA\n",
       "Region         NORTH\n",
       "Students_SP      120\n",
       "Type             HEI\n",
       "Name: 0, dtype: object"
      ]
     },
     "execution_count": 54,
     "metadata": {},
     "output_type": "execute_result"
    }
   ],
   "source": [
    "# df.loc[] and df.iloc[] Access rows by label or position.\n",
    "df.loc[0]       # First row by label"
   ]
  },
  {
   "cell_type": "code",
   "execution_count": 56,
   "id": "93f23c94-5e79-4ea6-a0ab-924adeb454aa",
   "metadata": {},
   "outputs": [
    {
     "data": {
      "text/html": [
       "<div>\n",
       "<style scoped>\n",
       "    .dataframe tbody tr th:only-of-type {\n",
       "        vertical-align: middle;\n",
       "    }\n",
       "\n",
       "    .dataframe tbody tr th {\n",
       "        vertical-align: top;\n",
       "    }\n",
       "\n",
       "    .dataframe thead th {\n",
       "        text-align: right;\n",
       "    }\n",
       "</style>\n",
       "<table border=\"1\" class=\"dataframe\">\n",
       "  <thead>\n",
       "    <tr style=\"text-align: right;\">\n",
       "      <th></th>\n",
       "      <th>Academy</th>\n",
       "      <th>Region</th>\n",
       "      <th>Students_SP</th>\n",
       "      <th>Type</th>\n",
       "    </tr>\n",
       "  </thead>\n",
       "  <tbody>\n",
       "    <tr>\n",
       "      <th>0</th>\n",
       "      <td>AAA</td>\n",
       "      <td>NORTH</td>\n",
       "      <td>120</td>\n",
       "      <td>HEI</td>\n",
       "    </tr>\n",
       "    <tr>\n",
       "      <th>1</th>\n",
       "      <td>BBB</td>\n",
       "      <td>WEST</td>\n",
       "      <td>80</td>\n",
       "      <td>PRO</td>\n",
       "    </tr>\n",
       "  </tbody>\n",
       "</table>\n",
       "</div>"
      ],
      "text/plain": [
       "  Academy Region  Students_SP Type\n",
       "0     AAA  NORTH          120  HEI\n",
       "1     BBB   WEST           80  PRO"
      ]
     },
     "execution_count": 56,
     "metadata": {},
     "output_type": "execute_result"
    }
   ],
   "source": [
    "# df.iloc[] Access rows by label or position.\n",
    "df.iloc[0:2]    # First two rows by position"
   ]
  },
  {
   "cell_type": "code",
   "execution_count": 58,
   "id": "b8140289-85b2-4f1e-a81a-1d7d251bee38",
   "metadata": {},
   "outputs": [
    {
     "data": {
      "text/plain": [
       "90.0"
      ]
     },
     "execution_count": 58,
     "metadata": {},
     "output_type": "execute_result"
    }
   ],
   "source": [
    "#df.mean(), df.mode(), df.median() Statistical summaries.df['Students_SP'].mean()    # Average\n",
    "df['Students_SP'].mean()    # Average\n",
    "df['Students_SP'].mode()    # Most common value(s)\n",
    "df['Students_SP'].median()  # Middle value\n"
   ]
  },
  {
   "cell_type": "code",
   "execution_count": 60,
   "id": "23653204-c2d7-4993-8fd0-c5757365f5ce",
   "metadata": {},
   "outputs": [],
   "source": [
    "#df.apply() Apply a function to each row or column.\n",
    "df['Size_Category'] = df['Students_SP'].apply(lambda x: 'High' if x > 100 else 'Low')"
   ]
  },
  {
   "cell_type": "code",
   "execution_count": 62,
   "id": "4274ac23-4e0f-4d66-8b1a-a689ca045d8b",
   "metadata": {},
   "outputs": [
    {
     "data": {
      "text/html": [
       "<div>\n",
       "<style scoped>\n",
       "    .dataframe tbody tr th:only-of-type {\n",
       "        vertical-align: middle;\n",
       "    }\n",
       "\n",
       "    .dataframe tbody tr th {\n",
       "        vertical-align: top;\n",
       "    }\n",
       "\n",
       "    .dataframe thead th {\n",
       "        text-align: right;\n",
       "    }\n",
       "</style>\n",
       "<table border=\"1\" class=\"dataframe\">\n",
       "  <thead>\n",
       "    <tr style=\"text-align: right;\">\n",
       "      <th></th>\n",
       "      <th>Academy</th>\n",
       "      <th>Region</th>\n",
       "      <th>Students_SP</th>\n",
       "      <th>Type</th>\n",
       "      <th>Size_Category</th>\n",
       "    </tr>\n",
       "  </thead>\n",
       "  <tbody>\n",
       "    <tr>\n",
       "      <th>0</th>\n",
       "      <td>AAA</td>\n",
       "      <td>NORTH</td>\n",
       "      <td>120</td>\n",
       "      <td>HEI</td>\n",
       "      <td>High</td>\n",
       "    </tr>\n",
       "    <tr>\n",
       "      <th>1</th>\n",
       "      <td>BBB</td>\n",
       "      <td>WEST</td>\n",
       "      <td>80</td>\n",
       "      <td>PRO</td>\n",
       "      <td>Low</td>\n",
       "    </tr>\n",
       "    <tr>\n",
       "      <th>2</th>\n",
       "      <td>CCC</td>\n",
       "      <td>CENTRAL</td>\n",
       "      <td>150</td>\n",
       "      <td>HEI</td>\n",
       "      <td>High</td>\n",
       "    </tr>\n",
       "    <tr>\n",
       "      <th>3</th>\n",
       "      <td>DDD</td>\n",
       "      <td>SOUTH</td>\n",
       "      <td>90</td>\n",
       "      <td>EDU</td>\n",
       "      <td>Low</td>\n",
       "    </tr>\n",
       "    <tr>\n",
       "      <th>4</th>\n",
       "      <td>EEE</td>\n",
       "      <td>EAST</td>\n",
       "      <td>80</td>\n",
       "      <td>PRO</td>\n",
       "      <td>Low</td>\n",
       "    </tr>\n",
       "  </tbody>\n",
       "</table>\n",
       "</div>"
      ],
      "text/plain": [
       "  Academy   Region  Students_SP Type Size_Category\n",
       "0     AAA    NORTH          120  HEI          High\n",
       "1     BBB     WEST           80  PRO           Low\n",
       "2     CCC  CENTRAL          150  HEI          High\n",
       "3     DDD    SOUTH           90  EDU           Low\n",
       "4     EEE     EAST           80  PRO           Low"
      ]
     },
     "execution_count": 62,
     "metadata": {},
     "output_type": "execute_result"
    }
   ],
   "source": [
    "#df.isnull(), df.fillna(), df.dropna() Handle missing values.\n",
    "df.isnull().sum()\n",
    "df.fillna(0)\n",
    "df.dropna()"
   ]
  },
  {
   "cell_type": "code",
   "execution_count": 64,
   "id": "0a796685-9392-464d-bee7-b2145505c543",
   "metadata": {},
   "outputs": [],
   "source": [
    "#df.to_csv(), df.to_json() Export your DataFrame.\n",
    "df.to_csv(\"students.csv\", index=False)\n",
    "df.to_json(\"students.json\", orient=\"records\")\n",
    "# orient=\"records\": Specifies the format of the output JSON — in this case, a list of row-wise dictionaries."
   ]
  },
  {
   "cell_type": "markdown",
   "id": "d4c23c63-4c56-4de5-8b1e-d5f9d80e9433",
   "metadata": {},
   "source": [
    "**What does orient=\"records\" mean?**\n",
    "\n",
    "This tells Pandas to convert each row of the DataFrame into a dictionary, and return a list of those dictionaries — perfect for APIs or human-readable data.\n",
    "\n",
    "Other possible orientations: **\"split\", \"index\", \"columns\", \"table\"** — each for different use cases."
   ]
  },
  {
   "cell_type": "markdown",
   "id": "2572b7ec-725c-41c8-842e-62df9f193d70",
   "metadata": {},
   "source": [
    "| Use Case                      | Recommended `orient`     |\r\n",
    "| ----------------------------- | ------------------------ |\r\n",
    "| API data exchange             | `\"records\"` or `\"table\"` |\r\n",
    "| Re-importing into Pandas      | `\"split\"` or `\"table\"`   |\r\n",
    "| Index-based processing        | `\"index\"`                |\r\n",
    "| Column-based analytics/export | `\"columns\"`              |\r\n"
   ]
  },
  {
   "cell_type": "markdown",
   "id": "17fd93a2-0df0-4f72-a384-acb7ba66c790",
   "metadata": {},
   "source": [
    "**Examples of JSON Output**"
   ]
  },
  {
   "cell_type": "code",
   "execution_count": 66,
   "id": "3356c678-01c1-40fc-b17c-f2f0561e13d8",
   "metadata": {},
   "outputs": [
    {
     "data": {
      "text/plain": [
       "[{'Name': 'Alice', 'Age': 25}, {'Name': 'Bob', 'Age': 30}]"
      ]
     },
     "execution_count": 66,
     "metadata": {},
     "output_type": "execute_result"
    }
   ],
   "source": [
    "#orient=\"records\"\n",
    "[\n",
    "  {\"Name\": \"Alice\", \"Age\": 25},\n",
    "  {\"Name\": \"Bob\", \"Age\": 30}\n",
    "]\n"
   ]
  },
  {
   "cell_type": "code",
   "execution_count": 68,
   "id": "f90b1a21-9164-425a-8918-00f3f38d777d",
   "metadata": {},
   "outputs": [
    {
     "data": {
      "text/plain": [
       "{'index': [0, 1],\n",
       " 'columns': ['Name', 'Age'],\n",
       " 'data': [['Alice', 25], ['Bob', 30]]}"
      ]
     },
     "execution_count": 68,
     "metadata": {},
     "output_type": "execute_result"
    }
   ],
   "source": [
    "#orient=\"split\"\n",
    "{\n",
    "  \"index\": [0, 1],\n",
    "  \"columns\": [\"Name\", \"Age\"],\n",
    "  \"data\": [[\"Alice\", 25], [\"Bob\", 30]]\n",
    "}"
   ]
  },
  {
   "cell_type": "code",
   "execution_count": 70,
   "id": "c3c6de5c-a95d-4ab0-b710-da3eaf306c95",
   "metadata": {},
   "outputs": [
    {
     "data": {
      "text/plain": [
       "{'0': {'Name': 'Alice', 'Age': 25}, '1': {'Name': 'Bob', 'Age': 30}}"
      ]
     },
     "execution_count": 70,
     "metadata": {},
     "output_type": "execute_result"
    }
   ],
   "source": [
    "#orient=\"index\"\n",
    "{\n",
    "  \"0\": {\"Name\": \"Alice\", \"Age\": 25},\n",
    "  \"1\": {\"Name\": \"Bob\", \"Age\": 30}\n",
    "}"
   ]
  },
  {
   "cell_type": "code",
   "execution_count": 72,
   "id": "bc58d1d0-97af-485d-945e-3fad72617c81",
   "metadata": {},
   "outputs": [
    {
     "data": {
      "text/plain": [
       "{'Name': ['Alice', 'Bob'], 'Age': [25, 30]}"
      ]
     },
     "execution_count": 72,
     "metadata": {},
     "output_type": "execute_result"
    }
   ],
   "source": [
    "#orient=\"columns\"\n",
    "{\n",
    "  \"Name\": [\"Alice\", \"Bob\"],\n",
    "  \"Age\": [25, 30]\n",
    "}"
   ]
  },
  {
   "cell_type": "code",
   "execution_count": 74,
   "id": "f7b19160-f905-48a5-a5db-a787abdd8680",
   "metadata": {},
   "outputs": [
    {
     "data": {
      "text/plain": [
       "{'schema': {Ellipsis},\n",
       " 'data': [{'index': 0, 'Name': 'Alice', 'Age': 25},\n",
       "  {'index': 1, 'Name': 'Bob', 'Age': 30}]}"
      ]
     },
     "execution_count": 74,
     "metadata": {},
     "output_type": "execute_result"
    }
   ],
   "source": [
    "#orient=\"table\"\n",
    "{\n",
    "  \"schema\": {...},\n",
    "  \"data\": [\n",
    "    {\"index\": 0, \"Name\": \"Alice\", \"Age\": 25},\n",
    "    {\"index\": 1, \"Name\": \"Bob\", \"Age\": 30}\n",
    "  ]\n",
    "}"
   ]
  },
  {
   "cell_type": "markdown",
   "id": "5288733c-2f3a-48ae-ada5-043e8b3b05d4",
   "metadata": {},
   "source": [
    "**Read a JSON file back into a Pandas DataFrame using pd.read_json()**"
   ]
  },
  {
   "cell_type": "markdown",
   "id": "cc4a990a-3ba0-43c6-a6cb-e712f26333e5",
   "metadata": {},
   "source": [
    "Step 1: Save the DataFrame to JSON"
   ]
  },
  {
   "cell_type": "code",
   "execution_count": 76,
   "id": "d6142545-f3dd-41f6-aad8-b470c8c43604",
   "metadata": {},
   "outputs": [],
   "source": [
    "import pandas as pd\n",
    "\n",
    "df = pd.DataFrame({\n",
    "    'Name': ['Alice', 'Bob'],\n",
    "    'Age': [25, 30]\n",
    "})\n",
    "\n",
    "# Save as JSON with orient='records'\n",
    "df.to_json(\"students.json\", orient=\"records\", lines=False)\n"
   ]
  },
  {
   "cell_type": "markdown",
   "id": "46fef73b-0d92-4618-a1a1-dacd7854caf0",
   "metadata": {},
   "source": [
    " Step 2: Load JSON back into a DataFrame"
   ]
  },
  {
   "cell_type": "code",
   "execution_count": 78,
   "id": "2d860cfb-3aca-4ce1-b400-241e166afc0f",
   "metadata": {},
   "outputs": [
    {
     "name": "stdout",
     "output_type": "stream",
     "text": [
      "    Name  Age\n",
      "0  Alice   25\n",
      "1    Bob   30\n"
     ]
    }
   ],
   "source": [
    "# Load the file back\n",
    "df_loaded = pd.read_json(\"students.json\", orient=\"records\")\n",
    "\n",
    "print(df_loaded)\n"
   ]
  },
  {
   "cell_type": "markdown",
   "id": "f9a636ce-f897-4d2b-8f08-5439c24a1087",
   "metadata": {},
   "source": [
    "**Other orient values**\n",
    "\n",
    "To load JSON correctly, you must match the orient you used to save it:"
   ]
  },
  {
   "cell_type": "code",
   "execution_count": 80,
   "id": "1649f9b8-34bf-47f3-b876-df115e351191",
   "metadata": {},
   "outputs": [],
   "source": [
    "# Example: if saved with orient='split'\n",
    "df.to_json(\"students_split.json\", orient=\"split\")\n",
    "\n",
    "# Load it back\n",
    "df_split = pd.read_json(\"students_split.json\", orient=\"split\")\n"
   ]
  },
  {
   "cell_type": "markdown",
   "id": "e589916e-89c4-437e-b706-e2f44a5e1441",
   "metadata": {},
   "source": [
    "**Important Notes:**\n",
    "\n",
    "orient=\"records\" works best when lines=False (default).\n",
    "\n",
    "If you're exporting JSON with lines=True (newline-delimited JSON), use:"
   ]
  },
  {
   "cell_type": "code",
   "execution_count": 82,
   "id": "12270a33-e47d-4745-b43e-9a6d2088f1ab",
   "metadata": {},
   "outputs": [],
   "source": [
    "df.to_json(\"students.json\", orient=\"records\", lines=True)\n",
    "df = pd.read_json(\"students.json\", lines=True)\n"
   ]
  },
  {
   "cell_type": "markdown",
   "id": "8ddc9f59-5579-40d8-895b-b250f5e1dacc",
   "metadata": {},
   "source": [
    "**Load JSON data directly from a URL or API**\n",
    "\n",
    "Here's a practical example showing how to load JSON data directly from a URL or API into a Pandas DataFrame using pd.read_json()."
   ]
  },
  {
   "cell_type": "code",
   "execution_count": 84,
   "id": "7765aae3-9182-4ae3-b99a-57e886d6d4d8",
   "metadata": {},
   "outputs": [
    {
     "name": "stdout",
     "output_type": "stream",
     "text": [
      "   id              name   username                      email  \\\n",
      "0   1     Leanne Graham       Bret          Sincere@april.biz   \n",
      "1   2      Ervin Howell  Antonette          Shanna@melissa.tv   \n",
      "2   3  Clementine Bauch   Samantha         Nathan@yesenia.net   \n",
      "3   4  Patricia Lebsack   Karianne  Julianne.OConner@kory.org   \n",
      "4   5  Chelsey Dietrich     Kamren   Lucio_Hettinger@annie.ca   \n",
      "\n",
      "                                             address                  phone  \\\n",
      "0  {'street': 'Kulas Light', 'suite': 'Apt. 556',...  1-770-736-8031 x56442   \n",
      "1  {'street': 'Victor Plains', 'suite': 'Suite 87...    010-692-6593 x09125   \n",
      "2  {'street': 'Douglas Extension', 'suite': 'Suit...         1-463-123-4447   \n",
      "3  {'street': 'Hoeger Mall', 'suite': 'Apt. 692',...      493-170-9623 x156   \n",
      "4  {'street': 'Skiles Walks', 'suite': 'Suite 351...          (254)954-1289   \n",
      "\n",
      "         website                                            company  \n",
      "0  hildegard.org  {'name': 'Romaguera-Crona', 'catchPhrase': 'Mu...  \n",
      "1  anastasia.net  {'name': 'Deckow-Crist', 'catchPhrase': 'Proac...  \n",
      "2    ramiro.info  {'name': 'Romaguera-Jacobson', 'catchPhrase': ...  \n",
      "3       kale.biz  {'name': 'Robel-Corkery', 'catchPhrase': 'Mult...  \n",
      "4   demarco.info  {'name': 'Keebler LLC', 'catchPhrase': 'User-c...  \n"
     ]
    }
   ],
   "source": [
    "import pandas as pd\n",
    "\n",
    "# Load JSON data from an API endpoint\n",
    "url = \"https://jsonplaceholder.typicode.com/users\"\n",
    "\n",
    "df = pd.read_json(url)\n",
    "\n",
    "print(df.head())\n"
   ]
  },
  {
   "cell_type": "markdown",
   "id": "8a19eada-db83-4e56-adca-c41f79ad44ba",
   "metadata": {},
   "source": [
    "The nested fields like address and company are dictionaries → Pandas stores them as objects.\n",
    "\n",
    "You can **flatten** these if needed (see below)."
   ]
  },
  {
   "cell_type": "markdown",
   "id": "11da5b32-448f-458b-9226-f0be88eb9759",
   "metadata": {},
   "source": [
    "**Flatten Nested JSON**\n",
    "\n",
    "To turn nested fields (like \"address.city\") into separate columns:"
   ]
  },
  {
   "cell_type": "code",
   "execution_count": 86,
   "id": "95a610ba-b1b6-4f34-b029-2d99342bcbe1",
   "metadata": {},
   "outputs": [
    {
     "name": "stdout",
     "output_type": "stream",
     "text": [
      "Index(['id', 'name', 'username', 'email', 'phone', 'website', 'address.street',\n",
      "       'address.suite', 'address.city', 'address.zipcode', 'address.geo.lat',\n",
      "       'address.geo.lng', 'company.name', 'company.catchPhrase', 'company.bs'],\n",
      "      dtype='object')\n"
     ]
    }
   ],
   "source": [
    "# Flatten nested fields using json_normalize\n",
    "import requests\n",
    "from pandas import json_normalize\n",
    "\n",
    "response = requests.get(url)\n",
    "data = response.json()\n",
    "\n",
    "df_flat = json_normalize(data)\n",
    "\n",
    "print(df_flat.columns)\n"
   ]
  },
  {
   "cell_type": "markdown",
   "id": "db67ac19-6399-447c-8ed3-9f7fdc8688b5",
   "metadata": {},
   "source": [
    "**Summary**\n",
    "| Task                         | Code                                         |\n",
    "| ---------------------------- | -------------------------------------------- |\n",
    "| Load simple JSON from URL    | `pd.read_json(url)`                          |\n",
    "| Load and flatten nested JSON | `requests.get().json()` + `json_normalize()` |\n"
   ]
  }
 ],
 "metadata": {
  "kernelspec": {
   "display_name": "Python [conda env:base] *",
   "language": "python",
   "name": "conda-base-py"
  },
  "language_info": {
   "codemirror_mode": {
    "name": "ipython",
    "version": 3
   },
   "file_extension": ".py",
   "mimetype": "text/x-python",
   "name": "python",
   "nbconvert_exporter": "python",
   "pygments_lexer": "ipython3",
   "version": "3.11.11"
  }
 },
 "nbformat": 4,
 "nbformat_minor": 5
}
