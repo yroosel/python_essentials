{
 "cells": [
  {
   "cell_type": "markdown",
   "id": "6922b308-6559-40c6-8536-46c143fc30de",
   "metadata": {},
   "source": [
    "# Praktijkvoorbeelden 4 juni"
   ]
  },
  {
   "cell_type": "markdown",
   "id": "078d0e83-2ec8-4587-bb5c-5a0accebec35",
   "metadata": {},
   "source": [
    "## Print Output Practice"
   ]
  },
  {
   "cell_type": "code",
   "execution_count": 69,
   "id": "b9a4156d-ca14-40b8-8382-a836c6fb4c24",
   "metadata": {},
   "outputs": [
    {
     "name": "stdout",
     "output_type": "stream",
     "text": [
      "P                                 P\n",
      "y                                 y\n",
      "t                                 t\n",
      "h                                 h\n",
      "o                                 o\n",
      "n                                 n\n",
      "-----------------------------------\n",
      "i                                 i\n",
      "s                                 s\n",
      "-----------------------------------\n",
      "p                                 p\n",
      "o                                 o\n",
      "w                                 w\n",
      "e                                 e\n",
      "r                                 r\n",
      "f                                 f\n",
      "u                                 u\n",
      "l                                 l\n",
      "P y t h o n - i s - p o w e r f u l "
     ]
    }
   ],
   "source": [
    "text = \"Python-is-powerful indeed, isn't it\"\n",
    "# Part 1 Vertical\n",
    "for letter in text:\n",
    "    if letter == \"-\":\n",
    "        print(letter * 35)                              # <= should be improved    \n",
    "    elif letter == \" \":\n",
    "        break  # Stop when the first space is found\n",
    "    else: print(letter, letter, sep=\" \" * 33)           # <= should be improved    \n",
    "# Part 2 Horizontal\n",
    "for letter in text:\n",
    "    if letter == \" \":\n",
    "        break  # Stop when the first space is found\n",
    "    print(letter, end=\" \")"
   ]
  },
  {
   "cell_type": "markdown",
   "id": "1e7a402b-81cc-48ab-9753-4a8fb0acedc6",
   "metadata": {},
   "source": [
    "## Functions"
   ]
  },
  {
   "cell_type": "code",
   "execution_count": null,
   "id": "1b935f2d-8222-4ad2-8c7c-2473af762a79",
   "metadata": {},
   "outputs": [],
   "source": []
  },
  {
   "cell_type": "code",
   "execution_count": null,
   "id": "4b145edb-907a-4f97-a7f4-d823d237e2e8",
   "metadata": {},
   "outputs": [],
   "source": []
  },
  {
   "cell_type": "markdown",
   "id": "c5cf5fba-c3cc-47db-8841-afff598e5619",
   "metadata": {},
   "source": [
    "## Tuples"
   ]
  },
  {
   "cell_type": "code",
   "execution_count": null,
   "id": "a0cc2cc7-f20e-48a8-b32b-df0646edf2a6",
   "metadata": {},
   "outputs": [],
   "source": []
  },
  {
   "cell_type": "code",
   "execution_count": null,
   "id": "8e1fca5e-2a16-4999-95e7-99cbf6f0dbbe",
   "metadata": {},
   "outputs": [],
   "source": []
  },
  {
   "cell_type": "markdown",
   "id": "ce24c228-4373-4135-bdbc-91aa90382ce3",
   "metadata": {},
   "source": [
    "## Dictionaries"
   ]
  },
  {
   "cell_type": "code",
   "execution_count": null,
   "id": "00d27d7f-89ff-4275-8f3b-ec0c082daa98",
   "metadata": {},
   "outputs": [],
   "source": []
  },
  {
   "cell_type": "code",
   "execution_count": null,
   "id": "c3a42504-416d-4f0a-8e0f-853ef364bcaf",
   "metadata": {},
   "outputs": [],
   "source": []
  },
  {
   "cell_type": "markdown",
   "id": "19447236-c9e0-47dd-b7a7-aefbdc3c63a1",
   "metadata": {},
   "source": [
    "## Exceptions"
   ]
  },
  {
   "cell_type": "code",
   "execution_count": null,
   "id": "9a6c82d9-9dd9-4724-a70e-a64f93d61512",
   "metadata": {},
   "outputs": [],
   "source": []
  },
  {
   "cell_type": "code",
   "execution_count": null,
   "id": "9763f505-d1f5-4b83-8ed0-9caf472293ad",
   "metadata": {},
   "outputs": [],
   "source": []
  },
  {
   "cell_type": "markdown",
   "id": "42fddd0c-6cdc-4a17-8eb3-c8630303c4a2",
   "metadata": {},
   "source": [
    "# Python libraries continued"
   ]
  },
  {
   "cell_type": "markdown",
   "id": "1de68f56-a97e-4270-97fb-c84c0ffdb9d2",
   "metadata": {},
   "source": [
    "## Images"
   ]
  },
  {
   "cell_type": "code",
   "execution_count": null,
   "id": "df301355-65c2-48c7-854d-0a9fdcb2ccb0",
   "metadata": {},
   "outputs": [],
   "source": []
  },
  {
   "cell_type": "code",
   "execution_count": null,
   "id": "adb74a58-26ed-4c65-a134-25d897e976a4",
   "metadata": {},
   "outputs": [],
   "source": []
  },
  {
   "cell_type": "markdown",
   "id": "f67669d0-c89a-4f39-811b-4320f936b3c4",
   "metadata": {},
   "source": [
    "## Maps & OpenStreetMap"
   ]
  },
  {
   "cell_type": "code",
   "execution_count": null,
   "id": "a7344d60-f9e6-4e40-b9e2-c8f19aa6c4fd",
   "metadata": {},
   "outputs": [],
   "source": []
  },
  {
   "cell_type": "code",
   "execution_count": null,
   "id": "82c6e5f1-82a0-4213-8149-606bcf62df1d",
   "metadata": {},
   "outputs": [],
   "source": []
  },
  {
   "cell_type": "markdown",
   "id": "506d0dab-e52c-466b-998e-f27047220378",
   "metadata": {},
   "source": [
    "# Dictionaries & json Revisited and Further Explored"
   ]
  },
  {
   "cell_type": "code",
   "execution_count": null,
   "id": "9a5672ae-0cec-4e9c-8523-c3f6cc93398e",
   "metadata": {},
   "outputs": [],
   "source": []
  },
  {
   "cell_type": "code",
   "execution_count": null,
   "id": "24999d6b-df52-4548-9372-4673367604a2",
   "metadata": {},
   "outputs": [],
   "source": []
  },
  {
   "cell_type": "markdown",
   "id": "a407848d-155d-4e9e-93df-1efbb490172d",
   "metadata": {},
   "source": [
    "# Notebook Examples\n",
    "\n",
    "- Interactive Multimedia Reporting (basics)\n",
    "- Interactive Multimedia Reporting Annotated (adding some text)\n",
    "- Titanic Data Storytelling (other example)"
   ]
  },
  {
   "cell_type": "markdown",
   "id": "34cf5b05-371a-4150-ab7e-62a51022a8a8",
   "metadata": {},
   "source": [
    "In the Jupyter Notebook ecosystem, there are several tools and libraries that allow you to present or share your work without displaying the underlying code. These are particularly useful for sharing insights with non-technical audiences:\n",
    "\n",
    "- Run Your Notebook with **Voilà**: Turn your notebook into an interactive dashboard — without showing any code. Ideal for data apps and business users.\n",
    "- Run Your Notebook with **RISE**: Present your notebook as a live slideshow directly in the browser. You can choose to hide code cells while displaying text, images, and charts. Activate with a slideshow button in the Jupyter toolbar. Customize which cells are visible.\n",
    "- Export as an **HTML** Webpage: Create a static webpage from your notebook with or without code."
   ]
  },
  {
   "cell_type": "code",
   "execution_count": null,
   "id": "8db41dc6-303b-43ce-b695-b78e5e9d548f",
   "metadata": {},
   "outputs": [],
   "source": []
  }
 ],
 "metadata": {
  "kernelspec": {
   "display_name": "Python [conda env:base] *",
   "language": "python",
   "name": "conda-base-py"
  },
  "language_info": {
   "codemirror_mode": {
    "name": "ipython",
    "version": 3
   },
   "file_extension": ".py",
   "mimetype": "text/x-python",
   "name": "python",
   "nbconvert_exporter": "python",
   "pygments_lexer": "ipython3",
   "version": "3.11.11"
  }
 },
 "nbformat": 4,
 "nbformat_minor": 5
}
