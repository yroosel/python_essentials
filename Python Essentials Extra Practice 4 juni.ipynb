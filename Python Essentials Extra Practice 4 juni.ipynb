{
 "cells": [
  {
   "cell_type": "markdown",
   "id": "6922b308-6559-40c6-8536-46c143fc30de",
   "metadata": {},
   "source": [
    "# Praktijkvoorbeelden 4 juni"
   ]
  },
  {
   "cell_type": "markdown",
   "id": "078d0e83-2ec8-4587-bb5c-5a0accebec35",
   "metadata": {},
   "source": [
    "## Print Output Practice"
   ]
  },
  {
   "cell_type": "code",
   "execution_count": 69,
   "id": "b9a4156d-ca14-40b8-8382-a836c6fb4c24",
   "metadata": {},
   "outputs": [
    {
     "name": "stdout",
     "output_type": "stream",
     "text": [
      "P                                 P\n",
      "y                                 y\n",
      "t                                 t\n",
      "h                                 h\n",
      "o                                 o\n",
      "n                                 n\n",
      "-----------------------------------\n",
      "i                                 i\n",
      "s                                 s\n",
      "-----------------------------------\n",
      "p                                 p\n",
      "o                                 o\n",
      "w                                 w\n",
      "e                                 e\n",
      "r                                 r\n",
      "f                                 f\n",
      "u                                 u\n",
      "l                                 l\n",
      "P y t h o n - i s - p o w e r f u l "
     ]
    }
   ],
   "source": [
    "text = \"Python-is-powerful indeed, isn't it\"\n",
    "# Part 1 Vertical\n",
    "for letter in text:\n",
    "    if letter == \"-\":\n",
    "        print(letter * 35)                              # <= should be improved    \n",
    "    elif letter == \" \":\n",
    "        break  # Stop when the first space is found\n",
    "    else: print(letter, letter, sep=\" \" * 33)           # <= should be improved    \n",
    "# Part 2 Horizontal\n",
    "for letter in text:\n",
    "    if letter == \" \":\n",
    "        break  # Stop when the first space is found\n",
    "    print(letter, end=\" \")"
   ]
  },
  {
   "cell_type": "markdown",
   "id": "1e7a402b-81cc-48ab-9753-4a8fb0acedc6",
   "metadata": {},
   "source": [
    "## Functions"
   ]
  },
  {
   "cell_type": "code",
   "execution_count": null,
   "id": "1b935f2d-8222-4ad2-8c7c-2473af762a79",
   "metadata": {},
   "outputs": [],
   "source": []
  },
  {
   "cell_type": "code",
   "execution_count": null,
   "id": "4b145edb-907a-4f97-a7f4-d823d237e2e8",
   "metadata": {},
   "outputs": [],
   "source": []
  },
  {
   "cell_type": "markdown",
   "id": "c5cf5fba-c3cc-47db-8841-afff598e5619",
   "metadata": {},
   "source": [
    "## Tuples"
   ]
  },
  {
   "cell_type": "code",
   "execution_count": null,
   "id": "a0cc2cc7-f20e-48a8-b32b-df0646edf2a6",
   "metadata": {},
   "outputs": [],
   "source": []
  },
  {
   "cell_type": "code",
   "execution_count": null,
   "id": "8e1fca5e-2a16-4999-95e7-99cbf6f0dbbe",
   "metadata": {},
   "outputs": [],
   "source": []
  },
  {
   "cell_type": "markdown",
   "id": "ce24c228-4373-4135-bdbc-91aa90382ce3",
   "metadata": {},
   "source": [
    "## Dictionaries"
   ]
  },
  {
   "cell_type": "code",
   "execution_count": null,
   "id": "00d27d7f-89ff-4275-8f3b-ec0c082daa98",
   "metadata": {},
   "outputs": [],
   "source": []
  },
  {
   "cell_type": "code",
   "execution_count": null,
   "id": "c3a42504-416d-4f0a-8e0f-853ef364bcaf",
   "metadata": {},
   "outputs": [],
   "source": []
  },
  {
   "cell_type": "markdown",
   "id": "19447236-c9e0-47dd-b7a7-aefbdc3c63a1",
   "metadata": {},
   "source": [
    "## Exceptions"
   ]
  },
  {
   "cell_type": "code",
   "execution_count": null,
   "id": "9a6c82d9-9dd9-4724-a70e-a64f93d61512",
   "metadata": {},
   "outputs": [],
   "source": []
  },
  {
   "cell_type": "code",
   "execution_count": null,
   "id": "9763f505-d1f5-4b83-8ed0-9caf472293ad",
   "metadata": {},
   "outputs": [],
   "source": []
  }
 ],
 "metadata": {
  "kernelspec": {
   "display_name": "Python [conda env:base] *",
   "language": "python",
   "name": "conda-base-py"
  },
  "language_info": {
   "codemirror_mode": {
    "name": "ipython",
    "version": 3
   },
   "file_extension": ".py",
   "mimetype": "text/x-python",
   "name": "python",
   "nbconvert_exporter": "python",
   "pygments_lexer": "ipython3",
   "version": "3.11.11"
  }
 },
 "nbformat": 4,
 "nbformat_minor": 5
}
