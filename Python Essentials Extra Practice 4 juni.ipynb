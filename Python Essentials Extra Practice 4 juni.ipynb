{
 "cells": [
  {
   "cell_type": "markdown",
   "id": "6922b308-6559-40c6-8536-46c143fc30de",
   "metadata": {},
   "source": [
    "# Praktijkvoorbeelden 4 juni"
   ]
  },
  {
   "cell_type": "markdown",
   "id": "078d0e83-2ec8-4587-bb5c-5a0accebec35",
   "metadata": {},
   "source": [
    "## Print Output Practice"
   ]
  },
  {
   "cell_type": "code",
   "execution_count": 52,
   "id": "b9a4156d-ca14-40b8-8382-a836c6fb4c24",
   "metadata": {},
   "outputs": [
    {
     "name": "stdout",
     "output_type": "stream",
     "text": [
      "P                                 P\n",
      "y                                 y\n",
      "t                                 t\n",
      "h                                 h\n",
      "o                                 o\n",
      "n                                 n\n",
      "-----------------------------------\n",
      "i                                 i\n",
      "s                                 s\n",
      "-----------------------------------\n",
      "p                                 p\n",
      "o                                 o\n",
      "w                                 w\n",
      "e                                 e\n",
      "r                                 r\n",
      "f                                 f\n",
      "u                                 u\n",
      "l                                 l\n",
      "P y t h o n - i s - p o w e r f u l "
     ]
    }
   ],
   "source": [
    "text = \"Python-is-powerful indeed, isn't it\"\n",
    "# Part 1 Vertical\n",
    "for letter in text:\n",
    "    if letter == \"-\":\n",
    "        print(letter * len(text))        \n",
    "    elif letter == \" \":\n",
    "        break  # Stop when the first space is found\n",
    "    else: print(letter, letter, sep=\" \" * 33)    \n",
    "# Part 2 Horizontal\n",
    "for letter in text:\n",
    "    if letter == \" \":\n",
    "        break  # Stop when the first space is found\n",
    "    print(letter, end=\" \")"
   ]
  },
  {
   "cell_type": "markdown",
   "id": "1e7a402b-81cc-48ab-9753-4a8fb0acedc6",
   "metadata": {},
   "source": [
    "## Functions"
   ]
  },
  {
   "cell_type": "code",
   "execution_count": null,
   "id": "1b935f2d-8222-4ad2-8c7c-2473af762a79",
   "metadata": {},
   "outputs": [],
   "source": []
  },
  {
   "cell_type": "code",
   "execution_count": null,
   "id": "4b145edb-907a-4f97-a7f4-d823d237e2e8",
   "metadata": {},
   "outputs": [],
   "source": []
  }
 ],
 "metadata": {
  "kernelspec": {
   "display_name": "Python [conda env:base] *",
   "language": "python",
   "name": "conda-base-py"
  },
  "language_info": {
   "codemirror_mode": {
    "name": "ipython",
    "version": 3
   },
   "file_extension": ".py",
   "mimetype": "text/x-python",
   "name": "python",
   "nbconvert_exporter": "python",
   "pygments_lexer": "ipython3",
   "version": "3.11.11"
  }
 },
 "nbformat": 4,
 "nbformat_minor": 5
}
