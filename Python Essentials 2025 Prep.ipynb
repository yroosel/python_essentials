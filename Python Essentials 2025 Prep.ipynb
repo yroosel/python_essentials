{
 "cells": [
  {
   "cell_type": "markdown",
   "id": "8221e2d1-b3d0-4fcf-ae3d-5ec4ff66968f",
   "metadata": {},
   "source": [
    "**PRINT**"
   ]
  },
  {
   "cell_type": "code",
   "execution_count": 414,
   "id": "673022a3-bfa9-45e8-b0b4-e939569a3aa7",
   "metadata": {},
   "outputs": [
    {
     "name": "stdout",
     "output_type": "stream",
     "text": [
      "My name is Yvan.\n",
      "Yvan Rooseleer.\n"
     ]
    }
   ],
   "source": [
    "print(\"My name is\", \"Yvan.\")\n",
    "print(\"Yvan Rooseleer.\")\n"
   ]
  },
  {
   "cell_type": "code",
   "execution_count": 444,
   "id": "6b1bcb29-519e-4133-9375-364ac2914c04",
   "metadata": {},
   "outputs": [
    {
     "name": "stdout",
     "output_type": "stream",
     "text": [
      "63000.0\n"
     ]
    }
   ],
   "source": [
    "print(300000 * .21)"
   ]
  },
  {
   "cell_type": "code",
   "execution_count": 452,
   "id": "225b60be-49f8-4ea9-964b-4ad8c8bc8b6a",
   "metadata": {},
   "outputs": [
    {
     "name": "stdout",
     "output_type": "stream",
     "text": [
      "The itsy bitsy spider climbed \n",
      " up the waterspout.\n",
      "\n",
      "Down came the rain and washed the \n",
      " spider out.\n"
     ]
    }
   ],
   "source": [
    "print(\"The itsy bitsy spider climbed \\n up the waterspout.\")\n",
    "print()\n",
    "print(\"Down came the rain and washed the \\n spider out.\")\n"
   ]
  },
  {
   "cell_type": "code",
   "execution_count": 454,
   "id": "366c02ee-1385-4cba-8a17-d069fd530dea",
   "metadata": {},
   "outputs": [
    {
     "name": "stdout",
     "output_type": "stream",
     "text": [
      "\\\n"
     ]
    }
   ],
   "source": [
    "print(\"\\\\\")"
   ]
  },
  {
   "cell_type": "code",
   "execution_count": 462,
   "id": "62418b30-a6ad-488e-bbbf-12bb4b5d7a83",
   "metadata": {},
   "outputs": [
    {
     "name": "stdout",
     "output_type": "stream",
     "text": [
      "Yvan\n",
      " Rooseleer\n",
      " Brussel\n",
      "\n"
     ]
    }
   ],
   "source": [
    "print(\"Yvan\\n\" , \"Rooseleer\\n\" , \"Brussel\\n\")\n"
   ]
  },
  {
   "cell_type": "code",
   "execution_count": 476,
   "id": "1adfcd43-b1d4-4925-8ab3-405a420d15cd",
   "metadata": {},
   "outputs": [
    {
     "name": "stdout",
     "output_type": "stream",
     "text": [
      "My name is Python. Monty Python.\n"
     ]
    }
   ],
   "source": [
    "print(\"My name is\", \"Python.\", end=\" \")\n",
    "print(\"Monty Python.\")"
   ]
  },
  {
   "cell_type": "code",
   "execution_count": 480,
   "id": "c26d1227-b4d4-4b15-8744-622163ad9774",
   "metadata": {},
   "outputs": [
    {
     "name": "stdout",
     "output_type": "stream",
     "text": [
      "My***name***is***Monty***Python.\n"
     ]
    }
   ],
   "source": [
    "print(\"My\", \"name\", \"is\", \"Monty\", \"Python.\", sep=\"***\")"
   ]
  },
  {
   "cell_type": "code",
   "execution_count": 484,
   "id": "0edcf9d0-94e7-4ca1-88f9-59c9e8a25fd9",
   "metadata": {},
   "outputs": [
    {
     "name": "stdout",
     "output_type": "stream",
     "text": [
      "Yvan***Rooseleer***woont!!!in+++Brussel.+++\n"
     ]
    }
   ],
   "source": [
    "print(\"Yvan\", \"Rooseleer\", \"woont\", sep=\"***\", end=\"!!!\")\n",
    "print(\"in\", \"Brussel.\", sep=\"+++\", end=\"+++\\n\")"
   ]
  },
  {
   "cell_type": "code",
   "execution_count": 218,
   "id": "cab716c5-7301-4665-9232-3a5cee9cf25a",
   "metadata": {},
   "outputs": [
    {
     "name": "stdout",
     "output_type": "stream",
     "text": [
      "My_name_is*Monty*Python.*\n"
     ]
    }
   ],
   "source": [
    "print(\"My\", \"name\", \"is\", sep=\"_\", end=\"*\")\n",
    "print(\"Monty\", \"Python.\", sep=\"*\", end=\"*\\n\")\n"
   ]
  },
  {
   "cell_type": "code",
   "execution_count": 416,
   "id": "f505c4e1-1b30-41e3-a282-c476c810c8f6",
   "metadata": {},
   "outputs": [
    {
     "name": "stdout",
     "output_type": "stream",
     "text": [
      "My\n",
      "name\n",
      "is\n",
      "Bond. James Bond.\n"
     ]
    }
   ],
   "source": [
    "print(\"My\\nname\\nis\\nBond.\", end=\" \")\n",
    "print(\"James Bond.\")\n",
    " "
   ]
  },
  {
   "cell_type": "code",
   "execution_count": 268,
   "id": "87cd0c7f-a5d8-4d43-a644-e714bc30dab1",
   "metadata": {},
   "outputs": [
    {
     "name": "stdout",
     "output_type": "stream",
     "text": [
      "\"I'm\"\n",
      "\"\"learning\"\"\n",
      "\"\"\"Python\"\"\"\n"
     ]
    }
   ],
   "source": [
    "print(\"\\\"I'm\\\"\\n\\\"\\\"learning\\\"\\\"\\n\\\"\\\"\\\"Python\\\"\\\"\\\"\")"
   ]
  },
  {
   "cell_type": "code",
   "execution_count": 220,
   "id": "f2b18b78-3d2d-48b6-9f3d-be389509d956",
   "metadata": {},
   "outputs": [
    {
     "name": "stdout",
     "output_type": "stream",
     "text": [
      "Programming***Essentials***in...Python\n"
     ]
    }
   ],
   "source": [
    "print(\"Programming\",\"Essentials\",\"in\", sep=\"***\", end=\"...\")\n",
    "print(\"Python\")"
   ]
  },
  {
   "cell_type": "code",
   "execution_count": 486,
   "id": "8cfeae87-7a86-4b13-a417-65b98a5fd107",
   "metadata": {},
   "outputs": [
    {
     "name": "stdout",
     "output_type": "stream",
     "text": [
      "    *\n",
      "   * *\n",
      "  *   *\n",
      " *     *\n",
      "***   ***\n",
      "  *   *\n",
      "  *   *\n",
      "  *****\n"
     ]
    }
   ],
   "source": [
    "print(\"    *\")\n",
    "print(\"   * *\")\n",
    "print(\"  *   *\")\n",
    "print(\" *     *\")\n",
    "print(\"***   ***\")\n",
    "print(\"  *   *\")\n",
    "print(\"  *   *\")\n",
    "print(\"  *****\")\n"
   ]
  },
  {
   "cell_type": "code",
   "execution_count": 490,
   "id": "13ab67b2-cb0f-44db-b69c-26ed12cdc48e",
   "metadata": {},
   "outputs": [
    {
     "name": "stdout",
     "output_type": "stream",
     "text": [
      "original version:\n",
      "    *\n",
      "   * *\n",
      "  *   *\n",
      " *     *\n",
      "***   ***\n",
      "  *   *\n",
      "  *   *\n",
      "  *****\n",
      "with fewer 'print()' invocations:\n",
      "    *\n",
      "   * *\n",
      "  *   *\n",
      " *     *\n",
      "***   ***\n",
      "  *   *\n",
      "  *   *\n",
      "  *****\n",
      "higher:\n",
      "        *\n",
      "       * *\n",
      "      *   *\n",
      "     *     *\n",
      "    *       *\n",
      "   *         *\n",
      "  *           *\n",
      " *             *\n",
      "******     ******\n",
      "     *     *\n",
      "     *     *\n",
      "     *     *\n",
      "     *     *\n",
      "     *     *\n",
      "     *     *\n",
      "     *******\n",
      "doubled:\n",
      "        *                *        \n",
      "       * *              * *       \n",
      "      *   *            *   *      \n",
      "     *     *          *     *     \n",
      "    *       *        *       *    \n",
      "   *         *      *         *   \n",
      "  *           *    *           *  \n",
      " *             *  *             * \n",
      "******     ************     ******\n",
      "     *     *          *     *     \n",
      "     *     *          *     *     \n",
      "     *     *          *     *     \n",
      "     *     *          *     *     \n",
      "     *     *          *     *     \n",
      "     *     *          *     *     \n",
      "     *******          *******     \n"
     ]
    }
   ],
   "source": [
    "###################\n",
    "print(\"original version:\")\n",
    "###################\n",
    "print(\"    *\")\n",
    "print(\"   * *\")\n",
    "print(\"  *   *\")\n",
    "print(\" *     *\")\n",
    "print(\"***   ***\")\n",
    "print(\"  *   *\")\n",
    "print(\"  *   *\")\n",
    "print(\"  *****\")\n",
    "###################\n",
    "print(\"with fewer 'print()' invocations:\")\n",
    "###################\n",
    "print(\"    *\\n   * *\\n  *   *\\n *     *\\n***   ***\")\n",
    "print(\"  *   *\\n  *   *\\n  *****\")\n",
    "###################\n",
    "print(\"higher:\")\n",
    "###################\n",
    "print(\"        *\")\n",
    "print(\"       * *\")\n",
    "print(\"      *   *\")\n",
    "print(\"     *     *\")\n",
    "print(\"    *       *\")\n",
    "print(\"   *         *\")\n",
    "print(\"  *           *\")\n",
    "print(\" *             *\")\n",
    "print(\"******     ******\")\n",
    "print(\"     *     *\")\n",
    "print(\"     *     *\")\n",
    "print(\"     *     *\")\n",
    "print(\"     *     *\")\n",
    "print(\"     *     *\")\n",
    "print(\"     *     *\")\n",
    "print(\"     *******\")\n",
    "###################\n",
    "print(\"doubled:\")\n",
    "###################\n",
    "m2 = 2\n",
    "print(\"        *        \"*m2)\n",
    "print(\"       * *       \"*m2)\n",
    "print(\"      *   *      \"*m2)\n",
    "print(\"     *     *     \"*m2)\n",
    "print(\"    *       *    \"*m2)\n",
    "print(\"   *         *   \"*m2)\n",
    "print(\"  *           *  \"*m2)\n",
    "print(\" *             * \"*m2)\n",
    "print(\"******     ******\"*m2)\n",
    "print(\"     *     *     \"*m2)\n",
    "print(\"     *     *     \"*m2)\n",
    "print(\"     *     *     \"*m2)\n",
    "print(\"     *     *     \"*m2)\n",
    "print(\"     *     *     \"*m2)\n",
    "print(\"     *     *     \"*m2)\n",
    "print(\"     *******     \"*m2)"
   ]
  },
  {
   "cell_type": "code",
   "execution_count": 494,
   "id": "4b7f7d13-cf72-4fbe-be11-67dbd6f8bfe2",
   "metadata": {},
   "outputs": [
    {
     "name": "stdout",
     "output_type": "stream",
     "text": [
      "tripled:\n",
      "        *                *                *                *        \n",
      "       * *              * *              * *              * *       \n",
      "      *   *            *   *            *   *            *   *      \n",
      "     *     *          *     *          *     *          *     *     \n",
      "    *       *        *       *        *       *        *       *    \n",
      "   *         *      *         *      *         *      *         *   \n",
      "  *           *    *           *    *           *    *           *  \n",
      " *             *  *             *  *             *  *             * \n",
      "******     ************     ************     ************     ******\n",
      "     *     *          *     *          *     *          *     *     \n",
      "     *     *          *     *          *     *          *     *     \n",
      "     *     *          *     *          *     *          *     *     \n",
      "     *     *          *     *          *     *          *     *     \n",
      "     *     *          *     *          *     *          *     *     \n",
      "     *     *          *     *          *     *          *     *     \n",
      "     *******          *******          *******          *******     \n"
     ]
    }
   ],
   "source": [
    "print(\"tripled:\")\n",
    "###################\n",
    "m = 4\n",
    "print(\"        *        \"*m)\n",
    "print(\"       * *       \"*m)\n",
    "print(\"      *   *      \"*m)\n",
    "print(\"     *     *     \"*m)\n",
    "print(\"    *       *    \"*m)\n",
    "print(\"   *         *   \"*m)\n",
    "print(\"  *           *  \"*m)\n",
    "print(\" *             * \"*m)\n",
    "print(\"******     ******\"*m)\n",
    "print(\"     *     *     \"*m)\n",
    "print(\"     *     *     \"*m)\n",
    "print(\"     *     *     \"*m)\n",
    "print(\"     *     *     \"*m)\n",
    "print(\"     *     *     \"*m)\n",
    "print(\"     *     *     \"*m)\n",
    "print(\"     *******     \"*m)"
   ]
  },
  {
   "cell_type": "code",
   "execution_count": 4,
   "id": "f104663c-7a64-4f4b-8327-62661d5860bf",
   "metadata": {},
   "outputs": [
    {
     "name": "stdout",
     "output_type": "stream",
     "text": [
      "0.1230.123\n"
     ]
    }
   ],
   "source": [
    "#print(type(123))\n",
    "#print(type(\"123\"))\n",
    "#print(type(123.5))\n",
    "#print(type(\"Yvan\"))\n",
    "\n",
    "v= \"0.123\"\n",
    "print (v*2)\n"
   ]
  },
  {
   "cell_type": "code",
   "execution_count": 572,
   "id": "4a228601-8343-4732-a78c-5250d8020eb0",
   "metadata": {},
   "outputs": [
    {
     "name": "stdout",
     "output_type": "stream",
     "text": [
      "<class 'float'>\n",
      "13.127272727272727\n",
      "13.0\n",
      "1.4000000000000057\n"
     ]
    }
   ],
   "source": [
    "v1 = 144.4\n",
    "d2 = 11\n",
    "print (type(v1))\n",
    "print (v1 / d2)\n",
    "print (v1 // d2)\n",
    "print (v1 % d2)"
   ]
  },
  {
   "cell_type": "code",
   "execution_count": 648,
   "id": "971a442c-f8e2-4548-af96-9af963600059",
   "metadata": {},
   "outputs": [
    {
     "name": "stdout",
     "output_type": "stream",
     "text": [
      "11\n"
     ]
    }
   ],
   "source": [
    "#v1 = 1\n",
    "#v1 = v1 + 2\n",
    "v1 += 2\n",
    "print(v1)"
   ]
  },
  {
   "cell_type": "markdown",
   "id": "5d6e1921-0fd0-4fc5-b51f-3c0722762465",
   "metadata": {},
   "source": [
    "**Number systems**"
   ]
  },
  {
   "cell_type": "code",
   "execution_count": 245,
   "id": "595230a0-4235-402c-9600-2eae3ff7e97d",
   "metadata": {},
   "outputs": [
    {
     "name": "stdout",
     "output_type": "stream",
     "text": [
      "83\n",
      "9\n"
     ]
    }
   ],
   "source": [
    "print(0o123)\n",
    "print(0o11)\n"
   ]
  },
  {
   "cell_type": "code",
   "execution_count": 247,
   "id": "85894c7d-f622-4a14-b558-5ab9bf2d8cd2",
   "metadata": {},
   "outputs": [
    {
     "name": "stdout",
     "output_type": "stream",
     "text": [
      "291\n",
      "17\n"
     ]
    }
   ],
   "source": [
    "print(0x123)\n",
    "print(0x11)\n"
   ]
  },
  {
   "cell_type": "markdown",
   "id": "409975af-edfd-49dc-8642-049f88060052",
   "metadata": {},
   "source": [
    "**Floating Point**"
   ]
  },
  {
   "cell_type": "code",
   "execution_count": 249,
   "id": "b7797e43-7d75-41fe-9bb4-3c5f2b0d5bfc",
   "metadata": {},
   "outputs": [
    {
     "name": "stdout",
     "output_type": "stream",
     "text": [
      "1e-22\n"
     ]
    }
   ],
   "source": [
    "print(0.0000000000000000000001)"
   ]
  },
  {
   "cell_type": "markdown",
   "id": "565d80b5-1376-4aaa-b018-a844510d21b8",
   "metadata": {},
   "source": [
    "**STRINGS**"
   ]
  },
  {
   "cell_type": "code",
   "execution_count": 252,
   "id": "89662b68-55e3-472c-a1f9-594a55fec198",
   "metadata": {},
   "outputs": [
    {
     "name": "stdout",
     "output_type": "stream",
     "text": [
      "I like \"Monty Python\"\n"
     ]
    }
   ],
   "source": [
    "print(\"I like \\\"Monty Python\\\"\")"
   ]
  },
  {
   "cell_type": "code",
   "execution_count": 255,
   "id": "04f8e7e1-d45d-42cd-8bca-d9668f491764",
   "metadata": {},
   "outputs": [
    {
     "name": "stdout",
     "output_type": "stream",
     "text": [
      "I like \"Monty Python\"\n"
     ]
    }
   ],
   "source": [
    "print('I like \"Monty Python\"')"
   ]
  },
  {
   "cell_type": "code",
   "execution_count": 257,
   "id": "3ae2937b-79b8-4dd6-bd76-cb02431a0095",
   "metadata": {},
   "outputs": [
    {
     "name": "stdout",
     "output_type": "stream",
     "text": [
      "I'm Monty Python.\n"
     ]
    }
   ],
   "source": [
    "print('I\\'m Monty Python.')\n"
   ]
  },
  {
   "cell_type": "code",
   "execution_count": 332,
   "id": "0a3fc817-9821-4065-8150-fd7a29993136",
   "metadata": {},
   "outputs": [
    {
     "name": "stdout",
     "output_type": "stream",
     "text": [
      "11\n"
     ]
    }
   ],
   "source": [
    "a = '1'\n",
    "b = \"1\"\n",
    "print(a + b)"
   ]
  },
  {
   "cell_type": "markdown",
   "id": "b5caf511-9b53-4842-9d17-f9123455f1a5",
   "metadata": {},
   "source": [
    "**Boolean values**"
   ]
  },
  {
   "cell_type": "code",
   "execution_count": 266,
   "id": "84f80e53-0dac-4df1-b6fc-407da4e0986c",
   "metadata": {},
   "outputs": [
    {
     "name": "stdout",
     "output_type": "stream",
     "text": [
      "True\n",
      "False\n",
      "False\n",
      "True\n",
      "False\n"
     ]
    }
   ],
   "source": [
    "print(True > False)\n",
    "print(True < False)\n",
    "print(True == False)\n",
    "print(True == True)\n",
    "print(True == None)\n"
   ]
  },
  {
   "cell_type": "markdown",
   "id": "3b3bf813-fb68-41b6-8c7c-68fa406a89b1",
   "metadata": {},
   "source": [
    "**Exponentiation**"
   ]
  },
  {
   "cell_type": "code",
   "execution_count": 271,
   "id": "1ba89898-ee78-4460-9e05-bb6d618d6dd1",
   "metadata": {},
   "outputs": [
    {
     "name": "stdout",
     "output_type": "stream",
     "text": [
      "8\n",
      "8.0\n",
      "8.0\n",
      "8.0\n"
     ]
    }
   ],
   "source": [
    "print(2 ** 3)\n",
    "print(2 ** 3.)\n",
    "print(2. ** 3)\n",
    "print(2. ** 3.)\n"
   ]
  },
  {
   "cell_type": "markdown",
   "id": "5c100707-4565-4d02-b087-3452cb0a2408",
   "metadata": {},
   "source": [
    "**Integer division (floor division)**"
   ]
  },
  {
   "cell_type": "code",
   "execution_count": 276,
   "id": "714f1da9-30a8-405e-b351-761bb532183b",
   "metadata": {},
   "outputs": [
    {
     "name": "stdout",
     "output_type": "stream",
     "text": [
      "1\n",
      "2.0\n",
      "2.0\n",
      "2.0\n"
     ]
    }
   ],
   "source": [
    "print(6 // 3)\n",
    "print(6 // 3.)\n",
    "print(6. // 3)\n",
    "print(6. // 3.)\n"
   ]
  },
  {
   "cell_type": "code",
   "execution_count": 280,
   "id": "6892bcaf-5e71-44a8-bbb6-e7500747dd80",
   "metadata": {},
   "outputs": [
    {
     "name": "stdout",
     "output_type": "stream",
     "text": [
      "2\n",
      "1\n",
      "1\n"
     ]
    }
   ],
   "source": [
    "print(6 // 3)\n",
    "print(6 // 4)\n",
    "print(6 // 5)\n"
   ]
  },
  {
   "cell_type": "code",
   "execution_count": 282,
   "id": "817965a2-c196-46de-a998-02fbe8459ced",
   "metadata": {},
   "outputs": [
    {
     "name": "stdout",
     "output_type": "stream",
     "text": [
      "-2\n",
      "-2.0\n"
     ]
    }
   ],
   "source": [
    "print(-6 // 4)\n",
    "print(6. // -4)"
   ]
  },
  {
   "cell_type": "markdown",
   "id": "db9c16b1-9265-47d4-8d27-cf09611e3e18",
   "metadata": {},
   "source": [
    "**Remainder (modulo)**"
   ]
  },
  {
   "cell_type": "code",
   "execution_count": 293,
   "id": "939319b2-266a-4abc-ace3-d4d1983e72e3",
   "metadata": {},
   "outputs": [
    {
     "name": "stdout",
     "output_type": "stream",
     "text": [
      "0\n",
      "2\n",
      "1\n",
      "2.0\n",
      "1.0\n"
     ]
    }
   ],
   "source": [
    "print(6 % 3)\n",
    "print(6 % 4)\n",
    "print(6 % 5)\n",
    "print(6 // 3.0)\n",
    "print(6 // 3.5)\n"
   ]
  },
  {
   "cell_type": "code",
   "execution_count": 295,
   "id": "693226e5-ca55-479e-8b2c-0b3058d8988c",
   "metadata": {},
   "outputs": [
    {
     "name": "stdout",
     "output_type": "stream",
     "text": [
      "1\n"
     ]
    }
   ],
   "source": [
    "print(9 % 6 % 2)"
   ]
  },
  {
   "cell_type": "code",
   "execution_count": 299,
   "id": "65ce4642-bbb2-4288-bc44-b38c5edfb90f",
   "metadata": {},
   "outputs": [
    {
     "name": "stdout",
     "output_type": "stream",
     "text": [
      "1\n"
     ]
    }
   ],
   "source": [
    "print((9 % 6) % 2)"
   ]
  },
  {
   "cell_type": "markdown",
   "id": "a47b08b5-5d5f-456e-b6b0-7a642046a834",
   "metadata": {},
   "source": [
    "**Operators**"
   ]
  },
  {
   "cell_type": "code",
   "execution_count": 393,
   "id": "8cd357d4-e438-4b6d-b082-4d7515669a55",
   "metadata": {},
   "outputs": [
    {
     "name": "stdout",
     "output_type": "stream",
     "text": [
      "2 1\n"
     ]
    }
   ],
   "source": [
    "x = 1\n",
    "y = 2\n",
    "z = x\n",
    "x = y\n",
    "y = z\n",
    "print(x, y)"
   ]
  },
  {
   "cell_type": "code",
   "execution_count": 9,
   "id": "efcf8fc7-2b50-4c93-8570-d3d2c59e03d4",
   "metadata": {},
   "outputs": [
    {
     "name": "stdin",
     "output_type": "stream",
     "text": [
      " 4\n",
      " 2\n"
     ]
    },
    {
     "name": "stdout",
     "output_type": "stream",
     "text": [
      "1\n"
     ]
    }
   ],
   "source": [
    "x = int(input())\n",
    "y = int(input())\n",
    " \n",
    "x = x // y\n",
    "y = y // x\n",
    " \n",
    "print(y)"
   ]
  },
  {
   "cell_type": "code",
   "execution_count": 397,
   "id": "2fa475ff-42c3-455e-8796-8f45c2d7ad7b",
   "metadata": {},
   "outputs": [
    {
     "name": "stdin",
     "output_type": "stream",
     "text": [
      " 2\n",
      " 4\n"
     ]
    },
    {
     "name": "stdout",
     "output_type": "stream",
     "text": [
      "8.0\n"
     ]
    }
   ],
   "source": [
    "x = int(input())\n",
    "y = int(input())\n",
    " \n",
    "x = x / y\n",
    "y = y / x\n",
    "\n",
    "print(y)\n",
    " "
   ]
  },
  {
   "cell_type": "code",
   "execution_count": 399,
   "id": "a780dfb4-5e0e-4598-8f9e-ae88b037a058",
   "metadata": {},
   "outputs": [
    {
     "name": "stdin",
     "output_type": "stream",
     "text": [
      " 11\n",
      " 4\n"
     ]
    },
    {
     "name": "stdout",
     "output_type": "stream",
     "text": [
      "1\n"
     ]
    }
   ],
   "source": [
    "x = int(input())\n",
    "y = int(input())\n",
    " \n",
    "x = x % y\n",
    "x = x % y\n",
    "y = y % x\n",
    " \n",
    "print(y)"
   ]
  },
  {
   "cell_type": "markdown",
   "id": "db0bfe90-0d9e-49be-94ab-9780b3c98398",
   "metadata": {},
   "source": [
    "**Exponentiation operator** uses right-sided binding"
   ]
  },
  {
   "cell_type": "code",
   "execution_count": 301,
   "id": "267577af-99a8-40b6-bfc9-092e783468a9",
   "metadata": {},
   "outputs": [
    {
     "name": "stdout",
     "output_type": "stream",
     "text": [
      "256\n"
     ]
    }
   ],
   "source": [
    "print(2 ** 2 ** 3)"
   ]
  },
  {
   "cell_type": "code",
   "execution_count": 303,
   "id": "4f7224bb-7af2-4821-855d-d7c82cf5f2df",
   "metadata": {},
   "outputs": [
    {
     "name": "stdout",
     "output_type": "stream",
     "text": [
      "64\n"
     ]
    }
   ],
   "source": [
    "print((2 ** 2) ** 3)"
   ]
  },
  {
   "cell_type": "code",
   "execution_count": 305,
   "id": "c05f6bca-ea3a-42ab-8231-91198717fb97",
   "metadata": {},
   "outputs": [
    {
     "name": "stdout",
     "output_type": "stream",
     "text": [
      "256\n"
     ]
    }
   ],
   "source": [
    "print(2 ** (2 ** 3))"
   ]
  },
  {
   "cell_type": "markdown",
   "id": "ac315a60-b386-4be1-af00-016f98d63a6d",
   "metadata": {},
   "source": [
    "**Operators and their bindings**\n",
    "\n",
    "The binding of the operator determines the order of computations performed by some operators with equal priority, put side by side in one expression."
   ]
  },
  {
   "cell_type": "code",
   "execution_count": 308,
   "id": "ece41777-b239-40a4-9ec6-a8aa86f8caa8",
   "metadata": {},
   "outputs": [
    {
     "name": "stdout",
     "output_type": "stream",
     "text": [
      "1\n"
     ]
    }
   ],
   "source": [
    "print(2 * 3 % 5)"
   ]
  },
  {
   "cell_type": "code",
   "execution_count": 312,
   "id": "82619504-01ba-4958-9dae-f3949594c8b8",
   "metadata": {},
   "outputs": [
    {
     "name": "stdout",
     "output_type": "stream",
     "text": [
      "6\n"
     ]
    }
   ],
   "source": [
    "print(2 * (3 % 5))"
   ]
  },
  {
   "cell_type": "code",
   "execution_count": 314,
   "id": "2cd653e7-1c7e-4bea-9089-14f9c5714eb1",
   "metadata": {},
   "outputs": [
    {
     "name": "stdout",
     "output_type": "stream",
     "text": [
      "1\n"
     ]
    }
   ],
   "source": [
    "print((2 * 3) % 5)"
   ]
  },
  {
   "cell_type": "code",
   "execution_count": 409,
   "id": "fd6898ee-40b9-4ea4-900b-b16ed3253687",
   "metadata": {},
   "outputs": [
    {
     "name": "stdout",
     "output_type": "stream",
     "text": [
      "17.5\n",
      "17.5\n"
     ]
    }
   ],
   "source": [
    "x = 1 / 2 + 3 // 3 + 4 ** 2\n",
    "print(x)\n",
    "x = (1 / 2) + (3 // 3) + (4 ** 2)\n",
    "print(x)"
   ]
  },
  {
   "cell_type": "code",
   "execution_count": 411,
   "id": "a9903d3e-a3c8-472f-90b5-aeb43d1db509",
   "metadata": {},
   "outputs": [
    {
     "name": "stdin",
     "output_type": "stream",
     "text": [
      " 2\n",
      " 4\n"
     ]
    },
    {
     "name": "stdout",
     "output_type": "stream",
     "text": [
      "6\n"
     ]
    }
   ],
   "source": [
    "x = int(input())\n",
    "y = int(input())\n",
    " \n",
    "print(x + y)\n"
   ]
  },
  {
   "cell_type": "markdown",
   "id": "4e35ab22-8eeb-4d9c-ae6f-679006205c6e",
   "metadata": {},
   "source": [
    "**Operators and parentheses**"
   ]
  },
  {
   "cell_type": "code",
   "execution_count": 316,
   "id": "1242de7e-d75d-4794-ab9c-6b8bada85583",
   "metadata": {},
   "outputs": [
    {
     "name": "stdout",
     "output_type": "stream",
     "text": [
      "10.0\n"
     ]
    }
   ],
   "source": [
    "print((5 * ((25 % 13) + 100) / (2 * 13)) // 2)"
   ]
  },
  {
   "cell_type": "markdown",
   "id": "644f4447-ae48-48e8-be8b-230ad21fea1c",
   "metadata": {},
   "source": [
    "**Shortcut Operators**"
   ]
  },
  {
   "cell_type": "code",
   "execution_count": 335,
   "id": "b0d02280-2ceb-42f7-8734-868f0c5301ea",
   "metadata": {},
   "outputs": [
    {
     "name": "stdout",
     "output_type": "stream",
     "text": [
      "1.0\n"
     ]
    }
   ],
   "source": [
    "a = 6\n",
    "b = 3\n",
    "a /= 2 * b\n",
    "print(a)"
   ]
  },
  {
   "cell_type": "markdown",
   "id": "e7dccdb5-bf17-4b62-ae0b-da8d3066305d",
   "metadata": {},
   "source": [
    "**Assign a new value to an already existing variable**"
   ]
  },
  {
   "cell_type": "code",
   "execution_count": 320,
   "id": "0a6075b3-23a8-4916-b6e5-d11be2b9993f",
   "metadata": {},
   "outputs": [
    {
     "name": "stdout",
     "output_type": "stream",
     "text": [
      "1\n",
      "2\n"
     ]
    }
   ],
   "source": [
    "var = 1\n",
    "print(var)\n",
    "var = var + 1\n",
    "print(var)\n"
   ]
  },
  {
   "cell_type": "markdown",
   "id": "d7b23ed0-9047-45e9-aafa-87ba0703d3d6",
   "metadata": {},
   "source": [
    "**Length of the hypotenuse**"
   ]
  },
  {
   "cell_type": "code",
   "execution_count": 327,
   "id": "6e8b6201-8ea8-44a2-98f8-b39b697f81dd",
   "metadata": {},
   "outputs": [
    {
     "name": "stdout",
     "output_type": "stream",
     "text": [
      "c = 5.0\n"
     ]
    }
   ],
   "source": [
    "a = 3.0\n",
    "b = 4.0\n",
    "c = (a ** 2 + b ** 2) ** 0.5\n",
    "print(\"c =\", c)"
   ]
  },
  {
   "cell_type": "markdown",
   "id": "f5db96c5-0192-45ad-872a-4c05c2fde20f",
   "metadata": {},
   "source": [
    "**Simple converter**"
   ]
  },
  {
   "cell_type": "code",
   "execution_count": 330,
   "id": "ffbdf578-453d-4319-985f-5663a7a0022d",
   "metadata": {},
   "outputs": [
    {
     "name": "stdout",
     "output_type": "stream",
     "text": [
      "7.38 miles is 11.88 kilometers\n",
      "12.25 kilometers is 7.61 miles\n"
     ]
    }
   ],
   "source": [
    "kilometers = 12.25\n",
    "miles = 7.38\n",
    "\n",
    "miles_to_kilometers = miles * 1.61\n",
    "kilometers_to_miles = kilometers / 1.61\n",
    "\n",
    "print(miles, \"miles is\", round(miles_to_kilometers, 2), \"kilometers\")\n",
    "print(kilometers, \"kilometers is\", round(kilometers_to_miles, 2), \"miles\")\n"
   ]
  },
  {
   "cell_type": "markdown",
   "id": "a334e89b-aa6a-4805-85c9-c6b68cbb6568",
   "metadata": {},
   "source": [
    "**INPUT**"
   ]
  },
  {
   "cell_type": "code",
   "execution_count": 340,
   "id": "b627cb92-519a-4ca3-bd3e-0e2e91d17e12",
   "metadata": {},
   "outputs": [
    {
     "name": "stdout",
     "output_type": "stream",
     "text": [
      "Tell me anything...\n"
     ]
    },
    {
     "name": "stdin",
     "output_type": "stream",
     "text": [
      " Yes, we can!\n"
     ]
    },
    {
     "name": "stdout",
     "output_type": "stream",
     "text": [
      "Hmm... Yes, we can! ... Really?\n"
     ]
    }
   ],
   "source": [
    "print(\"Tell me anything...\")\n",
    "anything = input()\n",
    "print(\"Hmm...\", anything, \"... Really?\")\n"
   ]
  },
  {
   "cell_type": "code",
   "execution_count": 342,
   "id": "3f8b0b36-24d5-4d41-ab97-de2fef83375e",
   "metadata": {},
   "outputs": [
    {
     "name": "stdin",
     "output_type": "stream",
     "text": [
      "Tell me anything... No, we won't!\n"
     ]
    },
    {
     "name": "stdout",
     "output_type": "stream",
     "text": [
      "Hmm... No, we won't! ...Really?\n"
     ]
    }
   ],
   "source": [
    "anything = input(\"Tell me anything...\")\n",
    "print(\"Hmm...\", anything, \"...Really?\")\n"
   ]
  },
  {
   "cell_type": "code",
   "execution_count": 401,
   "id": "867ebcc6-8768-4f8c-ae60-f4e5e718f788",
   "metadata": {},
   "outputs": [
    {
     "name": "stdin",
     "output_type": "stream",
     "text": [
      " 5\n",
      " 5\n"
     ]
    },
    {
     "name": "stdout",
     "output_type": "stream",
     "text": [
      "55555\n"
     ]
    }
   ],
   "source": [
    "x = input()\n",
    "y = int(input())\n",
    " \n",
    "print(x * y)\n",
    " "
   ]
  },
  {
   "cell_type": "code",
   "execution_count": 17,
   "id": "1e2e6188-fb70-4b98-8796-0e07dd246bf0",
   "metadata": {},
   "outputs": [
    {
     "name": "stdin",
     "output_type": "stream",
     "text": [
      "Enter a number:  2\n"
     ]
    },
    {
     "ename": "TypeError",
     "evalue": "unsupported operand type(s) for ** or pow(): 'str' and 'int'",
     "output_type": "error",
     "traceback": [
      "\u001b[1;31m---------------------------------------------------------------------------\u001b[0m",
      "\u001b[1;31mTypeError\u001b[0m                                 Traceback (most recent call last)",
      "Cell \u001b[1;32mIn[17], line 3\u001b[0m\n\u001b[0;32m      1\u001b[0m \u001b[38;5;66;03m# ERROR\u001b[39;00m\n\u001b[0;32m      2\u001b[0m anything \u001b[38;5;241m=\u001b[39m \u001b[38;5;28minput\u001b[39m(\u001b[38;5;124m\"\u001b[39m\u001b[38;5;124mEnter a number: \u001b[39m\u001b[38;5;124m\"\u001b[39m)\n\u001b[1;32m----> 3\u001b[0m something \u001b[38;5;241m=\u001b[39m anything \u001b[38;5;241m*\u001b[39m\u001b[38;5;241m*\u001b[39m \u001b[38;5;241m2\u001b[39m\n\u001b[0;32m      4\u001b[0m \u001b[38;5;28mprint\u001b[39m(anything, \u001b[38;5;124m\"\u001b[39m\u001b[38;5;124mto the power of 2 is\u001b[39m\u001b[38;5;124m\"\u001b[39m, something)\n",
      "\u001b[1;31mTypeError\u001b[0m: unsupported operand type(s) for ** or pow(): 'str' and 'int'"
     ]
    }
   ],
   "source": [
    "# ERROR\n",
    "anything = input(\"Enter a number: \")\n",
    "something = anything ** 2\n",
    "print(anything, \"to the power of 2 is\", something)"
   ]
  },
  {
   "cell_type": "code",
   "execution_count": 346,
   "id": "222c38a0-c6a0-4d98-b5c9-226a5d6ce47d",
   "metadata": {},
   "outputs": [
    {
     "name": "stdin",
     "output_type": "stream",
     "text": [
      "Enter a number:  2\n"
     ]
    },
    {
     "name": "stdout",
     "output_type": "stream",
     "text": [
      "2.0 to the power of 2 is 4.0\n"
     ]
    }
   ],
   "source": [
    "anything = float(input(\"Enter a number: \"))\n",
    "something = anything ** 2.0\n",
    "print(anything, \"to the power of 2 is\", something)"
   ]
  },
  {
   "cell_type": "code",
   "execution_count": 348,
   "id": "530bb992-1217-441e-94f4-a250c63722b5",
   "metadata": {},
   "outputs": [
    {
     "name": "stdin",
     "output_type": "stream",
     "text": [
      "Input first leg length:  3\n",
      "Input second leg length:  4\n"
     ]
    },
    {
     "name": "stdout",
     "output_type": "stream",
     "text": [
      "Hypotenuse length is 5.0\n"
     ]
    }
   ],
   "source": [
    "leg_a = float(input(\"Input first leg length: \"))\n",
    "leg_b = float(input(\"Input second leg length: \"))\n",
    "hypo = (leg_a**2 + leg_b**2) ** .5\n",
    "print(\"Hypotenuse length is\", hypo)\n"
   ]
  },
  {
   "cell_type": "code",
   "execution_count": 350,
   "id": "1d0da664-45c5-4327-9421-766b47eff134",
   "metadata": {},
   "outputs": [
    {
     "name": "stdin",
     "output_type": "stream",
     "text": [
      "Input first leg length:  4\n",
      "Input second leg length:  5\n"
     ]
    },
    {
     "name": "stdout",
     "output_type": "stream",
     "text": [
      "Hypotenuse length is 6.4031242374328485\n"
     ]
    }
   ],
   "source": [
    "leg_a = float(input(\"Input first leg length: \"))\n",
    "leg_b = float(input(\"Input second leg length: \"))\n",
    "print(\"Hypotenuse length is\", (leg_a**2 + leg_b**2) ** .5)"
   ]
  },
  {
   "cell_type": "markdown",
   "id": "8b273fb5-4f2a-482b-83a5-f61fe965500e",
   "metadata": {},
   "source": [
    "**String operators**"
   ]
  },
  {
   "cell_type": "code",
   "execution_count": 380,
   "id": "07da97e1-89e1-4a2e-8d81-2aaa4d933771",
   "metadata": {},
   "outputs": [
    {
     "name": "stdin",
     "output_type": "stream",
     "text": [
      "Enter your name:  James\n"
     ]
    },
    {
     "name": "stdout",
     "output_type": "stream",
     "text": [
      "Hello, James. Nice to meet you!\n"
     ]
    }
   ],
   "source": [
    "name = input(\"Enter your name: \")\n",
    "print(\"Hello, \" + name + \". Nice to meet you!\")"
   ]
  },
  {
   "cell_type": "code",
   "execution_count": 382,
   "id": "ab4eb4e2-7b1b-4e95-b36a-4ee6ceaa1c11",
   "metadata": {},
   "outputs": [
    {
     "name": "stdin",
     "output_type": "stream",
     "text": [
      "Enter your name:  John\n"
     ]
    },
    {
     "name": "stdout",
     "output_type": "stream",
     "text": [
      "Hello, John. Nice to meet you!\n",
      "\n",
      "Press Enter to end the program.\n"
     ]
    },
    {
     "name": "stdin",
     "output_type": "stream",
     "text": [
      " \n"
     ]
    },
    {
     "name": "stdout",
     "output_type": "stream",
     "text": [
      "THE END.\n"
     ]
    }
   ],
   "source": [
    "name = input(\"Enter your name: \")\n",
    "print(\"Hello, \" + name + \". Nice to meet you!\")\n",
    " \n",
    "print(\"\\nPress Enter to end the program.\")\n",
    "input()\n",
    "print(\"THE END.\")\n",
    " "
   ]
  },
  {
   "cell_type": "code",
   "execution_count": 386,
   "id": "b8506056-3bb7-4a5a-bf30-11f5c0a874d9",
   "metadata": {},
   "outputs": [
    {
     "name": "stdin",
     "output_type": "stream",
     "text": [
      "Enter something:  bla\n"
     ]
    },
    {
     "name": "stdout",
     "output_type": "stream",
     "text": [
      "blablabla\n"
     ]
    }
   ],
   "source": [
    "my_input = input(\"Enter something: \") \n",
    "print(my_input * 3) "
   ]
  },
  {
   "cell_type": "code",
   "execution_count": 388,
   "id": "70fb2602-a06b-499d-94d3-4c66e42f0a48",
   "metadata": {},
   "outputs": [
    {
     "name": "stdin",
     "output_type": "stream",
     "text": [
      "Enter a number:  5\n"
     ]
    },
    {
     "name": "stdout",
     "output_type": "stream",
     "text": [
      "55555\n"
     ]
    }
   ],
   "source": [
    "x = int(input(\"Enter a number: \")) # The user enters 2\n",
    "print(x * \"5\")"
   ]
  },
  {
   "cell_type": "code",
   "execution_count": 390,
   "id": "827ab0ac-78f7-457b-89d4-d441b3248dcf",
   "metadata": {},
   "outputs": [
    {
     "name": "stdin",
     "output_type": "stream",
     "text": [
      "Enter a number:  5\n"
     ]
    },
    {
     "name": "stdout",
     "output_type": "stream",
     "text": [
      "<class 'str'>\n"
     ]
    }
   ],
   "source": [
    "x = input(\"Enter a number: \") # The user enters 2\n",
    "print(type(x))"
   ]
  },
  {
   "cell_type": "code",
   "execution_count": 353,
   "id": "0c05afcb-83f5-4eec-8964-7b0b51b46cf9",
   "metadata": {},
   "outputs": [
    {
     "name": "stdin",
     "output_type": "stream",
     "text": [
      "May I have your first name, please?  Julio\n",
      "May I have your last name, please?  Iglesias\n"
     ]
    },
    {
     "name": "stdout",
     "output_type": "stream",
     "text": [
      "Thank you.\n",
      "\n",
      "Your name is Julio Iglesias.\n"
     ]
    }
   ],
   "source": [
    "fnam = input(\"May I have your first name, please? \")\n",
    "lnam = input(\"May I have your last name, please? \")\n",
    "print(\"Thank you.\")\n",
    "print(\"\\nYour name is \" + fnam + \" \" + lnam + \".\")"
   ]
  },
  {
   "cell_type": "code",
   "execution_count": 403,
   "id": "aab138f2-5e76-4fc5-8858-52a7ec99dec9",
   "metadata": {},
   "outputs": [
    {
     "name": "stdout",
     "output_type": "stream",
     "text": [
      "1*1*1\n"
     ]
    }
   ],
   "source": [
    "z = y = x = 1\n",
    "print(x, y, z, sep='*')"
   ]
  },
  {
   "cell_type": "markdown",
   "id": "596b5f54-af91-4b3f-bf0c-c94aa4e79b09",
   "metadata": {},
   "source": [
    "**String Replication**"
   ]
  },
  {
   "cell_type": "code",
   "execution_count": 356,
   "id": "60be237a-0b0a-44d0-828b-ce63bacf62e9",
   "metadata": {},
   "outputs": [
    {
     "name": "stdout",
     "output_type": "stream",
     "text": [
      "+----------+\n",
      "|          |\n",
      "|          |\n",
      "|          |\n",
      "|          |\n",
      "|          |\n",
      "+----------+\n"
     ]
    }
   ],
   "source": [
    "print(\"+\" + 10 * \"-\" + \"+\")\n",
    "print((\"|\" + \" \" * 10 + \"|\\n\") * 5, end=\"\")\n",
    "print(\"+\" + 10 * \"-\" + \"+\")\n"
   ]
  },
  {
   "cell_type": "code",
   "execution_count": 366,
   "id": "4bfc3ce8-e521-435e-ab48-21bdf0318b6e",
   "metadata": {},
   "outputs": [
    {
     "name": "stdout",
     "output_type": "stream",
     "text": [
      "+--------------------+\n",
      "|                    |\n",
      "|                    |\n",
      "|                    |\n",
      "|                    |\n",
      "|                    |\n",
      "|                    |\n",
      "|                    |\n",
      "|                    |\n",
      "|                    |\n",
      "|                    |\n",
      "+--------------------+\n"
     ]
    }
   ],
   "source": [
    "size = 20\n",
    "height = 10\n",
    "print(\"+\" + size * \"-\" + \"+\")\n",
    "print((\"|\" + \" \" * size + \"|\\n\") * height, end=\"\")\n",
    "print(\"+\" + size * \"-\" + \"+\")\n"
   ]
  },
  {
   "cell_type": "markdown",
   "id": "8da88361-5b00-4690-a93d-28770734a124",
   "metadata": {},
   "source": [
    "**Right-angle triangle again**"
   ]
  },
  {
   "cell_type": "code",
   "execution_count": 369,
   "id": "cf280265-b68b-4d43-88a1-4eb8cc0736f5",
   "metadata": {},
   "outputs": [
    {
     "name": "stdin",
     "output_type": "stream",
     "text": [
      "Input first leg length:  3\n",
      "Input second leg length:  4\n"
     ]
    },
    {
     "name": "stdout",
     "output_type": "stream",
     "text": [
      "Hypotenuse length is 5.656854249492381\n"
     ]
    }
   ],
   "source": [
    "eg_a = float(input(\"Input first leg length: \"))\n",
    "leg_b = float(input(\"Input second leg length: \"))\n",
    "print(\"Hypotenuse length is \" + str((leg_a**2 + leg_b**2) ** .5))"
   ]
  },
  {
   "cell_type": "markdown",
   "id": "373d80af-5364-4512-98d4-499feddce3c5",
   "metadata": {},
   "source": [
    "**Operators and expressions**"
   ]
  },
  {
   "cell_type": "code",
   "execution_count": 376,
   "id": "033abef4-bdce-49e6-855c-9ad54884b06f",
   "metadata": {},
   "outputs": [
    {
     "name": "stdin",
     "output_type": "stream",
     "text": [
      "Enter value for x:  10\n"
     ]
    },
    {
     "name": "stdout",
     "output_type": "stream",
     "text": [
      "y = 0.09901951266867294\n"
     ]
    }
   ],
   "source": [
    "x = float(input(\"Enter value for x: \"))\n",
    "y = 1./(x + 1./(x + 1./(x + 1./x)))\n",
    "print(\"y =\", y)"
   ]
  },
  {
   "cell_type": "code",
   "execution_count": 378,
   "id": "7ecfe3aa-8cc1-4593-ba20-01d8cd0c5370",
   "metadata": {},
   "outputs": [
    {
     "name": "stdin",
     "output_type": "stream",
     "text": [
      "Starting time (hours):  12\n",
      "Starting time (minutes):  12\n",
      "Event duration (minutes):  40\n"
     ]
    },
    {
     "name": "stdout",
     "output_type": "stream",
     "text": [
      "12:52\n"
     ]
    }
   ],
   "source": [
    "hour = int(input(\"Starting time (hours): \"))\n",
    "mins = int(input(\"Starting time (minutes): \"))\n",
    "dura = int(input(\"Event duration (minutes): \"))\n",
    "mins = mins + dura # find a total of all minutes\n",
    "hour = hour + mins // 60 # find a number of hours hidden in minutes and update the hour\n",
    "mins = mins % 60 # correct minutes to fall in the (0..59) range\n",
    "hour = hour % 24 # correct hours to fall in the (0..23) range\n",
    "print(hour, \":\", mins, sep='')\n"
   ]
  },
  {
   "cell_type": "markdown",
   "id": "4395c812-a130-4f13-8d6d-6c7df8ba6df6",
   "metadata": {},
   "source": [
    "**IF ELSE**"
   ]
  },
  {
   "cell_type": "code",
   "execution_count": 132,
   "id": "7fb5cc1d-411a-4b84-a633-38f8ee6071fe",
   "metadata": {},
   "outputs": [
    {
     "name": "stdin",
     "output_type": "stream",
     "text": [
      "Enter the annual income:  123\n"
     ]
    },
    {
     "name": "stdout",
     "output_type": "stream",
     "text": [
      "The tax is: -534.0 thalers\n"
     ]
    }
   ],
   "source": [
    "income = float(input(\"Enter the annual income: \"))\n",
    "\n",
    "if income < 85528:\n",
    "\ttax = income * 0.18 - 556.02\n",
    "# Write the rest of your code here.\n",
    "\n",
    "tax = round(tax, 0)\n",
    "print(\"The tax is:\", tax, \"thalers\")\n",
    " "
   ]
  },
  {
   "cell_type": "code",
   "execution_count": 135,
   "id": "a6f90e21-2214-4e7e-943b-947309c1e700",
   "metadata": {},
   "outputs": [
    {
     "name": "stdin",
     "output_type": "stream",
     "text": [
      "Enter the annual income:  123\n"
     ]
    },
    {
     "name": "stdout",
     "output_type": "stream",
     "text": [
      "The tax is: 0.0 thalers\n"
     ]
    }
   ],
   "source": [
    "income = float(input(\"Enter the annual income: \"))\n",
    "\n",
    "if income < 85528:\n",
    "\ttax = income * 0.18 - 556.02\n",
    "else:\n",
    "\ttax = (income - 85528) * 0.32 + 14839.02\n",
    "\n",
    "if tax < 0.0:\n",
    "\ttax = 0.0\n",
    "\n",
    "tax = round(tax, 0)\n",
    "print(\"The tax is:\", tax, \"thalers\")"
   ]
  },
  {
   "cell_type": "markdown",
   "id": "27745a0f-af2e-4bec-9f87-c3f4580e4955",
   "metadata": {},
   "source": [
    "**LOOPS**"
   ]
  },
  {
   "cell_type": "code",
   "execution_count": 137,
   "id": "fd653e8b-a314-4376-9169-874221507d5b",
   "metadata": {},
   "outputs": [
    {
     "name": "stdin",
     "output_type": "stream",
     "text": [
      "Enter a number or type 0 to stop:  10\n",
      "Enter a number or type 0 to stop:  9\n",
      "Enter a number or type 0 to stop:  0\n"
     ]
    },
    {
     "name": "stdout",
     "output_type": "stream",
     "text": [
      "Odd numbers count: 1\n",
      "Even numbers count: 1\n"
     ]
    }
   ],
   "source": [
    "# A program that reads a sequence of numbers\n",
    "# and counts how many numbers are even and how many are odd.\n",
    "# The program terminates when zero is entered.\n",
    " \n",
    "odd_numbers = 0\n",
    "even_numbers = 0\n",
    " \n",
    "# Read the first number.\n",
    "number = int(input(\"Enter a number or type 0 to stop: \"))\n",
    " \n",
    "# 0 terminates execution.\n",
    "while number != 0:\n",
    "    # Check if the number is odd.\n",
    "    if number % 2 == 1:\n",
    "        # Increase the odd_numbers counter.\n",
    "        odd_numbers += 1\n",
    "    else:\n",
    "        # Increase the even_numbers counter.\n",
    "        even_numbers += 1\n",
    "    # Read the next number.\n",
    "    number = int(input(\"Enter a number or type 0 to stop: \"))\n",
    " \n",
    "# Print results.\n",
    "print(\"Odd numbers count:\", odd_numbers)\n",
    "print(\"Even numbers count:\", even_numbers)\n",
    " "
   ]
  },
  {
   "cell_type": "code",
   "execution_count": 44,
   "id": "3c4f01cb-b9d4-4318-ba7c-df757ee6c806",
   "metadata": {},
   "outputs": [
    {
     "name": "stdout",
     "output_type": "stream",
     "text": [
      "*\n",
      "*\n"
     ]
    }
   ],
   "source": [
    "i = 0\n",
    "while i <= 3 :\n",
    "    i += 2\n",
    "    print(\"*\")"
   ]
  },
  {
   "cell_type": "code",
   "execution_count": 46,
   "id": "07064aaf-26c9-405d-b6e9-8c924881dd55",
   "metadata": {},
   "outputs": [
    {
     "name": "stdout",
     "output_type": "stream",
     "text": [
      "*\n"
     ]
    }
   ],
   "source": [
    "i = 0\n",
    "while i <= 5 :\n",
    "    i += 1\n",
    "    if i % 2 == 0:\n",
    "      break\n",
    "    print(\"*\")"
   ]
  },
  {
   "cell_type": "code",
   "execution_count": 165,
   "id": "e2c6345c-40ef-4401-be4c-eb7368b6dbad",
   "metadata": {},
   "outputs": [
    {
     "name": "stdout",
     "output_type": "stream",
     "text": [
      "1\n",
      "2\n",
      "3\n",
      "4\n",
      "else: 5\n"
     ]
    }
   ],
   "source": [
    "i = 1\n",
    "while i < 5:\n",
    "    print(i)\n",
    "    i += 1\n",
    "else:\n",
    "    print(\"else:\", i)\n"
   ]
  },
  {
   "cell_type": "code",
   "execution_count": 139,
   "id": "52d769c8-7121-4a7f-8ad6-6d9b608066c6",
   "metadata": {},
   "outputs": [
    {
     "name": "stdout",
     "output_type": "stream",
     "text": [
      "The value of i is currently 0\n",
      "The value of i is currently 1\n",
      "The value of i is currently 2\n",
      "The value of i is currently 3\n",
      "The value of i is currently 4\n",
      "The value of i is currently 5\n",
      "The value of i is currently 6\n",
      "The value of i is currently 7\n",
      "The value of i is currently 8\n",
      "The value of i is currently 9\n"
     ]
    }
   ],
   "source": [
    "for i in range(10):\n",
    "    print(\"The value of i is currently\", i)"
   ]
  },
  {
   "cell_type": "code",
   "execution_count": 145,
   "id": "a63c0282-968b-42c5-a55d-13068c7fcb03",
   "metadata": {},
   "outputs": [
    {
     "name": "stdout",
     "output_type": "stream",
     "text": [
      "The value of i is currently 2\n",
      "The value of i is currently 3\n",
      "The value of i is currently 4\n",
      "The value of i is currently 5\n",
      "The value of i is currently 6\n",
      "The value of i is currently 7\n"
     ]
    }
   ],
   "source": [
    "for i in range(2, 8):\n",
    "    print(\"The value of i is currently\", i)"
   ]
  },
  {
   "cell_type": "code",
   "execution_count": 149,
   "id": "b659e3ca-d6d4-4b68-9581-f28eb15bd46e",
   "metadata": {},
   "outputs": [
    {
     "name": "stdout",
     "output_type": "stream",
     "text": [
      "The value of i is currently 2\n",
      "The value of i is currently 5\n"
     ]
    }
   ],
   "source": [
    "for i in range(2, 8, 3):\n",
    "    print(\"The value of i is currently\", i)\n"
   ]
  },
  {
   "cell_type": "code",
   "execution_count": 155,
   "id": "12fcfeec-7545-4959-8734-f9ca27a1bc81",
   "metadata": {},
   "outputs": [],
   "source": [
    "# EMPTY RANGE\n",
    "for i in range(1, 1):\n",
    "    print(\"The value of i is currently\", i)\n",
    " "
   ]
  },
  {
   "cell_type": "code",
   "execution_count": 161,
   "id": "d23e1cee-f9b0-4e52-a346-b22544bef82d",
   "metadata": {},
   "outputs": [
    {
     "name": "stdout",
     "output_type": "stream",
     "text": [
      "1\n",
      "0\n",
      "2 to the power of 0 is 1\n",
      "2\n",
      "1\n",
      "2 to the power of 1 is 2\n",
      "4\n",
      "2\n",
      "2 to the power of 2 is 4\n",
      "8\n",
      "3\n",
      "2 to the power of 3 is 8\n",
      "16\n",
      "4\n",
      "2 to the power of 4 is 16\n",
      "32\n",
      "5\n",
      "2 to the power of 5 is 32\n",
      "64\n",
      "6\n",
      "2 to the power of 6 is 64\n",
      "128\n",
      "7\n",
      "2 to the power of 7 is 128\n",
      "256\n",
      "8\n",
      "2 to the power of 8 is 256\n",
      "512\n",
      "9\n",
      "2 to the power of 9 is 512\n",
      "1024\n",
      "10\n",
      "2 to the power of 10 is 1024\n",
      "2048\n",
      "11\n",
      "2 to the power of 11 is 2048\n",
      "4096\n",
      "12\n",
      "2 to the power of 12 is 4096\n",
      "8192\n",
      "13\n",
      "2 to the power of 13 is 8192\n",
      "16384\n",
      "14\n",
      "2 to the power of 14 is 16384\n",
      "32768\n",
      "15\n",
      "2 to the power of 15 is 32768\n"
     ]
    }
   ],
   "source": [
    "power = 1\n",
    "for expo in range(16):\n",
    "    print(power)\n",
    "    print(expo)\n",
    "    print(\"2 to the power of\", expo, \"is\", power)\n",
    "    power *= 2\n"
   ]
  },
  {
   "cell_type": "markdown",
   "id": "0b377635-0908-4d71-8f37-42e53d7810ac",
   "metadata": {},
   "source": [
    "after exiting the loop, the else statement is executed"
   ]
  },
  {
   "cell_type": "code",
   "execution_count": 55,
   "id": "4b5ad5ba-8d6a-4b0f-9059-9611a6a903c6",
   "metadata": {},
   "outputs": [
    {
     "name": "stdout",
     "output_type": "stream",
     "text": [
      "#\n",
      "#\n",
      "#\n"
     ]
    }
   ],
   "source": [
    "var = 0\n",
    "while var < 6:\n",
    "    var += 1\n",
    "    if var % 2 == 0:\n",
    "        continue\n",
    "    print(\"#\")\n",
    " "
   ]
  },
  {
   "cell_type": "code",
   "execution_count": 120,
   "id": "6866f8e5-6d81-48f5-93f7-d3bf4a714e74",
   "metadata": {},
   "outputs": [
    {
     "name": "stdout",
     "output_type": "stream",
     "text": [
      "1\n",
      "#\n",
      "2\n",
      "#\n",
      "4\n",
      "#\n",
      "8\n",
      "#\n"
     ]
    }
   ],
   "source": [
    "var = 1\n",
    "while var < 10:\n",
    "    print(var)\n",
    "    print(\"#\")\n",
    "    var = var << 1"
   ]
  },
  {
   "cell_type": "code",
   "execution_count": 163,
   "id": "792edfd4-0706-4827-a654-1d9471bdcce9",
   "metadata": {},
   "outputs": [
    {
     "name": "stdout",
     "output_type": "stream",
     "text": [
      "#\n",
      "#\n"
     ]
    }
   ],
   "source": [
    "for i in range(1):\n",
    "    print(\"#\")\n",
    "else:\n",
    "    print(\"#\")\n",
    " "
   ]
  },
  {
   "cell_type": "code",
   "execution_count": 167,
   "id": "eef8ed55-6300-483a-9d5e-1f348c81dfeb",
   "metadata": {},
   "outputs": [
    {
     "name": "stdout",
     "output_type": "stream",
     "text": [
      "0\n",
      "1\n",
      "2\n",
      "3\n",
      "4\n",
      "else: 4\n"
     ]
    }
   ],
   "source": [
    "for i in range(5):\n",
    "    print(i)\n",
    "else:\n",
    "    print(\"else:\", i)\n"
   ]
  },
  {
   "cell_type": "code",
   "execution_count": 185,
   "id": "d64c3a8e-ed90-4f5b-af01-f13d75bf7f26",
   "metadata": {},
   "outputs": [
    {
     "name": "stdout",
     "output_type": "stream",
     "text": [
      "else: None\n"
     ]
    }
   ],
   "source": [
    "i = None\n",
    "for i in range(2, 1):\n",
    "    print(i)\n",
    "else:\n",
    "    print(\"else:\", i)\n",
    "\n"
   ]
  },
  {
   "cell_type": "code",
   "execution_count": 189,
   "id": "15c2b1e2-05df-4e22-ab67-52a6cd62ecb6",
   "metadata": {},
   "outputs": [
    {
     "name": "stdout",
     "output_type": "stream",
     "text": [
      "2\n",
      "4\n",
      "6\n",
      "8\n"
     ]
    }
   ],
   "source": [
    "for i in range(1, 10):\n",
    "    if i % 2 == 0:\n",
    "        print(i)\n",
    " "
   ]
  },
  {
   "cell_type": "code",
   "execution_count": 193,
   "id": "aa120504-e396-4641-9ff6-97e760e73ce8",
   "metadata": {},
   "outputs": [
    {
     "name": "stdout",
     "output_type": "stream",
     "text": [
      "P*y*t*h*o*n*"
     ]
    }
   ],
   "source": [
    "word = \"Python\"\n",
    "for letter in word:\n",
    "    print(letter, end=\"*\")"
   ]
  },
  {
   "cell_type": "code",
   "execution_count": 201,
   "id": "ec3594b6-5d72-4f61-a600-0ae8938db345",
   "metadata": {},
   "outputs": [
    {
     "name": "stdout",
     "output_type": "stream",
     "text": [
      "0\n",
      "1\n",
      "2\n",
      "3 else\n"
     ]
    }
   ],
   "source": [
    "n = 0\n",
    "while n != 3:\n",
    "    print(n)\n",
    "    n += 1\n",
    "else:\n",
    "    print(n, \"else\")"
   ]
  },
  {
   "cell_type": "code",
   "execution_count": 199,
   "id": "ffa05897-0178-4746-a11d-d04198ef596f",
   "metadata": {},
   "outputs": [
    {
     "name": "stdout",
     "output_type": "stream",
     "text": [
      "0\n",
      "1\n",
      "2\n",
      "2 else\n"
     ]
    }
   ],
   "source": [
    "for i in range(0, 3):\n",
    "    print(i)\n",
    "else:\n",
    "    print(i, \"else\")"
   ]
  },
  {
   "cell_type": "code",
   "execution_count": 209,
   "id": "bddfd33a-6f02-4702-88d0-b4262ff89f23",
   "metadata": {},
   "outputs": [
    {
     "name": "stdout",
     "output_type": "stream",
     "text": [
      "0 1 2 "
     ]
    }
   ],
   "source": [
    "for i in range(3):\n",
    "    print(i, end=\" \")  # Outputs: 0 1 2"
   ]
  },
  {
   "cell_type": "code",
   "execution_count": 207,
   "id": "911c4cc0-afa5-4156-a552-4e7fafc7904d",
   "metadata": {},
   "outputs": [
    {
     "name": "stdout",
     "output_type": "stream",
     "text": [
      "6->4->2->"
     ]
    }
   ],
   "source": [
    "for i in range(6, 1, -2):\n",
    "    print(i, end=\"->\")  # Outputs: 6, 4, 2"
   ]
  },
  {
   "cell_type": "markdown",
   "id": "a22dda6f-a902-438f-ae94-e4d669b5dea2",
   "metadata": {},
   "source": [
    "**Collatz Sequence**"
   ]
  },
  {
   "cell_type": "code",
   "execution_count": 8,
   "id": "cb596559-db20-46de-9516-11464074936f",
   "metadata": {},
   "outputs": [
    {
     "name": "stdin",
     "output_type": "stream",
     "text": [
      "Enter a natural number (non-zero positive integer):  99\n"
     ]
    },
    {
     "name": "stdout",
     "output_type": "stream",
     "text": [
      "Starting with: 99\n",
      "298\n",
      "149\n",
      "448\n",
      "224\n",
      "112\n",
      "56\n",
      "28\n",
      "14\n",
      "7\n",
      "22\n",
      "11\n",
      "34\n",
      "17\n",
      "52\n",
      "26\n",
      "13\n",
      "40\n",
      "20\n",
      "10\n",
      "5\n",
      "16\n",
      "8\n",
      "4\n",
      "2\n",
      "1\n",
      "Total steps: 25\n"
     ]
    }
   ],
   "source": [
    "def collatz_sequence():\n",
    "    try:\n",
    "        c0 = int(input(\"Enter a natural number (non-zero positive integer): \"))\n",
    "        if c0 <= 0:\n",
    "            print(\"The number must be a natural number (greater than 0).\")\n",
    "            return\n",
    "\n",
    "        steps = 0\n",
    "        print(f\"Starting with: {c0}\")\n",
    "\n",
    "        while c0 != 1:\n",
    "            if c0 % 2 == 0:\n",
    "                c0 = c0 // 2\n",
    "            else:\n",
    "                c0 = 3 * c0 + 1\n",
    "            print(c0)\n",
    "            steps += 1\n",
    "\n",
    "        print(f\"Total steps: {steps}\")\n",
    "\n",
    "    except ValueError:\n",
    "        print(\"Invalid input. Please enter a natural number.\")\n",
    "\n",
    "# Run the program\n",
    "collatz_sequence()\n"
   ]
  },
  {
   "cell_type": "markdown",
   "id": "432d9f89-2968-48f9-bd0a-78b2f70715bd",
   "metadata": {},
   "source": [
    "**Logical and bit operations**"
   ]
  },
  {
   "cell_type": "code",
   "execution_count": 122,
   "id": "253c36c0-838a-424e-9dfe-51f204415094",
   "metadata": {},
   "outputs": [
    {
     "name": "stdout",
     "output_type": "stream",
     "text": [
      "True\n"
     ]
    }
   ],
   "source": [
    "z = 10\n",
    "y = 0\n",
    "x = (y < z and z > y) or (y > z and z < y)\n",
    "print(x)"
   ]
  },
  {
   "cell_type": "code",
   "execution_count": 65,
   "id": "d0392439-9242-445f-bae0-bbea876f31f7",
   "metadata": {},
   "outputs": [
    {
     "name": "stdout",
     "output_type": "stream",
     "text": [
      "2\n"
     ]
    }
   ],
   "source": [
    "a = 1\n",
    "b = 0\n",
    "c = a & b\n",
    "d = a | b\n",
    "e = a ^ b\n",
    " \n",
    "print(c + d + e)"
   ]
  },
  {
   "cell_type": "code",
   "execution_count": 13,
   "id": "25f8c5c8-1eca-4c47-bc37-a2663ed28953",
   "metadata": {},
   "outputs": [
    {
     "name": "stdout",
     "output_type": "stream",
     "text": [
      "22\n",
      "i = 15 -> binary: 0b1111\n",
      "j = 22 -> binary: 0b10110\n",
      "i and j = 22 -> binary: 0b10110\n"
     ]
    }
   ],
   "source": [
    "i = 15\n",
    "j = 22\n",
    "log = i and j\n",
    "print(log)\n",
    "# Print values in decimal and binary\n",
    "print(f\"i = {i} -> binary: {bin(i)}\")\n",
    "print(f\"j = {j} -> binary: {bin(j)}\")\n",
    "print(f\"i and j = {log} -> binary: {bin(log)}\")"
   ]
  },
  {
   "cell_type": "code",
   "execution_count": 17,
   "id": "3f27a581-90b2-4ec4-880b-7b37f4e0eed8",
   "metadata": {},
   "outputs": [
    {
     "name": "stdout",
     "output_type": "stream",
     "text": [
      "i          =  15 -> binary: 00001111\n",
      "j          =  22 -> binary: 00010110\n",
      "i and j    =  22 -> binary: 00010110 (logical AND)\n",
      "i & j      =   6 -> binary: 00000110 (bitwise AND)\n"
     ]
    }
   ],
   "source": [
    "i = 15\n",
    "j = 22\n",
    "\n",
    "# Logical AND (returns j because i is non-zero)\n",
    "logical_result = i and j\n",
    "\n",
    "# Bitwise AND (compares bits)\n",
    "bitwise_result = i & j\n",
    "print(f\"i          = {i:3} -> binary: {format(i, '08b')}\")\n",
    "print(f\"j          = {j:3} -> binary: {format(j, '08b')}\")\n",
    "print(f\"i and j    = {logical_result:3} -> binary: {format(logical_result, '08b')} (logical AND)\")\n",
    "print(f\"i & j      = {bitwise_result:3} -> binary: {format(bitwise_result, '08b')} (bitwise AND)\")"
   ]
  },
  {
   "cell_type": "markdown",
   "id": "b2d5b588-d61e-4afd-b824-50b509813b6a",
   "metadata": {},
   "source": [
    "**XOR Operator**"
   ]
  },
  {
   "cell_type": "code",
   "execution_count": 19,
   "id": "fef4fb80-a19c-4de9-bbb7-864ed9029166",
   "metadata": {},
   "outputs": [
    {
     "name": "stdout",
     "output_type": "stream",
     "text": [
      "00001100 (a)\n",
      "00001010 (b)\n",
      "00000110 (a ^ b)\n"
     ]
    }
   ],
   "source": [
    "a = 12        # 1100\n",
    "b = 10        # 1010\n",
    "\n",
    "result = a ^ b  # 0110 = 6\n",
    "\n",
    "print(f\"{a:08b} (a)\")\n",
    "print(f\"{b:08b} (b)\")\n",
    "print(f\"{result:08b} (a ^ b)\")"
   ]
  },
  {
   "cell_type": "markdown",
   "id": "04fd2286-fd75-429a-90cd-62a093ae91ce",
   "metadata": {},
   "source": [
    "**Binary left shift and binary right shift**"
   ]
  },
  {
   "cell_type": "code",
   "execution_count": 21,
   "id": "fc823681-9746-44ed-a580-77c0973e885a",
   "metadata": {},
   "outputs": [
    {
     "name": "stdout",
     "output_type": "stream",
     "text": [
      "17 68 8\n"
     ]
    }
   ],
   "source": [
    "var = 17\n",
    "var_right = var >> 1\n",
    "var_left = var << 2\n",
    "print(var, var_left, var_right)"
   ]
  },
  {
   "cell_type": "markdown",
   "id": "0e180d4c-4728-4223-9a72-095ecbf5de8f",
   "metadata": {},
   "source": [
    "**Logican and bitwise**"
   ]
  },
  {
   "cell_type": "code",
   "execution_count": 24,
   "id": "1d992930-ae61-426e-9573-05abcc60345d",
   "metadata": {},
   "outputs": [
    {
     "name": "stdout",
     "output_type": "stream",
     "text": [
      "False\n"
     ]
    }
   ],
   "source": [
    "x = 1\n",
    "y = 0\n",
    " \n",
    "z = ((x == y) and (x == y)) or not(x == y)\n",
    "print(not(z))"
   ]
  },
  {
   "cell_type": "code",
   "execution_count": 27,
   "id": "f9a13adc-5288-4039-bb6e-f771b1b0f0ff",
   "metadata": {},
   "outputs": [
    {
     "name": "stdout",
     "output_type": "stream",
     "text": [
      "0 5 -5 1 1 16\n"
     ]
    }
   ],
   "source": [
    "x = 4\n",
    "y = 1\n",
    " \n",
    "a = x & y\n",
    "b = x | y\n",
    "c = ~x  # tricky!\n",
    "d = x ^ 5\n",
    "e = x >> 2\n",
    "f = x << 2\n",
    " \n",
    "print(a, b, c, d, e, f)"
   ]
  },
  {
   "cell_type": "markdown",
   "id": "cb3b6fe2-6970-4379-bbcf-9c5e8f9f6f49",
   "metadata": {},
   "source": [
    "**Lists**"
   ]
  },
  {
   "cell_type": "code",
   "execution_count": 89,
   "id": "ad1faf66-9472-44cf-87cd-b60689aa29f3",
   "metadata": {},
   "outputs": [
    {
     "name": "stdout",
     "output_type": "stream",
     "text": [
      "[2, 1, 0]\n"
     ]
    }
   ],
   "source": [
    "vals = [0, 1, 2]\n",
    "vals[0], vals[2] = vals[2], vals[0]\n",
    "print(vals)"
   ]
  },
  {
   "cell_type": "code",
   "execution_count": 93,
   "id": "8c6cea84-bc53-4f71-b69f-c51c46370e25",
   "metadata": {},
   "outputs": [
    {
     "name": "stdout",
     "output_type": "stream",
     "text": [
      "[1, 1, 2]\n"
     ]
    }
   ],
   "source": [
    "vals = [0, 1, 2]\n",
    "vals.insert(0, 1)\n",
    "del vals[1]\n",
    "print(vals)"
   ]
  },
  {
   "cell_type": "code",
   "execution_count": 95,
   "id": "c718ba66-e38c-4b15-960b-75996e069255",
   "metadata": {},
   "outputs": [
    {
     "name": "stdout",
     "output_type": "stream",
     "text": [
      "[1, 3]\n",
      "[1, 3]\n"
     ]
    }
   ],
   "source": [
    "nums = [1, 2, 3]\n",
    "vals = nums\n",
    "del vals[1:2]\n",
    "print(nums)\n",
    "print(vals)"
   ]
  },
  {
   "cell_type": "code",
   "execution_count": 97,
   "id": "1c419de2-476d-449a-b16f-ad157e6ada87",
   "metadata": {},
   "outputs": [
    {
     "name": "stdout",
     "output_type": "stream",
     "text": [
      "[1, 2, 3]\n",
      "[]\n"
     ]
    }
   ],
   "source": [
    "nums = [1, 2, 3]\n",
    "vals = nums[-1:-2]\n",
    "print(nums)\n",
    "print(vals)"
   ]
  },
  {
   "cell_type": "code",
   "execution_count": 101,
   "id": "568bec03-1eb2-4157-a212-cbf0a11204e5",
   "metadata": {},
   "outputs": [
    {
     "name": "stdout",
     "output_type": "stream",
     "text": [
      "[1]\n",
      "[2, 1]\n",
      "[3, 2, 1]\n",
      "[3, 2, 1]\n"
     ]
    }
   ],
   "source": [
    "my_list_1 = [1, 2, 3]\n",
    "my_list_2 = []\n",
    "for v in my_list_1:\n",
    "    my_list_2.insert(0, v)\n",
    "    print(my_list_2)    \n",
    "print(my_list_2)\n",
    " "
   ]
  },
  {
   "cell_type": "code",
   "execution_count": 103,
   "id": "9aac7454-d66b-419c-a45f-697669be8907",
   "metadata": {},
   "outputs": [
    {
     "name": "stdout",
     "output_type": "stream",
     "text": [
      "[1, 1, 1, 1, 2, 3]\n"
     ]
    }
   ],
   "source": [
    "my_list = [1, 2, 3]\n",
    "for v in range(len(my_list)):\n",
    "    my_list.insert(1, my_list[v])\n",
    "print(my_list)\n",
    " "
   ]
  },
  {
   "cell_type": "code",
   "execution_count": 107,
   "id": "08adaeca-d648-48e3-8543-4b7acb3f3b83",
   "metadata": {},
   "outputs": [
    {
     "name": "stdout",
     "output_type": "stream",
     "text": [
      "[-1, 0, 1]\n"
     ]
    }
   ],
   "source": [
    "my_list = [i for i in range(-1, 2)]\n",
    "print(my_list)"
   ]
  },
  {
   "cell_type": "code",
   "execution_count": 115,
   "id": "587dd160-9cf9-425e-8fee-c00d6418cae7",
   "metadata": {},
   "outputs": [
    {
     "name": "stdout",
     "output_type": "stream",
     "text": [
      "[[3, 2, 1], [3, 2, 1], [3, 2, 1]]\n",
      "3\n",
      "5\n",
      "6\n",
      "6\n"
     ]
    }
   ],
   "source": [
    "t = [[3-i for i in range (3)] for j in range (3)]\n",
    "print(t)\n",
    "s = 0\n",
    "for i in range(3):\n",
    "    s += t[i][i]\n",
    "    print(s)    \n",
    "print(s)\n",
    " "
   ]
  },
  {
   "cell_type": "markdown",
   "id": "4842884e-9633-4f60-bfd5-df224d4a1337",
   "metadata": {},
   "source": [
    "- Creates a 3×3 2D matrix using nested list comprehensions\n",
    "- When i = 0 → 3 - 0 = 3\n",
    "- When i = 1 → 3 - 1 = 2\n",
    "- When i = 2 → 3 - 2 = 1"
   ]
  },
  {
   "cell_type": "code",
   "execution_count": 129,
   "id": "0c863a0f-d6c2-4f92-80ca-5f2ddb8839fb",
   "metadata": {},
   "outputs": [
    {
     "name": "stdout",
     "output_type": "stream",
     "text": [
      "[[0, 1, 2, 3], [0, 1, 2, 3], [0, 1, 2, 3], [0, 1, 2, 3], [0, 1, 2, 3]]\n",
      "0\n"
     ]
    }
   ],
   "source": [
    "my_list = [[0, 1, 2, 3] for i in range(5)]\n",
    "print(my_list)\n",
    "print(my_list[2][0])"
   ]
  },
  {
   "cell_type": "code",
   "execution_count": 85,
   "id": "a243a6dd-8946-4376-a3ee-fa9b0575acc8",
   "metadata": {},
   "outputs": [
    {
     "name": "stdout",
     "output_type": "stream",
     "text": [
      "[2]\n"
     ]
    }
   ],
   "source": [
    "my_list = [1, 2, 3, 4]\n",
    "print(my_list[-3:-2])"
   ]
  },
  {
   "cell_type": "code",
   "execution_count": 83,
   "id": "262094d0-244c-48e2-827a-17c567ee79b1",
   "metadata": {},
   "outputs": [
    {
     "name": "stdout",
     "output_type": "stream",
     "text": [
      "-2\n",
      "1\n",
      "1\n"
     ]
    }
   ],
   "source": [
    "my_list = [3, 1, -2]\n",
    "print(my_list[-1])\n",
    "print(my_list[-2])\n",
    "print(my_list[my_list[-1]])\n",
    " "
   ]
  },
  {
   "cell_type": "code",
   "execution_count": 36,
   "id": "3f0c2713-7572-49ce-be51-31d8080dd5ff",
   "metadata": {},
   "outputs": [
    {
     "name": "stdout",
     "output_type": "stream",
     "text": [
      "[[0, 0, 0, 0, 0, 0, 0, 0], [0, 0, 0, 0, 0, 0, 0, 0], [0, 0, 0, 0, 0, 0, 0, 0], [0, 0, 0, 0, 0, 0, 0, 0], [0, 0, 0, 0, 0, 0, 0, 0], [0, 0, 0, 0, 0, 0, 0, 0], [0, 0, 0, 0, 0, 0, 0, 0], [0, 0, 0, 0, 0, 0, 0, 0]]\n"
     ]
    }
   ],
   "source": [
    "EMPTY_CELL = 0\n",
    "board = [[EMPTY_CELL for i in range(8)] for j in range(8)]\n",
    "print(board)"
   ]
  },
  {
   "cell_type": "code",
   "execution_count": 38,
   "id": "9b0ebbc3-5c1d-4821-a235-a281c36fe771",
   "metadata": {},
   "outputs": [
    {
     "name": "stdout",
     "output_type": "stream",
     "text": [
      "[[':(', ':)', ':(', ':)'], [':)', ':(', ':)', ':)'], [':(', ':)', ':)', ':('], [':)', ':)', ':)', ':(']]\n",
      ":(\n",
      ":)\n"
     ]
    }
   ],
   "source": [
    "table = [[\":(\", \":)\", \":(\", \":)\"],\n",
    "         [\":)\", \":(\", \":)\", \":)\"],\n",
    "         [\":(\", \":)\", \":)\", \":(\"],\n",
    "         [\":)\", \":)\", \":)\", \":(\"]]\n",
    " \n",
    "print(table)\n",
    "print(table[0][0])  # outputs: ':('\n",
    "print(table[0][3])  # outputs: ':)'"
   ]
  },
  {
   "cell_type": "code",
   "execution_count": 40,
   "id": "f513d0bb-0edc-4f77-9b20-7d35822b9c2b",
   "metadata": {},
   "outputs": [
    {
     "name": "stdout",
     "output_type": "stream",
     "text": [
      "[[[':(', 'x', 'x'], [':)', 'x', 'x'], [':(', 'x', 'x']], [[':)', 'x', 'x'], [':(', 'x', 'x'], [':)', 'x', 'x']], [[':(', 'x', 'x'], [':)', 'x', 'x'], [':)', 'x', 'x']]]\n",
      ":(\n",
      ":)\n"
     ]
    }
   ],
   "source": [
    "cube = [[[':(', 'x', 'x'],\n",
    "         [':)', 'x', 'x'],\n",
    "         [':(', 'x', 'x']],\n",
    " \n",
    "        [[':)', 'x', 'x'],\n",
    "         [':(', 'x', 'x'],\n",
    "         [':)', 'x', 'x']],\n",
    " \n",
    "        [[':(', 'x', 'x'],\n",
    "         [':)', 'x', 'x'],\n",
    "         [':)', 'x', 'x']]]\n",
    " \n",
    "print(cube)\n",
    "print(cube[0][0][0])  # outputs: ':('\n",
    "print(cube[2][2][0])  # outputs: ':)'"
   ]
  },
  {
   "cell_type": "code",
   "execution_count": 117,
   "id": "170efd35-2ba1-4f31-888d-871ef690e888",
   "metadata": {},
   "outputs": [
    {
     "ename": "IndexError",
     "evalue": "list index out of range",
     "output_type": "error",
     "traceback": [
      "\u001b[1;31m---------------------------------------------------------------------------\u001b[0m",
      "\u001b[1;31mIndexError\u001b[0m                                Traceback (most recent call last)",
      "Cell \u001b[1;32mIn[117], line 2\u001b[0m\n\u001b[0;32m      1\u001b[0m my_list \u001b[38;5;241m=\u001b[39m [[\u001b[38;5;241m0\u001b[39m, \u001b[38;5;241m1\u001b[39m, \u001b[38;5;241m2\u001b[39m, \u001b[38;5;241m3\u001b[39m] \u001b[38;5;28;01mfor\u001b[39;00m i \u001b[38;5;129;01min\u001b[39;00m \u001b[38;5;28mrange\u001b[39m(\u001b[38;5;241m2\u001b[39m)]\n\u001b[1;32m----> 2\u001b[0m \u001b[38;5;28mprint\u001b[39m(my_list[\u001b[38;5;241m2\u001b[39m][\u001b[38;5;241m0\u001b[39m])\n",
      "\u001b[1;31mIndexError\u001b[0m: list index out of range"
     ]
    }
   ],
   "source": [
    "my_list = [[0, 1, 2, 3] for i in range(2)]\n",
    "print(my_list[2][0])\n",
    "\n"
   ]
  }
 ],
 "metadata": {
  "kernelspec": {
   "display_name": "Python [conda env:base] *",
   "language": "python",
   "name": "conda-base-py"
  },
  "language_info": {
   "codemirror_mode": {
    "name": "ipython",
    "version": 3
   },
   "file_extension": ".py",
   "mimetype": "text/x-python",
   "name": "python",
   "nbconvert_exporter": "python",
   "pygments_lexer": "ipython3",
   "version": "3.11.11"
  }
 },
 "nbformat": 4,
 "nbformat_minor": 5
}
