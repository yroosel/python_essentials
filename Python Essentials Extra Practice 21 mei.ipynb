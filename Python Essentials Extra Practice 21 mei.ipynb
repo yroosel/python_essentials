{
 "cells": [
  {
   "cell_type": "markdown",
   "id": "29d13ddb-0471-4361-a300-f97e5bfc523f",
   "metadata": {},
   "source": [
    "# Praktijkvoorbeelden 21 mei"
   ]
  }
 ],
 "metadata": {
  "kernelspec": {
   "display_name": "Python [conda env:base] *",
   "language": "python",
   "name": "conda-base-py"
  },
  "language_info": {
   "codemirror_mode": {
    "name": "ipython",
    "version": 3
   },
   "file_extension": ".py",
   "mimetype": "text/x-python",
   "name": "python",
   "nbconvert_exporter": "python",
   "pygments_lexer": "ipython3",
   "version": "3.11.11"
  }
 },
 "nbformat": 4,
 "nbformat_minor": 5
}
