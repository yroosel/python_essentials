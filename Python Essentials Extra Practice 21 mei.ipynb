{
 "cells": [
  {
   "cell_type": "markdown",
   "id": "29d13ddb-0471-4361-a300-f97e5bfc523f",
   "metadata": {},
   "source": [
    "# Praktijkvoorbeelden 21 mei"
   ]
  },
  {
   "cell_type": "markdown",
   "id": "39d4c3f6-a3d3-4233-b2de-1530ca3274ae",
   "metadata": {},
   "source": [
    "**Loops and Lists Summary**\n",
    "\n",
    "- **for** loop: Use this to process a known number of items, such as elements in a list, records from a table, or lines from a text file. Before the loop starts, you typically know how many items will be processed.\n",
    "\n",
    "- **while** loop: Use this when the number of iterations is unknown in advance, such as when processing a data stream or waiting for a condition to be met. The loop continues as long as the condition remains true. It is important to include a termination condition in a while loop to prevent it from running forever. This ensures the loop will eventually stop when the desired outcome is achieved."
   ]
  }
 ],
 "metadata": {
  "kernelspec": {
   "display_name": "Python [conda env:base] *",
   "language": "python",
   "name": "conda-base-py"
  },
  "language_info": {
   "codemirror_mode": {
    "name": "ipython",
    "version": 3
   },
   "file_extension": ".py",
   "mimetype": "text/x-python",
   "name": "python",
   "nbconvert_exporter": "python",
   "pygments_lexer": "ipython3",
   "version": "3.11.11"
  }
 },
 "nbformat": 4,
 "nbformat_minor": 5
}
