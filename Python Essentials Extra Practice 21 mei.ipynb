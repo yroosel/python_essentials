{
 "cells": [
  {
   "cell_type": "markdown",
   "id": "29d13ddb-0471-4361-a300-f97e5bfc523f",
   "metadata": {},
   "source": [
    "# Praktijkvoorbeelden 21 mei"
   ]
  },
  {
   "cell_type": "markdown",
   "id": "39d4c3f6-a3d3-4233-b2de-1530ca3274ae",
   "metadata": {},
   "source": [
    "**Loops and Lists Summary**\n",
    "\n",
    "- **for** loop: Use this to process a known number of items, such as elements in a list, records from a table, or lines from a text file. Before the loop starts, you typically know how many items will be processed.\n",
    "\n",
    "- **while** loop: Use this when the number of iterations is unknown in advance, such as when processing a data stream or waiting for a condition to be met. The loop continues as long as the condition remains true. It is important to include a termination condition in a while loop to prevent it from running forever. This ensures the loop will eventually stop when the desired outcome is achieved."
   ]
  },
  {
   "cell_type": "markdown",
   "id": "c9ab3aeb-7b70-4059-b84b-4a27f846a491",
   "metadata": {},
   "source": [
    "**Streaming data**\n",
    "\n",
    "Here’s a Python script that reads streaming data (e.g., from standard input) line by line until EOF (End of File) is reached — for example, when you press Ctrl+D (on Linux/macOS) or Ctrl+Z then Enter (on Windows) in the terminal.\n",
    "\n",
    "A **while loop** is a very natural way to read streaming input until EOF. \n",
    "\n",
    "You can simulate an EOF condition in interactive input by treating the string \"EOF\" as a custom signal to stop the loop — this doesn't trigger a real EOFError, but you can program your code to break the loop when the user types \"EOF\"."
   ]
  },
  {
   "cell_type": "code",
   "execution_count": 5,
   "id": "e8770077-c789-463b-bea3-1782c044c4e6",
   "metadata": {},
   "outputs": [
    {
     "name": "stdout",
     "output_type": "stream",
     "text": [
      "Enter your data (type 'EOF' to stop):\n",
      "\n"
     ]
    },
    {
     "name": "stdin",
     "output_type": "stream",
     "text": [
      " Yvan Rooseleer\n",
      " Gravenbosstraat 134\n",
      " 1770 Liedekerke\n",
      " EOF\n"
     ]
    },
    {
     "name": "stdout",
     "output_type": "stream",
     "text": [
      "\n",
      "--- Data Received ---\n",
      "1: Yvan Rooseleer\n",
      "2: Gravenbosstraat 134\n",
      "3: 1770 Liedekerke\n"
     ]
    }
   ],
   "source": [
    "# EOF simulated by entering \"EOF\"\n",
    "print(\"Enter your data (type 'EOF' to stop):\\n\")\n",
    "\n",
    "data = []\n",
    "\n",
    "while True:\n",
    "    line = input()\n",
    "    if line.strip().upper() == \"EOF\":\n",
    "        break  # Simulate end of input\n",
    "    if line.strip():  # Optional: skip empty lines\n",
    "        data.append(line)\n",
    "\n",
    "print(\"\\n--- Data Received ---\")\n",
    "for i, entry in enumerate(data, start=1):\n",
    "    print(f\"{i}: {entry}\")\n"
   ]
  }
 ],
 "metadata": {
  "kernelspec": {
   "display_name": "Python [conda env:base] *",
   "language": "python",
   "name": "conda-base-py"
  },
  "language_info": {
   "codemirror_mode": {
    "name": "ipython",
    "version": 3
   },
   "file_extension": ".py",
   "mimetype": "text/x-python",
   "name": "python",
   "nbconvert_exporter": "python",
   "pygments_lexer": "ipython3",
   "version": "3.11.11"
  }
 },
 "nbformat": 4,
 "nbformat_minor": 5
}
