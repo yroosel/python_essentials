{
 "cells": [
  {
   "cell_type": "markdown",
   "id": "29d13ddb-0471-4361-a300-f97e5bfc523f",
   "metadata": {},
   "source": [
    "# Praktijkvoorbeelden 21 mei"
   ]
  },
  {
   "cell_type": "markdown",
   "id": "39d4c3f6-a3d3-4233-b2de-1530ca3274ae",
   "metadata": {},
   "source": [
    "## Loops and Lists Summary\n",
    "\n",
    "- **for** loop: Use this to process a known number of items, such as elements in a list, records from a table, or lines from a text file. Before the loop starts, you typically know how many items will be processed.\n",
    "\n",
    "- **while** loop: Use this when the number of iterations is unknown in advance, such as when processing a data stream or waiting for a condition to be met. The loop continues as long as the condition remains true. It is important to include a termination condition in a while loop to prevent it from running forever. This ensures the loop will eventually stop when the desired outcome is achieved."
   ]
  },
  {
   "cell_type": "markdown",
   "id": "c9ab3aeb-7b70-4059-b84b-4a27f846a491",
   "metadata": {},
   "source": [
    "## Streaming data\n",
    "\n",
    "A **while loop** is a very natural way to read streaming input until EOF. \n",
    "\n",
    "Here’s a Python script that reads streaming data (e.g., from standard input) line by line until EOF (End of File) is reached — for example, when you press Ctrl+D (on Linux/macOS) or Ctrl+Z then Enter (on Windows) in the terminal.\n",
    "\n",
    "You can simulate an EOF condition in interactive input by treating the string \"EOF\" as a custom signal to stop the loop — this doesn't trigger a real EOFError, but you can program your code to break the loop when the user types \"EOF\"."
   ]
  },
  {
   "cell_type": "code",
   "execution_count": 18,
   "id": "e8770077-c789-463b-bea3-1782c044c4e6",
   "metadata": {},
   "outputs": [
    {
     "name": "stdout",
     "output_type": "stream",
     "text": [
      "Enter your data (type 'EOF' to stop):\n",
      "\n"
     ]
    },
    {
     "name": "stdin",
     "output_type": "stream",
     "text": [
      " 25\n",
      " 20\n",
      " 39\n",
      " 12\n",
      " EOF\n"
     ]
    },
    {
     "name": "stdout",
     "output_type": "stream",
     "text": [
      "\n",
      "--- Data Received ---\n",
      "1: 25\n",
      "2: 20\n",
      "3: 39\n",
      "4: 12\n"
     ]
    }
   ],
   "source": [
    "# END-OF_FILE  simulated by entering \"EOF\"\n",
    "print(\"Enter your data (type 'EOF' to stop):\\n\")\n",
    "\n",
    "data = []\n",
    "\n",
    "while True:\n",
    "    line = input()\n",
    "    if line.strip().upper() == \"EOF\":\n",
    "        break  # Simulate end of input\n",
    "    if line.strip():  # Optional: skip empty lines\n",
    "        data.append(line)\n",
    "\n",
    "print(\"\\n--- Data Received ---\")\n",
    "for i, list_item in enumerate(data, start=1):\n",
    "    print(f\"{i}: {list_item}\")\n"
   ]
  },
  {
   "cell_type": "code",
   "execution_count": 3,
   "id": "906dfbb7-389a-4d3c-b456-8c6bc8eee5dc",
   "metadata": {},
   "outputs": [
    {
     "name": "stdout",
     "output_type": "stream",
     "text": [
      "Enter your data (type 'EOF' to stop):\n",
      "\n"
     ]
    },
    {
     "name": "stdin",
     "output_type": "stream",
     "text": [
      " 123\n",
      " 519\n",
      " 759\n",
      " 456\n",
      " 259\n",
      " -1\n"
     ]
    },
    {
     "name": "stdout",
     "output_type": "stream",
     "text": [
      "\n",
      "--- Data Received ---\n",
      "1: 123\n",
      "2: 519\n",
      "3: 759\n",
      "4: 456\n",
      "5: 259\n"
     ]
    }
   ],
   "source": [
    "# NUMERIEKE INPUT VERPLICHT\n",
    "# END-OF_FILE  simulated by entering \"-1\"\n",
    "print(\"Enter your data (type 'EOF' to stop):\\n\")\n",
    "\n",
    "data = []\n",
    "\n",
    "while True:\n",
    "    line = int(input())\n",
    "    if line == -1:\n",
    "        break  # Simulate end of input\n",
    "    if line:  # Optional: skip empty lines\n",
    "        data.append(line)\n",
    "\n",
    "print(\"\\n--- Data Received ---\")\n",
    "for i, list_item in enumerate(data, start=1):\n",
    "    print(f\"{i}: {list_item}\")"
   ]
  },
  {
   "cell_type": "code",
   "execution_count": 5,
   "id": "f544b8ef-e53e-4123-aae4-5c47706aef6c",
   "metadata": {},
   "outputs": [
    {
     "name": "stdout",
     "output_type": "stream",
     "text": [
      "[123, 519, 759, 456, 259]\n",
      "First element:  123\n",
      "Second element:  519\n",
      "Last element:  259\n",
      "Total number: 5\n"
     ]
    }
   ],
   "source": [
    "print(data)\n",
    "print(\"First element: \", data[0])\n",
    "print(\"Second element: \", data[1])\n",
    "print(\"Last element: \", data[-1])\n",
    "print(\"Total number:\", len(data))"
   ]
  },
  {
   "cell_type": "markdown",
   "id": "0346e6da-0393-47c1-9651-c4057db27d6f",
   "metadata": {},
   "source": [
    "# Weather Stats: Lists and Loops Continued\n",
    "\n",
    "Repeated Here are the first three months as an example:\n",
    "\n",
    "- January: Max Temp = 10°C, Min Temp = -1°C, Sunny = 5 days, Cloudy = 15 days, Rainy = 11 days\n",
    "- February: Max Temp = 12°C, Min Temp = 0°C, Sunny = 6 days, Cloudy = 12 days, Rainy = 11 days\n",
    "- March: Max Temp = 15°C, Min Temp = 2°C, Sunny = 8 days, Cloudy = 14 days, Rainy = 9 days"
   ]
  },
  {
   "cell_type": "markdown",
   "id": "2def2e3d-10c5-4867-98cc-869276d87906",
   "metadata": {},
   "source": [
    "- **Task 1**: Save the information collected in a text file\n",
    "- **Task 2**: Add \"try ... except\" to avoid crashing"
   ]
  },
  {
   "cell_type": "code",
   "execution_count": 7,
   "id": "b9cf4f9c-0c27-4ae5-8e84-eead099cef51",
   "metadata": {},
   "outputs": [],
   "source": [
    "# Remember: A table is a \"list of lists\"\n",
    "weather_year_2025 = [\n",
    "    ['January', 10, -1, 5, 15, 11], \n",
    "    ['February', 12, 0, 6, 12, 11], \n",
    "    ['March', 15, 2, 8, 14, 9], \n",
    "    ['April', 18, 5, 12, 10, 8], \n",
    "    ['May', 22, 9, 14, 9, 8], \n",
    "    ['June', 25, 13, 15, 8, 7], \n",
    "    ['July', 28, 15, 18, 7, 6], \n",
    "    ['August', 27, 14, 17, 8, 6], \n",
    "    ['September', 23, 11, 13, 10, 7], \n",
    "    ['October', 17, 7, 9, 14, 8], \n",
    "    ['November', 11, 3, 6, 17, 7], \n",
    "    ['December', 7, 0, 4, 18, 9]\n",
    "]"
   ]
  },
  {
   "cell_type": "code",
   "execution_count": 9,
   "id": "0421ceb2-046d-47ce-af1f-52d93c8987bc",
   "metadata": {},
   "outputs": [
    {
     "name": "stdout",
     "output_type": "stream",
     "text": [
      "January\n"
     ]
    }
   ],
   "source": [
    "# Note: Run the previous cell first\n",
    "# FIRST CELL: 0,0\n",
    "row_selected = 0\n",
    "col_selected = 0\n",
    "cell_value = weather_year_2025[row_selected][col_selected]\n",
    "print(cell_value)"
   ]
  },
  {
   "cell_type": "code",
   "execution_count": 11,
   "id": "22a0c130-f793-40c5-8645-79188c72efb5",
   "metadata": {},
   "outputs": [
    {
     "name": "stdout",
     "output_type": "stream",
     "text": [
      "Running total: 0\n",
      "Running total: 10\n",
      "Running total: 22\n",
      "Running total: 37\n",
      "Running total: 55\n",
      "Running total: 77\n",
      "Running total: 102\n",
      "Running total: 130\n",
      "Running total: 157\n",
      "Running total: 180\n",
      "Running total: 197\n",
      "Running total: 208\n",
      "\n",
      "Average: 17\n"
     ]
    }
   ],
   "source": [
    "# Run previous cell first\n",
    "# Print max temperature for all months\n",
    "# Calculate the average\n",
    "average  = 0\n",
    "total = 0\n",
    "for month in weather_year_2025:\n",
    "    # print(month[0], month[1], sep=\": \")\n",
    "    print(\"Running total:\", total)\n",
    "    total = total + month[1]\n",
    "average = total // 12\n",
    "print()\n",
    "print(\"Average\", average, sep=\": \")"
   ]
  },
  {
   "cell_type": "code",
   "execution_count": 13,
   "id": "ac9b3178-b8c0-42e4-9747-8ea18935c47a",
   "metadata": {},
   "outputs": [
    {
     "name": "stdout",
     "output_type": "stream",
     "text": [
      "Running total: 0\n",
      "Running total: 11\n",
      "Running total: 22\n",
      "Running total: 31\n",
      "Running total: 39\n",
      "Running total: 47\n",
      "Running total: 54\n",
      "Running total: 60\n",
      "Running total: 66\n",
      "Running total: 73\n",
      "Running total: 81\n",
      "Running total: 88\n",
      "\n",
      "Total number of rainy days: 97\n",
      "Average: 8\n"
     ]
    }
   ],
   "source": [
    "# Run previous cell first\n",
    "# Print rainy days for all months\n",
    "# Calculate the average\n",
    "average  = 0\n",
    "total = 0\n",
    "for month in weather_year_2025:\n",
    "    # print(month[0], month[5], sep=\": \")\n",
    "    print(\"Running total:\", total)\n",
    "    total = total + month[5]\n",
    "    \n",
    "average = total // 12\n",
    "print()\n",
    "print(\"Total number of rainy days:\", total)\n",
    "print(\"Average\", average, sep=\": \")"
   ]
  },
  {
   "cell_type": "code",
   "execution_count": 15,
   "id": "29e99435-667d-46d8-a6d0-303f8885340d",
   "metadata": {},
   "outputs": [
    {
     "name": "stdout",
     "output_type": "stream",
     "text": [
      "- Month: January => Max Temp: 10\n",
      "- Month: February => Max Temp: 12\n",
      "- Month: March => Max Temp: 15\n",
      "- Month: April => Max Temp: 18\n",
      "- Month: May => Max Temp: 22\n",
      "- Month: June => Max Temp: 25\n",
      "- Month: July => Max Temp: 28\n",
      "- Month: August => Max Temp: 27\n",
      "- Month: September => Max Temp: 23\n",
      "- Month: October => Max Temp: 17\n",
      "- Month: November => Max Temp: 11\n",
      "- Month: December => Max Temp: 7\n"
     ]
    }
   ],
   "source": [
    "# Note: Run the previous cells first\n",
    "for m in weather_year_2025:\n",
    "    print(\"- Month:\", m[0],\"=> Max Temp:\", m[1])"
   ]
  },
  {
   "cell_type": "markdown",
   "id": "b6e83a56-89f1-45b7-8327-af8cf3db6810",
   "metadata": {},
   "source": [
    "**Filtering data**"
   ]
  },
  {
   "cell_type": "code",
   "execution_count": 17,
   "id": "dc721872-57e3-41fe-94fb-eddcc99b8321",
   "metadata": {},
   "outputs": [
    {
     "name": "stdout",
     "output_type": "stream",
     "text": [
      "Month: October => Max Temp: 17\n"
     ]
    }
   ],
   "source": [
    "# Note: Run the previous cell first\n",
    "month_to_search = \"October\"\n",
    "for m in weather_year_2025:\n",
    "    if m[0] == month_to_search:\n",
    "        print(\"Month:\", m[0],\"=> Max Temp:\", m[1])"
   ]
  },
  {
   "cell_type": "code",
   "execution_count": 57,
   "id": "43f2f589-51f8-456e-9b5e-5e3f22598633",
   "metadata": {},
   "outputs": [
    {
     "name": "stdin",
     "output_type": "stream",
     "text": [
      "What month to select? October\n"
     ]
    },
    {
     "name": "stdout",
     "output_type": "stream",
     "text": [
      "Month: October => Max Temp: 17\n"
     ]
    }
   ],
   "source": [
    "# Note: Run the previous cell first\n",
    "month_to_search = input(\"What month to select?\")\n",
    "for m in weather_year_2025:\n",
    "    if m[0] == month_to_search:\n",
    "        print(\"Month:\", m[0],\"=> Max Temp:\", m[1])"
   ]
  },
  {
   "cell_type": "code",
   "execution_count": 67,
   "id": "bdcc0ae0-9d7e-49f4-834d-edeca15e7cfc",
   "metadata": {},
   "outputs": [
    {
     "name": "stdin",
     "output_type": "stream",
     "text": [
      "What month to select?  ju\n"
     ]
    },
    {
     "name": "stdout",
     "output_type": "stream",
     "text": [
      "Month: June => Max Temp: 25\n",
      "Month: July => Max Temp: 28\n"
     ]
    }
   ],
   "source": [
    "# Note: Run the previous cell first\n",
    "month_to_search = input(\"What month to select? \").upper() \n",
    "for m in weather_year_2025:\n",
    "    if month_to_search in m[0].upper():\n",
    "        print(\"Month:\", m[0], \"=> Max Temp:\", m[1])"
   ]
  },
  {
   "cell_type": "markdown",
   "id": "99704224-7365-4f0c-99e9-e274702a71b0",
   "metadata": {},
   "source": [
    "**Extra Practice**\n",
    "\n",
    "- Saving weather data to a file\n",
    "- Reading weather data from a file\n",
    "- Displaying weather data graphically"
   ]
  },
  {
   "cell_type": "markdown",
   "id": "e46b886a-7e52-448a-b4ae-45613d566294",
   "metadata": {},
   "source": [
    "# Datetime Further Explored\n",
    "\n",
    "- Extracting information from a timestamp\n",
    "- **strftime()**"
   ]
  },
  {
   "cell_type": "code",
   "execution_count": 92,
   "id": "0b58d906-3665-41e4-a8d5-78e3788b0d04",
   "metadata": {},
   "outputs": [
    {
     "name": "stdout",
     "output_type": "stream",
     "text": [
      "Original datetime: 2025-05-21 18:25:02.447427\n"
     ]
    }
   ],
   "source": [
    "from datetime import datetime\n",
    "\n",
    "now = datetime.now()\n",
    "print(\"Original datetime:\", now)"
   ]
  },
  {
   "cell_type": "code",
   "execution_count": 102,
   "id": "3d8d5ada-6bfa-406b-9449-bbc30b794d5f",
   "metadata": {},
   "outputs": [
    {
     "name": "stdout",
     "output_type": "stream",
     "text": [
      "Year                      : 2025\n",
      "Month (number)            : 05\n",
      "Month (name)              : May\n",
      "Week number of the year   : 20\n"
     ]
    }
   ],
   "source": [
    "print(\"Year                      :\", now.strftime(\"%Y\"))         # 2025\n",
    "print(\"Month (number)            :\", now.strftime(\"%m\"))         # 05\n",
    "print(\"Month (name)              :\", now.strftime(\"%B\"))         # May\n",
    "print(\"Week number of the year   :\", now.strftime(\"%U\"))         # e.g., 20\n"
   ]
  },
  {
   "cell_type": "code",
   "execution_count": 96,
   "id": "4e57677a-ff72-44fb-961c-969d897f251c",
   "metadata": {},
   "outputs": [
    {
     "name": "stdout",
     "output_type": "stream",
     "text": [
      "Day of the month          : 21\n",
      "Day of the week (number)  : 3\n",
      "Day of the week (name)    : Wednesday\n",
      "Short weekday name        : Wed\n"
     ]
    }
   ],
   "source": [
    "print(\"Day of the month          :\", now.strftime(\"%d\"))         # 19\n",
    "print(\"Day of the week (number)  :\", now.strftime(\"%w\"))         # 0 (Sunday) to 6 (Saturday)\n",
    "print(\"Day of the week (name)    :\", now.strftime(\"%A\"))         # Monday\n",
    "print(\"Short weekday name        :\", now.strftime(\"%a\"))         # Mon"
   ]
  },
  {
   "cell_type": "code",
   "execution_count": 98,
   "id": "50171203-ad89-4173-a586-33c0a7286d84",
   "metadata": {},
   "outputs": [
    {
     "name": "stdout",
     "output_type": "stream",
     "text": [
      "Hour (24-hour)            : 18\n",
      "Hour (12-hour)            : 06\n"
     ]
    }
   ],
   "source": [
    "print(\"Hour (24-hour)            :\", now.strftime(\"%H\"))         # 13\n",
    "print(\"Hour (12-hour)            :\", now.strftime(\"%I\"))         # 01"
   ]
  },
  {
   "cell_type": "code",
   "execution_count": 100,
   "id": "6168446b-4715-4f6b-b7b5-f371730c31bc",
   "metadata": {},
   "outputs": [
    {
     "name": "stdout",
     "output_type": "stream",
     "text": [
      "AM/PM                     : PM\n",
      "Minute                    : 25\n",
      "Second                    : 02\n"
     ]
    }
   ],
   "source": [
    "print(\"AM/PM                     :\", now.strftime(\"%p\"))         # PM\n",
    "print(\"Minute                    :\", now.strftime(\"%M\"))         # 45\n",
    "print(\"Second                    :\", now.strftime(\"%S\"))         # 30"
   ]
  },
  {
   "cell_type": "markdown",
   "id": "e00c2d82-5d60-472a-8885-bd3e8e3477fa",
   "metadata": {},
   "source": [
    "# Tables & Dataframes: Pandas and Tabulate\n",
    "\n",
    "Pandas and Tabulate are extremely useful tools in structured data management, and they serve complementary roles:\n",
    "\n",
    "🐼 Pandas → for managing structured data\n",
    "\n",
    "📋 Tabulate → for displaying structured data nicely\n",
    "\n",
    "Tabulate is able to print:\n",
    "\n",
    "- List of lists\n",
    "- Pandas dataframes"
   ]
  },
  {
   "cell_type": "markdown",
   "id": "7ed7c7fc-a046-46fa-a0ba-4ff359cb5224",
   "metadata": {},
   "source": [
    "**Below is the complete Python code to:**\n",
    "\n",
    "- Read the data from the spreadsheet using the pandas library.\n",
    "- Use a for loop to iterate over the rows.\n",
    "- Display the data in a well-formatted table using the tabulate module\n",
    "  \n",
    "**Note** You may need to install pandas and/or tabulate on your computer, e.g.\n",
    "\n",
    "! pip install pandas\n",
    "\n",
    "! pip install tabulate"
   ]
  },
  {
   "cell_type": "code",
   "execution_count": 49,
   "id": "a6c5b1e6-a656-47cd-b5a9-22834a9fbe84",
   "metadata": {},
   "outputs": [
    {
     "name": "stdout",
     "output_type": "stream",
     "text": [
      "Info: Spreadsheet loaded from file\n"
     ]
    }
   ],
   "source": [
    "import pandas as pd \n",
    "\n",
    "# Step 1: Load the spreadsheet\n",
    "filename = \"brussels_weather_2020.xlsx\"  # Make sure the file is in your working directory\n",
    "df = pd.read_excel(filename)\n",
    "print(\"Info: Spreadsheet loaded from file\")"
   ]
  },
  {
   "cell_type": "code",
   "execution_count": 51,
   "id": "0f54e6b6-693c-4cae-a87c-372a2e1451ec",
   "metadata": {},
   "outputs": [
    {
     "name": "stdout",
     "output_type": "stream",
     "text": [
      "['Month', 'Max Temp', 'Min Temp', 'Sunny Days', 'Cloudy Days', 'Rainy Days']\n"
     ]
    }
   ],
   "source": [
    "# Step 2: Prepare headers and rows for display\n",
    "headers = df.columns.tolist()\n",
    "print(headers)\n"
   ]
  },
  {
   "cell_type": "code",
   "execution_count": 53,
   "id": "8491c4c9-c40c-4a89-87c3-3a133c923fe0",
   "metadata": {},
   "outputs": [
    {
     "name": "stdout",
     "output_type": "stream",
     "text": [
      "[['January', 10, -1, 5, 15, 11], ['February', 12, 0, 6, 12, 11], ['March', 15, 2, 8, 14, 9], ['April', 18, 5, 12, 10, 8], ['May', 22, 9, 14, 9, 8], ['June', 25, 13, 15, 8, 7], ['July', 28, 15, 18, 7, 6], ['August', 27, 14, 17, 8, 6], ['September', 23, 11, 13, 10, 7], ['October', 17, 7, 9, 14, 8], ['November', 11, 3, 6, 17, 7], ['December', 7, 0, 4, 18, 9]]\n"
     ]
    }
   ],
   "source": [
    "# Step 3: Use a for loop to collect the row data\n",
    "rows = []\n",
    "for _, row in df.iterrows():\n",
    "    rows.append(row.tolist())\n",
    "print(rows)"
   ]
  },
  {
   "cell_type": "code",
   "execution_count": 55,
   "id": "d82a7f36-4a03-466e-9074-65dad4233a59",
   "metadata": {},
   "outputs": [
    {
     "name": "stdout",
     "output_type": "stream",
     "text": [
      "Nice Printout\n",
      "+-----------+------------+------------+--------------+---------------+--------------+\n",
      "| Month     |   Max Temp |   Min Temp |   Sunny Days |   Cloudy Days |   Rainy Days |\n",
      "+===========+============+============+==============+===============+==============+\n",
      "| January   |         10 |         -1 |            5 |            15 |           11 |\n",
      "+-----------+------------+------------+--------------+---------------+--------------+\n",
      "| February  |         12 |          0 |            6 |            12 |           11 |\n",
      "+-----------+------------+------------+--------------+---------------+--------------+\n",
      "| March     |         15 |          2 |            8 |            14 |            9 |\n",
      "+-----------+------------+------------+--------------+---------------+--------------+\n",
      "| April     |         18 |          5 |           12 |            10 |            8 |\n",
      "+-----------+------------+------------+--------------+---------------+--------------+\n",
      "| May       |         22 |          9 |           14 |             9 |            8 |\n",
      "+-----------+------------+------------+--------------+---------------+--------------+\n",
      "| June      |         25 |         13 |           15 |             8 |            7 |\n",
      "+-----------+------------+------------+--------------+---------------+--------------+\n",
      "| July      |         28 |         15 |           18 |             7 |            6 |\n",
      "+-----------+------------+------------+--------------+---------------+--------------+\n",
      "| August    |         27 |         14 |           17 |             8 |            6 |\n",
      "+-----------+------------+------------+--------------+---------------+--------------+\n",
      "| September |         23 |         11 |           13 |            10 |            7 |\n",
      "+-----------+------------+------------+--------------+---------------+--------------+\n",
      "| October   |         17 |          7 |            9 |            14 |            8 |\n",
      "+-----------+------------+------------+--------------+---------------+--------------+\n",
      "| November  |         11 |          3 |            6 |            17 |            7 |\n",
      "+-----------+------------+------------+--------------+---------------+--------------+\n",
      "| December  |          7 |          0 |            4 |            18 |            9 |\n",
      "+-----------+------------+------------+--------------+---------------+--------------+\n"
     ]
    }
   ],
   "source": [
    "from tabulate import tabulate\n",
    "# Step 4: Display the table formatted\n",
    "# Tabulate needs a list to print\n",
    "print(\"Nice Printout\")\n",
    "print(tabulate(rows, headers=headers, tablefmt=\"grid\"))\n",
    "# headers=headers => List of lists"
   ]
  },
  {
   "cell_type": "code",
   "execution_count": 57,
   "id": "b4857e1e-5eb1-42bc-8e5b-12f51c9f9f9b",
   "metadata": {},
   "outputs": [
    {
     "name": "stdout",
     "output_type": "stream",
     "text": [
      "╒═══════════╤════════════╤════════════╤══════════════╤═══════════════╤══════════════╕\n",
      "│ Month     │   Max Temp │   Min Temp │   Sunny Days │   Cloudy Days │   Rainy Days │\n",
      "╞═══════════╪════════════╪════════════╪══════════════╪═══════════════╪══════════════╡\n",
      "│ January   │         10 │         -1 │            5 │            15 │           11 │\n",
      "├───────────┼────────────┼────────────┼──────────────┼───────────────┼──────────────┤\n",
      "│ February  │         12 │          0 │            6 │            12 │           11 │\n",
      "├───────────┼────────────┼────────────┼──────────────┼───────────────┼──────────────┤\n",
      "│ March     │         15 │          2 │            8 │            14 │            9 │\n",
      "├───────────┼────────────┼────────────┼──────────────┼───────────────┼──────────────┤\n",
      "│ April     │         18 │          5 │           12 │            10 │            8 │\n",
      "├───────────┼────────────┼────────────┼──────────────┼───────────────┼──────────────┤\n",
      "│ May       │         22 │          9 │           14 │             9 │            8 │\n",
      "├───────────┼────────────┼────────────┼──────────────┼───────────────┼──────────────┤\n",
      "│ June      │         25 │         13 │           15 │             8 │            7 │\n",
      "├───────────┼────────────┼────────────┼──────────────┼───────────────┼──────────────┤\n",
      "│ July      │         28 │         15 │           18 │             7 │            6 │\n",
      "├───────────┼────────────┼────────────┼──────────────┼───────────────┼──────────────┤\n",
      "│ August    │         27 │         14 │           17 │             8 │            6 │\n",
      "├───────────┼────────────┼────────────┼──────────────┼───────────────┼──────────────┤\n",
      "│ September │         23 │         11 │           13 │            10 │            7 │\n",
      "├───────────┼────────────┼────────────┼──────────────┼───────────────┼──────────────┤\n",
      "│ October   │         17 │          7 │            9 │            14 │            8 │\n",
      "├───────────┼────────────┼────────────┼──────────────┼───────────────┼──────────────┤\n",
      "│ November  │         11 │          3 │            6 │            17 │            7 │\n",
      "├───────────┼────────────┼────────────┼──────────────┼───────────────┼──────────────┤\n",
      "│ December  │          7 │          0 │            4 │            18 │            9 │\n",
      "╘═══════════╧════════════╧════════════╧══════════════╧═══════════════╧══════════════╛\n"
     ]
    }
   ],
   "source": [
    "print(tabulate(rows, headers=headers, tablefmt=\"fancy_grid\"))"
   ]
  },
  {
   "cell_type": "code",
   "execution_count": 59,
   "id": "bc2ce940-f2ec-4d45-bd5a-3edc5f492297",
   "metadata": {},
   "outputs": [
    {
     "name": "stdout",
     "output_type": "stream",
     "text": [
      "+-----------+----------+----------+------------+-------------+------------+\n",
      "|   Month   | Max Temp | Min Temp | Sunny Days | Cloudy Days | Rainy Days |\n",
      "+-----------+----------+----------+------------+-------------+------------+\n",
      "|  January  |    10    |    -1    |     5      |     15      |     11     |\n",
      "| February  |    12    |    0     |     6      |     12      |     11     |\n",
      "|   March   |    15    |    2     |     8      |     14      |     9      |\n",
      "|   April   |    18    |    5     |     12     |     10      |     8      |\n",
      "|    May    |    22    |    9     |     14     |      9      |     8      |\n",
      "|   June    |    25    |    13    |     15     |      8      |     7      |\n",
      "|   July    |    28    |    15    |     18     |      7      |     6      |\n",
      "|  August   |    27    |    14    |     17     |      8      |     6      |\n",
      "| September |    23    |    11    |     13     |     10      |     7      |\n",
      "|  October  |    17    |    7     |     9      |     14      |     8      |\n",
      "| November  |    11    |    3     |     6      |     17      |     7      |\n",
      "| December  |    7     |    0     |     4      |     18      |     9      |\n",
      "+-----------+----------+----------+------------+-------------+------------+\n"
     ]
    }
   ],
   "source": [
    "print(tabulate(rows, headers=headers, tablefmt=\"pretty\"))"
   ]
  },
  {
   "cell_type": "markdown",
   "id": "2af3ce90-626e-4097-b42e-426682d9e225",
   "metadata": {},
   "source": [
    "**Notes on Lists and Series**\n",
    "\n",
    "Pandas uses Dataframes (like tables) and Series (like lists). The specific pandas structures are more powerful.\n",
    "\n",
    "For many beginner-level tasks, a Pandas Series can feel just like a Python list — especially when you're just storing numbers or strings.\n",
    "\n",
    "Both are 1-dimensional containers of values; You can iterate over both ; You can store mixed types in both (though it's not recommended in a Series).\n",
    "\n",
    "A Series is designed for **labeled data analysis**, with extra features that make it very powerful when used with:\n",
    "\n",
    "- tables (DataFrame)\n",
    "- statistics\n",
    "- filtering with conditions\n",
    "- grouping and aggregation\n",
    "- custom indexing\n",
    "  \n",
    "**Labeled data analysis** in pandas refers to analyzing and manipulating datasets where both axes (rows and columns) are identified with meaningful labels, which makes the data more human-readable and easier to work with compared to purely positional data.\n"
   ]
  },
  {
   "cell_type": "markdown",
   "id": "d38c9448-f128-49a7-8f9c-de6164b46188",
   "metadata": {},
   "source": [
    "**Stats**: mean, min, max, value_count"
   ]
  },
  {
   "cell_type": "code",
   "execution_count": 130,
   "id": "f0510c46-75f0-49f0-9a9d-c6dff7629b5e",
   "metadata": {},
   "outputs": [
    {
     "name": "stdout",
     "output_type": "stream",
     "text": [
      "Calculated average: 17.916666666666668\n",
      "Average max temperature for the year: 17.92 °C\n"
     ]
    }
   ],
   "source": [
    "# Calculate average max temperature\n",
    "avg_max_temp = df['Max Temp'].mean()\n",
    "print(\"Calculated average:\" , avg_max_temp)\n",
    "print(f\"Average max temperature for the year: {avg_max_temp:.2f} °C\") # formating floating-point number with precision 2"
   ]
  },
  {
   "cell_type": "code",
   "execution_count": 132,
   "id": "608ece7e-230c-43d9-a18b-47222f37a01e",
   "metadata": {},
   "outputs": [
    {
     "name": "stdout",
     "output_type": "stream",
     "text": [
      "28\n"
     ]
    }
   ],
   "source": [
    "max_max_temp = df['Max Temp'].max()\n",
    "print(max_max_temp)"
   ]
  },
  {
   "cell_type": "code",
   "execution_count": 136,
   "id": "3a715d77-d23e-474f-a16a-eca9a13ce333",
   "metadata": {},
   "outputs": [
    {
     "name": "stdout",
     "output_type": "stream",
     "text": [
      "15\n"
     ]
    }
   ],
   "source": [
    "max_max_temp = df['Min Temp'].max()\n",
    "print(max_max_temp)"
   ]
  },
  {
   "cell_type": "code",
   "execution_count": 134,
   "id": "2d065572-5237-4134-91fb-611f269a519d",
   "metadata": {},
   "outputs": [
    {
     "name": "stdout",
     "output_type": "stream",
     "text": [
      "7\n"
     ]
    }
   ],
   "source": [
    "min_max_temp = df['Max Temp'].min()\n",
    "print(min_max_temp)"
   ]
  },
  {
   "cell_type": "code",
   "execution_count": 138,
   "id": "25bbcdd2-e535-4aaa-bd0e-07c1cffc8c53",
   "metadata": {},
   "outputs": [
    {
     "name": "stdout",
     "output_type": "stream",
     "text": [
      "-1\n"
     ]
    }
   ],
   "source": [
    "min_max_temp = df['Min Temp'].min()\n",
    "print(min_max_temp)"
   ]
  },
  {
   "cell_type": "code",
   "execution_count": 140,
   "id": "17d9f653-220b-4eed-bf58-0d8365426298",
   "metadata": {},
   "outputs": [
    {
     "name": "stdout",
     "output_type": "stream",
     "text": [
      "Max Temp\n",
      "10    1\n",
      "12    1\n",
      "15    1\n",
      "18    1\n",
      "22    1\n",
      "25    1\n",
      "28    1\n",
      "27    1\n",
      "23    1\n",
      "17    1\n",
      "11    1\n",
      "7     1\n",
      "Name: count, dtype: int64\n"
     ]
    }
   ],
   "source": [
    "how_many_max_temp = df['Max Temp'].value_counts()\n",
    "print(how_many_max_temp)"
   ]
  },
  {
   "cell_type": "markdown",
   "id": "938de8b5-ed7a-4b16-9be3-4bae4aca0933",
   "metadata": {},
   "source": [
    "## Sorting Tables\n",
    "\n",
    "- Sorting — for example, by maximum temperature (from highest to lowest)\n",
    "- df.**sort_values** --- cfr. **sorted()** or list.**sort()**"
   ]
  },
  {
   "cell_type": "code",
   "execution_count": 73,
   "id": "186af989-dce8-4bb9-baae-1a6b7ff8e648",
   "metadata": {},
   "outputs": [
    {
     "name": "stdout",
     "output_type": "stream",
     "text": [
      "+-----------+----------+----------+------------+-------------+------------+\n",
      "|   Month   | Max Temp | Min Temp | Sunny Days | Cloudy Days | Rainy Days |\n",
      "+-----------+----------+----------+------------+-------------+------------+\n",
      "|   July    |    28    |    15    |     18     |      7      |     6      |\n",
      "|  August   |    27    |    14    |     17     |      8      |     6      |\n",
      "|   June    |    25    |    13    |     15     |      8      |     7      |\n",
      "| September |    23    |    11    |     13     |     10      |     7      |\n",
      "|    May    |    22    |    9     |     14     |      9      |     8      |\n",
      "|   April   |    18    |    5     |     12     |     10      |     8      |\n",
      "|  October  |    17    |    7     |     9      |     14      |     8      |\n",
      "|   March   |    15    |    2     |     8      |     14      |     9      |\n",
      "| February  |    12    |    0     |     6      |     12      |     11     |\n",
      "| November  |    11    |    3     |     6      |     17      |     7      |\n",
      "|  January  |    10    |    -1    |     5      |     15      |     11     |\n",
      "| December  |    7     |    0     |     4      |     18      |     9      |\n",
      "+-----------+----------+----------+------------+-------------+------------+\n"
     ]
    }
   ],
   "source": [
    "import pandas as pd \n",
    "from tabulate import tabulate\n",
    "\n",
    "#Step 1: Load the spreadsheet\n",
    "filename = \"brussels_weather_2020.xlsx\"  # Ensure the file is in the same directory\n",
    "df = pd.read_excel(filename)\n",
    "\n",
    "#Step 2: Sort the DataFrame by \"Max Temp\" in descending order\n",
    "df_sorted = df.sort_values(by=\"Max Temp\", ascending=False)\n",
    "\n",
    "#Step 3: Display the sorted table\n",
    "print(tabulate(df_sorted, headers=\"keys\", tablefmt=\"pretty\", showindex=False))\n",
    "# Remark: \"keys\" is a keyword understood by tabulate() to extract column names from the pandas DataFrame.\n",
    "# Use it when tabulate is printing a dataframe passed as the first value"
   ]
  },
  {
   "cell_type": "code",
   "execution_count": 193,
   "id": "84f210c8-abb2-4b6c-bfb9-945538ab5e0a",
   "metadata": {},
   "outputs": [
    {
     "name": "stdout",
     "output_type": "stream",
     "text": [
      "+-----------+----------+----------+------------+-------------+------------+\n",
      "|   Month   | Max Temp | Min Temp | Sunny Days | Cloudy Days | Rainy Days |\n",
      "+-----------+----------+----------+------------+-------------+------------+\n",
      "|   July    |    28    |    15    |     18     |      7      |     6      |\n",
      "|  August   |    27    |    14    |     17     |      8      |     6      |\n",
      "|   June    |    25    |    13    |     15     |      8      |     7      |\n",
      "|    May    |    22    |    9     |     14     |      9      |     8      |\n",
      "| September |    23    |    11    |     13     |     10      |     7      |\n",
      "|   April   |    18    |    5     |     12     |     10      |     8      |\n",
      "|  October  |    17    |    7     |     9      |     14      |     8      |\n",
      "|   March   |    15    |    2     |     8      |     14      |     9      |\n",
      "| February  |    12    |    0     |     6      |     12      |     11     |\n",
      "| November  |    11    |    3     |     6      |     17      |     7      |\n",
      "|  January  |    10    |    -1    |     5      |     15      |     11     |\n",
      "| December  |    7     |    0     |     4      |     18      |     9      |\n",
      "+-----------+----------+----------+------------+-------------+------------+\n"
     ]
    }
   ],
   "source": [
    "import pandas as pd \n",
    "from tabulate import tabulate\n",
    "\n",
    "#Step 1: Load the spreadsheet\n",
    "filename = \"brussels_weather_2020.xlsx\"  # Ensure the file is in the same directory\n",
    "df = pd.read_excel(filename)\n",
    "\n",
    "#Step 2: Sort the DataFrame by \"Max Temp\" in descending order\n",
    "df_sorted = df.sort_values(by=\"Sunny Days\", ascending=False)\n",
    "\n",
    "#Step 3: Display the sorted table\n",
    "print(tabulate(df_sorted, headers=\"keys\", tablefmt=\"pretty\", showindex=False))\n",
    "# Remark: \"keys\" is a keyword understood by tabulate() to extract column names from the pandas DataFrame.\n",
    "# Use it when tabulate is printing a dataframe passed as the first value"
   ]
  },
  {
   "cell_type": "markdown",
   "id": "cc1cc5fc-37d7-4d41-843c-b44905654563",
   "metadata": {},
   "source": [
    "**Filtering data**\n",
    "  \n",
    "- Find all months with more than 15 sunny days"
   ]
  },
  {
   "cell_type": "code",
   "execution_count": 166,
   "id": "786edd05-4efb-4739-8bc5-5feccb0e5981",
   "metadata": {},
   "outputs": [],
   "source": [
    "import pandas as pd\n",
    "from tabulate import tabulate\n",
    "\n",
    "# Step 1: Load the spreadsheet\n",
    "filename = \"brussels_weather_2020.xlsx\"\n",
    "df = pd.read_excel(filename)\n",
    "\n",
    "# Step 2: Prepare a list to store rows that match the condition\n",
    "filtered_rows = []\n"
   ]
  },
  {
   "cell_type": "code",
   "execution_count": 172,
   "id": "542f7cca-ec7b-4696-bf7b-9e0599a4606c",
   "metadata": {},
   "outputs": [],
   "source": [
    "# Step 3: Loop through rows and use an if-statement to filter\n",
    "for _, row in df.iterrows():\n",
    "    if row[\"Rainy Days\"] > 10:\n",
    "        filtered_rows.append(row.tolist())"
   ]
  },
  {
   "cell_type": "code",
   "execution_count": 174,
   "id": "b480cd2f-fa9e-4271-af56-0f8aeca4e8b2",
   "metadata": {},
   "outputs": [
    {
     "name": "stdout",
     "output_type": "stream",
     "text": [
      "+----------+----------+----------+------------+-------------+------------+\n",
      "|  Month   | Max Temp | Min Temp | Sunny Days | Cloudy Days | Rainy Days |\n",
      "+----------+----------+----------+------------+-------------+------------+\n",
      "| January  |    10    |    -1    |     5      |     15      |     11     |\n",
      "| February |    12    |    0     |     6      |     12      |     11     |\n",
      "+----------+----------+----------+------------+-------------+------------+\n"
     ]
    }
   ],
   "source": [
    "# Step 4: Display the filtered results\n",
    "headers = df.columns.tolist()\n",
    "print(tabulate(filtered_rows, headers=headers, tablefmt=\"pretty\"))\n"
   ]
  },
  {
   "cell_type": "markdown",
   "id": "1e4302ab-8564-475e-be3a-22e3dab22dd3",
   "metadata": {},
   "source": [
    "**Visualizing data**"
   ]
  },
  {
   "cell_type": "code",
   "execution_count": 179,
   "id": "e3a0ea4e-8ddf-4599-8ca2-9a4b74e01395",
   "metadata": {},
   "outputs": [
    {
     "name": "stdout",
     "output_type": "stream",
     "text": [
      "        Month  Max Temp  Min Temp  Sunny Days  Cloudy Days  Rainy Days\n",
      "0     January        10        -1           5           15          11\n",
      "1    February        12         0           6           12          11\n",
      "2       March        15         2           8           14           9\n",
      "3       April        18         5          12           10           8\n",
      "4         May        22         9          14            9           8\n",
      "5        June        25        13          15            8           7\n",
      "6        July        28        15          18            7           6\n",
      "7      August        27        14          17            8           6\n",
      "8   September        23        11          13           10           7\n",
      "9     October        17         7           9           14           8\n",
      "10   November        11         3           6           17           7\n",
      "11   December         7         0           4           18           9\n"
     ]
    }
   ],
   "source": [
    "import pandas as pd\n",
    "\n",
    "# Step 0: Load and print Excel file\n",
    "filename = \"brussels_weather_2020.xlsx\"  # Make sure the file is in your working directory\n",
    "df = pd.read_excel(filename)\n",
    "print(df)"
   ]
  },
  {
   "cell_type": "code",
   "execution_count": 181,
   "id": "8240e9f5-80d8-4ffd-a81d-cd877672a196",
   "metadata": {},
   "outputs": [],
   "source": [
    "import pandas as pd\n",
    "import matplotlib.pyplot as plt\n",
    "\n",
    "# Step 1: Load the Excel file\n",
    "filename = \"brussels_weather_2020.xlsx\"  # Make sure the file is in your working directory\n",
    "df = pd.read_excel(filename)"
   ]
  },
  {
   "cell_type": "code",
   "execution_count": 187,
   "id": "d5e81009-d548-443a-9a88-d32d46598ed9",
   "metadata": {},
   "outputs": [
    {
     "data": {
      "text/plain": [
       "[<matplotlib.lines.Line2D at 0x2936268d850>]"
      ]
     },
     "execution_count": 187,
     "metadata": {},
     "output_type": "execute_result"
    },
    {
     "data": {
      "image/png": "[encoded data removed]",
      "text/plain": [
       "<Figure size 1000x600 with 1 Axes>"
      ]
     },
     "metadata": {},
     "output_type": "display_data"
    }
   ],
   "source": [
    "# Step 2: Create a line plot for Max and Min Temperatures\n",
    "plt.figure(figsize=(10, 6))\n",
    "plt.plot(df[\"Month\"], df[\"Max Temp\"], marker=\"o\", label=\"Max Temp (°C)\")\n",
    "plt.plot(df[\"Month\"], df[\"Min Temp\"], marker=\"o\", label=\"Min Temp (°C)\")"
   ]
  },
  {
   "cell_type": "code",
   "execution_count": 191,
   "id": "9e8f4808-2cb1-418c-9f2d-e820da134461",
   "metadata": {},
   "outputs": [
    {
     "data": {
      "image/png": "[encoded data removed]",
      "text/plain": [
       "<Figure size 1000x600 with 1 Axes>"
      ]
     },
     "metadata": {},
     "output_type": "display_data"
    }
   ],
   "source": [
    "# Step 2: Create a line plot for Max and Min Temperatures\n",
    "plt.figure(figsize=(10, 6))\n",
    "plt.plot(df[\"Month\"], df[\"Max Temp\"], marker=\"o\", label=\"Max Temp (°C)\")\n",
    "plt.plot(df[\"Month\"], df[\"Min Temp\"], marker=\"o\", label=\"Min Temp (°C)\")\n",
    "\n",
    "# Step 3: Customize the chart\n",
    "plt.title(\"Brussels Weather 2020: Max and Min Temperatures\")\n",
    "plt.xlabel(\"Month\")\n",
    "plt.ylabel(\"Temperature (°C)\")\n",
    "plt.xticks(rotation=45)\n",
    "plt.legend()\n",
    "plt.grid(True)\n",
    "plt.tight_layout()\n",
    "\n",
    "# Step 4: Show the chart\n",
    "plt.show()"
   ]
  },
  {
   "cell_type": "code",
   "execution_count": 77,
   "id": "9752fb66-b804-40b8-9c51-7a9be0ba7459",
   "metadata": {},
   "outputs": [],
   "source": [
    "# END"
   ]
  }
 ],
 "metadata": {
  "kernelspec": {
   "display_name": "Python [conda env:base] *",
   "language": "python",
   "name": "conda-base-py"
  },
  "language_info": {
   "codemirror_mode": {
    "name": "ipython",
    "version": 3
   },
   "file_extension": ".py",
   "mimetype": "text/x-python",
   "name": "python",
   "nbconvert_exporter": "python",
   "pygments_lexer": "ipython3",
   "version": "3.11.11"
  }
 },
 "nbformat": 4,
 "nbformat_minor": 5
}
