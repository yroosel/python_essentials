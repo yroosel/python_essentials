{
 "cells": [
  {
   "cell_type": "markdown",
   "id": "3c21cc4f-7782-4cfd-8ab0-1c7afb3739d6",
   "metadata": {},
   "source": [
    "# Data types\n",
    "\n",
    "- int\n",
    "  - very **natural**\n",
    "- float\n",
    "  - making a **calculator**\n",
    "- boolean: True, False\n",
    "  - computer **logic**\n",
    "  - making **decisions**\n",
    "- None\n",
    "  - unknown\n",
    "- string\n",
    "  - computers can manage **language** easily: word processing, AI, ...\n",
    "\n",
    "- complex: \n",
    "  - files are used to **store and transmit**: text file, csv, spreadsheet, image, ...\n",
    "  - lists: **mainly next week**\n",
    "  - dictionary and json: **later**"
   ]
  },
  {
   "cell_type": "markdown",
   "id": "9dc86a9d-9a9a-4ac6-9342-3c3d0cd0bed0",
   "metadata": {},
   "source": [
    "**Programming languages**\n",
    "\n",
    "- \"no ambiguity\", as opposed to natural language\n",
    "- \"alternatives\" are possible\n",
    "  - some alternatives are better than others\n",
    "  - some are safer than others\n"
   ]
  },
  {
   "cell_type": "markdown",
   "id": "a27e784c-9916-4c6d-91e6-f5fb4ea34201",
   "metadata": {},
   "source": [
    "# Conditions are everywhere"
   ]
  },
  {
   "cell_type": "markdown",
   "id": "b41adf1e-6a62-4148-ad28-04d0c52e1184",
   "metadata": {},
   "source": [
    "**Temperature**"
   ]
  },
  {
   "cell_type": "code",
   "execution_count": 84,
   "id": "40f1e129-e866-4194-b623-c365ae1496f2",
   "metadata": {},
   "outputs": [
    {
     "name": "stdin",
     "output_type": "stream",
     "text": [
      "Enter the measured temperature in Celsius:  1\n"
     ]
    },
    {
     "name": "stdout",
     "output_type": "stream",
     "text": [
      "Temperature measured: 1\n",
      "Is water liquid at this temperature? True\n",
      "\n",
      "--------------------------------------------------\n",
      "Temperature: 1°C → Liquid: True\n"
     ]
    }
   ],
   "source": [
    "# Ask the user to enter a temperature in Celsius and determine if water will be liquid\n",
    "temp = int(input(\"Enter the measured temperature in Celsius: \"))\n",
    "\n",
    "# Determine if the water is liquid\n",
    "if temp in range(1,100):\n",
    "    is_liquid = True\n",
    "else:\n",
    "    is_liquid = False\n",
    "# alternative: is_liquid = temp > 0 and temp < 100\n",
    "\n",
    "# Display the result\n",
    "print(\"Temperature measured:\", temp)\n",
    "print(\"Is water liquid at this temperature?\", is_liquid)\n",
    "\n",
    "# Alternative output\n",
    "print()\n",
    "print(\"-\" * 50)\n",
    "print(f\"Temperature: {temp}°C → Liquid: {is_liquid}\")"
   ]
  },
  {
   "cell_type": "markdown",
   "id": "5c65109d-b8a8-4012-9501-22e76c9bda8e",
   "metadata": {},
   "source": [
    "**Numbers: Prevent Crashing**"
   ]
  },
  {
   "cell_type": "code",
   "execution_count": 103,
   "id": "527265db-e89a-4798-87b3-21c72970b269",
   "metadata": {},
   "outputs": [
    {
     "name": "stdout",
     "output_type": "stream",
     "text": [
      "0.1\n",
      "1.0\n"
     ]
    }
   ],
   "source": [
    "# Step 1\n",
    "# Often we have to perform different calculations one after the other: example\n",
    "\n",
    "# One\n",
    "val1 = 10\n",
    "val2 = 100  # avoid 0\n",
    "\n",
    "calc_result = val1 / val2\n",
    "print (calc_result)\n",
    "\n",
    "# Two\n",
    "val1 = 10\n",
    "val2 = 10 # avoid 0\n",
    "\n",
    "calc_result = val1 / val2\n",
    "print (calc_result)\n"
   ]
  },
  {
   "cell_type": "code",
   "execution_count": 120,
   "id": "71052ac7-45f8-41a3-b515-76dee64825f4",
   "metadata": {},
   "outputs": [
    {
     "name": "stdout",
     "output_type": "stream",
     "text": [
      "Error: Cannot divide by zero.\n"
     ]
    }
   ],
   "source": [
    "# Step 1 bis => Catch the ZeroDivisionError\n",
    "val1 = 10\n",
    "val2 = 0  \n",
    "\n",
    "try:\n",
    "    calc_result = val1 / val2\n",
    "    print(calc_result)\n",
    "except ZeroDivisionError:\n",
    "    print(\"Error: Cannot divide by zero.\")\n"
   ]
  },
  {
   "cell_type": "code",
   "execution_count": null,
   "id": "59043ebb-eb61-4e88-9539-93acde82cd2a",
   "metadata": {},
   "outputs": [],
   "source": [
    "# Step 2\n",
    "# Improvement to prevent division by zero => code being copied => unreadable, unmanageable for reuse\n",
    "\n",
    "# One\n",
    "val1 = 10\n",
    "val2 = 100  # avoid 0\n",
    "\n",
    "if val2 != 0:\n",
    "    calc_result = val1 / val2\n",
    "else:\n",
    "    print(\"Error: Division by Zero\")\n",
    "    \n",
    "print (calc_result)\n",
    "\n",
    "# Two\n",
    "val1 = 10\n",
    "val2 = 10 # avoid 0\n",
    "\n",
    "if val2 != 0:\n",
    "    calc_result = val1 / val2\n",
    "else:\n",
    "    print(\"Error: Division by Zero\")\n",
    "\n",
    "calc_result = val1 / val2\n",
    "print (calc_result)"
   ]
  },
  {
   "cell_type": "code",
   "execution_count": 18,
   "id": "76385648-4580-4141-acb8-b8c4e90913ec",
   "metadata": {},
   "outputs": [
    {
     "name": "stdout",
     "output_type": "stream",
     "text": [
      "1.0\n"
     ]
    }
   ],
   "source": [
    "# Step 3: creating a function for reusabilty\n",
    "# Functions allow to reuse the same code without copying\n",
    "# \n",
    "def divide(n1, n2):\n",
    "    if n2 != 0:\n",
    "        return n1/n2\n",
    "    else:\n",
    "        return (\"Error: Division by Zero\")\n",
    "\n",
    "val1 = 10\n",
    "val2 = 10 \n",
    "\n",
    "calc_result = divide(val1,val2)\n",
    "print (calc_result)"
   ]
  },
  {
   "cell_type": "code",
   "execution_count": 20,
   "id": "b631d91a-1aae-4c6b-9aa2-7dfddb1c1af4",
   "metadata": {},
   "outputs": [
    {
     "name": "stdout",
     "output_type": "stream",
     "text": [
      "110\n",
      "90\n",
      "1000\n",
      "10.0\n"
     ]
    }
   ],
   "source": [
    "# Step 4: code fragment using functions for calculations\n",
    "# Add functions for other operators: **    //    %\n",
    "\n",
    "def add(n1,n2):\n",
    "    return n1+n2\n",
    "\n",
    "def subtract(n1, n2):\n",
    "    return n1-n2\n",
    "\n",
    "def multiply(n1, n2):\n",
    "    return n1*n2\n",
    "\n",
    "def divide(n1, n2):\n",
    "    if n2 != 0:\n",
    "        return n1/n2\n",
    "    else:\n",
    "        return (\"Error: Division by Zero\")\n",
    "\n",
    "def main():\n",
    "    print (add(100,10))\n",
    "    print (subtract(100,10))\n",
    "    print (multiply(100,10))\n",
    "    print (divide(100,10))\n",
    "\n",
    "if __name__ == \"__main__\":\n",
    "   main()"
   ]
  },
  {
   "cell_type": "markdown",
   "id": "b1ab02d8-6852-49c5-b6fe-e751b2bccbfa",
   "metadata": {},
   "source": [
    "**Leap Years**\n",
    "\n",
    "- A year not divisible by 4 is not a leap year\n",
    "- A year divisible by 4 but not by 100 is a leap year\n",
    "- A year divisible by 100 but not by 400 is not a leap year\n",
    "- A year  divisible by 400 is a leap year"
   ]
  },
  {
   "cell_type": "code",
   "execution_count": 49,
   "id": "b140b8ef-6566-4a5f-aeb8-a39369d869fb",
   "metadata": {},
   "outputs": [
    {
     "name": "stdin",
     "output_type": "stream",
     "text": [
      "What year do you want ot check?  2000\n"
     ]
    },
    {
     "name": "stdout",
     "output_type": "stream",
     "text": [
      "2000 IS a leap year (divisible by 400)\n"
     ]
    }
   ],
   "source": [
    "# elif is used to check more than just one condition, and to stop when the first statement which is true is found.\n",
    "\n",
    "year = int(input(\"What year do you want ot check? \"))\n",
    "\n",
    "if year % 4 != 0:\n",
    "    print(f\"{year} is NOT a leap year (not divisible by 4)\")\n",
    "elif year % 100 != 0:\n",
    "    print(f\"{year} IS a leap year (divisible by 4 but not by 100)\")\n",
    "elif year % 400 != 0:\n",
    "    print(f\"{year} is NOT a leap year (divisible by 100 but not by 400)\")\n",
    "else:\n",
    "    print(f\"{year} IS a leap year (divisible by 400)\")\n"
   ]
  },
  {
   "cell_type": "code",
   "execution_count": 51,
   "id": "6d96a5d6-3dc0-4a2b-89e9-e0ab68a0fa68",
   "metadata": {},
   "outputs": [
    {
     "name": "stdout",
     "output_type": "stream",
     "text": [
      "1000 is NOT a leap year (divisible by 100 but not by 400)\n",
      "1100 is NOT a leap year (divisible by 100 but not by 400)\n",
      "1200 IS a leap year (divisible by 400)\n",
      "1300 is NOT a leap year (divisible by 100 but not by 400)\n",
      "1400 is NOT a leap year (divisible by 100 but not by 400)\n",
      "1500 is NOT a leap year (divisible by 100 but not by 400)\n",
      "1600 IS a leap year (divisible by 400)\n",
      "1700 is NOT a leap year (divisible by 100 but not by 400)\n",
      "1800 is NOT a leap year (divisible by 100 but not by 400)\n",
      "1900 is NOT a leap year (divisible by 100 but not by 400)\n",
      "2000 IS a leap year (divisible by 400)\n",
      "2100 is NOT a leap year (divisible by 100 but not by 400)\n",
      "2200 is NOT a leap year (divisible by 100 but not by 400)\n"
     ]
    }
   ],
   "source": [
    "years = [1000, 1100, 1200, 1300, 1400, 1500, 1600, 1700, 1800, 1900, 2000, 2100, 2200]\n",
    "\n",
    "for year in years:\n",
    "    if year % 4 != 0:\n",
    "        print(f\"{year} is NOT a leap year (not divisible by 4)\")\n",
    "    elif year % 100 != 0:\n",
    "        print(f\"{year} IS a leap year (divisible by 4 but not by 100)\")\n",
    "    elif year % 400 != 0:\n",
    "        print(f\"{year} is NOT a leap year (divisible by 100 but not by 400)\")\n",
    "    else:\n",
    "        print(f\"{year} IS a leap year (divisible by 400)\")\n"
   ]
  },
  {
   "cell_type": "markdown",
   "id": "c3648924-0cb2-4440-8da2-fe27618d4be1",
   "metadata": {},
   "source": [
    "# Files are everywhere"
   ]
  },
  {
   "cell_type": "code",
   "execution_count": 99,
   "id": "19111a62-5ff0-4cd7-9959-6c810c54017f",
   "metadata": {},
   "outputs": [
    {
     "name": "stdin",
     "output_type": "stream",
     "text": [
      "What do you want to save? Blablabla\n"
     ]
    },
    {
     "name": "stdout",
     "output_type": "stream",
     "text": [
      "Writing to a file ...\n",
      "Reading from a file ...\n",
      "Blablabla\n"
     ]
    }
   ],
   "source": [
    "# Save your input in a file for later usage, or for transmission\n",
    "text_to_save = input(\"What do you want to save?\")\n",
    "print(\"Writing to a file ...\")\n",
    "with open(\"storage_or_transmission.txt\", \"w\") as f:\n",
    "    f.write(text_to_save)\n",
    "\n",
    "print(\"Reading from a file ...\")\n",
    "with open(\"storage_or_transmission.txt\", \"r\") as f:\n",
    "    content = f.read()\n",
    "    print(content)"
   ]
  },
  {
   "cell_type": "markdown",
   "id": "f8c4e551-8091-4cc3-94b2-c5796446b796",
   "metadata": {},
   "source": [
    "# Loops are everywhere\n",
    "\n",
    "- **For**-loops are commonly used, specifically if you can determine how many iterations are required before starting the loop."
   ]
  },
  {
   "cell_type": "code",
   "execution_count": 38,
   "id": "617ace44-86b3-426c-bc19-9a5d17c0b835",
   "metadata": {},
   "outputs": [
    {
     "name": "stdout",
     "output_type": "stream",
     "text": [
      "Printing list\n",
      "['Last Name,First Name,Birth Year', 'Kalloe,Sunil,1999', 'Jansen,Piet,1958', 'Jansen,Sanne,2016', 'Visser,Sanne,2025', 'Monifa,Chandni,2013', 'Pinas,Anjali,1956', 'Meijer,Jan,2018', 'de Vries,Jan,1974', 'Jansen,Kees,1953', 'Visser,Sanne,1975', 'Meijer,Sanne,1993', 'Monifa,Chandni,1950', 'de Vries,Emma,2000', 'Baldewsingh,Shaquille,1960', 'Ramdien,Chandni,1966', 'Bakker,Piet,1971', 'Visser,Kees,1966', 'Jansen,Piet,2004', 'Meijer,Kees,1961', 'Kalloe,Sunil,2016']\n",
      "\n",
      "Printing three lines\n",
      "Last Name,First Name,Birth Year\n",
      "Kalloe,Sunil,1999\n",
      "Jansen,Piet,1958\n",
      "\n",
      "Printing all lines\n",
      "Kalloe,Sunil,1999\n",
      "Jansen,Piet,1958\n",
      "Jansen,Sanne,2016\n",
      "Visser,Sanne,2025\n",
      "Monifa,Chandni,2013\n",
      "Pinas,Anjali,1956\n",
      "Meijer,Jan,2018\n",
      "de Vries,Jan,1974\n",
      "Jansen,Kees,1953\n",
      "Visser,Sanne,1975\n",
      "Meijer,Sanne,1993\n",
      "Monifa,Chandni,1950\n",
      "de Vries,Emma,2000\n",
      "Baldewsingh,Shaquille,1960\n",
      "Ramdien,Chandni,1966\n",
      "Bakker,Piet,1971\n",
      "Visser,Kees,1966\n",
      "Jansen,Piet,2004\n",
      "Meijer,Kees,1961\n",
      "Kalloe,Sunil,2016\n"
     ]
    }
   ],
   "source": [
    "# Looping through files\n",
    "# Basic example 1\n",
    "filename = \"netherlands_suriname_names.csv\"\n",
    "\n",
    "with open(filename, \"r\", encoding=\"utf-8\") as file:\n",
    "    lines = file.read().splitlines()\n",
    "\n",
    "print(\"Printing list\")\n",
    "print(lines)\n",
    "print()\n",
    "\n",
    "print(\"Printing three lines\")\n",
    "print(lines[0])\n",
    "print(lines[1])\n",
    "print(lines[2])\n",
    "print()\n",
    "\n",
    "print(\"Printing all lines\") # => you will need a loop. For-loops are very common\n",
    "\n",
    "# Iterate over lines (skip header)\n",
    "for line in lines[1:]:\n",
    "    print (line)"
   ]
  },
  {
   "cell_type": "markdown",
   "id": "0d31b488-ab5b-40a3-9a0a-33602ff1284b",
   "metadata": {},
   "source": [
    "**Do the same with a while loop**\n",
    "\n",
    "In this case for-loops are more common"
   ]
  },
  {
   "cell_type": "markdown",
   "id": "c4958960-6f6d-470a-a0d2-b5910b4c5c00",
   "metadata": {},
   "source": [
    "**Conditions are everywhere** (revisited)"
   ]
  },
  {
   "cell_type": "code",
   "execution_count": 22,
   "id": "d8e19da4-8fe6-4c33-b63e-416b14d84f4a",
   "metadata": {},
   "outputs": [
    {
     "name": "stdout",
     "output_type": "stream",
     "text": [
      "Printing all lines\n",
      "['Jansen', 'Sanne', '2016']\n",
      "['Visser', 'Sanne', '2025']\n",
      "['Monifa', 'Chandni', '2013']\n",
      "['Meijer', 'Jan', '2018']\n",
      "['de Vries', 'Emma', '2000']\n",
      "['Jansen', 'Piet', '2004']\n",
      "['Kalloe', 'Sunil', '2016']\n"
     ]
    }
   ],
   "source": [
    "filename = \"netherlands_suriname_names.csv\"\n",
    "\n",
    "with open(filename, \"r\", encoding=\"utf-8\") as file:\n",
    "    lines = file.read().splitlines()\n",
    "\n",
    "print(\"Printing all lines\")\n",
    "\n",
    "# Iterate over lines (skip header)\n",
    "for line in lines[1:]:\n",
    "    fields = line.split(\",\")\n",
    "    if fields[2] >= \"2000\":\n",
    "        print(fields)"
   ]
  },
  {
   "cell_type": "markdown",
   "id": "500b2c1e-7528-49f9-a5f5-7417b03dbba7",
   "metadata": {},
   "source": [
    "# Sorting is everywhere"
   ]
  },
  {
   "cell_type": "code",
   "execution_count": 43,
   "id": "7aede27d-8c63-4be3-ab6b-7a1f24beaf98",
   "metadata": {},
   "outputs": [
    {
     "name": "stdout",
     "output_type": "stream",
     "text": [
      "Printing all lines (sorted):\n",
      "Last Name,First Name,Birth Year\n",
      "Bakker,Piet,1971\n",
      "Baldewsingh,Shaquille,1960\n",
      "Jansen,Kees,1953\n",
      "Jansen,Piet,1958\n",
      "Jansen,Piet,2004\n",
      "Jansen,Sanne,2016\n",
      "Kalloe,Sunil,1999\n",
      "Kalloe,Sunil,2016\n",
      "Meijer,Jan,2018\n",
      "Meijer,Kees,1961\n",
      "Meijer,Sanne,1993\n",
      "Monifa,Chandni,1950\n",
      "Monifa,Chandni,2013\n",
      "Pinas,Anjali,1956\n",
      "Ramdien,Chandni,1966\n",
      "Visser,Kees,1966\n",
      "Visser,Sanne,1975\n",
      "Visser,Sanne,2025\n",
      "de Vries,Emma,2000\n",
      "de Vries,Jan,1974\n"
     ]
    }
   ],
   "source": [
    "#Sorting on name\n",
    "filename = \"netherlands_suriname_names.csv\"\n",
    "\n",
    "with open(filename, \"r\", encoding=\"utf-8\") as file:\n",
    "    lines = file.read().splitlines()\n",
    "\n",
    "# Separate header and data\n",
    "header = lines[0]\n",
    "data_lines = lines[1:]\n",
    "\n",
    "# Sort the data lines alphabetically\n",
    "sorted_lines = sorted(data_lines)\n",
    "\n",
    "# Print header and sorted lines\n",
    "print(\"Printing all lines (sorted):\")\n",
    "print(header)\n",
    "for line in sorted_lines:\n",
    "    print(line)"
   ]
  },
  {
   "cell_type": "markdown",
   "id": "0400aa3c-2fda-4c67-a68e-408118fd513b",
   "metadata": {},
   "source": [
    "**Sorting on date**"
   ]
  },
  {
   "cell_type": "code",
   "execution_count": 36,
   "id": "e6aaad7f-df45-4bbf-b343-f70e4788e3cd",
   "metadata": {},
   "outputs": [
    {
     "name": "stdout",
     "output_type": "stream",
     "text": [
      "Printing all lines (sorted by birth year):\n",
      "Last Name,First Name,Birth Year\n",
      "Monifa,Chandni,1950\n",
      "Jansen,Kees,1953\n",
      "Pinas,Anjali,1956\n",
      "Jansen,Piet,1958\n",
      "Baldewsingh,Shaquille,1960\n",
      "Meijer,Kees,1961\n",
      "Ramdien,Chandni,1966\n",
      "Visser,Kees,1966\n",
      "Bakker,Piet,1971\n",
      "de Vries,Jan,1974\n",
      "Visser,Sanne,1975\n",
      "Meijer,Sanne,1993\n",
      "Kalloe,Sunil,1999\n",
      "de Vries,Emma,2000\n",
      "Jansen,Piet,2004\n",
      "Monifa,Chandni,2013\n",
      "Jansen,Sanne,2016\n",
      "Kalloe,Sunil,2016\n",
      "Meijer,Jan,2018\n",
      "Visser,Sanne,2025\n"
     ]
    }
   ],
   "source": [
    "# More complex\n",
    "filename = \"netherlands_suriname_names.csv\"\n",
    "\n",
    "with open(filename, \"r\", encoding=\"utf-8\") as file:\n",
    "    lines = file.read().splitlines()\n",
    "\n",
    "# Separate header and data\n",
    "header = lines[0]\n",
    "data_lines = lines[1:]\n",
    "\n",
    "# Find the index of \"Birth Year\"\n",
    "header_fields = header.split(\",\")\n",
    "birth_index = header_fields.index(\"Birth Year\")\n",
    "\n",
    "# Convert to list of tuples (birth_year_int, line)\n",
    "def parse_birth_year(line):\n",
    "    fields = line.split(\",\")\n",
    "    try:\n",
    "        return (int(fields[birth_index].strip()), line)\n",
    "    except (IndexError, ValueError):\n",
    "        return (float('inf'), line)  # Place malformed/missing years at the end\n",
    "\n",
    "# Sort by birth year\n",
    "sorted_data = sorted(data_lines, key=parse_birth_year)\n",
    "\n",
    "# Print header and sorted lines\n",
    "print(\"Printing all lines (sorted by birth year):\")\n",
    "print(header)\n",
    "for line in sorted_data:\n",
    "    print(line)\n"
   ]
  },
  {
   "cell_type": "markdown",
   "id": "5e6788e7-f48b-4bab-ada1-2043e8eecac3",
   "metadata": {},
   "source": [
    "**Loops are everywhere** (revisited)\n",
    "\n",
    "- **While**-loops => if you do not know when the loop will end, e.g. choice of the user or something you cannot predetermine"
   ]
  },
  {
   "cell_type": "code",
   "execution_count": 65,
   "id": "650bd563-0180-467b-af8b-e9bea6dbbcb6",
   "metadata": {},
   "outputs": [
    {
     "name": "stdout",
     "output_type": "stream",
     "text": [
      "Start of the program\n"
     ]
    },
    {
     "name": "stdin",
     "output_type": "stream",
     "text": [
      "Please enter a value between 0 and 9, any other value to quit. 9\n"
     ]
    },
    {
     "name": "stdout",
     "output_type": "stream",
     "text": [
      "Counter: 1 Result: 1000000000\n",
      "Please enter a value between 0 and 9, any other value to quit.\n"
     ]
    },
    {
     "name": "stdin",
     "output_type": "stream",
     "text": [
      "Please enter a value between 0 and 9, any other value to quit. 99\n"
     ]
    },
    {
     "name": "stdout",
     "output_type": "stream",
     "text": [
      "End of the program\n"
     ]
    }
   ],
   "source": [
    "# Power calculator, until you want to stop\n",
    "print(\"Start of the program\")\n",
    "counter = 0\n",
    "prompt = \"Please enter a value between 0 and 9, any other value to quit.\"\n",
    "while True:\n",
    "    val = int(input(prompt))\n",
    "    if val not in range(10):\n",
    "        break # exit/terminate the loop\n",
    "    else:\n",
    "        counter = counter + 1\n",
    "        print (\"Counter:\", counter, \"Result:\", 10 ** val)\n",
    "        print(prompt)\n",
    "print(\"End of the program\")\n"
   ]
  }
 ],
 "metadata": {
  "kernelspec": {
   "display_name": "Python [conda env:base] *",
   "language": "python",
   "name": "conda-base-py"
  },
  "language_info": {
   "codemirror_mode": {
    "name": "ipython",
    "version": 3
   },
   "file_extension": ".py",
   "mimetype": "text/x-python",
   "name": "python",
   "nbconvert_exporter": "python",
   "pygments_lexer": "ipython3",
   "version": "3.11.11"
  }
 },
 "nbformat": 4,
 "nbformat_minor": 5
}
