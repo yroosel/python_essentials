{
 "cells": [
  {
   "cell_type": "markdown",
   "id": "99513bc6-d58d-4740-830d-730433fdb0c4",
   "metadata": {},
   "source": [
    "# Datetime Further Explored\n",
    "\n",
    "Extracting information from a timestamp\n"
   ]
  },
  {
   "cell_type": "code",
   "execution_count": 6,
   "id": "043c47d6-d3b0-403c-a08b-2ecbb6f07a13",
   "metadata": {},
   "outputs": [
    {
     "name": "stdout",
     "output_type": "stream",
     "text": [
      "Original datetime: 2025-05-20 09:34:26.697534\n"
     ]
    }
   ],
   "source": [
    "from datetime import datetime\n",
    "\n",
    "now = datetime.now()\n",
    "print(\"Original datetime:\", now)"
   ]
  },
  {
   "cell_type": "markdown",
   "id": "15761176-6164-465d-b627-9ce4bb65e8f1",
   "metadata": {},
   "source": [
    "## Manipulating date and time information: **strftime()**\n",
    "\n",
    "- **strftime()** is a method in Python that formats a datetime object into a readable string based on a specified format, such as day, month, year, hour, or weekday name.\n",
    "- Below is a list of examples of formatting dates."
   ]
  },
  {
   "cell_type": "code",
   "execution_count": 19,
   "id": "0802d115-bef7-4407-bc46-4cb2fcf68f0f",
   "metadata": {},
   "outputs": [
    {
     "name": "stdout",
     "output_type": "stream",
     "text": [
      "Full date and time        : 2025-05-20 09:34:26\n",
      "Year                      : 2025\n",
      "Month (number)            : 05\n",
      "Month (name)              : May\n",
      "Day of the month          : 20\n",
      "Day of the week (number)  : 2\n",
      "Day of the week (name)    : Tuesday\n",
      "Short weekday name        : Tue\n",
      "Hour (24-hour)            : 09\n",
      "Hour (12-hour)            : 09\n",
      "AM/PM                     : AM\n",
      "Minute                    : 34\n",
      "Second                    : 26\n",
      "Week number of the year   : 20\n"
     ]
    }
   ],
   "source": [
    "# First run the previous cell\n",
    "print(\"Full date and time        :\", now.strftime(\"%Y-%m-%d %H:%M:%S\"))\n",
    "print(\"Year                      :\", now.strftime(\"%Y\"))         # 2025\n",
    "print(\"Month (number)            :\", now.strftime(\"%m\"))         # 05\n",
    "print(\"Month (name)              :\", now.strftime(\"%B\"))         # May\n",
    "print(\"Day of the month          :\", now.strftime(\"%d\"))         # 19\n",
    "print(\"Day of the week (number)  :\", now.strftime(\"%w\"))         # 0 (Sunday) to 6 (Saturday)\n",
    "print(\"Day of the week (name)    :\", now.strftime(\"%A\"))         # Monday\n",
    "print(\"Short weekday name        :\", now.strftime(\"%a\"))         # Mon\n",
    "print(\"Hour (24-hour)            :\", now.strftime(\"%H\"))         # 13\n",
    "print(\"Hour (12-hour)            :\", now.strftime(\"%I\"))         # 01\n",
    "print(\"AM/PM                     :\", now.strftime(\"%p\"))         # PM\n",
    "print(\"Minute                    :\", now.strftime(\"%M\"))         # 45\n",
    "print(\"Second                    :\", now.strftime(\"%S\"))         # 30\n",
    "print(\"Week number of the year   :\", now.strftime(\"%U\"))         # e.g., 20\n"
   ]
  },
  {
   "cell_type": "markdown",
   "id": "8e743c06-d723-42bc-baff-987623cf41f4",
   "metadata": {},
   "source": [
    "# Loops and Lists Further Explored\n",
    "\n",
    "- **for** loop: Use this to process a known number of items, such as elements in a **list**, records from a table, or lines from a text file.\n",
    "Before the loop starts, you typically know how many items will be processed.\n",
    "\n",
    "- **while** loop: Use this when the number of iterations is unknown in advance, such as when processing a **data stream** or waiting for a condition to be met. The loop continues as long as the condition remains true. It is important to include a **termination condition** in a while loop to prevent it from running forever. This ensures the loop will eventually stop when the desired outcome is achieved."
   ]
  },
  {
   "cell_type": "markdown",
   "id": "1d8dc341-ebff-4412-8085-97be44221d6a",
   "metadata": {},
   "source": [
    "# Tables\n",
    "## Pandas and Tabulate\n",
    "**Pandas and Tabulate** are extremely useful tools in structured data management, and they serve complementary roles:\n",
    "- 🐼 Pandas → for managing structured data\n",
    "- 📋 Tabulate → for displaying structured data nicely\n",
    "\n",
    "**Definition**\n",
    "- **Pandas** is a Python library for working with structured data. It provides easy-to-use tools to load, analyze, manipulate, and visualize data in tables (called DataFrames) and 1D arrays (called Series).\n",
    "- **Tabulate** is a Python library that formats data in tables (lists, dicts, DataFrames, etc.) into plain-text tables.\n",
    "It’s especially useful for displaying data in a readable way in the terminal or in reports. Think of it as a **“pretty printer”** for tables."
   ]
  },
  {
   "cell_type": "markdown",
   "id": "5836a9f0-17ff-44fd-a70d-91aa8c73e58d",
   "metadata": {},
   "source": [
    "## Spreadsheet Monthly Weather in Brussels\n",
    "\n",
    "Here are the first three months as an example:\n",
    "\n",
    "- January: Max Temp = 10°C, Min Temp = -1°C, Sunny = 5 days, Cloudy = 15 days, Rainy = 11 days\n",
    "- February: Max Temp = 12°C, Min Temp = 0°C, Sunny = 6 days, Cloudy = 12 days, Rainy = 11 days\n",
    "- March: Max Temp = 15°C, Min Temp = 2°C, Sunny = 8 days, Cloudy = 14 days, Rainy = 9 days"
   ]
  },
  {
   "cell_type": "markdown",
   "id": "c35db028-1967-423d-accc-95fc8516bcf1",
   "metadata": {},
   "source": [
    "Below is the complete Python code to:\n",
    "\n",
    "- Read the data from the spreadsheet using the **pandas** library.\n",
    "- Use a **for loop to iterate** over the rows.\n",
    "- Display the data in a well-formatted table using the **tabulate** module\n",
    "- **Note** You may need to install pandas and/or tabulate on your computer, e.g.\n",
    "  - ! pip install pandas\n",
    "  - ! pip install tabulate"
   ]
  },
  {
   "cell_type": "markdown",
   "id": "69a6460f-c3f3-441f-be97-28fd675cee42",
   "metadata": {},
   "source": [
    "## Reading and Outputting Tables"
   ]
  },
  {
   "cell_type": "code",
   "execution_count": 102,
   "id": "22ed3873-33e6-4a23-bc19-5f7326955c83",
   "metadata": {},
   "outputs": [
    {
     "name": "stdout",
     "output_type": "stream",
     "text": [
      "Raw Printout (list of lists)\n",
      "[['January', 10, -1, 5, 15, 11], ['February', 12, 0, 6, 12, 11], ['March', 15, 2, 8, 14, 9], ['April', 18, 5, 12, 10, 8], ['May', 22, 9, 14, 9, 8], ['June', 25, 13, 15, 8, 7], ['July', 28, 15, 18, 7, 6], ['August', 27, 14, 17, 8, 6], ['September', 23, 11, 13, 10, 7], ['October', 17, 7, 9, 14, 8], ['November', 11, 3, 6, 17, 7], ['December', 7, 0, 4, 18, 9]]\n",
      "\n",
      "Nice Printout\n",
      "+-----------+------------+------------+--------------+---------------+--------------+\n",
      "| Month     |   Max Temp |   Min Temp |   Sunny Days |   Cloudy Days |   Rainy Days |\n",
      "+===========+============+============+==============+===============+==============+\n",
      "| January   |         10 |         -1 |            5 |            15 |           11 |\n",
      "+-----------+------------+------------+--------------+---------------+--------------+\n",
      "| February  |         12 |          0 |            6 |            12 |           11 |\n",
      "+-----------+------------+------------+--------------+---------------+--------------+\n",
      "| March     |         15 |          2 |            8 |            14 |            9 |\n",
      "+-----------+------------+------------+--------------+---------------+--------------+\n",
      "| April     |         18 |          5 |           12 |            10 |            8 |\n",
      "+-----------+------------+------------+--------------+---------------+--------------+\n",
      "| May       |         22 |          9 |           14 |             9 |            8 |\n",
      "+-----------+------------+------------+--------------+---------------+--------------+\n",
      "| June      |         25 |         13 |           15 |             8 |            7 |\n",
      "+-----------+------------+------------+--------------+---------------+--------------+\n",
      "| July      |         28 |         15 |           18 |             7 |            6 |\n",
      "+-----------+------------+------------+--------------+---------------+--------------+\n",
      "| August    |         27 |         14 |           17 |             8 |            6 |\n",
      "+-----------+------------+------------+--------------+---------------+--------------+\n",
      "| September |         23 |         11 |           13 |            10 |            7 |\n",
      "+-----------+------------+------------+--------------+---------------+--------------+\n",
      "| October   |         17 |          7 |            9 |            14 |            8 |\n",
      "+-----------+------------+------------+--------------+---------------+--------------+\n",
      "| November  |         11 |          3 |            6 |            17 |            7 |\n",
      "+-----------+------------+------------+--------------+---------------+--------------+\n",
      "| December  |          7 |          0 |            4 |            18 |            9 |\n",
      "+-----------+------------+------------+--------------+---------------+--------------+\n"
     ]
    }
   ],
   "source": [
    "import pandas as pd \n",
    "from tabulate import tabulate\n",
    "\n",
    "# Step 1: Load the spreadsheet\n",
    "filename = \"brussels_weather_2020.xlsx\"  # Make sure the file is in your working directory\n",
    "df = pd.read_excel(filename)\n",
    "\n",
    "# Step 2: Prepare headers and rows for display\n",
    "headers = df.columns.tolist()\n",
    "rows = []\n",
    "\n",
    "# Step 3: Use a for loop to collect the row data\n",
    "for _, row in df.iterrows():\n",
    "    rows.append(row.tolist())\n",
    "\n",
    "# Step 4: Display the table unformatted\n",
    "print(\"Raw Printout (list of lists)\")\n",
    "print(rows)\n",
    "print()\n",
    "\n",
    "# Step 5: Display the table formatted\n",
    "# Tabulate needs a list to print\n",
    "print(\"Nice Printout\")\n",
    "print(tabulate(rows, headers=headers, tablefmt=\"grid\"))"
   ]
  },
  {
   "cell_type": "markdown",
   "id": "fc781533-dce8-4e56-ad11-6541b2d64cd2",
   "metadata": {},
   "source": [
    "**Looping through table data and lists uses indexes**\n",
    "\n",
    "The underscore (_) is used as a throwaway variable to indicate that the value is intentionally ignored.\n",
    "\n",
    "**Explanation:**\n",
    "df.iterrows() returns an iterator that gives you two values on each iteration:\n",
    "\n",
    "- the index of the row\n",
    "- the row data itself as a **Series**"
   ]
  },
  {
   "cell_type": "markdown",
   "id": "edd669df-9d59-4628-8f01-73f7a245e412",
   "metadata": {},
   "source": [
    "**Notes on Lists and Series**\n",
    "\n",
    "For many beginner-level tasks, a Pandas Series can feel just like a Python list — especially when you're just storing numbers or strings.\n",
    "\n",
    "**Lists and series** are very similar in several ways, especially at first glance:\n",
    "\n",
    "- Both are 1-dimensional containers of values\n",
    "- Both support index-based access\n",
    "- You can iterate over both\n",
    "- You can store mixed types in both (though it's not recommended in a Series)\n",
    "\n",
    "A **Series** is designed for labeled data analysis, with extra features that make it very powerful when used with:\n",
    "\n",
    "- tables (DataFrame)\n",
    "- statistics\n",
    "- filtering with conditions\n",
    "- grouping and aggregation\n",
    "- custom indexing\n",
    "\n",
    "➡️ **Series** supports vectorized operations, like multiplying all values in one step (much faster and more readable).\n",
    "\n",
    "➡️ **list** requires a loop or list comprehension."
   ]
  },
  {
   "cell_type": "markdown",
   "id": "304c2210-2b15-4147-9daa-ae9c5bf17cfc",
   "metadata": {},
   "source": [
    "## Sorting Tables\n",
    "\n",
    "- Sorting  — for example, by maximum temperature (from highest to lowest)\n"
   ]
  },
  {
   "cell_type": "code",
   "execution_count": 100,
   "id": "75e871e0-ad9a-413f-a7b5-6e619944358f",
   "metadata": {},
   "outputs": [
    {
     "name": "stdout",
     "output_type": "stream",
     "text": [
      "+-----------+------------+------------+--------------+---------------+--------------+\n",
      "| Month     |   Max Temp |   Min Temp |   Sunny Days |   Cloudy Days |   Rainy Days |\n",
      "+===========+============+============+==============+===============+==============+\n",
      "| July      |         28 |         15 |           18 |             7 |            6 |\n",
      "+-----------+------------+------------+--------------+---------------+--------------+\n",
      "| August    |         27 |         14 |           17 |             8 |            6 |\n",
      "+-----------+------------+------------+--------------+---------------+--------------+\n",
      "| June      |         25 |         13 |           15 |             8 |            7 |\n",
      "+-----------+------------+------------+--------------+---------------+--------------+\n",
      "| September |         23 |         11 |           13 |            10 |            7 |\n",
      "+-----------+------------+------------+--------------+---------------+--------------+\n",
      "| May       |         22 |          9 |           14 |             9 |            8 |\n",
      "+-----------+------------+------------+--------------+---------------+--------------+\n",
      "| April     |         18 |          5 |           12 |            10 |            8 |\n",
      "+-----------+------------+------------+--------------+---------------+--------------+\n",
      "| October   |         17 |          7 |            9 |            14 |            8 |\n",
      "+-----------+------------+------------+--------------+---------------+--------------+\n",
      "| March     |         15 |          2 |            8 |            14 |            9 |\n",
      "+-----------+------------+------------+--------------+---------------+--------------+\n",
      "| February  |         12 |          0 |            6 |            12 |           11 |\n",
      "+-----------+------------+------------+--------------+---------------+--------------+\n",
      "| November  |         11 |          3 |            6 |            17 |            7 |\n",
      "+-----------+------------+------------+--------------+---------------+--------------+\n",
      "| January   |         10 |         -1 |            5 |            15 |           11 |\n",
      "+-----------+------------+------------+--------------+---------------+--------------+\n",
      "| December  |          7 |          0 |            4 |            18 |            9 |\n",
      "+-----------+------------+------------+--------------+---------------+--------------+\n"
     ]
    }
   ],
   "source": [
    "import pandas as pd \n",
    "from tabulate import tabulate\n",
    "\n",
    "#Step 1: Load the spreadsheet\n",
    "filename = \"brussels_weather_2020.xlsx\"  # Ensure the file is in the same directory\n",
    "df = pd.read_excel(filename)\n",
    "\n",
    "#Step 2: Sort the DataFrame by \"Max Temp\" in descending order\n",
    "df_sorted = df.sort_values(by=\"Max Temp\", ascending=False)\n",
    "\n",
    "#Step 3: Display the sorted table\n",
    "print(tabulate(df_sorted, headers=\"keys\", tablefmt=\"grid\", showindex=False))"
   ]
  },
  {
   "cell_type": "markdown",
   "id": "751a2789-a4a0-4e3d-bb99-edaaad9e1d0a",
   "metadata": {},
   "source": [
    "**Notes:**\n",
    "\n",
    "- Change \"Max Temp\" to any other column name to sort differently (e.g., \"Sunny Days\").\n",
    "- Set ascending=True for sorting from lowest to highest.\n"
   ]
  },
  {
   "cell_type": "markdown",
   "id": "ac06e8ef-0929-462c-91e3-030b0e471691",
   "metadata": {},
   "source": [
    "## Filtering data\n",
    "\n",
    "- Find all months with more than 15 sunny days"
   ]
  },
  {
   "cell_type": "markdown",
   "id": "b0c6ff3b-5b62-4c49-9afd-32637aa8c741",
   "metadata": {},
   "source": [
    "**Using Loop and If statement**"
   ]
  },
  {
   "cell_type": "code",
   "execution_count": 65,
   "id": "8a78fef0-25aa-4ac5-960a-75127e7ad564",
   "metadata": {},
   "outputs": [
    {
     "name": "stdout",
     "output_type": "stream",
     "text": [
      "+---------+------------+------------+--------------+---------------+--------------+\n",
      "| Month   |   Max Temp |   Min Temp |   Sunny Days |   Cloudy Days |   Rainy Days |\n",
      "+=========+============+============+==============+===============+==============+\n",
      "| July    |         28 |         15 |           18 |             7 |            6 |\n",
      "+---------+------------+------------+--------------+---------------+--------------+\n",
      "| August  |         27 |         14 |           17 |             8 |            6 |\n",
      "+---------+------------+------------+--------------+---------------+--------------+\n"
     ]
    }
   ],
   "source": [
    "import pandas as pd\n",
    "from tabulate import tabulate\n",
    "\n",
    "# Step 1: Load the spreadsheet\n",
    "filename = \"brussels_weather_2020.xlsx\"\n",
    "df = pd.read_excel(filename)\n",
    "\n",
    "# Step 2: Prepare a list to store rows that match the condition\n",
    "filtered_rows = []\n",
    "\n",
    "# Step 3: Loop through rows and use an if-statement to filter\n",
    "for _, row in df.iterrows():\n",
    "    if row[\"Sunny Days\"] > 15:\n",
    "        filtered_rows.append(row.tolist())\n",
    "\n",
    "# Step 4: Display the filtered results\n",
    "headers = df.columns.tolist()\n",
    "print(tabulate(filtered_rows, headers=headers, tablefmt=\"grid\"))\n"
   ]
  },
  {
   "cell_type": "markdown",
   "id": "64dff6d4-11e7-4b6c-bd2a-75e596134995",
   "metadata": {},
   "source": [
    "**Vectorized filtering** operation using Boolean indexing in Pandas"
   ]
  },
  {
   "cell_type": "code",
   "execution_count": 68,
   "id": "80b92445-57fc-4d46-b0ef-1018fd13ea22",
   "metadata": {},
   "outputs": [
    {
     "name": "stdout",
     "output_type": "stream",
     "text": [
      "+---------+------------+------------+--------------+---------------+--------------+\n",
      "| Month   |   Max Temp |   Min Temp |   Sunny Days |   Cloudy Days |   Rainy Days |\n",
      "+=========+============+============+==============+===============+==============+\n",
      "| July    |         28 |         15 |           18 |             7 |            6 |\n",
      "+---------+------------+------------+--------------+---------------+--------------+\n",
      "| August  |         27 |         14 |           17 |             8 |            6 |\n",
      "+---------+------------+------------+--------------+---------------+--------------+\n"
     ]
    }
   ],
   "source": [
    "import pandas as pd\n",
    "from tabulate import tabulate\n",
    "\n",
    "# Step 1: Load the spreadsheet\n",
    "filename = \"brussels_weather_2020.xlsx\"\n",
    "df = pd.read_excel(filename)\n",
    "\n",
    "# Step 2: Filter months with more than 15 sunny days\n",
    "sunny_months = df[df[\"Sunny Days\"] > 15]\n",
    "# print(sunny_months)\n",
    "\n",
    "# Step 3: Display the filtered result\n",
    "print(tabulate(sunny_months, headers=\"keys\", tablefmt=\"grid\", showindex=False))\n"
   ]
  },
  {
   "cell_type": "markdown",
   "id": "10e3b10c-261f-4c95-b74e-92cc843e964b",
   "metadata": {},
   "source": [
    "**Step-by-step breakdown:** (line 9)\n",
    "    \n",
    "df[\"Sunny Days\"] > 15\n",
    "→ This creates a Boolean Series (a list of True or False values), one for each row.\n",
    "\n",
    "df[ ... ]\n",
    "→ This tells Pandas to return only the rows where the condition is True.\n",
    "\n",
    "The result is assigned to sunny_months.\n",
    "\n",
    "This method is called: \n",
    "\n",
    "- Boolean indexing\n",
    "- Conditional filtering\n",
    "- Vectorized filtering (because it's applied to the whole column at once, without a loop)\n"
   ]
  },
  {
   "cell_type": "markdown",
   "id": "fbb977a8-dad6-46ee-94c3-8f3ffc5f1c93",
   "metadata": {},
   "source": [
    "# Visualizing data\n",
    "\n",
    "- Read Excel spreadsheet and create a line chart of the Max and Min Temperatures for Brussels in 2020"
   ]
  },
  {
   "cell_type": "code",
   "execution_count": 91,
   "id": "697e6f78-3623-40ff-86e4-f9bd3102124b",
   "metadata": {},
   "outputs": [
    {
     "data": {
      "image/png": "[encoded data removed]",
      "text/plain": [
       "<Figure size 1000x600 with 1 Axes>"
      ]
     },
     "metadata": {},
     "output_type": "display_data"
    }
   ],
   "source": [
    "import pandas as pd\n",
    "import matplotlib.pyplot as plt\n",
    "\n",
    "# Step 1: Load the Excel file\n",
    "filename = \"brussels_weather_2020.xlsx\"  # Make sure the file is in your working directory\n",
    "df = pd.read_excel(filename)\n",
    "\n",
    "# Step 2: Create a line plot for Max and Min Temperatures\n",
    "plt.figure(figsize=(10, 6))\n",
    "plt.plot(df[\"Month\"], df[\"Max Temp\"], marker=\"o\", label=\"Max Temp (°C)\")\n",
    "plt.plot(df[\"Month\"], df[\"Min Temp\"], marker=\"o\", label=\"Min Temp (°C)\")\n",
    "\n",
    "# Step 3: Customize the chart\n",
    "plt.title(\"Brussels Weather 2020: Max and Min Temperatures\")\n",
    "plt.xlabel(\"Month\")\n",
    "plt.ylabel(\"Temperature (°C)\")\n",
    "plt.xticks(rotation=45)\n",
    "plt.legend()\n",
    "plt.grid(True)\n",
    "plt.tight_layout()\n",
    "\n",
    "# Step 4: Show the chart\n",
    "plt.show()"
   ]
  },
  {
   "cell_type": "markdown",
   "id": "1aba2cc3-f116-4901-942e-ec965613af28",
   "metadata": {},
   "source": [
    "**Notes**\n",
    "- **plt.figure(figsize=(10, 6))**\n",
    "    - creates a new figure (i.e. chart) with width 10 and height 6 inches\n",
    "- **plt.plot(df[\"Month\"], df[\"Max Temp\"], marker=\"o\", label=\"Max Temp (°C)\")**\n",
    "    - Plots the Max Temp values on the y-axis against the Month on the x-axis\n",
    "    - marker=\"o\" adds a circle at each data point\n",
    "    - label=\"Max Temp (°C)\" adds a label for the legend\n",
    "      \n",
    "- **plt.xticks(rotation=45)**\n",
    "    - This command rotates the labels on the x-axis by 45 degrees.\n",
    "    - 📌 Why it's useful:\n",
    "    - It helps prevent overlapping of text when x-axis labels (like month names) are long or close together.\n",
    "    - A rotation of 45 makes the chart easier to read, especially for labels like \"January\", \"February\", ....\n",
    "    - 🔁 Other options:\n",
    "        - rotation=0 → horizontal labels (default)\n",
    "        - rotation=90 → vertical labels\n",
    "        - rotation=30 → slightly tilted\n",
    "          \n",
    "- To actually **display the chart**, you need:\n",
    "    - plt.legend()\n",
    "    - plt.grid(True)\n",
    "    - plt.tight_layout()\n",
    "    - plt.show()\n"
   ]
  },
  {
   "cell_type": "code",
   "execution_count": null,
   "id": "7b1e6615-47d1-4a30-a261-4b253e5d4309",
   "metadata": {},
   "outputs": [],
   "source": []
  },
  {
   "cell_type": "markdown",
   "id": "5c979c23-d07d-461b-816c-b6fa6b329c8a",
   "metadata": {},
   "source": []
  },
  {
   "cell_type": "markdown",
   "id": "9ca58867-9816-4b90-aeb8-cad88e815f9f",
   "metadata": {},
   "source": [
    "# Pandas and Matplotlib Further Explored"
   ]
  },
  {
   "cell_type": "code",
   "execution_count": null,
   "id": "aec0afe9-0bc5-423d-b6b8-71689ff6b389",
   "metadata": {},
   "outputs": [],
   "source": [
    "# CODE EXAMPLES"
   ]
  }
 ],
 "metadata": {
  "kernelspec": {
   "display_name": "Python [conda env:base] *",
   "language": "python",
   "name": "conda-base-py"
  },
  "language_info": {
   "codemirror_mode": {
    "name": "ipython",
    "version": 3
   },
   "file_extension": ".py",
   "mimetype": "text/x-python",
   "name": "python",
   "nbconvert_exporter": "python",
   "pygments_lexer": "ipython3",
   "version": "3.11.11"
  }
 },
 "nbformat": 4,
 "nbformat_minor": 5
}
