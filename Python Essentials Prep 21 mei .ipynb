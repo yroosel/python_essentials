{
 "cells": [
  {
   "cell_type": "markdown",
   "id": "f384b15a-6411-43bc-be40-22e2722de4d8",
   "metadata": {},
   "source": [
    "# Lists Further Explored\n",
    "**Core List Operations**\n",
    "\n",
    "- Looping through a list: Go through each item in the list one by one using a loop. (done)\n",
    "- Inserting elements into a list: Add an item at a specific position in the list. (now)\n",
    "- Appending elements to a list: Add an item to the end of the list. (now)\n",
    "- Deleting elements from a list: Remove items from the list by value or position. (now)\n",
    "\n",
    "**Recommended Additions**\n",
    "\n",
    "- Updating elements in a list: Modify an existing item by index. Example: my_list[2] = \"new value\" (now)\n",
    "- Searching for elements: Check if an item is in the list using in or find its index with .index(). Example: \"apple\" in my_list (now)\n",
    "- Slicing a list: Access a part of the list using slice notation. Example: my_list[1:4] (now)\n",
    "- Sorting a list: Sort items alphabetically or numerically. (done)\n",
    "- Copying a list: Create a copy using slicing or .copy(). Example: copy = my_list[:] (now)\n",
    "- Clearing a list: Remove all items with .clear(). (now)"
   ]
  },
  {
   "cell_type": "code",
   "execution_count": 6,
   "id": "401e0878-4d1f-4a10-8201-2a1efe2e2acc",
   "metadata": {},
   "outputs": [],
   "source": [
    "# CODE EXAMPLES"
   ]
  },
  {
   "cell_type": "markdown",
   "id": "9ca58867-9816-4b90-aeb8-cad88e815f9f",
   "metadata": {},
   "source": [
    "# Pandas Further Explored"
   ]
  },
  {
   "cell_type": "code",
   "execution_count": null,
   "id": "aec0afe9-0bc5-423d-b6b8-71689ff6b389",
   "metadata": {},
   "outputs": [],
   "source": [
    "# CODE EXAMPLES"
   ]
  }
 ],
 "metadata": {
  "kernelspec": {
   "display_name": "Python [conda env:base] *",
   "language": "python",
   "name": "conda-base-py"
  },
  "language_info": {
   "codemirror_mode": {
    "name": "ipython",
    "version": 3
   },
   "file_extension": ".py",
   "mimetype": "text/x-python",
   "name": "python",
   "nbconvert_exporter": "python",
   "pygments_lexer": "ipython3",
   "version": "3.11.11"
  }
 },
 "nbformat": 4,
 "nbformat_minor": 5
}
