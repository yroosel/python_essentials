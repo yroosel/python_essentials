{
 "cells": [
  {
   "cell_type": "code",
   "execution_count": 65,
   "metadata": {},
   "outputs": [
    {
     "name": "stdout",
     "output_type": "stream",
     "text": [
      "Python 3.11.11\n"
     ]
    }
   ],
   "source": [
    "! python --version"
   ]
  },
  {
   "cell_type": "markdown",
   "metadata": {},
   "source": [
    "**Extra Practice** **Printing**"
   ]
  },
  {
   "cell_type": "code",
   "execution_count": 189,
   "metadata": {},
   "outputs": [
    {
     "name": "stdout",
     "output_type": "stream",
     "text": [
      "1111111111\n"
     ]
    }
   ],
   "source": [
    "print(1_111_111_111)"
   ]
  },
  {
   "cell_type": "code",
   "execution_count": 187,
   "metadata": {},
   "outputs": [
    {
     "name": "stdout",
     "output_type": "stream",
     "text": [
      "fish&chips\n"
     ]
    }
   ],
   "source": [
    "print(\"fish\", \"chips\", sep=\"&\")"
   ]
  },
  {
   "cell_type": "code",
   "execution_count": 60,
   "metadata": {},
   "outputs": [
    {
     "name": "stdout",
     "output_type": "stream",
     "text": [
      "asepbsepc\n",
      "a-b-c\n"
     ]
    }
   ],
   "source": [
    "print(\"a\",\"b\",\"c\", sep=\"sep\")\n",
    "print(\"a\",\"b\",\"c\", sep=\"-\")"
   ]
  },
  {
   "cell_type": "code",
   "execution_count": 161,
   "metadata": {},
   "outputs": [
    {
     "name": "stdout",
     "output_type": "stream",
     "text": [
      "1\n",
      "Oh dear, something went wrong...\n",
      "3\n"
     ]
    }
   ],
   "source": [
    "try:\n",
    "    print(\"1\")\n",
    "    x = 1 / 0\n",
    "    print(\"2\")\n",
    "except:\n",
    "    print(\"Oh dear, something went wrong...\")\n",
    "\n",
    "print(\"3\")"
   ]
  },
  {
   "cell_type": "code",
   "execution_count": null,
   "metadata": {},
   "outputs": [],
   "source": [
    "x = float(input())\n",
    "y = float(input())\n",
    "print(y ** (1 / x))\n"
   ]
  },
  {
   "cell_type": "markdown",
   "metadata": {},
   "source": [
    "**Extra Practice 7 MAY** **Managing Input & Output** "
   ]
  },
  {
   "cell_type": "code",
   "execution_count": 104,
   "metadata": {},
   "outputs": [
    {
     "name": "stdout",
     "output_type": "stream",
     "text": [
      "Yvan Rooseleer BiASC Gravenbosstraat 134 Brussel\n"
     ]
    }
   ],
   "source": [
    "### STEP 1 # In reality, data is often read in \"realtime\" from an input source, e.g. a file, a spreadsheet, a message, ...\n",
    "first_name = \"Yvan\"\n",
    "last_name = \"Rooseleer\"\n",
    "company = \"BiASC\"\n",
    "address = \"Gravenbosstraat 134\"\n",
    "city = \"Brussel\"\n",
    "\n",
    "print (first_name, last_name, company, address, city)"
   ]
  },
  {
   "cell_type": "code",
   "execution_count": 235,
   "metadata": {},
   "outputs": [
    {
     "name": "stdout",
     "output_type": "stream",
     "text": [
      "Y. Rooseleer\n"
     ]
    }
   ],
   "source": [
    "first_name = \"Yvan\"\n",
    "last_name = \"Rooseleer\"\n",
    "company = \"BiASC\"\n",
    "address = \"Gravenbosstraat 134\"\n",
    "city = \"Brussel\"\n",
    "\n",
    "###short_name = f\"{first_name[0]}. {last_name}\"\n",
    "short_name = first_name[0] +\". \"+ last_name\n",
    "print(short_name)"
   ]
  },
  {
   "cell_type": "code",
   "execution_count": 217,
   "metadata": {},
   "outputs": [
    {
     "name": "stdin",
     "output_type": "stream",
     "text": [
      "Voornaam: Yvan\n",
      "Familienaam: Rooseleer\n",
      "Company: BiASC\n",
      "Adres: Gravenbos 134\n",
      "Woonplaats: Liedekerke\n"
     ]
    },
    {
     "name": "stdout",
     "output_type": "stream",
     "text": [
      "Yvan Rooseleer BiASC Gravenbos 134 Liedekerke\n"
     ]
    }
   ],
   "source": [
    "### STEP 1 USING INPUT\n",
    "first_name = input(\"Voornaam:\")\n",
    "last_name = input(\"Familienaam:\")\n",
    "company = input(\"Company:\")\n",
    "address = input(\"Adres:\")\n",
    "city = input(\"Woonplaats:\")\n",
    "\n",
    "print (first_name, last_name, company, address, city)"
   ]
  },
  {
   "cell_type": "code",
   "execution_count": 223,
   "metadata": {},
   "outputs": [
    {
     "name": "stdout",
     "output_type": "stream",
     "text": [
      "Yvan Rooseleer BiASC Gravenbos 134 Liedekerke\n"
     ]
    }
   ],
   "source": [
    "### STEP 2\n",
    "print (first_name, last_name, company, address, city)"
   ]
  },
  {
   "cell_type": "code",
   "execution_count": 221,
   "metadata": {},
   "outputs": [
    {
     "name": "stdout",
     "output_type": "stream",
     "text": [
      "Yvan,Rooseleer,BiASC,Gravenbos 134,Liedekerke\n"
     ]
    }
   ],
   "source": [
    "### STEP 2 sep\n",
    "print (first_name, last_name, company, address, city, sep=\",\")\n"
   ]
  },
  {
   "cell_type": "code",
   "execution_count": 227,
   "metadata": {},
   "outputs": [
    {
     "name": "stdout",
     "output_type": "stream",
     "text": [
      "Yvan\\Rooseleer\\BiASC\\Gravenbos 134\\Liedekerke\n"
     ]
    }
   ],
   "source": [
    "### STEP 2 sep\n",
    "print (first_name, last_name, company, address, city, sep=\"\\\\\")\n"
   ]
  },
  {
   "cell_type": "code",
   "execution_count": 229,
   "metadata": {},
   "outputs": [
    {
     "name": "stdout",
     "output_type": "stream",
     "text": [
      "Yvan\n",
      "Rooseleer\n",
      "BiASC\n",
      "Gravenbos 134\n",
      "Liedekerke\n"
     ]
    }
   ],
   "source": [
    "### STEP 2 sep\n",
    "print (first_name, last_name, company, address, city, sep=\"\\n\")\n"
   ]
  },
  {
   "cell_type": "code",
   "execution_count": 231,
   "metadata": {},
   "outputs": [
    {
     "name": "stdout",
     "output_type": "stream",
     "text": [
      "Yvan Rooseleer\n",
      "BiASC\n",
      "Gravenbos 134\n",
      "Liedekerke\n"
     ]
    }
   ],
   "source": [
    "## STEP 3\n",
    "print (first_name, last_name)\n",
    "print (company)\n",
    "print (address)\n",
    "print (city)"
   ]
  },
  {
   "cell_type": "code",
   "execution_count": 233,
   "metadata": {},
   "outputs": [
    {
     "name": "stdout",
     "output_type": "stream",
     "text": [
      "Rooseleer, Yvan\n",
      "BiASC, Gravenbos 134, Liedekerke\n"
     ]
    }
   ],
   "source": [
    "# STEP 4\n",
    "print (last_name, first_name, sep=\", \")\n",
    "print (company, address, city, sep=\", \")"
   ]
  },
  {
   "cell_type": "code",
   "execution_count": 247,
   "metadata": {},
   "outputs": [
    {
     "name": "stdout",
     "output_type": "stream",
     "text": [
      "YRoosel\n",
      "yroosel\n"
     ]
    }
   ],
   "source": [
    "# STEP 5 username\n",
    "first_name = \"Yvan\"\n",
    "last_name = \"Rooseleer\"\n",
    "company = \"BiASC\"\n",
    "address = \"Gravenbosstraat 134\"\n",
    "city = \"Brussel\"\n",
    "\n",
    "###short_name = f\"{first_name[0]}. {last_name}\"\n",
    "user_name = first_name[0] +last_name[0:6]\n",
    "print(user_name)\n",
    "user_name = user_name.lower()\n",
    "print(user_name)"
   ]
  },
  {
   "cell_type": "markdown",
   "metadata": {},
   "source": [
    "**Operators**"
   ]
  },
  {
   "cell_type": "code",
   "execution_count": 43,
   "metadata": {},
   "outputs": [
    {
     "name": "stdout",
     "output_type": "stream",
     "text": [
      "0\n",
      "1\n",
      "1\n",
      "1\n",
      "0\n",
      "4\n"
     ]
    }
   ],
   "source": [
    "print (1 // 2 )\n",
    "print (1 % 2 )\n",
    "print (1 ** 2 )\n",
    "print (2 // 2 )\n",
    "print (2 % 2 )\n",
    "print (2 ** 2 )\n"
   ]
  },
  {
   "cell_type": "code",
   "execution_count": 134,
   "metadata": {},
   "outputs": [
    {
     "name": "stdout",
     "output_type": "stream",
     "text": [
      "1 0\n",
      "1 0\n",
      "1 1\n",
      "0 1\n"
     ]
    }
   ],
   "source": [
    "# bitwise XOR operator (^)\n",
    "a = 1\n",
    "b = 0\n",
    "print (a,b)\n",
    "a = a ^ b\n",
    "print (a,b)\n",
    "b = a ^ b\n",
    "print (a,b)\n",
    "a = a ^ b\n",
    "print (a,b)"
   ]
  },
  {
   "cell_type": "markdown",
   "metadata": {},
   "source": [
    "**bitwise XOR operator (^)**\n",
    "\n",
    "This is a classic bitwise trick to swap two numbers without using a third variable."
   ]
  },
  {
   "cell_type": "code",
   "execution_count": 56,
   "metadata": {},
   "outputs": [
    {
     "name": "stdout",
     "output_type": "stream",
     "text": [
      "1 1 2\n"
     ]
    }
   ],
   "source": [
    "x = 1\n",
    "y = 2 \n",
    "x, y, z = x, x, y\n",
    "z, y, z = x, y, z\n",
    "print(x, y, z)"
   ]
  },
  {
   "cell_type": "code",
   "execution_count": 58,
   "metadata": {},
   "outputs": [
    {
     "name": "stdout",
     "output_type": "stream",
     "text": [
      "True\n"
     ]
    }
   ],
   "source": [
    "z = 0\n",
    "y = 10\n",
    "x = y < z and z > y or y > z and z < y\n",
    "print(x)"
   ]
  },
  {
   "cell_type": "markdown",
   "metadata": {},
   "source": [
    "x = int(input())\n",
    "y = int(input())\n",
    "print(x, y)\n",
    "x = x % y\n",
    "print(x, y)\n",
    "x = x % y\n",
    "print(x, y)\n",
    "y = y % x\n",
    "print(x, y)\n",
    "print(y)"
   ]
  },
  {
   "cell_type": "markdown",
   "metadata": {},
   "source": [
    "**Extra Practice 7 MAY** **Date and Time** \n",
    "\n",
    "The datetime module is part of Python’s standard library, so it is installed by default with Python 3 — no need to install anything extra.\n",
    "Else you would need: !pip install datetime"
   ]
  },
  {
   "cell_type": "code",
   "execution_count": 59,
   "metadata": {},
   "outputs": [
    {
     "name": "stdout",
     "output_type": "stream",
     "text": [
      "Current date and time: 2025-05-07 17:21:45.047702\n"
     ]
    }
   ],
   "source": [
    "# DATETIME STEP 1\n",
    "from datetime import datetime\n",
    "\n",
    "now = datetime.now()\n",
    "print(\"Current date and time:\", now)"
   ]
  },
  {
   "cell_type": "code",
   "execution_count": 63,
   "metadata": {},
   "outputs": [
    {
     "name": "stdout",
     "output_type": "stream",
     "text": [
      "Date: 7 May 2025\n",
      "Time: 17:52 Europe/Brussels\n"
     ]
    }
   ],
   "source": [
    "# DATETIME STEP 2\n",
    "from datetime import datetime\n",
    "from zoneinfo import ZoneInfo  # Only available in Python 3.9+\n",
    "\n",
    "# Choose a timezone\n",
    "tz = ZoneInfo(\"Europe/Brussels\")\n",
    "\n",
    "# Get current date and time in that timezone\n",
    "now = datetime.now(tz)\n",
    "\n",
    "# Format the date and time\n",
    "MyOS = \"Windows\"\n",
    "if MyOS == \"Windows\":\n",
    "    # Use %#d for Windows; if on Linux/macOS, you can use %-d instead\n",
    "    formatted_date = now.strftime(\"%#d %B %Y\")\n",
    "    formatted_time = now.strftime(\"%H:%M\")\n",
    "else:  \n",
    "    # Use %#d for Windows; if on Linux/macOS, you can use %-d instead\n",
    "    formatted_date = now.strftime(\"%-d %B %Y\")     # e.g. 7 May 2025 (on Unix/macOS)\n",
    "    formatted_time = now.strftime(\"%H:%M\")         # e.g. 13:16\n",
    "# Print the result\n",
    "print(f\"Date: {formatted_date}\")\n",
    "print(f\"Time: {formatted_time} {tz.key}\")"
   ]
  },
  {
   "cell_type": "markdown",
   "metadata": {},
   "source": [
    "**Extra Practice 7 MAY** **Converting Hours, minutes and seconds** \n"
   ]
  },
  {
   "cell_type": "code",
   "execution_count": 3,
   "metadata": {},
   "outputs": [
    {
     "name": "stdout",
     "output_type": "stream",
     "text": [
      "Result: 1:30 is 90 minutes\n"
     ]
    }
   ],
   "source": [
    "## STEP 1\n",
    "## CONVERT HH:MI TO MINUTES\n",
    "HH = 1\n",
    "MM = 30\n",
    "SEC = (HH * 60) + MM\n",
    "print (\"Result: \" , HH, \":\", MM ,\" is\" , sep=\"\", end=\" \")\n",
    "print(SEC, \"minutes\", sep=\" \")"
   ]
  },
  {
   "cell_type": "code",
   "execution_count": 5,
   "metadata": {},
   "outputs": [
    {
     "name": "stdout",
     "output_type": "stream",
     "text": [
      "Result: 1:30:10 is 5410 seconds\n"
     ]
    }
   ],
   "source": [
    "## STEP 2\n",
    "## CONVERT HH MIN SEC TO SECONDS\n",
    "HH = 1\n",
    "MM = 30\n",
    "SS = 10\n",
    "SEC = (HH * 60 * 60) + (MM * 60) + SS\n",
    "print (\"Result: \" , HH, \":\", MM , \":\", SS , \" is\" , sep=\"\", end=\" \")\n",
    "print(SEC, \"seconds\", sep=\" \")"
   ]
  },
  {
   "cell_type": "code",
   "execution_count": 7,
   "metadata": {},
   "outputs": [
    {
     "name": "stdin",
     "output_type": "stream",
     "text": [
      "How  many hours? (0-48) 48\n",
      "How  many minutes? (0-59) 59\n",
      "How  many seconds? (0-59) 59\n"
     ]
    },
    {
     "name": "stdout",
     "output_type": "stream",
     "text": [
      "Result: 48:59:59 is 176399 seconds\n"
     ]
    }
   ],
   "source": [
    "## STEP 3\n",
    "## CONVERT HH MIN SEC TO SECONDS : INTERACTIVE\n",
    "HH = int(input(\"How  many hours? (0-48)\"))\n",
    "MM = int(input(\"How  many minutes? (0-59)\"))\n",
    "SS = int(input(\"How  many seconds? (0-59)\"))\n",
    "SEC = (HH * 60 * 60) + (MM * 60) + SS\n",
    "print (\"Result: \" , HH, \":\", MM , \":\", SS , \" is\" , sep=\"\", end=\" \")\n",
    "print(SEC, \"seconds\", sep=\" \")"
   ]
  },
  {
   "cell_type": "code",
   "execution_count": 11,
   "metadata": {},
   "outputs": [
    {
     "name": "stdin",
     "output_type": "stream",
     "text": [
      "How many hours? (0–48, 99 to quit):  1\n",
      "How many minutes? (0–59, 99 to quit):  1\n",
      "How many seconds? (0–59, 99 to quit):  1\n"
     ]
    },
    {
     "name": "stdout",
     "output_type": "stream",
     "text": [
      "Result: 1:1:1 is 3661 seconds\n"
     ]
    }
   ],
   "source": [
    "## STEP 4 -- NOT FINISHED !\n",
    "## CONVERT HH MIN SEC TO SECONDS : INTERACTIVE\n",
    "## Input should stop  if user enters 99\n",
    "\n",
    "def get_valid_input(prompt, min_val, max_val):\n",
    "    while True:\n",
    "        try:\n",
    "            val = int(input(prompt))\n",
    "            if val == 99:\n",
    "                print(\"Exiting...\")\n",
    "                break\n",
    "            if min_val <= val <= max_val:\n",
    "                return val\n",
    "            else:\n",
    "                print(f\"Please enter a value between {min_val} and {max_val}, or 99 to quit.\")\n",
    "        except ValueError:\n",
    "            print(\"Invalid input. Please enter a number.\")\n",
    "\n",
    "HH = get_valid_input(\"How many hours? (0–48, 99 to quit): \", 0, 48)\n",
    "MM = get_valid_input(\"How many minutes? (0–59, 99 to quit): \", 0, 59)\n",
    "SS = get_valid_input(\"How many seconds? (0–59, 99 to quit): \", 0, 59)\n",
    "\n",
    "SEC = (HH * 60 * 60) + (MM * 60) + SS\n",
    "\n",
    "print(\"Result: \", HH, \":\", MM, \":\", SS, \" is\", sep=\"\", end=\" \")\n",
    "print(SEC, \"seconds\", sep=\" \")"
   ]
  },
  {
   "cell_type": "code",
   "execution_count": 41,
   "metadata": {},
   "outputs": [
    {
     "name": "stdout",
     "output_type": "stream",
     "text": [
      "Start of the program\n"
     ]
    },
    {
     "name": "stdin",
     "output_type": "stream",
     "text": [
      "How many hours? (0–48, 99 to quit):  99\n"
     ]
    },
    {
     "name": "stdout",
     "output_type": "stream",
     "text": [
      "End of the program\n"
     ]
    }
   ],
   "source": [
    "## STEP 5\n",
    "## Input stops immediately if user enters 99\n",
    "## Output format: always two digits (e.g. 01:01:01)\n",
    "\n",
    "def get_valid_input(prompt, min_val, max_val):\n",
    "    while True:\n",
    "        try:\n",
    "            val = int(input(prompt))\n",
    "            if val == 99:\n",
    "                return 99\n",
    "            if min_val <= val <= max_val:\n",
    "                return val\n",
    "            else:\n",
    "                print(f\"Please enter a value between {min_val} and {max_val}, or 99 to quit.\")\n",
    "        except ValueError:\n",
    "            print(\"Invalid input. Please enter a number.\")\n",
    "\n",
    "def convert_time_to_seconds():\n",
    "    HH = get_valid_input(\"How many hours? (0–48, 99 to quit): \", 0, 48)\n",
    "    if HH == 99:\n",
    "        return  # stop immediately\n",
    "\n",
    "    MM = get_valid_input(\"How many minutes? (0–59, 99 to quit): \", 0, 59)\n",
    "    if MM == 99:\n",
    "        return  # stop immediately\n",
    "\n",
    "    SS = get_valid_input(\"How many seconds? (0–59, 99 to quit): \", 0, 59)\n",
    "    if SS == 99:\n",
    "        return  # stop immediately\n",
    "\n",
    "    # only executed if all inputs are valid (not 99)\n",
    "    SEC = (HH * 60 * 60) + (MM * 60) + SS\n",
    "    print(f\"Result: {HH:02}:{MM:02}:{SS:02} is {SEC} seconds\")\n",
    "\n",
    "# Run the program\n",
    "print(\"Start of the program\")\n",
    "convert_time_to_seconds()\n",
    "print(\"End of the program\")"
   ]
  },
  {
   "cell_type": "markdown",
   "metadata": {},
   "source": [
    "**Extra Practice** **Functions**"
   ]
  },
  {
   "cell_type": "code",
   "execution_count": 183,
   "metadata": {},
   "outputs": [
    {
     "name": "stdout",
     "output_type": "stream",
     "text": [
      "100010\n",
      "90\n",
      "1000\n",
      "Error: Division by Zero\n",
      "10.0\n"
     ]
    }
   ],
   "source": [
    "def add(n1,n2):\n",
    "    return n1+n2\n",
    "\n",
    "def subtract(n1, n2):\n",
    "    return n1-n2\n",
    "\n",
    "def multiply(n1, n2):\n",
    "    return n1*n2\n",
    "\n",
    "def divide(n1, n2):\n",
    "    if n2 != 0:\n",
    "        return n1/n2\n",
    "    else:\n",
    "        return (\"Error: Division by Zero\")\n",
    "\n",
    "def divide_error(n1, n2):\n",
    "    return n1/n2\n",
    "\n",
    "\n",
    "def main():\n",
    "    print (add(100000,10))\n",
    "    print (subtract(100,10))\n",
    "    print (multiply(100,10))\n",
    "    print (divide(100,0))\n",
    "    print (divide_error(100,10))\n",
    "\n",
    "if __name__ == \"__main__\":\n",
    "   main()\n"
   ]
  },
  {
   "cell_type": "markdown",
   "metadata": {},
   "source": [
    "**Extra Practice** **Strings & Replication**"
   ]
  },
  {
   "cell_type": "code",
   "execution_count": 191,
   "metadata": {},
   "outputs": [
    {
     "name": "stdout",
     "output_type": "stream",
     "text": [
      "+----------+\n",
      "|          |\n",
      "|          |\n",
      "|          |\n",
      "|          |\n",
      "|          |\n",
      "+----------+\n"
     ]
    }
   ],
   "source": [
    "print(\"+\" + 10 * \"-\" + \"+\")\n",
    "print((\"|\" + \" \" * 10 + \"|\\n\") * 5, end=\"\")\n",
    "print(\"+\" + 10 * \"-\" + \"+\")\n"
   ]
  },
  {
   "cell_type": "code",
   "execution_count": 194,
   "metadata": {},
   "outputs": [
    {
     "name": "stdout",
     "output_type": "stream",
     "text": [
      "+--------------------+\n",
      "|                    |\n",
      "|                    |\n",
      "|                    |\n",
      "|                    |\n",
      "|                    |\n",
      "|                    |\n",
      "|                    |\n",
      "|                    |\n",
      "|                    |\n",
      "|                    |\n",
      "+--------------------+\n"
     ]
    }
   ],
   "source": [
    "size = 20\n",
    "height = 10\n",
    "print(\"+\" + size * \"-\" + \"+\")\n",
    "print((\"|\" + \" \" * size + \"|\\n\") * height, end=\"\")\n",
    "print(\"+\" + size * \"-\" + \"+\")\n"
   ]
  },
  {
   "cell_type": "markdown",
   "metadata": {},
   "source": [
    "**Range**"
   ]
  },
  {
   "cell_type": "code",
   "execution_count": 196,
   "metadata": {},
   "outputs": [
    {
     "name": "stdout",
     "output_type": "stream",
     "text": [
      "The value of i is currently 0\n",
      "The value of i is currently 1\n",
      "The value of i is currently 2\n",
      "The value of i is currently 3\n",
      "The value of i is currently 4\n",
      "The value of i is currently 5\n",
      "The value of i is currently 6\n",
      "The value of i is currently 7\n",
      "The value of i is currently 8\n",
      "The value of i is currently 9\n"
     ]
    }
   ],
   "source": [
    "for i in range(10):\n",
    "    print(\"The value of i is currently\", i)"
   ]
  },
  {
   "cell_type": "code",
   "execution_count": 198,
   "metadata": {},
   "outputs": [
    {
     "name": "stdout",
     "output_type": "stream",
     "text": [
      "The value of i is currently 2\n",
      "The value of i is currently 5\n"
     ]
    }
   ],
   "source": [
    "for i in range(2, 8, 3):\n",
    "    print(\"The value of i is currently\", i)\n"
   ]
  },
  {
   "cell_type": "code",
   "execution_count": 101,
   "metadata": {},
   "outputs": [
    {
     "name": "stdout",
     "output_type": "stream",
     "text": [
      "The inverted word of 'label' is 'lebal'.\n"
     ]
    }
   ],
   "source": [
    "# Function to invert a given word\n",
    "# word[::-1] uses Python's slice notation to reverse the string:\n",
    "# word[start:stop:step], where step=-1 reverses the string.\n",
    "def invert_word(word):\n",
    "    return word[::-1]\n",
    "\n",
    "# Example usage:\n",
    "if __name__ == \"__main__\":\n",
    "    example_word = \"label\"\n",
    "    inverted = invert_word(example_word)\n",
    "    print(f\"The inverted word of '{example_word}' is '{inverted}'.\")\n"
   ]
  },
  {
   "cell_type": "code",
   "execution_count": 171,
   "metadata": {},
   "outputs": [
    {
     "name": "stdout",
     "output_type": "stream",
     "text": [
      "1\n",
      "2\n",
      "4\n",
      "8\n",
      "16\n",
      "32\n",
      "64\n",
      "128\n",
      "256\n"
     ]
    }
   ],
   "source": [
    "def powersOf2(n):\n",
    "    pow = 1\n",
    "    for i in range(n):\n",
    "        yield pow\n",
    "        pow *= 2\n",
    "\n",
    "for v in powersOf2(9):\n",
    "    print(v)"
   ]
  },
  {
   "cell_type": "markdown",
   "metadata": {},
   "source": [
    "**Lists**"
   ]
  },
  {
   "cell_type": "code",
   "execution_count": 1,
   "metadata": {},
   "outputs": [
    {
     "name": "stdout",
     "output_type": "stream",
     "text": [
      "[]\n"
     ]
    }
   ],
   "source": [
    "nums = [1,2,3]\n",
    "vals = nums\n",
    "del vals[:]\n",
    "print(nums)"
   ]
  },
  {
   "cell_type": "markdown",
   "metadata": {},
   "source": [
    "**vals[:]** betekent: alle elementen van de lijst vals.\n",
    "\n",
    "**del vals[:]** betekent: verwijder die elementen uit de lijst (maar niet de lijst zelf).\n",
    "\n",
    "Omdat **vals en nums naar dezelfde lijst** verwijzen, verandert de lijst waar nums óók naar wijst:"
   ]
  },
  {
   "cell_type": "code",
   "execution_count": 5,
   "metadata": {},
   "outputs": [
    {
     "name": "stdout",
     "output_type": "stream",
     "text": [
      "<class 'list'>\n",
      "---\n",
      "1\n",
      "2\n",
      "4\n",
      "8\n",
      "16\n",
      "---\n",
      "[1, 2, 4, 8, 16]\n",
      "[8]\n",
      "---\n",
      "8\n"
     ]
    }
   ],
   "source": [
    "lst = [1,2,4,8,16]\n",
    "print(type(lst))\n",
    "#print(dir(lst))\n",
    "print('---')\n",
    "for x in lst:\n",
    "    print(x)\n",
    "print('---')\n",
    "print(lst)\n",
    "lst = lst[-2:-1]\n",
    "print(lst)\n",
    "print('---')\n",
    "lst = lst[-1]\n",
    "print(lst)\n"
   ]
  },
  {
   "cell_type": "code",
   "execution_count": 253,
   "metadata": {},
   "outputs": [
    {
     "name": "stdout",
     "output_type": "stream",
     "text": [
      "[1, 2, 3, 4]\n"
     ]
    }
   ],
   "source": [
    "my_list = [3, 1, 2]\n",
    "my_list.sort()         # Sorts the list in place\n",
    "my_list.append(4)      # Adds 4 to the end\n",
    "print(my_list)"
   ]
  },
  {
   "cell_type": "code",
   "execution_count": 94,
   "metadata": {},
   "outputs": [
    {
     "name": "stdout",
     "output_type": "stream",
     "text": [
      "[[0, 1, 2], [0, 1, 2], [0, 1, 2]]\n",
      "[0, 1, 2]\n",
      "[0, 1, 2]\n",
      "- 0\n",
      "+ 1\n",
      "- 2\n",
      "- 0\n",
      "+ 1\n",
      "- 2\n",
      "- 0\n",
      "+ 1\n",
      "- 2\n"
     ]
    }
   ],
   "source": [
    "lst = [[x for x in range(3)] for y in range(3)]\n",
    "print(lst)\n",
    "lst2 = [x for x in range(3)] \n",
    "print(lst2)\n",
    "lst3 = [y for y in range(3)] \n",
    "print(lst3)\n",
    "\n",
    "for r in range(3):\n",
    "    for c in range(3):\n",
    "        if lst[r][c] % 2 == 0:\n",
    "            print('-', lst[r][c] )\n",
    "        if lst[r][c] % 2 != 0:\n",
    "            print('+', lst[r][c] )"
   ]
  },
  {
   "cell_type": "code",
   "execution_count": 53,
   "metadata": {},
   "outputs": [
    {
     "name": "stdout",
     "output_type": "stream",
     "text": [
      "[0, 1, 4, 9, 16, 25, 36, 49, 64]\n",
      "[0, 1, 4, 9, 25, 36, 49, 64]\n"
     ]
    }
   ],
   "source": [
    "list = [x * x for x in range(9)]\n",
    "print(list)\n",
    "\n",
    "def fun(lst):\n",
    "    del lst[lst[2]]\n",
    "    return lst\n",
    "\n",
    "print (fun(list))"
   ]
  },
  {
   "cell_type": "code",
   "execution_count": 104,
   "metadata": {},
   "outputs": [
    {
     "name": "stdout",
     "output_type": "stream",
     "text": [
      "Sorted numbers (ascending): [5, 12, 23, 42, 78]\n",
      "XXXXX\n",
      "XXXXXXXXXXXX\n",
      "XXXXXXXXXXXXXXXXXXXXXXX\n",
      "XXXXXXXXXXXXXXXXXXXXXXXXXXXXXXXXXXXXXXXXXX\n",
      "XXXXXXXXXXXXXXXXXXXXXXXXXXXXXXXXXXXXXXXXXXXXXXXXXXXXXXXXXXXXXXXXXXXXXXXXXXXXXX\n"
     ]
    }
   ],
   "source": [
    "# List of numbers\n",
    "numbers = [42, 12, 5, 78, 23]\n",
    "\n",
    "# Sorting the list in ascending order\n",
    "numbers.sort()\n",
    "\n",
    "print(\"Sorted numbers (ascending):\", numbers)\n",
    "\n",
    "for n in numbers:\n",
    "    s = \"\"\n",
    "    while n > 0:\n",
    "        s = s + \"X\"\n",
    "        n = n - 1\n",
    "    print(s)\n",
    "\n",
    "# Sorting the list in descending order\n",
    "### numbers.sort(reverse=True)\n",
    "\n",
    "### print(\"Sorted numbers (descending):\", numbers)\n"
   ]
  },
  {
   "cell_type": "code",
   "execution_count": 55,
   "metadata": {},
   "outputs": [
    {
     "name": "stdout",
     "output_type": "stream",
     "text": [
      "[1, 2, 3, 4, 5]\n",
      "---\n",
      "1\n",
      "[1, 2, 3, 4, 1, 5]\n",
      "2\n",
      "[1, 2, 3, 4, 1, 2, 5]\n",
      "3\n",
      "[1, 2, 3, 4, 1, 2, 3, 5]\n",
      "4\n",
      "[1, 2, 3, 4, 1, 2, 3, 4, 5]\n",
      "---\n",
      "[1, 2, 3, 4, 1, 2, 3, 4, 5]\n"
     ]
    }
   ],
   "source": [
    "lst = [1, 2, 3, 4, 5]\n",
    "print(lst)\n",
    "print('---')\n",
    "for v in range(len(lst)-1):\n",
    "    print(lst[v])\n",
    "    lst.insert(-1, lst[v])\n",
    "    print(lst)\n",
    "print('---')\n",
    "print(lst)"
   ]
  },
  {
   "cell_type": "code",
   "execution_count": 165,
   "metadata": {},
   "outputs": [
    {
     "name": "stdout",
     "output_type": "stream",
     "text": [
      "[1, 0, 1, 0, 1, 0, 1, 0, 1, 0]\n"
     ]
    }
   ],
   "source": [
    "lst = [1 if x % 2 == 0 else 0 for x in range(10)]\n",
    "\n",
    "print(lst)"
   ]
  },
  {
   "cell_type": "code",
   "execution_count": 167,
   "metadata": {},
   "outputs": [
    {
     "name": "stdout",
     "output_type": "stream",
     "text": [
      "[1, 0, 1, 0, 1, 0, 1, 0, 1, 0]\n"
     ]
    }
   ],
   "source": [
    "lst = []\n",
    "\n",
    "for x in range(10):\n",
    "    lst.append(1 if x % 2 == 0 else 0)\n",
    "\n",
    "print(lst)"
   ]
  },
  {
   "cell_type": "code",
   "execution_count": 169,
   "metadata": {},
   "outputs": [
    {
     "name": "stdout",
     "output_type": "stream",
     "text": [
      "[1, 10, 100, 1000, 10000, 100000]\n",
      "[1, 10, 100, 1000, 10000, 100000]\n"
     ]
    }
   ],
   "source": [
    "listOne = []\n",
    "\n",
    "for ex in range(6):\n",
    "    listOne.append(10 ** ex)\n",
    "\n",
    "\n",
    "listTwo = [10 ** ex for ex in range(6)]\n",
    "\n",
    "print(listOne)\n",
    "print(listTwo)"
   ]
  },
  {
   "cell_type": "code",
   "execution_count": 173,
   "metadata": {},
   "outputs": [
    {
     "name": "stdout",
     "output_type": "stream",
     "text": [
      "The original list is : [1, 4, 5, 6, 7]\n",
      "The even numbers in list are :  4 6 "
     ]
    }
   ],
   "source": [
    "# Python3 code to demonstrate\n",
    "# yield keyword\n",
    " \n",
    "# generator to print even numbers\n",
    "def print_even(test_list) :\n",
    "    for i in test_list:\n",
    "        if i % 2 == 0:\n",
    "            yield i\n",
    " \n",
    "# initializing list\n",
    "test_list = [1, 4, 5, 6, 7]\n",
    " \n",
    "# printing initial list\n",
    "print (\"The original list is : \" +  str(test_list))\n",
    " \n",
    "# printing even numbers\n",
    "print (\"The even numbers in list are : \", end = \" \")\n",
    "for j in print_even(test_list):\n",
    "    print (j, end = \" \")"
   ]
  },
  {
   "cell_type": "markdown",
   "metadata": {},
   "source": [
    "**Extra Practice** **Dictionary**"
   ]
  },
  {
   "cell_type": "code",
   "execution_count": 267,
   "metadata": {},
   "outputs": [
    {
     "name": "stdout",
     "output_type": "stream",
     "text": [
      "dict_keys(['a', 'b'])\n",
      "1\n",
      "1\n",
      "1\n",
      "2\n"
     ]
    }
   ],
   "source": [
    "my_dict = {\"a\": 1, \"b\": 2}\n",
    "print(my_dict.keys())         # Returns dict_keys(['a', 'b'])\n",
    "print(my_dict.get(\"a\"))\n",
    "print(my_dict[\"a\"])\n",
    "print(my_dict.get(\"a\"))\n",
    "print(my_dict[\"b\"])"
   ]
  },
  {
   "cell_type": "code",
   "execution_count": 177,
   "metadata": {},
   "outputs": [
    {
     "name": "stdout",
     "output_type": "stream",
     "text": [
      "{'username': 'XYZ', 'email': 'xyz@gmail.com', 'location': 'Brussels', 'name': {'firstName': 'Nick', 'lastName': 'Price'}}\n"
     ]
    }
   ],
   "source": [
    "my_dict = {\"username\": \"XYZ\", \"email\": \"xyz@gmail.com\", \"location\":\"Brussels\"}\n",
    "my_dict1 = {\"firstName\" : \"Nick\", \"lastName\": \"Price\"}\n",
    "my_dict[\"name\"] = my_dict1\n",
    "print(my_dict)"
   ]
  },
  {
   "cell_type": "code",
   "execution_count": 48,
   "metadata": {},
   "outputs": [
    {
     "name": "stdout",
     "output_type": "stream",
     "text": [
      "[{1: 0}, {1: 1}, {1: 2}, {1: 3}, {1: 4}, {1: 5}, {1: 6}, {1: 7}, {1: 8}, {1: 9}, {1: 10}, {1: 11}, {1: 12}, {1: 13}, {1: 14}, {1: 15}, {1: 16}, {1: 17}, {1: 18}, {1: 19}, {1: 20}, {1: 21}, {1: 22}, {1: 23}, {1: 24}, {1: 25}, {1: 26}, {1: 27}, {1: 28}, {1: 29}, {1: 30}, {1: 31}, {1: 32}, {1: 33}, {1: 34}, {1: 35}, {1: 36}, {1: 37}, {1: 38}, {1: 39}, {1: 40}, {1: 41}, {1: 42}, {1: 43}, {1: 44}, {1: 45}, {1: 46}, {1: 47}, {1: 48}, {1: 49}, {1: 50}, {1: 51}, {1: 52}, {1: 53}, {1: 54}, {1: 55}, {1: 56}, {1: 57}, {1: 58}, {1: 59}, {1: 60}, {1: 61}, {1: 62}, {1: 63}, {1: 64}, {1: 65}, {1: 66}, {1: 67}, {1: 68}, {1: 69}, {1: 70}, {1: 71}, {1: 72}, {1: 73}, {1: 74}, {1: 75}, {1: 76}, {1: 77}, {1: 78}, {1: 79}, {1: 80}, {1: 81}, {1: 82}, {1: 83}, {1: 84}, {1: 85}, {1: 86}, {1: 87}, {1: 88}, {1: 89}, {1: 90}, {1: 91}, {1: 92}, {1: 93}, {1: 94}, {1: 95}, {1: 96}, {1: 97}, {1: 98}, {1: 99}]\n"
     ]
    }
   ],
   "source": [
    "a_dict = {}\n",
    "a_list = []\n",
    "for x in range(0,100):\n",
    "    a_dict[1] = x\n",
    "    a_list.append(a_dict.copy())\n",
    "print(a_list)"
   ]
  },
  {
   "cell_type": "code",
   "execution_count": 46,
   "metadata": {},
   "outputs": [
    {
     "name": "stdout",
     "output_type": "stream",
     "text": [
      "---\n",
      "<class 'dict'>\n",
      "---\n",
      "{'brand': 'Ford', 'model': 'Mustang', 'year': 1964}\n",
      "---\n",
      "Ford\n",
      "---\n",
      "dict_keys(['brand', 'model', 'year'])\n",
      "dict_values(['Ford', 'Mustang', 1964])\n",
      "---\n",
      "{\"brand\": \"Ford\", \"model\": \"Mustang\", \"year\": 1964}\n",
      "<class 'str'>\n",
      "---\n",
      "{'brand': 'Ford', 'model': 'Mustang', 'year': 1964}\n",
      "<class 'dict'>\n"
     ]
    }
   ],
   "source": [
    "import json\n",
    "car = {\n",
    "  \"brand\": \"Ford\",\n",
    "  \"model\": \"Mustang\",\n",
    "  \"year\": 1964\n",
    "}\n",
    "print('---')\n",
    "print(type(car))\n",
    "print('---')\n",
    "print(car)\n",
    "print('---')\n",
    "x = car.keys()\n",
    "y = car.values()\n",
    "print(car[\"brand\"])\n",
    "print('---')\n",
    "print(x)\n",
    "print(y)\n",
    "print('---')\n",
    "car_json = json.dumps(car)\n",
    "print(car_json)\n",
    "print(type(car_json))\n",
    "print('---')\n",
    "car_dict = json.loads(car_json)\n",
    "print(car_dict)\n",
    "print(type(car_dict))"
   ]
  },
  {
   "cell_type": "code",
   "execution_count": 44,
   "metadata": {},
   "outputs": [
    {
     "name": "stdout",
     "output_type": "stream",
     "text": [
      "1\n",
      "0\n",
      "---\n",
      "01"
     ]
    }
   ],
   "source": [
    "dd = {\"1\":\"0\", \"0\":\"1\"}\n",
    "for x in dd.keys():\n",
    "    print(x)\n",
    "print('---')\n",
    "for x in dd.values():\n",
    "    print(x, end=\"\")\n"
   ]
  },
  {
   "cell_type": "markdown",
   "metadata": {},
   "source": [
    "**start**: index to start from (inclusive)\n",
    "\n",
    "**stop**: index to stop at (exclusive)\n",
    "\n",
    "**step**: how many positions to move forward (or backward) at each step\n",
    "\n",
    "All of these parts are optional. If omitted, Python uses default values:\n",
    "\n",
    "start = 0\n",
    "\n",
    "stop = len(string)\n",
    "\n",
    "step = 1\n",
    "\n",
    "---\n",
    "\n",
    "**Using a Negative Step (step = -1)**\n",
    "When you use a negative step:\n",
    "\n",
    "Python reads the string backwards.\n",
    "\n",
    "If start and stop are omitted, it **defaults to traversing the entire string from end to start.**"
   ]
  },
  {
   "cell_type": "code",
   "execution_count": 42,
   "metadata": {},
   "outputs": [
    {
     "name": "stdout",
     "output_type": "stream",
     "text": [
      "3\n",
      "-1-\n",
      "3\n",
      "range(0, 3)\n",
      "-2-\n",
      "0\n",
      "3\n",
      "1\n",
      "3\n",
      "2\n",
      "3\n",
      "-3-\n",
      "3\n"
     ]
    }
   ],
   "source": [
    "dct = {'1':'1', '2':'2', '3': '3'}\n",
    "v = dct['3']\n",
    "print(v)\n",
    "print('-1-')\n",
    "print(len(dct))\n",
    "print(range(len(dct)))\n",
    "print('-2-')\n",
    "for k in range(len(dct)):\n",
    "    v =dct[v]\n",
    "    print(k)\n",
    "    print(v)\n",
    "print('-3-')   \n",
    "print(v)\n",
    "    "
   ]
  },
  {
   "cell_type": "code",
   "execution_count": 92,
   "metadata": {},
   "outputs": [
    {
     "name": "stdout",
     "output_type": "stream",
     "text": [
      "{}\n",
      "{'1': (1, 'A')}\n",
      "{'1': (1, 'A'), '2': (2, 'B')}\n",
      "-1-\n",
      "A\n",
      "B\n"
     ]
    }
   ],
   "source": [
    "dct = {}\n",
    "print(dct)\n",
    "dct['1'] = (1,\"A\")\n",
    "print(dct)\n",
    "dct['2'] = (2,\"B\")\n",
    "print(dct)\n",
    "print('-1-')\n",
    "for x in dct.keys():\n",
    "    print(dct[x][1])\n",
    "    #print(dct[x][1],end=\"\")\n"
   ]
  },
  {
   "cell_type": "markdown",
   "metadata": {},
   "source": [
    "**Random**"
   ]
  },
  {
   "cell_type": "code",
   "execution_count": 69,
   "metadata": {
    "scrolled": true
   },
   "outputs": [
    {
     "name": "stdin",
     "output_type": "stream",
     "text": [
      "Please enter a seed number between 1 and 35?  35\n",
      "Please enter a seed number between 1 and 35?  1\n"
     ]
    },
    {
     "name": "stdout",
     "output_type": "stream",
     "text": [
      "------------------\n",
      "Random 1 is 13\n",
      "Random 2 is 1\n",
      "Random 3 is 11\n",
      "------------------\n"
     ]
    }
   ],
   "source": [
    "### Generate random numbers to select tasks\n",
    "import random\n",
    "max_num = 25\n",
    "\n",
    "magic_num = []\n",
    "random.seed(a=None, version=2)\n",
    "selected_number = random.randint(1, max_num)\n",
    "magic_num.append(selected_number)\n",
    "#print(selected_number)\n",
    "for i in [1,2]:\n",
    "    your_seed = int(input(\"Please enter a seed number between 1 and 35? \"))\n",
    "    random.seed(a=None, version=2)\n",
    "    selected_number = random.randint(1, max_num)\n",
    "    your_selection = int((your_seed * selected_number)/max_num)+1\n",
    "    magic_num.append(selected_number)\n",
    "    #print(your_selection)\n",
    "\n",
    "print('------------------')\n",
    "for n,k in enumerate(magic_num):\n",
    "    print(\"Random %d is %s\" % (n+1, k))\n",
    "print('------------------')"
   ]
  },
  {
   "cell_type": "code",
   "execution_count": 21,
   "metadata": {},
   "outputs": [
    {
     "name": "stdout",
     "output_type": "stream",
     "text": [
      "[1, 2, 4, 8, 16]\n",
      "1 4 16 64 256 \n"
     ]
    }
   ],
   "source": [
    "list1 = [x for x in range(5)]\n",
    "list2 = list(map(lambda x: 2 ** x, list1))\n",
    "print(list2)\n",
    "for x in map(lambda x: x * x, list2):\n",
    "\tprint(x, end=' ')\n",
    "print()"
   ]
  },
  {
   "cell_type": "code",
   "execution_count": 25,
   "metadata": {},
   "outputs": [
    {
     "name": "stdout",
     "output_type": "stream",
     "text": [
      "[5, -7, 4, -5, 6]\n",
      "[4, 6]\n"
     ]
    }
   ],
   "source": [
    "from random import seed, randint\n",
    "\n",
    "seed()\n",
    "data = [ randint(-10,10) for x in range(5) ]\n",
    "filtered = list(filter(lambda x: x > 0 and x % 2 == 0, data))\n",
    "print(data)\n",
    "print(filtered)"
   ]
  },
  {
   "cell_type": "markdown",
   "metadata": {},
   "source": [
    "**Extra Practice** **Methods**"
   ]
  },
  {
   "cell_type": "markdown",
   "metadata": {},
   "source": [
    "**List Methods**\n",
    "| Method       | Description                     | Example                          |\n",
    "| ------------ | ------------------------------- | -------------------------------- |\n",
    "| `.append(x)` | Adds item at the end            | `[1, 2].append(3)` → `[1, 2, 3]` |\n",
    "| `.remove(x)` | Removes first occurrence of `x` | `[1, 2, 2].remove(2)` → `[1, 2]` |\n",
    "| `.pop()`     | Removes & returns last item     | `[1, 2].pop()` → `2`             |\n",
    "| `.sort()`    | Sorts list in place             | `[3, 1].sort()` → `[1, 3]`       |\n",
    "| `.reverse()` | Reverses list in place          | `[1, 2].reverse()` → `[2, 1]`    |\n"
   ]
  },
  {
   "cell_type": "code",
   "execution_count": 31,
   "metadata": {},
   "outputs": [
    {
     "name": "stdout",
     "output_type": "stream",
     "text": [
      "[10, 9]\n",
      "[10, 9, 8]\n",
      "[10, 8]\n",
      "[8, 10]\n",
      "[10, 8]\n"
     ]
    }
   ],
   "source": [
    "number_list = [10, 9]\n",
    "print(number_list)\n",
    "number_list.append(8)\n",
    "print(number_list)\n",
    "number_list.remove(9)\n",
    "print(number_list)\n",
    "number_list.sort()\n",
    "print(number_list)\n",
    "number_list.reverse()\n",
    "print(number_list)"
   ]
  },
  {
   "cell_type": "code",
   "execution_count": 29,
   "metadata": {},
   "outputs": [
    {
     "name": "stdin",
     "output_type": "stream",
     "text": [
      "Enter name 1:  Yvan\n",
      "Enter name 2:  Kristel\n",
      "Enter name 3:  Katherine\n"
     ]
    },
    {
     "name": "stdout",
     "output_type": "stream",
     "text": [
      "The list of names is: ['Yvan', 'Kristel', 'Katherine']\n",
      "The sorted list is: ['Katherine', 'Kristel', 'Yvan']\n"
     ]
    }
   ],
   "source": [
    "names = []\n",
    "\n",
    "for i in range(3):\n",
    "    name = input(f\"Enter name {i + 1}: \")\n",
    "    names.append(name)\n",
    "\n",
    "print(\"The list of names is:\", names)\n",
    "names.sort()\n",
    "print(\"The sorted list is:\",names)"
   ]
  },
  {
   "cell_type": "markdown",
   "metadata": {},
   "source": [
    "**Dictionary Methods**\n",
    "| Method           | Description                  | Example                                       |\n",
    "| ---------------- | ---------------------------- | --------------------------------------------- |\n",
    "| `.get(key)`      | Gets value or returns `None` | `{\"a\": 1}.get(\"a\")` → `1`                     |\n",
    "| `.keys()`        | Returns view of keys         | `{\"a\": 1}.keys()` → `dict_keys(['a'])`        |\n",
    "| `.values()`      | Returns view of values       | `{\"a\": 1}.values()` → `dict_values([1])`      |\n",
    "| `.items()`       | Returns key-value pairs      | `{\"a\": 1}.items()` → `dict_items([('a', 1)])` |\n",
    "| `.update({...})` | Merges another dictionary    | `d.update({\"b\": 2})`                          |\n"
   ]
  },
  {
   "cell_type": "code",
   "execution_count": 33,
   "metadata": {},
   "outputs": [
    {
     "name": "stdout",
     "output_type": "stream",
     "text": [
      "Bob's grade: 90\n",
      "Dave's grade: Not Found\n",
      "All students: ['Alice', 'Bob', 'Carol', 'Dave']\n",
      "All grades: [88, 90, 78, 92]\n",
      "Student-grade pairs: [('Alice', 88), ('Bob', 90), ('Carol', 78), ('Dave', 92)]\n",
      "Removed Carol, grade was: 78\n"
     ]
    }
   ],
   "source": [
    "grades = {\n",
    "    \"Alice\": 85,\n",
    "    \"Bob\": 90,\n",
    "    \"Carol\": 78\n",
    "}\n",
    "\n",
    "# 1. .get() — safely access a value\n",
    "print(\"Bob's grade:\", grades.get(\"Bob\"))\n",
    "print(\"Dave's grade:\", grades.get(\"Dave\", \"Not Found\"))  # avoids KeyError\n",
    "\n",
    "# 2. .update() — add or update entries\n",
    "grades.update({\"Dave\": 92, \"Alice\": 88})  # updates Alice, adds Dave\n",
    "\n",
    "# 3. .keys(), .values(), .items()\n",
    "print(\"All students:\", list(grades.keys()))\n",
    "print(\"All grades:\", list(grades.values()))\n",
    "print(\"Student-grade pairs:\", list(grades.items()))\n",
    "\n",
    "# 4. .pop() — remove a key and get its value\n",
    "removed_grade = grades.pop(\"Carol\")\n",
    "print(\"Removed Carol, grade was:\", removed_grade)\n",
    "\n",
    "# 5. .clear() — remove all entries\n",
    "# grades.clear()  # Uncomment to empty the dictionary\n"
   ]
  },
  {
   "cell_type": "markdown",
   "metadata": {},
   "source": [
    "**Set Methods**\n",
    "| Method                | Description                         | Example                        |                |\n",
    "| --------------------- | ----------------------------------- | ------------------------------ | -------------- |\n",
    "| `.add(x)`             | Adds an element                     | `{1, 2}.add(3)` → `{1, 2, 3}`  |                |\n",
    "| `.remove(x)`          | Removes `x` (error if not found)    | `{1, 2}.remove(2)` → `{1}`     |                |\n",
    "| `.discard(x)`         | Removes `x` (no error if not found) | `{1, 2}.discard(3)` → `{1, 2}` |                |\n",
    "| `.union(set2)`        | Combines sets                       | \\`{1}                          | {2}`→`{1, 2}\\` |\n",
    "| `.intersection(set2)` | Common elements                     | `{1, 2} & {2, 3}` → `{2}`      |                |\n"
   ]
  },
  {
   "cell_type": "code",
   "execution_count": 36,
   "metadata": {},
   "outputs": [
    {
     "name": "stdout",
     "output_type": "stream",
     "text": [
      "All students: {'Bob', 'Carol', 'Dave', 'Frank', 'Alice', 'Eve'}\n",
      "Students in both courses: {'Alice', 'Bob'}\n",
      "Only in Python: {'Carol', 'Dave'}\n",
      "Exclusive to one course: {'Carol', 'Dave', 'Frank', 'Eve'}\n",
      "Python after adding Grace: {'Grace', 'Bob', 'Carol', 'Dave', 'Alice'}\n",
      "Final Python students: {'Grace', 'Bob', 'Dave', 'Alice'}\n"
     ]
    }
   ],
   "source": [
    "# Students enrolled in different courses\n",
    "python_students = {\"Alice\", \"Bob\", \"Carol\", \"Dave\"}\n",
    "java_students = {\"Bob\", \"Eve\", \"Frank\", \"Alice\"}\n",
    "\n",
    "# 1. .union() — all students in either course\n",
    "all_students = python_students.union(java_students)\n",
    "print(\"All students:\", all_students)\n",
    "\n",
    "# 2. .intersection() — students in both courses\n",
    "both_courses = python_students.intersection(java_students)\n",
    "print(\"Students in both courses:\", both_courses)\n",
    "\n",
    "# 3. .difference() — students only in Python\n",
    "only_python = python_students.difference(java_students)\n",
    "print(\"Only in Python:\", only_python)\n",
    "\n",
    "# 4. .symmetric_difference() — students in one course but not both\n",
    "exclusive = python_students.symmetric_difference(java_students)\n",
    "print(\"Exclusive to one course:\", exclusive)\n",
    "\n",
    "# 5. .add() — add a new student to the Python course\n",
    "python_students.add(\"Grace\")\n",
    "print(\"Python after adding Grace:\", python_students)\n",
    "\n",
    "# 6. .remove() — remove a student (raises error if not found)\n",
    "python_students.remove(\"Carol\")\n",
    "\n",
    "# 7. .discard() — safely remove (no error if not found)\n",
    "python_students.discard(\"Zoe\")  # Zoe isn't in the set, no crash\n",
    "\n",
    "print(\"Final Python students:\", python_students)\n"
   ]
  },
  {
   "cell_type": "markdown",
   "metadata": {},
   "source": [
    "**Loops**"
   ]
  },
  {
   "cell_type": "code",
   "execution_count": 1,
   "metadata": {},
   "outputs": [
    {
     "name": "stdout",
     "output_type": "stream",
     "text": [
      "loop endlessly \n"
     ]
    }
   ],
   "source": [
    "#loop endlessly \n",
    "i = 0\n",
    "#### while i < i + 2:\n",
    "####     i += 1\n",
    "####     print('*')\n",
    "#### else:\n",
    "####     print('*')\n",
    "print('loop endlessly ')\n"
   ]
  }
 ],
 "metadata": {
  "kernelspec": {
   "display_name": "Python [conda env:base] *",
   "language": "python",
   "name": "conda-base-py"
  },
  "language_info": {
   "codemirror_mode": {
    "name": "ipython",
    "version": 3
   },
   "file_extension": ".py",
   "mimetype": "text/x-python",
   "name": "python",
   "nbconvert_exporter": "python",
   "pygments_lexer": "ipython3",
   "version": "3.11.11"
  }
 },
 "nbformat": 4,
 "nbformat_minor": 4
}
