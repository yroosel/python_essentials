{
 "cells": [
  {
   "cell_type": "markdown",
   "metadata": {},
   "source": [
    "**Various commands**"
   ]
  },
  {
   "cell_type": "code",
   "execution_count": 65,
   "metadata": {},
   "outputs": [
    {
     "name": "stdout",
     "output_type": "stream",
     "text": [
      "Python 3.11.11\n"
     ]
    }
   ],
   "source": [
    "! python --version"
   ]
  },
  {
   "cell_type": "code",
   "execution_count": 57,
   "metadata": {},
   "outputs": [
    {
     "name": "stdout",
     "output_type": "stream",
     "text": [
      "Package                           Version\n",
      "--------------------------------- -------------------\n",
      "aext-assistant                    4.1.0\n",
      "aext-assistant-server             4.1.0\n",
      "aext-core                         4.1.0\n",
      "aext-core-server                  4.1.0\n",
      "aext-panels                       4.1.0\n",
      "aext-panels-server                4.1.0\n",
      "aext-project-filebrowser-server   4.1.0\n",
      "aext-share-notebook               4.1.0\n",
      "aext-share-notebook-server        4.1.0\n",
      "aext-shared                       4.1.0\n",
      "aext-toolbox                      4.1.0\n",
      "aiobotocore                       2.19.0\n",
      "aiohappyeyeballs                  2.4.4\n",
      "aiohttp                           3.11.10\n",
      "aioitertools                      0.7.1\n",
      "aiosignal                         1.2.0\n",
      "alabaster                         0.7.16\n",
      "alembic                           1.13.3\n",
      "altair                            5.5.0\n",
      "anaconda-anon-usage               0.7.0\n",
      "anaconda-catalogs                 0.2.0\n",
      "anaconda-cli-base                 0.5.2\n",
      "anaconda-client                   1.13.0\n",
      "anaconda-cloud-auth               0.7.2\n",
      "anaconda-navigator                2.6.4\n",
      "anaconda-project                  0.11.1\n",
      "annotated-types                   0.6.0\n",
      "anyio                             4.6.2\n",
      "appdirs                           1.4.4\n",
      "archspec                          0.2.3\n",
      "argon2-cffi                       21.3.0\n",
      "argon2-cffi-bindings              21.2.0\n",
      "arrow                             1.3.0\n",
      "astroid                           3.3.8\n",
      "astropy                           7.0.0\n",
      "astropy-iers-data                 0.2025.1.13.0.34.51\n",
      "asttokens                         2.0.5\n",
      "async-lru                         2.0.4\n",
      "asyncssh                          2.17.0\n",
      "atomicwrites                      1.4.0\n",
      "attrs                             24.3.0\n",
      "Automat                           20.2.0\n",
      "autopep8                          2.0.4\n",
      "babel                             2.16.0\n",
      "bcrypt                            3.2.0\n",
      "beautifulsoup4                    4.12.3\n",
      "binaryornot                       0.4.4\n",
      "black                             24.10.0\n",
      "bleach                            4.1.0\n",
      "blinker                           1.9.0\n",
      "bokeh                             3.6.2\n",
      "boltons                           24.1.0\n",
      "botocore                          1.36.3\n",
      "Bottleneck                        1.4.2\n",
      "branca                            0.8.1\n",
      "Brotli                            1.0.9\n",
      "cachetools                        5.5.1\n",
      "certifi                           2025.1.31\n",
      "cffi                              1.17.1\n",
      "chardet                           4.0.0\n",
      "charset-normalizer                3.3.2\n",
      "click                             8.1.7\n",
      "cloudpickle                       3.0.0\n",
      "colorama                          0.4.6\n",
      "colorcet                          3.1.0\n",
      "comm                              0.2.1\n",
      "conda                             24.11.3\n",
      "conda-build                       25.3.0\n",
      "conda-content-trust               0.2.0\n",
      "conda_index                       0.5.0\n",
      "conda-libmamba-solver             24.9.0\n",
      "conda-pack                        0.7.1\n",
      "conda-package-handling            2.4.0\n",
      "conda_package_streaming           0.11.0\n",
      "conda-repo-cli                    1.0.165\n",
      "conda-token                       0.5.0+1.g2209e04\n",
      "constantly                        23.10.4\n",
      "contourpy                         1.3.1\n",
      "cookiecutter                      2.6.0\n",
      "cryptography                      44.0.1\n",
      "cssselect                         1.2.0\n",
      "cycler                            0.11.0\n",
      "cytoolz                           1.0.1\n",
      "dask                              2025.2.0\n",
      "dask-expr                         2.0.0\n",
      "datashader                        0.17.0\n",
      "debugpy                           1.8.11\n",
      "decorator                         5.1.1\n",
      "defusedxml                        0.7.1\n",
      "Deprecated                        1.2.13\n",
      "dicttoxml                         1.7.16\n",
      "diff-match-patch                  20200713\n",
      "dill                              0.3.8\n",
      "distributed                       2025.2.0\n",
      "distro                            1.9.0\n",
      "docstring-to-markdown             0.11\n",
      "docutils                          0.18.1\n",
      "et-xmlfile                        1.1.0\n",
      "executing                         0.8.3\n",
      "fastjsonschema                    2.20.0\n",
      "filelock                          3.13.1\n",
      "findspark                         2.0.1\n",
      "flake8                            7.1.1\n",
      "Flask                             3.1.0\n",
      "folium                            0.19.5\n",
      "fonttools                         4.55.3\n",
      "fqdn                              1.5.1\n",
      "frozendict                        2.4.2\n",
      "frozenlist                        1.5.0\n",
      "fsspec                            2024.12.0\n",
      "future                            1.0.0\n",
      "gensim                            4.3.3\n",
      "geographiclib                     2.0\n",
      "geopy                             2.4.1\n",
      "gitdb                             4.0.7\n",
      "GitPython                         3.1.43\n",
      "gmpy2                             2.2.1\n",
      "greenlet                          3.1.1\n",
      "h11                               0.14.0\n",
      "h5py                              3.12.1\n",
      "HeapDict                          1.0.1\n",
      "holoviews                         1.20.2\n",
      "httpcore                          1.0.2\n",
      "httpx                             0.27.0\n",
      "hvplot                            0.11.2\n",
      "hyperlink                         21.0.0\n",
      "idna                              3.7\n",
      "imagecodecs                       2023.1.23\n",
      "imageio                           2.37.0\n",
      "imagesize                         1.4.1\n",
      "imbalanced-learn                  0.13.0\n",
      "importlib_metadata                8.5.0\n",
      "incremental                       22.10.0\n",
      "inflection                        0.5.1\n",
      "iniconfig                         1.1.1\n",
      "intake                            2.0.7\n",
      "intervaltree                      3.1.0\n",
      "ipykernel                         6.29.5\n",
      "ipython                           8.30.0\n",
      "ipython-genutils                  0.2.0\n",
      "ipywidgets                        7.8.1\n",
      "isoduration                       20.11.0\n",
      "isort                             5.13.2\n",
      "itemadapter                       0.3.0\n",
      "itemloaders                       1.1.0\n",
      "itsdangerous                      2.2.0\n",
      "jaraco.classes                    3.2.1\n",
      "jedi                              0.19.2\n",
      "jellyfish                         1.1.3\n",
      "Jinja2                            3.1.6\n",
      "jmespath                          1.0.1\n",
      "joblib                            1.4.2\n",
      "json5                             0.9.6\n",
      "jsonpatch                         1.33\n",
      "jsonpointer                       2.1\n",
      "jsonschema                        4.23.0\n",
      "jsonschema-specifications         2023.7.1\n",
      "jupyter                           1.1.1\n",
      "jupyter_client                    8.6.3\n",
      "jupyter-console                   6.6.3\n",
      "jupyter_core                      5.7.2\n",
      "jupyter-events                    0.12.0\n",
      "jupyter-lsp                       2.2.0\n",
      "jupyter_server                    2.15.0\n",
      "jupyter_server_terminals          0.4.4\n",
      "jupyterlab                        4.3.4\n",
      "jupyterlab-pygments               0.1.2\n",
      "jupyterlab_server                 2.27.3\n",
      "jupyterlab-widgets                1.0.0\n",
      "keyring                           24.3.1\n",
      "kiwisolver                        1.4.8\n",
      "lazy_loader                       0.4\n",
      "lazy-object-proxy                 1.10.0\n",
      "lckr_jupyterlab_variableinspector 3.1.0\n",
      "libarchive-c                      5.1\n",
      "libmambapy                        1.5.8\n",
      "linkify-it-py                     2.0.0\n",
      "llvmlite                          0.44.0\n",
      "lmdb                              1.6.2\n",
      "locket                            1.0.0\n",
      "lxml                              5.2.1\n",
      "lz4                               4.3.2\n",
      "Mako                              1.2.3\n",
      "Markdown                          3.4.1\n",
      "markdown-it-py                    2.2.0\n",
      "MarkupSafe                        3.0.2\n",
      "matplotlib                        3.10.0\n",
      "matplotlib-inline                 0.1.6\n",
      "mccabe                            0.7.0\n",
      "mdit-py-plugins                   0.3.0\n",
      "mdurl                             0.1.0\n",
      "menuinst                          2.2.0\n",
      "mistune                           3.1.2\n",
      "mkl_fft                           1.3.11\n",
      "mkl_random                        1.2.8\n",
      "mkl-service                       2.4.0\n",
      "more-itertools                    10.3.0\n",
      "mpmath                            1.3.0\n",
      "msgpack                           1.0.3\n",
      "multidict                         6.1.0\n",
      "multipledispatch                  0.6.0\n",
      "mypy                              1.14.1\n",
      "mypy-extensions                   1.0.0\n",
      "narwhals                          1.31.0\n",
      "navigator-updater                 0.5.1\n",
      "nb_conda_kernels                  2.5.2\n",
      "nbclient                          0.10.2\n",
      "nbconvert                         7.16.6\n",
      "nbformat                          5.10.4\n",
      "nest-asyncio                      1.6.0\n",
      "netmiko                           4.5.0\n",
      "networkx                          3.4.2\n",
      "nltk                              3.9.1\n",
      "notebook                          7.3.2\n",
      "notebook_shim                     0.2.4\n",
      "ntc_templates                     7.8.0\n",
      "numba                             0.61.0\n",
      "numexpr                           2.10.1\n",
      "numpy                             1.26.4\n",
      "numpydoc                          1.7.0\n",
      "openpyxl                          3.1.5\n",
      "overrides                         7.4.0\n",
      "packaging                         24.2\n",
      "pandas                            2.2.3\n",
      "pandocfilters                     1.5.0\n",
      "panel                             1.6.0\n",
      "param                             2.2.0\n",
      "paramiko                          3.5.1\n",
      "parsel                            1.8.1\n",
      "parso                             0.8.4\n",
      "partd                             1.4.2\n",
      "pathspec                          0.10.3\n",
      "patsy                             1.0.1\n",
      "pexpect                           4.8.0\n",
      "pickleshare                       0.7.5\n",
      "pillow                            11.0.0\n",
      "pip                               25.0\n",
      "pkce                              1.0.3\n",
      "pkginfo                           1.11.2\n",
      "platformdirs                      3.10.0\n",
      "plotly                            5.24.1\n",
      "pluggy                            1.5.0\n",
      "ply                               3.11\n",
      "prometheus_client                 0.21.0\n",
      "prompt-toolkit                    3.0.43\n",
      "propcache                         0.2.0\n",
      "Protego                           0.1.16\n",
      "protobuf                          4.25.3\n",
      "psutil                            5.9.0\n",
      "ptyprocess                        0.7.0\n",
      "pure-eval                         0.2.2\n",
      "py-cpuinfo                        9.0.0\n",
      "py4j                              0.10.9.7\n",
      "pyarrow                           16.1.0\n",
      "pyasn1                            0.4.8\n",
      "pyasn1-modules                    0.2.8\n",
      "pycodestyle                       2.12.1\n",
      "pycosat                           0.6.6\n",
      "pycparser                         2.21\n",
      "pyct                              0.5.0\n",
      "pycurl                            7.45.4\n",
      "pydantic                          2.10.3\n",
      "pydantic_core                     2.27.1\n",
      "pydantic-settings                 2.6.1\n",
      "pydeck                            0.9.1\n",
      "PyDispatcher                      2.0.5\n",
      "pydocstyle                        6.3.0\n",
      "pyerfa                            2.0.1.5\n",
      "pyflakes                          3.2.0\n",
      "PyGithub                          2.4.0\n",
      "Pygments                          2.15.1\n",
      "PyJWT                             1.7.1\n",
      "pylint                            3.3.3\n",
      "pylint-venv                       3.0.3\n",
      "pyls-spyder                       0.4.0\n",
      "PyNaCl                            1.5.0\n",
      "pyodbc                            5.2.0\n",
      "pyOpenSSL                         25.0.0\n",
      "pyparsing                         3.2.0\n",
      "PyQt5                             5.15.10\n",
      "PyQt5_sip                         12.13.0\n",
      "PyQtWebEngine                     5.15.6\n",
      "pyserial                          3.5\n",
      "PySocks                           1.7.1\n",
      "pyspark                           3.5.5\n",
      "pytest                            8.3.4\n",
      "python-dateutil                   2.9.0.post0\n",
      "python-dotenv                     0.21.0\n",
      "python-json-logger                3.2.1\n",
      "python-lsp-black                  2.0.0\n",
      "python-lsp-jsonrpc                1.1.2\n",
      "python-lsp-server                 1.12.0\n",
      "python-slugify                    5.0.2\n",
      "pytoolconfig                      1.2.6\n",
      "pytz                              2024.1\n",
      "pyuca                             1.2\n",
      "pyviz_comms                       3.0.2\n",
      "PyWavelets                        1.8.0\n",
      "pywin32                           308\n",
      "pywin32-ctypes                    0.2.2\n",
      "pywinpty                          2.0.15\n",
      "PyYAML                            6.0.2\n",
      "pyzmq                             26.2.0\n",
      "QDarkStyle                        3.2.3\n",
      "qstylizer                         0.2.2\n",
      "QtAwesome                         1.3.1\n",
      "qtconsole                         5.6.1\n",
      "QtPy                              2.4.1\n",
      "queuelib                          1.6.2\n",
      "readchar                          4.0.5\n",
      "referencing                       0.30.2\n",
      "regex                             2024.11.6\n",
      "requests                          2.32.3\n",
      "requests-file                     1.5.1\n",
      "requests-toolbelt                 1.0.0\n",
      "rfc3339-validator                 0.1.4\n",
      "rfc3986-validator                 0.1.1\n",
      "rich                              13.9.4\n",
      "rope                              1.12.0\n",
      "rpds-py                           0.22.3\n",
      "Rtree                             1.0.1\n",
      "ruamel.yaml                       0.18.6\n",
      "ruamel.yaml.clib                  0.2.8\n",
      "ruamel-yaml-conda                 0.17.21\n",
      "s3fs                              2024.12.0\n",
      "scikit-image                      0.25.0\n",
      "scikit-learn                      1.5.1\n",
      "scipy                             1.13.1\n",
      "scp                               0.15.0\n",
      "Scrapy                            2.12.0\n",
      "seaborn                           0.13.2\n",
      "semver                            3.0.2\n",
      "Send2Trash                        1.8.2\n",
      "sentry-sdk                        2.18.0\n",
      "service-identity                  18.1.0\n",
      "setuptools                        75.8.0\n",
      "shellingham                       1.5.0\n",
      "sip                               6.7.12\n",
      "six                               1.16.0\n",
      "sklearn-compat                    0.1.3\n",
      "smart-open                        5.2.1\n",
      "smmap                             4.0.0\n",
      "sniffio                           1.3.0\n",
      "snowballstemmer                   2.2.0\n",
      "sortedcontainers                  2.4.0\n",
      "soupsieve                         2.5\n",
      "Sphinx                            7.3.7\n",
      "sphinxcontrib-applehelp           1.0.2\n",
      "sphinxcontrib-devhelp             1.0.2\n",
      "sphinxcontrib-htmlhelp            2.0.0\n",
      "sphinxcontrib-jsmath              1.0.1\n",
      "sphinxcontrib-qthelp              1.0.3\n",
      "sphinxcontrib-serializinghtml     1.1.10\n",
      "spyder                            6.0.3\n",
      "spyder-kernels                    3.0.2\n",
      "SQLAlchemy                        2.0.37\n",
      "stack-data                        0.2.0\n",
      "statsmodels                       0.14.4\n",
      "streamlit                         1.43.2\n",
      "superqt                           0.6.7\n",
      "sympy                             1.13.3\n",
      "tables                            3.10.2\n",
      "tabulate                          0.9.0\n",
      "tblib                             1.7.0\n",
      "tenacity                          9.0.0\n",
      "terminado                         0.17.1\n",
      "text-unidecode                    1.3\n",
      "textdistance                      4.2.1\n",
      "textfsm                           1.1.3\n",
      "threadpoolctl                     3.5.0\n",
      "three-merge                       0.1.1\n",
      "tifffile                          2023.4.12\n",
      "tinycss2                          1.4.0\n",
      "tldextract                        5.1.2\n",
      "toml                              0.10.2\n",
      "tomli                             2.0.1\n",
      "tomlkit                           0.13.2\n",
      "toolz                             1.0.0\n",
      "tornado                           6.4.2\n",
      "tqdm                              4.67.1\n",
      "traitlets                         5.14.3\n",
      "truststore                        0.10.0\n",
      "Twisted                           23.10.0\n",
      "twisted-iocpsupport               1.0.2\n",
      "typer                             0.9.0\n",
      "typing_extensions                 4.12.2\n",
      "tzdata                            2023.3\n",
      "uc-micro-py                       1.0.1\n",
      "ujson                             5.10.0\n",
      "unicodedata2                      15.1.0\n",
      "Unidecode                         1.3.8\n",
      "uri-template                      1.3.0\n",
      "urllib3                           2.3.0\n",
      "w3lib                             2.1.2\n",
      "watchdog                          4.0.2\n",
      "wcwidth                           0.2.5\n",
      "webcolors                         24.11.1\n",
      "webencodings                      0.5.1\n",
      "webexteamssdk                     1.7\n",
      "websocket-client                  1.8.0\n",
      "Werkzeug                          3.1.3\n",
      "whatthepatch                      1.0.2\n",
      "wheel                             0.45.1\n",
      "widgetsnbextension                3.6.6\n",
      "win-inet-pton                     1.1.0\n",
      "wrapt                             1.17.0\n",
      "xarray                            2024.11.0\n",
      "xlrd                              2.0.1\n",
      "xlwings                           0.32.1\n",
      "xyzservices                       2022.9.0\n",
      "yapf                              0.40.2\n",
      "yarl                              1.18.0\n",
      "zict                              3.0.0\n",
      "zipp                              3.21.0\n",
      "zope.interface                    7.1.1\n",
      "zstandard                         0.23.0\n"
     ]
    }
   ],
   "source": [
    "! pip list"
   ]
  },
  {
   "cell_type": "code",
   "execution_count": 55,
   "metadata": {},
   "outputs": [
    {
     "name": "stdout",
     "output_type": "stream",
     "text": [
      "Defaulting to user installation because normal site-packages is not writeable\n",
      "Requirement already satisfied: pandas in c:\\programdata\\anaconda3\\lib\\site-packages (2.2.3)\n",
      "Requirement already satisfied: numpy>=1.23.2 in c:\\programdata\\anaconda3\\lib\\site-packages (from pandas) (1.26.4)\n",
      "Requirement already satisfied: python-dateutil>=2.8.2 in c:\\programdata\\anaconda3\\lib\\site-packages (from pandas) (2.9.0.post0)\n",
      "Requirement already satisfied: pytz>=2020.1 in c:\\programdata\\anaconda3\\lib\\site-packages (from pandas) (2024.1)\n",
      "Requirement already satisfied: tzdata>=2022.7 in c:\\programdata\\anaconda3\\lib\\site-packages (from pandas) (2023.3)\n",
      "Requirement already satisfied: six>=1.5 in c:\\programdata\\anaconda3\\lib\\site-packages (from python-dateutil>=2.8.2->pandas) (1.16.0)\n"
     ]
    }
   ],
   "source": [
    "! pip install pandas"
   ]
  },
  {
   "cell_type": "markdown",
   "metadata": {},
   "source": [
    "**Extra Practice** **Printing**"
   ]
  },
  {
   "cell_type": "code",
   "execution_count": 189,
   "metadata": {},
   "outputs": [
    {
     "name": "stdout",
     "output_type": "stream",
     "text": [
      "1111111111\n"
     ]
    }
   ],
   "source": [
    "print(1_111_111_111)"
   ]
  },
  {
   "cell_type": "code",
   "execution_count": 187,
   "metadata": {},
   "outputs": [
    {
     "name": "stdout",
     "output_type": "stream",
     "text": [
      "fish&chips\n"
     ]
    }
   ],
   "source": [
    "print(\"fish\", \"chips\", sep=\"&\")"
   ]
  },
  {
   "cell_type": "code",
   "execution_count": 60,
   "metadata": {},
   "outputs": [
    {
     "name": "stdout",
     "output_type": "stream",
     "text": [
      "asepbsepc\n",
      "a-b-c\n"
     ]
    }
   ],
   "source": [
    "print(\"a\",\"b\",\"c\", sep=\"sep\")\n",
    "print(\"a\",\"b\",\"c\", sep=\"-\")"
   ]
  },
  {
   "cell_type": "code",
   "execution_count": 161,
   "metadata": {},
   "outputs": [
    {
     "name": "stdout",
     "output_type": "stream",
     "text": [
      "1\n",
      "Oh dear, something went wrong...\n",
      "3\n"
     ]
    }
   ],
   "source": [
    "try:\n",
    "    print(\"1\")\n",
    "    x = 1 / 0\n",
    "    print(\"2\")\n",
    "except:\n",
    "    print(\"Oh dear, something went wrong...\")\n",
    "\n",
    "print(\"3\")"
   ]
  },
  {
   "cell_type": "code",
   "execution_count": null,
   "metadata": {},
   "outputs": [],
   "source": [
    "x = float(input())\n",
    "y = float(input())\n",
    "print(y ** (1 / x))\n"
   ]
  },
  {
   "cell_type": "markdown",
   "metadata": {},
   "source": [
    "**Extra Practice Managing Input & Output using Print** "
   ]
  },
  {
   "cell_type": "code",
   "execution_count": 104,
   "metadata": {},
   "outputs": [
    {
     "name": "stdout",
     "output_type": "stream",
     "text": [
      "Yvan Rooseleer BiASC Gravenbosstraat 134 Brussel\n"
     ]
    }
   ],
   "source": [
    "### STEP 1 # In reality, data is often read in \"realtime\" from an input source, e.g. a file, a spreadsheet, a message, ...\n",
    "first_name = \"Yvan\"\n",
    "last_name = \"Rooseleer\"\n",
    "company = \"BiASC\"\n",
    "address = \"Gravenbosstraat 134\"\n",
    "city = \"Brussel\"\n",
    "\n",
    "print (first_name, last_name, company, address, city)"
   ]
  },
  {
   "cell_type": "code",
   "execution_count": 235,
   "metadata": {},
   "outputs": [
    {
     "name": "stdout",
     "output_type": "stream",
     "text": [
      "Y. Rooseleer\n"
     ]
    }
   ],
   "source": [
    "first_name = \"Yvan\"\n",
    "last_name = \"Rooseleer\"\n",
    "company = \"BiASC\"\n",
    "address = \"Gravenbosstraat 134\"\n",
    "city = \"Brussel\"\n",
    "\n",
    "###short_name = f\"{first_name[0]}. {last_name}\"\n",
    "short_name = first_name[0] +\". \"+ last_name\n",
    "print(short_name)"
   ]
  },
  {
   "cell_type": "code",
   "execution_count": 217,
   "metadata": {},
   "outputs": [
    {
     "name": "stdin",
     "output_type": "stream",
     "text": [
      "Voornaam: Yvan\n",
      "Familienaam: Rooseleer\n",
      "Company: BiASC\n",
      "Adres: Gravenbos 134\n",
      "Woonplaats: Liedekerke\n"
     ]
    },
    {
     "name": "stdout",
     "output_type": "stream",
     "text": [
      "Yvan Rooseleer BiASC Gravenbos 134 Liedekerke\n"
     ]
    }
   ],
   "source": [
    "### STEP 1 USING INPUT\n",
    "first_name = input(\"Voornaam:\")\n",
    "last_name = input(\"Familienaam:\")\n",
    "company = input(\"Company:\")\n",
    "address = input(\"Adres:\")\n",
    "city = input(\"Woonplaats:\")\n",
    "\n",
    "print (first_name, last_name, company, address, city)"
   ]
  },
  {
   "cell_type": "code",
   "execution_count": 223,
   "metadata": {},
   "outputs": [
    {
     "name": "stdout",
     "output_type": "stream",
     "text": [
      "Yvan Rooseleer BiASC Gravenbos 134 Liedekerke\n"
     ]
    }
   ],
   "source": [
    "### STEP 2\n",
    "print (first_name, last_name, company, address, city)"
   ]
  },
  {
   "cell_type": "code",
   "execution_count": 221,
   "metadata": {},
   "outputs": [
    {
     "name": "stdout",
     "output_type": "stream",
     "text": [
      "Yvan,Rooseleer,BiASC,Gravenbos 134,Liedekerke\n"
     ]
    }
   ],
   "source": [
    "### STEP 2 sep\n",
    "print (first_name, last_name, company, address, city, sep=\",\")\n"
   ]
  },
  {
   "cell_type": "code",
   "execution_count": 227,
   "metadata": {},
   "outputs": [
    {
     "name": "stdout",
     "output_type": "stream",
     "text": [
      "Yvan\\Rooseleer\\BiASC\\Gravenbos 134\\Liedekerke\n"
     ]
    }
   ],
   "source": [
    "### STEP 2 sep\n",
    "print (first_name, last_name, company, address, city, sep=\"\\\\\")\n"
   ]
  },
  {
   "cell_type": "code",
   "execution_count": 229,
   "metadata": {},
   "outputs": [
    {
     "name": "stdout",
     "output_type": "stream",
     "text": [
      "Yvan\n",
      "Rooseleer\n",
      "BiASC\n",
      "Gravenbos 134\n",
      "Liedekerke\n"
     ]
    }
   ],
   "source": [
    "### STEP 2 sep\n",
    "print (first_name, last_name, company, address, city, sep=\"\\n\")\n"
   ]
  },
  {
   "cell_type": "code",
   "execution_count": 231,
   "metadata": {},
   "outputs": [
    {
     "name": "stdout",
     "output_type": "stream",
     "text": [
      "Yvan Rooseleer\n",
      "BiASC\n",
      "Gravenbos 134\n",
      "Liedekerke\n"
     ]
    }
   ],
   "source": [
    "## STEP 3\n",
    "print (first_name, last_name)\n",
    "print (company)\n",
    "print (address)\n",
    "print (city)"
   ]
  },
  {
   "cell_type": "code",
   "execution_count": 233,
   "metadata": {},
   "outputs": [
    {
     "name": "stdout",
     "output_type": "stream",
     "text": [
      "Rooseleer, Yvan\n",
      "BiASC, Gravenbos 134, Liedekerke\n"
     ]
    }
   ],
   "source": [
    "# STEP 4\n",
    "print (last_name, first_name, sep=\", \")\n",
    "print (company, address, city, sep=\", \")"
   ]
  },
  {
   "cell_type": "code",
   "execution_count": 247,
   "metadata": {},
   "outputs": [
    {
     "name": "stdout",
     "output_type": "stream",
     "text": [
      "YRoosel\n",
      "yroosel\n"
     ]
    }
   ],
   "source": [
    "# STEP 5 username\n",
    "first_name = \"Yvan\"\n",
    "last_name = \"Rooseleer\"\n",
    "company = \"BiASC\"\n",
    "address = \"Gravenbosstraat 134\"\n",
    "city = \"Brussel\"\n",
    "\n",
    "###short_name = f\"{first_name[0]}. {last_name}\"\n",
    "user_name = first_name[0] +last_name[0:6]\n",
    "print(user_name)\n",
    "user_name = user_name.lower()\n",
    "print(user_name)"
   ]
  },
  {
   "cell_type": "markdown",
   "metadata": {},
   "source": [
    "**Operators**"
   ]
  },
  {
   "cell_type": "code",
   "execution_count": 43,
   "metadata": {},
   "outputs": [
    {
     "name": "stdout",
     "output_type": "stream",
     "text": [
      "0\n",
      "1\n",
      "1\n",
      "1\n",
      "0\n",
      "4\n"
     ]
    }
   ],
   "source": [
    "print (1 // 2 )\n",
    "print (1 % 2 )\n",
    "print (1 ** 2 )\n",
    "print (2 // 2 )\n",
    "print (2 % 2 )\n",
    "print (2 ** 2 )\n"
   ]
  },
  {
   "cell_type": "code",
   "execution_count": 134,
   "metadata": {},
   "outputs": [
    {
     "name": "stdout",
     "output_type": "stream",
     "text": [
      "1 0\n",
      "1 0\n",
      "1 1\n",
      "0 1\n"
     ]
    }
   ],
   "source": [
    "# bitwise XOR operator (^)\n",
    "a = 1\n",
    "b = 0\n",
    "print (a,b)\n",
    "a = a ^ b\n",
    "print (a,b)\n",
    "b = a ^ b\n",
    "print (a,b)\n",
    "a = a ^ b\n",
    "print (a,b)"
   ]
  },
  {
   "cell_type": "markdown",
   "metadata": {},
   "source": [
    "**bitwise XOR operator (^)**\n",
    "\n",
    "Above is a classic bitwise trick to swap two numbers without using a third variable."
   ]
  },
  {
   "cell_type": "code",
   "execution_count": 56,
   "metadata": {},
   "outputs": [
    {
     "name": "stdout",
     "output_type": "stream",
     "text": [
      "1 1 2\n"
     ]
    }
   ],
   "source": [
    "x = 1\n",
    "y = 2 \n",
    "x, y, z = x, x, y\n",
    "z, y, z = x, y, z\n",
    "print(x, y, z)"
   ]
  },
  {
   "cell_type": "code",
   "execution_count": 58,
   "metadata": {},
   "outputs": [
    {
     "name": "stdout",
     "output_type": "stream",
     "text": [
      "True\n"
     ]
    }
   ],
   "source": [
    "z = 0\n",
    "y = 10\n",
    "x = y < z and z > y or y > z and z < y\n",
    "print(x)"
   ]
  },
  {
   "cell_type": "markdown",
   "metadata": {},
   "source": [
    "x = int(input())\n",
    "y = int(input())\n",
    "print(x, y)\n",
    "x = x % y\n",
    "print(x, y)\n",
    "x = x % y\n",
    "print(x, y)\n",
    "y = y % x\n",
    "print(x, y)\n",
    "print(y)"
   ]
  },
  {
   "cell_type": "markdown",
   "metadata": {},
   "source": [
    "**Extra Practice Date and Time** \n",
    "\n",
    "The datetime module is part of Python’s standard library, so it is installed by default with Python 3 — no need to install anything extra.\n",
    "Else you would need: !pip install datetime"
   ]
  },
  {
   "cell_type": "code",
   "execution_count": 59,
   "metadata": {},
   "outputs": [
    {
     "name": "stdout",
     "output_type": "stream",
     "text": [
      "Current date and time: 2025-05-07 17:21:45.047702\n"
     ]
    }
   ],
   "source": [
    "# DATETIME STEP 1\n",
    "from datetime import datetime\n",
    "\n",
    "now = datetime.now()\n",
    "print(\"Current date and time:\", now)"
   ]
  },
  {
   "cell_type": "code",
   "execution_count": 63,
   "metadata": {},
   "outputs": [
    {
     "name": "stdout",
     "output_type": "stream",
     "text": [
      "Date: 7 May 2025\n",
      "Time: 17:52 Europe/Brussels\n"
     ]
    }
   ],
   "source": [
    "# DATETIME STEP 2\n",
    "from datetime import datetime\n",
    "from zoneinfo import ZoneInfo  # Only available in Python 3.9+\n",
    "\n",
    "# Choose a timezone\n",
    "tz = ZoneInfo(\"Europe/Brussels\")\n",
    "\n",
    "# Get current date and time in that timezone\n",
    "now = datetime.now(tz)\n",
    "\n",
    "# Format the date and time\n",
    "MyOS = \"Windows\"\n",
    "if MyOS == \"Windows\":\n",
    "    # Use %#d for Windows; if on Linux/macOS, you can use %-d instead\n",
    "    formatted_date = now.strftime(\"%#d %B %Y\")\n",
    "    formatted_time = now.strftime(\"%H:%M\")\n",
    "else:  \n",
    "    # Use %#d for Windows; if on Linux/macOS, you can use %-d instead\n",
    "    formatted_date = now.strftime(\"%-d %B %Y\")     # e.g. 7 May 2025 (on Unix/macOS)\n",
    "    formatted_time = now.strftime(\"%H:%M\")         # e.g. 13:16\n",
    "# Print the result\n",
    "print(f\"Date: {formatted_date}\")\n",
    "print(f\"Time: {formatted_time} {tz.key}\")"
   ]
  },
  {
   "cell_type": "markdown",
   "metadata": {},
   "source": [
    "**Extra Practice Converting Hours, minutes and seconds** \n"
   ]
  },
  {
   "cell_type": "code",
   "execution_count": 3,
   "metadata": {},
   "outputs": [
    {
     "name": "stdout",
     "output_type": "stream",
     "text": [
      "Result: 1:30 is 90 minutes\n"
     ]
    }
   ],
   "source": [
    "## STEP 1\n",
    "## CONVERT HH:MI TO MINUTES\n",
    "HH = 1\n",
    "MM = 30\n",
    "SEC = (HH * 60) + MM\n",
    "print (\"Result: \" , HH, \":\", MM ,\" is\" , sep=\"\", end=\" \")\n",
    "print(SEC, \"minutes\", sep=\" \")"
   ]
  },
  {
   "cell_type": "code",
   "execution_count": 5,
   "metadata": {},
   "outputs": [
    {
     "name": "stdout",
     "output_type": "stream",
     "text": [
      "Result: 1:30:10 is 5410 seconds\n"
     ]
    }
   ],
   "source": [
    "## STEP 2\n",
    "## CONVERT HH MIN SEC TO SECONDS\n",
    "HH = 1\n",
    "MM = 30\n",
    "SS = 10\n",
    "SEC = (HH * 60 * 60) + (MM * 60) + SS\n",
    "print (\"Result: \" , HH, \":\", MM , \":\", SS , \" is\" , sep=\"\", end=\" \")\n",
    "print(SEC, \"seconds\", sep=\" \")"
   ]
  },
  {
   "cell_type": "code",
   "execution_count": 7,
   "metadata": {},
   "outputs": [
    {
     "name": "stdin",
     "output_type": "stream",
     "text": [
      "How  many hours? (0-48) 48\n",
      "How  many minutes? (0-59) 59\n",
      "How  many seconds? (0-59) 59\n"
     ]
    },
    {
     "name": "stdout",
     "output_type": "stream",
     "text": [
      "Result: 48:59:59 is 176399 seconds\n"
     ]
    }
   ],
   "source": [
    "## STEP 3\n",
    "## CONVERT HH MIN SEC TO SECONDS : INTERACTIVE\n",
    "HH = int(input(\"How  many hours? (0-48)\"))\n",
    "MM = int(input(\"How  many minutes? (0-59)\"))\n",
    "SS = int(input(\"How  many seconds? (0-59)\"))\n",
    "SEC = (HH * 60 * 60) + (MM * 60) + SS\n",
    "print (\"Result: \" , HH, \":\", MM , \":\", SS , \" is\" , sep=\"\", end=\" \")\n",
    "print(SEC, \"seconds\", sep=\" \")"
   ]
  },
  {
   "cell_type": "code",
   "execution_count": 61,
   "metadata": {},
   "outputs": [
    {
     "name": "stdout",
     "output_type": "stream",
     "text": [
      "Start of the program\n",
      "Note: Program will crash if you enter a letter instead of a number)\n"
     ]
    },
    {
     "name": "stdin",
     "output_type": "stream",
     "text": [
      "How many hours? (0–48):  2\n",
      "How many minutes? (0–59):  2\n",
      "How many seconds? (0–59):  2\n"
     ]
    },
    {
     "name": "stdout",
     "output_type": "stream",
     "text": [
      "Result: 2:2:2 is 7322 seconds\n",
      "End of the program\n"
     ]
    }
   ],
   "source": [
    "## STEP 4 -- NOT FINISHED !\n",
    "## integers expected as input\n",
    "## if user enters invalid input  program will crash; \n",
    "print(\"Start of the program\")\n",
    "print(\"Note: Program will crash if you enter a letter instead of a number)\")\n",
    "\n",
    "user_input = input(\"How many hours? (0–48): \")\n",
    "HH = int(user_input)\n",
    "if HH < 0 or HH > 48: \n",
    "    HH = 0\n",
    "\n",
    "user_input = input(\"How many minutes? (0–59): \")\n",
    "MM = int(user_input)\n",
    "if MM < 0 or MM > 59: \n",
    "    MM = 0\n",
    "\n",
    "user_input = input(\"How many seconds? (0–59): \")\n",
    "SS = int(user_input)\n",
    "if SS < 0 or SS > 59: \n",
    "    SS = 0\n",
    "\n",
    "SEC = (HH * 60 * 60) + (MM * 60) + SS\n",
    "\n",
    "print(\"Result: \", HH, \":\", MM, \":\", SS, \" is\", sep=\"\", end=\" \")\n",
    "print(SEC, \"seconds\", sep=\" \")\n",
    "print(\"End of the program\")"
   ]
  },
  {
   "cell_type": "code",
   "execution_count": 63,
   "metadata": {},
   "outputs": [
    {
     "name": "stdout",
     "output_type": "stream",
     "text": [
      "Start of the program\n",
      "All invalid input will be converted to a zero (0) value\n"
     ]
    },
    {
     "name": "stdin",
     "output_type": "stream",
     "text": [
      "How many hours? (0–48):  2\n",
      "How many minutes? (0–59):  2\n",
      "How many seconds? (0–59):  2\n"
     ]
    },
    {
     "name": "stdout",
     "output_type": "stream",
     "text": [
      "Result: 2:2:2 is 7322 seconds\n",
      "End of the program\n"
     ]
    }
   ],
   "source": [
    "## STEP 4b new\n",
    "## convert invalid input (non-integer or out-of-range) to 0\n",
    "print(\"Start of the program\")\n",
    "print(\"All invalid input will be converted to a zero (0) value\")\n",
    "\n",
    "user_input = input(\"How many hours? (0–48): \")\n",
    "if user_input.isdigit():\n",
    "    HH = int(user_input)\n",
    "    if HH < 0 or HH > 48:\n",
    "        HH = 0\n",
    "else:\n",
    "    HH = 0\n",
    "\n",
    "user_input = input(\"How many minutes? (0–59): \")\n",
    "if user_input.isdigit():\n",
    "    MM = int(user_input)\n",
    "    if MM < 0 or MM > 59:\n",
    "        MM = 0\n",
    "else:\n",
    "    MM = 0\n",
    "\n",
    "user_input = input(\"How many seconds? (0–59): \")\n",
    "if user_input.isdigit():\n",
    "    SS = int(user_input)\n",
    "    if SS < 0 or SS > 59:\n",
    "        SS = 0\n",
    "else:\n",
    "    SS = 0\n",
    "\n",
    "SEC = (HH * 60 * 60) + (MM * 60) + SS\n",
    "\n",
    "print(\"Result: \", HH, \":\", MM, \":\", SS, \" is\", sep=\"\", end=\" \")\n",
    "print(SEC, \"seconds\", sep=\" \")\n",
    "print(\"End of the program\")"
   ]
  },
  {
   "cell_type": "code",
   "execution_count": 65,
   "metadata": {},
   "outputs": [
    {
     "name": "stdout",
     "output_type": "stream",
     "text": [
      "Start of the program\n",
      "Note: Any invalid input will automatically be changed to 0.\n"
     ]
    },
    {
     "name": "stdin",
     "output_type": "stream",
     "text": [
      "How many hours? (0–48):  2\n",
      "How many minutes? (0–59):  2\n",
      "How many seconds? (0–59):  2\n"
     ]
    },
    {
     "name": "stdout",
     "output_type": "stream",
     "text": [
      "Result: 2:2:2 is 7322 seconds\n",
      "End of the program\n"
     ]
    }
   ],
   "source": [
    "## STEP 4c new\n",
    "## Functions make code more readable\n",
    "\n",
    "print(\"Start of the program\")\n",
    "print(\"Note: Any invalid input will automatically be changed to 0.\")\n",
    "\n",
    "def get_valid_input(prompt, min_val, max_val):\n",
    "    user_input = input(prompt)\n",
    "    if user_input.isdigit():\n",
    "        val = int(user_input)\n",
    "        if min_val <= val <= max_val:\n",
    "            return val\n",
    "    return 0\n",
    "\n",
    "HH = get_valid_input(\"How many hours? (0–48): \", 0, 48)\n",
    "MM = get_valid_input(\"How many minutes? (0–59): \", 0, 59)\n",
    "SS = get_valid_input(\"How many seconds? (0–59): \", 0, 59)\n",
    "\n",
    "SEC = (HH * 60 * 60) + (MM * 60) + SS\n",
    "\n",
    "print(\"Result: \", HH, \":\", MM, \":\", SS, \" is\", sep=\"\", end=\" \")\n",
    "print(SEC, \"seconds\", sep=\" \")\n",
    "print(\"End of the program\")"
   ]
  },
  {
   "cell_type": "code",
   "execution_count": 67,
   "metadata": {},
   "outputs": [
    {
     "name": "stdout",
     "output_type": "stream",
     "text": [
      "Start of the program\n",
      "Note: Any invalid input will automatically be changed to 0.\n"
     ]
    },
    {
     "name": "stdin",
     "output_type": "stream",
     "text": [
      "How many hours? (0–48):  2\n",
      "How many minutes? (0–59):  2\n",
      "How many seconds? (0–59):  2\n"
     ]
    },
    {
     "name": "stdout",
     "output_type": "stream",
     "text": [
      "Result: 2:2:2 is 7322 seconds\n",
      "End of the program\n"
     ]
    }
   ],
   "source": [
    "## STEP 4d new\n",
    "## Improving code to avoid program crashing\n",
    "## try...except construction to change invalid inputs into zero (0)\n",
    "\n",
    "print(\"Start of the program\")\n",
    "print(\"Note: Any invalid input will automatically be changed to 0.\")\n",
    "\n",
    "def get_valid_input(prompt, min_val, max_val):\n",
    "    try:\n",
    "        val = int(input(prompt))\n",
    "        if min_val <= val <= max_val:\n",
    "            return val\n",
    "        else:\n",
    "            return 0\n",
    "    except:\n",
    "        return 0\n",
    "\n",
    "HH = get_valid_input(\"How many hours? (0–48): \", 0, 48)\n",
    "MM = get_valid_input(\"How many minutes? (0–59): \", 0, 59)\n",
    "SS = get_valid_input(\"How many seconds? (0–59): \", 0, 59)\n",
    "\n",
    "SEC = (HH * 60 * 60) + (MM * 60) + SS\n",
    "\n",
    "print(\"Result: \", HH, \":\", MM, \":\", SS, \" is\", sep=\"\", end=\" \")\n",
    "print(SEC, \"seconds\", sep=\" \")\n",
    "print(\"End of the program\")"
   ]
  },
  {
   "cell_type": "code",
   "execution_count": 69,
   "metadata": {},
   "outputs": [
    {
     "name": "stdout",
     "output_type": "stream",
     "text": [
      "Start of the program\n",
      "Note: Any invalid input will automatically be changed to 0.\n"
     ]
    },
    {
     "name": "stdin",
     "output_type": "stream",
     "text": [
      "How many hours? (0–48):  2\n",
      "How many minutes? (0–59):  2\n",
      "How many seconds? (0–59):  2\n"
     ]
    },
    {
     "name": "stdout",
     "output_type": "stream",
     "text": [
      "Result: 02:02:02 is 7322 seconds\n",
      "End of the program\n"
     ]
    }
   ],
   "source": [
    "## STEP 4e new\n",
    "## Logic is separated into a convert_time_to_seconds() function\n",
    "## More reusable; calculation logic is encapsulated in a function\n",
    "## Formatting of the output is more generic, using an f-string\n",
    "\n",
    "def get_valid_input(prompt, min_val, max_val):\n",
    "    try:\n",
    "        val = int(input(prompt))\n",
    "        if min_val <= val <= max_val:\n",
    "            return val\n",
    "        else:\n",
    "            return 0\n",
    "    except:\n",
    "        return 0\n",
    "\n",
    "def convert_time_to_seconds():\n",
    "    HH = get_valid_input(\"How many hours? (0–48): \", 0, 48)\n",
    "    MM = get_valid_input(\"How many minutes? (0–59): \", 0, 59)\n",
    "    SS = get_valid_input(\"How many seconds? (0–59): \", 0, 59)\n",
    "\n",
    "    SEC = (HH * 60 * 60) + (MM * 60) + SS\n",
    "    print(f\"Result: {HH:02}:{MM:02}:{SS:02} is {SEC} seconds\")\n",
    "\n",
    "# Run the program\n",
    "print(\"Start of the program\")\n",
    "print(\"Note: Any invalid input will automatically be changed to 0.\")\n",
    "convert_time_to_seconds()\n",
    "print(\"End of the program\")\n"
   ]
  },
  {
   "cell_type": "code",
   "execution_count": 71,
   "metadata": {},
   "outputs": [
    {
     "name": "stdout",
     "output_type": "stream",
     "text": [
      "Start of the program\n",
      "Press Enter at any time to stop.\n"
     ]
    },
    {
     "name": "stdin",
     "output_type": "stream",
     "text": [
      "How many hours? (0–48):  \n"
     ]
    },
    {
     "name": "stdout",
     "output_type": "stream",
     "text": [
      "End of the program\n"
     ]
    }
   ],
   "source": [
    "## STEP 4f new\n",
    "## Input stops immediately if user presses \"enter\"\n",
    "## Output format: always two digits (e.g. 01:01:01)\n",
    "## Writing code that considers possible errors is always more complex\n",
    "\n",
    "def get_valid_input(prompt, min_val, max_val):\n",
    "    while True:\n",
    "        user_input = input(prompt)\n",
    "        if user_input == \"\":\n",
    "            return None  # stop bij Enter\n",
    "        try:\n",
    "            val = int(user_input)\n",
    "            if min_val <= val <= max_val:\n",
    "                return val\n",
    "            else:\n",
    "                print(f\"Please enter a value between {min_val} and {max_val}, or press Enter to stop.\")\n",
    "        except ValueError:\n",
    "            print(\"Invalid input. Please enter a number or press Enter to stop.\")\n",
    "\n",
    "def convert_time_to_seconds():\n",
    "    HH = get_valid_input(\"How many hours? (0–48): \", 0, 48)\n",
    "    if HH is None:\n",
    "        return\n",
    "\n",
    "    MM = get_valid_input(\"How many minutes? (0–59): \", 0, 59)\n",
    "    if MM is None:\n",
    "        return\n",
    "\n",
    "    SS = get_valid_input(\"How many seconds? (0–59): \", 0, 59)\n",
    "    if SS is None:\n",
    "        return\n",
    "\n",
    "    SEC = (HH * 60 * 60) + (MM * 60) + SS\n",
    "    print(f\"Result: {HH:02}:{MM:02}:{SS:02} is {SEC} seconds\")\n",
    "\n",
    "# Run the program\n",
    "print(\"Start of the program\")\n",
    "print(\"Press Enter at any time to stop.\")\n",
    "convert_time_to_seconds()\n",
    "print(\"End of the program\")\n"
   ]
  },
  {
   "cell_type": "code",
   "execution_count": 73,
   "metadata": {},
   "outputs": [
    {
     "name": "stdout",
     "output_type": "stream",
     "text": [
      "Start of the program\n"
     ]
    },
    {
     "name": "stdin",
     "output_type": "stream",
     "text": [
      "How many hours? (0–48, 99 to quit):  2\n",
      "How many minutes? (0–59, 99 to quit):  2\n",
      "How many seconds? (0–59, 99 to quit):  2\n"
     ]
    },
    {
     "name": "stdout",
     "output_type": "stream",
     "text": [
      "Result: 02:02:02 is 7322 seconds\n",
      "End of the program\n"
     ]
    }
   ],
   "source": [
    "## STEP 5 - ORIGINAL SOLUTION USING 99\n",
    "## Input stops immediately if user enters 99\n",
    "## Output format: always two digits (e.g. 01:01:01)\n",
    "## Writing code that considers possible errors is always more complex\n",
    "\n",
    "def get_valid_input(prompt, min_val, max_val):\n",
    "    while True:\n",
    "        try:\n",
    "            val = int(input(prompt))\n",
    "            if val == 99:\n",
    "                return 99\n",
    "            if min_val <= val <= max_val:\n",
    "                return val\n",
    "            else:\n",
    "                print(f\"Please enter a value between {min_val} and {max_val}, or 99 to quit.\")\n",
    "        except ValueError:\n",
    "            print(\"Invalid input. Please enter a number.\")\n",
    "\n",
    "def convert_time_to_seconds():\n",
    "    HH = get_valid_input(\"How many hours? (0–48, 99 to quit): \", 0, 48)\n",
    "    if HH == 99:\n",
    "        return  # stop immediately\n",
    "\n",
    "    MM = get_valid_input(\"How many minutes? (0–59, 99 to quit): \", 0, 59)\n",
    "    if MM == 99:\n",
    "        return  # stop immediately\n",
    "\n",
    "    SS = get_valid_input(\"How many seconds? (0–59, 99 to quit): \", 0, 59)\n",
    "    if SS == 99:\n",
    "        return  # stop immediately\n",
    "\n",
    "    # only executed if all inputs are valid (not 99)\n",
    "    SEC = (HH * 60 * 60) + (MM * 60) + SS\n",
    "    print(f\"Result: {HH:02}:{MM:02}:{SS:02} is {SEC} seconds\")\n",
    "\n",
    "# Run the program\n",
    "print(\"Start of the program\")\n",
    "convert_time_to_seconds()\n",
    "print(\"End of the program\")"
   ]
  },
  {
   "cell_type": "code",
   "execution_count": 11,
   "metadata": {},
   "outputs": [
    {
     "name": "stdin",
     "output_type": "stream",
     "text": [
      "How many hours? (0–48, 99 to quit):  1\n",
      "How many minutes? (0–59, 99 to quit):  1\n",
      "How many seconds? (0–59, 99 to quit):  1\n"
     ]
    },
    {
     "name": "stdout",
     "output_type": "stream",
     "text": [
      "Result: 1:1:1 is 3661 seconds\n"
     ]
    }
   ],
   "source": [
    "## STEP 4 old -- NOT FINISHED !\n",
    "## CONVERT HH MIN SEC TO SECONDS: INTERACTIVE\n",
    "## Input should stop if user enters 99\n",
    "\n",
    "def get_valid_input(prompt, min_val, max_val):\n",
    "    while True:\n",
    "        try:\n",
    "            val = int(input(prompt))\n",
    "            if val == 99:\n",
    "                print(\"Exiting...\")\n",
    "                break\n",
    "            if min_val <= val <= max_val:\n",
    "                return val\n",
    "            else:\n",
    "                print(f\"Please enter a value between {min_val} and {max_val}, or 99 to quit.\")\n",
    "        except ValueError:\n",
    "            print(\"Invalid input. Please enter a number.\")\n",
    "\n",
    "HH = get_valid_input(\"How many hours? (0–48, 99 to quit): \", 0, 48)\n",
    "MM = get_valid_input(\"How many minutes? (0–59, 99 to quit): \", 0, 59)\n",
    "SS = get_valid_input(\"How many seconds? (0–59, 99 to quit): \", 0, 59)\n",
    "\n",
    "SEC = (HH * 60 * 60) + (MM * 60) + SS\n",
    "\n",
    "print(\"Result: \", HH, \":\", MM, \":\", SS, \" is\", sep=\"\", end=\" \")\n",
    "print(SEC, \"seconds\", sep=\" \")"
   ]
  },
  {
   "cell_type": "code",
   "execution_count": 41,
   "metadata": {},
   "outputs": [
    {
     "name": "stdout",
     "output_type": "stream",
     "text": [
      "Start of the program\n"
     ]
    },
    {
     "name": "stdin",
     "output_type": "stream",
     "text": [
      "How many hours? (0–48, 99 to quit):  99\n"
     ]
    },
    {
     "name": "stdout",
     "output_type": "stream",
     "text": [
      "End of the program\n"
     ]
    }
   ],
   "source": [
    "## STEP 5 old\n",
    "## Input stops immediately if user enters 99\n",
    "## Output format: always two digits (e.g. 01:01:01)\n",
    "\n",
    "def get_valid_input(prompt, min_val, max_val):\n",
    "    while True:\n",
    "        try:\n",
    "            val = int(input(prompt))\n",
    "            if val == 99:\n",
    "                return 99\n",
    "            if min_val <= val <= max_val:\n",
    "                return val\n",
    "            else:\n",
    "                print(f\"Please enter a value between {min_val} and {max_val}, or 99 to quit.\")\n",
    "        except ValueError:\n",
    "            print(\"Invalid input. Please enter a number.\")\n",
    "\n",
    "def convert_time_to_seconds():\n",
    "    HH = get_valid_input(\"How many hours? (0–48, 99 to quit): \", 0, 48)\n",
    "    if HH == 99:\n",
    "        return  # stop immediately\n",
    "\n",
    "    MM = get_valid_input(\"How many minutes? (0–59, 99 to quit): \", 0, 59)\n",
    "    if MM == 99:\n",
    "        return  # stop immediately\n",
    "\n",
    "    SS = get_valid_input(\"How many seconds? (0–59, 99 to quit): \", 0, 59)\n",
    "    if SS == 99:\n",
    "        return  # stop immediately\n",
    "\n",
    "    # only executed if all inputs are valid (not 99)\n",
    "    SEC = (HH * 60 * 60) + (MM * 60) + SS\n",
    "    print(f\"Result: {HH:02}:{MM:02}:{SS:02} is {SEC} seconds\")\n",
    "\n",
    "# Run the program\n",
    "print(\"Start of the program\")\n",
    "convert_time_to_seconds()\n",
    "print(\"End of the program\")"
   ]
  },
  {
   "cell_type": "markdown",
   "metadata": {},
   "source": [
    "**Extra Practice** **Strings & Replication**"
   ]
  },
  {
   "cell_type": "code",
   "execution_count": 191,
   "metadata": {},
   "outputs": [
    {
     "name": "stdout",
     "output_type": "stream",
     "text": [
      "+----------+\n",
      "|          |\n",
      "|          |\n",
      "|          |\n",
      "|          |\n",
      "|          |\n",
      "+----------+\n"
     ]
    }
   ],
   "source": [
    "print(\"+\" + 10 * \"-\" + \"+\")\n",
    "print((\"|\" + \" \" * 10 + \"|\\n\") * 5, end=\"\")\n",
    "print(\"+\" + 10 * \"-\" + \"+\")\n"
   ]
  },
  {
   "cell_type": "code",
   "execution_count": 194,
   "metadata": {},
   "outputs": [
    {
     "name": "stdout",
     "output_type": "stream",
     "text": [
      "+--------------------+\n",
      "|                    |\n",
      "|                    |\n",
      "|                    |\n",
      "|                    |\n",
      "|                    |\n",
      "|                    |\n",
      "|                    |\n",
      "|                    |\n",
      "|                    |\n",
      "|                    |\n",
      "+--------------------+\n"
     ]
    }
   ],
   "source": [
    "size = 20\n",
    "height = 10\n",
    "print(\"+\" + size * \"-\" + \"+\")\n",
    "print((\"|\" + \" \" * size + \"|\\n\") * height, end=\"\")\n",
    "print(\"+\" + size * \"-\" + \"+\")\n"
   ]
  },
  {
   "cell_type": "markdown",
   "metadata": {},
   "source": [
    "**Range**"
   ]
  },
  {
   "cell_type": "code",
   "execution_count": 196,
   "metadata": {},
   "outputs": [
    {
     "name": "stdout",
     "output_type": "stream",
     "text": [
      "The value of i is currently 0\n",
      "The value of i is currently 1\n",
      "The value of i is currently 2\n",
      "The value of i is currently 3\n",
      "The value of i is currently 4\n",
      "The value of i is currently 5\n",
      "The value of i is currently 6\n",
      "The value of i is currently 7\n",
      "The value of i is currently 8\n",
      "The value of i is currently 9\n"
     ]
    }
   ],
   "source": [
    "for i in range(10):\n",
    "    print(\"The value of i is currently\", i)"
   ]
  },
  {
   "cell_type": "code",
   "execution_count": 198,
   "metadata": {},
   "outputs": [
    {
     "name": "stdout",
     "output_type": "stream",
     "text": [
      "The value of i is currently 2\n",
      "The value of i is currently 5\n"
     ]
    }
   ],
   "source": [
    "for i in range(2, 8, 3):\n",
    "    print(\"The value of i is currently\", i)\n"
   ]
  },
  {
   "cell_type": "code",
   "execution_count": 101,
   "metadata": {},
   "outputs": [
    {
     "name": "stdout",
     "output_type": "stream",
     "text": [
      "The inverted word of 'label' is 'lebal'.\n"
     ]
    }
   ],
   "source": [
    "# Function to invert a given word\n",
    "# word[::-1] uses Python's slice notation to reverse the string:\n",
    "# word[start:stop:step], where step=-1 reverses the string.\n",
    "def invert_word(word):\n",
    "    return word[::-1]\n",
    "\n",
    "# Example usage:\n",
    "if __name__ == \"__main__\":\n",
    "    example_word = \"label\"\n",
    "    inverted = invert_word(example_word)\n",
    "    print(f\"The inverted word of '{example_word}' is '{inverted}'.\")\n"
   ]
  },
  {
   "cell_type": "markdown",
   "metadata": {},
   "source": [
    "## inclusive start / exclusive stop rule\n",
    "\n",
    "In the slice **word[::-1]**, when we omit both start and stop, and provide a negative step (-1), the behavior changes compared to the default positive step.\n",
    "\n",
    "Key clarification:\n",
    "In the expression word[::-1], the actual defaults depend on the direction of the step:\n",
    "\n",
    "**If step is positive:**\n",
    "\n",
    "start defaults to 0 (beginning of the string)\n",
    "\n",
    "stop defaults to len(word) (past the end)\n",
    "\n",
    "**If step is negative:**\n",
    "\n",
    "start defaults to len(word) - 1 (last character)\n",
    "\n",
    "stop defaults to -1 (before the start) => exclusive, it stops just before index -1\n",
    "\n",
    "**So in word[::-1]:**\n",
    "\n",
    "start becomes len(word) - 1 (the last character)\n",
    "\n",
    "stop becomes -1\n",
    "\n",
    "step is -1\n",
    "\n",
    "This correctly results in traversing the string backward from the last character to the first.\n"
   ]
  },
  {
   "cell_type": "markdown",
   "metadata": {},
   "source": [
    "**Powers of 2**"
   ]
  },
  {
   "cell_type": "code",
   "execution_count": 26,
   "metadata": {},
   "outputs": [
    {
     "name": "stdout",
     "output_type": "stream",
     "text": [
      "1 2 4 8 16 32 64 128 256\n"
     ]
    }
   ],
   "source": [
    "print(*powersOf2(9)) # Unpacking with * (prints all at once, not one per line)"
   ]
  },
  {
   "cell_type": "code",
   "execution_count": 30,
   "metadata": {},
   "outputs": [
    {
     "name": "stdout",
     "output_type": "stream",
     "text": [
      "1\n",
      "2\n",
      "4\n",
      "8\n",
      "16\n",
      "32\n",
      "64\n",
      "128\n",
      "256\n"
     ]
    }
   ],
   "source": [
    "def powersOf2(n):\n",
    "    return (2**i for i in range(n))\n",
    "    \n",
    "for v in list(powersOf2(9)):\n",
    "    print(v)"
   ]
  },
  {
   "cell_type": "code",
   "execution_count": 32,
   "metadata": {},
   "outputs": [
    {
     "name": "stdout",
     "output_type": "stream",
     "text": [
      "1\n",
      "2\n",
      "4\n",
      "8\n",
      "16\n",
      "32\n",
      "64\n",
      "128\n",
      "256\n"
     ]
    }
   ],
   "source": [
    "def powersOf2(n):\n",
    "    pow = 1\n",
    "    for i in range(n):\n",
    "        yield pow\n",
    "        pow *= 2\n",
    "\n",
    "for v in list(powersOf2(9)):\n",
    "    print(v)"
   ]
  },
  {
   "cell_type": "code",
   "execution_count": 19,
   "metadata": {},
   "outputs": [
    {
     "name": "stdout",
     "output_type": "stream",
     "text": [
      "1\n",
      "2\n",
      "4\n",
      "8\n",
      "16\n",
      "32\n",
      "64\n",
      "128\n",
      "256\n"
     ]
    }
   ],
   "source": [
    "def powersOf2(n):\n",
    "    return (2**i for i in range(n))\n",
    "\n",
    "for v in powersOf2(9):\n",
    "    print(v)"
   ]
  },
  {
   "cell_type": "code",
   "execution_count": 15,
   "metadata": {},
   "outputs": [
    {
     "name": "stdout",
     "output_type": "stream",
     "text": [
      "1\n",
      "2\n",
      "4\n",
      "8\n",
      "16\n",
      "32\n",
      "64\n",
      "128\n",
      "256\n"
     ]
    }
   ],
   "source": [
    "def powersOf2(n):\n",
    "    pow = 1\n",
    "    for i in range(n):\n",
    "        yield pow\n",
    "        pow *= 2\n",
    "\n",
    "for v in powersOf2(9):\n",
    "    print(v)"
   ]
  },
  {
   "cell_type": "code",
   "execution_count": 17,
   "metadata": {},
   "outputs": [
    {
     "name": "stdout",
     "output_type": "stream",
     "text": [
      "1\n",
      "2\n",
      "4\n",
      "8\n",
      "16\n",
      "32\n",
      "64\n",
      "128\n",
      "256\n"
     ]
    }
   ],
   "source": [
    "gen = powersOf2(9)\n",
    "while True:\n",
    "    try:\n",
    "        v = next(gen)\n",
    "        print(v)\n",
    "    except StopIteration:\n",
    "        break"
   ]
  },
  {
   "cell_type": "markdown",
   "metadata": {},
   "source": [
    "**Lists**"
   ]
  },
  {
   "cell_type": "code",
   "execution_count": 1,
   "metadata": {},
   "outputs": [
    {
     "name": "stdout",
     "output_type": "stream",
     "text": [
      "[]\n"
     ]
    }
   ],
   "source": [
    "nums = [1,2,3]\n",
    "vals = nums\n",
    "del vals[:]\n",
    "print(nums)"
   ]
  },
  {
   "cell_type": "markdown",
   "metadata": {},
   "source": [
    "**vals[:]** betekent: alle elementen van de lijst vals.\n",
    "\n",
    "**del vals[:]** betekent: verwijder die elementen uit de lijst (maar niet de lijst zelf).\n",
    "\n",
    "Omdat **vals en nums naar dezelfde lijst** verwijzen, verandert de lijst waar nums óók naar wijst:"
   ]
  },
  {
   "cell_type": "code",
   "execution_count": 5,
   "metadata": {},
   "outputs": [
    {
     "name": "stdout",
     "output_type": "stream",
     "text": [
      "<class 'list'>\n",
      "---\n",
      "1\n",
      "2\n",
      "4\n",
      "8\n",
      "16\n",
      "---\n",
      "[1, 2, 4, 8, 16]\n",
      "[8]\n",
      "---\n",
      "8\n"
     ]
    }
   ],
   "source": [
    "lst = [1,2,4,8,16]\n",
    "print(type(lst))\n",
    "#print(dir(lst))\n",
    "print('---')\n",
    "for x in lst:\n",
    "    print(x)\n",
    "print('---')\n",
    "print(lst)\n",
    "lst = lst[-2:-1]\n",
    "print(lst)\n",
    "print('---')\n",
    "lst = lst[-1]\n",
    "print(lst)\n"
   ]
  },
  {
   "cell_type": "code",
   "execution_count": 253,
   "metadata": {},
   "outputs": [
    {
     "name": "stdout",
     "output_type": "stream",
     "text": [
      "[1, 2, 3, 4]\n"
     ]
    }
   ],
   "source": [
    "my_list = [3, 1, 2]\n",
    "my_list.sort()         # Sorts the list in place\n",
    "my_list.append(4)      # Adds 4 to the end\n",
    "print(my_list)"
   ]
  },
  {
   "cell_type": "code",
   "execution_count": 94,
   "metadata": {},
   "outputs": [
    {
     "name": "stdout",
     "output_type": "stream",
     "text": [
      "[[0, 1, 2], [0, 1, 2], [0, 1, 2]]\n",
      "[0, 1, 2]\n",
      "[0, 1, 2]\n",
      "- 0\n",
      "+ 1\n",
      "- 2\n",
      "- 0\n",
      "+ 1\n",
      "- 2\n",
      "- 0\n",
      "+ 1\n",
      "- 2\n"
     ]
    }
   ],
   "source": [
    "lst = [[x for x in range(3)] for y in range(3)]\n",
    "print(lst)\n",
    "lst2 = [x for x in range(3)] \n",
    "print(lst2)\n",
    "lst3 = [y for y in range(3)] \n",
    "print(lst3)\n",
    "\n",
    "for r in range(3):\n",
    "    for c in range(3):\n",
    "        if lst[r][c] % 2 == 0:\n",
    "            print('-', lst[r][c] )\n",
    "        if lst[r][c] % 2 != 0:\n",
    "            print('+', lst[r][c] )"
   ]
  },
  {
   "cell_type": "code",
   "execution_count": 53,
   "metadata": {},
   "outputs": [
    {
     "name": "stdout",
     "output_type": "stream",
     "text": [
      "[0, 1, 4, 9, 16, 25, 36, 49, 64]\n",
      "[0, 1, 4, 9, 25, 36, 49, 64]\n"
     ]
    }
   ],
   "source": [
    "list = [x * x for x in range(9)]\n",
    "print(list)\n",
    "\n",
    "def fun(lst):\n",
    "    del lst[lst[2]]\n",
    "    return lst\n",
    "\n",
    "print (fun(list))"
   ]
  },
  {
   "cell_type": "code",
   "execution_count": 104,
   "metadata": {},
   "outputs": [
    {
     "name": "stdout",
     "output_type": "stream",
     "text": [
      "Sorted numbers (ascending): [5, 12, 23, 42, 78]\n",
      "XXXXX\n",
      "XXXXXXXXXXXX\n",
      "XXXXXXXXXXXXXXXXXXXXXXX\n",
      "XXXXXXXXXXXXXXXXXXXXXXXXXXXXXXXXXXXXXXXXXX\n",
      "XXXXXXXXXXXXXXXXXXXXXXXXXXXXXXXXXXXXXXXXXXXXXXXXXXXXXXXXXXXXXXXXXXXXXXXXXXXXXX\n"
     ]
    }
   ],
   "source": [
    "# List of numbers\n",
    "numbers = [42, 12, 5, 78, 23]\n",
    "\n",
    "# Sorting the list in ascending order\n",
    "numbers.sort()\n",
    "\n",
    "print(\"Sorted numbers (ascending):\", numbers)\n",
    "\n",
    "for n in numbers:\n",
    "    s = \"\"\n",
    "    while n > 0:\n",
    "        s = s + \"X\"\n",
    "        n = n - 1\n",
    "    print(s)\n",
    "\n",
    "# Sorting the list in descending order\n",
    "### numbers.sort(reverse=True)\n",
    "\n",
    "### print(\"Sorted numbers (descending):\", numbers)\n"
   ]
  },
  {
   "cell_type": "code",
   "execution_count": 55,
   "metadata": {},
   "outputs": [
    {
     "name": "stdout",
     "output_type": "stream",
     "text": [
      "[1, 2, 3, 4, 5]\n",
      "---\n",
      "1\n",
      "[1, 2, 3, 4, 1, 5]\n",
      "2\n",
      "[1, 2, 3, 4, 1, 2, 5]\n",
      "3\n",
      "[1, 2, 3, 4, 1, 2, 3, 5]\n",
      "4\n",
      "[1, 2, 3, 4, 1, 2, 3, 4, 5]\n",
      "---\n",
      "[1, 2, 3, 4, 1, 2, 3, 4, 5]\n"
     ]
    }
   ],
   "source": [
    "lst = [1, 2, 3, 4, 5]\n",
    "print(lst)\n",
    "print('---')\n",
    "for v in range(len(lst)-1):\n",
    "    print(lst[v])\n",
    "    lst.insert(-1, lst[v])\n",
    "    print(lst)\n",
    "print('---')\n",
    "print(lst)"
   ]
  },
  {
   "cell_type": "code",
   "execution_count": 165,
   "metadata": {},
   "outputs": [
    {
     "name": "stdout",
     "output_type": "stream",
     "text": [
      "[1, 0, 1, 0, 1, 0, 1, 0, 1, 0]\n"
     ]
    }
   ],
   "source": [
    "lst = [1 if x % 2 == 0 else 0 for x in range(10)]\n",
    "\n",
    "print(lst)"
   ]
  },
  {
   "cell_type": "code",
   "execution_count": 167,
   "metadata": {},
   "outputs": [
    {
     "name": "stdout",
     "output_type": "stream",
     "text": [
      "[1, 0, 1, 0, 1, 0, 1, 0, 1, 0]\n"
     ]
    }
   ],
   "source": [
    "lst = []\n",
    "\n",
    "for x in range(10):\n",
    "    lst.append(1 if x % 2 == 0 else 0)\n",
    "\n",
    "print(lst)"
   ]
  },
  {
   "cell_type": "code",
   "execution_count": 169,
   "metadata": {},
   "outputs": [
    {
     "name": "stdout",
     "output_type": "stream",
     "text": [
      "[1, 10, 100, 1000, 10000, 100000]\n",
      "[1, 10, 100, 1000, 10000, 100000]\n"
     ]
    }
   ],
   "source": [
    "listOne = []\n",
    "\n",
    "for ex in range(6):\n",
    "    listOne.append(10 ** ex)\n",
    "\n",
    "\n",
    "listTwo = [10 ** ex for ex in range(6)]\n",
    "\n",
    "print(listOne)\n",
    "print(listTwo)"
   ]
  },
  {
   "cell_type": "markdown",
   "metadata": {},
   "source": [
    "**Extra Practice Yield**"
   ]
  },
  {
   "cell_type": "code",
   "execution_count": 40,
   "metadata": {},
   "outputs": [
    {
     "name": "stdout",
     "output_type": "stream",
     "text": [
      "The original list is : [1, 4, 5, 6, 7]\n",
      "The even numbers in list are :  4 6 "
     ]
    }
   ],
   "source": [
    "# Python3 code to demonstrate\n",
    "# yield keyword\n",
    " \n",
    "# generator to print even numbers\n",
    "def print_even(test_list) :\n",
    "    for i in test_list:\n",
    "        if i % 2 == 0:\n",
    "            yield i\n",
    "\n",
    "# initializing list\n",
    "test_list = [1, 4, 5, 6, 7]\n",
    " \n",
    "# printing initial list\n",
    "print (\"The original list is : \" +  str(test_list))\n",
    " \n",
    "# printing even numbers\n",
    "print (\"The even numbers in list are : \", end = \" \")\n",
    "for j in print_even(test_list):\n",
    "    print (j, end = \" \")\n"
   ]
  },
  {
   "cell_type": "markdown",
   "metadata": {},
   "source": [
    "In Python, **yield** is used in a generator function to produce a value without ending the function.\n",
    "\n",
    "**It lets the function “pause” and then resume where it left off the next time it’s called.**\n",
    "\n",
    "This is different from **return**, which ends the function immediately.\n",
    "\n",
    "**Why use yield?**\n",
    "\n",
    "Memory-efficient: doesn't create the full list in memory\n",
    "\n",
    "Ideal for large datasets or streams\n",
    "\n",
    "Allows lazy evaluation: values are computed only when needed\n"
   ]
  },
  {
   "cell_type": "markdown",
   "metadata": {},
   "source": [
    "**Example without yield**"
   ]
  },
  {
   "cell_type": "code",
   "execution_count": 36,
   "metadata": {},
   "outputs": [
    {
     "name": "stdout",
     "output_type": "stream",
     "text": [
      "Even numbers: [2, 4, 6, 8, 10]\n"
     ]
    }
   ],
   "source": [
    "def print_even(test_list):\n",
    "    result = []\n",
    "    for i in test_list:\n",
    "        if i % 2 == 0:\n",
    "            result.append(i)\n",
    "    return result\n",
    "\n",
    "numbers = [1, 2, 3, 4, 5, 6, 7, 8, 9, 10]\n",
    "\n",
    "even_numbers = print_even(numbers)\n",
    "\n",
    "print(\"Even numbers:\", even_numbers)"
   ]
  },
  {
   "cell_type": "markdown",
   "metadata": {},
   "source": [
    "**Extra Practice** **Dictionary**"
   ]
  },
  {
   "cell_type": "code",
   "execution_count": 267,
   "metadata": {},
   "outputs": [
    {
     "name": "stdout",
     "output_type": "stream",
     "text": [
      "dict_keys(['a', 'b'])\n",
      "1\n",
      "1\n",
      "1\n",
      "2\n"
     ]
    }
   ],
   "source": [
    "my_dict = {\"a\": 1, \"b\": 2}\n",
    "print(my_dict.keys())         # Returns dict_keys(['a', 'b'])\n",
    "print(my_dict.get(\"a\"))\n",
    "print(my_dict[\"a\"])\n",
    "print(my_dict.get(\"a\"))\n",
    "print(my_dict[\"b\"])"
   ]
  },
  {
   "cell_type": "code",
   "execution_count": 177,
   "metadata": {},
   "outputs": [
    {
     "name": "stdout",
     "output_type": "stream",
     "text": [
      "{'username': 'XYZ', 'email': 'xyz@gmail.com', 'location': 'Brussels', 'name': {'firstName': 'Nick', 'lastName': 'Price'}}\n"
     ]
    }
   ],
   "source": [
    "my_dict = {\"username\": \"XYZ\", \"email\": \"xyz@gmail.com\", \"location\":\"Brussels\"}\n",
    "my_dict1 = {\"firstName\" : \"Nick\", \"lastName\": \"Price\"}\n",
    "my_dict[\"name\"] = my_dict1\n",
    "print(my_dict)"
   ]
  },
  {
   "cell_type": "code",
   "execution_count": 48,
   "metadata": {},
   "outputs": [
    {
     "name": "stdout",
     "output_type": "stream",
     "text": [
      "[{1: 0}, {1: 1}, {1: 2}, {1: 3}, {1: 4}, {1: 5}, {1: 6}, {1: 7}, {1: 8}, {1: 9}, {1: 10}, {1: 11}, {1: 12}, {1: 13}, {1: 14}, {1: 15}, {1: 16}, {1: 17}, {1: 18}, {1: 19}, {1: 20}, {1: 21}, {1: 22}, {1: 23}, {1: 24}, {1: 25}, {1: 26}, {1: 27}, {1: 28}, {1: 29}, {1: 30}, {1: 31}, {1: 32}, {1: 33}, {1: 34}, {1: 35}, {1: 36}, {1: 37}, {1: 38}, {1: 39}, {1: 40}, {1: 41}, {1: 42}, {1: 43}, {1: 44}, {1: 45}, {1: 46}, {1: 47}, {1: 48}, {1: 49}, {1: 50}, {1: 51}, {1: 52}, {1: 53}, {1: 54}, {1: 55}, {1: 56}, {1: 57}, {1: 58}, {1: 59}, {1: 60}, {1: 61}, {1: 62}, {1: 63}, {1: 64}, {1: 65}, {1: 66}, {1: 67}, {1: 68}, {1: 69}, {1: 70}, {1: 71}, {1: 72}, {1: 73}, {1: 74}, {1: 75}, {1: 76}, {1: 77}, {1: 78}, {1: 79}, {1: 80}, {1: 81}, {1: 82}, {1: 83}, {1: 84}, {1: 85}, {1: 86}, {1: 87}, {1: 88}, {1: 89}, {1: 90}, {1: 91}, {1: 92}, {1: 93}, {1: 94}, {1: 95}, {1: 96}, {1: 97}, {1: 98}, {1: 99}]\n"
     ]
    }
   ],
   "source": [
    "a_dict = {}\n",
    "a_list = []\n",
    "for x in range(0,100):\n",
    "    a_dict[1] = x\n",
    "    a_list.append(a_dict.copy())\n",
    "print(a_list)"
   ]
  },
  {
   "cell_type": "code",
   "execution_count": 46,
   "metadata": {},
   "outputs": [
    {
     "name": "stdout",
     "output_type": "stream",
     "text": [
      "---\n",
      "<class 'dict'>\n",
      "---\n",
      "{'brand': 'Ford', 'model': 'Mustang', 'year': 1964}\n",
      "---\n",
      "Ford\n",
      "---\n",
      "dict_keys(['brand', 'model', 'year'])\n",
      "dict_values(['Ford', 'Mustang', 1964])\n",
      "---\n",
      "{\"brand\": \"Ford\", \"model\": \"Mustang\", \"year\": 1964}\n",
      "<class 'str'>\n",
      "---\n",
      "{'brand': 'Ford', 'model': 'Mustang', 'year': 1964}\n",
      "<class 'dict'>\n"
     ]
    }
   ],
   "source": [
    "import json\n",
    "car = {\n",
    "  \"brand\": \"Ford\",\n",
    "  \"model\": \"Mustang\",\n",
    "  \"year\": 1964\n",
    "}\n",
    "print('---')\n",
    "print(type(car))\n",
    "print('---')\n",
    "print(car)\n",
    "print('---')\n",
    "x = car.keys()\n",
    "y = car.values()\n",
    "print(car[\"brand\"])\n",
    "print('---')\n",
    "print(x)\n",
    "print(y)\n",
    "print('---')\n",
    "car_json = json.dumps(car)\n",
    "print(car_json)\n",
    "print(type(car_json))\n",
    "print('---')\n",
    "car_dict = json.loads(car_json)\n",
    "print(car_dict)\n",
    "print(type(car_dict))"
   ]
  },
  {
   "cell_type": "code",
   "execution_count": 44,
   "metadata": {},
   "outputs": [
    {
     "name": "stdout",
     "output_type": "stream",
     "text": [
      "1\n",
      "0\n",
      "---\n",
      "01"
     ]
    }
   ],
   "source": [
    "dd = {\"1\":\"0\", \"0\":\"1\"}\n",
    "for x in dd.keys():\n",
    "    print(x)\n",
    "print('---')\n",
    "for x in dd.values():\n",
    "    print(x, end=\"\")\n"
   ]
  },
  {
   "cell_type": "markdown",
   "metadata": {},
   "source": [
    "**start**: index to start from (inclusive)\n",
    "\n",
    "**stop**: index to stop at (exclusive)\n",
    "\n",
    "**step**: how many positions to move forward (or backward) at each step\n",
    "\n",
    "All of these parts are optional. If omitted, Python uses default values:\n",
    "\n",
    "start = 0\n",
    "\n",
    "stop = len(string)\n",
    "\n",
    "step = 1\n",
    "\n",
    "---\n",
    "\n",
    "**Using a Negative Step (step = -1)**\n",
    "When you use a negative step:\n",
    "\n",
    "Python reads the string backwards.\n",
    "\n",
    "If start and stop are omitted, it **defaults to traversing the entire string from end to start.**"
   ]
  },
  {
   "cell_type": "code",
   "execution_count": 42,
   "metadata": {},
   "outputs": [
    {
     "name": "stdout",
     "output_type": "stream",
     "text": [
      "3\n",
      "-1-\n",
      "3\n",
      "range(0, 3)\n",
      "-2-\n",
      "0\n",
      "3\n",
      "1\n",
      "3\n",
      "2\n",
      "3\n",
      "-3-\n",
      "3\n"
     ]
    }
   ],
   "source": [
    "dct = {'1':'1', '2':'2', '3': '3'}\n",
    "v = dct['3']\n",
    "print(v)\n",
    "print('-1-')\n",
    "print(len(dct))\n",
    "print(range(len(dct)))\n",
    "print('-2-')\n",
    "for k in range(len(dct)):\n",
    "    v =dct[v]\n",
    "    print(k)\n",
    "    print(v)\n",
    "print('-3-')   \n",
    "print(v)\n",
    "    "
   ]
  },
  {
   "cell_type": "code",
   "execution_count": 92,
   "metadata": {},
   "outputs": [
    {
     "name": "stdout",
     "output_type": "stream",
     "text": [
      "{}\n",
      "{'1': (1, 'A')}\n",
      "{'1': (1, 'A'), '2': (2, 'B')}\n",
      "-1-\n",
      "A\n",
      "B\n"
     ]
    }
   ],
   "source": [
    "dct = {}\n",
    "print(dct)\n",
    "dct['1'] = (1,\"A\")\n",
    "print(dct)\n",
    "dct['2'] = (2,\"B\")\n",
    "print(dct)\n",
    "print('-1-')\n",
    "for x in dct.keys():\n",
    "    print(dct[x][1])\n",
    "    #print(dct[x][1],end=\"\")\n"
   ]
  },
  {
   "cell_type": "markdown",
   "metadata": {},
   "source": [
    "**Dictionaries and JSON format**"
   ]
  },
  {
   "cell_type": "code",
   "execution_count": 47,
   "metadata": {},
   "outputs": [
    {
     "name": "stdout",
     "output_type": "stream",
     "text": [
      "<class 'dict'>\n",
      "192.168.56.101\n",
      "<class 'list'>\n",
      "192.168.56.101\n",
      "192.0.2.1\n",
      "<class 'dict'>\n",
      "192.168.56.101\n",
      "{'ip': '192.168.56.101', 'netmask': '255.255.255.0'}\n",
      "{'ip': '192.0.2.1', 'netmask': '255.255.255.252'}\n"
     ]
    }
   ],
   "source": [
    "### IP Addresses: dict and list\n",
    "single_address = {'ip': '192.168.56.101', 'netmask': '255.255.255.0'}\n",
    "multiple_addresses = [{'ip': '192.168.56.101', 'netmask': '255.255.255.0'},\n",
    "                      {'ip': '192.0.2.1', 'netmask': '255.255.255.252'} ]\n",
    "ietf_ipv4 = {'address': [{'ip': '192.168.56.101', 'netmask': '255.255.255.0'}]}\n",
    "\n",
    "print(type(single_address))\n",
    "print(single_address['ip'])\n",
    "print(type(multiple_addresses))\n",
    "print(multiple_addresses[0]['ip'])\n",
    "print(multiple_addresses[1]['ip'])\n",
    "print(type(ietf_ipv4))\n",
    "print(ietf_ipv4['address'][0]['ip'])\n",
    "#loop\n",
    "for addr in multiple_addresses:\n",
    "    print(addr)"
   ]
  },
  {
   "cell_type": "code",
   "execution_count": 49,
   "metadata": {},
   "outputs": [
    {
     "name": "stdout",
     "output_type": "stream",
     "text": [
      "------1---------\n",
      "<class 'dict'>\n",
      "{'groups': [{'group': {'group_id': 'G1', 'group_name': 'GROUP_MICRO', 'members': [{'person_id': 'P-1', 'person_name': 'Nick', 'email': 'nick@biasc.be'}, {'person_id': 'P-2', 'person_name': 'Marcus', 'email': 'marcus@biasc.be'}, {'person_id': 'P-3', 'person_name': 'Liesbet', 'email': 'liesbet@biasc.be'}]}}, {'group': {'group_id': 'G2', 'group_name': 'GROUP_NANO', 'members': [{'person_id': 'P-4', 'person_name': 'Martin', 'email': 'martin@biasc.be'}, {'person_id': 'P-5', 'person_name': 'Bob', 'email': 'bob@biasc.be'}, {'person_id': 'P-6', 'person_name': 'Alice', 'email': 'alice@biasc.be'}]}}, {'group': {'group_id': 'G3', 'group_name': 'GROUP_PICO', 'members': [{'person_id': 'P-7', 'person_name': 'Matt', 'email': 'matt@biasc.be'}, {'person_id': 'P-8', 'person_name': 'Lucas', 'email': 'lucas@biasc.be'}, {'person_id': 'P-9', 'person_name': 'Elsa', 'email': 'elsa@biasc.be'}]}}]}\n",
      "------1A--------\n",
      "<class 'str'>\n",
      "{\"groups\": [{\"group\": {\"group_id\": \"G1\", \"group_name\": \"GROUP_MICRO\", \"members\": [{\"person_id\": \"P-1\", \"person_name\": \"Nick\", \"email\": \"nick@biasc.be\"}, {\"person_id\": \"P-2\", \"person_name\": \"Marcus\", \"email\": \"marcus@biasc.be\"}, {\"person_id\": \"P-3\", \"person_name\": \"Liesbet\", \"email\": \"liesbet@biasc.be\"}]}}, {\"group\": {\"group_id\": \"G2\", \"group_name\": \"GROUP_NANO\", \"members\": [{\"person_id\": \"P-4\", \"person_name\": \"Martin\", \"email\": \"martin@biasc.be\"}, {\"person_id\": \"P-5\", \"person_name\": \"Bob\", \"email\": \"bob@biasc.be\"}, {\"person_id\": \"P-6\", \"person_name\": \"Alice\", \"email\": \"alice@biasc.be\"}]}}, {\"group\": {\"group_id\": \"G3\", \"group_name\": \"GROUP_PICO\", \"members\": [{\"person_id\": \"P-7\", \"person_name\": \"Matt\", \"email\": \"matt@biasc.be\"}, {\"person_id\": \"P-8\", \"person_name\": \"Lucas\", \"email\": \"lucas@biasc.be\"}, {\"person_id\": \"P-9\", \"person_name\": \"Elsa\", \"email\": \"elsa@biasc.be\"}]}}]}\n"
     ]
    }
   ],
   "source": [
    "import json\n",
    "### RULES\n",
    "groups_struc           = {} ### YANG CONTAINER\n",
    "groups_struc['groups'] = [] ### [group_dict]\n",
    "group_dict             = {} ### YANG LEAF {\"group\": {group_name\": \"G\" , \"members\": member_list} }                             \n",
    "group_list             = [] ### YANG LIST [group_dict]\n",
    "member_dict            = {} ### YANG LEAF  {\"person_name\": \"x\", \"email\": \"y\", \"group\":\"z\" }\n",
    "member_list            = [] ### YANG LIST [member_dict]\n",
    "\n",
    "###\n",
    "groups_struc = {\n",
    " \"groups\": [\n",
    "      { \"group\": { \"group_id\": \"G1\" , \"group_name\": \"GROUP_MICRO\" ,    \n",
    "                   \"members\": [   \n",
    "                     {\"person_id\": \"P-1\" , \"person_name\": \"Nick\", \"email\": \"nick@biasc.be\"},\n",
    "                     {\"person_id\": \"P-2\" , \"person_name\": \"Marcus\", \"email\": \"marcus@biasc.be\"},\n",
    "                     {\"person_id\": \"P-3\" , \"person_name\": \"Liesbet\", \"email\": \"liesbet@biasc.be\"} \n",
    "                   ]\n",
    "                 }\n",
    "      },\n",
    "      { \"group\": { \"group_id\": \"G2\" , \"group_name\": \"GROUP_NANO\" ,    \n",
    "                   \"members\": [   \n",
    "                     {\"person_id\": \"P-4\" ,\"person_name\": \"Martin\", \"email\": \"martin@biasc.be\"}, \n",
    "                     {\"person_id\": \"P-5\" ,\"person_name\": \"Bob\", \"email\": \"bob@biasc.be\"}, \n",
    "                     {\"person_id\": \"P-6\" ,\"person_name\": \"Alice\", \"email\": \"alice@biasc.be\"} \n",
    "                   ]     \n",
    "                 }\n",
    "      },\n",
    "      { \"group\": { \"group_id\": \"G3\" , \"group_name\": \"GROUP_PICO\" ,    \n",
    "                   \"members\": [   \n",
    "                     {\"person_id\": \"P-7\" ,\"person_name\": \"Matt\", \"email\": \"matt@biasc.be\"}, \n",
    "                     {\"person_id\": \"P-8\" ,\"person_name\": \"Lucas\", \"email\": \"lucas@biasc.be\"}, \n",
    "                     {\"person_id\": \"P-9\" ,\"person_name\": \"Elsa\", \"email\": \"elsa@biasc.be\"} \n",
    "                   ] \n",
    "                 }\n",
    "      }\n",
    "   ]\n",
    "}\n",
    "\n",
    "print('------1---------')\n",
    "print(type(groups_struc))\n",
    "print(groups_struc)\n",
    "print('------1A--------')\n",
    "# convert dict to json\n",
    "js_groups = json.dumps(groups_struc)\n",
    "print(type(js_groups))\n",
    "print(js_groups)\n",
    "#print(json.dumps(groups_struc, indent=2))\n"
   ]
  },
  {
   "cell_type": "code",
   "execution_count": 53,
   "metadata": {},
   "outputs": [
    {
     "name": "stdout",
     "output_type": "stream",
     "text": [
      "------2---------\n",
      "------2A--------\n",
      "<class 'dict'>\n",
      "{'group': {'group_id': 'G1', 'group_name': 'GROUP_MICRO', 'members': [{'person_id': 'P-1', 'person_name': 'Nick', 'email': 'nick@biasc.be'}, {'person_id': 'P-2', 'person_name': 'Marcus', 'email': 'marcus@biasc.be'}, {'person_id': 'P-3', 'person_name': 'Liesbet', 'email': 'liesbet@biasc.be'}]}}\n",
      "------2B--------\n",
      "GROUP_MICRO\n",
      "------2C--------\n",
      "Nick => nick@biasc.be\n",
      "Marcus => marcus@biasc.be\n",
      "Liesbet => liesbet@biasc.be\n",
      "------2A--------\n",
      "<class 'dict'>\n",
      "{'group': {'group_id': 'G2', 'group_name': 'GROUP_NANO', 'members': [{'person_id': 'P-4', 'person_name': 'Martin', 'email': 'martin@biasc.be'}, {'person_id': 'P-5', 'person_name': 'Bob', 'email': 'bob@biasc.be'}, {'person_id': 'P-6', 'person_name': 'Alice', 'email': 'alice@biasc.be'}]}}\n",
      "------2B--------\n",
      "GROUP_NANO\n",
      "------2C--------\n",
      "Martin => martin@biasc.be\n",
      "Bob => bob@biasc.be\n",
      "Alice => alice@biasc.be\n",
      "------2A--------\n",
      "<class 'dict'>\n",
      "{'group': {'group_id': 'G3', 'group_name': 'GROUP_PICO', 'members': [{'person_id': 'P-7', 'person_name': 'Matt', 'email': 'matt@biasc.be'}, {'person_id': 'P-8', 'person_name': 'Lucas', 'email': 'lucas@biasc.be'}, {'person_id': 'P-9', 'person_name': 'Elsa', 'email': 'elsa@biasc.be'}]}}\n",
      "------2B--------\n",
      "GROUP_PICO\n",
      "------2C--------\n",
      "Matt => matt@biasc.be\n",
      "Lucas => lucas@biasc.be\n",
      "Elsa => elsa@biasc.be\n",
      "------3---------\n",
      "dict_keys(['groups'])\n",
      "------3A---------\n",
      "dict_keys(['group'])\n",
      "------3B---------\n",
      "dict_keys(['group_id', 'group_name', 'members'])\n",
      "------3C---------\n",
      "dict_keys(['person_id', 'person_name', 'email'])\n"
     ]
    }
   ],
   "source": [
    "# RUN PREVIOUS CELL FIRST\n",
    "print('------2---------')\n",
    "for g in groups_struc[\"groups\"]:\n",
    "    print('------2A--------')\n",
    "    print(type(g))\n",
    "    print(g)\n",
    "    print('------2B--------')\n",
    "    print(g[\"group\"][\"group_name\"])\n",
    "    print('------2C--------')\n",
    "    for p in g[\"group\"][\"members\"]:\n",
    "        print(p[\"person_name\"] + \" => \" + p[\"email\"])\n",
    "            \n",
    "print('------3---------')\n",
    "print(groups_struc.keys())\n",
    "print('------3A---------')\n",
    "print(groups_struc[\"groups\"][0].keys())\n",
    "print('------3B---------')\n",
    "print(groups_struc[\"groups\"][0][\"group\"].keys())\n",
    "print('------3C---------')\n",
    "print(groups_struc[\"groups\"][0][\"group\"][\"members\"][0].keys())"
   ]
  },
  {
   "cell_type": "markdown",
   "metadata": {},
   "source": [
    "**Random**"
   ]
  },
  {
   "cell_type": "code",
   "execution_count": 69,
   "metadata": {
    "scrolled": true
   },
   "outputs": [
    {
     "name": "stdin",
     "output_type": "stream",
     "text": [
      "Please enter a seed number between 1 and 35?  35\n",
      "Please enter a seed number between 1 and 35?  1\n"
     ]
    },
    {
     "name": "stdout",
     "output_type": "stream",
     "text": [
      "------------------\n",
      "Random 1 is 13\n",
      "Random 2 is 1\n",
      "Random 3 is 11\n",
      "------------------\n"
     ]
    }
   ],
   "source": [
    "### Generate random numbers to select tasks\n",
    "import random\n",
    "max_num = 25\n",
    "\n",
    "magic_num = []\n",
    "random.seed(a=None, version=2)\n",
    "selected_number = random.randint(1, max_num)\n",
    "magic_num.append(selected_number)\n",
    "#print(selected_number)\n",
    "for i in [1,2]:\n",
    "    your_seed = int(input(\"Please enter a seed number between 1 and 35? \"))\n",
    "    random.seed(a=None, version=2)\n",
    "    selected_number = random.randint(1, max_num)\n",
    "    your_selection = int((your_seed * selected_number)/max_num)+1\n",
    "    magic_num.append(selected_number)\n",
    "    #print(your_selection)\n",
    "\n",
    "print('------------------')\n",
    "for n,k in enumerate(magic_num):\n",
    "    print(\"Random %d is %s\" % (n+1, k))\n",
    "print('------------------')"
   ]
  },
  {
   "cell_type": "code",
   "execution_count": 21,
   "metadata": {},
   "outputs": [
    {
     "name": "stdout",
     "output_type": "stream",
     "text": [
      "[1, 2, 4, 8, 16]\n",
      "1 4 16 64 256 \n"
     ]
    }
   ],
   "source": [
    "list1 = [x for x in range(5)]\n",
    "list2 = list(map(lambda x: 2 ** x, list1))\n",
    "print(list2)\n",
    "for x in map(lambda x: x * x, list2):\n",
    "\tprint(x, end=' ')\n",
    "print()"
   ]
  },
  {
   "cell_type": "code",
   "execution_count": 25,
   "metadata": {},
   "outputs": [
    {
     "name": "stdout",
     "output_type": "stream",
     "text": [
      "[5, -7, 4, -5, 6]\n",
      "[4, 6]\n"
     ]
    }
   ],
   "source": [
    "from random import seed, randint\n",
    "\n",
    "seed()\n",
    "data = [ randint(-10,10) for x in range(5) ]\n",
    "filtered = list(filter(lambda x: x > 0 and x % 2 == 0, data))\n",
    "print(data)\n",
    "print(filtered)"
   ]
  },
  {
   "cell_type": "markdown",
   "metadata": {},
   "source": [
    "**Extra Practice** **Methods**"
   ]
  },
  {
   "cell_type": "markdown",
   "metadata": {},
   "source": [
    "**List Methods**\n",
    "| Method       | Description                     | Example                          |\n",
    "| ------------ | ------------------------------- | -------------------------------- |\n",
    "| `.append(x)` | Adds item at the end            | `[1, 2].append(3)` → `[1, 2, 3]` |\n",
    "| `.remove(x)` | Removes first occurrence of `x` | `[1, 2, 2].remove(2)` → `[1, 2]` |\n",
    "| `.pop()`     | Removes & returns last item     | `[1, 2].pop()` → `2`             |\n",
    "| `.sort()`    | Sorts list in place             | `[3, 1].sort()` → `[1, 3]`       |\n",
    "| `.reverse()` | Reverses list in place          | `[1, 2].reverse()` → `[2, 1]`    |\n"
   ]
  },
  {
   "cell_type": "code",
   "execution_count": 31,
   "metadata": {},
   "outputs": [
    {
     "name": "stdout",
     "output_type": "stream",
     "text": [
      "[10, 9]\n",
      "[10, 9, 8]\n",
      "[10, 8]\n",
      "[8, 10]\n",
      "[10, 8]\n"
     ]
    }
   ],
   "source": [
    "number_list = [10, 9]\n",
    "print(number_list)\n",
    "number_list.append(8)\n",
    "print(number_list)\n",
    "number_list.remove(9)\n",
    "print(number_list)\n",
    "number_list.sort()\n",
    "print(number_list)\n",
    "number_list.reverse()\n",
    "print(number_list)"
   ]
  },
  {
   "cell_type": "code",
   "execution_count": 29,
   "metadata": {},
   "outputs": [
    {
     "name": "stdin",
     "output_type": "stream",
     "text": [
      "Enter name 1:  Yvan\n",
      "Enter name 2:  Kristel\n",
      "Enter name 3:  Katherine\n"
     ]
    },
    {
     "name": "stdout",
     "output_type": "stream",
     "text": [
      "The list of names is: ['Yvan', 'Kristel', 'Katherine']\n",
      "The sorted list is: ['Katherine', 'Kristel', 'Yvan']\n"
     ]
    }
   ],
   "source": [
    "names = []\n",
    "\n",
    "for i in range(3):\n",
    "    name = input(f\"Enter name {i + 1}: \")\n",
    "    names.append(name)\n",
    "\n",
    "print(\"The list of names is:\", names)\n",
    "names.sort()\n",
    "print(\"The sorted list is:\",names)"
   ]
  },
  {
   "cell_type": "markdown",
   "metadata": {},
   "source": [
    "**Dictionary Methods**\n",
    "| Method           | Description                  | Example                                       |\n",
    "| ---------------- | ---------------------------- | --------------------------------------------- |\n",
    "| `.get(key)`      | Gets value or returns `None` | `{\"a\": 1}.get(\"a\")` → `1`                     |\n",
    "| `.keys()`        | Returns view of keys         | `{\"a\": 1}.keys()` → `dict_keys(['a'])`        |\n",
    "| `.values()`      | Returns view of values       | `{\"a\": 1}.values()` → `dict_values([1])`      |\n",
    "| `.items()`       | Returns key-value pairs      | `{\"a\": 1}.items()` → `dict_items([('a', 1)])` |\n",
    "| `.update({...})` | Merges another dictionary    | `d.update({\"b\": 2})`                          |\n"
   ]
  },
  {
   "cell_type": "code",
   "execution_count": 33,
   "metadata": {},
   "outputs": [
    {
     "name": "stdout",
     "output_type": "stream",
     "text": [
      "Bob's grade: 90\n",
      "Dave's grade: Not Found\n",
      "All students: ['Alice', 'Bob', 'Carol', 'Dave']\n",
      "All grades: [88, 90, 78, 92]\n",
      "Student-grade pairs: [('Alice', 88), ('Bob', 90), ('Carol', 78), ('Dave', 92)]\n",
      "Removed Carol, grade was: 78\n"
     ]
    }
   ],
   "source": [
    "grades = {\n",
    "    \"Alice\": 85,\n",
    "    \"Bob\": 90,\n",
    "    \"Carol\": 78\n",
    "}\n",
    "\n",
    "# 1. .get() — safely access a value\n",
    "print(\"Bob's grade:\", grades.get(\"Bob\"))\n",
    "print(\"Dave's grade:\", grades.get(\"Dave\", \"Not Found\"))  # avoids KeyError\n",
    "\n",
    "# 2. .update() — add or update entries\n",
    "grades.update({\"Dave\": 92, \"Alice\": 88})  # updates Alice, adds Dave\n",
    "\n",
    "# 3. .keys(), .values(), .items()\n",
    "print(\"All students:\", list(grades.keys()))\n",
    "print(\"All grades:\", list(grades.values()))\n",
    "print(\"Student-grade pairs:\", list(grades.items()))\n",
    "\n",
    "# 4. .pop() — remove a key and get its value\n",
    "removed_grade = grades.pop(\"Carol\")\n",
    "print(\"Removed Carol, grade was:\", removed_grade)\n",
    "\n",
    "# 5. .clear() — remove all entries\n",
    "# grades.clear()  # Uncomment to empty the dictionary\n"
   ]
  },
  {
   "cell_type": "markdown",
   "metadata": {},
   "source": [
    "**Set Methods**\n",
    "| Method                | Description                         | Example                        |                |\n",
    "| --------------------- | ----------------------------------- | ------------------------------ | -------------- |\n",
    "| `.add(x)`             | Adds an element                     | `{1, 2}.add(3)` → `{1, 2, 3}`  |                |\n",
    "| `.remove(x)`          | Removes `x` (error if not found)    | `{1, 2}.remove(2)` → `{1}`     |                |\n",
    "| `.discard(x)`         | Removes `x` (no error if not found) | `{1, 2}.discard(3)` → `{1, 2}` |                |\n",
    "| `.union(set2)`        | Combines sets                       | \\`{1}                          | {2}`→`{1, 2}\\` |\n",
    "| `.intersection(set2)` | Common elements                     | `{1, 2} & {2, 3}` → `{2}`      |                |\n"
   ]
  },
  {
   "cell_type": "code",
   "execution_count": 36,
   "metadata": {},
   "outputs": [
    {
     "name": "stdout",
     "output_type": "stream",
     "text": [
      "All students: {'Bob', 'Carol', 'Dave', 'Frank', 'Alice', 'Eve'}\n",
      "Students in both courses: {'Alice', 'Bob'}\n",
      "Only in Python: {'Carol', 'Dave'}\n",
      "Exclusive to one course: {'Carol', 'Dave', 'Frank', 'Eve'}\n",
      "Python after adding Grace: {'Grace', 'Bob', 'Carol', 'Dave', 'Alice'}\n",
      "Final Python students: {'Grace', 'Bob', 'Dave', 'Alice'}\n"
     ]
    }
   ],
   "source": [
    "# Students enrolled in different courses\n",
    "python_students = {\"Alice\", \"Bob\", \"Carol\", \"Dave\"}\n",
    "java_students = {\"Bob\", \"Eve\", \"Frank\", \"Alice\"}\n",
    "\n",
    "# 1. .union() — all students in either course\n",
    "all_students = python_students.union(java_students)\n",
    "print(\"All students:\", all_students)\n",
    "\n",
    "# 2. .intersection() — students in both courses\n",
    "both_courses = python_students.intersection(java_students)\n",
    "print(\"Students in both courses:\", both_courses)\n",
    "\n",
    "# 3. .difference() — students only in Python\n",
    "only_python = python_students.difference(java_students)\n",
    "print(\"Only in Python:\", only_python)\n",
    "\n",
    "# 4. .symmetric_difference() — students in one course but not both\n",
    "exclusive = python_students.symmetric_difference(java_students)\n",
    "print(\"Exclusive to one course:\", exclusive)\n",
    "\n",
    "# 5. .add() — add a new student to the Python course\n",
    "python_students.add(\"Grace\")\n",
    "print(\"Python after adding Grace:\", python_students)\n",
    "\n",
    "# 6. .remove() — remove a student (raises error if not found)\n",
    "python_students.remove(\"Carol\")\n",
    "\n",
    "# 7. .discard() — safely remove (no error if not found)\n",
    "python_students.discard(\"Zoe\")  # Zoe isn't in the set, no crash\n",
    "\n",
    "print(\"Final Python students:\", python_students)\n"
   ]
  },
  {
   "cell_type": "markdown",
   "metadata": {},
   "source": [
    "**Loops**"
   ]
  },
  {
   "cell_type": "code",
   "execution_count": 1,
   "metadata": {},
   "outputs": [
    {
     "name": "stdout",
     "output_type": "stream",
     "text": [
      "loop endlessly \n"
     ]
    }
   ],
   "source": [
    "#loop endlessly \n",
    "i = 0\n",
    "#### while i < i + 2:\n",
    "####     i += 1\n",
    "####     print('*')\n",
    "#### else:\n",
    "####     print('*')\n",
    "print('loop endlessly ')\n"
   ]
  },
  {
   "cell_type": "markdown",
   "metadata": {},
   "source": [
    "**Leap Years**\n",
    "\n",
    "- A year not divisible by 4 is not a leap year\n",
    "- A year divisible by 4 but not by 100 is a leap year\n",
    "- A year divisible by 100 but not by 400 is not a leap year\n",
    "- A year  divisible by 400 is a leap year"
   ]
  },
  {
   "cell_type": "code",
   "execution_count": 11,
   "metadata": {},
   "outputs": [
    {
     "name": "stdin",
     "output_type": "stream",
     "text": [
      "What year do you want ot check?  2000\n"
     ]
    },
    {
     "name": "stdout",
     "output_type": "stream",
     "text": [
      "2000 IS a leap year (divisible by 400)\n"
     ]
    }
   ],
   "source": [
    "year = int(input(\"What year do you want ot check? \"))\n",
    "\n",
    "if year % 4 != 0:\n",
    "    print(f\"{year} is NOT a leap year (not divisible by 4)\")\n",
    "elif year % 100 != 0:\n",
    "    print(f\"{year} IS a leap year (divisible by 4 but not by 100)\")\n",
    "elif year % 400 != 0:\n",
    "    print(f\"{year} is NOT a leap year (divisible by 100 but not by 400)\")\n",
    "else:\n",
    "    print(f\"{year} IS a leap year (divisible by 400)\")\n"
   ]
  },
  {
   "cell_type": "code",
   "execution_count": 5,
   "metadata": {},
   "outputs": [
    {
     "name": "stdout",
     "output_type": "stream",
     "text": [
      "1000 is NOT a leap year (divisible by 100 but not by 400)\n",
      "1100 is NOT a leap year (divisible by 100 but not by 400)\n",
      "1200 IS a leap year (divisible by 400)\n",
      "1300 is NOT a leap year (divisible by 100 but not by 400)\n",
      "1400 is NOT a leap year (divisible by 100 but not by 400)\n",
      "1500 is NOT a leap year (divisible by 100 but not by 400)\n",
      "1600 IS a leap year (divisible by 400)\n",
      "1700 is NOT a leap year (divisible by 100 but not by 400)\n",
      "1800 is NOT a leap year (divisible by 100 but not by 400)\n",
      "1900 is NOT a leap year (divisible by 100 but not by 400)\n",
      "2000 IS a leap year (divisible by 400)\n",
      "2100 is NOT a leap year (divisible by 100 but not by 400)\n",
      "2200 is NOT a leap year (divisible by 100 but not by 400)\n"
     ]
    }
   ],
   "source": [
    "years = [1000, 1100, 1200, 1300, 1400, 1500, 1600, 1700, 1800, 1900, 2000, 2100, 2200]\n",
    "\n",
    "for year in years:\n",
    "    if year % 4 != 0:\n",
    "        print(f\"{year} is NOT a leap year (not divisible by 4)\")\n",
    "    elif year % 100 != 0:\n",
    "        print(f\"{year} IS a leap year (divisible by 4 but not by 100)\")\n",
    "    elif year % 400 != 0:\n",
    "        print(f\"{year} is NOT a leap year (divisible by 100 but not by 400)\")\n",
    "    else:\n",
    "        print(f\"{year} IS a leap year (divisible by 400)\")\n"
   ]
  },
  {
   "cell_type": "markdown",
   "metadata": {},
   "source": [
    "**Creating Functions**"
   ]
  },
  {
   "cell_type": "code",
   "execution_count": 3,
   "metadata": {},
   "outputs": [
    {
     "name": "stdout",
     "output_type": "stream",
     "text": [
      "110\n",
      "90\n",
      "1000\n",
      "10.0\n"
     ]
    }
   ],
   "source": [
    "def add(n1,n2):\n",
    "    return n1+n2\n",
    "\n",
    "def subtract(n1, n2):\n",
    "    return n1-n2\n",
    "\n",
    "def multiply(n1, n2):\n",
    "    return n1*n2\n",
    "\n",
    "def divide(n1, n2):\n",
    "    if n2 != 0:\n",
    "        return n1/n2\n",
    "    else:\n",
    "        return (\"Error: Division by Zero\")\n",
    "\n",
    "def main():\n",
    "    print (add(100,10))\n",
    "    print (subtract(100,10))\n",
    "    print (multiply(100,10))\n",
    "    print (divide(100,10))\n",
    "\n",
    "if __name__ == \"__main__\":\n",
    "   main()"
   ]
  }
 ],
 "metadata": {
  "kernelspec": {
   "display_name": "Python [conda env:base] *",
   "language": "python",
   "name": "conda-base-py"
  },
  "language_info": {
   "codemirror_mode": {
    "name": "ipython",
    "version": 3
   },
   "file_extension": ".py",
   "mimetype": "text/x-python",
   "name": "python",
   "nbconvert_exporter": "python",
   "pygments_lexer": "ipython3",
   "version": "3.11.11"
  }
 },
 "nbformat": 4,
 "nbformat_minor": 4
}
