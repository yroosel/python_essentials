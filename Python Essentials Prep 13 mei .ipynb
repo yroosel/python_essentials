{
 "cells": [
  {
   "cell_type": "markdown",
   "id": "2b7101fe-7eda-4fd8-9436-fe46a11124be",
   "metadata": {},
   "source": [
    "# Reviewing & Analyzing Code Examples"
   ]
  },
  {
   "cell_type": "markdown",
   "id": "3012e034-807a-4dac-bf8c-ac26436789f7",
   "metadata": {},
   "source": [
    "**Module 2 - Output, Function Arguments, Variables, Interaction with the User Using Input**"
   ]
  },
  {
   "cell_type": "markdown",
   "id": "c5d3dfbb-9829-46ea-bd28-64d2d2489c02",
   "metadata": {},
   "source": [
    "**Output: The Print Function**"
   ]
  },
  {
   "cell_type": "code",
   "execution_count": 16,
   "id": "313ae59b-913a-45b8-8d20-138f38944b2b",
   "metadata": {},
   "outputs": [
    {
     "name": "stdout",
     "output_type": "stream",
     "text": [
      "26.4 miles is 42.5 kilometers\n",
      "42.15 kilometers is 26.18 miles\n"
     ]
    }
   ],
   "source": [
    "kilometers = 42.150\n",
    "miles = 26.4\n",
    "\n",
    "miles_to_kilometers = miles * 1.61\n",
    "kilometers_to_miles = kilometers / 1.61\n",
    "\n",
    "print(miles, \"miles is\", round(miles_to_kilometers, 2), \"kilometers\")\n",
    "print(kilometers, \"kilometers is\", round(kilometers_to_miles, 2), \"miles\")"
   ]
  },
  {
   "cell_type": "code",
   "execution_count": 159,
   "id": "b3517bb8-8513-48ba-9c90-4fed586dd969",
   "metadata": {},
   "outputs": [
    {
     "name": "stdin",
     "output_type": "stream",
     "text": [
      "Enter distance in kilometers:  1\n",
      "Enter distance in miles:  1\n"
     ]
    },
    {
     "name": "stdout",
     "output_type": "stream",
     "text": [
      "1.0 miles is 1.61 kilometers\n",
      "1.0 kilometers is 0.62 miles\n"
     ]
    }
   ],
   "source": [
    "# new: Get input from the user\n",
    "kilometers = float(input(\"Enter distance in kilometers: \"))\n",
    "miles = float(input(\"Enter distance in miles: \"))\n",
    "\n",
    "# Perform conversions\n",
    "miles_to_kilometers = miles * 1.61\n",
    "kilometers_to_miles = kilometers / 1.61\n",
    "\n",
    "# Display results\n",
    "print(miles, \"miles is\", round(miles_to_kilometers, 2), \"kilometers\")\n",
    "print(kilometers, \"kilometers is\", round(kilometers_to_miles, 2), \"miles\")"
   ]
  },
  {
   "cell_type": "markdown",
   "id": "bcdd0f56-de97-4fe1-bdcb-0859b74d2692",
   "metadata": {},
   "source": [
    "**Simple Calculator Using Functions**\n",
    "\n",
    "All functions below have two necessary arguments\n"
   ]
  },
  {
   "cell_type": "code",
   "execution_count": 9,
   "id": "19b6dd40-d544-4d8b-b1f5-89083d98514e",
   "metadata": {},
   "outputs": [
    {
     "name": "stdout",
     "output_type": "stream",
     "text": [
      "110\n",
      "90\n",
      "1000\n",
      "10.0\n"
     ]
    }
   ],
   "source": [
    "def add(n1,n2):\n",
    "    return n1+n2\n",
    "\n",
    "def subtract(n1, n2):\n",
    "    return n1-n2\n",
    "\n",
    "def multiply(n1, n2):\n",
    "    return n1*n2\n",
    "\n",
    "def divide(n1, n2):\n",
    "    if n2 != 0:\n",
    "        return n1/n2\n",
    "    else:\n",
    "        return (\"Error: Division by Zero\")\n",
    "\n",
    "def main():\n",
    "    print (add(100,10))\n",
    "    print (subtract(100,10))\n",
    "    print (multiply(100,10))\n",
    "    print (divide(100,10))\n",
    "\n",
    "if __name__ == \"__main__\":\n",
    "   main()"
   ]
  },
  {
   "cell_type": "markdown",
   "id": "af7327a3-3769-4e72-a0ca-23a4d4e962a8",
   "metadata": {},
   "source": [
    "**Using Variables**"
   ]
  },
  {
   "cell_type": "code",
   "execution_count": 163,
   "id": "bbb2f423-dffe-4d4e-a0ad-aedba3d5e485",
   "metadata": {},
   "outputs": [
    {
     "name": "stdout",
     "output_type": "stream",
     "text": [
      "Yvan Rooseleer BiASC Gravenbosstraat 134 Brussel\n",
      "4\n",
      "9\n",
      "Y. Rooseleer\n"
     ]
    }
   ],
   "source": [
    "first_name = \"Yvan\"\n",
    "last_name = \"Rooseleer\"\n",
    "company = \"BiASC\"\n",
    "address = \"Gravenbosstraat 134\"\n",
    "city = \"Brussel\"\n",
    "\n",
    "print (first_name, last_name, company, address, city)\n",
    "print(len(first_name))\n",
    "print(len(last_name))\n",
    "print (first_name[0], last_name, sep = \". \")"
   ]
  },
  {
   "cell_type": "markdown",
   "id": "e6111c1e-b9b5-47b5-b877-41168f2bf425",
   "metadata": {},
   "source": [
    "**Pythagorean formula**"
   ]
  },
  {
   "cell_type": "code",
   "execution_count": 24,
   "id": "15d7d65a-fd41-4ffd-95fb-433cea9e6455",
   "metadata": {},
   "outputs": [
    {
     "name": "stdout",
     "output_type": "stream",
     "text": [
      "c = 5.0\n"
     ]
    }
   ],
   "source": [
    "# new\n",
    "# it is recommended to use parentheses for clarity in expressions \n",
    "a = 3.0\n",
    "b = 4.0\n",
    "c = ((a ** 2) + (b ** 2)) ** 0.5\n",
    "print(\"c =\", c)"
   ]
  },
  {
   "cell_type": "markdown",
   "id": "471be471-e954-4e02-8520-de082fa163dd",
   "metadata": {},
   "source": [
    "**Input: Interaction with the user**"
   ]
  },
  {
   "cell_type": "code",
   "execution_count": 30,
   "id": "8e8e37e7-c493-4b72-859e-c9aed364e867",
   "metadata": {},
   "outputs": [
    {
     "name": "stdin",
     "output_type": "stream",
     "text": [
      "Enter the value of a:  10\n",
      "Enter the value of b:  5\n"
     ]
    },
    {
     "name": "stdout",
     "output_type": "stream",
     "text": [
      "c = 11.180339887498949\n"
     ]
    }
   ],
   "source": [
    "# new: Ask the user for input\n",
    "a = float(input(\"Enter the value of a: \"))\n",
    "b = float(input(\"Enter the value of b: \"))\n",
    "\n",
    "# Calculate the hypotenuse c using the Pythagorean theorem\n",
    "c = ((a ** 2) + (b ** 2)) ** 0.5\n",
    "\n",
    "# Display the result\n",
    "print(\"c =\", c)"
   ]
  },
  {
   "cell_type": "markdown",
   "id": "9bc1d7db-496b-4618-b00b-a1d505c14150",
   "metadata": {},
   "source": [
    "**Calculating time**"
   ]
  },
  {
   "cell_type": "code",
   "execution_count": 171,
   "id": "0e1de144-4225-46da-b152-593346364922",
   "metadata": {},
   "outputs": [
    {
     "name": "stdin",
     "output_type": "stream",
     "text": [
      "How  many hours? (0-48) 2\n",
      "How  many minutes? (0-59) 2\n",
      "How  many seconds? (0-59) 2\n"
     ]
    },
    {
     "name": "stdout",
     "output_type": "stream",
     "text": [
      "Result: 2:2:2 is 7322 seconds\n"
     ]
    }
   ],
   "source": [
    "## CONVERT HH MIN SEC TO SECONDS : INTERACTIVE\n",
    "HH = int(input(\"How  many hours? (0-48)\"))\n",
    "MM = int(input(\"How  many minutes? (0-59)\"))\n",
    "SS = int(input(\"How  many seconds? (0-59)\"))\n",
    "SEC = (HH * 60 * 60) + (MM * 60) + SS\n",
    "print (\"Result: \" , HH, \":\", MM , \":\", SS , \" is\" , sep=\"\", end=\" \")\n",
    "print(SEC, \"seconds\", sep=\" \")"
   ]
  },
  {
   "cell_type": "markdown",
   "id": "3018ac31-06c4-4b2c-8cc1-5f2d8365397b",
   "metadata": {},
   "source": [
    "**Module 3 Making Decisions**"
   ]
  },
  {
   "cell_type": "markdown",
   "id": "f6d27a90-d6a5-49f0-a88a-1e8af4a33a78",
   "metadata": {},
   "source": [
    "**Boolean values and None**"
   ]
  },
  {
   "cell_type": "code",
   "execution_count": 192,
   "id": "c5de61e1-5e1f-4130-8a7a-dfa5a41e89c9",
   "metadata": {},
   "outputs": [
    {
     "name": "stdout",
     "output_type": "stream",
     "text": [
      "True\n",
      "False\n",
      "1\n",
      "0\n",
      "True\n",
      "False\n",
      "False\n",
      "<class 'int'>\n",
      "<class 'bool'>\n",
      "<class 'NoneType'>\n"
     ]
    }
   ],
   "source": [
    "print(True > False)\n",
    "print(True < False)\n",
    "print(int(True))\n",
    "print(int(False))\n",
    "print(1==1)\n",
    "print(1==0)\n",
    "print(True==False)\n",
    "print(type(1))\n",
    "print(type(True))\n",
    "print(type(None))"
   ]
  },
  {
   "cell_type": "code",
   "execution_count": 249,
   "id": "13690d10-5af5-4cac-a3a2-dcac319c7892",
   "metadata": {},
   "outputs": [
    {
     "name": "stdout",
     "output_type": "stream",
     "text": [
      "None\n",
      "\n"
     ]
    }
   ],
   "source": [
    "name = None\n",
    "print(name)\n",
    "name = \"\" # empty string is invisible\n",
    "print(name)\n"
   ]
  },
  {
   "cell_type": "code",
   "execution_count": 212,
   "id": "fb52b99c-6841-4fc1-895c-35e0cf13150b",
   "metadata": {},
   "outputs": [
    {
     "name": "stdin",
     "output_type": "stream",
     "text": [
      "What's your name? Yvan\n"
     ]
    },
    {
     "name": "stdout",
     "output_type": "stream",
     "text": [
      "Yvan\n"
     ]
    }
   ],
   "source": [
    "name = None # note the same as the empty string \"\"\n",
    "name = input(\"What's your name?\")\n",
    "if name != \"\"  # not: name != None:\n",
    "    print(name)\n",
    "else:\n",
    "    print(\"Unknown\")"
   ]
  },
  {
   "cell_type": "code",
   "execution_count": 247,
   "id": "47293e95-4deb-4246-a654-3baf03dbb7e9",
   "metadata": {},
   "outputs": [
    {
     "name": "stdout",
     "output_type": "stream",
     "text": [
      "Kalloe, S.\n",
      "Jansen, P.\n",
      "Jansen, S.\n",
      "Visser, S.\n",
      "Monifa, C.\n",
      "Pinas, A.\n",
      "Meijer, J.\n",
      "de Vries, J.\n",
      "Jansen, K.\n",
      "Visser, S.\n",
      "Meijer, S.\n",
      "Monifa, C.\n",
      "de Vries, E.\n",
      "Baldewsingh, S.\n",
      "Ramdien, C.\n",
      "Bakker, P.\n",
      "Visser, K.\n",
      "Jansen, P.\n",
      "Meijer, K.\n",
      "Kalloe, S.\n",
      "Total names: 20\n"
     ]
    }
   ],
   "source": [
    "# Display names from a file until the name is unknown or None\n",
    "# file treated as a list of rows\n",
    "import csv\n",
    "\n",
    "filename = \"netherlands_suriname_names.csv\"\n",
    "\n",
    "with open(filename, newline=\"\") as file:\n",
    "    reader = csv.reader(file)\n",
    "    rows = list(reader)\n",
    "\n",
    "# First row is the header\n",
    "header = rows[0]\n",
    "first_name_index = header.index(\"First Name\")\n",
    "last_name_index = header.index(\"Last Name\")\n",
    "\n",
    "# Iterate over remaining rows (skip header)\n",
    "for row in rows[1:]:\n",
    "    first = row[first_name_index].strip()\n",
    "    last = row[last_name_index].strip()\n",
    "\n",
    "    if not first or not last:\n",
    "        print(\"Encountered missing name — stopping.\")\n",
    "        break\n",
    "\n",
    "    print(f\"{last}, {first[0]}.\")\n",
    "\n",
    "# Display how many\n",
    "how_many = len(rows)-1 # remove the header line\n",
    "print(f\"Total names: {how_many}\")"
   ]
  },
  {
   "cell_type": "code",
   "execution_count": 243,
   "id": "beb5bf11-8573-4d7b-953f-8a59f64f606d",
   "metadata": {},
   "outputs": [
    {
     "name": "stdout",
     "output_type": "stream",
     "text": [
      "Kalloe, S.\n",
      "Jansen, P.\n",
      "Jansen, S.\n",
      "Visser, S.\n",
      "Monifa, C.\n",
      "Pinas, A.\n",
      "Meijer, J.\n",
      "de Vries, J.\n",
      "Jansen, K.\n",
      "Visser, S.\n",
      "Meijer, S.\n",
      "Monifa, C.\n",
      "de Vries, E.\n",
      "Baldewsingh, S.\n",
      "Ramdien, C.\n",
      "Bakker, P.\n",
      "Visser, K.\n",
      "Jansen, P.\n",
      "Meijer, K.\n",
      "Kalloe, S.\n"
     ]
    }
   ],
   "source": [
    "# Display names from a file until the name is unknown or None\n",
    "# csvDictReader: csv.reader handles edge cases better like quoted fields).\n",
    "import csv\n",
    "\n",
    "filename = \"netherlands_suriname_names.csv\"\n",
    "\n",
    "with open(filename, mode=\"r\", newline=\"\") as file:\n",
    "    reader = csv.DictReader(file)\n",
    "    \n",
    "    for row in reader:\n",
    "        first_name = row[\"First Name\"]\n",
    "        last_name = row[\"Last Name\"]\n",
    "\n",
    "        # Stop if either first name or last name is None or empty\n",
    "        if first_name is None or last_name is None or first_name.strip() == \"\" or last_name.strip() == \"\":\n",
    "            print(\"Encountered missing name — stopping.\")\n",
    "            break\n",
    "\n",
    "        # Format and print the name\n",
    "        initial = first_name[0] + \".\" if first_name else \"\"\n",
    "        formatted_name = f\"{last_name}, {initial}\"\n",
    "        print(formatted_name)\n"
   ]
  },
  {
   "cell_type": "code",
   "execution_count": 229,
   "id": "2b597ec6-c322-4903-8092-7b2b9d21a5c3",
   "metadata": {},
   "outputs": [
    {
     "name": "stdout",
     "output_type": "stream",
     "text": [
      "Name                      Age in 2025 \n",
      "----------------------------------------\n",
      "Kalloe, S.                26          \n",
      "Jansen, P.                67          \n",
      "Jansen, S.                9           \n",
      "Visser, S.                0           \n",
      "Monifa, C.                12          \n",
      "Pinas, A.                 69          \n",
      "Meijer, J.                7           \n",
      "de Vries, J.              51          \n",
      "Jansen, K.                72          \n",
      "Visser, S.                50          \n",
      "Meijer, S.                32          \n",
      "Monifa, C.                75          \n",
      "de Vries, E.              25          \n",
      "Baldewsingh, S.           65          \n",
      "Ramdien, C.               59          \n",
      "Bakker, P.                54          \n",
      "Visser, K.                59          \n",
      "Jansen, P.                21          \n",
      "Meijer, K.                64          \n",
      "Kalloe, S.                9           \n"
     ]
    }
   ],
   "source": [
    "# Display age of persons\n",
    "import csv\n",
    "\n",
    "# File to read\n",
    "filename = \"netherlands_suriname_names.csv\"\n",
    "\n",
    "# Read and process the CSV file\n",
    "with open(filename, mode=\"r\", newline=\"\") as file:\n",
    "    reader = csv.DictReader(file)\n",
    "    \n",
    "    print(f\"{'Name':<25} {'Age in 2025':<12}\")\n",
    "    print(\"-\" * 40)\n",
    "    \n",
    "    for row in reader:\n",
    "        last_name = row[\"Last Name\"]\n",
    "        first_name = row[\"First Name\"]\n",
    "        birth_year = int(row[\"Birth Year\"])\n",
    "        \n",
    "        # Format name as: Last Name, F.\n",
    "        initial = first_name[0] + \".\" if first_name else \"\"\n",
    "        formatted_name = f\"{last_name}, {initial}\"\n",
    "        \n",
    "        # Calculate age\n",
    "        age_2025 = 2025 - birth_year\n",
    "        \n",
    "        print(f\"{formatted_name:<25} {age_2025:<12}\")\n",
    "        \n"
   ]
  },
  {
   "cell_type": "code",
   "execution_count": 237,
   "id": "94a33e46-370c-4d12-88d6-a995d95ad44c",
   "metadata": {},
   "outputs": [
    {
     "name": "stdout",
     "output_type": "stream",
     "text": [
      "Name                      Age in 2025 \n",
      "----------------------------------------\n",
      "Bakker, P.                54          \n",
      "Baldewsingh, S.           65          \n",
      "Jansen, K.                72          \n",
      "Jansen, P.                67          \n",
      "Jansen, P.                21          \n",
      "Jansen, S.                9           \n",
      "Kalloe, S.                26          \n",
      "Kalloe, S.                9           \n",
      "Meijer, J.                7           \n",
      "Meijer, K.                64          \n",
      "Meijer, S.                32          \n",
      "Monifa, C.                12          \n",
      "Monifa, C.                75          \n",
      "Pinas, A.                 69          \n",
      "Ramdien, C.               59          \n",
      "Visser, K.                59          \n",
      "Visser, S.                0           \n",
      "Visser, S.                50          \n",
      "de Vries, E.              25          \n",
      "de Vries, J.              51          \n",
      "Total names: 20\n"
     ]
    }
   ],
   "source": [
    "# Sort names\n",
    "import csv\n",
    "\n",
    "# File to read\n",
    "filename = \"netherlands_suriname_names.csv\"\n",
    "\n",
    "# Read all rows into a list of dictionaries\n",
    "with open(filename, mode=\"r\", newline=\"\") as file:\n",
    "    reader = csv.DictReader(file)\n",
    "    people = list(reader)\n",
    "\n",
    "# Sort the list by last name, then by first name\n",
    "people.sort(key=lambda person: (person[\"Last Name\"], person[\"First Name\"]))\n",
    "\n",
    "# Display the header\n",
    "print(f\"{'Name':<25} {'Age in 2025':<12}\")\n",
    "print(\"-\" * 40)\n",
    "\n",
    "# Process and display each entry\n",
    "for person in people:\n",
    "    last_name = person[\"Last Name\"]\n",
    "    first_name = person[\"First Name\"]\n",
    "    birth_year = int(person[\"Birth Year\"])\n",
    "\n",
    "    # Format: Last Name, F.\n",
    "    initial = first_name[0] + \".\" if first_name else \"\"\n",
    "    formatted_name = f\"{last_name}, {initial}\"\n",
    "\n",
    "    # Calculate age in 2025\n",
    "    age_2025 = 2025 - birth_year\n",
    "\n",
    "    print(f\"{formatted_name:<25} {age_2025:<12}\")\n",
    "    \n",
    "# Display how many\n",
    "how_many = len(people)\n",
    "print(f\"Total names: {how_many}\")\n"
   ]
  },
  {
   "cell_type": "code",
   "execution_count": 233,
   "id": "61323a1a-35f3-4191-82a5-e748d571c7b4",
   "metadata": {},
   "outputs": [
    {
     "name": "stdout",
     "output_type": "stream",
     "text": [
      "Name                      Age in 2025 \n",
      "----------------------------------------\n",
      "Bakker, P.                54          \n",
      "Baldewsingh, S.           65          \n",
      "Jansen, K.                72          \n",
      "Jansen, P.                67          \n",
      "Jansen, P.                21          \n",
      "Jansen, S.                9           \n",
      "Kalloe, S.                26          \n",
      "Kalloe, S.                9           \n",
      "Meijer, J.                7           \n",
      "Meijer, K.                64          \n",
      "Meijer, S.                32          \n",
      "Monifa, C.                12          \n",
      "Monifa, C.                75          \n",
      "Pinas, A.                 69          \n",
      "Ramdien, C.               59          \n",
      "Visser, K.                59          \n",
      "Visser, S.                0           \n",
      "Visser, S.                50          \n",
      "de Vries, E.              25          \n",
      "de Vries, J.              51          \n",
      "----------------------------------------\n",
      "Total names: 20\n"
     ]
    }
   ],
   "source": [
    "# Count names\n",
    "import csv\n",
    "\n",
    "# File to read\n",
    "filename = \"netherlands_suriname_names.csv\"\n",
    "\n",
    "# Read all rows into a list of dictionaries\n",
    "with open(filename, mode=\"r\", newline=\"\") as file:\n",
    "    reader = csv.DictReader(file)\n",
    "    people = list(reader)\n",
    "\n",
    "# Sort the list by last name, then by first name\n",
    "people.sort(key=lambda person: (person[\"Last Name\"], person[\"First Name\"]))\n",
    "\n",
    "# Display the header\n",
    "print(f\"{'Name':<25} {'Age in 2025':<12}\")\n",
    "print(\"-\" * 40)\n",
    "\n",
    "# Counter for total names\n",
    "count = 0\n",
    "\n",
    "# Process and display each entry\n",
    "for person in people:\n",
    "    last_name = person[\"Last Name\"]\n",
    "    first_name = person[\"First Name\"]\n",
    "    birth_year = int(person[\"Birth Year\"])\n",
    "\n",
    "    # Format: Last Name, F.\n",
    "    initial = first_name[0] + \".\" if first_name else \"\"\n",
    "    formatted_name = f\"{last_name}, {initial}\"\n",
    "\n",
    "    # Calculate age in 2025\n",
    "    age_2025 = 2025 - birth_year\n",
    "\n",
    "    print(f\"{formatted_name:<25} {age_2025:<12}\")\n",
    "    count += 1\n",
    "\n",
    "# Print total number of names\n",
    "print(\"-\" * 40)\n",
    "print(f\"Total names: {count}\")\n"
   ]
  },
  {
   "cell_type": "markdown",
   "id": "1f189853-4894-4e67-bdfb-7a6fd172b608",
   "metadata": {},
   "source": [
    "**Conditions**"
   ]
  },
  {
   "cell_type": "code",
   "execution_count": 69,
   "id": "4ee9f7e3-334d-41c2-89ab-fde16d226037",
   "metadata": {},
   "outputs": [
    {
     "name": "stdin",
     "output_type": "stream",
     "text": [
      "Enter the measured temperature in Celsius:  0\n"
     ]
    },
    {
     "name": "stdout",
     "output_type": "stream",
     "text": [
      "Temperature measured: 0\n",
      "Is water liquid at this temperature? False\n",
      "----------\n",
      "Temperature: 0°C → Liquid: False\n"
     ]
    }
   ],
   "source": [
    "# Ask the user to enter a temperature in Celsius\n",
    "temp = int(input(\"Enter the measured temperature in Celsius: \"))\n",
    "\n",
    "# Determine if the water is liquid\n",
    "is_liquid = temp > 0 and temp < 100\n",
    "\n",
    "# Display the result\n",
    "print(\"Temperature measured:\", temp)\n",
    "print(\"Is water liquid at this temperature?\", is_liquid)\n",
    "\n",
    "# Alternative output\n",
    "print(\"----------\")\n",
    "print(f\"Temperature: {temp}°C → Liquid: {is_liquid}\")"
   ]
  },
  {
   "cell_type": "code",
   "execution_count": 67,
   "id": "69551391-185f-434d-a7e7-c0e3f737165b",
   "metadata": {},
   "outputs": [
    {
     "name": "stdin",
     "output_type": "stream",
     "text": [
      "Enter the measured temperature in Celsius:  2\n"
     ]
    },
    {
     "name": "stdout",
     "output_type": "stream",
     "text": [
      "Temperature measured: 2\n",
      "Is water liquid at this temperature? True\n",
      "----------\n",
      "Temperature: 2°C → Liquid: True\n"
     ]
    }
   ],
   "source": [
    "#### Using a funnction\n",
    "# Ask the user to enter a temperature in Celsius\n",
    "temp = int(input(\"Enter the measured temperature in Celsius: \"))\n",
    "\n",
    "# Function to determine if water is liquid at the given temperature\n",
    "def is_liquid(temp):\n",
    "    return 0 < temp < 100\n",
    "\n",
    "# Determine and display the result\n",
    "print(\"Temperature measured:\", temp)\n",
    "print(\"Is water liquid at this temperature?\", is_liquid(temp))\n",
    "# Alternative output\n",
    "print(\"----------\")\n",
    "print(f\"Temperature: {temp}°C → Liquid: {is_liquid(temp)}\")"
   ]
  },
  {
   "cell_type": "markdown",
   "id": "a6c63a48-5fb2-48f8-82fe-565f77dbe3ad",
   "metadata": {},
   "source": [
    "**Loops**\n"
   ]
  },
  {
   "cell_type": "code",
   "execution_count": 128,
   "id": "c0ac0539-efc6-4664-846e-d84d1a2cbfc5",
   "metadata": {},
   "outputs": [
    {
     "name": "stdout",
     "output_type": "stream",
     "text": [
      "Temperature: -200°C → Solid: True, Liquid: False, Gas: False\n",
      "Temperature: -2°C → Solid: True, Liquid: False, Gas: False\n",
      "Temperature: 0°C → Solid: True, Liquid: False, Gas: False\n",
      "Temperature: -10°C → Solid: True, Liquid: False, Gas: False\n",
      "Temperature: -1°C → Solid: True, Liquid: False, Gas: False\n",
      "Temperature: 0°C → Solid: True, Liquid: False, Gas: False\n",
      "Temperature: 1°C → Solid: False, Liquid: True, Gas: False\n",
      "Temperature: 10°C → Solid: False, Liquid: True, Gas: False\n",
      "Temperature: 100°C → Solid: False, Liquid: False, Gas: True\n",
      "Temperature: 1000°C → Solid: False, Liquid: False, Gas: True\n"
     ]
    }
   ],
   "source": [
    "#### Using a list, series, table or file\n",
    "temperatures = [-200, -2, 0, -10, -1, 0, 1, 10, 100, 1000]\n",
    "\n",
    "# Functions to determine the state of water\n",
    "def is_solid(temp):\n",
    "    return temp <= 0\n",
    "\n",
    "def is_liquid(temp):\n",
    "    return 0 < temp < 100\n",
    "\n",
    "def is_gas(temp):\n",
    "    return temp >= 100\n",
    "\n",
    "# Output the state for each temperature\n",
    "for t in temperatures:\n",
    "    print(f\"Temperature: {t}°C → Solid: {is_solid(t)}, Liquid: {is_liquid(t)}, Gas: {is_gas(t)}\")"
   ]
  },
  {
   "cell_type": "markdown",
   "id": "ba96e49c-a976-4b63-a008-c1055239190b",
   "metadata": {},
   "source": [
    "**Lists**"
   ]
  },
  {
   "cell_type": "code",
   "execution_count": 147,
   "id": "85b37d9f-fb1b-4afb-af2b-8de8acdde77f",
   "metadata": {},
   "outputs": [
    {
     "name": "stdin",
     "output_type": "stream",
     "text": [
      "Which temperature to output? -1\n"
     ]
    },
    {
     "name": "stdout",
     "output_type": "stream",
     "text": [
      "Not in range\n"
     ]
    }
   ],
   "source": [
    "## List of temperatures\n",
    "temperatures = [-200, -2, 0, -10, -1, 0, 1, 10, 100, 1000]\n",
    "t = int(input(\"Which temperature to output?\"))\n",
    "if t in range(len(temperatures)):\n",
    "    print(temperatures[t])\n",
    "else:\n",
    "    print(\"Not in range\")\n"
   ]
  },
  {
   "cell_type": "markdown",
   "id": "39aeb7ad-1f94-4a5d-a0a4-984efe368759",
   "metadata": {},
   "source": [
    "**Creating and Reading a File of Measurements**"
   ]
  },
  {
   "cell_type": "code",
   "execution_count": 110,
   "id": "dba5f38c-66d1-43dc-bb76-2ee5565aad46",
   "metadata": {},
   "outputs": [
    {
     "name": "stdout",
     "output_type": "stream",
     "text": [
      "CSV file 'temperature_measurements.csv' has been created successfully.\n"
     ]
    }
   ],
   "source": [
    "import csv\n",
    "\n",
    "# List of temperatures\n",
    "temperatures = [-200, -10, -1, 0, 1, 10, 100, 1000]\n",
    "\n",
    "# File name for the output CSV\n",
    "filename = \"temperature_measurements.csv\"\n",
    "\n",
    "# Open the CSV file for writing\n",
    "with open(filename, mode=\"w\", newline=\"\") as file:\n",
    "    writer = csv.writer(file)\n",
    "    \n",
    "    # Write the header\n",
    "    writer.writerow([\"Measurement_Code\", \"Temperature_C\"])\n",
    "    \n",
    "    # Write each measurement\n",
    "    for i, temp in enumerate(temperatures, start=1):\n",
    "        code = f\"measurement_{i}\"\n",
    "        writer.writerow([code, temp])\n",
    "\n",
    "print(f\"CSV file '{filename}' has been created successfully.\")"
   ]
  },
  {
   "cell_type": "code",
   "execution_count": 149,
   "id": "430145f7-9e0d-4792-9acb-f5f5395aa89a",
   "metadata": {},
   "outputs": [
    {
     "name": "stdout",
     "output_type": "stream",
     "text": [
      "Measurement          Temp (°C)    Is Liquid \n",
      "---------------------------------------------\n",
      "measurement_1        -200.0       False     \n",
      "measurement_2        -10.0        False     \n",
      "measurement_3        -1.0         False     \n",
      "measurement_4        0.0          False     \n",
      "measurement_5        1.0          True      \n",
      "measurement_6        10.0         True      \n",
      "measurement_7        100.0        False     \n",
      "measurement_8        1000.0       False     \n"
     ]
    }
   ],
   "source": [
    "import csv\n",
    "\n",
    "# Function to determine if water is liquid\n",
    "def is_liquid(temp):\n",
    "    return 0 < temp < 100\n",
    "\n",
    "# File name of the CSV to read\n",
    "filename = \"temperature_measurements.csv\"\n",
    "\n",
    "# Open the CSV file for reading\n",
    "with open(filename, mode=\"r\") as file:\n",
    "    reader = csv.DictReader(file)\n",
    "    \n",
    "    print(f\"{'Measurement':<20} {'Temp (°C)':<12} {'Is Liquid':<10}\")\n",
    "    print(\"-\" * 45)\n",
    "    \n",
    "    for row in reader:\n",
    "        code = row[\"Measurement_Code\"]\n",
    "        temp = float(row[\"Temperature_C\"])\n",
    "        liquid = is_liquid(temp)\n",
    "        print(f\"{code:<20} {temp:<12} {str(liquid):<10}\")\n"
   ]
  },
  {
   "cell_type": "markdown",
   "id": "32413f56-3bdd-4536-a2e1-4c599e3ba5e0",
   "metadata": {},
   "source": [
    "**Formatted Output: f-string**\n",
    "\n",
    "In Python formatted string literals (f-strings) can produce nicely aligned tabular output. \n",
    "\n",
    "**value** → the thing to print (like 'Measurement')\n",
    "\n",
    ": → starts the formatting spec\n",
    "\n",
    "< → left-align the text\n",
    "\n",
    "width → total number of characters the field should occupy"
   ]
  },
  {
   "cell_type": "markdown",
   "id": "0045316c-e53f-49ea-8dff-79d96f66f853",
   "metadata": {},
   "source": [
    "**Leap Years**\n",
    "\n",
    "- A year not divisible by 4 is not a leap year\n",
    "- A year divisible by 4 but not by 100 is a leap year\n",
    "- A year divisible by 100 but not by 400 is not a leap year\n",
    "- A year  divisible by 400 is a leap year"
   ]
  },
  {
   "cell_type": "code",
   "execution_count": 155,
   "id": "ca0b6193-5d3e-47ed-8c86-2d68c07c3c8a",
   "metadata": {},
   "outputs": [
    {
     "name": "stdin",
     "output_type": "stream",
     "text": [
      "What year do you want ot check?  1000\n"
     ]
    },
    {
     "name": "stdout",
     "output_type": "stream",
     "text": [
      "1000 is NOT a leap year (divisible by 100 but not by 400)\n"
     ]
    }
   ],
   "source": [
    "year = int(input(\"What year do you want ot check? \"))\n",
    "\n",
    "if year % 4 != 0:\n",
    "    print(f\"{year} is NOT a leap year (not divisible by 4)\")\n",
    "elif year % 100 != 0:\n",
    "    print(f\"{year} IS a leap year (divisible by 4 but not by 100)\")\n",
    "elif year % 400 != 0:\n",
    "    print(f\"{year} is NOT a leap year (divisible by 100 but not by 400)\")\n",
    "else:\n",
    "    print(f\"{year} IS a leap year (divisible by 400)\")\n"
   ]
  },
  {
   "cell_type": "code",
   "execution_count": 157,
   "id": "758acf03-bd22-44b6-8d2c-25da525e8930",
   "metadata": {},
   "outputs": [
    {
     "name": "stdout",
     "output_type": "stream",
     "text": [
      "1000 is NOT a leap year (divisible by 100 but not by 400)\n",
      "1100 is NOT a leap year (divisible by 100 but not by 400)\n",
      "1200 IS a leap year (divisible by 400)\n",
      "1300 is NOT a leap year (divisible by 100 but not by 400)\n",
      "1400 is NOT a leap year (divisible by 100 but not by 400)\n",
      "1500 is NOT a leap year (divisible by 100 but not by 400)\n",
      "1600 IS a leap year (divisible by 400)\n",
      "1700 is NOT a leap year (divisible by 100 but not by 400)\n",
      "1800 is NOT a leap year (divisible by 100 but not by 400)\n",
      "1900 is NOT a leap year (divisible by 100 but not by 400)\n",
      "2000 IS a leap year (divisible by 400)\n",
      "2100 is NOT a leap year (divisible by 100 but not by 400)\n",
      "2200 is NOT a leap year (divisible by 100 but not by 400)\n"
     ]
    }
   ],
   "source": [
    "years = [1000, 1100, 1200, 1300, 1400, 1500, 1600, 1700, 1800, 1900, 2000, 2100, 2200]\n",
    "\n",
    "for year in years:\n",
    "    if year % 4 != 0:\n",
    "        print(f\"{year} is NOT a leap year (not divisible by 4)\")\n",
    "    elif year % 100 != 0:\n",
    "        print(f\"{year} IS a leap year (divisible by 4 but not by 100)\")\n",
    "    elif year % 400 != 0:\n",
    "        print(f\"{year} is NOT a leap year (divisible by 100 but not by 400)\")\n",
    "    else:\n",
    "        print(f\"{year} IS a leap year (divisible by 400)\")\n"
   ]
  }
 ],
 "metadata": {
  "kernelspec": {
   "display_name": "Python [conda env:base] *",
   "language": "python",
   "name": "conda-base-py"
  },
  "language_info": {
   "codemirror_mode": {
    "name": "ipython",
    "version": 3
   },
   "file_extension": ".py",
   "mimetype": "text/x-python",
   "name": "python",
   "nbconvert_exporter": "python",
   "pygments_lexer": "ipython3",
   "version": "3.11.11"
  }
 },
 "nbformat": 4,
 "nbformat_minor": 5
}
