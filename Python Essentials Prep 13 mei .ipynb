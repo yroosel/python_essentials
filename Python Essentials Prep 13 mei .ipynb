{
 "cells": [
  {
   "cell_type": "markdown",
   "id": "2b7101fe-7eda-4fd8-9436-fe46a11124be",
   "metadata": {},
   "source": [
    "# Reviewing & Analyzing Code Examples"
   ]
  },
  {
   "cell_type": "markdown",
   "id": "3012e034-807a-4dac-bf8c-ac26436789f7",
   "metadata": {},
   "source": [
    "**Module 2 - Output, Function Arguments, Variables, Interaction with the User Using Input**"
   ]
  },
  {
   "cell_type": "markdown",
   "id": "c5d3dfbb-9829-46ea-bd28-64d2d2489c02",
   "metadata": {},
   "source": [
    "**Output: The Print Function**"
   ]
  },
  {
   "cell_type": "code",
   "execution_count": 16,
   "id": "313ae59b-913a-45b8-8d20-138f38944b2b",
   "metadata": {},
   "outputs": [
    {
     "name": "stdout",
     "output_type": "stream",
     "text": [
      "26.4 miles is 42.5 kilometers\n",
      "42.15 kilometers is 26.18 miles\n"
     ]
    }
   ],
   "source": [
    "kilometers = 42.150\n",
    "miles = 26.4\n",
    "\n",
    "miles_to_kilometers = miles * 1.61\n",
    "kilometers_to_miles = kilometers / 1.61\n",
    "\n",
    "print(miles, \"miles is\", round(miles_to_kilometers, 2), \"kilometers\")\n",
    "print(kilometers, \"kilometers is\", round(kilometers_to_miles, 2), \"miles\")"
   ]
  },
  {
   "cell_type": "code",
   "execution_count": 159,
   "id": "b3517bb8-8513-48ba-9c90-4fed586dd969",
   "metadata": {},
   "outputs": [
    {
     "name": "stdin",
     "output_type": "stream",
     "text": [
      "Enter distance in kilometers:  1\n",
      "Enter distance in miles:  1\n"
     ]
    },
    {
     "name": "stdout",
     "output_type": "stream",
     "text": [
      "1.0 miles is 1.61 kilometers\n",
      "1.0 kilometers is 0.62 miles\n"
     ]
    }
   ],
   "source": [
    "# new: Get input from the user\n",
    "kilometers = float(input(\"Enter distance in kilometers: \"))\n",
    "miles = float(input(\"Enter distance in miles: \"))\n",
    "\n",
    "# Perform conversions\n",
    "miles_to_kilometers = miles * 1.61\n",
    "kilometers_to_miles = kilometers / 1.61\n",
    "\n",
    "# Display results\n",
    "print(miles, \"miles is\", round(miles_to_kilometers, 2), \"kilometers\")\n",
    "print(kilometers, \"kilometers is\", round(kilometers_to_miles, 2), \"miles\")"
   ]
  },
  {
   "cell_type": "markdown",
   "id": "bcdd0f56-de97-4fe1-bdcb-0859b74d2692",
   "metadata": {},
   "source": [
    "**Simple Calculator Using Functions**\n",
    "\n",
    "All functions below have two necessary arguments\n"
   ]
  },
  {
   "cell_type": "code",
   "execution_count": 9,
   "id": "19b6dd40-d544-4d8b-b1f5-89083d98514e",
   "metadata": {},
   "outputs": [
    {
     "name": "stdout",
     "output_type": "stream",
     "text": [
      "110\n",
      "90\n",
      "1000\n",
      "10.0\n"
     ]
    }
   ],
   "source": [
    "def add(n1,n2):\n",
    "    return n1+n2\n",
    "\n",
    "def subtract(n1, n2):\n",
    "    return n1-n2\n",
    "\n",
    "def multiply(n1, n2):\n",
    "    return n1*n2\n",
    "\n",
    "def divide(n1, n2):\n",
    "    if n2 != 0:\n",
    "        return n1/n2\n",
    "    else:\n",
    "        return (\"Error: Division by Zero\")\n",
    "\n",
    "def main():\n",
    "    print (add(100,10))\n",
    "    print (subtract(100,10))\n",
    "    print (multiply(100,10))\n",
    "    print (divide(100,10))\n",
    "\n",
    "if __name__ == \"__main__\":\n",
    "   main()"
   ]
  },
  {
   "cell_type": "markdown",
   "id": "af7327a3-3769-4e72-a0ca-23a4d4e962a8",
   "metadata": {},
   "source": [
    "**Using Variables**"
   ]
  },
  {
   "cell_type": "code",
   "execution_count": 163,
   "id": "bbb2f423-dffe-4d4e-a0ad-aedba3d5e485",
   "metadata": {},
   "outputs": [
    {
     "name": "stdout",
     "output_type": "stream",
     "text": [
      "Yvan Rooseleer BiASC Gravenbosstraat 134 Brussel\n",
      "4\n",
      "9\n",
      "Y. Rooseleer\n"
     ]
    }
   ],
   "source": [
    "first_name = \"Yvan\"\n",
    "last_name = \"Rooseleer\"\n",
    "company = \"BiASC\"\n",
    "address = \"Gravenbosstraat 134\"\n",
    "city = \"Brussel\"\n",
    "\n",
    "print (first_name, last_name, company, address, city)\n",
    "print(len(first_name))\n",
    "print(len(last_name))\n",
    "print (first_name[0], last_name, sep = \". \")"
   ]
  },
  {
   "cell_type": "markdown",
   "id": "e6111c1e-b9b5-47b5-b877-41168f2bf425",
   "metadata": {},
   "source": [
    "**Pythagorean formula**"
   ]
  },
  {
   "cell_type": "code",
   "execution_count": 24,
   "id": "15d7d65a-fd41-4ffd-95fb-433cea9e6455",
   "metadata": {},
   "outputs": [
    {
     "name": "stdout",
     "output_type": "stream",
     "text": [
      "c = 5.0\n"
     ]
    }
   ],
   "source": [
    "# new\n",
    "# it is recommended to use parentheses for clarity in expressions \n",
    "a = 3.0\n",
    "b = 4.0\n",
    "c = ((a ** 2) + (b ** 2)) ** 0.5\n",
    "print(\"c =\", c)"
   ]
  },
  {
   "cell_type": "markdown",
   "id": "471be471-e954-4e02-8520-de082fa163dd",
   "metadata": {},
   "source": [
    "**Input: Interaction with the user**"
   ]
  },
  {
   "cell_type": "code",
   "execution_count": 30,
   "id": "8e8e37e7-c493-4b72-859e-c9aed364e867",
   "metadata": {},
   "outputs": [
    {
     "name": "stdin",
     "output_type": "stream",
     "text": [
      "Enter the value of a:  10\n",
      "Enter the value of b:  5\n"
     ]
    },
    {
     "name": "stdout",
     "output_type": "stream",
     "text": [
      "c = 11.180339887498949\n"
     ]
    }
   ],
   "source": [
    "# new: Ask the user for input\n",
    "a = float(input(\"Enter the value of a: \"))\n",
    "b = float(input(\"Enter the value of b: \"))\n",
    "\n",
    "# Calculate the hypotenuse c using the Pythagorean theorem\n",
    "c = ((a ** 2) + (b ** 2)) ** 0.5\n",
    "\n",
    "# Display the result\n",
    "print(\"c =\", c)"
   ]
  },
  {
   "cell_type": "markdown",
   "id": "9bc1d7db-496b-4618-b00b-a1d505c14150",
   "metadata": {},
   "source": [
    "**Calculating time**"
   ]
  },
  {
   "cell_type": "code",
   "execution_count": 36,
   "id": "1e32aa99-ec06-4019-931b-b45b88a0077a",
   "metadata": {},
   "outputs": [
    {
     "name": "stdin",
     "output_type": "stream",
     "text": [
      "How  many hours? (0-48) 2\n",
      "How  many minutes? (0-59) 2\n",
      "How  many seconds? (0-59) 2\n"
     ]
    },
    {
     "name": "stdout",
     "output_type": "stream",
     "text": [
      "Result: 2:2:2 is 7322 seconds\n"
     ]
    }
   ],
   "source": [
    "## CONVERT HH MIN SEC TO SECONDS : INTERACTIVE\n",
    "HH = int(input(\"How  many hours? (0-48)\"))\n",
    "MM = int(input(\"How  many minutes? (0-59)\"))\n",
    "SS = int(input(\"How  many seconds? (0-59)\"))\n",
    "SEC = (HH * 60 * 60) + (MM * 60) + SS\n",
    "print (\"Result: \" , HH, \":\", MM , \":\", SS , \" is\" , sep=\"\", end=\" \")\n",
    "print(SEC, \"seconds\", sep=\" \")"
   ]
  },
  {
   "cell_type": "markdown",
   "id": "3018ac31-06c4-4b2c-8cc1-5f2d8365397b",
   "metadata": {},
   "source": [
    "**Module 3 Making Decisions**"
   ]
  },
  {
   "cell_type": "markdown",
   "id": "1f189853-4894-4e67-bdfb-7a6fd172b608",
   "metadata": {},
   "source": [
    "**Conditions**"
   ]
  },
  {
   "cell_type": "code",
   "execution_count": 69,
   "id": "4ee9f7e3-334d-41c2-89ab-fde16d226037",
   "metadata": {},
   "outputs": [
    {
     "name": "stdin",
     "output_type": "stream",
     "text": [
      "Enter the measured temperature in Celsius:  0\n"
     ]
    },
    {
     "name": "stdout",
     "output_type": "stream",
     "text": [
      "Temperature measured: 0\n",
      "Is water liquid at this temperature? False\n",
      "----------\n",
      "Temperature: 0°C → Liquid: False\n"
     ]
    }
   ],
   "source": [
    "# Ask the user to enter a temperature in Celsius\n",
    "temp = int(input(\"Enter the measured temperature in Celsius: \"))\n",
    "\n",
    "# Determine if the water is liquid\n",
    "is_liquid = temp > 0 and temp < 100\n",
    "\n",
    "# Display the result\n",
    "print(\"Temperature measured:\", temp)\n",
    "print(\"Is water liquid at this temperature?\", is_liquid)\n",
    "\n",
    "# Alternative output\n",
    "print(\"----------\")\n",
    "print(f\"Temperature: {temp}°C → Liquid: {is_liquid}\")"
   ]
  },
  {
   "cell_type": "code",
   "execution_count": 67,
   "id": "69551391-185f-434d-a7e7-c0e3f737165b",
   "metadata": {},
   "outputs": [
    {
     "name": "stdin",
     "output_type": "stream",
     "text": [
      "Enter the measured temperature in Celsius:  2\n"
     ]
    },
    {
     "name": "stdout",
     "output_type": "stream",
     "text": [
      "Temperature measured: 2\n",
      "Is water liquid at this temperature? True\n",
      "----------\n",
      "Temperature: 2°C → Liquid: True\n"
     ]
    }
   ],
   "source": [
    "#### Using a funnction\n",
    "# Ask the user to enter a temperature in Celsius\n",
    "temp = int(input(\"Enter the measured temperature in Celsius: \"))\n",
    "\n",
    "# Function to determine if water is liquid at the given temperature\n",
    "def is_liquid(temp):\n",
    "    return 0 < temp < 100\n",
    "\n",
    "# Determine and display the result\n",
    "print(\"Temperature measured:\", temp)\n",
    "print(\"Is water liquid at this temperature?\", is_liquid(temp))\n",
    "# Alternative output\n",
    "print(\"----------\")\n",
    "print(f\"Temperature: {temp}°C → Liquid: {is_liquid(temp)}\")"
   ]
  },
  {
   "cell_type": "markdown",
   "id": "a6c63a48-5fb2-48f8-82fe-565f77dbe3ad",
   "metadata": {},
   "source": [
    "**Loops**\n"
   ]
  },
  {
   "cell_type": "code",
   "execution_count": 128,
   "id": "c0ac0539-efc6-4664-846e-d84d1a2cbfc5",
   "metadata": {},
   "outputs": [
    {
     "name": "stdout",
     "output_type": "stream",
     "text": [
      "Temperature: -200°C → Solid: True, Liquid: False, Gas: False\n",
      "Temperature: -2°C → Solid: True, Liquid: False, Gas: False\n",
      "Temperature: 0°C → Solid: True, Liquid: False, Gas: False\n",
      "Temperature: -10°C → Solid: True, Liquid: False, Gas: False\n",
      "Temperature: -1°C → Solid: True, Liquid: False, Gas: False\n",
      "Temperature: 0°C → Solid: True, Liquid: False, Gas: False\n",
      "Temperature: 1°C → Solid: False, Liquid: True, Gas: False\n",
      "Temperature: 10°C → Solid: False, Liquid: True, Gas: False\n",
      "Temperature: 100°C → Solid: False, Liquid: False, Gas: True\n",
      "Temperature: 1000°C → Solid: False, Liquid: False, Gas: True\n"
     ]
    }
   ],
   "source": [
    "#### Using a list, series, table or file\n",
    "temperatures = [-200, -2, 0, -10, -1, 0, 1, 10, 100, 1000]\n",
    "\n",
    "# Functions to determine the state of water\n",
    "def is_solid(temp):\n",
    "    return temp <= 0\n",
    "\n",
    "def is_liquid(temp):\n",
    "    return 0 < temp < 100\n",
    "\n",
    "def is_gas(temp):\n",
    "    return temp >= 100\n",
    "\n",
    "# Output the state for each temperature\n",
    "for t in temperatures:\n",
    "    print(f\"Temperature: {t}°C → Solid: {is_solid(t)}, Liquid: {is_liquid(t)}, Gas: {is_gas(t)}\")"
   ]
  },
  {
   "cell_type": "markdown",
   "id": "ba96e49c-a976-4b63-a008-c1055239190b",
   "metadata": {},
   "source": [
    "**Lists**"
   ]
  },
  {
   "cell_type": "code",
   "execution_count": 147,
   "id": "85b37d9f-fb1b-4afb-af2b-8de8acdde77f",
   "metadata": {},
   "outputs": [
    {
     "name": "stdin",
     "output_type": "stream",
     "text": [
      "Which temperature to output? -1\n"
     ]
    },
    {
     "name": "stdout",
     "output_type": "stream",
     "text": [
      "Not in range\n"
     ]
    }
   ],
   "source": [
    "## List of temperatures\n",
    "temperatures = [-200, -2, 0, -10, -1, 0, 1, 10, 100, 1000]\n",
    "t = int(input(\"Which temperature to output?\"))\n",
    "if t in range(len(temperatures)):\n",
    "    print(temperatures[t])\n",
    "else:\n",
    "    print(\"Not in range\")\n"
   ]
  },
  {
   "cell_type": "markdown",
   "id": "39aeb7ad-1f94-4a5d-a0a4-984efe368759",
   "metadata": {},
   "source": [
    "**Creating and Reading a File of Measurements**"
   ]
  },
  {
   "cell_type": "code",
   "execution_count": 110,
   "id": "dba5f38c-66d1-43dc-bb76-2ee5565aad46",
   "metadata": {},
   "outputs": [
    {
     "name": "stdout",
     "output_type": "stream",
     "text": [
      "CSV file 'temperature_measurements.csv' has been created successfully.\n"
     ]
    }
   ],
   "source": [
    "import csv\n",
    "\n",
    "# List of temperatures\n",
    "temperatures = [-200, -10, -1, 0, 1, 10, 100, 1000]\n",
    "\n",
    "# File name for the output CSV\n",
    "filename = \"temperature_measurements.csv\"\n",
    "\n",
    "# Open the CSV file for writing\n",
    "with open(filename, mode=\"w\", newline=\"\") as file:\n",
    "    writer = csv.writer(file)\n",
    "    \n",
    "    # Write the header\n",
    "    writer.writerow([\"Measurement_Code\", \"Temperature_C\"])\n",
    "    \n",
    "    # Write each measurement\n",
    "    for i, temp in enumerate(temperatures, start=1):\n",
    "        code = f\"measurement_{i}\"\n",
    "        writer.writerow([code, temp])\n",
    "\n",
    "print(f\"CSV file '{filename}' has been created successfully.\")"
   ]
  },
  {
   "cell_type": "code",
   "execution_count": 149,
   "id": "430145f7-9e0d-4792-9acb-f5f5395aa89a",
   "metadata": {},
   "outputs": [
    {
     "name": "stdout",
     "output_type": "stream",
     "text": [
      "Measurement          Temp (°C)    Is Liquid \n",
      "---------------------------------------------\n",
      "measurement_1        -200.0       False     \n",
      "measurement_2        -10.0        False     \n",
      "measurement_3        -1.0         False     \n",
      "measurement_4        0.0          False     \n",
      "measurement_5        1.0          True      \n",
      "measurement_6        10.0         True      \n",
      "measurement_7        100.0        False     \n",
      "measurement_8        1000.0       False     \n"
     ]
    }
   ],
   "source": [
    "import csv\n",
    "\n",
    "# Function to determine if water is liquid\n",
    "def is_liquid(temp):\n",
    "    return 0 < temp < 100\n",
    "\n",
    "# File name of the CSV to read\n",
    "filename = \"temperature_measurements.csv\"\n",
    "\n",
    "# Open the CSV file for reading\n",
    "with open(filename, mode=\"r\") as file:\n",
    "    reader = csv.DictReader(file)\n",
    "    \n",
    "    print(f\"{'Measurement':<20} {'Temp (°C)':<12} {'Is Liquid':<10}\")\n",
    "    print(\"-\" * 45)\n",
    "    \n",
    "    for row in reader:\n",
    "        code = row[\"Measurement_Code\"]\n",
    "        temp = float(row[\"Temperature_C\"])\n",
    "        liquid = is_liquid(temp)\n",
    "        print(f\"{code:<20} {temp:<12} {str(liquid):<10}\")\n"
   ]
  },
  {
   "cell_type": "markdown",
   "id": "32413f56-3bdd-4536-a2e1-4c599e3ba5e0",
   "metadata": {},
   "source": [
    "**Formatted Output: f-string**\n",
    "\n",
    "In Python formatted string literals (f-strings) can produce nicely aligned tabular output. \n",
    "\n",
    "**value** → the thing to print (like 'Measurement')\n",
    "\n",
    ": → starts the formatting spec\n",
    "\n",
    "< → left-align the text\n",
    "\n",
    "width → total number of characters the field should occupy"
   ]
  },
  {
   "cell_type": "markdown",
   "id": "0045316c-e53f-49ea-8dff-79d96f66f853",
   "metadata": {},
   "source": [
    "**Leap Years**\n",
    "\n",
    "- A year not divisible by 4 is not a leap year\n",
    "- A year divisible by 4 but not by 100 is a leap year\n",
    "- A year divisible by 100 but not by 400 is not a leap year\n",
    "- A year  divisible by 400 is a leap year"
   ]
  },
  {
   "cell_type": "code",
   "execution_count": 155,
   "id": "ca0b6193-5d3e-47ed-8c86-2d68c07c3c8a",
   "metadata": {},
   "outputs": [
    {
     "name": "stdin",
     "output_type": "stream",
     "text": [
      "What year do you want ot check?  1000\n"
     ]
    },
    {
     "name": "stdout",
     "output_type": "stream",
     "text": [
      "1000 is NOT a leap year (divisible by 100 but not by 400)\n"
     ]
    }
   ],
   "source": [
    "year = int(input(\"What year do you want ot check? \"))\n",
    "\n",
    "if year % 4 != 0:\n",
    "    print(f\"{year} is NOT a leap year (not divisible by 4)\")\n",
    "elif year % 100 != 0:\n",
    "    print(f\"{year} IS a leap year (divisible by 4 but not by 100)\")\n",
    "elif year % 400 != 0:\n",
    "    print(f\"{year} is NOT a leap year (divisible by 100 but not by 400)\")\n",
    "else:\n",
    "    print(f\"{year} IS a leap year (divisible by 400)\")\n"
   ]
  },
  {
   "cell_type": "code",
   "execution_count": 157,
   "id": "758acf03-bd22-44b6-8d2c-25da525e8930",
   "metadata": {},
   "outputs": [
    {
     "name": "stdout",
     "output_type": "stream",
     "text": [
      "1000 is NOT a leap year (divisible by 100 but not by 400)\n",
      "1100 is NOT a leap year (divisible by 100 but not by 400)\n",
      "1200 IS a leap year (divisible by 400)\n",
      "1300 is NOT a leap year (divisible by 100 but not by 400)\n",
      "1400 is NOT a leap year (divisible by 100 but not by 400)\n",
      "1500 is NOT a leap year (divisible by 100 but not by 400)\n",
      "1600 IS a leap year (divisible by 400)\n",
      "1700 is NOT a leap year (divisible by 100 but not by 400)\n",
      "1800 is NOT a leap year (divisible by 100 but not by 400)\n",
      "1900 is NOT a leap year (divisible by 100 but not by 400)\n",
      "2000 IS a leap year (divisible by 400)\n",
      "2100 is NOT a leap year (divisible by 100 but not by 400)\n",
      "2200 is NOT a leap year (divisible by 100 but not by 400)\n"
     ]
    }
   ],
   "source": [
    "years = [1000, 1100, 1200, 1300, 1400, 1500, 1600, 1700, 1800, 1900, 2000, 2100, 2200]\n",
    "\n",
    "for year in years:\n",
    "    if year % 4 != 0:\n",
    "        print(f\"{year} is NOT a leap year (not divisible by 4)\")\n",
    "    elif year % 100 != 0:\n",
    "        print(f\"{year} IS a leap year (divisible by 4 but not by 100)\")\n",
    "    elif year % 400 != 0:\n",
    "        print(f\"{year} is NOT a leap year (divisible by 100 but not by 400)\")\n",
    "    else:\n",
    "        print(f\"{year} IS a leap year (divisible by 400)\")\n"
   ]
  }
 ],
 "metadata": {
  "kernelspec": {
   "display_name": "Python [conda env:base] *",
   "language": "python",
   "name": "conda-base-py"
  },
  "language_info": {
   "codemirror_mode": {
    "name": "ipython",
    "version": 3
   },
   "file_extension": ".py",
   "mimetype": "text/x-python",
   "name": "python",
   "nbconvert_exporter": "python",
   "pygments_lexer": "ipython3",
   "version": "3.11.11"
  }
 },
 "nbformat": 4,
 "nbformat_minor": 5
}
