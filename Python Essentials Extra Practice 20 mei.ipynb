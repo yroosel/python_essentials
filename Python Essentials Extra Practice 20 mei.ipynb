{
 "cells": [
  {
   "cell_type": "markdown",
   "id": "307ac9e6-f264-4f23-8aa9-ba3cb1f4ba38",
   "metadata": {},
   "source": [
    "# Praktijkvoorbeelden 20 mei"
   ]
  },
  {
   "cell_type": "code",
   "execution_count": 18,
   "id": "131e5c57-0fbe-4e18-8a7e-d1aab9a49cde",
   "metadata": {},
   "outputs": [
    {
     "name": "stdout",
     "output_type": "stream",
     "text": [
      "Aantal elementen: 5\n",
      "Lijst: [10, 5, 7, 2, 1]\n",
      "Aantal elementen: 4\n",
      "Lijst: [10, 7, 2, 1]\n"
     ]
    }
   ],
   "source": [
    "numbers = [10, 5, 7, 2, 1]\n",
    "print(\"Aantal elementen:\", len(numbers))\n",
    "print(\"Lijst:\", numbers)\n",
    "del numbers[1]\n",
    "print(\"Aantal elementen:\", len(numbers))\n",
    "print(\"Lijst:\", numbers)"
   ]
  },
  {
   "cell_type": "code",
   "execution_count": 12,
   "id": "5a015c37-1f4d-4465-9cd7-c4289dae053e",
   "metadata": {},
   "outputs": [
    {
     "name": "stdout",
     "output_type": "stream",
     "text": [
      "Aantal elementen: 5\n",
      "Lijst: [10, 7, 2, 1, 111]\n"
     ]
    }
   ],
   "source": [
    "numbers.append(111)\n",
    "print(\"Aantal elementen:\", len(numbers))\n",
    "print(\"Lijst:\", numbers)"
   ]
  },
  {
   "cell_type": "code",
   "execution_count": 28,
   "id": "50f3532e-80bf-4682-9382-542b7e52193c",
   "metadata": {},
   "outputs": [
    {
     "name": "stdout",
     "output_type": "stream",
     "text": [
      "Aantal elementen: 7\n",
      "Lijst: [1, 2, 7, 10, 222, 333, 555]\n"
     ]
    }
   ],
   "source": [
    "numbers.sort()\n",
    "print(\"Aantal elementen:\", len(numbers))\n",
    "print(\"Lijst:\", numbers)"
   ]
  },
  {
   "cell_type": "code",
   "execution_count": 26,
   "id": "cd94d37a-aba0-4a5b-8039-37db94506828",
   "metadata": {},
   "outputs": [
    {
     "name": "stdout",
     "output_type": "stream",
     "text": [
      "7\n",
      "[1, 2, 7, 10, 333, 555, 222]\n"
     ]
    }
   ],
   "source": [
    "numbers.insert(-1, 555)\n",
    "print(len(numbers))\n",
    "print(numbers)"
   ]
  },
  {
   "cell_type": "code",
   "execution_count": 36,
   "id": "c9729e13-91f8-4e7b-b11c-26f4fc5e1a98",
   "metadata": {},
   "outputs": [
    {
     "name": "stdout",
     "output_type": "stream",
     "text": [
      "Value:  1\n",
      "Subtotal:  1\n",
      "Value:  2\n",
      "Subtotal:  3\n",
      "Value:  7\n",
      "Subtotal:  10\n",
      "Value:  10\n",
      "Subtotal:  20\n",
      "Value:  222\n",
      "Subtotal:  242\n",
      "Value:  333\n",
      "Subtotal:  575\n",
      "Value:  555\n",
      "Subtotal:  1130\n",
      "1130\n"
     ]
    }
   ],
   "source": [
    "my_list = [1, 2, 7, 10, 222, 333, 555]\n",
    "total = 0\n",
    "\n",
    "for i in range(len(my_list)):\n",
    "    print(\"Value: \" , my_list[i])\n",
    "    total = total + my_list[i]\n",
    "    print(\"Subtotal: \", total)\n",
    "    # total += my_list[i]\n",
    "\n",
    "print(total)\n"
   ]
  },
  {
   "cell_type": "code",
   "execution_count": 56,
   "id": "5f80c1e1-b7ff-4a23-8941-4d2345819490",
   "metadata": {},
   "outputs": [
    {
     "name": "stdout",
     "output_type": "stream",
     "text": [
      "[1, 2, 3, 4, 5]\n",
      "[1, 2, 3, 4, 5]\n"
     ]
    }
   ],
   "source": [
    "list_1 = [1,2,3,4,5]\n",
    "list_2 = list_1[0:len(list_1)]\n",
    "print(list_1)\n",
    "print(list_2)\n",
    "#list_1[0] = 2\n",
    "#print(list_2)"
   ]
  },
  {
   "cell_type": "code",
   "execution_count": 58,
   "id": "1a6ba3e5-e423-4d91-985b-0cd4db94f251",
   "metadata": {},
   "outputs": [
    {
     "name": "stdout",
     "output_type": "stream",
     "text": [
      "False\n",
      "True\n",
      "True\n"
     ]
    }
   ],
   "source": [
    "my_list = [0, 3, 12, 8, 2]\n",
    "\n",
    "print(5 in my_list)\n",
    "\n",
    "print(5 not in my_list)\n",
    "\n",
    "print(12 in my_list)"
   ]
  },
  {
   "cell_type": "code",
   "execution_count": 80,
   "id": "7931b1e4-7ff8-4965-947c-acb9a068fee9",
   "metadata": {},
   "outputs": [
    {
     "name": "stdout",
     "output_type": "stream",
     "text": [
      "17\n"
     ]
    }
   ],
   "source": [
    "my_list = [17, 3, 11, 5, 1, 9000, 7, 150, 13000, 15000]\n",
    "largest = my_list[0]\n",
    "print(largest)\n"
   ]
  },
  {
   "cell_type": "code",
   "execution_count": 82,
   "id": "1d679a5e-82b1-47b1-9541-9f25accf23a3",
   "metadata": {},
   "outputs": [
    {
     "name": "stdout",
     "output_type": "stream",
     "text": [
      "15000\n"
     ]
    }
   ],
   "source": [
    "for i in range(0, len(my_list)):\n",
    "    if my_list[i] > largest:\n",
    "        largest = my_list[i]\n",
    "\n",
    "print(largest)"
   ]
  },
  {
   "cell_type": "code",
   "execution_count": 84,
   "id": "bc1945fa-2d35-4697-8fde-3c415b8941f7",
   "metadata": {},
   "outputs": [
    {
     "name": "stdout",
     "output_type": "stream",
     "text": [
      "Printing transaction as they occurred\n",
      "\n",
      "Transaction history:\n",
      "\n",
      "10000\n",
      "-150\n",
      "-25\n",
      "-2515\n",
      "3650\n",
      "-2100\n",
      "-4500\n"
     ]
    }
   ],
   "source": [
    "# List of financial transactions (positive = income, negative = expense)\n",
    "fin_transactions = [10000, -150, -25, -2515, +3650, -2100, -4500]\n",
    "\n",
    "print(\"Printing transaction as they occurred\\n\")\n",
    "\n",
    "# Print and calculate each transaction\n",
    "print(\"Transaction history:\\n\")\n",
    "for transaction in fin_transactions:\n",
    "    print(transaction)"
   ]
  },
  {
   "cell_type": "code",
   "execution_count": 90,
   "id": "dccfb15c-3ac6-420a-83c6-8485a917f856",
   "metadata": {},
   "outputs": [
    {
     "name": "stdout",
     "output_type": "stream",
     "text": [
      "Printing transaction as they occurred, adding a transaction number\n",
      "\n",
      "Transaction history:\n",
      "\n",
      "1: 10000\n",
      "2: -150\n",
      "3: -25\n",
      "4: -2515\n",
      "5: 3650\n",
      "6: -2100\n",
      "7: -4500\n"
     ]
    }
   ],
   "source": [
    "fin_transactions = [10000, -150, -25, -2515, +3650, -2100, -4500]\n",
    "\n",
    "print(\"Printing transaction as they occurred, adding a transaction number\\n\")\n",
    "\n",
    "transaction_index = 0\n",
    "\n",
    "# Print and calculate each transaction\n",
    "print(\"Transaction history:\\n\")\n",
    "for transaction in fin_transactions:\n",
    "    transaction_index = transaction_index + 1\n",
    "    print(transaction_index, transaction, sep=\": \")"
   ]
  },
  {
   "cell_type": "code",
   "execution_count": 92,
   "id": "0f97a44a-77ff-44b0-b271-5ec38cf26b70",
   "metadata": {},
   "outputs": [
    {
     "name": "stdout",
     "output_type": "stream",
     "text": [
      "Transactions sorted from smallest to largest:\n",
      "\n",
      "[-4500, -2515, -2100, -150, -25, 3650, 10000]\n",
      "\n",
      "-4500 EUR\n",
      "-2515 EUR\n",
      "-2100 EUR\n",
      "-150 EUR\n",
      "-25 EUR\n",
      "+3650 EUR\n",
      "+10000 EUR\n"
     ]
    }
   ],
   "source": [
    "fin_transactions = [10000, -150, -25, -2515, +3650, -2100, -4500]\n",
    "print(\"Transactions sorted from smallest to largest:\\n\")\n",
    "fin_transactions.sort()\n",
    "print(fin_transactions)\n",
    "print()\n",
    "# Display sorted transactions\n",
    "for transaction in fin_transactions:\n",
    "    print(f\"{transaction:+} EUR\")"
   ]
  },
  {
   "cell_type": "code",
   "execution_count": 94,
   "id": "8c6d61a1-729b-4998-a0b3-bebb91011c3e",
   "metadata": {},
   "outputs": [
    {
     "name": "stdout",
     "output_type": "stream",
     "text": [
      "Transactions sorted from smallest to largest:\n",
      "\n",
      "[10000, 3650, -25, -150, -2100, -2515, -4500]\n",
      "\n",
      "+10000 EUR\n",
      "+3650 EUR\n",
      "-25 EUR\n",
      "-150 EUR\n",
      "-2100 EUR\n",
      "-2515 EUR\n",
      "-4500 EUR\n"
     ]
    }
   ],
   "source": [
    "fin_transactions = [10000, -150, -25, -2515, +3650, -2100, -4500]\n",
    "print(\"Transactions sorted from smallest to largest:\\n\")\n",
    "fin_transactions.sort(reverse=True)\n",
    "print(fin_transactions)\n",
    "print()\n",
    "# Display sorted transactions\n",
    "for transaction in fin_transactions:\n",
    "    print(f\"{transaction:+} EUR\")"
   ]
  },
  {
   "cell_type": "code",
   "execution_count": 100,
   "id": "c5adf811-df41-46b5-bfd3-e9b187b4d953",
   "metadata": {},
   "outputs": [
    {
     "name": "stdout",
     "output_type": "stream",
     "text": [
      "['Bernice', 'Radjindra', 'Raidel', 'Ricardo', 'Winita']\n"
     ]
    }
   ],
   "source": [
    "my_team = [\"Ricardo\", \"Raidel\", \"Bernice\" , \"Radjindra\", \"Winita\"]\n",
    "my_team.sort(reverse=False)\n",
    "print(my_team)"
   ]
  },
  {
   "cell_type": "code",
   "execution_count": 104,
   "id": "4ac660f3-ce20-4e46-ae59-17c16d33b120",
   "metadata": {},
   "outputs": [
    {
     "name": "stdout",
     "output_type": "stream",
     "text": [
      "['Ricardo', 'Raidel', 'Bernice', 'Radjindra', 'Winita']\n",
      "['Bernice', 'Radjindra', 'Raidel', 'Ricardo', 'Winita']\n"
     ]
    }
   ],
   "source": [
    "my_team_2 = [\"Ricardo\", \"Raidel\", \"Bernice\" , \"Radjindra\", \"Winita\"]\n",
    "my_team_s = sorted(my_team_2)\n",
    "print(my_team_2)\n",
    "print(my_team_s)"
   ]
  },
  {
   "cell_type": "code",
   "execution_count": 106,
   "id": "e335ebdd-e39d-494f-bbd3-fe5503687d1c",
   "metadata": {},
   "outputs": [
    {
     "name": "stdout",
     "output_type": "stream",
     "text": [
      "<class 'list'>\n"
     ]
    }
   ],
   "source": [
    "print(type(my_team))"
   ]
  },
  {
   "cell_type": "code",
   "execution_count": 122,
   "id": "67c59cfd-b34b-46be-83e5-4b4b27049972",
   "metadata": {},
   "outputs": [
    {
     "name": "stdout",
     "output_type": "stream",
     "text": [
      "Printing and calculating each transaction:\n",
      "\n",
      "Transaction history:\n",
      "\n",
      "+10000 EUR  →  Current balance: 10000 EUR\n",
      "-150 EUR  →  Current balance: 9850 EUR\n",
      "-25 EUR  →  Current balance: 9825 EUR\n",
      "-2515 EUR  →  Current balance: 7310 EUR\n",
      "+3650 EUR  →  Current balance: 10960 EUR\n",
      "-2100 EUR  →  Current balance: 8860 EUR\n",
      "-4500 EUR  →  Current balance: 4360 EUR\n",
      "\n",
      "=> Final balance: 4360 EUR\n"
     ]
    }
   ],
   "source": [
    "# List of financial transactions (positive = income, negative = expense)\n",
    "fin_transactions = [10000, -150, -25, -2515, +3650, -2100, -4500]\n",
    "\n",
    "# Initialize balance\n",
    "balance = 0\n",
    "\n",
    "print(\"Printing and calculating each transaction:\\n\")\n",
    "\n",
    "# Print and calculate each transaction\n",
    "print(\"Transaction history:\\n\")\n",
    "for tr in fin_transactions:\n",
    "    balance = balance + tr\n",
    "    print(f\"{tr:+} EUR  →  Current balance: {balance} EUR\")\n",
    "\n",
    "# Final result\n",
    "print(\"\\n=> Final balance:\", balance, \"EUR\")"
   ]
  },
  {
   "cell_type": "code",
   "execution_count": 5,
   "id": "f4be1b06-59a7-4a93-bb0e-09dd74548c38",
   "metadata": {},
   "outputs": [
    {
     "name": "stdout",
     "output_type": "stream",
     "text": [
      "2025-05-21\n",
      "transactions_2025-05-21.txt\n"
     ]
    }
   ],
   "source": [
    "from datetime import datetime\n",
    "\n",
    "# Prepare filename with today's date\n",
    "today = datetime.today().strftime('%Y-%m-%d')\n",
    "print(today)\n",
    "filename = f\"transactions_{today}.txt\"\n",
    "print(filename)\n"
   ]
  },
  {
   "cell_type": "code",
   "execution_count": 7,
   "id": "c2e058fd-eead-4c18-bc35-a9ee8776330a",
   "metadata": {},
   "outputs": [
    {
     "name": "stdout",
     "output_type": "stream",
     "text": [
      "Transactions exported to: transactions_2025-05-21.txt\n"
     ]
    }
   ],
   "source": [
    "# Note: Run the previous cell first\n",
    "# List of financial transactions (positive = income, negative = expense)\n",
    "fin_transactions = [10000, -150, -25, -2515, +3650, -2100, -4500]\n",
    "\n",
    "# Initialize balance\n",
    "balance = 0\n",
    "\n",
    "# Open file for writing\n",
    "with open(filename, \"w\") as file:\n",
    "    file.write(f\"Transaction Log - {today}\\n\")\n",
    "    file.write(\"_\" * 60 + \"\\n\")\n",
    "\n",
    "    for transaction in fin_transactions:\n",
    "        balance += transaction\n",
    "        timestamp = datetime.now().strftime('%Y-%m-%d %H:%M:%S')\n",
    "        file.write(f\"{timestamp} | {transaction:+} EUR | Balance: {balance} EUR\\n\")\n",
    "\n",
    "    file.write(\"_\" * 60 + \"\\n\")\n",
    "    file.write(f\"Final balance: {balance} EUR\\n\")\n",
    "\n",
    "print(f\"Transactions exported to: {filename}\")"
   ]
  },
  {
   "cell_type": "code",
   "execution_count": 9,
   "id": "5e5c81a0-f686-40c0-a1b1-373d3ec032e9",
   "metadata": {},
   "outputs": [
    {
     "name": "stdout",
     "output_type": "stream",
     "text": [
      "Displaying contents of transactions_2025-05-21.txt:\n",
      "\n",
      "Transaction Log - 2025-05-21\n",
      "____________________________________________________________\n",
      "2025-05-21 14:18:06 | +10000 EUR | Balance: 10000 EUR\n",
      "2025-05-21 14:18:06 | -150 EUR | Balance: 9850 EUR\n",
      "2025-05-21 14:18:06 | -25 EUR | Balance: 9825 EUR\n",
      "2025-05-21 14:18:06 | -2515 EUR | Balance: 7310 EUR\n",
      "2025-05-21 14:18:06 | +3650 EUR | Balance: 10960 EUR\n",
      "2025-05-21 14:18:06 | -2100 EUR | Balance: 8860 EUR\n",
      "2025-05-21 14:18:06 | -4500 EUR | Balance: 4360 EUR\n",
      "____________________________________________________________\n",
      "Final balance: 4360 EUR\n",
      "\n"
     ]
    }
   ],
   "source": [
    "#UNSAFE\n",
    "from datetime import datetime\n",
    "\n",
    "# Get today's date to match the file name\n",
    "today = datetime.today().strftime('%Y-%m-%d')\n",
    "filename = f\"transactions_{today}.txt\"\n",
    "\n",
    "with open(filename, \"r\") as file:\n",
    "    print(f\"Displaying contents of {filename}:\\n\")\n",
    "    contents = file.read()\n",
    "    print(contents)\n"
   ]
  },
  {
   "cell_type": "code",
   "execution_count": 11,
   "id": "a849a52c-06e1-4e6e-a820-002529809228",
   "metadata": {},
   "outputs": [
    {
     "name": "stdout",
     "output_type": "stream",
     "text": [
      "Displaying contents of transactions_2025-05-21.txt:\n",
      "\n",
      "Transaction Log - 2025-05-21\n",
      "____________________________________________________________\n",
      "2025-05-21 14:18:06 | +10000 EUR | Balance: 10000 EUR\n",
      "2025-05-21 14:18:06 | -150 EUR | Balance: 9850 EUR\n",
      "2025-05-21 14:18:06 | -25 EUR | Balance: 9825 EUR\n",
      "2025-05-21 14:18:06 | -2515 EUR | Balance: 7310 EUR\n",
      "2025-05-21 14:18:06 | +3650 EUR | Balance: 10960 EUR\n",
      "2025-05-21 14:18:06 | -2100 EUR | Balance: 8860 EUR\n",
      "2025-05-21 14:18:06 | -4500 EUR | Balance: 4360 EUR\n",
      "____________________________________________________________\n",
      "Final balance: 4360 EUR\n",
      "\n"
     ]
    }
   ],
   "source": [
    "#SAFE\n",
    "from datetime import datetime\n",
    "\n",
    "# Get today's date to match the file name\n",
    "today = datetime.today().strftime('%Y-%m-%d')\n",
    "filename = f\"transactions_{today}.txt\"\n",
    "\n",
    "try:\n",
    "    with open(filename, \"r\") as file:\n",
    "        print(f\"Displaying contents of {filename}:\\n\")\n",
    "        contents = file.read()\n",
    "        print(contents)\n",
    "except FileNotFoundError:\n",
    "    print(f\"File {filename} not found.\")"
   ]
  },
  {
   "cell_type": "code",
   "execution_count": 150,
   "id": "416a2626-0c98-44d9-a066-9afbb47a7cf3",
   "metadata": {},
   "outputs": [
    {
     "name": "stdout",
     "output_type": "stream",
     "text": [
      "['December', 7, 0, 4, 18, 9]\n",
      "Maand: December\n",
      "Max Temp: 7\n",
      "Min Temp: 0\n"
     ]
    }
   ],
   "source": [
    "weather_2025_1 = ['January', 10, -1, 5, 15, 11]\n",
    "weather_2025_2 = ['February', 12, 0, 6, 12, 11]\n",
    "weather_2025_3 = ['March', 15, 2, 8, 14, 9]\n",
    "weather_2025_4 = ['April', 18, 5, 12, 10, 8]\n",
    "weather_2025_5 = ['May', 22, 9, 14, 9, 8]\n",
    "weather_2025_6 = ['June', 25, 13, 15, 8, 7]\n",
    "weather_2025_7 = ['July', 28, 15, 18, 7, 6]\n",
    "weather_2025_8 = ['August', 27, 14, 17, 8, 6]\n",
    "weather_2025_9 = ['September', 23, 11, 13, 10, 7]\n",
    "weather_2025_10 = ['October', 17, 7, 9, 14, 8]\n",
    "weather_2025_11 = ['November', 11, 3, 6, 17, 7]\n",
    "weather_2025_12 = ['December', 7, 0, 4, 18, 9]\n",
    "\n",
    "# Display complete list of measurements for one month\n",
    "print(weather_2025_12)\n",
    "\n",
    "# Pick out a specific element\n",
    "print(\"Maand:\", weather_2025_12[0])\n",
    "print(\"Max Temp:\", weather_2025_12[1])\n",
    "print(\"Min Temp:\", weather_2025_12[2])"
   ]
  },
  {
   "cell_type": "code",
   "execution_count": 172,
   "id": "02302181-1749-4a38-a846-a0326bf509e1",
   "metadata": {},
   "outputs": [
    {
     "name": "stdout",
     "output_type": "stream",
     "text": [
      "January: 10\n",
      "February: 12\n",
      "March: 15\n",
      "April: 18\n",
      "May: 22\n",
      "June: 25\n",
      "July: 28\n",
      "August: 27\n",
      "September: 23\n",
      "October: 17\n",
      "November: 11\n",
      "December: 7\n",
      "\n",
      "Gemiddeld: 17\n"
     ]
    }
   ],
   "source": [
    "# A table is a \"list of lists\"\n",
    "weather_year_2025 = [\n",
    "    ['January', 10, -1, 5, 15, 11], ['February', 12, 0, 6, 12, 11], ['March', 15, 2, 8, 14, 9], \n",
    "    ['April', 18, 5, 12, 10, 8], ['May', 22, 9, 14, 9, 8], ['June', 25, 13, 15, 8, 7], \n",
    "    ['July', 28, 15, 18, 7, 6], ['August', 27, 14, 17, 8, 6], ['September', 23, 11, 13, 10, 7], \n",
    "    ['October', 17, 7, 9, 14, 8], ['November', 11, 3, 6, 17, 7], ['December', 7, 0, 4, 18, 9]\n",
    "]\n",
    "\n",
    "# Print data of all months\n",
    "gemiddeld = 0\n",
    "totaal = 0\n",
    "for maand in weather_year_2025:\n",
    "    print(maand[0], maand[1], sep=\": \")\n",
    "    totaal = totaal + maand[1]\n",
    "gemiddeld = totaal // 12\n",
    "print()\n",
    "print(\"Gemiddeld\", gemiddeld, sep=\": \")"
   ]
  },
  {
   "cell_type": "code",
   "execution_count": 174,
   "id": "f79fe971-0574-4fa5-b315-44d6633a0298",
   "metadata": {},
   "outputs": [
    {
     "name": "stdout",
     "output_type": "stream",
     "text": [
      "January\n"
     ]
    }
   ],
   "source": [
    "# Note: Run the previous cell first\n",
    "# FIRST CELL\n",
    "row_selected = 0\n",
    "col_selected = 0\n",
    "cell_value = weather_year_2025[row_selected][col_selected]\n",
    "print(cell_value)\n",
    "\n"
   ]
  },
  {
   "cell_type": "code",
   "execution_count": 182,
   "id": "da5a293b-cefc-4996-8590-36d1bdce3a62",
   "metadata": {},
   "outputs": [
    {
     "name": "stdout",
     "output_type": "stream",
     "text": [
      "9\n"
     ]
    }
   ],
   "source": [
    "# Note: Run the previous cell first\n",
    "# NEXT ROW\n",
    "row_selected = 11\n",
    "col_selected = -1\n",
    "cell_value = weather_year_2025[row_selected][col_selected]\n",
    "print(cell_value)"
   ]
  },
  {
   "cell_type": "code",
   "execution_count": 184,
   "id": "0dec6c0e-2f09-4225-959f-f1cf6e20047b",
   "metadata": {},
   "outputs": [
    {
     "name": "stdout",
     "output_type": "stream",
     "text": [
      "Cell[0][0] = January\n",
      "Cell[0][1] = 10\n",
      "Cell[0][2] = -1\n",
      "Cell[0][3] = 5\n",
      "Cell[0][4] = 15\n",
      "Cell[0][5] = 11\n",
      "Cell[1][0] = February\n",
      "Cell[1][1] = 12\n",
      "Cell[1][2] = 0\n",
      "Cell[1][3] = 6\n",
      "Cell[1][4] = 12\n",
      "Cell[1][5] = 11\n",
      "Cell[2][0] = March\n",
      "Cell[2][1] = 15\n",
      "Cell[2][2] = 2\n",
      "Cell[2][3] = 8\n",
      "Cell[2][4] = 14\n",
      "Cell[2][5] = 9\n",
      "Cell[3][0] = April\n",
      "Cell[3][1] = 18\n",
      "Cell[3][2] = 5\n",
      "Cell[3][3] = 12\n",
      "Cell[3][4] = 10\n",
      "Cell[3][5] = 8\n",
      "Cell[4][0] = May\n",
      "Cell[4][1] = 22\n",
      "Cell[4][2] = 9\n",
      "Cell[4][3] = 14\n",
      "Cell[4][4] = 9\n",
      "Cell[4][5] = 8\n",
      "Cell[5][0] = June\n",
      "Cell[5][1] = 25\n",
      "Cell[5][2] = 13\n",
      "Cell[5][3] = 15\n",
      "Cell[5][4] = 8\n",
      "Cell[5][5] = 7\n",
      "Cell[6][0] = July\n",
      "Cell[6][1] = 28\n",
      "Cell[6][2] = 15\n",
      "Cell[6][3] = 18\n",
      "Cell[6][4] = 7\n",
      "Cell[6][5] = 6\n",
      "Cell[7][0] = August\n",
      "Cell[7][1] = 27\n",
      "Cell[7][2] = 14\n",
      "Cell[7][3] = 17\n",
      "Cell[7][4] = 8\n",
      "Cell[7][5] = 6\n",
      "Cell[8][0] = September\n",
      "Cell[8][1] = 23\n",
      "Cell[8][2] = 11\n",
      "Cell[8][3] = 13\n",
      "Cell[8][4] = 10\n",
      "Cell[8][5] = 7\n",
      "Cell[9][0] = October\n",
      "Cell[9][1] = 17\n",
      "Cell[9][2] = 7\n",
      "Cell[9][3] = 9\n",
      "Cell[9][4] = 14\n",
      "Cell[9][5] = 8\n",
      "Cell[10][0] = November\n",
      "Cell[10][1] = 11\n",
      "Cell[10][2] = 3\n",
      "Cell[10][3] = 6\n",
      "Cell[10][4] = 17\n",
      "Cell[10][5] = 7\n",
      "Cell[11][0] = December\n",
      "Cell[11][1] = 7\n",
      "Cell[11][2] = 0\n",
      "Cell[11][3] = 4\n",
      "Cell[11][4] = 18\n",
      "Cell[11][5] = 9\n"
     ]
    }
   ],
   "source": [
    "# Note: Run the previous cell first\n",
    "for row_index in range(len(weather_year_2025)):\n",
    "    row = weather_year_2025[row_index]\n",
    "    for col_index in range(len(row)):\n",
    "        value = row[col_index]\n",
    "        print(f\"Cell[{row_index}][{col_index}] = {value}\")"
   ]
  },
  {
   "cell_type": "code",
   "execution_count": 186,
   "id": "f535054c-2e6a-451e-bae3-4a30cfd4386a",
   "metadata": {},
   "outputs": [
    {
     "name": "stdout",
     "output_type": "stream",
     "text": [
      "Cell[0][0] = January\n",
      "Cell[0][1] = 10\n",
      "Cell[0][2] = -1\n",
      "Cell[0][3] = 5\n",
      "Cell[0][4] = 15\n",
      "Cell[0][5] = 11\n",
      "Cell[1][0] = February\n",
      "Cell[1][1] = 12\n",
      "Cell[1][2] = 0\n",
      "Cell[1][3] = 6\n",
      "Cell[1][4] = 12\n",
      "Cell[1][5] = 11\n",
      "Cell[2][0] = March\n",
      "Cell[2][1] = 15\n",
      "Cell[2][2] = 2\n",
      "Cell[2][3] = 8\n",
      "Cell[2][4] = 14\n",
      "Cell[2][5] = 9\n",
      "Cell[3][0] = April\n",
      "Cell[3][1] = 18\n",
      "Cell[3][2] = 5\n",
      "Cell[3][3] = 12\n",
      "Cell[3][4] = 10\n",
      "Cell[3][5] = 8\n",
      "Cell[4][0] = May\n",
      "Cell[4][1] = 22\n",
      "Cell[4][2] = 9\n",
      "Cell[4][3] = 14\n",
      "Cell[4][4] = 9\n",
      "Cell[4][5] = 8\n",
      "Cell[5][0] = June\n",
      "Cell[5][1] = 25\n",
      "Cell[5][2] = 13\n",
      "Cell[5][3] = 15\n",
      "Cell[5][4] = 8\n",
      "Cell[5][5] = 7\n",
      "Cell[6][0] = July\n",
      "Cell[6][1] = 28\n",
      "Cell[6][2] = 15\n",
      "Cell[6][3] = 18\n",
      "Cell[6][4] = 7\n",
      "Cell[6][5] = 6\n",
      "Cell[7][0] = August\n",
      "Cell[7][1] = 27\n",
      "Cell[7][2] = 14\n",
      "Cell[7][3] = 17\n",
      "Cell[7][4] = 8\n",
      "Cell[7][5] = 6\n",
      "Cell[8][0] = September\n",
      "Cell[8][1] = 23\n",
      "Cell[8][2] = 11\n",
      "Cell[8][3] = 13\n",
      "Cell[8][4] = 10\n",
      "Cell[8][5] = 7\n",
      "Cell[9][0] = October\n",
      "Cell[9][1] = 17\n",
      "Cell[9][2] = 7\n",
      "Cell[9][3] = 9\n",
      "Cell[9][4] = 14\n",
      "Cell[9][5] = 8\n",
      "Cell[10][0] = November\n",
      "Cell[10][1] = 11\n",
      "Cell[10][2] = 3\n",
      "Cell[10][3] = 6\n",
      "Cell[10][4] = 17\n",
      "Cell[10][5] = 7\n",
      "Cell[11][0] = December\n",
      "Cell[11][1] = 7\n",
      "Cell[11][2] = 0\n",
      "Cell[11][3] = 4\n",
      "Cell[11][4] = 18\n",
      "Cell[11][5] = 9\n"
     ]
    }
   ],
   "source": [
    "# Note: Run the previous cell first\n",
    "for row_index, row in enumerate(weather_year_2025):\n",
    "    for col_index, value in enumerate(row):\n",
    "        print(f\"Cell[{row_index}][{col_index}] = {value}\")"
   ]
  }
 ],
 "metadata": {
  "kernelspec": {
   "display_name": "Python [conda env:base] *",
   "language": "python",
   "name": "conda-base-py"
  },
  "language_info": {
   "codemirror_mode": {
    "name": "ipython",
    "version": 3
   },
   "file_extension": ".py",
   "mimetype": "text/x-python",
   "name": "python",
   "nbconvert_exporter": "python",
   "pygments_lexer": "ipython3",
   "version": "3.11.11"
  }
 },
 "nbformat": 4,
 "nbformat_minor": 5
}
