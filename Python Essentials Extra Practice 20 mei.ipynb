{
 "cells": [
  {
   "cell_type": "markdown",
   "id": "307ac9e6-f264-4f23-8aa9-ba3cb1f4ba38",
   "metadata": {},
   "source": [
    "# Praktijkvoorbeelden 20 mei"
   ]
  },
  {
   "cell_type": "code",
   "execution_count": null,
   "id": "131e5c57-0fbe-4e18-8a7e-d1aab9a49cde",
   "metadata": {},
   "outputs": [],
   "source": []
  }
 ],
 "metadata": {
  "kernelspec": {
   "display_name": "Python [conda env:base] *",
   "language": "python",
   "name": "conda-base-py"
  },
  "language_info": {
   "codemirror_mode": {
    "name": "ipython",
    "version": 3
   },
   "file_extension": ".py",
   "mimetype": "text/x-python",
   "name": "python",
   "nbconvert_exporter": "python",
   "pygments_lexer": "ipython3",
   "version": "3.11.11"
  }
 },
 "nbformat": 4,
 "nbformat_minor": 5
}
