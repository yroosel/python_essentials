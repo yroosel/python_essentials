{
 "cells": [
  {
   "cell_type": "markdown",
   "id": "307ac9e6-f264-4f23-8aa9-ba3cb1f4ba38",
   "metadata": {},
   "source": [
    "# Praktijkvoorbeelden 20 mei"
   ]
  },
  {
   "cell_type": "code",
   "execution_count": 18,
   "id": "131e5c57-0fbe-4e18-8a7e-d1aab9a49cde",
   "metadata": {},
   "outputs": [
    {
     "name": "stdout",
     "output_type": "stream",
     "text": [
      "Aantal elementen: 5\n",
      "Lijst: [10, 5, 7, 2, 1]\n",
      "Aantal elementen: 4\n",
      "Lijst: [10, 7, 2, 1]\n"
     ]
    }
   ],
   "source": [
    "numbers = [10, 5, 7, 2, 1]\n",
    "print(\"Aantal elementen:\", len(numbers))\n",
    "print(\"Lijst:\", numbers)\n",
    "del numbers[1]\n",
    "print(\"Aantal elementen:\", len(numbers))\n",
    "print(\"Lijst:\", numbers)"
   ]
  },
  {
   "cell_type": "code",
   "execution_count": 12,
   "id": "5a015c37-1f4d-4465-9cd7-c4289dae053e",
   "metadata": {},
   "outputs": [
    {
     "name": "stdout",
     "output_type": "stream",
     "text": [
      "Aantal elementen: 5\n",
      "Lijst: [10, 7, 2, 1, 111]\n"
     ]
    }
   ],
   "source": [
    "numbers.append(111)\n",
    "print(\"Aantal elementen:\", len(numbers))\n",
    "print(\"Lijst:\", numbers)"
   ]
  },
  {
   "cell_type": "code",
   "execution_count": 28,
   "id": "50f3532e-80bf-4682-9382-542b7e52193c",
   "metadata": {},
   "outputs": [
    {
     "name": "stdout",
     "output_type": "stream",
     "text": [
      "Aantal elementen: 7\n",
      "Lijst: [1, 2, 7, 10, 222, 333, 555]\n"
     ]
    }
   ],
   "source": [
    "numbers.sort()\n",
    "print(\"Aantal elementen:\", len(numbers))\n",
    "print(\"Lijst:\", numbers)"
   ]
  },
  {
   "cell_type": "code",
   "execution_count": 26,
   "id": "cd94d37a-aba0-4a5b-8039-37db94506828",
   "metadata": {},
   "outputs": [
    {
     "name": "stdout",
     "output_type": "stream",
     "text": [
      "7\n",
      "[1, 2, 7, 10, 333, 555, 222]\n"
     ]
    }
   ],
   "source": [
    "numbers.insert(-1, 555)\n",
    "print(len(numbers))\n",
    "print(numbers)"
   ]
  },
  {
   "cell_type": "code",
   "execution_count": 36,
   "id": "c9729e13-91f8-4e7b-b11c-26f4fc5e1a98",
   "metadata": {},
   "outputs": [
    {
     "name": "stdout",
     "output_type": "stream",
     "text": [
      "Value:  1\n",
      "Subtotal:  1\n",
      "Value:  2\n",
      "Subtotal:  3\n",
      "Value:  7\n",
      "Subtotal:  10\n",
      "Value:  10\n",
      "Subtotal:  20\n",
      "Value:  222\n",
      "Subtotal:  242\n",
      "Value:  333\n",
      "Subtotal:  575\n",
      "Value:  555\n",
      "Subtotal:  1130\n",
      "1130\n"
     ]
    }
   ],
   "source": [
    "my_list = [1, 2, 7, 10, 222, 333, 555]\n",
    "total = 0\n",
    "\n",
    "for i in range(len(my_list)):\n",
    "    print(\"Value: \" , my_list[i])\n",
    "    total = total + my_list[i]\n",
    "    print(\"Subtotal: \", total)\n",
    "    # total += my_list[i]\n",
    "\n",
    "print(total)\n"
   ]
  },
  {
   "cell_type": "code",
   "execution_count": 56,
   "id": "5f80c1e1-b7ff-4a23-8941-4d2345819490",
   "metadata": {},
   "outputs": [
    {
     "name": "stdout",
     "output_type": "stream",
     "text": [
      "[1, 2, 3, 4, 5]\n",
      "[1, 2, 3, 4, 5]\n"
     ]
    }
   ],
   "source": [
    "list_1 = [1,2,3,4,5]\n",
    "list_2 = list_1[0:len(list_1)]\n",
    "print(list_1)\n",
    "print(list_2)\n",
    "#list_1[0] = 2\n",
    "#print(list_2)"
   ]
  },
  {
   "cell_type": "code",
   "execution_count": 58,
   "id": "1a6ba3e5-e423-4d91-985b-0cd4db94f251",
   "metadata": {},
   "outputs": [
    {
     "name": "stdout",
     "output_type": "stream",
     "text": [
      "False\n",
      "True\n",
      "True\n"
     ]
    }
   ],
   "source": [
    "my_list = [0, 3, 12, 8, 2]\n",
    "\n",
    "print(5 in my_list)\n",
    "\n",
    "print(5 not in my_list)\n",
    "\n",
    "print(12 in my_list)"
   ]
  },
  {
   "cell_type": "code",
   "execution_count": 80,
   "id": "7931b1e4-7ff8-4965-947c-acb9a068fee9",
   "metadata": {},
   "outputs": [
    {
     "name": "stdout",
     "output_type": "stream",
     "text": [
      "17\n"
     ]
    }
   ],
   "source": [
    "my_list = [17, 3, 11, 5, 1, 9000, 7, 150, 13000, 15000]\n",
    "largest = my_list[0]\n",
    "print(largest)\n"
   ]
  },
  {
   "cell_type": "code",
   "execution_count": 82,
   "id": "1d679a5e-82b1-47b1-9541-9f25accf23a3",
   "metadata": {},
   "outputs": [
    {
     "name": "stdout",
     "output_type": "stream",
     "text": [
      "15000\n"
     ]
    }
   ],
   "source": [
    "for i in range(0, len(my_list)):\n",
    "    if my_list[i] > largest:\n",
    "        largest = my_list[i]\n",
    "\n",
    "print(largest)"
   ]
  }
 ],
 "metadata": {
  "kernelspec": {
   "display_name": "Python [conda env:base] *",
   "language": "python",
   "name": "conda-base-py"
  },
  "language_info": {
   "codemirror_mode": {
    "name": "ipython",
    "version": 3
   },
   "file_extension": ".py",
   "mimetype": "text/x-python",
   "name": "python",
   "nbconvert_exporter": "python",
   "pygments_lexer": "ipython3",
   "version": "3.11.11"
  }
 },
 "nbformat": 4,
 "nbformat_minor": 5
}
