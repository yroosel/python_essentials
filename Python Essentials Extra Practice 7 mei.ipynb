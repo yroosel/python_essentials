{
 "cells": [
  {
   "cell_type": "markdown",
   "id": "8ccfa3a1-2f56-4c8e-aa30-fc39e7580f86",
   "metadata": {},
   "source": [
    "# Praktijkvoorbeelden 7 mei"
   ]
  },
  {
   "cell_type": "code",
   "execution_count": 4,
   "id": "0e57a23f-0cb5-42a9-b94c-f82f7b098af2",
   "metadata": {},
   "outputs": [
    {
     "name": "stdout",
     "output_type": "stream",
     "text": [
      "Python 3.11.11\n",
      " Volume in drive C is Windows\n",
      " Volume Serial Number is 9E1E-8F54\n",
      "\n",
      " Directory of C:\\Users\\yroos\\Python Scripts\\Python Essentials\n",
      "\n",
      "14/05/2025  08:06    <DIR>          .\n",
      "10/05/2025  12:22    <DIR>          ..\n",
      "10/05/2025  11:33                35 .gitignore\n",
      "14/05/2025  08:06    <DIR>          .ipynb_checkpoints\n",
      "13/05/2025  16:23    <DIR>          anaconda_projects\n",
      "13/05/2025  15:52               422 netherlands_suriname_names.csv\n",
      "10/05/2025  10:53            34.726 pandas.ipynb\n",
      "07/05/2025  16:08            69.139 Python Essentials 2025 Prep.ipynb\n",
      "08/05/2025  09:03           591.294 Python Essentials B.ipynb\n",
      "14/05/2025  07:29            16.703 Python Essentials Extra Practice 13 mei .ipynb\n",
      "13/05/2025  19:03            37.046 Python Essentials Extra Practice 7 mei.ipynb\n",
      "13/05/2025  11:00            99.553 Python Essentials Extra Practice.ipynb\n",
      "14/05/2025  08:02            40.379 Python Essentials Prep 13 mei .ipynb\n",
      "14/05/2025  08:04            14.493 Python Essentials Prep 14 mei .ipynb\n",
      "13/05/2025  13:57               180 temperature_measurements.csv\n",
      "14/05/2025  06:40                72 Untitled.ipynb\n",
      "              12 File(s)        904.042 bytes\n",
      "               4 Dir(s)  643.475.292.160 bytes free\n"
     ]
    }
   ],
   "source": [
    "# Operating system command preceded by an exclamation mark\n",
    "! python --version\n",
    "! dir "
   ]
  },
  {
   "cell_type": "markdown",
   "id": "e91d8879-28e9-411b-b66b-f85adb303443",
   "metadata": {},
   "source": [
    "**Printing** \n",
    "\n",
    "- Creating outputs\n",
    "- Communicating results"
   ]
  },
  {
   "cell_type": "code",
   "execution_count": 11,
   "id": "6cd752be-de76-4473-a4b3-61943cfb7f1e",
   "metadata": {},
   "outputs": [
    {
     "name": "stdout",
     "output_type": "stream",
     "text": [
      "Yvan Rooseleer BiASC Gravenbosstraat 134 Brussel\n"
     ]
    }
   ],
   "source": [
    "### STEP 1 # In reality, data is often read in \"realtime\" from an input source, e.g. a file, a spreadsheet, a message, ...\n",
    "first_name = \"Yvan\"\n",
    "last_name = \"Rooseleer\"\n",
    "company = \"BiASC\"\n",
    "address = \"Gravenbosstraat 134\"\n",
    "city = \"Brussel\"\n",
    "\n",
    "print (first_name, last_name, company, address, city)"
   ]
  },
  {
   "cell_type": "code",
   "execution_count": 15,
   "id": "f101b4a0-84ad-48e0-aa57-693794f71d00",
   "metadata": {},
   "outputs": [
    {
     "name": "stdout",
     "output_type": "stream",
     "text": [
      "ae\n"
     ]
    }
   ],
   "source": [
    "### MANIPULATE NAME\n",
    "first_name = \"Yvan\"\n",
    "last_name = \"Rooseleer\"\n",
    "company = \"BiASC\"\n",
    "address = \"Gravenbosstraat 134\"\n",
    "city = \"Brussel\"\n",
    "\n",
    "# short_name = f\"{first_name[0]}. {last_name}\"\n",
    "# short_name = first_name[0] +\". \"+ last_name\n",
    "# short_name = first_name[0] +\". \"+ last_name\n",
    "# print(short_name)\n",
    "initials = first_name[-2] + last_name[-2]\n",
    "print(initials)\n"
   ]
  },
  {
   "cell_type": "code",
   "execution_count": 25,
   "id": "029f371c-2acb-4f43-b508-b71e4bbe7984",
   "metadata": {},
   "outputs": [
    {
     "name": "stdout",
     "output_type": "stream",
     "text": [
      "YR\n"
     ]
    }
   ],
   "source": [
    "### INITIALS\n",
    "first_name = \"Yvan\"\n",
    "last_name = \"Rooseleer\"\n",
    "company = \"BiASC\"\n",
    "address = \"Gravenbosstraat 134\"\n",
    "city = \"Brussel\"\n",
    "\n",
    "# short_name = f\"{first_name[0]}. {last_name}\"\n",
    "initials = first_name[0] + last_name[0]\n",
    "print(initials)"
   ]
  },
  {
   "cell_type": "code",
   "execution_count": 2,
   "id": "7f2891d2-abb7-4e1f-b6c9-5977e1fe9278",
   "metadata": {},
   "outputs": [
    {
     "name": "stdin",
     "output_type": "stream",
     "text": [
      "Voornaam: Yvan\n",
      "Familienaam: Rooseleer\n",
      "Company: BiASC\n",
      "Adres: Gravenbos 134\n",
      "Woonplaats: Liedekerke\n"
     ]
    },
    {
     "name": "stdout",
     "output_type": "stream",
     "text": [
      "Yvan Rooseleer BiASC Gravenbos 134 Liedekerke\n"
     ]
    }
   ],
   "source": [
    "### STEP 1 USING INPUT\n",
    "first_name = input(\"Voornaam:\")\n",
    "last_name = input(\"Familienaam:\")\n",
    "company = input(\"Company:\")\n",
    "address = input(\"Adres:\")\n",
    "city = input(\"Woonplaats:\")\n",
    "\n",
    "print (first_name, last_name, company, address, city)"
   ]
  },
  {
   "cell_type": "code",
   "execution_count": 3,
   "id": "69b14c57-045c-44a4-a755-59e9b55ac89e",
   "metadata": {},
   "outputs": [
    {
     "name": "stdout",
     "output_type": "stream",
     "text": [
      "Yvan Rooseleer BiASC Gravenbos 134 Liedekerke\n"
     ]
    }
   ],
   "source": [
    "print (first_name, last_name, company, address, city)"
   ]
  },
  {
   "cell_type": "code",
   "execution_count": 23,
   "id": "594da164-70cf-420a-af57-4609272d0104",
   "metadata": {},
   "outputs": [
    {
     "name": "stdout",
     "output_type": "stream",
     "text": [
      "Yvan, Rooseleer, BiASC, Gravenbosstraat 134, Brussel\n"
     ]
    }
   ],
   "source": [
    "print (first_name, last_name, company, address, city, sep=\", \")\n"
   ]
  },
  {
   "cell_type": "code",
   "execution_count": 5,
   "id": "bc636828-fe53-45bc-8fc7-87f31df20bad",
   "metadata": {},
   "outputs": [
    {
     "name": "stdout",
     "output_type": "stream",
     "text": [
      "Yvan/Rooseleer/BiASC/Gravenbos 134/Liedekerke\n"
     ]
    }
   ],
   "source": [
    "print (first_name, last_name, company, address, city, sep=\"/\" )"
   ]
  },
  {
   "cell_type": "code",
   "execution_count": 6,
   "id": "0aa0f659-e731-448e-89bd-b8b413781afa",
   "metadata": {},
   "outputs": [
    {
     "name": "stdout",
     "output_type": "stream",
     "text": [
      "Yvan Rooseleer\n",
      "BiASC\n",
      "Gravenbos 134\n",
      "Liedekerke\n"
     ]
    }
   ],
   "source": [
    "print (first_name, last_name)\n",
    "print (company)\n",
    "print (address)\n",
    "print (city)"
   ]
  },
  {
   "cell_type": "code",
   "execution_count": 7,
   "id": "cc97f76f-1e5c-4343-ac40-e34404d52143",
   "metadata": {},
   "outputs": [
    {
     "name": "stdout",
     "output_type": "stream",
     "text": [
      "Y. Rooseleer\n",
      "BiASC\n",
      "Gravenbos 134\n",
      "Liedekerke\n"
     ]
    }
   ],
   "source": [
    "print (first_name[0]+\".\", last_name)\n",
    "print (company)\n",
    "print (address)\n",
    "print (city)"
   ]
  },
  {
   "cell_type": "code",
   "execution_count": 25,
   "id": "9b6ebe31-e5ce-487d-8bc1-fb9cced3cb22",
   "metadata": {},
   "outputs": [
    {
     "name": "stdout",
     "output_type": "stream",
     "text": [
      "4\n",
      "9\n"
     ]
    }
   ],
   "source": [
    "# calculate length\n",
    "print(len(first_name))\n",
    "print(len(last_name))"
   ]
  },
  {
   "cell_type": "code",
   "execution_count": 12,
   "id": "1a80461c-7a7b-4e85-9e2b-5551e2bdcd8a",
   "metadata": {},
   "outputs": [
    {
     "name": "stdout",
     "output_type": "stream",
     "text": [
      "Rooseleer, Yvan\n",
      "BiASC, Gravenbos 134, Liedekerke\n"
     ]
    }
   ],
   "source": [
    "print (last_name, first_name, sep=\", \")\n",
    "print (company, address, city, sep=\", \")"
   ]
  },
  {
   "cell_type": "code",
   "execution_count": 13,
   "id": "65a04561-34ce-4dfd-a49f-44db7b5f58ba",
   "metadata": {},
   "outputs": [
    {
     "name": "stdout",
     "output_type": "stream",
     "text": [
      "Y. Rooseleer\n",
      "BiASC, Gravenbosstraat 134, Brussel\n"
     ]
    }
   ],
   "source": [
    "print (first_name[0], last_name, sep = \". \")\n",
    "print (company, address, city, sep=\", \")"
   ]
  },
  {
   "cell_type": "code",
   "execution_count": 14,
   "id": "719bce3a-a3ee-4900-94be-94cc352457d1",
   "metadata": {},
   "outputs": [
    {
     "name": "stdout",
     "output_type": "stream",
     "text": [
      "YRoosel\n"
     ]
    }
   ],
   "source": [
    "# STEP 5 username\n",
    "first_name = \"Yvan\"\n",
    "last_name = \"Rooseleer\"\n",
    "company = \"BiASC\"\n",
    "address = \"Gravenbosstraat 134\"\n",
    "city = \"Brussel\"\n",
    "\n",
    "user_name = first_name[0] +last_name[0:6]\n",
    "print(user_name)\n",
    "#user_name = user_name.lower()\n",
    "#print(user_name)"
   ]
  },
  {
   "cell_type": "code",
   "execution_count": 15,
   "id": "b7d317b0-7d58-4d05-bb7b-6764d1b7865c",
   "metadata": {},
   "outputs": [
    {
     "name": "stdout",
     "output_type": "stream",
     "text": [
      "yroosel\n"
     ]
    }
   ],
   "source": [
    "# STEP 5 bis username\n",
    "first_name = \"Yvan\"\n",
    "last_name = \"Rooseleer\"\n",
    "company = \"BiASC\"\n",
    "address = \"Gravenbosstraat 134\"\n",
    "city = \"Brussel\"\n",
    "\n",
    "user_name = first_name[0] +last_name[0:6]\n",
    "user_name = user_name.lower()  # of upper()\n",
    "print(user_name)\n"
   ]
  },
  {
   "cell_type": "markdown",
   "id": "c9e24b31-7200-42a7-9fcb-a1c56d6ef6c7",
   "metadata": {},
   "source": [
    "**Length of the hypotenuse**\n",
    "\n",
    "Pythagorean formula\n"
   ]
  },
  {
   "cell_type": "code",
   "execution_count": 16,
   "id": "5a642331-6368-4da8-9341-2ff04607b9fa",
   "metadata": {},
   "outputs": [
    {
     "name": "stdout",
     "output_type": "stream",
     "text": [
      "c = 5.0\n"
     ]
    }
   ],
   "source": [
    "a = 3.0\n",
    "b = 4.0\n",
    "c = (a ** 2 + b ** 2) ** 0.5\n",
    "print(\"c =\", c)"
   ]
  },
  {
   "cell_type": "code",
   "execution_count": 4,
   "id": "76cf0bef-56f6-4bef-97e5-dc354ca8b54c",
   "metadata": {},
   "outputs": [
    {
     "name": "stdout",
     "output_type": "stream",
     "text": [
      "c = 5.0\n"
     ]
    }
   ],
   "source": [
    "# new\n",
    "# it is recommended to use parentheses for clarity in expressions \n",
    "a = 3.0\n",
    "b = 4.0\n",
    "c = ((a ** 2) + (b ** 2)) ** 0.5\n",
    "print(\"c =\", c)"
   ]
  },
  {
   "cell_type": "code",
   "execution_count": 29,
   "id": "e195ba27-b20a-40cd-953e-d07676237256",
   "metadata": {},
   "outputs": [
    {
     "name": "stdin",
     "output_type": "stream",
     "text": [
      "Enter the value of a:  2\n",
      "Enter the value of b:  2\n"
     ]
    },
    {
     "name": "stdout",
     "output_type": "stream",
     "text": [
      "<class 'str'>\n",
      "<class 'str'>\n",
      "<class 'float'>\n",
      "<class 'float'>\n",
      "c = 2.8284271247461903\n"
     ]
    }
   ],
   "source": [
    "# new: Ask the user for input\n",
    "a = input(\"Enter the value of a: \")\n",
    "b = input(\"Enter the value of b: \")\n",
    "print(type(a))\n",
    "print(type(b))\n",
    "a = float(a)\n",
    "b = float(b)\n",
    "print(type(a))\n",
    "print(type(b))\n",
    "# Calculate the hypotenuse c using the Pythagorean theorem\n",
    "c = ((a ** 2) + (b ** 2)) ** 0.5\n",
    "\n",
    "# Display the result\n",
    "print(\"c =\", c)"
   ]
  },
  {
   "cell_type": "markdown",
   "id": "028957d6-628b-4aa7-bbd4-c2b486e6113c",
   "metadata": {},
   "source": [
    "**Simple converter**"
   ]
  },
  {
   "cell_type": "code",
   "execution_count": 17,
   "id": "289a1341-9c7e-44b7-96e6-cb6134ea98ca",
   "metadata": {},
   "outputs": [
    {
     "name": "stdout",
     "output_type": "stream",
     "text": [
      "26.4 miles is 42.5 kilometers\n",
      "42.15 kilometers is 26.18 miles\n"
     ]
    }
   ],
   "source": [
    "kilometers = 42.150\n",
    "miles = 26.4\n",
    "\n",
    "miles_to_kilometers = miles * 1.61\n",
    "kilometers_to_miles = kilometers / 1.61\n",
    "\n",
    "print(miles, \"miles is\", round(miles_to_kilometers, 2), \"kilometers\")\n",
    "print(kilometers, \"kilometers is\", round(kilometers_to_miles, 2), \"miles\")\n"
   ]
  },
  {
   "cell_type": "code",
   "execution_count": 47,
   "id": "e9ad833f-f71b-4128-a6a1-e306078c84ac",
   "metadata": {},
   "outputs": [
    {
     "name": "stdin",
     "output_type": "stream",
     "text": [
      "Enter distance in kilometers:  2.5\n",
      "Enter distance in miles:  2\n"
     ]
    },
    {
     "name": "stdout",
     "output_type": "stream",
     "text": [
      "2.0 miles is 3.22 kilometers\n",
      "2.5 kilometers is 1.55 miles\n"
     ]
    }
   ],
   "source": [
    "# new: Get input from the user\n",
    "kilometers = float(input(\"Enter distance in kilometers: \"))\n",
    "miles = float(input(\"Enter distance in miles: \"))\n",
    "\n",
    "# Perform conversions\n",
    "miles_to_kilometers = miles * 1.61\n",
    "kilometers_to_miles = kilometers / 1.61\n",
    "\n",
    "# Display results\n",
    "print(miles, \"miles is\", round(miles_to_kilometers, 2), \"kilometers\")\n",
    "print(kilometers, \"kilometers is\", round(kilometers_to_miles, 2), \"miles\")"
   ]
  },
  {
   "cell_type": "markdown",
   "id": "469fbf2d-b000-4dd7-8064-0e9c244226a6",
   "metadata": {},
   "source": [
    "**Datetime**"
   ]
  },
  {
   "cell_type": "code",
   "execution_count": 16,
   "id": "8cb55507-01e1-44dc-aea5-0d9f17d81c80",
   "metadata": {},
   "outputs": [
    {
     "name": "stdout",
     "output_type": "stream",
     "text": [
      "Current date and time: 2025-05-10 12:08:39.476333\n"
     ]
    }
   ],
   "source": [
    "# DATETIME STEP 1\n",
    "# using a function to simplify coding\n",
    "from datetime import datetime\n",
    "now = datetime.now()\n",
    "print(\"Current date and time:\", now)"
   ]
  },
  {
   "cell_type": "code",
   "execution_count": 18,
   "id": "c5e8fca8-1240-49bc-97d4-0eba355a4acb",
   "metadata": {},
   "outputs": [
    {
     "name": "stdout",
     "output_type": "stream",
     "text": [
      "Europe/Brussels\n"
     ]
    }
   ],
   "source": [
    "# DATETIME STEP 2\n",
    "from datetime import datetime\n",
    "from zoneinfo import ZoneInfo  # Only available in Python 3.9+\n",
    "\n",
    "# Choose a timezone\n",
    "tz = ZoneInfo(\"Europe/Brussels\")\n",
    "print (tz)\n"
   ]
  },
  {
   "cell_type": "code",
   "execution_count": 51,
   "id": "ce48554c-457c-44a5-b84a-745f7f585e6d",
   "metadata": {},
   "outputs": [
    {
     "name": "stdout",
     "output_type": "stream",
     "text": [
      "Date: 13 May 2025\n",
      "Time: 13:25 America/Paramaribo\n"
     ]
    }
   ],
   "source": [
    "# DATETIME STEP 2 bis\n",
    "# using timezone to improve date management\n",
    "from datetime import datetime\n",
    "from zoneinfo import ZoneInfo  # Only available in Python 3.9+\n",
    "\n",
    "# Choose a timezone\n",
    "tz = ZoneInfo(\"America/Paramaribo\")\n",
    "\n",
    "# Get current date and time in that timezone\n",
    "now = datetime.now(tz)\n",
    "\n",
    "# Format the date and time\n",
    "MyOS = \"Windows\"\n",
    "if MyOS == \"Windows\":\n",
    "    # Use %#d for Windows; if on Linux/macOS, you can use %-d instead\n",
    "    formatted_date = now.strftime(\"%#d %B %Y\")\n",
    "    formatted_time = now.strftime(\"%H:%M\")\n",
    "else:  \n",
    "    # Use %#d for Windows; if on Linux/macOS, you can use %-d instead\n",
    "    formatted_date = now.strftime(\"%-d %B %Y\")     # e.g. 7 May 2025 (on Unix/macOS)\n",
    "    formatted_time = now.strftime(\"%H:%M\")         # e.g. 13:16\n",
    "# Print the result\n",
    "print(f\"Date: {formatted_date}\")\n",
    "print(f\"Time: {formatted_time} {tz.key}\")"
   ]
  },
  {
   "cell_type": "markdown",
   "id": "ee3c933a-73c6-488f-8ed8-1da60b6f04e6",
   "metadata": {},
   "source": [
    "**Calculating Minutes**"
   ]
  },
  {
   "cell_type": "code",
   "execution_count": 22,
   "id": "941bf70d-134c-4a36-821f-99d07f3f0b57",
   "metadata": {},
   "outputs": [
    {
     "name": "stdout",
     "output_type": "stream",
     "text": [
      "Resultaat: 2:30 is gelijk aan 150 minuten\n"
     ]
    }
   ],
   "source": [
    "## STEP 1\n",
    "## CONVERT HH:MI TO MINUTES\n",
    "## Verander de namen van de variabelen voor meer leesbaarheid\n",
    "HH = 2 # uren\n",
    "MM = 30 # minuten\n",
    "MINS = (HH * 60) + MM # berekend aantal minuten\n",
    "print (\"Resultaat: \" , HH, \":\", MM ,\" is gelijk aan\" , sep=\"\", end=\" \")\n",
    "print(MINS, \"minuten\", sep=\" \")"
   ]
  },
  {
   "cell_type": "code",
   "execution_count": 23,
   "id": "67279b3e-eb49-48b8-9cbf-117301e809a1",
   "metadata": {},
   "outputs": [
    {
     "name": "stdout",
     "output_type": "stream",
     "text": [
      "Result: 1:30:10 is 5410 seconds\n"
     ]
    }
   ],
   "source": [
    "## STEP 2\n",
    "## CONVERT HH MIN SEC TO SECONDS\n",
    "HH = 1\n",
    "MM = 30\n",
    "SS = 10\n",
    "SEC = (HH * 60 * 60) + (MM * 60) + SS\n",
    "print (\"Result: \" , HH, \":\", MM , \":\", SS , \" is\" , sep=\"\", end=\" \")\n",
    "print(SEC, \"seconds\", sep=\" \")"
   ]
  },
  {
   "cell_type": "code",
   "execution_count": 25,
   "id": "a588cb6f-f13b-4b4a-87ed-46f786aedb67",
   "metadata": {},
   "outputs": [
    {
     "name": "stdin",
     "output_type": "stream",
     "text": [
      "How  many hours? (0-48) 12\n",
      "How  many minutes? (0-59) 12\n",
      "How  many seconds? (0-59) 12\n"
     ]
    },
    {
     "name": "stdout",
     "output_type": "stream",
     "text": [
      "Result: 12:12:12 is 43932 seconds\n"
     ]
    }
   ],
   "source": [
    "## STEP 3\n",
    "## CONVERT HH MIN SEC TO SECONDS : INTERACTIVE\n",
    "HH = int(input(\"How  many hours? (0-48)\"))\n",
    "MM = int(input(\"How  many minutes? (0-59)\"))\n",
    "SS = int(input(\"How  many seconds? (0-59)\"))\n",
    "SEC = (HH * 60 * 60) + (MM * 60) + SS\n",
    "print (\"Result: \" , HH, \":\", MM , \":\", SS , \" is\" , sep=\"\", end=\" \")\n",
    "print(SEC, \"seconds\", sep=\" \")"
   ]
  },
  {
   "cell_type": "code",
   "execution_count": 2,
   "id": "af14e204-689c-4c77-a7e3-bf0bed63d481",
   "metadata": {},
   "outputs": [
    {
     "name": "stdout",
     "output_type": "stream",
     "text": [
      "Start of the program\n",
      "Note: Program will crash if you enter a letter instead of a number)\n"
     ]
    },
    {
     "name": "stdin",
     "output_type": "stream",
     "text": [
      "How many hours? (0–48):  2\n",
      "How many minutes? (0–59):  2\n",
      "How many seconds? (0–59):  2\n"
     ]
    },
    {
     "name": "stdout",
     "output_type": "stream",
     "text": [
      "Result: 2:2:2 is 7322 seconds\n",
      "End of the program\n"
     ]
    }
   ],
   "source": [
    "## STEP 4 -- NOT FINISHED !\n",
    "## integers expected as input\n",
    "## if user enters invalid input program will crash; \n",
    "print(\"Start of the program\")\n",
    "print(\"Note: Program will crash if you enter a letter instead of a number)\")\n",
    "\n",
    "user_input = input(\"How many hours? (0–48): \")\n",
    "HH = int(user_input)\n",
    "if HH < 0 or HH > 48: \n",
    "    HH = 0\n",
    "\n",
    "user_input = input(\"How many minutes? (0–59): \")\n",
    "MM = int(user_input)\n",
    "if MM < 0 or MM > 59: \n",
    "    MM = 0\n",
    "\n",
    "user_input = input(\"How many seconds? (0–59): \")\n",
    "SS = int(user_input)\n",
    "if SS < 0 or SS > 59: \n",
    "    SS = 0\n",
    "\n",
    "SEC = (HH * 60 * 60) + (MM * 60) + SS\n",
    "\n",
    "print(\"Result: \", HH, \":\", MM, \":\", SS, \" is\", sep=\"\", end=\" \")\n",
    "print(SEC, \"seconds\", sep=\" \")\n",
    "print(\"End of the program\")"
   ]
  },
  {
   "cell_type": "code",
   "execution_count": 57,
   "id": "c283c8e7-2831-4c74-98c7-3b4f72eab83b",
   "metadata": {},
   "outputs": [
    {
     "name": "stdout",
     "output_type": "stream",
     "text": [
      "Start of the program\n",
      "All invalid input will be converted to a zero (0) value\n"
     ]
    },
    {
     "name": "stdin",
     "output_type": "stream",
     "text": [
      "How many hours? (0–48):  1\n",
      "How many minutes? (0–59):  1\n",
      "How many seconds? (0–59):  C\n"
     ]
    },
    {
     "name": "stdout",
     "output_type": "stream",
     "text": [
      "Result: 1:1:0 is 3660 seconds\n",
      "End of the program\n"
     ]
    }
   ],
   "source": [
    "## STEP 4b new\n",
    "## convert invalid input (non-integer or out-of-range) to 0\n",
    "print(\"Start of the program\")\n",
    "print(\"All invalid input will be converted to a zero (0) value\")\n",
    "\n",
    "user_input = input(\"How many hours? (0–48): \")\n",
    "if user_input.isdigit():\n",
    "    HH = int(user_input)\n",
    "    if HH < 0 or HH > 48:\n",
    "        HH = 0\n",
    "else:\n",
    "    HH = 0\n",
    "\n",
    "user_input = input(\"How many minutes? (0–59): \")\n",
    "if user_input.isdigit():\n",
    "    MM = int(user_input)\n",
    "    if MM < 0 or MM > 59:\n",
    "        MM = 0\n",
    "else:\n",
    "    MM = 0\n",
    "\n",
    "user_input = input(\"How many seconds? (0–59): \")\n",
    "if user_input.isdigit():\n",
    "    SS = int(user_input)\n",
    "    if SS < 0 or SS > 59:\n",
    "        SS = 0\n",
    "else:\n",
    "    SS = 0\n",
    "\n",
    "SEC = (HH * 60 * 60) + (MM * 60) + SS\n",
    "\n",
    "print(\"Result: \", HH, \":\", MM, \":\", SS, \" is\", sep=\"\", end=\" \")\n",
    "print(SEC, \"seconds\", sep=\" \")\n",
    "print(\"End of the program\")"
   ]
  },
  {
   "cell_type": "code",
   "execution_count": 54,
   "id": "c368163d-c1e9-4c87-b0b9-6c807b0c516b",
   "metadata": {},
   "outputs": [
    {
     "name": "stdout",
     "output_type": "stream",
     "text": [
      "Start of the program\n",
      "Note: Any invalid input will automatically be changed to 0.\n"
     ]
    },
    {
     "name": "stdin",
     "output_type": "stream",
     "text": [
      "How many hours? (0–48):  0\n",
      "How many minutes? (0–59):  0\n",
      "How many seconds? (0–59):  a\n"
     ]
    },
    {
     "name": "stdout",
     "output_type": "stream",
     "text": [
      "Result: 0:0:0 is 0 seconds\n",
      "End of the program\n"
     ]
    }
   ],
   "source": [
    "## STEP 4c new\n",
    "## Functions make code more readable\n",
    "\n",
    "print(\"Start of the program\")\n",
    "print(\"Note: Any invalid input will automatically be changed to 0.\")\n",
    "\n",
    "def get_valid_input(prompt, min_val, max_val):\n",
    "    user_input = input(prompt)\n",
    "    if user_input.isdigit():\n",
    "        val = int(user_input)\n",
    "        if min_val <= val <= max_val:\n",
    "            return val\n",
    "    return 0\n",
    "\n",
    "HH = get_valid_input(\"How many hours? (0–48): \", 0, 48)\n",
    "MM = get_valid_input(\"How many minutes? (0–59): \", 0, 59)\n",
    "SS = get_valid_input(\"How many seconds? (0–59): \", 0, 59)\n",
    "\n",
    "SEC = (HH * 60 * 60) + (MM * 60) + SS\n",
    "\n",
    "print(\"Result: \", HH, \":\", MM, \":\", SS, \" is\", sep=\"\", end=\" \")\n",
    "print(SEC, \"seconds\", sep=\" \")\n",
    "print(\"End of the program\")"
   ]
  },
  {
   "cell_type": "code",
   "execution_count": 53,
   "id": "22262147-ef0a-4501-ae68-1903e6d3a517",
   "metadata": {},
   "outputs": [
    {
     "name": "stdout",
     "output_type": "stream",
     "text": [
      "Start of the program\n",
      "Note: Any invalid input will automatically be changed to 0.\n"
     ]
    },
    {
     "name": "stdin",
     "output_type": "stream",
     "text": [
      "How many hours? (0–48):  1\n",
      "How many minutes? (0–59):  1\n",
      "How many seconds? (0–59):  a\n"
     ]
    },
    {
     "name": "stdout",
     "output_type": "stream",
     "text": [
      "Result: 1:1:0 is 3660 seconds\n",
      "End of the program\n"
     ]
    }
   ],
   "source": [
    "## STEP 4d new\n",
    "## Improving code to avoid program crashing\n",
    "## try...except construction to change invalid inputs into zero (0)\n",
    "\n",
    "print(\"Start of the program\")\n",
    "print(\"Note: Any invalid input will automatically be changed to 0.\")\n",
    "\n",
    "def get_valid_input(prompt, min_val, max_val):\n",
    "    try:\n",
    "        val = int(input(prompt))\n",
    "        if min_val <= val <= max_val:\n",
    "            return val\n",
    "        else:\n",
    "            return 0\n",
    "    except:\n",
    "        return 0\n",
    "\n",
    "HH = get_valid_input(\"How many hours? (0–48): \", 0, 48)\n",
    "MM = get_valid_input(\"How many minutes? (0–59): \", 0, 59)\n",
    "SS = get_valid_input(\"How many seconds? (0–59): \", 0, 59)\n",
    "\n",
    "SEC = (HH * 60 * 60) + (MM * 60) + SS\n",
    "\n",
    "print(\"Result: \", HH, \":\", MM, \":\", SS, \" is\", sep=\"\", end=\" \")\n",
    "print(SEC, \"seconds\", sep=\" \")\n",
    "print(\"End of the program\")"
   ]
  },
  {
   "cell_type": "code",
   "execution_count": 56,
   "id": "37dbed9b-93b1-4b7f-9773-fe1adb131e4f",
   "metadata": {},
   "outputs": [
    {
     "name": "stdout",
     "output_type": "stream",
     "text": [
      "Start of the program\n",
      "Note: Any invalid input will automatically be changed to 0.\n"
     ]
    },
    {
     "name": "stdin",
     "output_type": "stream",
     "text": [
      "How many hours? (0–48):  1\n",
      "How many minutes? (0–59):  1\n",
      "How many seconds? (0–59):  X\n"
     ]
    },
    {
     "name": "stdout",
     "output_type": "stream",
     "text": [
      "Result: 01:01:00 is 3660 seconds\n",
      "End of the program\n"
     ]
    }
   ],
   "source": [
    "## STEP 4e new\n",
    "## Logic is separated into a convert_time_to_seconds() function\n",
    "## More reusable; calculation logic is encapsulated in a function\n",
    "## Formatting of the output is more generic, using an f-string\n",
    "\n",
    "def get_valid_input(prompt, min_val, max_val):\n",
    "    try:\n",
    "        val = int(input(prompt))\n",
    "        if min_val <= val <= max_val:\n",
    "            return val\n",
    "        else:\n",
    "            return 0\n",
    "    except:\n",
    "        return 0\n",
    "\n",
    "def convert_time_to_seconds():\n",
    "    HH = get_valid_input(\"How many hours? (0–48): \", 0, 48)\n",
    "    MM = get_valid_input(\"How many minutes? (0–59): \", 0, 59)\n",
    "    SS = get_valid_input(\"How many seconds? (0–59): \", 0, 59)\n",
    "\n",
    "    SEC = (HH * 60 * 60) + (MM * 60) + SS\n",
    "    print(f\"Result: {HH:02}:{MM:02}:{SS:02} is {SEC} seconds\")\n",
    "\n",
    "# Run the program\n",
    "print(\"Start of the program\")\n",
    "print(\"Note: Any invalid input will automatically be changed to 0.\")\n",
    "convert_time_to_seconds()\n",
    "print(\"End of the program\")\n"
   ]
  },
  {
   "cell_type": "code",
   "execution_count": 58,
   "id": "d51a0801-2162-49ff-be12-48c2d38c7697",
   "metadata": {},
   "outputs": [
    {
     "name": "stdout",
     "output_type": "stream",
     "text": [
      "Start of the program\n",
      "Press Enter at any time to stop.\n"
     ]
    },
    {
     "name": "stdin",
     "output_type": "stream",
     "text": [
      "How many hours? (0–48):  \n"
     ]
    },
    {
     "name": "stdout",
     "output_type": "stream",
     "text": [
      "End of the program\n"
     ]
    }
   ],
   "source": [
    "## STEP 4f new\n",
    "## Input stops immediately if user presses \"enter\"\n",
    "## Output format: always two digits (e.g. 01:01:01)\n",
    "## Writing code that considers possible errors is always more complex\n",
    "\n",
    "def get_valid_input(prompt, min_val, max_val):\n",
    "    while True:\n",
    "        user_input = input(prompt)\n",
    "        if user_input == \"\":\n",
    "            return None  # stop bij Enter\n",
    "        try:\n",
    "            val = int(user_input)\n",
    "            if min_val <= val <= max_val:\n",
    "                return val\n",
    "            else:\n",
    "                print(f\"Please enter a value between {min_val} and {max_val}, or press Enter to stop.\")\n",
    "        except ValueError:\n",
    "            print(\"Invalid input. Please enter a number or press Enter to stop.\")\n",
    "\n",
    "def convert_time_to_seconds():\n",
    "    HH = get_valid_input(\"How many hours? (0–48): \", 0, 48)\n",
    "    if HH is None:\n",
    "        return\n",
    "\n",
    "    MM = get_valid_input(\"How many minutes? (0–59): \", 0, 59)\n",
    "    if MM is None:\n",
    "        return\n",
    "\n",
    "    SS = get_valid_input(\"How many seconds? (0–59): \", 0, 59)\n",
    "    if SS is None:\n",
    "        return\n",
    "\n",
    "    SEC = (HH * 60 * 60) + (MM * 60) + SS\n",
    "    print(f\"Result: {HH:02}:{MM:02}:{SS:02} is {SEC} seconds\")\n",
    "\n",
    "# Run the program\n",
    "print(\"Start of the program\")\n",
    "print(\"Press Enter at any time to stop.\")\n",
    "convert_time_to_seconds()\n",
    "print(\"End of the program\")\n"
   ]
  },
  {
   "cell_type": "code",
   "execution_count": 53,
   "id": "64d3ab8f-e4b4-45e1-989f-9919320053e7",
   "metadata": {},
   "outputs": [
    {
     "name": "stdout",
     "output_type": "stream",
     "text": [
      "Start of the program\n"
     ]
    },
    {
     "name": "stdin",
     "output_type": "stream",
     "text": [
      "How many hours? (0–48, 99 to quit):  50\n"
     ]
    },
    {
     "name": "stdout",
     "output_type": "stream",
     "text": [
      "Please enter a value between 0 and 48, or 99 to quit.\n"
     ]
    },
    {
     "name": "stdin",
     "output_type": "stream",
     "text": [
      "How many hours? (0–48, 99 to quit):  48\n",
      "How many minutes? (0–59, 99 to quit):  99\n"
     ]
    },
    {
     "name": "stdout",
     "output_type": "stream",
     "text": [
      "End of the program\n"
     ]
    }
   ],
   "source": [
    "## STEP 5 - ORIGINAL SOLUTION USING 99\n",
    "## Input stops immediately if user enters 99\n",
    "## Output format: always two digits (e.g. 01:01:01)\n",
    "## Writing code that considers possible errors is always more complex\n",
    "\n",
    "def get_valid_input(prompt, min_val, max_val):\n",
    "    while True:\n",
    "        try:\n",
    "            val = int(input(prompt))\n",
    "            if val == 99:\n",
    "                return 99\n",
    "            if min_val <= val <= max_val:\n",
    "                return val\n",
    "            else:\n",
    "                print(f\"Please enter a value between {min_val} and {max_val}, or 99 to quit.\")\n",
    "        except ValueError:\n",
    "            print(\"Invalid input. Please enter a number.\")\n",
    "\n",
    "def convert_time_to_seconds():\n",
    "    HH = get_valid_input(\"How many hours? (0–48, 99 to quit): \", 0, 48)\n",
    "    if HH == 99:\n",
    "        return  # stop immediately\n",
    "\n",
    "    MM = get_valid_input(\"How many minutes? (0–59, 99 to quit): \", 0, 59)\n",
    "    if MM == 99:\n",
    "        return  # stop immediately\n",
    "\n",
    "    SS = get_valid_input(\"How many seconds? (0–59, 99 to quit): \", 0, 59)\n",
    "    if SS == 99:\n",
    "        return  # stop immediately\n",
    "\n",
    "    # only executed if all inputs are valid (not 99)\n",
    "    SEC = (HH * 60 * 60) + (MM * 60) + SS\n",
    "    print(f\"Result: {HH:02}:{MM:02}:{SS:02} is {SEC} seconds\")\n",
    "\n",
    "# Run the program\n",
    "print(\"Start of the program\")\n",
    "convert_time_to_seconds()\n",
    "print(\"End of the program\")"
   ]
  },
  {
   "cell_type": "code",
   "execution_count": 55,
   "id": "1e659ce0-1da6-47b1-a348-c95a13fb3752",
   "metadata": {},
   "outputs": [
    {
     "name": "stdout",
     "output_type": "stream",
     "text": [
      "12\n",
      "1024\n"
     ]
    }
   ],
   "source": [
    "print(2+10)\n",
    "print(2**10)"
   ]
  },
  {
   "cell_type": "code",
   "execution_count": 67,
   "id": "ef8bfeb4-c634-47f3-816c-76dba36763f1",
   "metadata": {},
   "outputs": [
    {
     "name": "stdout",
     "output_type": "stream",
     "text": [
      "Het resultaat van de optelling van 10 en 20 is 30\n"
     ]
    }
   ],
   "source": [
    "def add(n1,n2):\n",
    "    return n1+n2\n",
    "\n",
    "def optellen(n1,n2):\n",
    "    return n1+n2\n",
    " \n",
    "def subtract(n1, n2):\n",
    "    return n1-n2\n",
    "\n",
    "def multiply(n1, n2):\n",
    "    return n1*n2\n",
    "\n",
    "def divide(n1, n2):\n",
    "    if n2 != 0:\n",
    "        return n1/n2\n",
    "    else:\n",
    "        return (\"Error: Division by Zero\")\n",
    "\n",
    "def main():\n",
    "    v1 = 10\n",
    "    v2 = 20\n",
    "    print (\"Het resultaat van de optelling van\", v1, \"en\",  v2, \"is\", add(v1,v2))\n",
    "    #print (subtract(2,2))\n",
    "    #print (multiply(2,2)\n",
    "    #print (divide(2,2))\n",
    "\n",
    "if __name__ == \"__main__\":\n",
    "   main()"
   ]
  },
  {
   "cell_type": "code",
   "execution_count": 75,
   "id": "b61f5239-c858-4bf9-8ab8-f2d81016ba40",
   "metadata": {},
   "outputs": [
    {
     "name": "stdout",
     "output_type": "stream",
     "text": [
      "True\n",
      "False\n",
      "1\n",
      "0\n",
      "True\n",
      "False\n",
      "False\n",
      "<class 'int'>\n",
      "<class 'bool'>\n",
      "<class 'NoneType'>\n"
     ]
    }
   ],
   "source": [
    "print(True > False)\n",
    "print(True < False)\n",
    "print(int(True))\n",
    "print(int(False))\n",
    "print(1==1)\n",
    "print(1==0)\n",
    "print(True==False)\n",
    "print(type(1))\n",
    "print(type(True))\n",
    "print(type(None))\n"
   ]
  },
  {
   "cell_type": "code",
   "execution_count": 99,
   "id": "fdcf5cbb-1481-4dcd-b0fe-1def994f7410",
   "metadata": {},
   "outputs": [
    {
     "name": "stdout",
     "output_type": "stream",
     "text": [
      "Name                      Age in 2025 \n",
      "----------------------------------------\n",
      "Bakker, P.                54          \n",
      "Baldewsingh, S.           65          \n",
      "Jansen, K.                72          \n",
      "Jansen, P.                67          \n",
      "Jansen, P.                21          \n",
      "Jansen, S.                9           \n",
      "Kalloe, S.                26          \n",
      "Kalloe, S.                9           \n",
      "Meijer, J.                7           \n",
      "Meijer, K.                64          \n",
      "Meijer, S.                32          \n",
      "Monifa, C.                12          \n",
      "Monifa, C.                75          \n",
      "Pinas, A.                 69          \n",
      "Ramdien, C.               59          \n",
      "Visser, K.                59          \n",
      "Visser, S.                0           \n",
      "Visser, S.                50          \n",
      "de Vries, E.              25          \n",
      "de Vries, J.              51          \n",
      "Total names: 20\n"
     ]
    }
   ],
   "source": [
    "# Sort names\n",
    "import csv\n",
    "\n",
    "# File to read\n",
    "filename = \"netherlands_suriname_names.csv\"\n",
    "\n",
    "# Read all rows into a list of dictionaries\n",
    "with open(filename, mode=\"r\", newline=\"\") as file:\n",
    "    reader = csv.DictReader(file)\n",
    "    people = list(reader)\n",
    "\n",
    "# Sort the list by last name, then by first name\n",
    "people.sort(key=lambda person: (person[\"Last Name\"], person[\"First Name\"]))\n",
    "\n",
    "# Display the header\n",
    "print(f\"{'Name':<25} {'Age in 2025':<12}\")\n",
    "print(\"-\" * 40)\n",
    "\n",
    "# Process and display each entry\n",
    "for person in people:\n",
    "    last_name = person[\"Last Name\"]\n",
    "    first_name = person[\"First Name\"]\n",
    "    birth_year = int(person[\"Birth Year\"])\n",
    "\n",
    "    # Format: Last Name, F.\n",
    "    initial = first_name[0] + \".\" if first_name else \"\"\n",
    "    formatted_name = f\"{last_name}, {initial}\"\n",
    "\n",
    "    # Calculate age in 2025\n",
    "    age_2025 = 2025 - birth_year\n",
    "\n",
    "    print(f\"{formatted_name:<25} {age_2025:<12}\")\n",
    "    \n",
    "# Display how many\n",
    "how_many = len(people)\n",
    "print(f\"Total names: {how_many}\")"
   ]
  },
  {
   "cell_type": "code",
   "execution_count": null,
   "id": "aeb0b0f1-3b05-4d2b-bbf8-7352dbdd1ea5",
   "metadata": {},
   "outputs": [],
   "source": [
    "# Display age of persons\n",
    "import csv\n",
    "\n",
    "# File to read\n",
    "filename = \"netherlands_suriname_names.csv\"\n",
    "\n",
    "# Read and process the CSV file\n",
    "with open(filename, mode=\"r\", newline=\"\") as file:\n",
    "    reader = csv.DictReader(file)\n",
    "    \n",
    "    print(f\"{'Name':<25} {'Age in 2025':<12}\")\n",
    "    print(\"-\" * 40)\n",
    "    \n",
    "    for row in reader:\n",
    "        last_name = row[\"Last Name\"]\n",
    "        first_name = row[\"First Name\"]\n",
    "        birth_year = int(row[\"Birth Year\"])\n",
    "        \n",
    "        # Format name as: Last Name, F.\n",
    "        initial = first_name[0] + \".\" if first_name else \"\"\n",
    "        formatted_name = f\"{last_name}, {initial}\"\n",
    "        \n",
    "        # Calculate age\n",
    "        age_2025 = 2025 - birth_year\n",
    "        \n",
    "        print(f\"{formatted_name:<25} {age_2025:<12}\")\n",
    "        "
   ]
  }
 ],
 "metadata": {
  "kernelspec": {
   "display_name": "Python [conda env:base] *",
   "language": "python",
   "name": "conda-base-py"
  },
  "language_info": {
   "codemirror_mode": {
    "name": "ipython",
    "version": 3
   },
   "file_extension": ".py",
   "mimetype": "text/x-python",
   "name": "python",
   "nbconvert_exporter": "python",
   "pygments_lexer": "ipython3",
   "version": "3.11.11"
  }
 },
 "nbformat": 4,
 "nbformat_minor": 5
}
