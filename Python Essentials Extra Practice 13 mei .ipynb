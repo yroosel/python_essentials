{
 "cells": [
  {
   "cell_type": "markdown",
   "id": "85d50764-850f-4fd2-8ac6-55fd984f7cf3",
   "metadata": {},
   "source": [
    "# Praktijkvoorbeelden 13 mei"
   ]
  },
  {
   "cell_type": "code",
   "execution_count": 4,
   "id": "6e3f2049-8ca2-4263-82b4-fddcd535e2a2",
   "metadata": {},
   "outputs": [],
   "source": [
    "# Print de datum van vandaag"
   ]
  },
  {
   "cell_type": "code",
   "execution_count": 2,
   "id": "6014d6ad-9faf-4c30-b55c-bcac52ccc81c",
   "metadata": {},
   "outputs": [
    {
     "name": "stdout",
     "output_type": "stream",
     "text": [
      "Current date and time: 2025-05-13 18:18:53.584529\n"
     ]
    }
   ],
   "source": [
    "from datetime import datetime\n",
    "now = datetime.now()\n",
    "print(\"Current date and time:\", now)"
   ]
  },
  {
   "cell_type": "code",
   "execution_count": 10,
   "id": "0a111e14-40f7-4f50-bb0e-4a8537bab00b",
   "metadata": {},
   "outputs": [
    {
     "name": "stdout",
     "output_type": "stream",
     "text": [
      "Date: 13 May 2025\n",
      "Time: 13:26 America/Paramaribo\n"
     ]
    }
   ],
   "source": [
    "# DATETIME STEP 2 bis\n",
    "# using timezone to improve date management\n",
    "from datetime import datetime\n",
    "from zoneinfo import ZoneInfo  # Only available in Python 3.9+\n",
    "\n",
    "# Choose a timezone\n",
    "# tz = ZoneInfo(\"Europe/Brussels\")\n",
    "tz = ZoneInfo(\"America/Paramaribo\")\n",
    "# Get current date and time in that timezone\n",
    "now = datetime.now(tz)\n",
    "# Format the date and time\n",
    "# Use %#d for Windows; if on Linux/macOS, you can use %-d instead\n",
    "formatted_date = now.strftime(\"%#d %B %Y\")\n",
    "formatted_time = now.strftime(\"%H:%M\")\n",
    "# Print the result\n",
    "print(f\"Date: {formatted_date}\")\n",
    "print(f\"Time: {formatted_time} {tz.key}\")"
   ]
  },
  {
   "cell_type": "code",
   "execution_count": 34,
   "id": "2a166bcf-9bde-4468-96b0-cecb48eaafce",
   "metadata": {},
   "outputs": [
    {
     "name": "stdin",
     "output_type": "stream",
     "text": [
      "Enter distance in kilometers:  10\n",
      "Enter distance in miles:  10\n"
     ]
    },
    {
     "name": "stdout",
     "output_type": "stream",
     "text": [
      "10.0 miles is 16.1 kilometers\n",
      "10.0 kilometers is 6.21 miles\n"
     ]
    }
   ],
   "source": [
    "# new: Get input from the user\n",
    "kilometers = float(input(\"Enter distance in kilometers: \"))\n",
    "miles = float(input(\"Enter distance in miles: \"))\n",
    "\n",
    "# Perform conversions\n",
    "miles_to_kilometers = miles * 1.61\n",
    "kilometers_to_miles = kilometers / 1.61\n",
    "\n",
    "# Display results\n",
    "print(miles, \"miles is\", round(miles_to_kilometers, 2), \"kilometers\")\n",
    "print(kilometers, \"kilometers is\", round(kilometers_to_miles, 2), \"miles\")"
   ]
  },
  {
   "cell_type": "code",
   "execution_count": 14,
   "id": "d02b373c-fabb-45cd-befc-88e646fd394e",
   "metadata": {},
   "outputs": [
    {
     "name": "stdout",
     "output_type": "stream",
     "text": [
      "Resultaat: 12:30 is gelijk aan 750 minuten\n"
     ]
    }
   ],
   "source": [
    "## STEP 1\n",
    "## CONVERT HH:MI TO MINUTES\n",
    "## Verander de namen van de variabelen voor meer leesbaarheid\n",
    "HH = 12 # uren\n",
    "MM = 30 # minuten\n",
    "MINS = (HH * 60) + MM # berekend aantal minuten\n",
    "print (\"Resultaat: \" , HH, \":\", MM ,\" is gelijk aan\" , sep=\"\", end=\" \")\n",
    "print(MINS, \"minuten\", sep=\" \")"
   ]
  },
  {
   "cell_type": "code",
   "execution_count": 28,
   "id": "cccf60d4-11d2-4e3c-95ad-4fbcb02ef6e1",
   "metadata": {},
   "outputs": [
    {
     "name": "stdin",
     "output_type": "stream",
     "text": [
      "How  many hours? (0-48) 2\n",
      "How  many minutes? (0-59) 2\n",
      "How  many seconds? (0-59) 2\n"
     ]
    },
    {
     "name": "stdout",
     "output_type": "stream",
     "text": [
      "Result: 2:2:2 is 7322 seconds\n"
     ]
    }
   ],
   "source": [
    "## STEP 3\n",
    "## CONVERT HH MIN SEC TO SECONDS : INTERACTIVE\n",
    "HH = int(input(\"How  many hours? (0-48)\"))\n",
    "MM = int(input(\"How  many minutes? (0-59)\"))\n",
    "SS = int(input(\"How  many seconds? (0-59)\"))\n",
    "SEC = (HH * 60 * 60) + (MM * 60) + SS\n",
    "print (\"Result: \" , HH, \":\", MM , \":\", SS , \" is\" , sep=\"\", end=\" \")\n",
    "print(SEC, \"seconds\", sep=\" \")"
   ]
  },
  {
   "cell_type": "code",
   "execution_count": 32,
   "id": "967d5278-992f-4114-b63a-3a9274e94ad7",
   "metadata": {},
   "outputs": [
    {
     "name": "stdout",
     "output_type": "stream",
     "text": [
      "Start of the program\n",
      "Note: Program will crash if you enter a letter instead of a number)\n"
     ]
    },
    {
     "name": "stdin",
     "output_type": "stream",
     "text": [
      "How many hours? (0–48):  100\n"
     ]
    },
    {
     "name": "stdout",
     "output_type": "stream",
     "text": [
      "Sorry, de input is fout\n"
     ]
    },
    {
     "name": "stdin",
     "output_type": "stream",
     "text": [
      "How many minutes? (0–59):  100\n",
      "How many seconds? (0–59):  100\n"
     ]
    },
    {
     "name": "stdout",
     "output_type": "stream",
     "text": [
      "Result: 0:0:0 is 0 seconds\n",
      "End of the program\n"
     ]
    }
   ],
   "source": [
    "## STEP 4 -- NOT FINISHED !\n",
    "## integers expected as input\n",
    "## if user enters invalid input program will crash; \n",
    "print(\"Start of the program\")\n",
    "print(\"Note: Program will crash if you enter a letter instead of a number)\")\n",
    "\n",
    "user_input = input(\"How many hours? (0–48): \")\n",
    "HH = int(user_input)\n",
    "if HH < 0 or HH > 48:\n",
    "    # print(\"Sorry, de input is fout\")\n",
    "    HH = 0\n",
    "\n",
    "user_input = input(\"How many minutes? (0–59): \")\n",
    "MM = int(user_input)\n",
    "if MM < 0 or MM > 59: \n",
    "    MM = 0\n",
    "\n",
    "user_input = input(\"How many seconds? (0–59): \")\n",
    "SS = int(user_input)\n",
    "if SS < 0 or SS > 59: \n",
    "    SS = 0\n",
    "\n",
    "SEC = (HH * 60 * 60) + (MM * 60) + SS\n",
    "\n",
    "print(\"Result: \", HH, \":\", MM, \":\", SS, \" is\", sep=\"\", end=\" \")\n",
    "print(SEC, \"seconds\", sep=\" \")\n",
    "print(\"End of the program\")"
   ]
  },
  {
   "cell_type": "code",
   "execution_count": 42,
   "id": "982570bf-4717-4c7c-9e94-97b64f97f064",
   "metadata": {},
   "outputs": [
    {
     "name": "stdout",
     "output_type": "stream",
     "text": [
      "True\n",
      "False\n",
      "1\n",
      "0\n",
      "True\n",
      "False\n",
      "False\n",
      "<class 'int'>\n",
      "<class 'bool'>\n",
      "<class 'NoneType'>\n"
     ]
    }
   ],
   "source": [
    "print(True > False)\n",
    "print(True < False)\n",
    "print(int(True))\n",
    "print(int(False))\n",
    "print(1==1)\n",
    "print(1==0)\n",
    "print(True==False)\n",
    "print(type(1))\n",
    "print(type(True))\n",
    "print(type(None))"
   ]
  },
  {
   "cell_type": "code",
   "execution_count": 40,
   "id": "8cd18528-ed1f-401e-b066-a2daece3a8ce",
   "metadata": {},
   "outputs": [
    {
     "name": "stdout",
     "output_type": "stream",
     "text": [
      "Naam:  None\n",
      "Naam:  \n"
     ]
    }
   ],
   "source": [
    "name = None\n",
    "print(\"Naam: \" , name)\n",
    "name = \"\" # empty string is invisible\n",
    "print(\"Naam: \" , name)\n"
   ]
  },
  {
   "cell_type": "code",
   "execution_count": 58,
   "id": "a3627651-5ce8-4054-981b-27cb736e11f0",
   "metadata": {},
   "outputs": [
    {
     "name": "stdout",
     "output_type": "stream",
     "text": [
      "False\n"
     ]
    }
   ],
   "source": [
    "print(None == \"\") "
   ]
  },
  {
   "cell_type": "code",
   "execution_count": 54,
   "id": "6bdfc335-5dda-4123-b148-dfaac381af28",
   "metadata": {},
   "outputs": [
    {
     "name": "stdin",
     "output_type": "stream",
     "text": [
      "What's your name? \n"
     ]
    },
    {
     "name": "stdout",
     "output_type": "stream",
     "text": [
      "Unknown\n"
     ]
    }
   ],
   "source": [
    "name = None # note the same as the empty string \"\"\n",
    "name = input(\"What's your name?\")\n",
    "if name != \"\":  \n",
    "    print(name)\n",
    "else: \n",
    "    print(\"Unknown\")"
   ]
  },
  {
   "cell_type": "code",
   "execution_count": 40,
   "id": "3423c94e-31a0-4712-af97-60b45a9d4855",
   "metadata": {},
   "outputs": [
    {
     "name": "stdout",
     "output_type": "stream",
     "text": [
      "Last Name,First Name,Birth Year\n"
     ]
    },
    {
     "ename": "TypeError",
     "evalue": "'list' object is not callable",
     "output_type": "error",
     "traceback": [
      "\u001b[1;31m---------------------------------------------------------------------------\u001b[0m",
      "\u001b[1;31mTypeError\u001b[0m                                 Traceback (most recent call last)",
      "Cell \u001b[1;32mIn[40], line 11\u001b[0m\n\u001b[0;32m      9\u001b[0m \u001b[38;5;66;03m# Iterate over remaining lines (skip header)\u001b[39;00m\n\u001b[0;32m     10\u001b[0m \u001b[38;5;28;01mfor\u001b[39;00m line \u001b[38;5;129;01min\u001b[39;00m lines[\u001b[38;5;241m1\u001b[39m:]:\n\u001b[1;32m---> 11\u001b[0m     \u001b[38;5;28mprint\u001b[39m (lines(line))\n",
      "\u001b[1;31mTypeError\u001b[0m: 'list' object is not callable"
     ]
    }
   ],
   "source": [
    "# Basic example 1\n",
    "filename = \"netherlands_suriname_names.csv\"\n",
    "\n",
    "with open(filename, \"r\", encoding=\"utf-8\") as file:\n",
    "    lines = file.read().splitlines()\n",
    "\n",
    "print(lines[0])\n",
    "print(lines[1])\n",
    "print(lines[])\n",
    "\n",
    "# Iterate over remaining lines (skip header)\n",
    "for line in lines[1:]:\n",
    "    print (lines(line))\n"
   ]
  },
  {
   "cell_type": "code",
   "execution_count": 30,
   "id": "821fda6b-490c-4875-8e1a-09c8573a60a1",
   "metadata": {},
   "outputs": [
    {
     "name": "stdout",
     "output_type": "stream",
     "text": [
      "Last Name,First Name,Birth Year\n",
      "Kalloe,Sunil,1999\n",
      "['Kalloe', 'Sunil', '1999']\n",
      "['Jansen', 'Piet', '1958']\n",
      "['Jansen', 'Sanne', '2016']\n",
      "['Visser', 'Sanne', '2025']\n",
      "['Monifa', 'Chandni', '2013']\n",
      "['Pinas', 'Anjali', '1956']\n",
      "['Meijer', 'Jan', '2018']\n",
      "['de Vries', 'Jan', '1974']\n",
      "['Jansen', 'Kees', '1953']\n",
      "['Visser', 'Sanne', '1975']\n",
      "['Meijer', 'Sanne', '1993']\n",
      "['Monifa', 'Chandni', '1950']\n",
      "['de Vries', 'Emma', '2000']\n",
      "['Baldewsingh', 'Shaquille', '1960']\n",
      "['Ramdien', 'Chandni', '1966']\n",
      "['Bakker', 'Piet', '1971']\n",
      "['Visser', 'Kees', '1966']\n",
      "['Jansen', 'Piet', '2004']\n",
      "['Meijer', 'Kees', '1961']\n",
      "['Kalloe', 'Sunil', '2016']\n",
      "Total names: 20\n"
     ]
    }
   ],
   "source": [
    "# Basic example 2\n",
    "filename = \"netherlands_suriname_names.csv\"\n",
    "\n",
    "with open(filename, \"r\", encoding=\"utf-8\") as file:\n",
    "    lines = file.read().splitlines()\n",
    "\n",
    "# First row (row zero) is the header\n",
    "header = lines[0].split(\",\")\n",
    "\n",
    "# Iterate over remaining lines (skip header)\n",
    "count = 0\n",
    "for line in lines[1:]:\n",
    "    fields = line.split(\",\")\n",
    "    print (fields)\n",
    "    count += 1\n",
    "\n",
    "# Display how many\n",
    "print(f\"Total names: {count}\")\n"
   ]
  },
  {
   "cell_type": "code",
   "execution_count": 2,
   "id": "bcaa7dd5-13c9-4ca4-b867-5d4e546acabf",
   "metadata": {},
   "outputs": [
    {
     "name": "stdout",
     "output_type": "stream",
     "text": [
      "Kalloe, Sunil, (1999)\n",
      "Jansen, Piet, (1958)\n",
      "Jansen, Sanne, (2016)\n",
      "Visser, Sanne, (2025)\n",
      "Monifa, Chandni, (2013)\n",
      "Pinas, Anjali, (1956)\n",
      "Meijer, Jan, (2018)\n",
      "de Vries, Jan, (1974)\n",
      "Jansen, Kees, (1953)\n",
      "Visser, Sanne, (1975)\n",
      "Meijer, Sanne, (1993)\n",
      "Monifa, Chandni, (1950)\n",
      "de Vries, Emma, (2000)\n",
      "Baldewsingh, Shaquille, (1960)\n",
      "Ramdien, Chandni, (1966)\n",
      "Bakker, Piet, (1971)\n",
      "Visser, Kees, (1966)\n",
      "Jansen, Piet, (2004)\n",
      "Meijer, Kees, (1961)\n",
      "Kalloe, Sunil, (2016)\n",
      "Total names: 20\n"
     ]
    }
   ],
   "source": [
    "# Added security\n",
    "filename = \"netherlands_suriname_names.csv\"\n",
    "\n",
    "with open(filename, \"r\", encoding=\"utf-8\") as file:\n",
    "    lines = file.read().splitlines()\n",
    "\n",
    "# First row (row zero) is the header\n",
    "header = lines[0].split(\",\")\n",
    "first_name_index = header.index(\"First Name\")\n",
    "last_name_index = header.index(\"Last Name\")\n",
    "birth_index = header.index(\"Birth Year\")\n",
    "\n",
    "# Iterate over remaining lines (skip header)\n",
    "count = 0\n",
    "for line in lines[1:]:\n",
    "    fields = line.split(\",\")\n",
    "    \n",
    "    # Skip if line is malformed\n",
    "    if len(fields) <= max(first_name_index, last_name_index, birth_index):\n",
    "        print(\"Encountered malformed line — skipping.\")\n",
    "        continue\n",
    "\n",
    "    first = fields[first_name_index].strip()\n",
    "    last = fields[last_name_index].strip()\n",
    "    birth = \"(\" + fields[birth_index].strip() + \")\"\n",
    "\n",
    "    if not first or not last:\n",
    "        print(\"Encountered missing name — stopping.\")\n",
    "        break\n",
    "\n",
    "    print(last, first, birth, sep=\", \")\n",
    "    count += 1\n",
    "\n",
    "# Display how many\n",
    "print(f\"Total names: {count}\")\n"
   ]
  },
  {
   "cell_type": "code",
   "execution_count": 16,
   "id": "0628621c-55aa-4d70-bf42-bf26e0f111b2",
   "metadata": {},
   "outputs": [
    {
     "name": "stdout",
     "output_type": "stream",
     "text": [
      "Kalloe, S. 26\n",
      "Jansen, P. 67\n",
      "Jansen, S. 9\n",
      "Visser, S. 0\n",
      "Monifa, C. 12\n",
      "Pinas, A. 69\n",
      "Meijer, J. 7\n",
      "de Vries, J. 51\n",
      "Jansen, K. 72\n",
      "Visser, S. 50\n",
      "Meijer, S. 32\n",
      "Monifa, C. 75\n",
      "de Vries, E. 25\n",
      "Baldewsingh, S. 65\n",
      "Ramdien, C. 59\n",
      "Bakker, P. 54\n",
      "Visser, K. 59\n",
      "Jansen, P. 21\n",
      "Meijer, K. 64\n",
      "Kalloe, S. 9\n"
     ]
    }
   ],
   "source": [
    "# Display age of persons\n",
    "# alternative approach\n",
    "import csv\n",
    "\n",
    "# File to read\n",
    "filename = \"netherlands_suriname_names.csv\"\n",
    "\n",
    "# Read and process the CSV file\n",
    "with open(filename, mode=\"r\", newline=\"\") as file:\n",
    "    reader = csv.DictReader(file)  \n",
    "    for row in reader:\n",
    "        last_name = row[\"Last Name\"]\n",
    "        first_name = row[\"First Name\"]\n",
    "        birth_year = int(row[\"Birth Year\"])\n",
    "        \n",
    "        # Format name as: Last Name, F.\n",
    "        initial = first_name[0] + \".\" if first_name else \"\"\n",
    "        formatted_name = f\"{last_name}, {initial}\"\n",
    "        \n",
    "        # Calculate age\n",
    "        age_2025 = 2025 - birth_year\n",
    "        \n",
    "        # print(f\"{formatted_name:<25} {age_2025:<12}\")\n",
    "        print(formatted_name, age_2025)\n",
    "        \n"
   ]
  }
 ],
 "metadata": {
  "kernelspec": {
   "display_name": "Python [conda env:base] *",
   "language": "python",
   "name": "conda-base-py"
  },
  "language_info": {
   "codemirror_mode": {
    "name": "ipython",
    "version": 3
   },
   "file_extension": ".py",
   "mimetype": "text/x-python",
   "name": "python",
   "nbconvert_exporter": "python",
   "pygments_lexer": "ipython3",
   "version": "3.11.11"
  }
 },
 "nbformat": 4,
 "nbformat_minor": 5
}
