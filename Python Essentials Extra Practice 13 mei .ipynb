{
 "cells": [
  {
   "cell_type": "markdown",
   "id": "85d50764-850f-4fd2-8ac6-55fd984f7cf3",
   "metadata": {},
   "source": [
    "# Praktijkvoorbeelden 13 mei"
   ]
  },
  {
   "cell_type": "code",
   "execution_count": 4,
   "id": "6e3f2049-8ca2-4263-82b4-fddcd535e2a2",
   "metadata": {},
   "outputs": [],
   "source": [
    "# Print de datum van vandaag"
   ]
  }
 ],
 "metadata": {
  "kernelspec": {
   "display_name": "Python [conda env:base] *",
   "language": "python",
   "name": "conda-base-py"
  },
  "language_info": {
   "codemirror_mode": {
    "name": "ipython",
    "version": 3
   },
   "file_extension": ".py",
   "mimetype": "text/x-python",
   "name": "python",
   "nbconvert_exporter": "python",
   "pygments_lexer": "ipython3",
   "version": "3.11.11"
  }
 },
 "nbformat": 4,
 "nbformat_minor": 5
}
