{
 "cells": [
  {
   "cell_type": "markdown",
   "id": "17b29ae0-6abf-4302-878c-a0305ebacd5c",
   "metadata": {},
   "source": [
    "# Python libraries continued"
   ]
  },
  {
   "cell_type": "markdown",
   "id": "cc885c2f-8ff8-4c8c-af02-d2a73317827c",
   "metadata": {},
   "source": [
    "**Example: Adding text to image files**\n",
    "\n",
    "- It’s possible to create a Python function that adds a text string to an image file — using the **Pillow** library (the modern fork of PIL, the Python Imaging Library)."
   ]
  },
  {
   "cell_type": "code",
   "execution_count": null,
   "id": "4aba7d74-3728-4576-977a-edfde45ed38d",
   "metadata": {},
   "outputs": [],
   "source": [
    "# Run this once, else there will be an error message\n",
    "! pip install Pillow"
   ]
  },
  {
   "cell_type": "code",
   "execution_count": null,
   "id": "e7bffabc-d411-4ac6-9638-83f8ec71b59b",
   "metadata": {},
   "outputs": [],
   "source": [
    "from PIL import Image, ImageDraw, ImageFont\n",
    "\n",
    "def add_text_to_image(input_path, output_path, text, position=(10, 10), font_size=24):\n",
    "    \"\"\"\n",
    "    Adds text to an image and saves it as a new file.\n",
    "    \n",
    "    Args:\n",
    "        input_path: Path to the input image.\n",
    "        output_path: Path to save the modified image.\n",
    "        text: Text string to add.\n",
    "        position: Tuple (x, y) for text position.\n",
    "        font_size: Size of the text font.\n",
    "\n",
    "    RGBA stands for:\n",
    "        R – Red\n",
    "        G – Green\n",
    "        B – Blue\n",
    "        A – Alpha (transparency)\n",
    "\n",
    "    When the alpha value is set to 0, the color becomes invisible, and the underlying content or background will be fully visible.\n",
    "    \"\"\"\n",
    "    # Open the image\n",
    "    image = Image.open(input_path).convert(\"RGBA\")\n",
    "    \n",
    "    # Create a transparent layer to draw text on\n",
    "    txt_layer = Image.new(\"RGBA\", image.size, (255,255,255,0))\n",
    "    draw = ImageDraw.Draw(txt_layer)\n",
    "\n",
    "    # Load default font or specify one\n",
    "    try:\n",
    "        font = ImageFont.truetype(\"arial.ttf\", font_size)  # or another .ttf path\n",
    "    except:\n",
    "        font = ImageFont.load_default()\n",
    "\n",
    "    # Draw the text\n",
    "    draw.text(position, text, fill=(255, 0, 0, 255), font=font)  # red text\n",
    "\n",
    "    # Combine image with text layer\n",
    "    combined = Image.alpha_composite(image, txt_layer)\n",
    "\n",
    "    # Save to output file\n",
    "    combined.convert(\"RGB\").save(output_path, \"JPEG\")\n"
   ]
  },
  {
   "cell_type": "code",
   "execution_count": null,
   "id": "59778101-317d-457a-bcc8-221f38437555",
   "metadata": {},
   "outputs": [],
   "source": [
    "# Run previous cell first\n",
    "add_text_to_image(\"white_table.jpg\", \"written_table.jpg\", \"Hello\", position=(700, 400), font_size=64)\n"
   ]
  },
  {
   "cell_type": "code",
   "execution_count": null,
   "id": "3beed616-2b42-4fde-8380-42c1ac0e092a",
   "metadata": {},
   "outputs": [],
   "source": [
    "# Run previous cell first\n",
    "# Adding a second text\n",
    "add_text_to_image(\"written_table.jpg\", \"written_table_2.jpg\", \"What's up?\", position=(700, 1000), font_size=64)"
   ]
  },
  {
   "cell_type": "markdown",
   "id": "c8d8de98-548b-4cb0-8345-73759a2558d6",
   "metadata": {},
   "source": [
    "**Example: Simple Python script to display a .jpg image in a Jupyter Notebook using Pillow and IPython.display**\n",
    "\n",
    "**Notes:**\n",
    "\n",
    "- This works only in Jupyter Notebooks (like JupyterLab, VS Code Notebooks, or Google Colab).\n",
    "- The display() function is from IPython.display, and it's specifically designed to render rich outputs (like images, HTML, etc.)."
   ]
  },
  {
   "cell_type": "code",
   "execution_count": null,
   "id": "dff1c976-5c56-4967-88aa-83ee30c255fa",
   "metadata": {},
   "outputs": [],
   "source": [
    "from PIL import Image\n",
    "from IPython.display import display\n",
    "\n",
    "# Load the image (replace 'your_image.jpg' with your filename)\n",
    "image = Image.open(\"written_table_2.jpg\")\n",
    "\n",
    "# Display the image in the notebook\n",
    "# display(image)\n",
    "\n",
    "resized_image = image.resize((400, 400))  # width, height\n",
    "display(resized_image)\n"
   ]
  },
  {
   "cell_type": "markdown",
   "id": "894171a7-48d3-4063-a8d6-e45da9acd58d",
   "metadata": {},
   "source": [
    "## Maps & OpenStreetMap\n",
    "**Example: Show a Location on OpenStreetMap with folium**"
   ]
  },
  {
   "cell_type": "code",
   "execution_count": null,
   "id": "30cd3f80-dbf2-4058-b1fe-17068f4350a7",
   "metadata": {},
   "outputs": [],
   "source": [
    "# Run this once\n",
    "# First, install the library (if needed)\n",
    "! pip install folium\n",
    "# To search by a place name\n",
    "! pip install geopy"
   ]
  },
  {
   "cell_type": "markdown",
   "id": "dbb3e0bd-c64a-45c3-9512-4e27abb9b957",
   "metadata": {},
   "source": [
    "**Example using fixed latitude and longitude**"
   ]
  },
  {
   "cell_type": "code",
   "execution_count": null,
   "id": "3d92f5cb-34fb-4b26-98bc-fcb02a4e72d0",
   "metadata": {},
   "outputs": [],
   "source": [
    "import folium\n",
    "\n",
    "# Define the coordinates (e.g., Brussels)\n",
    "latitude = 50.8503\n",
    "longitude = 4.3517\n",
    "\n",
    "# Create a map centered around the location\n",
    "mymap = folium.Map(location=[latitude, longitude], zoom_start=13)\n",
    "\n",
    "# Add a marker to the map\n",
    "folium.Marker([latitude, longitude], popup=\"Brussels, Belgium\").add_to(mymap)\n",
    "\n",
    "# Display the map (works in Jupyter Notebooks)\n",
    "mymap"
   ]
  },
  {
   "cell_type": "markdown",
   "id": "9d99372c-6b34-467e-b7ff-a2ee649254b9",
   "metadata": {},
   "source": [
    "**Example Using Location Name, instead of Coordinates**\n",
    "\n",
    "**using IPython**\n",
    "- IPython stands for **Interactive Python**\n",
    "- IPython is the **kernel** that runs Python code inside Jupyter Notebooks\n",
    "- It is an enhanced interactive shell built for Python programming — offering a richer, more productive experience than the standard Python interpreter\n",
    "- Displays **images, LaTeX, HTML, tables, and charts** when used in Jupyter\n",
    "- You can run **shell commands** like **!ping ; !pip install folium** inside IPython"
   ]
  },
  {
   "cell_type": "code",
   "execution_count": null,
   "id": "22c30ef5-5ab5-44c5-8365-00b363cd3d4f",
   "metadata": {},
   "outputs": [],
   "source": [
    "import folium\n",
    "from geopy.geocoders import Nominatim\n",
    "from IPython.display import display  # 👈 needed for notebooks\n",
    "\n",
    "def show_location_on_map(place_name):\n",
    "    # Geocoding with OpenStreetMap\n",
    "    geolocator = Nominatim(user_agent=\"my_map_app\")\n",
    "    location = geolocator.geocode(place_name)\n",
    "\n",
    "    if location:\n",
    "        print(f\"Found: {location.address}\")\n",
    "        print(f\"Coordinates: {location.latitude}, {location.longitude}\")\n",
    "\n",
    "        # Create and display the map\n",
    "        mymap = folium.Map(location=[location.latitude, location.longitude], zoom_start=15)\n",
    "        folium.Marker([location.latitude, location.longitude], popup=location.address).add_to(mymap)\n",
    "\n",
    "        display(mymap)  # 👈 this ensures it renders in the notebook\n",
    "    else:\n",
    "        print(\"Location not found.\")\n"
   ]
  },
  {
   "cell_type": "code",
   "execution_count": null,
   "id": "956b234e-ae9c-4b69-ab1f-272cbe8cc240",
   "metadata": {},
   "outputs": [],
   "source": [
    "# Run previous cell first\n",
    "# Replace this with any location name\n",
    "map_output = show_location_on_map(\"Eiffel Tower, Paris\")\n",
    "if map_output:\n",
    "    map_output"
   ]
  },
  {
   "cell_type": "markdown",
   "id": "bad44f5e-dbd9-430d-b7d4-41ec3a5d2aa6",
   "metadata": {},
   "source": [
    "**Example: Requesting input of location name**"
   ]
  },
  {
   "cell_type": "code",
   "execution_count": null,
   "id": "2a05b00c-71d5-47e0-9d32-6d29b611016d",
   "metadata": {},
   "outputs": [],
   "source": [
    "# Run previous cell first\n",
    "# Request realtime location input\n",
    "location_requested = input(\"What location would you like to see? (e.g. Eiffel Tower, Paris)\")\n",
    "map_output = show_location_on_map(location_requested)\n",
    "if map_output:\n",
    "    map_output"
   ]
  },
  {
   "cell_type": "markdown",
   "id": "44302294-f93b-478d-8db6-46ae4779bcde",
   "metadata": {},
   "source": [
    "# Dictionaries & json Revisited and Further Explored"
   ]
  },
  {
   "cell_type": "markdown",
   "id": "0c91b2a4-cde4-49c1-9e49-282cc9b372e3",
   "metadata": {},
   "source": [
    "**Is the structure (in the next cell) dict or json?**\n",
    "\n",
    "In Python, the distinction between a dict and JSON hinges on their data types and intended uses:\n",
    "\n",
    "- **JSON**: A JSON object is a string that represents data in a structured, text-based format. It's commonly used for transmitting or storing data across different systems.\n",
    "- **dict**: A dict is a native Python data structure that stores data as **key-value** pairs, allowing for direct access and manipulation within Python programs.\n",
    "\n",
    "**To convert between these two, Python provides the json module:**\n",
    "\n",
    "- **From dict to JSON**: Use json.dumps() to serialize a Python dictionary into a JSON-formatted string.\n",
    "- **From JSON to dict**: Use json.loads() to deserialize a JSON-formatted string back into a Python dictionary.\n",
    "\n",
    "This distinction is crucial: **JSON strings are ideal for data exchange and storage**, while **dictionaries are optimal for in-memory data manipulation** within Python.\n"
   ]
  },
  {
   "cell_type": "code",
   "execution_count": null,
   "id": "a471035c-e292-4c62-9eb2-d339983a27b5",
   "metadata": {},
   "outputs": [],
   "source": [
    "groups_str = \"\"\" {\n",
    " \"groups\": [\n",
    "      { \"group\": { \"group_id\": \"G1\" , \"group_name\": \"Micro\" ,    \n",
    "                   \"members\": [   \n",
    "                     {\"person_id\": \"P-1\" , \"person_name\": \"Nick\", \"email\": \"nick@biasc.be\"},\n",
    "                     {\"person_id\": \"P-2\" , \"person_name\": \"Marcus\", \"email\": \"marcus@biasc.be\"},\n",
    "                     {\"person_id\": \"P-3\" , \"person_name\": \"Liesbet\", \"email\": \"liesbet@biasc.be\"} \n",
    "                   ]\n",
    "                 }\n",
    "      },\n",
    "      { \"group\": { \"group_id\": \"G2\" , \"group_name\": \"Nano\" ,    \n",
    "                   \"members\": [   \n",
    "                     {\"person_id\": \"P-4\" ,\"person_name\": \"Martin\", \"email\": \"martin@biasc.be\"}, \n",
    "                     {\"person_id\": \"P-5\" ,\"person_name\": \"Bob\", \"email\": \"bob@biasc.be\"}, \n",
    "                     {\"person_id\": \"P-6\" ,\"person_name\": \"Alice\", \"email\": \"alice@biasc.be\"} \n",
    "                   ]     \n",
    "                 }\n",
    "      },\n",
    "      { \"group\": { \"group_id\": \"G3\" , \"group_name\": \"Pico\" ,    \n",
    "                   \"members\": [   \n",
    "                     {\"person_id\": \"P-7\" ,\"person_name\": \"Matt\", \"email\": \"matt@biasc.be\"}, \n",
    "                     {\"person_id\": \"P-8\" ,\"person_name\": \"Lucas\", \"email\": \"lucas@biasc.be\"}, \n",
    "                     {\"person_id\": \"P-9\" ,\"person_name\": \"Elsa\", \"email\": \"elsa@biasc.be\"} \n",
    "                   ] \n",
    "                 }\n",
    "      }\n",
    "   ]\n",
    "}\n",
    "\"\"\""
   ]
  },
  {
   "cell_type": "code",
   "execution_count": null,
   "id": "0dbabd86-64f5-4522-bb95-41f0953f79c7",
   "metadata": {},
   "outputs": [],
   "source": [
    "# Here is the answer\n",
    "# Run previous cell first\n",
    "print(type(groups_str))\n",
    "print(groups_str)"
   ]
  },
  {
   "cell_type": "code",
   "execution_count": null,
   "id": "96646a56-5d0d-405c-af9b-b2b795bf2ac5",
   "metadata": {},
   "outputs": [],
   "source": [
    "groups_struc = {\n",
    " \"groups\": [\n",
    "      { \"group\": { \"group_id\": \"G1\" , \"group_name\": \"Micro_Group\" ,    \n",
    "                   \"members\": [   \n",
    "                     {\"person_id\": \"P-1\" , \"person_name\": \"Nick\", \"email\": \"nick@biasc.be\"},\n",
    "                     {\"person_id\": \"P-2\" , \"person_name\": \"Marcus\", \"email\": \"marcus@biasc.be\"},\n",
    "                     {\"person_id\": \"P-3\" , \"person_name\": \"Liesbet\", \"email\": \"liesbet@biasc.be\"} \n",
    "                   ]\n",
    "                 }\n",
    "      },\n",
    "      { \"group\": { \"group_id\": \"G2\" , \"group_name\": \"Nano_Group\" ,    \n",
    "                   \"members\": [   \n",
    "                     {\"person_id\": \"P-4\" ,\"person_name\": \"Martin\", \"email\": \"martin@biasc.be\"}, \n",
    "                     {\"person_id\": \"P-5\" ,\"person_name\": \"Bob\", \"email\": \"bob@biasc.be\"}, \n",
    "                     {\"person_id\": \"P-6\" ,\"person_name\": \"Alice\", \"email\": \"alice@biasc.be\"} \n",
    "                   ]     \n",
    "                 }\n",
    "      },\n",
    "      { \"group\": { \"group_id\": \"G3\" , \"group_name\": \"Pico_Group\" ,    \n",
    "                   \"members\": [   \n",
    "                     {\"person_id\": \"P-7\" ,\"person_name\": \"Matt\", \"email\": \"matt@biasc.be\"}, \n",
    "                     {\"person_id\": \"P-8\" ,\"person_name\": \"Lucas\", \"email\": \"lucas@biasc.be\"}, \n",
    "                     {\"person_id\": \"P-9\" ,\"person_name\": \"Elsa\", \"email\": \"elsa@biasc.be\"} \n",
    "                   ] \n",
    "                 }\n",
    "      }\n",
    "   ]\n",
    "}"
   ]
  },
  {
   "cell_type": "code",
   "execution_count": null,
   "id": "92a22193-7843-4671-b1b9-8632588e8991",
   "metadata": {},
   "outputs": [],
   "source": [
    "# Here is the answer\n",
    "# Run previous cell first\n",
    "print(type(groups_struc))\n",
    "print(groups_struc)"
   ]
  },
  {
   "cell_type": "markdown",
   "id": "ca39567b-74e5-47ad-aa23-96f2d320bd50",
   "metadata": {},
   "source": [
    "**Filtering from a dict**"
   ]
  },
  {
   "cell_type": "code",
   "execution_count": null,
   "id": "b9bf020d-8953-49ff-b689-158a415949f0",
   "metadata": {},
   "outputs": [],
   "source": [
    "# Run previous cell first\n",
    "print(groups_struc.keys())"
   ]
  },
  {
   "cell_type": "code",
   "execution_count": null,
   "id": "8a0ac717-43e9-465d-9c9c-b0848bf06ea4",
   "metadata": {},
   "outputs": [],
   "source": [
    "# Run previous cell first\n",
    "print(groups_struc[\"groups\"][0].keys())"
   ]
  },
  {
   "cell_type": "code",
   "execution_count": null,
   "id": "568fa529-8df5-4ec5-a8e6-add6f1fd4177",
   "metadata": {},
   "outputs": [],
   "source": [
    "# Run previous cell first\n",
    "print(groups_struc[\"groups\"][0][\"group\"].keys())\n"
   ]
  },
  {
   "cell_type": "code",
   "execution_count": null,
   "id": "1fb9c5f7-745f-4b95-a8c8-07d128325e0d",
   "metadata": {},
   "outputs": [],
   "source": [
    "# Run previous cell first\n",
    "print(groups_struc[\"groups\"][0][\"group\"][\"members\"][0].keys())"
   ]
  },
  {
   "cell_type": "code",
   "execution_count": null,
   "id": "98bfebb9-258a-44da-bdf9-e3d898e97168",
   "metadata": {},
   "outputs": [],
   "source": [
    "# Run previous cell first\n",
    "searched_item = groups_struc[\"groups\"][0][\"group\"][\"members\"][0]\n",
    "print(searched_item)"
   ]
  },
  {
   "cell_type": "code",
   "execution_count": null,
   "id": "f182b635-b2de-48e0-9c5a-8eb7fd3b5570",
   "metadata": {},
   "outputs": [],
   "source": [
    "# Run previous cell first\n",
    "searched_item = groups_struc[\"groups\"][0][\"group\"][\"members\"][0][\"person_name\"]\n",
    "print(searched_item)"
   ]
  },
  {
   "cell_type": "markdown",
   "id": "e0b5ab02-941c-4a90-bb17-f5f86b0b776b",
   "metadata": {},
   "source": [
    "**Task:** Write a statement that extracts all the group names\n",
    "\n"
   ]
  },
  {
   "cell_type": "markdown",
   "id": "cd097576-287e-489b-a739-7369139cc0d0",
   "metadata": {},
   "source": [
    "**Functions to work with dict**"
   ]
  },
  {
   "cell_type": "code",
   "execution_count": null,
   "id": "bccea1d4-d7d7-4dc0-b631-9a78fbc91a27",
   "metadata": {},
   "outputs": [],
   "source": [
    "# Adding functions\n",
    "groups_struc = {\n",
    "    \"groups\": [\n",
    "        { \"group\": { \"group_id\": \"G1\", \"group_name\": \"Micro Group\",\n",
    "                     \"members\": [\n",
    "                         {\"person_id\": \"P-1\", \"person_name\": \"Nick\", \"email\": \"nick@biasc.be\"},\n",
    "                         {\"person_id\": \"P-2\", \"person_name\": \"Marcus\", \"email\": \"marcus@biasc.be\"},\n",
    "                         {\"person_id\": \"P-3\", \"person_name\": \"Liesbet\", \"email\": \"liesbet@biasc.be\"}\n",
    "                     ]\n",
    "        }},\n",
    "        { \"group\": { \"group_id\": \"G2\", \"group_name\": \"Nano Group\",\n",
    "                     \"members\": [\n",
    "                         {\"person_id\": \"P-4\", \"person_name\": \"Martin\", \"email\": \"martin@biasc.be\"},\n",
    "                         {\"person_id\": \"P-5\", \"person_name\": \"Bob\", \"email\": \"bob@biasc.be\"},\n",
    "                         {\"person_id\": \"P-6\", \"person_name\": \"Alice\", \"email\": \"alice@biasc.be\"}\n",
    "                     ]\n",
    "        }},\n",
    "        { \"group\": { \"group_id\": \"G3\", \"group_name\": \"Pico Group\",\n",
    "                     \"members\": [\n",
    "                         {\"person_id\": \"P-7\", \"person_name\": \"Matt\", \"email\": \"matt@biasc.be\"},\n",
    "                         {\"person_id\": \"P-8\", \"person_name\": \"Lucas\", \"email\": \"lucas@biasc.be\"},\n",
    "                         {\"person_id\": \"P-9\", \"person_name\": \"Elsa\", \"email\": \"elsa@biasc.be\"}\n",
    "                     ]\n",
    "        }}\n",
    "    ]\n",
    "}\n",
    "\n",
    "# 1. List all group names\n",
    "def list_groups():\n",
    "    print(\"Available Groups:\")\n",
    "    for entry in groups_struc[\"groups\"]:\n",
    "        print(f\"- {entry['group']['group_name']}\")\n",
    "\n",
    "# 2. Show members of a specific group\n",
    "def show_members(group_name):\n",
    "    for entry in groups_struc[\"groups\"]:\n",
    "        group = entry[\"group\"]\n",
    "        if group[\"group_name\"] == group_name:\n",
    "            print(f\"\\nMembers of {group_name}:\")\n",
    "            for member in group[\"members\"]:\n",
    "                print(f\"  - {member['person_name']} ({member['email']})\")\n",
    "            return\n",
    "    print(\"Group not found.\")\n",
    "\n",
    "# 3. Search by person name or email\n",
    "def search_person(query):\n",
    "    print(f\"\\nSearch results for '{query}':\")\n",
    "    found = False\n",
    "    for entry in groups_struc[\"groups\"]:\n",
    "        group = entry[\"group\"]\n",
    "        for member in group[\"members\"]:\n",
    "            if query.lower() in member[\"person_name\"].lower() or query.lower() in member[\"email\"].lower():\n",
    "                print(f\"  - {member['person_name']} ({member['email']}) in {group['group_name']}\")\n",
    "                found = True\n",
    "    if not found:\n",
    "        print(\"  No match found.\")\n",
    "\n",
    "# 4. Find group by person name\n",
    "def find_group_by_person(name):\n",
    "    for entry in groups_struc[\"groups\"]:\n",
    "        group = entry[\"group\"]\n",
    "        for member in group[\"members\"]:\n",
    "            if member[\"person_name\"].lower() == name.lower():\n",
    "                print(f\"{name} is in group: {group['group_name']}\")\n",
    "                return\n",
    "    print(\"Person not found.\")\n",
    "\n",
    "# === DEMO CALLS ===\n",
    "list_groups()\n",
    "print()\n",
    "find_group_by_person(\"Marcus\")\n",
    "show_members(\"Nano Group\")\n",
    "search_person(\"elsa\")\n"
   ]
  },
  {
   "cell_type": "markdown",
   "id": "941d512e-8d4c-4a31-88c9-1f3aff0acf6a",
   "metadata": {},
   "source": [
    "**Transforming a dict**"
   ]
  },
  {
   "cell_type": "code",
   "execution_count": null,
   "id": "db2b60d2-660b-43e4-a85d-e3ecacab589f",
   "metadata": {},
   "outputs": [],
   "source": [
    "# Run previous cell first\n",
    "import json\n",
    "import yaml  # Requires PyYAML\n",
    "\n",
    "yaml_output = yaml.dump(groups_struc, sort_keys=False, allow_unicode=True)\n",
    "\n",
    "# Step 3: Print the YAML result\n",
    "print(yaml_output)"
   ]
  },
  {
   "cell_type": "markdown",
   "id": "44459f3a-657c-497c-a9da-053cfe9260b0",
   "metadata": {},
   "source": [
    "# Restful API Calls\n",
    "## Exploring HTTP Requests"
   ]
  },
  {
   "cell_type": "code",
   "execution_count": null,
   "id": "525aa2e9-ccf8-49bf-8184-fc6c5939fa72",
   "metadata": {},
   "outputs": [],
   "source": []
  },
  {
   "cell_type": "markdown",
   "id": "6d7da68d-834d-4ff0-9228-1b7425610ee7",
   "metadata": {},
   "source": [
    "**Example in Python using the popular requests library**\n",
    "- demonstrate how to perform and display the output of HTTP GET and POST requests.\n",
    "\n",
    "**Free online REST API**\n",
    "- https://jsonplaceholder.typicode.com is a free online REST API that provides fake (placeholder) data for testing and prototyping web or API clients.\n",
    "\n",
    "**To install the requests module (if not installed):**\n",
    "\n",
    "- ! pip install requests\n",
    "\n",
    "**HTTP Status Codes**\n",
    "\n",
    "As a response to a HTTP request, you will get a **status code**, for example\n",
    "\n",
    "- **200 OK**: The request was successful.\n",
    "- **201 Created**: The request was successful, and a new resource was created.\n",
    "- **204 No Content**: The request was successful, but there is no content to send in the response (e.g. after a Delete operation)\n",
    "- **400 Bad Request**: The server could not understand the request due to invalid syntax.\n",
    "- **401 Unauthorized**: Authentication is required and has failed or has not yet been provided.\n",
    "- **404 Not Found**: The requested resource could not be found on the server."
   ]
  },
  {
   "cell_type": "code",
   "execution_count": null,
   "id": "7d6cf0c7-228d-4b42-8626-8fc267cec093",
   "metadata": {},
   "outputs": [],
   "source": [
    "import requests\n",
    "\n",
    "# 1. HTTP GET request to fetch data from a public API\n",
    "def get_example():\n",
    "    url = \"https://jsonplaceholder.typicode.com/posts/1\"\n",
    "    response = requests.get(url)\n",
    "\n",
    "    print(\"=== GET Request ===\")\n",
    "    print(\"Status Code:\", response.status_code)\n",
    "    print(\"Headers:\", response.headers[\"Content-Type\"])\n",
    "    print(\"JSON Data:\")\n",
    "    print(response.json())\n",
    "    print()\n",
    "\n",
    "# 2. HTTP POST request to send data to a server (fake API for demo)\n",
    "def post_example():\n",
    "    url = \"https://jsonplaceholder.typicode.com/posts\"\n",
    "    data = {\n",
    "        \"title\": \"Python Demo\",\n",
    "        \"body\": \"This is a test post from Python.\",\n",
    "        \"userId\": 101\n",
    "    }\n",
    "    response = requests.post(url, json=data)\n",
    "\n",
    "    print(\"=== POST Request ===\")\n",
    "    print(\"Status Code:\", response.status_code)\n",
    "    print(\"Returned JSON:\")\n",
    "    print(response.json())\n",
    "    print()\n",
    "\n",
    "# Run examples\n",
    "get_example()\n",
    "post_example()\n"
   ]
  },
  {
   "cell_type": "code",
   "execution_count": null,
   "id": "4a80a8a2-17ad-4883-b300-29029ea82d61",
   "metadata": {},
   "outputs": [],
   "source": [
    "import requests\n",
    "\n",
    "def fetch_todo_item(todo_id):\n",
    "    url = f\"https://jsonplaceholder.typicode.com/todos/{todo_id}\"\n",
    "    response = requests.get(url)\n",
    "\n",
    "    if response.status_code == 200:\n",
    "        todo = response.json()\n",
    "        print(f\"To-Do ID: {todo['id']}\")\n",
    "        print(f\"Title: {todo['title']}\")\n",
    "        print(f\"Completed: {todo['completed']}\")\n",
    "    else:\n",
    "        print(f\"Failed to fetch to-do item. Status code: {response.status_code}\")\n",
    "\n",
    "if __name__ == \"__main__\":\n",
    "    fetch_todo_item(1)\n"
   ]
  },
  {
   "cell_type": "markdown",
   "id": "e6050ba5-074e-4f6e-97e4-98d54fa8abe8",
   "metadata": {},
   "source": [
    "# More Notebook Examples\n",
    "\n",
    "Learning Python and Jupyter Notebooks is valuable for empowering business information management.\n",
    "\n",
    "It’s also possible to create notebooks specifically for business users who aren’t familiar with Python scripting. In these notebooks, the code can be hidden so users only see the results and visual outputs.\n",
    "\n",
    "We have compiled three examples:\n",
    "\n",
    "- Interactive Multimedia Reporting (basics)\n",
    "- Interactive Multimedia Reporting Annotated (adding some text)\n",
    "- Titanic Data Storytelling (other example)\n",
    "\n",
    "In the Jupyter Notebook ecosystem, there are several tools and libraries that allow you to present or share your work without displaying the underlying code. These are particularly useful for sharing insights with non-technical audiences:\n",
    "\n",
    "- Run Your Notebook with **Voilà**: Turn your notebook into an interactive dashboard — without showing any code. Ideal for data apps and business users.\n",
    "- Run Your Notebook with **RISE**: Present your notebook as a live slideshow directly in the browser. You can choose to hide code cells while displaying text, images, and charts. Activate with a slideshow button in the Jupyter toolbar. Customize which cells are visible.\n",
    "- Export as an **HTML** Webpage: Create a static webpage from your notebook with or without code.\n"
   ]
  },
  {
   "cell_type": "markdown",
   "id": "090958ed-5d79-47b7-84f2-29fffdaf34c7",
   "metadata": {},
   "source": [
    "**End**"
   ]
  }
 ],
 "metadata": {
  "kernelspec": {
   "display_name": "Python [conda env:base] *",
   "language": "python",
   "name": "conda-base-py"
  },
  "language_info": {
   "codemirror_mode": {
    "name": "ipython",
    "version": 3
   },
   "file_extension": ".py",
   "mimetype": "text/x-python",
   "name": "python",
   "nbconvert_exporter": "python",
   "pygments_lexer": "ipython3",
   "version": "3.11.11"
  }
 },
 "nbformat": 4,
 "nbformat_minor": 5
}
