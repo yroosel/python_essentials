{
 "cells": [
  {
   "cell_type": "markdown",
   "id": "472afc5d-7d1a-4cc1-901e-486e34a137ba",
   "metadata": {},
   "source": [
    "# Praktijkvoorbeelden 14 mei"
   ]
  },
  {
   "cell_type": "markdown",
   "id": "820030e9-842f-4e2b-8386-8d3c98d7dc98",
   "metadata": {},
   "source": [
    "**Tests kun je twee keer afleggen**\n",
    "\n",
    "**Vandaag**\n",
    "- Data types, conversions and operations (revisited)\n",
    "- Input (revisited) \n",
    "- Conditions (if)\n",
    "- Functions (readable, manageable and reusable code)\n",
    "- Loops (for, while)\n",
    "- Files (intro with text files)\n",
    "- Lists: meer volgende week, eerst oefenen met loops\n",
    "- Sorting (intro)\n"
   ]
  },
  {
   "cell_type": "markdown",
   "id": "56876b21-8b40-45c0-8f6b-1e9eda826f0b",
   "metadata": {},
   "source": [
    "# Data Types\n",
    "\n",
    "- int\n",
    "  - very **natural**\n",
    "- float\n",
    "  - making a **calculator**\n",
    "- boolean: True, False\n",
    "  - computer **logic**\n",
    "  - making **decisions**\n",
    "- None\n",
    "  - unknown\n",
    "- string\n",
    "  - computers can manage **language** easily: word processing, AI, ...\n",
    "\n",
    "- complex: \n",
    "  - files are used to **store and transmit**: text file, csv, spreadsheet, image, ...\n",
    "  - lists: **mainly next week**\n",
    "  - dictionary and json: **later**"
   ]
  },
  {
   "cell_type": "markdown",
   "id": "a718e544-5d32-4c6a-a638-daf4d7af802b",
   "metadata": {},
   "source": [
    "## Data Types in Python\n",
    "- int\n",
    "Natural numbers (e.g., 5, 42)\n",
    "\n",
    "- float\n",
    "Decimal numbers (e.g., 3.14) — useful in calculations\n",
    "\n",
    "- bool (True, False)\n",
    "Used in logic and decision-making\n",
    "Powers conditions in if statements\n",
    "\n",
    "- None\n",
    "Represents unknown or no value\n",
    "\n",
    "- str\n",
    "Handles text and language — essential for AI and word processing\n",
    "\n",
    "- complex\n",
    "Real + imaginary numbers (e.g., 2 + 3j) — rare in practice\n",
    "\n",
    "- file (via open(...)) Used to read from or write to external files\n",
    "\n",
    "- list\n",
    "Ordered sequence of values — to be covered next week\n",
    "\n",
    "- dict / json\n",
    "Key-value pairs — covered later"
   ]
  },
  {
   "cell_type": "markdown",
   "id": "55b6a43a-dc2a-4113-82c4-a8082d67f8f7",
   "metadata": {},
   "source": [
    "**Programming languages**\n",
    "\n",
    "- \"no ambiguity\", as opposed to natural language\n",
    "- \"alternatives\" are possible\n",
    "  - some alternatives are better than others\n",
    "  - some are safer than others"
   ]
  },
  {
   "cell_type": "markdown",
   "id": "7c50b3c0-9d0f-4b91-a09c-4b98da3d643f",
   "metadata": {},
   "source": [
    "**Temperature**\n",
    "\n",
    "- **Note** the comments in the code example"
   ]
  },
  {
   "cell_type": "code",
   "execution_count": 51,
   "id": "455893a2-1179-42e9-91d0-edfffc3a82bb",
   "metadata": {},
   "outputs": [
    {
     "name": "stdin",
     "output_type": "stream",
     "text": [
      "Enter the measured temperature in Celsius:  0\n"
     ]
    }
   ],
   "source": [
    "# Ask the user to enter a temperature in Celsius and determine if water will be liquid\n",
    "temp = int(input(\"Enter the measured temperature in Celsius: \"))"
   ]
  },
  {
   "cell_type": "code",
   "execution_count": 69,
   "id": "73dab506-043d-45ce-905c-076cc43e458d",
   "metadata": {},
   "outputs": [
    {
     "name": "stdout",
     "output_type": "stream",
     "text": [
      "False\n"
     ]
    }
   ],
   "source": [
    "if temp in range(1,100): \n",
    "    is_liquid = True \n",
    "else: \n",
    "    is_liquid = False\n",
    "print(is_liquid)"
   ]
  },
  {
   "cell_type": "code",
   "execution_count": 53,
   "id": "d4993519-2614-4358-bb92-42f8a3a7fddb",
   "metadata": {},
   "outputs": [
    {
     "name": "stdout",
     "output_type": "stream",
     "text": [
      "False\n"
     ]
    }
   ],
   "source": [
    "# First execute the previous cell\n",
    "# Determine if the water is liquid\n",
    "if temp in range(1,100):\n",
    "    is_liquid = True\n",
    "else:\n",
    "    is_liquid = False\n",
    "\n",
    "print(is_liquid)"
   ]
  },
  {
   "cell_type": "code",
   "execution_count": 79,
   "id": "9314003b-414d-40eb-bd2f-02d5a73c6082",
   "metadata": {},
   "outputs": [
    {
     "name": "stdout",
     "output_type": "stream",
     "text": [
      "False\n"
     ]
    }
   ],
   "source": [
    "is_liquid = temp > 0 and temp < 100\n",
    "print(is_liquid)\n",
    "# is_liquid = temp <= 0 or temp >= 100\n",
    "# print(is_liquid)"
   ]
  },
  {
   "cell_type": "code",
   "execution_count": 55,
   "id": "4c38ab11-adff-44d2-ab17-f79596b7f06f",
   "metadata": {},
   "outputs": [
    {
     "name": "stdout",
     "output_type": "stream",
     "text": [
      "Temperature measured: 0\n",
      "Is water liquid at this temperature? False\n"
     ]
    }
   ],
   "source": [
    "# Display the result\n",
    "print(\"Temperature measured:\", temp)\n",
    "print(\"Is water liquid at this temperature?\", is_liquid)"
   ]
  },
  {
   "cell_type": "code",
   "execution_count": 59,
   "id": "c7d15064-47f7-4905-bc7e-2d19167665bf",
   "metadata": {},
   "outputs": [
    {
     "name": "stdout",
     "output_type": "stream",
     "text": [
      "__________________________________________________\n",
      "Temperature: 0°C → Liquid: False\n"
     ]
    }
   ],
   "source": [
    "# Alternative output\n",
    "print(\"_\" * 50)\n",
    "print(f\"Temperature: {temp}°C → Liquid: {is_liquid}\")"
   ]
  },
  {
   "cell_type": "code",
   "execution_count": 111,
   "id": "df2d29a9-8df3-45d7-b0a7-4461222211ac",
   "metadata": {},
   "outputs": [
    {
     "name": "stdout",
     "output_type": "stream",
     "text": [
      "5.5\n",
      "11.1\n",
      "550.0\n",
      "111.1\n"
     ]
    }
   ],
   "source": [
    "# Step 1\n",
    "# Often we have to perform different calculations one after the other: example\n",
    "\n",
    "# One\n",
    "val1 = 11\n",
    "val2 = 2  # avoid 0\n",
    "calc_result = val1 / val2\n",
    "print (calc_result)\n",
    "\n",
    "# Two\n",
    "val1 = 111\n",
    "val2 = 10 # avoid 0\n",
    "calc_result = val1 / val2\n",
    "print (calc_result)\n",
    "\n",
    "# Three\n",
    "val1 = 1100\n",
    "val2 = 2  # avoid 0\n",
    "calc_result = val1 / val2\n",
    "print (calc_result)\n",
    "\n",
    "# Four\n",
    "val1 = 1111\n",
    "val2 = 10 # avoid 0\n",
    "calc_result = val1 / val2\n",
    "print (calc_result)\n",
    "\n",
    "\n"
   ]
  },
  {
   "cell_type": "code",
   "execution_count": 109,
   "id": "a58c9eee-6b89-48de-ad81-df6ce2053507",
   "metadata": {},
   "outputs": [
    {
     "name": "stdout",
     "output_type": "stream",
     "text": [
      "Error: Cannot divide by zero.\n"
     ]
    }
   ],
   "source": [
    "# Step 1 bis => Catch the ZeroDivisionError\n",
    "val1 = 10\n",
    "val2 = 0  \n",
    "\n",
    "try:\n",
    "    calc_result = val1 / val2\n",
    "    print(calc_result)\n",
    "except ZeroDivisionError:\n",
    "    print(\"Error: Cannot divide by zero.\")\n"
   ]
  },
  {
   "cell_type": "code",
   "execution_count": 101,
   "id": "bad1fb4b-e715-4c8f-84a6-6e003209ddce",
   "metadata": {},
   "outputs": [
    {
     "name": "stdout",
     "output_type": "stream",
     "text": [
      "0.1\n",
      "Error: Division by Zero\n",
      "0.1\n"
     ]
    }
   ],
   "source": [
    "# Step 2\n",
    "# Improvement to prevent division by zero => code being copied => unreadable, unmanageable for reuse\n",
    "\n",
    "# One\n",
    "val1 = 10\n",
    "val2 = 100  # avoid 0\n",
    "\n",
    "if val2 != 0:\n",
    "    calc_result = val1 / val2\n",
    "else:\n",
    "    print(\"Error: Division by Zero\")\n",
    "    \n",
    "print (calc_result)\n",
    "\n",
    "# Two\n",
    "val1 = 100\n",
    "val2 = 0 # avoid 0\n",
    "\n",
    "if val2 != 0:\n",
    "    calc_result = val1 / val2\n",
    "else:\n",
    "    print(\"Error: Division by Zero\")\n",
    "\n",
    "print (calc_result)"
   ]
  },
  {
   "cell_type": "code",
   "execution_count": 123,
   "id": "e0c84d17-08dd-4324-9bbd-e1aa693a4ef3",
   "metadata": {},
   "outputs": [
    {
     "name": "stdout",
     "output_type": "stream",
     "text": [
      "10.0\n"
     ]
    }
   ],
   "source": [
    "# Step 3: creating a function for reusabilty\n",
    "# Functions allow to reuse the same code without copying\n",
    "# \n",
    "def divide(n1, n2):\n",
    "    if n2 != 0:\n",
    "        return n1/n2\n",
    "    else:\n",
    "        return (\"Error: Division by Zero\")\n",
    "\n",
    "val1 = 100\n",
    "val2 = 10 \n",
    "\n",
    "calc_result = divide(val1,val2)\n",
    "print (calc_result)"
   ]
  },
  {
   "cell_type": "markdown",
   "id": "37b58e44-938d-479b-a7f1-1339c7006ba1",
   "metadata": {},
   "source": [
    "**Add functions for other operators: **    //    % in the code fragment below**"
   ]
  },
  {
   "cell_type": "code",
   "execution_count": null,
   "id": "dfce80ed-2bd6-4661-864e-37c055ce9111",
   "metadata": {},
   "outputs": [],
   "source": [
    "# Step 4: code fragment using functions for calculations\n",
    "\n",
    "def add(n1,n2):\n",
    "    calc_result = n1+n2\n",
    "    return calc_result \n",
    "\n",
    "def subtract(n1, n2):\n",
    "    return n1-n2\n",
    "\n",
    "def multiply(n1, n2):\n",
    "    return n1*n2\n",
    "\n",
    "def divide(n1, n2):\n",
    "    if n2 != 0:\n",
    "        return n1/n2\n",
    "    else:\n",
    "        return (\"Error: Division by Zero\")\n",
    "\n",
    "def main():\n",
    "    print (add(100,10))\n",
    "    print (subtract(100,10))\n",
    "    print (multiply(100,10))\n",
    "    print (divide(100,10))\n",
    "\n",
    "if __name__ == \"__main__\":\n",
    "   main()"
   ]
  },
  {
   "cell_type": "markdown",
   "id": "ac023bab-8f84-4df8-9e8a-486852eeda96",
   "metadata": {},
   "source": [
    "**Leap Years**\n",
    "\n",
    "- A year not divisible by 4 is not a leap year\n",
    "- A year divisible by 4 but not by 100 is a leap year\n",
    "- A year divisible by 100 but not by 400 is not a leap year\n",
    "- A year divisible by 400 is a leap year"
   ]
  },
  {
   "cell_type": "code",
   "execution_count": 130,
   "id": "b33716a5-0c1f-457c-8746-8eb56e906456",
   "metadata": {},
   "outputs": [
    {
     "name": "stdin",
     "output_type": "stream",
     "text": [
      "What year do you want to check?  2100\n"
     ]
    },
    {
     "name": "stdout",
     "output_type": "stream",
     "text": [
      "2100 is NOT a leap year (divisible by 100 but not by 400)\n"
     ]
    }
   ],
   "source": [
    "# elif is used to check more than just one condition, and to stop when the first statement which is true is found.\n",
    "\n",
    "year = int(input(\"What year do you want to check? \"))\n",
    "\n",
    "if year % 4 != 0:\n",
    "    print(f\"{year} is NOT a leap year (not divisible by 4)\")\n",
    "elif year % 100 != 0:\n",
    "    print(f\"{year} IS a leap year (divisible by 4 but not by 100)\")\n",
    "elif year % 400 != 0:\n",
    "    print(f\"{year} is NOT a leap year (divisible by 100 but not by 400)\")\n",
    "else:\n",
    "    print(f\"{year} IS a leap year (divisible by 400)\")\n"
   ]
  },
  {
   "cell_type": "code",
   "execution_count": 134,
   "id": "13c27db5-ccac-4ee4-80e0-89014d654cec",
   "metadata": {},
   "outputs": [
    {
     "name": "stdout",
     "output_type": "stream",
     "text": [
      "1000 is NOT a leap year (divisible by 100 but not by 400)\n",
      "1100 is NOT a leap year (divisible by 100 but not by 400)\n",
      "1200 IS a leap year (divisible by 400)\n",
      "1300 is NOT a leap year (divisible by 100 but not by 400)\n",
      "1400 is NOT a leap year (divisible by 100 but not by 400)\n",
      "1500 is NOT a leap year (divisible by 100 but not by 400)\n",
      "1600 IS a leap year (divisible by 400)\n",
      "1700 is NOT a leap year (divisible by 100 but not by 400)\n",
      "1800 is NOT a leap year (divisible by 100 but not by 400)\n",
      "1900 is NOT a leap year (divisible by 100 but not by 400)\n",
      "2000 IS a leap year (divisible by 400)\n",
      "2100 is NOT a leap year (divisible by 100 but not by 400)\n",
      "2200 is NOT a leap year (divisible by 100 but not by 400)\n",
      "<class 'list'>\n"
     ]
    }
   ],
   "source": [
    "years = [1000, 1100, 1200, 1300, 1400, 1500, 1600, 1700, 1800, 1900, 2000, 2100, 2200]\n",
    "\n",
    "for year in years:\n",
    "    if year % 4 != 0:\n",
    "        print(f\"{year} is NOT a leap year (not divisible by 4)\")\n",
    "    elif year % 100 != 0:\n",
    "        print(f\"{year} IS a leap year (divisible by 4 but not by 100)\")\n",
    "    elif year % 400 != 0:\n",
    "        print(f\"{year} is NOT a leap year (divisible by 100 but not by 400)\")\n",
    "    else:\n",
    "        print(f\"{year} IS a leap year (divisible by 400)\")\n",
    "\n",
    "print(type(years))"
   ]
  },
  {
   "cell_type": "markdown",
   "id": "83adad4f-e958-47be-a5b5-6eefc42fa602",
   "metadata": {},
   "source": [
    "# Files"
   ]
  },
  {
   "cell_type": "code",
   "execution_count": 141,
   "id": "41f40ff9-f60c-4b65-a69e-e9cb39c859e4",
   "metadata": {},
   "outputs": [
    {
     "name": "stdin",
     "output_type": "stream",
     "text": [
      "What do you want to save? Historic Records May 2025\n"
     ]
    },
    {
     "name": "stdout",
     "output_type": "stream",
     "text": [
      "Writing to a file ...\n"
     ]
    }
   ],
   "source": [
    "# Save your input in a file for later usage, or for transmission\n",
    "text_to_save = input(\"What do you want to save?\")\n",
    "filename = \"storage_or_transmission.txt\" \n",
    "print(\"Writing to a file ...\")\n",
    "with open(filename, \"w\") as f:\n",
    "    f.write(text_to_save)\n"
   ]
  },
  {
   "cell_type": "code",
   "execution_count": 143,
   "id": "c6af9b3f-5fe1-4a86-b3aa-0c0cb514dc23",
   "metadata": {},
   "outputs": [
    {
     "name": "stdout",
     "output_type": "stream",
     "text": [
      "Reading from a file ...\n",
      "Historic Records May 2025\n"
     ]
    }
   ],
   "source": [
    "print(\"Reading from a file ...\")\n",
    "filename = \"storage_or_transmission.txt\"\n",
    "with open(filename, \"r\") as f:\n",
    "    content = f.read()\n",
    "    print(content)"
   ]
  },
  {
   "cell_type": "code",
   "execution_count": 149,
   "id": "792854f1-0273-41a5-b4df-a7a433c4f424",
   "metadata": {},
   "outputs": [
    {
     "name": "stdout",
     "output_type": "stream",
     "text": [
      "Printing list\n",
      "['Last Name,First Name,Birth Year', 'Kalloe,Sunil,1999', 'Jansen,Piet,1958', 'Jansen,Sanne,2016', 'Visser,Sanne,2025', 'Monifa,Chandni,2013', 'Pinas,Anjali,1956', 'Meijer,Jan,2018', 'de Vries,Jan,1974', 'Jansen,Kees,1953', 'Visser,Sanne,1975', 'Meijer,Sanne,1993', 'Monifa,Chandni,1950', 'de Vries,Emma,2000', 'Baldewsingh,Shaquille,1960', 'Ramdien,Chandni,1966', 'Bakker,Piet,1971', 'Visser,Kees,1966', 'Jansen,Piet,2004', 'Meijer,Kees,1961', 'Kalloe,Sunil,2016']\n",
      "\n"
     ]
    }
   ],
   "source": [
    "# Looping through files\n",
    "# Basic example 1\n",
    "filename = \"netherlands_suriname_names.csv\"\n",
    "\n",
    "with open(filename, \"r\", encoding=\"utf-8\") as file:\n",
    "    lines = file.read().splitlines()\n",
    "\n",
    "print(\"Printing list\")\n",
    "print(lines)\n",
    "print()\n"
   ]
  },
  {
   "cell_type": "code",
   "execution_count": 165,
   "id": "b4a4aeec-0976-45b8-99e2-53e979913430",
   "metadata": {},
   "outputs": [
    {
     "name": "stdout",
     "output_type": "stream",
     "text": [
      "Printing three lines\n",
      "Last Name,First Name,Birth Year\n",
      "Kalloe,Sunil,1999\n",
      "Kalloe,Sunil,2016\n",
      "21\n"
     ]
    }
   ],
   "source": [
    "print(\"Printing three lines\")\n",
    "print(lines[0])\n",
    "print(lines[1])\n",
    "print(lines[-1])\n",
    "print(len(lines))\n"
   ]
  },
  {
   "cell_type": "code",
   "execution_count": 185,
   "id": "2f1dc06a-2632-4ccc-806c-0c714e8dc36d",
   "metadata": {},
   "outputs": [
    {
     "name": "stdout",
     "output_type": "stream",
     "text": [
      "Printing all lines\n",
      "\n",
      "Kalloe,Sunil,1999\n",
      "Jansen,Piet,1958\n",
      "Jansen,Sanne,2016\n",
      "Visser,Sanne,2025\n",
      "Monifa,Chandni,2013\n",
      "Pinas,Anjali,1956\n",
      "Meijer,Jan,2018\n",
      "de Vries,Jan,1974\n",
      "Jansen,Kees,1953\n",
      "Visser,Sanne,1975\n",
      "Meijer,Sanne,1993\n",
      "Monifa,Chandni,1950\n",
      "de Vries,Emma,2000\n",
      "Baldewsingh,Shaquille,1960\n",
      "Ramdien,Chandni,1966\n",
      "Bakker,Piet,1971\n",
      "Visser,Kees,1966\n",
      "Jansen,Piet,2004\n",
      "Meijer,Kees,1961\n",
      "Kalloe,Sunil,2016\n"
     ]
    }
   ],
   "source": [
    "print(\"Printing all lines\\n\") # => you will need a loop. For-loops are very common\n",
    "\n",
    "# Iterate over lines (skip header)\n",
    "for line in lines[1:]:\n",
    "    print(line)"
   ]
  },
  {
   "cell_type": "code",
   "execution_count": 187,
   "id": "1cd5e877-7785-4228-b1e5-2c20c67b54a8",
   "metadata": {},
   "outputs": [
    {
     "name": "stdout",
     "output_type": "stream",
     "text": [
      "Printing all lines\n",
      "\n",
      "['Kalloe', 'Sunil', '1999']\n",
      "['Jansen', 'Piet', '1958']\n",
      "['Jansen', 'Sanne', '2016']\n",
      "['Visser', 'Sanne', '2025']\n",
      "['Monifa', 'Chandni', '2013']\n",
      "['Pinas', 'Anjali', '1956']\n",
      "['Meijer', 'Jan', '2018']\n",
      "['de Vries', 'Jan', '1974']\n",
      "['Jansen', 'Kees', '1953']\n",
      "['Visser', 'Sanne', '1975']\n",
      "['Meijer', 'Sanne', '1993']\n",
      "['Monifa', 'Chandni', '1950']\n",
      "['de Vries', 'Emma', '2000']\n",
      "['Baldewsingh', 'Shaquille', '1960']\n",
      "['Ramdien', 'Chandni', '1966']\n",
      "['Bakker', 'Piet', '1971']\n",
      "['Visser', 'Kees', '1966']\n",
      "['Jansen', 'Piet', '2004']\n",
      "['Meijer', 'Kees', '1961']\n",
      "['Kalloe', 'Sunil', '2016']\n"
     ]
    }
   ],
   "source": [
    "filename = \"netherlands_suriname_names.csv\"\n",
    "\n",
    "with open(filename, \"r\", encoding=\"utf-8\") as file:\n",
    "    lines = file.read().splitlines()\n",
    "\n",
    "print(\"Printing all lines\\n\")\n",
    "\n",
    "# Iterate over lines (skip header)\n",
    "for line in lines[1:]:\n",
    "    fields = line.split(\",\")\n",
    "    print(fields)"
   ]
  },
  {
   "cell_type": "code",
   "execution_count": 195,
   "id": "154a6ec9-8bfc-4d1c-a103-de8bb5c04bcf",
   "metadata": {},
   "outputs": [
    {
     "name": "stdout",
     "output_type": "stream",
     "text": [
      "Jansen, Sanne\n",
      "Visser, Sanne\n",
      "Monifa, Chandni\n",
      "Meijer, Jan\n",
      "de Vries, Emma\n",
      "Jansen, Piet\n",
      "Kalloe, Sunil\n"
     ]
    }
   ],
   "source": [
    "# Iterate over lines (skip header)\n",
    "for line in lines[1:]:\n",
    "    fields = line.split(\",\")\n",
    "    if fields[2] >= \"2000\":\n",
    "        print(fields[0], fields[1], sep=\", \")"
   ]
  },
  {
   "cell_type": "markdown",
   "id": "3b839576-54b0-4cc9-ace1-46663dfd5003",
   "metadata": {},
   "source": [
    "**Sorting**"
   ]
  },
  {
   "cell_type": "code",
   "execution_count": 198,
   "id": "013248f3-1bd0-4359-9a98-c4c2897dce1a",
   "metadata": {},
   "outputs": [
    {
     "name": "stdout",
     "output_type": "stream",
     "text": [
      "Printing all lines (sorted):\n",
      "Last Name,First Name,Birth Year\n",
      "Bakker,Piet,1971\n",
      "Baldewsingh,Shaquille,1960\n",
      "Jansen,Kees,1953\n",
      "Jansen,Piet,1958\n",
      "Jansen,Piet,2004\n",
      "Jansen,Sanne,2016\n",
      "Kalloe,Sunil,1999\n",
      "Kalloe,Sunil,2016\n",
      "Meijer,Jan,2018\n",
      "Meijer,Kees,1961\n",
      "Meijer,Sanne,1993\n",
      "Monifa,Chandni,1950\n",
      "Monifa,Chandni,2013\n",
      "Pinas,Anjali,1956\n",
      "Ramdien,Chandni,1966\n",
      "Visser,Kees,1966\n",
      "Visser,Sanne,1975\n",
      "Visser,Sanne,2025\n",
      "de Vries,Emma,2000\n",
      "de Vries,Jan,1974\n"
     ]
    }
   ],
   "source": [
    "#Sorting on name\n",
    "filename = \"netherlands_suriname_names.csv\"\n",
    "\n",
    "with open(filename, \"r\", encoding=\"utf-8\") as file:\n",
    "    lines = file.read().splitlines()\n",
    "\n",
    "# Separate header and data\n",
    "header = lines[0]\n",
    "data_lines = lines[1:]\n",
    "\n",
    "# Sort the data lines alphabetically\n",
    "sorted_lines = sorted(data_lines)\n",
    "\n",
    "# Print header and sorted lines\n",
    "print(\"Printing all lines (sorted):\")\n",
    "print(header)\n",
    "for line in sorted_lines:\n",
    "    print(line)"
   ]
  },
  {
   "cell_type": "markdown",
   "id": "69a11147-1349-46f4-954c-6c05544d5e7f",
   "metadata": {},
   "source": [
    "**Sorting on birth date**"
   ]
  },
  {
   "cell_type": "code",
   "execution_count": 201,
   "id": "00e385f7-7de1-46d0-8ae6-99ee5b5b1535",
   "metadata": {},
   "outputs": [
    {
     "name": "stdout",
     "output_type": "stream",
     "text": [
      "Last Name,First Name,Birth Year\n"
     ]
    }
   ],
   "source": [
    "# More complex\n",
    "filename = \"netherlands_suriname_names.csv\"\n",
    "\n",
    "with open(filename, \"r\", encoding=\"utf-8\") as file:\n",
    "    lines = file.read().splitlines()\n",
    "\n",
    "# Separate header and data\n",
    "header = lines[0]\n",
    "data_lines = lines[1:]\n",
    "\n",
    "print(header)\n",
    "\n"
   ]
  },
  {
   "cell_type": "code",
   "execution_count": 203,
   "id": "f3a1eea0-b253-4e01-8463-94ea14c40b60",
   "metadata": {},
   "outputs": [
    {
     "name": "stdout",
     "output_type": "stream",
     "text": [
      "Printing all lines (sorted by birth year):\n",
      "Last Name,First Name,Birth Year\n",
      "Monifa,Chandni,1950\n",
      "Jansen,Kees,1953\n",
      "Pinas,Anjali,1956\n",
      "Jansen,Piet,1958\n",
      "Baldewsingh,Shaquille,1960\n",
      "Meijer,Kees,1961\n",
      "Ramdien,Chandni,1966\n",
      "Visser,Kees,1966\n",
      "Bakker,Piet,1971\n",
      "de Vries,Jan,1974\n",
      "Visser,Sanne,1975\n",
      "Meijer,Sanne,1993\n",
      "Kalloe,Sunil,1999\n",
      "de Vries,Emma,2000\n",
      "Jansen,Piet,2004\n",
      "Monifa,Chandni,2013\n",
      "Jansen,Sanne,2016\n",
      "Kalloe,Sunil,2016\n",
      "Meijer,Jan,2018\n",
      "Visser,Sanne,2025\n"
     ]
    }
   ],
   "source": [
    "# Find the index of \"Birth Year\"\n",
    "header_fields = header.split(\",\")\n",
    "birth_index = header_fields.index(\"Birth Year\")\n",
    "\n",
    "# Convert to list of tuples (birth_year_int, line)\n",
    "def parse_birth_year(line):\n",
    "    fields = line.split(\",\")\n",
    "    try:\n",
    "        return (int(fields[birth_index].strip()), line)\n",
    "    except (IndexError, ValueError):\n",
    "        return (float('inf'), line)  # Place malformed/missing years at the end\n",
    "\n",
    "# Sort by birth year\n",
    "sorted_data = sorted(data_lines, key=parse_birth_year)\n",
    "\n",
    "# Print header and sorted lines\n",
    "print(\"Printing all lines (sorted by birth year):\")\n",
    "print(header)\n",
    "for line in sorted_data:\n",
    "    print(line)"
   ]
  }
 ],
 "metadata": {
  "kernelspec": {
   "display_name": "Python [conda env:base] *",
   "language": "python",
   "name": "conda-base-py"
  },
  "language_info": {
   "codemirror_mode": {
    "name": "ipython",
    "version": 3
   },
   "file_extension": ".py",
   "mimetype": "text/x-python",
   "name": "python",
   "nbconvert_exporter": "python",
   "pygments_lexer": "ipython3",
   "version": "3.11.11"
  }
 },
 "nbformat": 4,
 "nbformat_minor": 5
}
