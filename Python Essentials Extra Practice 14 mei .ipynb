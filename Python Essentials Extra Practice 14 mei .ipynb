{
 "cells": [
  {
   "cell_type": "markdown",
   "id": "472afc5d-7d1a-4cc1-901e-486e34a137ba",
   "metadata": {},
   "source": [
    "# Praktijkvoorbeelden 14 mei"
   ]
  },
  {
   "cell_type": "markdown",
   "id": "820030e9-842f-4e2b-8386-8d3c98d7dc98",
   "metadata": {},
   "source": [
    "- Data types, conversions and operations (revisited)\n",
    "- Input (revisited) \n",
    "- Conditions (if)\n",
    "- Functions (readable, manageable and reusable code)\n",
    "- Loops (for, while)\n",
    "- Files (intro with text files)\n",
    "- Lists: meer volgende week, eerst oefenen met loops\n",
    "- Sorting (intro)\n"
   ]
  }
 ],
 "metadata": {
  "kernelspec": {
   "display_name": "Python [conda env:base] *",
   "language": "python",
   "name": "conda-base-py"
  },
  "language_info": {
   "codemirror_mode": {
    "name": "ipython",
    "version": 3
   },
   "file_extension": ".py",
   "mimetype": "text/x-python",
   "name": "python",
   "nbconvert_exporter": "python",
   "pygments_lexer": "ipython3",
   "version": "3.11.11"
  }
 },
 "nbformat": 4,
 "nbformat_minor": 5
}
