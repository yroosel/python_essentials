{
 "cells": [
  {
   "cell_type": "markdown",
   "id": "40de52a4-0f1d-4743-9d5c-75ed54fbceac",
   "metadata": {},
   "source": [
    "# Python Essentials Prep 3-4 juni"
   ]
  },
  {
   "cell_type": "markdown",
   "id": "4cd981a1-9d0c-419a-9451-9a47ba792ea8",
   "metadata": {},
   "source": [
    "- Here are some tips who to work with script examples from the online course in order to master them.\n",
    "- Preparing for the exam means that you have experimented with every key example from the course.\n",
    "\n",
    "Let's focus on examples directly from the course."
   ]
  },
  {
   "cell_type": "markdown",
   "id": "0ee9aa7f-0b37-4175-b745-0a477b5ef0e7",
   "metadata": {},
   "source": [
    "## Outputs"
   ]
  },
  {
   "cell_type": "code",
   "execution_count": 24,
   "id": "6522e50f-8e46-4f27-b4a6-d1c9a14a6011",
   "metadata": {},
   "outputs": [
    {
     "name": "stdout",
     "output_type": "stream",
     "text": [
      "fish&chips\n",
      "Procter&Gamble\n",
      "Johnson&Johnson\n"
     ]
    }
   ],
   "source": [
    "print(\"fish\", \"chips\", sep=\"&\")\n",
    "print(\"Procter\", \"Gamble\", sep=\"&\")\n",
    "print(\"Johnson\", \"Johnson\", sep=\"&\")\n"
   ]
  },
  {
   "cell_type": "code",
   "execution_count": 442,
   "id": "81339b5d-e182-48b5-839f-1ab7a1ad307c",
   "metadata": {},
   "outputs": [
    {
     "name": "stdout",
     "output_type": "stream",
     "text": [
      "fish & chips Procter & Gamble Johnson & Johnson "
     ]
    }
   ],
   "source": [
    "print(\"fish\", \"chips\", sep=\" & \", end=\" \")\n",
    "print(\"Procter\", \"Gamble\", sep=\" & \", end=\" \")\n",
    "print(\"Johnson\", \"Johnson\", sep=\" & \", end=\" \")\n"
   ]
  },
  {
   "cell_type": "code",
   "execution_count": 154,
   "id": "54684b9e-515d-4ed6-88d4-323f41e41ed2",
   "metadata": {},
   "outputs": [
    {
     "name": "stdout",
     "output_type": "stream",
     "text": [
      "fish and chipsor Procter and Gamble or Johnson and Johnson or "
     ]
    }
   ],
   "source": [
    "print(\"fish\", \"chips\", sep=\" and \", end=\"or \")\n",
    "print(\"Procter\", \"Gamble\", sep=\" and \", end=\" or \")\n",
    "print(\"Johnson\", \"Johnson\", sep=\" and \", end=\" or \")"
   ]
  },
  {
   "cell_type": "code",
   "execution_count": 156,
   "id": "cd109072-bee3-41d0-98a9-a738ae6a2972",
   "metadata": {},
   "outputs": [
    {
     "name": "stdout",
     "output_type": "stream",
     "text": [
      "P*y*t*h*o*n*"
     ]
    }
   ],
   "source": [
    "word = \"Python\"\n",
    "for letter in word:\n",
    "    print(letter, end=\"*\")"
   ]
  },
  {
   "cell_type": "code",
   "execution_count": 190,
   "id": "17b958a3-d662-42ce-a094-67cda2e5041a",
   "metadata": {},
   "outputs": [
    {
     "name": "stdout",
     "output_type": "stream",
     "text": [
      "P\n",
      "y\n",
      "t\n",
      "h\n",
      "o\n",
      "n\n",
      "P y t h o n "
     ]
    }
   ],
   "source": [
    "# Not in  the course but similar\n",
    "text = \"Python is powerful\"\n",
    "for letter in text:\n",
    "    if letter == \" \":\n",
    "        break  # Stop when the first space is found\n",
    "    print(letter)    \n",
    "for letter in text:\n",
    "    if letter == \" \":\n",
    "        break  # Stop when the first space is found\n",
    "    print(letter, end=\" \")\n"
   ]
  },
  {
   "cell_type": "markdown",
   "id": "5d3a8d60-5c68-4b57-8a50-22a59f48697a",
   "metadata": {},
   "source": [
    "## Operators"
   ]
  },
  {
   "cell_type": "code",
   "execution_count": 446,
   "id": "3f0f9b88-0b38-4e48-8112-5f417569513e",
   "metadata": {},
   "outputs": [
    {
     "name": "stdout",
     "output_type": "stream",
     "text": [
      "0\n"
     ]
    }
   ],
   "source": [
    "x = 1 // 2 * 3    # Both // and * have the same precedence, and are evaluated left to right\n",
    "print(x)"
   ]
  },
  {
   "cell_type": "code",
   "execution_count": 444,
   "id": "282a00e1-8b8c-4ba4-b0fd-111686f13cce",
   "metadata": {},
   "outputs": [
    {
     "name": "stdout",
     "output_type": "stream",
     "text": [
      "3\n"
     ]
    }
   ],
   "source": [
    "x = 2 // 2 * 3    # Both // and * have the same precedence, and are evaluated left to right\n",
    "print(x)"
   ]
  },
  {
   "cell_type": "code",
   "execution_count": 734,
   "id": "88bbfdb6-dd1b-418f-b7ec-4c9a0bb9ff56",
   "metadata": {},
   "outputs": [
    {
     "name": "stdout",
     "output_type": "stream",
     "text": [
      "1 1 2\n"
     ]
    }
   ],
   "source": [
    "# Multiple assignment is evaluated in parallel (right-hand side is evaluated first).\n",
    "# You can reuse variables on both sides safely in Python.\n",
    "x = 1\n",
    "y = 2\n",
    "x, y, z = x, x, y\n",
    "z, y, z = x, y, z\n",
    "\n",
    "print(x, y, z)\n"
   ]
  },
  {
   "cell_type": "code",
   "execution_count": 448,
   "id": "2da60603-8cfc-4502-84f0-954d12d04c9f",
   "metadata": {},
   "outputs": [
    {
     "name": "stdout",
     "output_type": "stream",
     "text": [
      "1\n"
     ]
    }
   ],
   "source": [
    "x = 11\n",
    "y = 4\n",
    " \n",
    "x = x % y    # x = 11 % 4 result: 3\n",
    "x = x % y    # x = 3 % 4  result: 3   # result stays 3\n",
    "y = y % x    # y = 4 % 3  result: 1\n",
    " \n",
    "print(y)"
   ]
  },
  {
   "cell_type": "code",
   "execution_count": 450,
   "id": "1212d7ea-d1cb-467c-94c3-5cb82430e553",
   "metadata": {},
   "outputs": [
    {
     "name": "stdout",
     "output_type": "stream",
     "text": [
      "17\n"
     ]
    }
   ],
   "source": [
    "y = 2 + 3 * 5\n",
    "# Multiplication (*) has higher precedence than addition (+)\n",
    "# So evaluate 3 * 5 first → 15\n",
    "# Then add 2 + 15 → 17\n",
    "print(y)"
   ]
  },
  {
   "cell_type": "markdown",
   "id": "767fd751-f85e-437a-8c2f-01251333d317",
   "metadata": {},
   "source": [
    "**What Does PEMDAS Stand For?**\n",
    "\n",
    "Standard order of operations\n",
    "\n",
    "- **P**\tParentheses\t(2 + 3) * 4\n",
    "- **E**\tExponents (powers)\t2 ** 3 → 8\n",
    "- **MD**\tMultiplication and Division (left to right)\t6 / 2 * 3 → 9.0\n",
    "- **AS**\tAddition and Subtraction (left to right)"
   ]
  },
  {
   "cell_type": "code",
   "execution_count": 56,
   "id": "99f9a649-385d-45a9-b741-ed54d6c7a14f",
   "metadata": {},
   "outputs": [
    {
     "name": "stdout",
     "output_type": "stream",
     "text": [
      "17.5\n"
     ]
    }
   ],
   "source": [
    "x = 1 / 2 + 3 // 3 + 4 ** 2\n",
    "# standard order of operations (PEMDAS):\n",
    "# ** → exponentiation\n",
    "# / and // → division and floor division (same precedence, left to right)\n",
    "# + → addition\n",
    "print(x)"
   ]
  },
  {
   "cell_type": "code",
   "execution_count": 5,
   "id": "257c9bb5-14c4-422d-8d0c-455c15082cce",
   "metadata": {},
   "outputs": [
    {
     "name": "stdout",
     "output_type": "stream",
     "text": [
      "1.0\n"
     ]
    }
   ],
   "source": [
    "a = 6\n",
    "b = 3\n",
    "a /= 2 * b\n",
    "# a = a / (2 * b)\n",
    "print(a)\n",
    " "
   ]
  },
  {
   "cell_type": "code",
   "execution_count": 459,
   "id": "93d406da-75f5-429b-9476-cd382f964881",
   "metadata": {},
   "outputs": [
    {
     "name": "stdout",
     "output_type": "stream",
     "text": [
      "y = -1.0\n"
     ]
    }
   ],
   "source": [
    "x = 0\n",
    "x = float(x)                           \n",
    "# x becomes a float: 0.0\n",
    "y = 3 * x**3 - 2 * x**2 + 3 * x - 1\n",
    "# This code evaluates a cubic polynomial, a polynomial of degree 3, meaning the highest exponent of the variable is 3\n",
    "# The final value is a float, even though the result looks like a whole number.\n",
    "\n",
    "print(\"y =\", y)\n"
   ]
  },
  {
   "cell_type": "code",
   "execution_count": 461,
   "id": "cdfc5496-2638-4261-b1f4-57b237878f7f",
   "metadata": {},
   "outputs": [
    {
     "name": "stdout",
     "output_type": "stream",
     "text": [
      "y = 3.0\n"
     ]
    }
   ],
   "source": [
    "x = 1\n",
    "x = float(x)\n",
    "y = 3 * x**3 - 2 * x**2 + 3 * x - 1\n",
    "print(\"y =\", y)"
   ]
  },
  {
   "cell_type": "code",
   "execution_count": 463,
   "id": "e66c07ae-1b76-4194-93c1-ed71e0b56b07",
   "metadata": {},
   "outputs": [
    {
     "name": "stdout",
     "output_type": "stream",
     "text": [
      "y = -9.0\n"
     ]
    }
   ],
   "source": [
    "x = -1\n",
    "x = float(x)\n",
    "y = 3 * x**3 - 2 * x**2 + 3 * x - 1\n",
    "print(\"y =\", y)"
   ]
  },
  {
   "cell_type": "code",
   "execution_count": 465,
   "id": "765bf7cf-a240-4f02-bf36-e7e05950d6f3",
   "metadata": {},
   "outputs": [
    {
     "name": "stdout",
     "output_type": "stream",
     "text": [
      "True\n"
     ]
    }
   ],
   "source": [
    "z = 10\n",
    "y = 0\n",
    "x = y < z and z > y or y > z and z < y \n",
    "#  (y < z and z > y) or (y > z and z < y)\n",
    "print(x)"
   ]
  },
  {
   "cell_type": "markdown",
   "id": "a6f398b4-1f9f-4c9b-9419-d3d7b74aa152",
   "metadata": {},
   "source": [
    "## Conditions"
   ]
  },
  {
   "cell_type": "code",
   "execution_count": 58,
   "id": "08469798-caaa-4534-a204-b609bc7bd56c",
   "metadata": {},
   "outputs": [
    {
     "name": "stdout",
     "output_type": "stream",
     "text": [
      "x == 10\n",
      "x > 5\n"
     ]
    }
   ],
   "source": [
    "x = 10\n",
    " \n",
    "if x == 10: # True\n",
    "    print(\"x == 10\")\n",
    " \n",
    "if x > 15: # False\n",
    "    print(\"x > 15\")\n",
    " \n",
    "elif x > 10: # False\n",
    "    print(\"x > 10\")\n",
    " \n",
    "elif x > 5: # True\n",
    "    print(\"x > 5\")\n",
    " \n",
    "else:\n",
    "    print(\"else will not be executed\")\n",
    " "
   ]
  },
  {
   "cell_type": "code",
   "execution_count": 60,
   "id": "b9e0cff2-0d36-4656-9a7f-f27e976fde21",
   "metadata": {},
   "outputs": [
    {
     "name": "stdout",
     "output_type": "stream",
     "text": [
      "nested: x == 10\n"
     ]
    }
   ],
   "source": [
    "# nested conditions\n",
    "x = 10\n",
    " \n",
    "if x > 5: # True\n",
    "    if x == 6: # False\n",
    "        print(\"nested: x == 6\")\n",
    "    elif x == 10: # True\n",
    "        print(\"nested: x == 10\")\n",
    "    else:\n",
    "        print(\"nested: else\")\n",
    "else:\n",
    "    print(\"else\")"
   ]
  },
  {
   "cell_type": "code",
   "execution_count": 62,
   "id": "8b397268-86af-4767-80cc-b102f633a227",
   "metadata": {},
   "outputs": [
    {
     "name": "stdout",
     "output_type": "stream",
     "text": [
      "False\n",
      "True\n"
     ]
    }
   ],
   "source": [
    "x, y, z = 5, 10, 8\n",
    " \n",
    "print(x > z)\n",
    "print((y - 5) == x)"
   ]
  },
  {
   "cell_type": "code",
   "execution_count": 66,
   "id": "4ef2a4aa-2d67-49ca-8b2e-219c38db3ebd",
   "metadata": {},
   "outputs": [
    {
     "name": "stdout",
     "output_type": "stream",
     "text": [
      "one\n",
      "two\n"
     ]
    }
   ],
   "source": [
    "x = 1\n",
    "y = 1.0\n",
    "z = \"1\"\n",
    " \n",
    "if x == y:\n",
    "    print(\"one\")\n",
    "if y == int(z):\n",
    "    print(\"two\")\n",
    "elif x == y:\n",
    "    print(\"three\")\n",
    "else:\n",
    "    print(\"four\")"
   ]
  },
  {
   "cell_type": "markdown",
   "id": "50ded0e0-070b-4fd0-a5e2-d58f270be09e",
   "metadata": {},
   "source": [
    "## Looping"
   ]
  },
  {
   "cell_type": "code",
   "execution_count": 467,
   "id": "2b86c7d0-a449-4e87-8a0b-af74dd36f872",
   "metadata": {},
   "outputs": [
    {
     "name": "stdout",
     "output_type": "stream",
     "text": [
      "*\n",
      "*\n"
     ]
    }
   ],
   "source": [
    "# How many stars (*) will the following snippet send to the console?\n",
    "i = 0\n",
    "while i <= 3 :\n",
    "    i += 2\n",
    "    print(\"*\")"
   ]
  },
  {
   "cell_type": "code",
   "execution_count": 469,
   "id": "7666f8d2-3181-4a04-9fb8-ebbf8da1b98c",
   "metadata": {},
   "outputs": [
    {
     "name": "stdout",
     "output_type": "stream",
     "text": [
      "*\n"
     ]
    }
   ],
   "source": [
    "# How many stars (*) will the following snippet send to the console?\n",
    "i = 0\n",
    "while i <= 5 :\n",
    "    i += 1\n",
    "    if i % 2 == 0:\n",
    "      break\n",
    "    print(\"*\")"
   ]
  },
  {
   "cell_type": "code",
   "execution_count": 471,
   "id": "09f715ff-eb88-4b15-96c3-a0d5dff02eba",
   "metadata": {},
   "outputs": [
    {
     "name": "stdout",
     "output_type": "stream",
     "text": [
      "#\n",
      "#\n"
     ]
    }
   ],
   "source": [
    "# How many hashes (#) will the following snippet send to the console?\n",
    "for i in range(1):\n",
    "    print(\"#\")\n",
    "else:\n",
    "    print(\"#\")  ## a for...else block executes the else after the loop finishes normally"
   ]
  },
  {
   "cell_type": "code",
   "execution_count": 392,
   "id": "58982e4f-fc3d-4dc5-bf1c-cad220961c51",
   "metadata": {},
   "outputs": [
    {
     "name": "stdout",
     "output_type": "stream",
     "text": [
      "#\n",
      "#\n",
      "#\n"
     ]
    }
   ],
   "source": [
    "var = 0\n",
    "while var < 6:\n",
    "    var += 1\n",
    "    if var % 2 == 0:\n",
    "        continue    # skips printing\n",
    "    print(\"#\")\n",
    " "
   ]
  },
  {
   "cell_type": "code",
   "execution_count": 132,
   "id": "0d05e59c-78b3-4a5c-984a-21c997faa264",
   "metadata": {},
   "outputs": [
    {
     "name": "stdout",
     "output_type": "stream",
     "text": [
      "1\n",
      "2\n",
      "3\n",
      "4\n",
      "else: 5\n"
     ]
    }
   ],
   "source": [
    "i = 1\n",
    "while i < 5:\n",
    "    print(i)\n",
    "    i += 1\n",
    "else:\n",
    "    print(\"else:\", i)\n"
   ]
  },
  {
   "cell_type": "code",
   "execution_count": 138,
   "id": "06811a15-5568-41b4-a3ca-4fb0c90a2ce3",
   "metadata": {},
   "outputs": [
    {
     "name": "stdout",
     "output_type": "stream",
     "text": [
      "0\n",
      "1\n",
      "2\n",
      "3\n",
      "4\n",
      "else: 4\n"
     ]
    }
   ],
   "source": [
    "for i in range(5):\n",
    "    print(i)\n",
    "else:\n",
    "    print(\"else:\", i)"
   ]
  },
  {
   "cell_type": "code",
   "execution_count": 198,
   "id": "04901053-5e6c-427b-9686-0a432a708376",
   "metadata": {},
   "outputs": [
    {
     "name": "stdout",
     "output_type": "stream",
     "text": [
      "0 1 2 "
     ]
    }
   ],
   "source": [
    "for i in range(3):\n",
    "    print(i, end=\" \")  # Outputs: 0 1 2"
   ]
  },
  {
   "cell_type": "code",
   "execution_count": 196,
   "id": "1dc7005d-78b0-4278-bf95-fe6baaa1ff66",
   "metadata": {},
   "outputs": [
    {
     "name": "stdout",
     "output_type": "stream",
     "text": [
      "6 4 2 "
     ]
    }
   ],
   "source": [
    "for i in range(6, 1, -2):\n",
    "    print(i, end=\" \")  # Outputs: 6, 4, 2"
   ]
  },
  {
   "cell_type": "code",
   "execution_count": 218,
   "id": "e1eb0f29-e5fb-485c-8fe6-133cd7ac63d6",
   "metadata": {},
   "outputs": [
    {
     "name": "stdout",
     "output_type": "stream",
     "text": [
      "-1\n",
      "0\n",
      "1\n",
      "2\n",
      "3\n"
     ]
    }
   ],
   "source": [
    "n = range(4)\n",
    " \n",
    "for num in n:\n",
    "    print(num - 1)\n",
    "else:\n",
    "    print(num)"
   ]
  },
  {
   "cell_type": "code",
   "execution_count": 222,
   "id": "dd700ae7-7236-40d7-8e23-058687b8e5d4",
   "metadata": {},
   "outputs": [
    {
     "name": "stdout",
     "output_type": "stream",
     "text": [
      "0\n",
      "3\n"
     ]
    }
   ],
   "source": [
    "for i in range(0, 6, 3):\n",
    "    print(i)"
   ]
  },
  {
   "cell_type": "code",
   "execution_count": 146,
   "id": "8db233d4-701d-4848-83f1-5efc50ee0762",
   "metadata": {},
   "outputs": [
    {
     "name": "stdout",
     "output_type": "stream",
     "text": [
      "100\n",
      "101\n",
      "102\n",
      "103\n",
      "104\n",
      "105\n",
      "106\n",
      "107\n",
      "108\n",
      "109\n",
      "110\n",
      "else: 110\n"
     ]
    }
   ],
   "source": [
    "i = 111\n",
    "for i in range(100, 111):\n",
    "    print(i)\n",
    "else:\n",
    "    print(\"else:\", i)\n"
   ]
  },
  {
   "cell_type": "code",
   "execution_count": 148,
   "id": "3e1f0f78-2837-485b-9b95-7d4e228c45d7",
   "metadata": {},
   "outputs": [
    {
     "name": "stdout",
     "output_type": "stream",
     "text": [
      "5\n",
      "4\n",
      "3\n"
     ]
    }
   ],
   "source": [
    "counter = 5\n",
    "while counter > 2:\n",
    "    print(counter)\n",
    "    counter -= 1"
   ]
  },
  {
   "cell_type": "code",
   "execution_count": 473,
   "id": "6f2bf305-b0d1-427a-b38f-f2d411ff75c1",
   "metadata": {},
   "outputs": [
    {
     "name": "stdout",
     "output_type": "stream",
     "text": [
      "Inside loop: 5\n",
      "Inside loop: 4\n",
      "Inside loop: 3\n",
      "Inside loop: 2\n",
      "Inside loop: 1\n",
      "Outside loop: 0\n"
     ]
    }
   ],
   "source": [
    "counter = 5\n",
    "while counter != 0:\n",
    "    print(\"Inside loop:\", counter)\n",
    "    counter -= 1\n",
    "print(\"Outside loop:\", counter)\n",
    " "
   ]
  },
  {
   "cell_type": "code",
   "execution_count": 475,
   "id": "655dda5c-f190-4d49-9a32-cacc0c7ecdb4",
   "metadata": {},
   "outputs": [
    {
     "name": "stdout",
     "output_type": "stream",
     "text": [
      "Inside loop: 5\n",
      "Inside loop: 4\n",
      "Inside loop: 3\n",
      "Inside loop: 2\n",
      "Inside loop: 1\n",
      "Outside loop: 0\n"
     ]
    }
   ],
   "source": [
    "counter = 5\n",
    "while counter:\n",
    "    print(\"Inside loop:\", counter)\n",
    "    counter -= 1\n",
    "print(\"Outside loop:\", counter)"
   ]
  },
  {
   "cell_type": "code",
   "execution_count": 72,
   "id": "91f47bad-e532-448e-b60b-1e5b379a6776",
   "metadata": {},
   "outputs": [
    {
     "name": "stdout",
     "output_type": "stream",
     "text": [
      "Looping:  0\n",
      "Looping:  1\n",
      "Looping:  2\n",
      "Looping:  3\n",
      "Looping:  4\n",
      "Looping:  5\n",
      "Looping:  6\n",
      "Looping:  7\n",
      "Looping:  8\n",
      "Looping:  9\n"
     ]
    }
   ],
   "source": [
    "i = 0\n",
    "while i < 10:\n",
    "    print(\"Looping: \", i)\n",
    "    i += 1"
   ]
  },
  {
   "cell_type": "code",
   "execution_count": 76,
   "id": "c61392bf-16f2-489a-ac05-0878ad15beee",
   "metadata": {},
   "outputs": [
    {
     "name": "stdout",
     "output_type": "stream",
     "text": [
      "Looping:  0\n",
      "Looping:  1\n",
      "Looping:  2\n",
      "Looping:  3\n",
      "Looping:  4\n",
      "Looping:  5\n",
      "Looping:  6\n",
      "Looping:  7\n",
      "Looping:  8\n",
      "Looping:  9\n"
     ]
    }
   ],
   "source": [
    "for i in range(10):\n",
    "    print(\"Looping: \", i)\n",
    "    pass # <= placeholder statement. It does nothing and is used when a statement is syntactically required but no action is needed.\n"
   ]
  },
  {
   "cell_type": "code",
   "execution_count": 477,
   "id": "eb6a1c89-c04a-4cd9-8521-d94b07df71f1",
   "metadata": {},
   "outputs": [
    {
     "name": "stdout",
     "output_type": "stream",
     "text": [
      "The value of i is currently: 2\n",
      "The value of i is currently: 3\n",
      "The value of i is currently: 4\n",
      "The value of i is currently: 5\n",
      "The value of i is currently: 6\n",
      "The value of i is currently: 7\n"
     ]
    }
   ],
   "source": [
    "for i in range(2, 8):\n",
    "    print(\"The value of i is currently:\", i)"
   ]
  },
  {
   "cell_type": "code",
   "execution_count": 479,
   "id": "7cc0888b-b1f6-4508-b631-13b890381b5d",
   "metadata": {},
   "outputs": [
    {
     "name": "stdout",
     "output_type": "stream",
     "text": [
      "The value of i is currently: 2\n",
      "The value of i is currently: 5\n"
     ]
    }
   ],
   "source": [
    "for i in range(2, 8, 3):\n",
    "    print(\"The value of i is currently:\", i)\n"
   ]
  },
  {
   "cell_type": "code",
   "execution_count": 84,
   "id": "2c1ef766-5dc0-4e53-b264-7847a67c4bdc",
   "metadata": {},
   "outputs": [],
   "source": [
    "for i in range(1, 1): # <= Start at 1 and go up to but not including 1\n",
    "    print(\"The value of i is currently:\", i)"
   ]
  },
  {
   "cell_type": "code",
   "execution_count": 481,
   "id": "d9ff40f9-8f8b-40b6-a62b-441f38c1de47",
   "metadata": {},
   "outputs": [],
   "source": [
    "for i in range(2, 1): # <= Start at 2 and go up to but not including 1\n",
    "    print(\"The value of i is currently:\", i)"
   ]
  },
  {
   "cell_type": "code",
   "execution_count": 483,
   "id": "4a35d91f-393b-4f30-869f-a55e01b32064",
   "metadata": {},
   "outputs": [
    {
     "name": "stdout",
     "output_type": "stream",
     "text": [
      "The value of i is currently: -2\n",
      "The value of i is currently: -1\n",
      "The value of i is currently: 0\n"
     ]
    }
   ],
   "source": [
    "for i in range(-2, 1): # <= Start at -2 and go up to but not including 1\n",
    "    print(\"The value of i is currently:\", i)"
   ]
  },
  {
   "cell_type": "code",
   "execution_count": 487,
   "id": "24c8102b-24d9-4346-8d49-4c673100b0df",
   "metadata": {},
   "outputs": [
    {
     "name": "stdout",
     "output_type": "stream",
     "text": [
      "2 to the power of 0 is 1\n",
      "2 to the power of 1 is 2\n",
      "2 to the power of 2 is 4\n",
      "2 to the power of 3 is 8\n",
      "2 to the power of 4 is 16\n",
      "2 to the power of 5 is 32\n",
      "2 to the power of 6 is 64\n",
      "2 to the power of 7 is 128\n"
     ]
    }
   ],
   "source": [
    "power = 1\n",
    "for expo in range(8):\n",
    "    print(\"2 to the power of\", expo, \"is\", power)\n",
    "    power *= 2\n"
   ]
  },
  {
   "cell_type": "code",
   "execution_count": 489,
   "id": "eb448855-83c8-48dd-92b5-ba2b47033929",
   "metadata": {},
   "outputs": [
    {
     "name": "stdout",
     "output_type": "stream",
     "text": [
      "2\n",
      "4\n",
      "6\n",
      "8\n"
     ]
    }
   ],
   "source": [
    "for i in range(1, 10):\n",
    "    if i % 2 == 0:\n",
    "        print(i)"
   ]
  },
  {
   "cell_type": "code",
   "execution_count": 495,
   "id": "758f71b7-04b4-4c70-b8d9-c32456cb5372",
   "metadata": {},
   "outputs": [
    {
     "name": "stdout",
     "output_type": "stream",
     "text": [
      "The break instruction:\n",
      "Inside loop: 1\n",
      "Inside loop: 2\n",
      "Outside loop\n"
     ]
    }
   ],
   "source": [
    "# break - example\n",
    "\n",
    "print(\"The break instruction:\")\n",
    "for i in range(1, 6):\n",
    "    if i == 3:\n",
    "        break    # The break statement exits the loop immediately when i == 3\n",
    "    print(\"Inside loop:\", i)\n",
    "print(\"Outside loop\")\n"
   ]
  },
  {
   "cell_type": "code",
   "execution_count": 499,
   "id": "a6dee265-aae0-4d83-bf9e-33d2526d26df",
   "metadata": {},
   "outputs": [
    {
     "name": "stdout",
     "output_type": "stream",
     "text": [
      "\n",
      "The continue instruction:\n",
      "Inside loop: 1\n",
      "Inside loop: 2\n",
      "Inside loop: 4\n",
      "Inside loop: 5\n",
      "Outside loop\n"
     ]
    }
   ],
   "source": [
    "# continue - example\n",
    "\n",
    "print(\"\\nThe continue instruction:\")\n",
    "for i in range(1, 6):\n",
    "    if i == 3:\n",
    "        continue # Skips the rest of the loop body for that iteration\n",
    "    print(\"Inside loop:\", i)\n",
    "print(\"Outside loop\")\n"
   ]
  },
  {
   "cell_type": "code",
   "execution_count": 505,
   "id": "2c98404f-1e60-48c2-b150-089b1631a8fe",
   "metadata": {},
   "outputs": [
    {
     "name": "stdout",
     "output_type": "stream",
     "text": [
      "\n",
      "The continue instruction:\n",
      "Inside loop: 1\n",
      "Inside loop: 2\n",
      "Inside loop: 3\n",
      "Inside loop: 4\n",
      "Inside loop: 5\n",
      "Outside loop\n"
     ]
    }
   ],
   "source": [
    "# continue - example\n",
    "\n",
    "print(\"\\nThe continue instruction:\")\n",
    "for i in range(1, 6):\n",
    "    if i == 3:\n",
    "        pass # Does nothing, the loop continues normally\n",
    "    print(\"Inside loop:\", i)\n",
    "print(\"Outside loop\")\n"
   ]
  },
  {
   "cell_type": "code",
   "execution_count": 507,
   "id": "a69cae95-ff5e-4833-a7d3-d7d7798e3ed9",
   "metadata": {},
   "outputs": [
    {
     "name": "stdout",
     "output_type": "stream",
     "text": [
      "Odd numbers between 1 and 10:\n",
      "1\n",
      "3\n",
      "5\n",
      "7\n",
      "9\n",
      "Done.\n"
     ]
    }
   ],
   "source": [
    "# Not from the course, but similar\n",
    "print(\"Odd numbers between 1 and 10:\")\n",
    "\n",
    "for i in range(1, 11):\n",
    "    if i % 2 == 0:\n",
    "        continue  # Skip even numbers\n",
    "    print(i)\n",
    "\n",
    "print(\"Done.\")"
   ]
  },
  {
   "cell_type": "code",
   "execution_count": 509,
   "id": "42570cc6-92ed-402e-af2c-21286847c6c4",
   "metadata": {},
   "outputs": [
    {
     "name": "stdout",
     "output_type": "stream",
     "text": [
      "Counting up to 10, but stop at 5:\n",
      "Current number: 1\n",
      "Current number: 2\n",
      "Current number: 3\n",
      "Current number: 4\n",
      "Stopping the loop at 5\n",
      "Loop finished.\n"
     ]
    }
   ],
   "source": [
    "# Not from the course, but similar\n",
    "print(\"Counting up to 10, but stop at 5:\")\n",
    "\n",
    "for i in range(1, 11):\n",
    "    if i == 5:\n",
    "        print(\"Stopping the loop at\", i)\n",
    "        break  # Exit the loop completely\n",
    "    print(\"Current number:\", i)\n",
    "\n",
    "print(\"Loop finished.\")"
   ]
  },
  {
   "cell_type": "markdown",
   "id": "fb901523-402d-4fdd-8142-1c8a7548bf73",
   "metadata": {},
   "source": [
    "**Influencing loops: continue vs break vs pass**\n",
    "\n",
    "- **continue**\n",
    "    - Skips the rest of the current iteration\n",
    "    - When you want to ignore specific values\n",
    "- **break**\n",
    "    - Exits the entire loop early\n",
    "    -  When a condition is met to stop looping\n",
    "- **pass**\n",
    "    - Does nothing, placeholder\n",
    "    - Used to write code that runs later"
   ]
  },
  {
   "cell_type": "code",
   "execution_count": 200,
   "id": "4da41bd9-a8ba-4b64-a204-ef2cb5db9821",
   "metadata": {},
   "outputs": [
    {
     "name": "stdout",
     "output_type": "stream",
     "text": [
      "john.smith"
     ]
    }
   ],
   "source": [
    "for ch in \"john.smith@pythoninstitute.org\":\n",
    "    if ch == \"@\":\n",
    "        break\n",
    "    print(ch, end=\"\")"
   ]
  },
  {
   "cell_type": "code",
   "execution_count": 202,
   "id": "e2940974-9aed-4b87-9a10-702cb890ef1a",
   "metadata": {},
   "outputs": [
    {
     "name": "stdout",
     "output_type": "stream",
     "text": [
      "Username: john.smith\n",
      "Domain name: pythoninstitute\n",
      "Top-level domain: org\n"
     ]
    }
   ],
   "source": [
    "# Similar example,not in the course\n",
    "email = \"john.smith@pythoninstitute.org\"\n",
    "\n",
    "# Split into local part and domain\n",
    "local_part, domain_full = email.split(\"@\")\n",
    "\n",
    "# Split domain into name and top-level domain\n",
    "domain_name, tld = domain_full.rsplit(\".\", 1)\n",
    "\n",
    "# Display the results\n",
    "print(\"Username:\", local_part)\n",
    "print(\"Domain name:\", domain_name)\n",
    "print(\"Top-level domain:\", tld)"
   ]
  },
  {
   "cell_type": "code",
   "execution_count": 204,
   "id": "55e29bdd-f7c0-4741-bfbb-15797c4b8d6b",
   "metadata": {},
   "outputs": [
    {
     "name": "stdout",
     "output_type": "stream",
     "text": [
      "x165x318x651x"
     ]
    }
   ],
   "source": [
    "for digit in \"0165031806510\":\n",
    "    if digit == \"0\":\n",
    "        print(\"x\", end=\"\")\n",
    "        continue\n",
    "    print(digit, end=\"\")"
   ]
  },
  {
   "cell_type": "code",
   "execution_count": 216,
   "id": "5adef618-76c2-4510-b59f-4b4fb16f6020",
   "metadata": {},
   "outputs": [
    {
     "name": "stdout",
     "output_type": "stream",
     "text": [
      "32#165#318#651#"
     ]
    }
   ],
   "source": [
    "# Similar example\n",
    "for digit in \"320165031806510\":\n",
    "    if digit == \"0\":\n",
    "        print(\"#\", end=\"\")\n",
    "        continue\n",
    "    print(digit, end=\"\")"
   ]
  },
  {
   "cell_type": "code",
   "execution_count": 511,
   "id": "6b6e7333-19e9-4d2e-9bc9-5ac46d09d43f",
   "metadata": {},
   "outputs": [
    {
     "name": "stdout",
     "output_type": "stream",
     "text": [
      "True\n",
      "True\n"
     ]
    }
   ],
   "source": [
    "var = 1\n",
    "print(var > 0)              # var > 0 → 1 > 0 → True\n",
    "print(not (var <= 0))       # First evaluate var <= 0 → 1 <= 0 → False ; Then apply not → not False → True\n"
   ]
  },
  {
   "cell_type": "markdown",
   "id": "b5f7d0a1-e6b4-4b0d-986f-5c587389a7d5",
   "metadata": {},
   "source": [
    "## True & False"
   ]
  },
  {
   "cell_type": "code",
   "execution_count": 513,
   "id": "be8841ef-61ea-4f5f-be9f-ba8d00fc0363",
   "metadata": {},
   "outputs": [
    {
     "name": "stdout",
     "output_type": "stream",
     "text": [
      "True\n",
      "True\n"
     ]
    }
   ],
   "source": [
    "var = 1\n",
    "print(var != 0)              # var != 0 means \"var is not equal to 0\" ; 1 != 0 → True\n",
    "print(not (var == 0))        # var == 0 → 1 == 0 → False ; not False → True"
   ]
  },
  {
   "cell_type": "code",
   "execution_count": 515,
   "id": "340549ba-053a-4308-b9ff-0282ed6a2a89",
   "metadata": {},
   "outputs": [
    {
     "name": "stdout",
     "output_type": "stream",
     "text": [
      "256 1024 128\n"
     ]
    }
   ],
   "source": [
    "# Binary left shift and binary right shift\n",
    "var = 256                    # 256 = 0b1_0000_0000  (just a 1 followed by 8 zeros)\n",
    "var_right = var >> 1         # bitwise right shift: Shifts all bits one place to the right  ; Equivalent to integer division by 2\n",
    "var_left = var << 2          # bitwise left shift:  Shifts all bits two places to the left  ; Equivalent to multiplying by 4 (because 2**2 = 4)\n",
    "print(var, var_left, var_right)"
   ]
  },
  {
   "cell_type": "code",
   "execution_count": 396,
   "id": "c36ec76d-cc8d-42e9-b307-faaea3ec6085",
   "metadata": {},
   "outputs": [
    {
     "name": "stdout",
     "output_type": "stream",
     "text": [
      "#\n",
      "#\n",
      "#\n",
      "#\n"
     ]
    }
   ],
   "source": [
    "var = 1\n",
    "while var < 10:\n",
    "    print(\"#\")\n",
    "    var = var << 1    # var << 1 shifts the bits of var left by 1 position (same as multiplying by 2)"
   ]
  },
  {
   "cell_type": "code",
   "execution_count": 594,
   "id": "7f5ef56a-1b26-4b83-ba88-667d2d320be0",
   "metadata": {},
   "outputs": [
    {
     "name": "stdout",
     "output_type": "stream",
     "text": [
      "False\n",
      "True\n",
      "False\n"
     ]
    }
   ],
   "source": [
    "# Logical operators\n",
    "x = True\n",
    "y = False\n",
    "\n",
    "print(x and y)   # Logical AND\n",
    "print(x or y)    # Logical OR\n",
    "print(not x)     # Logical NOT"
   ]
  },
  {
   "cell_type": "markdown",
   "id": "3e0c1708-d127-47d7-8302-f6a193072d15",
   "metadata": {},
   "source": [
    "## Logical vs. bit operations"
   ]
  },
  {
   "cell_type": "code",
   "execution_count": 266,
   "id": "f7b99d31-ffd9-4765-a121-70f8efa50537",
   "metadata": {},
   "outputs": [
    {
     "name": "stdout",
     "output_type": "stream",
     "text": [
      "1\n",
      "2\n",
      "4\n"
     ]
    }
   ],
   "source": [
    "# Bbased on the course, but different example\n",
    "# Use Case: User Permissions with Bitwise Operators\n",
    "\n",
    "READ    = 1 << 0  # 0001\n",
    "WRITE   = 1 << 1  # 0010\n",
    "EXECUTE = 1 << 2  # 0100\n",
    "print(READ)\n",
    "print(WRITE)\n",
    "print(EXECUTE)"
   ]
  },
  {
   "cell_type": "code",
   "execution_count": 284,
   "id": "6ac0e9fb-cc14-4acb-8eb5-520d91613a66",
   "metadata": {},
   "outputs": [
    {
     "name": "stdout",
     "output_type": "stream",
     "text": [
      "False\n"
     ]
    }
   ],
   "source": [
    "x = 1\n",
    "y = 0\n",
    "\n",
    "z = ((x == y) and (x == y)) or not(x == y)\n",
    "\n",
    "    # x == y                      1 == 0 → False\n",
    "    # ((x == y) and (x == y))     False and False → False\n",
    "    # not(x == y)                 not(False) → True\n",
    "\n",
    "print(not(z))"
   ]
  },
  {
   "cell_type": "code",
   "execution_count": 402,
   "id": "9b49f1e5-2fce-4ba6-8b76-541cb4cff19a",
   "metadata": {},
   "outputs": [
    {
     "name": "stdout",
     "output_type": "stream",
     "text": [
      "2\n"
     ]
    }
   ],
   "source": [
    "# Bit Operations\n",
    "a = 1        # binary: 0001\n",
    "b = 0        # binary: 0000\n",
    "\n",
    "c = a & b    # AND: 1 & 0 = 0\n",
    "d = a | b    # OR:  1 | 0 = 1\n",
    "e = a ^ b    # XOR: 1 ^ 0 = 1\n",
    "\n",
    "print(c + d + e)"
   ]
  },
  {
   "cell_type": "code",
   "execution_count": 276,
   "id": "9e7b0ac0-24a5-4362-9236-9d89acee307b",
   "metadata": {},
   "outputs": [
    {
     "name": "stdout",
     "output_type": "stream",
     "text": [
      "0 5 -5 1 1 16\n"
     ]
    }
   ],
   "source": [
    "# Bit Operations\n",
    "x = 4   # Binary: 0100\n",
    "y = 1   # Binary: 0001\n",
    " \n",
    "a = x & y    # Bitwise AND: 0100 & 0001 → 0000 → 0\n",
    "\n",
    "b = x | y    # Bitwise OR: 0100 | 0001 → 0101 → 5\n",
    "\n",
    "c = ~x       # tricky! Bitwise NOT: flips all the bits of x\n",
    "             # x = 4 → binary: 0000 0100\n",
    "             # ~x = bitwise NOT = 1111 1011 in 2’s complement (for signed integers)\n",
    "             # This equals -5 in Python (because Python uses signed integers)\n",
    "\n",
    "d = x ^ 5    # Bitwise XOR: 0100 ^ 0101 → 0001 → 1\n",
    "e = x >> 2   # Right shift: 0100 becomes 0001 → 1\n",
    "f = x << 2   # Left shift: 0100 becomes 10000 → 16\n",
    " \n",
    "print(a, b, c, d, e, f)\n",
    " "
   ]
  },
  {
   "cell_type": "markdown",
   "id": "ecfd87ca-abe8-42ed-9d9a-2e38c2227169",
   "metadata": {},
   "source": [
    "## Lists"
   ]
  },
  {
   "cell_type": "code",
   "execution_count": 412,
   "id": "875f2216-44aa-4db3-92f7-6f0f0d5ce719",
   "metadata": {},
   "outputs": [
    {
     "name": "stdout",
     "output_type": "stream",
     "text": [
      "[2, 1, 0]\n"
     ]
    }
   ],
   "source": [
    "vals = [0, 1, 2]\n",
    "vals[0], vals[2] = vals[2], vals[0]\n",
    "# This is a simultaneous swap in Pytho ; It swaps the first and last elements of the list.\n",
    "print(vals)"
   ]
  },
  {
   "cell_type": "code",
   "execution_count": 420,
   "id": "c6da0973-2560-4f9f-8da9-53212bd1f597",
   "metadata": {},
   "outputs": [
    {
     "name": "stdout",
     "output_type": "stream",
     "text": [
      "[1, 2, 3]\n",
      "[]\n"
     ]
    }
   ],
   "source": [
    "nums = [1, 2, 3]\n",
    "print(nums)\n",
    "vals = nums[-1:-2]\n",
    "print(vals)\n",
    "# Start at index -1, which is the last element: 3\n",
    "# Stop before index -2, which is the element 2\n",
    "# BUT: the default step is +1 (left-to-right)\n",
    "# Since -1 is after -2, and we're going left to right, Python returns an empty list"
   ]
  },
  {
   "cell_type": "code",
   "execution_count": 424,
   "id": "a9f1351c-c01c-4023-971a-7bfcf1fd1bd5",
   "metadata": {},
   "outputs": [
    {
     "name": "stdout",
     "output_type": "stream",
     "text": [
      "[-1, 0, 1]\n"
     ]
    }
   ],
   "source": [
    "my_list = [i for i in range(-1, 2)]         # Remark: -1 is a number, not an index in this example\n",
    "print(my_list)"
   ]
  },
  {
   "cell_type": "code",
   "execution_count": 404,
   "id": "a85a0a3f-fae5-4245-a885-81bdb5f4dcfa",
   "metadata": {},
   "outputs": [
    {
     "name": "stdout",
     "output_type": "stream",
     "text": [
      "1\n"
     ]
    }
   ],
   "source": [
    "my_list = [3, 1, -2]\n",
    "print(my_list[my_list[-1]])                 # my_list[my_list[-1]] → my_list[-2]"
   ]
  },
  {
   "cell_type": "code",
   "execution_count": 408,
   "id": "eb1a6699-3a46-4c21-852b-80427d65c9e6",
   "metadata": {},
   "outputs": [
    {
     "name": "stdout",
     "output_type": "stream",
     "text": [
      "[2]\n"
     ]
    }
   ],
   "source": [
    "my_list = [1, 2, 3, 4]\n",
    "print(my_list[-3:-2])\n",
    "#\" Start at index -3 (value 2)\n",
    "# Stop before index -2 (value 3)\n",
    "# So the result is a list containing only [2]"
   ]
  },
  {
   "cell_type": "code",
   "execution_count": 286,
   "id": "deec703b-2768-4cf9-9da8-104cea07332f",
   "metadata": {},
   "outputs": [
    {
     "name": "stdout",
     "output_type": "stream",
     "text": [
      "Original list contents: [10, 5, 7, 2, 1]\n",
      "New list contents:  [111, 5, 7, 2, 1]\n"
     ]
    }
   ],
   "source": [
    "numbers = [10, 5, 7, 2, 1]\n",
    "print(\"Original list contents:\", numbers)    # Printing original list contents.\n",
    " \n",
    "numbers[0] = 111\n",
    "print(\"New list contents: \", numbers)        # Current list contents."
   ]
  },
  {
   "cell_type": "code",
   "execution_count": 288,
   "id": "934cfb9e-b4b4-423e-8850-405f258e46b1",
   "metadata": {},
   "outputs": [
    {
     "name": "stdout",
     "output_type": "stream",
     "text": [
      "Original list contents: [10, 5, 7, 2, 1]\n",
      "\n",
      "Previous list contents: [111, 5, 7, 2, 1]\n",
      "Previous list contents: [111, 1, 7, 2, 1]\n",
      "\n",
      "List length: 5\n"
     ]
    }
   ],
   "source": [
    "numbers = [10, 5, 7, 2, 1]\n",
    "print(\"Original list contents:\", numbers)    # Printing original list contents.\n",
    "\n",
    "numbers[0] = 111\n",
    "print(\"\\nPrevious list contents:\", numbers)  # Printing previous list contents.\n",
    "\n",
    "numbers[1] = numbers[4]                      # Copying value of the fifth element to the second.\n",
    "print(\"Previous list contents:\", numbers)    # Printing previous list contents.\n",
    "\n",
    "print(\"\\nList length:\", len(numbers))        # Printing the list's length.\n"
   ]
  },
  {
   "cell_type": "code",
   "execution_count": 290,
   "id": "10dc2e4f-6339-4b72-bc8c-0844eec2ea49",
   "metadata": {},
   "outputs": [
    {
     "name": "stdout",
     "output_type": "stream",
     "text": [
      "Original list content: [10, 5, 7, 2, 1]\n",
      "\n",
      "Previous list content: [111, 5, 7, 2, 1]\n",
      "Previous list content: [111, 1, 7, 2, 1]\n",
      "\n",
      "List's length: 5\n",
      "New list's length: 4\n",
      "\n",
      "New list content: [111, 7, 2, 1]\n"
     ]
    }
   ],
   "source": [
    "numbers = [10, 5, 7, 2, 1]\n",
    "print(\"Original list content:\", numbers)     # Printing original list content.\n",
    "\n",
    "numbers[0] = 111\n",
    "print(\"\\nPrevious list content:\", numbers)   # Printing previous list content.\n",
    "\n",
    "numbers[1] = numbers[4]                      # Copying value of the fifth element to the second.\n",
    "print(\"Previous list content:\", numbers)     # Printing previous list content.\n",
    "\n",
    "print(\"\\nList's length:\", len(numbers))      # Printing previous list length.\n",
    "\n",
    "###\n",
    "\n",
    "del numbers[1]                               # Removing the second element from the list.\n",
    "print(\"New list's length:\", len(numbers))    # Printing new list length.\n",
    "print(\"\\nNew list content:\", numbers)        # Printing current list content.\n",
    "\n",
    "###"
   ]
  },
  {
   "cell_type": "code",
   "execution_count": 292,
   "id": "0c83c94d-716b-43c8-b6d3-53dbdab1ca15",
   "metadata": {},
   "outputs": [
    {
     "name": "stdout",
     "output_type": "stream",
     "text": [
      "1\n"
     ]
    }
   ],
   "source": [
    "numbers = [111, 7, 2, 1]\n",
    "print(numbers[-1])"
   ]
  },
  {
   "cell_type": "code",
   "execution_count": 294,
   "id": "1ada35b3-0794-4e88-8401-3e7651e12821",
   "metadata": {},
   "outputs": [
    {
     "name": "stdout",
     "output_type": "stream",
     "text": [
      "2\n"
     ]
    }
   ],
   "source": [
    "numbers = [111, 7, 2, 1]\n",
    "print(numbers[-2])"
   ]
  },
  {
   "cell_type": "code",
   "execution_count": 298,
   "id": "d92a88c7-944f-4d54-8e95-1eca45b4b65b",
   "metadata": {},
   "outputs": [
    {
     "name": "stdout",
     "output_type": "stream",
     "text": [
      "4\n",
      "[111, 7, 2, 1]\n",
      "5\n",
      "[111, 7, 2, 1, 4]\n",
      "6\n",
      "[222, 111, 7, 2, 1, 4]\n"
     ]
    }
   ],
   "source": [
    "numbers = [111, 7, 2, 1]\n",
    "print(len(numbers))\n",
    "print(numbers)\n",
    "\n",
    "###\n",
    "\n",
    "numbers.append(4)\n",
    "print(len(numbers))\n",
    "print(numbers)\n",
    "\n",
    "###\n",
    "\n",
    "numbers.insert(0, 222)\n",
    "print(len(numbers))\n",
    "print(numbers)\n",
    "\n",
    "#"
   ]
  },
  {
   "cell_type": "code",
   "execution_count": 300,
   "id": "0ed4e82f-b252-44cc-8981-af0c40482c2d",
   "metadata": {},
   "outputs": [
    {
     "name": "stdout",
     "output_type": "stream",
     "text": [
      "[1, 2, 3, 4, 5]\n"
     ]
    }
   ],
   "source": [
    "my_list = []  # Creating an empty list.\n",
    "\n",
    "for i in range(5):\n",
    "    my_list.append(i + 1)\n",
    "\n",
    "print(my_list)"
   ]
  },
  {
   "cell_type": "code",
   "execution_count": 302,
   "id": "08687357-95b4-45b6-be24-fc9e0275e1cf",
   "metadata": {},
   "outputs": [
    {
     "name": "stdout",
     "output_type": "stream",
     "text": [
      "[5, 4, 3, 2, 1]\n"
     ]
    }
   ],
   "source": [
    "my_list = []  # Creating an empty list.\n",
    " \n",
    "for i in range(5):\n",
    "    my_list.insert(0, i + 1)\n",
    "\n",
    "print(my_list)\n",
    " "
   ]
  },
  {
   "cell_type": "code",
   "execution_count": 306,
   "id": "3d4f15ab-1a36-4c8c-a2f4-105ddc19f07d",
   "metadata": {},
   "outputs": [
    {
     "name": "stdout",
     "output_type": "stream",
     "text": [
      "27\n"
     ]
    }
   ],
   "source": [
    "my_list = [10, 1, 8, 3, 5]\n",
    "total = 0\n",
    "\n",
    "for i in range(len(my_list)):\n",
    "    total += my_list[i]\n",
    "\n",
    "print(total)"
   ]
  },
  {
   "cell_type": "code",
   "execution_count": 308,
   "id": "f76ed0b9-3ca6-4f71-b261-b8ab05accf0e",
   "metadata": {},
   "outputs": [
    {
     "name": "stdout",
     "output_type": "stream",
     "text": [
      "27\n"
     ]
    }
   ],
   "source": [
    "my_list = [10, 1, 8, 3, 5]\n",
    "total = 0\n",
    " \n",
    "for i in my_list:\n",
    "    total += i\n",
    " \n",
    "print(total)"
   ]
  },
  {
   "cell_type": "code",
   "execution_count": 310,
   "id": "8a9619e9-6b3f-47b8-af88-8086b2e3f802",
   "metadata": {},
   "outputs": [
    {
     "name": "stdout",
     "output_type": "stream",
     "text": [
      "[5, 3, 8, 1, 10]\n"
     ]
    }
   ],
   "source": [
    "my_list = [10, 1, 8, 3, 5]\n",
    " \n",
    "my_list[0], my_list[4] = my_list[4], my_list[0]      # Swaps the first and last elements\n",
    "my_list[1], my_list[3] = my_list[3], my_list[1]      # Swaps other elements\n",
    " \n",
    "print(my_list)"
   ]
  },
  {
   "cell_type": "code",
   "execution_count": 312,
   "id": "5afd1e17-f5f2-47c8-878f-4e03eecf27ec",
   "metadata": {},
   "outputs": [
    {
     "name": "stdout",
     "output_type": "stream",
     "text": [
      "white\n",
      "purple\n",
      "blue\n",
      "yellow\n",
      "green\n"
     ]
    }
   ],
   "source": [
    "my_list = [\"white\", \"purple\", \"blue\", \"yellow\", \"green\"]\n",
    " \n",
    "for color in my_list:\n",
    "    print(color)"
   ]
  },
  {
   "cell_type": "code",
   "execution_count": 318,
   "id": "4d8b7968-4c4a-46ce-9f13-61e6e9914be9",
   "metadata": {},
   "outputs": [
    {
     "name": "stdout",
     "output_type": "stream",
     "text": [
      "purple\n",
      "u\n"
     ]
    }
   ],
   "source": [
    "my_list = [\"white\", \"purple\", \"blue\", \"yellow\", \"green\"]\n",
    "color = my_list[1] \n",
    "print(color)\n",
    "print(color[1])"
   ]
  },
  {
   "cell_type": "code",
   "execution_count": 320,
   "id": "c49a6553-38cf-4ca2-89cf-6dd3dfdded41",
   "metadata": {},
   "outputs": [
    {
     "name": "stdout",
     "output_type": "stream",
     "text": [
      "[6, 2, 3, 4, 5, 1]\n"
     ]
    }
   ],
   "source": [
    "lst = [1, 2, 3, 4, 5]\n",
    "lst.insert(1, 6)\n",
    "del lst[0]\n",
    "lst.append(1)\n",
    " \n",
    "print(lst)"
   ]
  },
  {
   "cell_type": "code",
   "execution_count": 322,
   "id": "f140df35-a728-44b6-b9b2-07b4c49bcdaa",
   "metadata": {},
   "outputs": [
    {
     "name": "stdout",
     "output_type": "stream",
     "text": [
      "[1, 3, 6, 10, 15]\n"
     ]
    }
   ],
   "source": [
    "lst = [1, 2, 3, 4, 5]\n",
    "lst_2 = []\n",
    "add = 0\n",
    " \n",
    "for number in lst:\n",
    "    add += number\n",
    "    lst_2.append(add)\n",
    " \n",
    "print(lst_2)"
   ]
  },
  {
   "cell_type": "code",
   "execution_count": 324,
   "id": "34e49afe-e369-4d79-af42-f25bf646171f",
   "metadata": {},
   "outputs": [
    {
     "name": "stdout",
     "output_type": "stream",
     "text": [
      "[2, 3]\n",
      "3\n"
     ]
    }
   ],
   "source": [
    "lst = [1, [2, 3], 4]\n",
    "print(lst[1])\n",
    "print(len(lst))"
   ]
  },
  {
   "cell_type": "code",
   "execution_count": 758,
   "id": "205b4fef-dbfd-44f5-91ae-9680e4a306d6",
   "metadata": {},
   "outputs": [
    {
     "name": "stdout",
     "output_type": "stream",
     "text": [
      "[[0, 1, 2], [0, 1, 2], [0, 1, 2]]\n",
      "3\n"
     ]
    }
   ],
   "source": [
    "# nested list comprehension that builds a 3×3 matrix\n",
    "matrix = [[x for x in range(3)] for y in range(3)]\n",
    "print(matrix)\n",
    "\n",
    "count = 0\n",
    "for row in matrix:\n",
    "    for element in row:\n",
    "        if element % 2 != 0:    # Select odd numbers\n",
    "            count += 1          # Count odd numbers\n",
    "print(count)\n",
    "\n"
   ]
  },
  {
   "cell_type": "markdown",
   "id": "18bfeefb-3ca9-4583-8222-0aa5b4f6d8e5",
   "metadata": {},
   "source": [
    "## Sorting Lists"
   ]
  },
  {
   "cell_type": "code",
   "execution_count": 326,
   "id": "24e962ce-8cf2-4520-acca-bd9d7abfeb3d",
   "metadata": {},
   "outputs": [
    {
     "name": "stdout",
     "output_type": "stream",
     "text": [
      "['A', 'D', 'F', 'Z']\n"
     ]
    }
   ],
   "source": [
    "lst = [\"D\", \"F\", \"A\", \"Z\"]\n",
    "lst.sort()\n",
    " \n",
    "print(lst)"
   ]
  },
  {
   "cell_type": "code",
   "execution_count": 328,
   "id": "c8249bfc-20d3-4f05-8217-a88ded074020",
   "metadata": {},
   "outputs": [
    {
     "name": "stdout",
     "output_type": "stream",
     "text": [
      "[1, 2, 3]\n"
     ]
    }
   ],
   "source": [
    "a = 3\n",
    "b = 1\n",
    "c = 2\n",
    " \n",
    "lst = [a, c, b]\n",
    "lst.sort()\n",
    " \n",
    "print(lst)\n",
    " "
   ]
  },
  {
   "cell_type": "code",
   "execution_count": 330,
   "id": "2336c6b6-936d-4b37-a8ff-da8347c4608b",
   "metadata": {},
   "outputs": [
    {
     "name": "stdout",
     "output_type": "stream",
     "text": [
      "[' ', 'C', 'B', 'A']\n"
     ]
    }
   ],
   "source": [
    "a = \"A\"\n",
    "b = \"B\"\n",
    "c = \"C\"\n",
    "d = \" \"\n",
    " \n",
    "lst = [a, b, c, d]\n",
    "lst.reverse()\n",
    " \n",
    "print(lst)\n"
   ]
  },
  {
   "cell_type": "markdown",
   "id": "c277a73b-a32e-475a-9a5c-ddd1d43c64c3",
   "metadata": {},
   "source": [
    "## Slicing"
   ]
  },
  {
   "cell_type": "code",
   "execution_count": 738,
   "id": "7f634bd7-62fc-48e9-ba81-ebabeb7964a6",
   "metadata": {},
   "outputs": [
    {
     "name": "stdout",
     "output_type": "stream",
     "text": [
      "[]\n"
     ]
    }
   ],
   "source": [
    "inventory = ['apple', 'banana', 'cherry']\n",
    "backup_inventory = inventory\n",
    "del backup_inventory[:]\n",
    "print(backup_inventory)\n"
   ]
  },
  {
   "cell_type": "code",
   "execution_count": 336,
   "id": "09b0228e-9817-42c3-a726-1edcb79805e8",
   "metadata": {},
   "outputs": [
    {
     "name": "stdout",
     "output_type": "stream",
     "text": [
      "[1]\n"
     ]
    }
   ],
   "source": [
    "# slices\n",
    "list_1 = [1]               # list_1 contains [1]\n",
    "list_2 = list_1[:]         # list_2 is a **shallow copy** of list_1\n",
    "list_1[0] = 2              # we change the first element of list_1\n",
    "print(list_2)              # what’s in list_2? => the same as in the original list_1\n",
    " "
   ]
  },
  {
   "cell_type": "code",
   "execution_count": 340,
   "id": "10694f4f-b0a2-47d5-9134-9c52e0c5f1c9",
   "metadata": {},
   "outputs": [
    {
     "name": "stdout",
     "output_type": "stream",
     "text": [
      "[8, 6]\n"
     ]
    }
   ],
   "source": [
    "my_list = [10, 8, 6, 4, 2]\n",
    "new_list = my_list[1:3]    # Start at index 1 (which is 8); Go up to, but not including index 3 (which is 4)\n",
    "print(new_list)"
   ]
  },
  {
   "cell_type": "code",
   "execution_count": 517,
   "id": "a5126bf8-2203-43b7-98a8-36fe84a336f6",
   "metadata": {},
   "outputs": [
    {
     "name": "stdout",
     "output_type": "stream",
     "text": [
      "[8, 6, 4]\n"
     ]
    }
   ],
   "source": [
    "my_list = [10, 8, 6, 4, 2]\n",
    "new_list = my_list[1:-1]\n",
    "# Start at index 1 → value 8\n",
    "# Stop before index -1 → value 2\n",
    "# So you include indexes: 1, 2, and 3\n",
    "print(new_list)"
   ]
  },
  {
   "cell_type": "code",
   "execution_count": 346,
   "id": "ecf0e691-4f2b-47d3-8028-576221d8223a",
   "metadata": {},
   "outputs": [
    {
     "name": "stdout",
     "output_type": "stream",
     "text": [
      "[]\n"
     ]
    }
   ],
   "source": [
    "my_list = [10, 8, 6, 4, 2]\n",
    "new_list = my_list[-1:1]\n",
    "# Since the start index is after the stop index and no step is given (defaults to +1), Python can’t go backward — so the slice is empty.\n",
    "print(new_list)\n"
   ]
  },
  {
   "cell_type": "code",
   "execution_count": 519,
   "id": "8215d8f9-8ae8-48c0-8f22-c15a99532956",
   "metadata": {},
   "outputs": [
    {
     "name": "stdout",
     "output_type": "stream",
     "text": [
      "[10, 8, 6]\n"
     ]
    }
   ],
   "source": [
    "my_list = [10, 8, 6, 4, 2]\n",
    "new_list = my_list[:3]         # slice from the start of the list up to (but not including) index 3\n",
    "print(new_list)"
   ]
  },
  {
   "cell_type": "code",
   "execution_count": 352,
   "id": "0ff9bf65-4a05-444e-b013-40811f9577a0",
   "metadata": {},
   "outputs": [
    {
     "name": "stdout",
     "output_type": "stream",
     "text": [
      "[4, 2]\n"
     ]
    }
   ],
   "source": [
    "my_list = [10, 8, 6, 4, 2]\n",
    "new_list = my_list[3:]\n",
    "print(new_list)"
   ]
  },
  {
   "cell_type": "code",
   "execution_count": 356,
   "id": "21e0d4fc-b0e5-4e2b-ab4e-c1b509747b27",
   "metadata": {},
   "outputs": [
    {
     "name": "stdout",
     "output_type": "stream",
     "text": [
      "[10, 8, 6, 4, 2]\n"
     ]
    }
   ],
   "source": [
    "my_list = [10, 8, 6, 4, 2]\n",
    "new_list = my_list[:]          # The syntax [:] means: \"Take a slice starting from the beginning to the end of the list.\"\n",
    "print(new_list)"
   ]
  },
  {
   "cell_type": "code",
   "execution_count": 521,
   "id": "d53a7bb7-a43a-4fe0-924c-99da24d69c33",
   "metadata": {},
   "outputs": [
    {
     "name": "stdout",
     "output_type": "stream",
     "text": [
      "[10, 4, 2]\n"
     ]
    }
   ],
   "source": [
    "my_list = [10, 8, 6, 4, 2]\n",
    "del my_list[1:3]               # Start at index 1 → value 8 ; Stop before index 3 → so deelte until index 2 (value 6)\n",
    "print(my_list)"
   ]
  },
  {
   "cell_type": "code",
   "execution_count": 364,
   "id": "038327aa-355d-4661-b2c2-827fdc233b5f",
   "metadata": {},
   "outputs": [
    {
     "name": "stdout",
     "output_type": "stream",
     "text": [
      "[]\n"
     ]
    }
   ],
   "source": [
    "my_list = [10, 8, 6, 4, 2]\n",
    "del my_list[:]                 # all elements\n",
    "print(my_list)"
   ]
  },
  {
   "cell_type": "markdown",
   "id": "08f4ab0e-ab9a-47d7-a9ab-685ffe58911c",
   "metadata": {},
   "source": [
    "## List operations"
   ]
  },
  {
   "cell_type": "code",
   "execution_count": 366,
   "id": "66cfda8d-f3b3-404a-aff2-7eedf700618b",
   "metadata": {},
   "outputs": [
    {
     "name": "stdout",
     "output_type": "stream",
     "text": [
      "False\n",
      "True\n",
      "True\n"
     ]
    }
   ],
   "source": [
    "my_list = [0, 3, 12, 8, 2]\n",
    "\n",
    "print(5 in my_list)\n",
    "print(5 not in my_list)\n",
    "print(12 in my_list)"
   ]
  },
  {
   "cell_type": "code",
   "execution_count": 523,
   "id": "c719e592-7b6e-4d5e-aaf1-5f2049e7d10f",
   "metadata": {},
   "outputs": [
    {
     "name": "stdout",
     "output_type": "stream",
     "text": [
      "17\n"
     ]
    }
   ],
   "source": [
    "my_list = [17, 3, 11, 5, 1, 9, 7, 15, 13]\n",
    "largest = my_list[0]\n",
    "\n",
    "# The code finds the maximum value in the list by comparing each element\n",
    "for i in my_list:\n",
    "    if i > largest:\n",
    "        largest = i\n",
    " \n",
    "print(largest)"
   ]
  },
  {
   "cell_type": "markdown",
   "id": "6580e1a5-bd1c-4bc0-8195-7b4784c45f28",
   "metadata": {},
   "source": [
    "Below is a **simple linear search**:\n",
    "\n",
    "- It goes through the list one element at a time.\n",
    "- Stops as soon as it finds the target.\n",
    "- Efficient for small or unsorted lists."
   ]
  },
  {
   "cell_type": "code",
   "execution_count": 372,
   "id": "2df247fb-2788-4798-843e-4cb7ed2af844",
   "metadata": {},
   "outputs": [
    {
     "name": "stdout",
     "output_type": "stream",
     "text": [
      "Element found at index 4\n"
     ]
    }
   ],
   "source": [
    "# find the location of a given element inside a list\n",
    "my_list = [1, 2, 3, 4, 5, 6, 7, 8, 9, 10]\n",
    "to_find = 5\n",
    "found = False\n",
    " \n",
    "for i in range(len(my_list)):\n",
    "    found = my_list[i] == to_find\n",
    "    if found:\n",
    "        break\n",
    " \n",
    "if found:\n",
    "    print(\"Element found at index\", i)\n",
    "else:\n",
    "    print(\"absent\")"
   ]
  },
  {
   "cell_type": "markdown",
   "id": "682d1fc1-764b-4945-aa19-ae3d1fc078b9",
   "metadata": {},
   "source": [
    "**set intersection**\n",
    "- The code counts how many numbers in bets are also in drawn.\n",
    "- This is a basic form of set intersection, done manually with a loop."
   ]
  },
  {
   "cell_type": "code",
   "execution_count": 374,
   "id": "923a0a56-2690-4831-aef1-9752713f212a",
   "metadata": {},
   "outputs": [
    {
     "name": "stdout",
     "output_type": "stream",
     "text": [
      "4\n"
     ]
    }
   ],
   "source": [
    "drawn = [5, 11, 9, 42, 3, 49]\n",
    "bets = [3, 7, 11, 42, 34, 49]\n",
    "hits = 0\n",
    " \n",
    "for number in bets:\n",
    "    if number in drawn:\n",
    "        hits += 1\n",
    " \n",
    "print(hits)"
   ]
  },
  {
   "cell_type": "markdown",
   "id": "37792802-3a7e-450a-90c1-6d86114b2a37",
   "metadata": {},
   "source": [
    "**Cleaner version with real sets**\n",
    "- Using set makes the code shorter and more readable.\n",
    "- **&** computes the intersection (common elements).\n",
    "- len(hits) gives the number of matches.\n",
    "- It's also faster for large lists compared to looping with in."
   ]
  },
  {
   "cell_type": "code",
   "execution_count": 530,
   "id": "9f027410-4b07-4287-9d03-fa50edaa1126",
   "metadata": {},
   "outputs": [
    {
     "name": "stdout",
     "output_type": "stream",
     "text": [
      "Matching numbers: {11, 49, 42, 3}\n",
      "Total hits: 4\n"
     ]
    }
   ],
   "source": [
    "drawn = {5, 11, 9, 42, 3, 49}\n",
    "bets = {3, 7, 11, 42, 34, 49}\n",
    "\n",
    "# Set intersection gives common elements\n",
    "hits = drawn & bets\n",
    "\n",
    "print(\"Matching numbers:\", hits)\n",
    "print(\"Total hits:\", len(hits))"
   ]
  },
  {
   "cell_type": "markdown",
   "id": "60b1f305-a4b7-4597-abfb-6b0a10865ba9",
   "metadata": {},
   "source": [
    "**Create a list of cube values for numbers 0 through 4 using list comprehension**\n",
    "- **range(5)** generates the numbers: 0, 1, 2, 3, 4\n",
    "- For each num in that range, the code computes **num ** 3**, which is the cube of that number"
   ]
  },
  {
   "cell_type": "code",
   "execution_count": 537,
   "id": "4b44663c-1ff1-411e-81b9-3b4f1a8ff8b1",
   "metadata": {},
   "outputs": [
    {
     "name": "stdout",
     "output_type": "stream",
     "text": [
      "[0, 1, 8, 27, 64]\n"
     ]
    }
   ],
   "source": [
    "cubed = [num ** 3 for num in range(5)]\n",
    "print(cubed) # outputs: [0, 1, 8, 27, 64]"
   ]
  },
  {
   "cell_type": "markdown",
   "id": "caa56850-bd16-4f5f-b59d-72e38c1b08fb",
   "metadata": {},
   "source": [
    "**List comprehension**\n",
    "\n",
    "- List comprehension is a compact way to create a new list by applying an expression to each item in an iterable (like a range or another list).\n",
    "- It's shorter and often clearer than using a for loop.\n",
    "\n"
   ]
  },
  {
   "cell_type": "code",
   "execution_count": 747,
   "id": "78a27677-fb73-4fe2-b2b6-4f586013683f",
   "metadata": {},
   "outputs": [
    {
     "name": "stdout",
     "output_type": "stream",
     "text": [
      "[-1, -2]\n"
     ]
    }
   ],
   "source": [
    "values = [i for i in range(-1, -3, -1)]\n",
    "print(values)"
   ]
  },
  {
   "cell_type": "markdown",
   "id": "99368739-a199-4717-b746-c529749a7f65",
   "metadata": {},
   "source": [
    "Example below:\n",
    "- Outer loop: for j in range(3) → runs 3 times (for j = 0, 1, 2)\n",
    "- Inner list: [3 - i for i in range(3)] → creates [3, 2, 1]"
   ]
  },
  {
   "cell_type": "code",
   "execution_count": 440,
   "id": "0d4d0e88-f7f2-4aaf-91a9-3a1444647ad3",
   "metadata": {},
   "outputs": [
    {
     "name": "stdout",
     "output_type": "stream",
     "text": [
      "list t: [[3, 2, 1], [3, 2, 1], [3, 2, 1]]\n",
      "looping 0\n",
      "s: 3\n",
      "looping 1\n",
      "s: 5\n",
      "looping 2\n",
      "s: 6\n",
      "6\n"
     ]
    }
   ],
   "source": [
    "t = [[3-i for i in range (3)] for j in range (3)]\n",
    "print(\"list t:\", t)\n",
    "s = 0\n",
    "for i in range(3):\n",
    "    print(\"looping\", i)\n",
    "    s += t[i][i]\n",
    "    print(\"s:\",s)\n",
    "print(s)"
   ]
  },
  {
   "cell_type": "markdown",
   "id": "8624e9a3-4b4b-4878-a866-2ebdd21f6b31",
   "metadata": {},
   "source": [
    "# 4 June"
   ]
  },
  {
   "cell_type": "markdown",
   "id": "c2d9b08e-4333-4c69-bfa6-6d9cf8f4f387",
   "metadata": {},
   "source": [
    "## Functions"
   ]
  },
  {
   "cell_type": "code",
   "execution_count": 544,
   "id": "2872ba9f-d717-4339-8da3-4517ab3acc05",
   "metadata": {},
   "outputs": [
    {
     "name": "stdout",
     "output_type": "stream",
     "text": [
      "My name is Bond. James Bond.\n"
     ]
    }
   ],
   "source": [
    "def intro(a=\"James Bond\", b=\"Bond\"):\n",
    "     print(\"My name is\", b + \".\", a + \".\")\n",
    " \n",
    "intro()\n",
    " "
   ]
  },
  {
   "cell_type": "code",
   "execution_count": 549,
   "id": "0d0c4d70-e69d-45f9-9d3c-287c26cec7dc",
   "metadata": {},
   "outputs": [
    {
     "name": "stdout",
     "output_type": "stream",
     "text": [
      "My name is Rooseleer. Yvan Rooseleer.\n"
     ]
    }
   ],
   "source": [
    "def intro(a=\"James Bond\", b=\"Bond\"):\n",
    "     print(\"My name is\", b + \".\", a + \".\")\n",
    " \n",
    "intro(\"Yvan Rooseleer\", \"Rooseleer\")\n",
    " "
   ]
  },
  {
   "cell_type": "markdown",
   "id": "27778403-348c-473a-98a3-b3c6d9effbaf",
   "metadata": {},
   "source": [
    "The function below:\n",
    "\n",
    "- Builds and returns a list of even numbers from 0 to ran - 1.\n",
    "- Is useful for filtering values based on a condition."
   ]
  },
  {
   "cell_type": "code",
   "execution_count": 4,
   "id": "3d70e09c-d923-4a16-8210-64984b2352d7",
   "metadata": {},
   "outputs": [
    {
     "name": "stdout",
     "output_type": "stream",
     "text": [
      "[0, 2, 4, 6, 8, 10]\n"
     ]
    }
   ],
   "source": [
    "def even_num_lst(ran):\n",
    "    lst = []\n",
    "    for num in range(ran):\n",
    "        if num % 2 == 0:\n",
    "            lst.append(num)\n",
    "    return lst\n",
    " \n",
    "print(even_num_lst(11))"
   ]
  },
  {
   "cell_type": "markdown",
   "id": "212cba37-5fa5-40e3-a48d-d2edee1162a4",
   "metadata": {},
   "source": [
    "**The same using list comprehension**"
   ]
  },
  {
   "cell_type": "code",
   "execution_count": 6,
   "id": "5b64f780-8ef6-4a5f-9b8f-daddd8ae5c7a",
   "metadata": {},
   "outputs": [
    {
     "name": "stdout",
     "output_type": "stream",
     "text": [
      "[0, 2, 4, 6, 8, 10]\n"
     ]
    }
   ],
   "source": [
    "def even_num_lst(ran):\n",
    "    return [num for num in range(ran) if num % 2 == 0]\n",
    "\n",
    "print(even_num_lst(11))"
   ]
  },
  {
   "cell_type": "markdown",
   "id": "0d43e334-93f8-4731-a769-9b91320db3d8",
   "metadata": {},
   "source": [
    "- How do you see that both functions above return a list ?"
   ]
  },
  {
   "cell_type": "code",
   "execution_count": 562,
   "id": "d516c427-7743-476a-bc50-c701adf914d7",
   "metadata": {},
   "outputs": [
    {
     "name": "stdout",
     "output_type": "stream",
     "text": [
      "[2, 4, 8, 16, 32, 64, 128, 256]\n"
     ]
    }
   ],
   "source": [
    "def power_list(lst):\n",
    "    upd_list = []\n",
    "    for elem in lst:\n",
    "        elem = 2 ** elem\n",
    "        upd_list.append(elem)\n",
    "    return upd_list\n",
    " \n",
    "foo = [1, 2, 3, 4, 5, 6, 7, 8]\n",
    "print(power_list(foo))"
   ]
  },
  {
   "cell_type": "markdown",
   "id": "efa7eac0-7f26-473a-9bb4-75548ff56cc2",
   "metadata": {},
   "source": [
    "**Cleaner version with list comprehension**"
   ]
  },
  {
   "cell_type": "code",
   "execution_count": 564,
   "id": "dde4e7e2-abf7-426c-8be2-e9b08ff5ec7b",
   "metadata": {},
   "outputs": [
    {
     "name": "stdout",
     "output_type": "stream",
     "text": [
      "[2, 4, 8, 16, 32, 64, 128, 256]\n"
     ]
    }
   ],
   "source": [
    "def power_list(lst):\n",
    "    return [2 ** elem for elem in lst]\n",
    "\n",
    "foo = [1, 2, 3, 4, 5, 6, 7, 8]\n",
    "print(power_list(foo))"
   ]
  },
  {
   "cell_type": "code",
   "execution_count": 573,
   "id": "a12f4b0c-95fc-4003-9ce6-3d9cb4472f6e",
   "metadata": {},
   "outputs": [
    {
     "name": "stdout",
     "output_type": "stream",
     "text": [
      "[2, 4, 8, 16, 32, 64, 128, 256]\n"
     ]
    }
   ],
   "source": [
    "def power_list(lst):\n",
    "    return [2 ** elem for elem in lst]\n",
    "\n",
    "foo = range(1, 9)\n",
    "print(power_list(foo))"
   ]
  },
  {
   "cell_type": "code",
   "execution_count": 575,
   "id": "c21acd0e-1659-4ac7-abf1-3e5a14bccfbc",
   "metadata": {},
   "outputs": [
    {
     "name": "stdout",
     "output_type": "stream",
     "text": [
      "[2, 4, 8, 16, 32, 64, 128, 256]\n",
      "[3, 9, 27, 81, 243, 729, 2187, 6561]\n"
     ]
    }
   ],
   "source": [
    "def power_list(lst, base=2):\n",
    "    return [base ** elem for elem in lst]\n",
    "\n",
    "foo = range(1, 9)\n",
    "print(power_list(foo))         # Uses base 2 by default\n",
    "print(power_list(foo, base=3)) # Uses base 3"
   ]
  },
  {
   "cell_type": "markdown",
   "id": "b28d0ffa-1907-49e4-b804-9428f1cb1818",
   "metadata": {},
   "source": [
    "**Scopes**"
   ]
  },
  {
   "cell_type": "code",
   "execution_count": 580,
   "id": "8ce11c00-a6dc-41d8-8a52-041b8230d0b9",
   "metadata": {},
   "outputs": [
    {
     "name": "stdout",
     "output_type": "stream",
     "text": [
      "2\n",
      "1\n"
     ]
    }
   ],
   "source": [
    "a = 1  # Global variable\n",
    "\n",
    "def fun():\n",
    "    a = 2  # Local variable (only inside the function)\n",
    "    print(a)\n",
    "\n",
    "fun()\n",
    "print(a)"
   ]
  },
  {
   "cell_type": "code",
   "execution_count": 586,
   "id": "b3269e6d-43bc-4535-a4cb-52ff00e01c2d",
   "metadata": {},
   "outputs": [
    {
     "name": "stdout",
     "output_type": "stream",
     "text": [
      "2\n",
      "3\n"
     ]
    }
   ],
   "source": [
    "a = 1\n",
    "\n",
    "def fun():\n",
    "    global a    # Inside this function, I want to use and modify the global variable a, not create a new local one.\n",
    "    a = 2       # Overwrites the global a\n",
    "    print(a) \n",
    "\n",
    "fun()\n",
    "a = 3           # Manual assignment, changes the global variable a to 3\n",
    "print(a)"
   ]
  },
  {
   "cell_type": "code",
   "execution_count": 590,
   "id": "d7d2fce1-63eb-4b58-ac7f-0067e3f80c5e",
   "metadata": {},
   "outputs": [
    {
     "name": "stdout",
     "output_type": "stream",
     "text": [
      "2\n",
      "2\n"
     ]
    }
   ],
   "source": [
    "# What is the difference with the previous cell?\n",
    "a = 1\n",
    " \n",
    " \n",
    "def fun():\n",
    "    global a\n",
    "    a = 2\n",
    "    print(a)\n",
    " \n",
    " \n",
    "a = 3\n",
    "fun()\n",
    "print(a)"
   ]
  },
  {
   "cell_type": "markdown",
   "id": "88202a68-6385-4fcb-8158-726f356a7165",
   "metadata": {},
   "source": [
    "**Recursive functions**"
   ]
  },
  {
   "cell_type": "code",
   "execution_count": 601,
   "id": "44555f39-0717-4446-9f59-fb0e3f585085",
   "metadata": {},
   "outputs": [
    {
     "ename": "RecursionError",
     "evalue": "maximum recursion depth exceeded",
     "output_type": "error",
     "traceback": [
      "\u001b[1;31m---------------------------------------------------------------------------\u001b[0m",
      "\u001b[1;31mRecursionError\u001b[0m                            Traceback (most recent call last)",
      "Cell \u001b[1;32mIn[601], line 5\u001b[0m\n\u001b[0;32m      2\u001b[0m \u001b[38;5;28;01mdef\u001b[39;00m \u001b[38;5;21mfactorial\u001b[39m(n):\n\u001b[0;32m      3\u001b[0m     \u001b[38;5;28;01mreturn\u001b[39;00m n \u001b[38;5;241m*\u001b[39m factorial(n \u001b[38;5;241m-\u001b[39m \u001b[38;5;241m1\u001b[39m)\n\u001b[1;32m----> 5\u001b[0m \u001b[38;5;28mprint\u001b[39m(factorial(\u001b[38;5;241m4\u001b[39m))\n",
      "Cell \u001b[1;32mIn[601], line 3\u001b[0m, in \u001b[0;36mfactorial\u001b[1;34m(n)\u001b[0m\n\u001b[0;32m      2\u001b[0m \u001b[38;5;28;01mdef\u001b[39;00m \u001b[38;5;21mfactorial\u001b[39m(n):\n\u001b[1;32m----> 3\u001b[0m     \u001b[38;5;28;01mreturn\u001b[39;00m n \u001b[38;5;241m*\u001b[39m factorial(n \u001b[38;5;241m-\u001b[39m \u001b[38;5;241m1\u001b[39m)\n",
      "Cell \u001b[1;32mIn[601], line 3\u001b[0m, in \u001b[0;36mfactorial\u001b[1;34m(n)\u001b[0m\n\u001b[0;32m      2\u001b[0m \u001b[38;5;28;01mdef\u001b[39;00m \u001b[38;5;21mfactorial\u001b[39m(n):\n\u001b[1;32m----> 3\u001b[0m     \u001b[38;5;28;01mreturn\u001b[39;00m n \u001b[38;5;241m*\u001b[39m factorial(n \u001b[38;5;241m-\u001b[39m \u001b[38;5;241m1\u001b[39m)\n",
      "    \u001b[1;31m[... skipping similar frames: factorial at line 3 (2970 times)]\u001b[0m\n",
      "Cell \u001b[1;32mIn[601], line 3\u001b[0m, in \u001b[0;36mfactorial\u001b[1;34m(n)\u001b[0m\n\u001b[0;32m      2\u001b[0m \u001b[38;5;28;01mdef\u001b[39;00m \u001b[38;5;21mfactorial\u001b[39m(n):\n\u001b[1;32m----> 3\u001b[0m     \u001b[38;5;28;01mreturn\u001b[39;00m n \u001b[38;5;241m*\u001b[39m factorial(n \u001b[38;5;241m-\u001b[39m \u001b[38;5;241m1\u001b[39m)\n",
      "\u001b[1;31mRecursionError\u001b[0m: maximum recursion depth exceeded"
     ]
    }
   ],
   "source": [
    "# This function will call itself forever (until a RecursionError) because there's no stopping condition — i.e., no base case.\n",
    "\n",
    "def factorial(n):\n",
    "    return n * factorial(n - 1)\n",
    " \n",
    "print(factorial(4))"
   ]
  },
  {
   "cell_type": "code",
   "execution_count": 603,
   "id": "a8b9c1c2-6496-4ff2-9cd3-e440159d6a45",
   "metadata": {},
   "outputs": [
    {
     "name": "stdout",
     "output_type": "stream",
     "text": [
      "24\n"
     ]
    }
   ],
   "source": [
    "def factorial(n):\n",
    "    if n == 0 or n == 1:\n",
    "        return 1  # base case\n",
    "    else:\n",
    "        return n * factorial(n - 1)\n",
    "\n",
    "print(factorial(4))  # Output: 24"
   ]
  },
  {
   "cell_type": "markdown",
   "id": "79f5b0ac-d8bb-4f0c-bd31-a245f36821d0",
   "metadata": {},
   "source": [
    "**Iterative alternative**"
   ]
  },
  {
   "cell_type": "code",
   "execution_count": 606,
   "id": "9435c5e4-b731-4e73-bb57-06bcbc2b6d06",
   "metadata": {},
   "outputs": [
    {
     "name": "stdout",
     "output_type": "stream",
     "text": [
      "24\n"
     ]
    }
   ],
   "source": [
    "def factorial(n):\n",
    "    result = 1\n",
    "    for i in range(2, n + 1):\n",
    "        result *= i\n",
    "    return result\n",
    "\n",
    "print(factorial(4))  # Output: 24"
   ]
  },
  {
   "cell_type": "markdown",
   "id": "36c37eea-9e32-411a-b0f3-fb608f2947fe",
   "metadata": {},
   "source": [
    "## Tuples"
   ]
  },
  {
   "cell_type": "code",
   "execution_count": 613,
   "id": "8cda95c4-eb12-41d6-a0fe-168cf6727c91",
   "metadata": {},
   "outputs": [
    {
     "name": "stdout",
     "output_type": "stream",
     "text": [
      "(1, 10)\n",
      "Element: 1\n",
      "Element: 10\n",
      "Element: 100\n",
      "Element: 1000\n"
     ]
    }
   ],
   "source": [
    "my_tuple = (1, 10, 100, 1000)\n",
    "\n",
    "#print(my_tuple[0])\n",
    "#print(my_tuple[-1])\n",
    "#print(my_tuple[1:])\n",
    "print(my_tuple[:-2])\n",
    "\n",
    "for elem in my_tuple:\n",
    "    print(\"Element:\", elem)"
   ]
  },
  {
   "cell_type": "code",
   "execution_count": 617,
   "id": "6efa210e-98d5-49d6-86ca-df9586847cc6",
   "metadata": {},
   "outputs": [
    {
     "name": "stdout",
     "output_type": "stream",
     "text": [
      "9\n",
      "(1, 10, 100, 1000, 10000)\n",
      "(1, 10, 100, 1, 10, 100, 1, 10, 100)\n",
      "True\n",
      "True\n"
     ]
    }
   ],
   "source": [
    "my_tuple = (1, 10, 100)\n",
    "\n",
    "t1 = my_tuple + (1000, 10000)     # concatenates two tuples\n",
    "t2 = my_tuple * 3                 # repeats the tuple 3 times\n",
    "\n",
    "print(len(t2))\n",
    "print(t1)\n",
    "print(t2)\n",
    "print(10 in my_tuple)             # Checks if the value 10 is in the tuple → True\n",
    "print(-10 not in my_tuple)        # Checks if -10 is not in the tuple → True\n"
   ]
  },
  {
   "cell_type": "code",
   "execution_count": 753,
   "id": "b89ad340-8a00-4a28-ad90-9465bce254ae",
   "metadata": {},
   "outputs": [
    {
     "name": "stdout",
     "output_type": "stream",
     "text": [
      "<class 'tuple'>\n",
      "40\n",
      "<class 'int'>\n"
     ]
    }
   ],
   "source": [
    "my_tuple = (10, 20, 30, 40, 50)\n",
    "print(type(my_tuple))\n",
    "my_tuple = my_tuple[-3:-1]        # Start at index -3 → value 30 ; Stop before index -1 → value 50 (excluded)\n",
    "my_tuple = my_tuple[-1]           # Last element, tuple becomes an integer\n",
    "print(my_tuple)\n",
    "print(type(my_tuple))"
   ]
  },
  {
   "cell_type": "code",
   "execution_count": 637,
   "id": "eb82e26a-e540-43db-a937-5e3787f7fbef",
   "metadata": {},
   "outputs": [
    {
     "name": "stdout",
     "output_type": "stream",
     "text": [
      "(2,) (3, 123) (1,)\n"
     ]
    }
   ],
   "source": [
    "var = 123\n",
    " \n",
    "t1 = (1,)                   # a tuple with one element: 1\n",
    "t2 = (2,)                   # a tuple with one element: 2\n",
    "t3 = (3, 123)               # a tuple with two elements: 3 and var = 123\n",
    "\n",
    "# t2 = (2)\n",
    "# print(type(t2))\n",
    " \n",
    "t1, t2, t3 = t2, t3, t1     # exchanging values\n",
    " \n",
    "print(t1, t2, t3)\n"
   ]
  },
  {
   "cell_type": "markdown",
   "id": "8c94ed6c-b0bd-459a-b21a-eb7baf6d78aa",
   "metadata": {},
   "source": [
    "## Dictionaries"
   ]
  },
  {
   "cell_type": "code",
   "execution_count": 663,
   "id": "d8951c81-cf4b-4983-aa76-17aa4d534c00",
   "metadata": {},
   "outputs": [
    {
     "name": "stdout",
     "output_type": "stream",
     "text": [
      "<class 'dict'>\n",
      "kat\n"
     ]
    }
   ],
   "source": [
    "en_nl_dictionary = {\n",
    "    \"cat\": \"kat\",\n",
    "    \"dog\": \"hond\",\n",
    "    \"horse\": \"paard\"\n",
    "}\n",
    "\n",
    "print(type(en_nl_dictionary))\n",
    "print(en_nl_dictionary[\"cat\"])"
   ]
  },
  {
   "cell_type": "code",
   "execution_count": 665,
   "id": "ae0bcbcd-a0d1-42a6-b612-2bb2d7f1964c",
   "metadata": {},
   "outputs": [
    {
     "name": "stdout",
     "output_type": "stream",
     "text": [
      "<class 'dict'>\n",
      "cat\n"
     ]
    }
   ],
   "source": [
    "nl_en_dictionary = {\n",
    "    \"kat\": \"cat\",\n",
    "    \"hond\": \"dog\",\n",
    "    \"paard\": \"horse\"\n",
    "}\n",
    "print(type(nl_en_dictionary))\n",
    "print(nl_en_dictionary[\"kat\"])\n"
   ]
  },
  {
   "cell_type": "code",
   "execution_count": 689,
   "id": "a6f5beb4-0def-481a-9c02-292041dcaf2c",
   "metadata": {},
   "outputs": [
    {
     "name": "stdout",
     "output_type": "stream",
     "text": [
      "Type of user_directory: <class 'dict'>\n",
      "Keys: dict_keys(['firstname', 'surname', 'location', 'mobile'])\n",
      "Surname: Rooseleer\n",
      "First name: Yvan\n",
      "===Everything===\n",
      "firstname -> Yvan\n",
      "surname -> Rooseleer\n",
      "location -> Brussel\n",
      "mobile -> +32 123 45 678\n"
     ]
    }
   ],
   "source": [
    "user_directory = {\n",
    "    \"firstname\": \"Yvan\",\n",
    "    \"surname\": \"Rooseleer\",\n",
    "    \"location\": \"Brussel\",\n",
    "    \"mobile\": \"+32 123 45 678\",\n",
    "}\n",
    "\n",
    "# Show type of the object\n",
    "print(\"Type of user_directory:\", type(user_directory))\n",
    "# Show dictionary keys\n",
    "print(\"Keys:\", user_directory.keys())\n",
    "# Access and print the surname using .get()\n",
    "print(\"Surname:\", user_directory.get(\"surname\", \"Not found\"))\n",
    "# Access and print the first name using filter [ . . . ]\n",
    "print(\"First name:\", user_directory[\"firstname\"])\n",
    "# Print everything\n",
    "print(\"===Everything===\")\n",
    "for key in user_directory.keys():\n",
    "    print(key, \"->\", user_directory[key])\n"
   ]
  },
  {
   "cell_type": "markdown",
   "id": "3ef37e1e-e50b-4d04-b237-2e814a854e8c",
   "metadata": {},
   "source": [
    "**More Practice with dict**\n",
    "- Sorting dictionaries\n",
    "- Adding keys\n",
    "- Deleting keys\n",
    "- Transforming into Json"
   ]
  },
  {
   "cell_type": "code",
   "execution_count": 14,
   "id": "3254d17c-ce45-4386-843a-d518769bf6c7",
   "metadata": {},
   "outputs": [
    {
     "name": "stdout",
     "output_type": "stream",
     "text": [
      "Sorted by name: {'Alice': 88, 'Bob': 75, 'Charlie': 95, 'Diana': 82}\n",
      "Sorted by score: {'Bob': 75, 'Diana': 82, 'Alice': 88, 'Charlie': 95}\n",
      "Sorted by score (descending): {'Charlie': 95, 'Alice': 88, 'Diana': 82, 'Bob': 75}\n",
      "\n",
      "Updated scores: {'Alice': 88, 'Bob': 75, 'Charlie': 95, 'Diana': 82, 'Eddy': 55}\n",
      "Updated scores: {'Bob': 75, 'Charlie': 95, 'Diana': 82, 'Eddy': 55}\n"
     ]
    }
   ],
   "source": [
    "# Based on the online course, but slighlty different example\n",
    "students_scores = {\n",
    "    'Alice': 88,\n",
    "    'Bob': 75,\n",
    "    'Charlie': 95,\n",
    "    'Diana': 82\n",
    "}\n",
    "\n",
    "# Sort the dictionary by keys (alphabetically)\n",
    "sorted_by_name = dict(sorted(students_scores.items()))\n",
    "print(\"Sorted by name:\", sorted_by_name)\n",
    "\n",
    "# Sort the dictionary by values (ascending) => more difficult\n",
    "# lambda is a way to create a small anonymous function — that is, a function without a name\n",
    "# x is each tuple, like (\"Alice\", 88) \n",
    "# x[1] is the score 88\n",
    "# Sort using the score\n",
    "sorted_by_score = dict(sorted(students_scores.items(), key=lambda x: x[1]))\n",
    "print(\"Sorted by score:\", sorted_by_score)\n",
    "\n",
    "# Sort by score descending\n",
    "sorted_by_score_desc = dict(sorted(students_scores.items(), key=lambda x: x[1], reverse=True))\n",
    "print(\"Sorted by score (descending):\", sorted_by_score_desc)\n",
    "\n",
    "print()\n",
    "\n",
    "# Add Eddy's score\n",
    "students_scores['Eddy'] = 55\n",
    "print(\"Updated scores:\", students_scores)\n",
    "\n",
    "# Delete Alice's score\n",
    "del students_scores['Alice']\n",
    "print(\"Updated scores:\", students_scores)\n"
   ]
  },
  {
   "cell_type": "code",
   "execution_count": 26,
   "id": "fbcf0d62-1818-478b-875f-353b0e031470",
   "metadata": {},
   "outputs": [
    {
     "name": "stdout",
     "output_type": "stream",
     "text": [
      "Check out the differences ...\n",
      "<class 'dict'>\n",
      "{'Bob': 75, 'Charlie': 95, 'Diana': 82, 'Eddy': 55}\n",
      "<class 'str'>\n",
      "{\"Bob\": 75, \"Charlie\": 95, \"Diana\": 82, \"Eddy\": 55}\n"
     ]
    }
   ],
   "source": [
    "# Transforming a dict into json\n",
    "\n",
    "import json\n",
    "\n",
    "students_scores = {\n",
    "    'Bob': 75,\n",
    "    'Charlie': 95,\n",
    "    'Diana': 82,\n",
    "    'Eddy': 55\n",
    "}\n",
    "\n",
    "# Convert to JSON\n",
    "students_scores_string = json.dumps(students_scores)   # dumps means: \"dump as a string\"\n",
    "\n",
    "print(\"Check out the differences ...\")\n",
    "print(type(students_scores))\n",
    "print(students_scores)\n",
    "print(type(students_scores_string))\n",
    "print(students_scores_string)"
   ]
  },
  {
   "cell_type": "markdown",
   "id": "8cdf6aca-de9a-4a94-9f45-f1f70b8c8785",
   "metadata": {},
   "source": [
    "## Exceptions"
   ]
  },
  {
   "cell_type": "code",
   "execution_count": 701,
   "id": "64cf7bd8-ec9e-41c5-8205-a9ae884f86de",
   "metadata": {},
   "outputs": [
    {
     "name": "stdin",
     "output_type": "stream",
     "text": [
      "Enter a natural number:  10\n"
     ]
    },
    {
     "name": "stdout",
     "output_type": "stream",
     "text": [
      "The reciprocal of 10 is 0.1\n"
     ]
    }
   ],
   "source": [
    "# default exception \n",
    "try:\n",
    "    value = int(input('Enter a natural number: '))\n",
    "    print('The reciprocal of', value, 'is', 1/value)        \n",
    "except:\n",
    "    print('I do not know what to do.')\n",
    "# Using a bare except: is not recommended for production code. It's better to catch specific exceptions"
   ]
  },
  {
   "cell_type": "code",
   "execution_count": 703,
   "id": "280651a4-7dde-40f1-b902-45f3d6d524b6",
   "metadata": {},
   "outputs": [
    {
     "name": "stdin",
     "output_type": "stream",
     "text": [
      "Enter a natural number:  100\n"
     ]
    },
    {
     "name": "stdout",
     "output_type": "stream",
     "text": [
      "The reciprocal of 100 is 0.01\n"
     ]
    }
   ],
   "source": [
    "# More than one exception\n",
    "try:\n",
    "    value = int(input('Enter a natural number: '))\n",
    "    print('The reciprocal of', value, 'is', 1/value)        \n",
    "except ValueError:\n",
    "    print('I do not know what to do.')    \n",
    "except ZeroDivisionError:\n",
    "    print('Division by zero is not allowed in our Universe.') \n"
   ]
  },
  {
   "cell_type": "code",
   "execution_count": 709,
   "id": "64584dd3-2d48-460b-b6d2-8c93e681e2f4",
   "metadata": {},
   "outputs": [
    {
     "name": "stdin",
     "output_type": "stream",
     "text": [
      "Enter a natural number:  0\n"
     ]
    },
    {
     "name": "stdout",
     "output_type": "stream",
     "text": [
      "Division by zero is not allowed in our Universe.\n"
     ]
    }
   ],
   "source": [
    "# default exception and how to use it\n",
    "try:\n",
    "    value = int(input('Enter a natural number: '))\n",
    "    print('The reciprocal of', value, 'is', 1/value)        \n",
    "except ValueError:\n",
    "    print('I do not know what to do.')    \n",
    "except ZeroDivisionError:\n",
    "    print('Division by zero is not allowed in our Universe.')    \n",
    "except:\n",
    "    print('Something strange has happened here... Sorry!')\n",
    "# The default except branch must be the last except branch\n"
   ]
  },
  {
   "cell_type": "code",
   "execution_count": 730,
   "id": "b6a2fca2-04e0-4303-976e-1b3c8578dfec",
   "metadata": {},
   "outputs": [
    {
     "name": "stdout",
     "output_type": "stream",
     "text": [
      "[50, 50, 50, 50, 10, 20, 30, 40, 50]\n"
     ]
    }
   ],
   "source": [
    "my_numbers = [10, 20, 30, 40, 50]\n",
    "\n",
    "for i in range(4):\n",
    "    my_numbers.insert(i, my_numbers[-1])\n",
    "\n",
    "print(my_numbers)\n"
   ]
  }
 ],
 "metadata": {
  "kernelspec": {
   "display_name": "Python [conda env:base] *",
   "language": "python",
   "name": "conda-base-py"
  },
  "language_info": {
   "codemirror_mode": {
    "name": "ipython",
    "version": 3
   },
   "file_extension": ".py",
   "mimetype": "text/x-python",
   "name": "python",
   "nbconvert_exporter": "python",
   "pygments_lexer": "ipython3",
   "version": "3.11.11"
  }
 },
 "nbformat": 4,
 "nbformat_minor": 5
}
