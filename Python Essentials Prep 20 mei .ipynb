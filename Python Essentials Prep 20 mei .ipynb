{
 "cells": [
  {
   "cell_type": "markdown",
   "id": "bd724e77-7e1e-4d50-b285-9501ec6b90ef",
   "metadata": {},
   "source": [
    "# Lists revisited\n",
    "\n",
    "**Lists are everywhere**\n",
    "\n",
    "Core List Operations \n",
    "\n",
    "- **Looping** through a list: Go through each item in the list one by one using a loop. (now)\n",
    "- **Inserting** elements into a list: Add an item at a specific position in the list. (later)\n",
    "- **Appending** elements to a list: Add an item to the end of the list. (later)\n",
    "- **Deleting** elements from a list: Remove items from the list by value or position. (later)"
   ]
  },
  {
   "cell_type": "markdown",
   "id": "30575389-d6d9-417a-a899-28e3a99f121d",
   "metadata": {},
   "source": [
    "## Recommended Additions (later)\n",
    "\n",
    "- **Updating** elements in a list: Modify an existing item by index. Example: my_list[2] = \"new value\"\n",
    "- **Searching** for elements: Check if an item is in the list using in or find its index with .index(). Example: \"apple\" in my_list\n",
    "- **Slicing** a list: Access a part of the list using slice notation. Example: my_list[1:4]\n",
    "- **Sorting** a list: Sort items alphabetically or numerically. Example: my_list.sort() or sorted(my_list) (now)\n",
    "- **Copying** a list: Create a copy using slicing or .copy(). Example: copy = my_list[:]\n",
    "- **Clearing** a list: Remove all items with .clear().\n",
    "\n",
    "*Multiple examples in the **Python Essentials** course"
   ]
  },
  {
   "cell_type": "markdown",
   "id": "8f008c75-74b9-4775-ac13-6a6680360cec",
   "metadata": {},
   "source": [
    "# Financial Transactions: Lists, Loops, Sorting \n"
   ]
  },
  {
   "cell_type": "code",
   "execution_count": 12,
   "id": "ece24d5f-1e89-4650-a8cc-e9ef45e3430e",
   "metadata": {},
   "outputs": [
    {
     "name": "stdout",
     "output_type": "stream",
     "text": [
      "Printing transaction as they occurred\n",
      "\n",
      "Transaction history:\n",
      "\n",
      "10000\n",
      "-150\n",
      "-25\n",
      "-2515\n",
      "3650\n",
      "-2100\n",
      "-4500\n"
     ]
    }
   ],
   "source": [
    "# List of financial transactions (positive = income, negative = expense)\n",
    "fin_transactions = [10000, -150, -25, -2515, +3650, -2100, -4500]\n",
    "\n",
    "print(\"Printing transaction as they occurred\\n\")\n",
    "\n",
    "# Print and calculate each transaction\n",
    "print(\"Transaction history:\\n\")\n",
    "for transaction in fin_transactions:\n",
    "    print(transaction)\n"
   ]
  },
  {
   "cell_type": "code",
   "execution_count": 75,
   "id": "8597f891-184c-404d-a00f-0f752b7b2fc2",
   "metadata": {},
   "outputs": [
    {
     "name": "stdout",
     "output_type": "stream",
     "text": [
      "Printing transaction as they occurred, adding a transaction number\n",
      "\n",
      "Transaction history:\n",
      "\n",
      "1: 10000\n",
      "2: -150\n",
      "3: -25\n",
      "4: -2515\n",
      "5: 3650\n",
      "6: -2100\n",
      "7: -4500\n"
     ]
    }
   ],
   "source": [
    "fin_transactions = [10000, -150, -25, -2515, +3650, -2100, -4500]\n",
    "\n",
    "print(\"Printing transaction as they occurred, adding a transaction number\\n\")\n",
    "\n",
    "transaction_record = 0\n",
    "\n",
    "# Print and calculate each transaction\n",
    "print(\"Transaction history:\\n\")\n",
    "for transaction in fin_transactions:\n",
    "    transaction_record = transaction_record +1\n",
    "    print(transaction_record, transaction, sep=\": \")\n"
   ]
  },
  {
   "cell_type": "markdown",
   "id": "de2e7daf-f013-48e1-8e68-49145dde2efb",
   "metadata": {},
   "source": [
    "## Sorting : Method list.sort()\n",
    "\n",
    "- **list.sort()** modifies the list in place\n",
    "- It **sorts the list itself**, modifying its order\n",
    "- It returns **None** — not a new list"
   ]
  },
  {
   "cell_type": "code",
   "execution_count": 115,
   "id": "a3257867-9010-46f8-ad2f-05557da6c205",
   "metadata": {},
   "outputs": [
    {
     "name": "stdout",
     "output_type": "stream",
     "text": [
      "Transactions sorted from smallest to largest:\n",
      "\n",
      "[-4500, -2515, -2100, -150, -25, 3650, 10000]\n",
      "\n",
      "-4500 EUR\n",
      "-2515 EUR\n",
      "-2100 EUR\n",
      "-150 EUR\n",
      "-25 EUR\n",
      "+3650 EUR\n",
      "+10000 EUR\n"
     ]
    }
   ],
   "source": [
    "fin_transactions = [10000, -150, -25, -2515, +3650, -2100, -4500]\n",
    "print(\"Transactions sorted from smallest to largest:\\n\")\n",
    "fin_transactions.sort()\n",
    "print(fin_transactions)\n",
    "print()\n",
    "# Display sorted transactions\n",
    "for transaction in fin_transactions:\n",
    "    print(f\"{transaction:+} EUR\")"
   ]
  },
  {
   "cell_type": "markdown",
   "id": "88bc79f8-a594-4ac2-a55d-72df0c972afd",
   "metadata": {},
   "source": [
    "## Sorting : Reversed"
   ]
  },
  {
   "cell_type": "code",
   "execution_count": 18,
   "id": "1fd29b00-8692-4c23-801b-5401441471f6",
   "metadata": {},
   "outputs": [
    {
     "name": "stdout",
     "output_type": "stream",
     "text": [
      "Transactions sorted from smallest to largest:\n",
      "\n",
      "[10000, 3650, -25, -150, -2100, -2515, -4500]\n",
      "\n",
      "+10000 EUR\n",
      "+3650 EUR\n",
      "-25 EUR\n",
      "-150 EUR\n",
      "-2100 EUR\n",
      "-2515 EUR\n",
      "-4500 EUR\n"
     ]
    }
   ],
   "source": [
    "fin_transactions = [10000, -150, -25, -2515, +3650, -2100, -4500]\n",
    "print(\"Transactions sorted from smallest to largest:\\n\")\n",
    "fin_transactions.sort(reverse=True)\n",
    "print(fin_transactions)\n",
    "print()\n",
    "# Display sorted transactions\n",
    "for transaction in fin_transactions:\n",
    "    print(f\"{transaction:+} EUR\")"
   ]
  },
  {
   "cell_type": "markdown",
   "id": "75bc729e-73e0-41ad-a64c-a4c9542bae51",
   "metadata": {},
   "source": [
    "## Sorting : Function sorted()\n",
    "\n",
    "- If you need a new sorted list (without modifying the original)\n",
    "- Use the built-in **sorted()** function"
   ]
  },
  {
   "cell_type": "code",
   "execution_count": 20,
   "id": "84430a4b-29a0-4151-b5b5-dd3f4384441e",
   "metadata": {},
   "outputs": [
    {
     "name": "stdout",
     "output_type": "stream",
     "text": [
      "Transactions sorted from largest tosmallest:\n",
      "\n",
      "+10000 EUR\n",
      "+3650 EUR\n",
      "-25 EUR\n",
      "-150 EUR\n",
      "-2100 EUR\n",
      "-2515 EUR\n",
      "-4500 EUR\n"
     ]
    }
   ],
   "source": [
    "fin_transactions = [10000, -150, -25, -2515, +3650, -2100, -4500]\n",
    "print(\"Transactions sorted from largest to smallest:\\n\")\n",
    "# Sort transactions in descending order; sorted() returns a new sorted list, leaving the original unchanged.\n",
    "sorted_transactions = sorted(fin_transactions, reverse=True)\n",
    "\n",
    "# Display sorted transactions\n",
    "for transaction in sorted_transactions:\n",
    "    print(f\"{transaction:+} EUR\")"
   ]
  },
  {
   "cell_type": "code",
   "execution_count": 22,
   "id": "3079b1ac-b9f4-4bb7-97b5-fdc5116c0124",
   "metadata": {},
   "outputs": [
    {
     "name": "stdout",
     "output_type": "stream",
     "text": [
      "Printing and calculating each transaction:\n",
      "\n",
      "Transaction history:\n",
      "\n",
      "+10000 EUR  →  Current balance: 10000 EUR\n",
      "-150 EUR  →  Current balance: 9850 EUR\n",
      "-25 EUR  →  Current balance: 9825 EUR\n",
      "-2515 EUR  →  Current balance: 7310 EUR\n",
      "+3650 EUR  →  Current balance: 10960 EUR\n",
      "-2100 EUR  →  Current balance: 8860 EUR\n",
      "-4500 EUR  →  Current balance: 4360 EUR\n",
      "\n",
      "=> Final balance: 4360 EUR\n"
     ]
    }
   ],
   "source": [
    "# List of financial transactions (positive = income, negative = expense)\n",
    "fin_transactions = [10000, -150, -25, -2515, +3650, -2100, -4500]\n",
    "\n",
    "# Initialize balance\n",
    "balance = 0\n",
    "\n",
    "print(\"Printing and calculating each transaction:\\n\")\n",
    "\n",
    "# Print and calculate each transaction\n",
    "print(\"Transaction history:\\n\")\n",
    "for transaction in fin_transactions:\n",
    "    balance += transaction\n",
    "    print(f\"{transaction:+} EUR  →  Current balance: {balance} EUR\")\n",
    "\n",
    "# Final result\n",
    "print(\"\\n=> Final balance:\", balance, \"EUR\")"
   ]
  },
  {
   "cell_type": "markdown",
   "id": "c8a8ddf2-5202-468e-bda0-1b71bf5e032a",
   "metadata": {},
   "source": [
    "## Storing Transactions in a File: Using Loops and File Handling\n",
    "\n",
    "The following Python script performs the following jobs:\n",
    "\n",
    "- Calculates the running balance,\n",
    "- Adds a timestamp for each transaction (using today's date),\n",
    "- Writes the data to a file called transactions_<date>.txt.\n",
    "- Alternative file format csv, spreadsheet, database will be discussed at a later time."
   ]
  },
  {
   "cell_type": "code",
   "execution_count": 98,
   "id": "605eb2a3-d3e2-446c-8f80-942a7eb59e5f",
   "metadata": {},
   "outputs": [
    {
     "name": "stdout",
     "output_type": "stream",
     "text": [
      "Transactions exported to: transactions_2025-05-20.txt\n"
     ]
    }
   ],
   "source": [
    "from datetime import datetime\n",
    "\n",
    "# List of financial transactions (positive = income, negative = expense)\n",
    "fin_transactions = [10000, -150, -25, -2515, +3650, -2100, -4500]\n",
    "\n",
    "# Prepare filename with today's date\n",
    "today = datetime.today().strftime('%Y-%m-%d')\n",
    "filename = f\"transactions_{today}.txt\"\n",
    "\n",
    "# Initialize balance\n",
    "balance = 0\n",
    "\n",
    "# Open file for writing\n",
    "with open(filename, \"w\") as file:\n",
    "    file.write(f\"Transaction Log - {today}\\n\")\n",
    "    file.write(\"=\" * 40 + \"\\n\")\n",
    "\n",
    "    for transaction in fin_transactions:\n",
    "        balance += transaction\n",
    "        timestamp = datetime.now().strftime('%Y-%m-%d %H:%M:%S')\n",
    "        file.write(f\"{timestamp} | {transaction:+} EUR | Balance: {balance} EUR\\n\")\n",
    "\n",
    "    file.write(\"=\" * 40 + \"\\n\")\n",
    "    file.write(f\"Final balance: {balance} EUR\\n\")\n",
    "\n",
    "print(f\"Transactions exported to: {filename}\")\n"
   ]
  },
  {
   "cell_type": "markdown",
   "id": "f820a30b-b10f-42e6-a106-e32af25af9b4",
   "metadata": {},
   "source": [
    "## Reading transactions from a file\n",
    "\n",
    "- Make sure that the file exists, else the program will crach\n",
    "- Use try ... except"
   ]
  },
  {
   "cell_type": "code",
   "execution_count": 100,
   "id": "955358ec-c301-4e38-8138-1a7c71333ba0",
   "metadata": {},
   "outputs": [
    {
     "name": "stdout",
     "output_type": "stream",
     "text": [
      "Displaying contents of transactions_2025-05-20.txt:\n",
      "\n",
      "Transaction Log - 2025-05-20\n",
      "========================================\n",
      "2025-05-20 15:08:56 | +10000 EUR | Balance: 10000 EUR\n",
      "2025-05-20 15:08:56 | -150 EUR | Balance: 9850 EUR\n",
      "2025-05-20 15:08:56 | -25 EUR | Balance: 9825 EUR\n",
      "2025-05-20 15:08:56 | -2515 EUR | Balance: 7310 EUR\n",
      "2025-05-20 15:08:56 | +3650 EUR | Balance: 10960 EUR\n",
      "2025-05-20 15:08:56 | -2100 EUR | Balance: 8860 EUR\n",
      "2025-05-20 15:08:56 | -4500 EUR | Balance: 4360 EUR\n",
      "========================================\n",
      "Final balance: 4360 EUR\n",
      "\n"
     ]
    }
   ],
   "source": [
    "from datetime import datetime\n",
    "\n",
    "# Get today's date to match the file name\n",
    "today = datetime.today().strftime('%Y-%m-%d')\n",
    "filename = f\"transactions_{today}.txt\"\n",
    "\n",
    "try:\n",
    "    with open(filename, \"r\") as file:\n",
    "        print(f\"Displaying contents of {filename}:\\n\")\n",
    "        contents = file.read()\n",
    "        print(contents)\n",
    "except FileNotFoundError:\n",
    "    print(f\"File {filename} not found.\")"
   ]
  },
  {
   "cell_type": "markdown",
   "id": "faabe78a-50cd-4011-a113-41cecb15152e",
   "metadata": {},
   "source": [
    "# Weather Stats: lists and loops"
   ]
  },
  {
   "cell_type": "markdown",
   "id": "3c05bd29-aef0-4f52-afa3-d30924eabe1a",
   "metadata": {},
   "source": [
    "Here are the first three months as an example:\n",
    "\n",
    "- January: Max Temp = 10°C, Min Temp = -1°C, Sunny = 5 days, Cloudy = 15 days, Rainy = 11 days\n",
    "- February: Max Temp = 12°C, Min Temp = 0°C, Sunny = 6 days, Cloudy = 12 days, Rainy = 11 days\n",
    "- March: Max Temp = 15°C, Min Temp = 2°C, Sunny = 8 days, Cloudy = 14 days, Rainy = 9 days"
   ]
  },
  {
   "cell_type": "code",
   "execution_count": 141,
   "id": "7cd5f40d-6961-4ffd-9627-a785dbd9514c",
   "metadata": {},
   "outputs": [
    {
     "name": "stdout",
     "output_type": "stream",
     "text": [
      "['January', 10, -1, 5, 15, 11]\n",
      "Max Temp: 10\n",
      "Min Temp: -1\n"
     ]
    }
   ],
   "source": [
    "weather_2025_1 = ['January', 10, -1, 5, 15, 11]\n",
    "weather_2025_2 = ['February', 12, 0, 6, 12, 11]\n",
    "weather_2025_3 = ['March', 15, 2, 8, 14, 9]\n",
    "weather_2025_4 = ['April', 18, 5, 12, 10, 8]\n",
    "weather_2025_5 = ['May', 22, 9, 14, 9, 8]\n",
    "weather_2025_6 = ['June', 25, 13, 15, 8, 7]\n",
    "weather_2025_7 = ['July', 28, 15, 18, 7, 6]\n",
    "weather_2025_8 = ['August', 27, 14, 17, 8, 6]\n",
    "weather_2025_9 = ['September', 23, 11, 13, 10, 7]\n",
    "weather_2025_10 = ['October', 17, 7, 9, 14, 8]\n",
    "weather_2025_11 = ['November', 11, 3, 6, 17, 7]\n",
    "weather_2025_12 = ['December', 7, 0, 4, 18, 9]\n",
    "\n",
    "# Display complete list of measurements for one month\n",
    "print(weather_2025_1)\n",
    "\n",
    "# Pick out a specific element\n",
    "print(\"Max Temp:\", weather_2025_1[1])\n",
    "print(\"Min Temp:\", weather_2025_1[2])\n"
   ]
  },
  {
   "cell_type": "markdown",
   "id": "f79ed304-e290-406c-a7c3-3571cb697d5f",
   "metadata": {},
   "source": [
    "## A Table is a \"List of Lists\""
   ]
  },
  {
   "cell_type": "code",
   "execution_count": 64,
   "id": "677941bc-2e12-4d6a-a2ae-115f33cc38be",
   "metadata": {},
   "outputs": [
    {
     "name": "stdout",
     "output_type": "stream",
     "text": [
      "['January', 10, -1, 5, 15, 11]\n",
      "['February', 12, 0, 6, 12, 11]\n",
      "['March', 15, 2, 8, 14, 9]\n",
      "['April', 18, 5, 12, 10, 8]\n",
      "['May', 22, 9, 14, 9, 8]\n",
      "['June', 25, 13, 15, 8, 7]\n",
      "['July', 28, 15, 18, 7, 6]\n",
      "['August', 27, 14, 17, 8, 6]\n",
      "['September', 23, 11, 13, 10, 7]\n",
      "['October', 17, 7, 9, 14, 8]\n",
      "['November', 11, 3, 6, 17, 7]\n",
      "['December', 7, 0, 4, 18, 9]\n"
     ]
    }
   ],
   "source": [
    "# A table is a \"list of lists\"\n",
    "weather_year_2025 = [\n",
    "    ['January', 10, -1, 5, 15, 11], ['February', 12, 0, 6, 12, 11], ['March', 15, 2, 8, 14, 9], \n",
    "    ['April', 18, 5, 12, 10, 8], ['May', 22, 9, 14, 9, 8], ['June', 25, 13, 15, 8, 7], \n",
    "    ['July', 28, 15, 18, 7, 6], ['August', 27, 14, 17, 8, 6], ['September', 23, 11, 13, 10, 7], \n",
    "    ['October', 17, 7, 9, 14, 8], ['November', 11, 3, 6, 17, 7], ['December', 7, 0, 4, 18, 9]\n",
    "]\n",
    "\n",
    "# Print data of all months\n",
    "for m in weather_year_2025:\n",
    "    print(m)"
   ]
  },
  {
   "cell_type": "markdown",
   "id": "110314f5-060a-40d7-8b3d-3af1a57e3621",
   "metadata": {},
   "source": [
    "**Cell Address: [row][column]**"
   ]
  },
  {
   "cell_type": "code",
   "execution_count": 17,
   "id": "90f4057c-6956-4d47-98bf-d135652e3a57",
   "metadata": {},
   "outputs": [
    {
     "name": "stdout",
     "output_type": "stream",
     "text": [
      "January\n",
      "February\n",
      "12\n",
      "9\n"
     ]
    }
   ],
   "source": [
    "# Note: Run the previous cell first\n",
    "# FIRST CELL\n",
    "row_selected = 0\n",
    "col_selected = 0\n",
    "cell_value = weather_year_2025[row_selected][col_selected]\n",
    "print(cell_value)\n",
    "\n",
    "# NEXT ROW\n",
    "row_selected = 1\n",
    "col_selected = 0\n",
    "cell_value = weather_year_2025[row_selected][col_selected]\n",
    "print(cell_value)\n",
    "\n",
    "# NEXT CELL\n",
    "row_selected = 1\n",
    "col_selected = 1\n",
    "cell_value = weather_year_2025[row_selected][col_selected]\n",
    "print(cell_value)\n",
    "\n",
    "# LAST CELL\n",
    "row_selected = -1\n",
    "col_selected = -1\n",
    "cell_value = weather_year_2025[row_selected][col_selected]\n",
    "print(cell_value)\n"
   ]
  },
  {
   "cell_type": "markdown",
   "id": "c5eca222-99fa-46b1-8df9-67488c578cd3",
   "metadata": {},
   "source": [
    "**Task**: Write a program that loops though all the cells and displays cell address and cell value"
   ]
  },
  {
   "cell_type": "code",
   "execution_count": 66,
   "id": "5ce13c44-cc73-484b-a2c4-7a99dda7ac74",
   "metadata": {},
   "outputs": [
    {
     "name": "stdout",
     "output_type": "stream",
     "text": [
      "Cell[0][0] = January\n",
      "Cell[0][1] = 10\n",
      "Cell[0][2] = -1\n",
      "Cell[0][3] = 5\n",
      "Cell[0][4] = 15\n",
      "Cell[0][5] = 11\n",
      "Cell[1][0] = February\n",
      "Cell[1][1] = 12\n",
      "Cell[1][2] = 0\n",
      "Cell[1][3] = 6\n",
      "Cell[1][4] = 12\n",
      "Cell[1][5] = 11\n",
      "Cell[2][0] = March\n",
      "Cell[2][1] = 15\n",
      "Cell[2][2] = 2\n",
      "Cell[2][3] = 8\n",
      "Cell[2][4] = 14\n",
      "Cell[2][5] = 9\n",
      "Cell[3][0] = April\n",
      "Cell[3][1] = 18\n",
      "Cell[3][2] = 5\n",
      "Cell[3][3] = 12\n",
      "Cell[3][4] = 10\n",
      "Cell[3][5] = 8\n",
      "Cell[4][0] = May\n",
      "Cell[4][1] = 22\n",
      "Cell[4][2] = 9\n",
      "Cell[4][3] = 14\n",
      "Cell[4][4] = 9\n",
      "Cell[4][5] = 8\n",
      "Cell[5][0] = June\n",
      "Cell[5][1] = 25\n",
      "Cell[5][2] = 13\n",
      "Cell[5][3] = 15\n",
      "Cell[5][4] = 8\n",
      "Cell[5][5] = 7\n",
      "Cell[6][0] = July\n",
      "Cell[6][1] = 28\n",
      "Cell[6][2] = 15\n",
      "Cell[6][3] = 18\n",
      "Cell[6][4] = 7\n",
      "Cell[6][5] = 6\n",
      "Cell[7][0] = August\n",
      "Cell[7][1] = 27\n",
      "Cell[7][2] = 14\n",
      "Cell[7][3] = 17\n",
      "Cell[7][4] = 8\n",
      "Cell[7][5] = 6\n",
      "Cell[8][0] = September\n",
      "Cell[8][1] = 23\n",
      "Cell[8][2] = 11\n",
      "Cell[8][3] = 13\n",
      "Cell[8][4] = 10\n",
      "Cell[8][5] = 7\n",
      "Cell[9][0] = October\n",
      "Cell[9][1] = 17\n",
      "Cell[9][2] = 7\n",
      "Cell[9][3] = 9\n",
      "Cell[9][4] = 14\n",
      "Cell[9][5] = 8\n",
      "Cell[10][0] = November\n",
      "Cell[10][1] = 11\n",
      "Cell[10][2] = 3\n",
      "Cell[10][3] = 6\n",
      "Cell[10][4] = 17\n",
      "Cell[10][5] = 7\n",
      "Cell[11][0] = December\n",
      "Cell[11][1] = 7\n",
      "Cell[11][2] = 0\n",
      "Cell[11][3] = 4\n",
      "Cell[11][4] = 18\n",
      "Cell[11][5] = 9\n"
     ]
    }
   ],
   "source": [
    "# Note: Run the previous cell first\n",
    "for row_index in range(len(weather_year_2025)):\n",
    "    row = weather_year_2025[row_index]\n",
    "    for col_index in range(len(row)):\n",
    "        value = row[col_index]\n",
    "        print(f\"Cell[{row_index}][{col_index}] = {value}\")"
   ]
  },
  {
   "cell_type": "markdown",
   "id": "76aa8bb8-9ceb-489f-91c6-78598adbb7b4",
   "metadata": {},
   "source": [
    "**Explanation:**\n",
    "  \n",
    "- range(len(weather_year_2025)): loops over the row indices (0–11).\n",
    "- range(len(row)): loops over the column indices for that row.\n",
    "\n",
    "This gives you both row_index and col_index, so you can print the full cell address and its value."
   ]
  },
  {
   "cell_type": "markdown",
   "id": "234a2efb-c765-49bf-8cfa-d1b71484853a",
   "metadata": {},
   "source": [
    "**Alternative: Using the enumerate() function**"
   ]
  },
  {
   "cell_type": "code",
   "execution_count": 25,
   "id": "930028ef-3418-4695-833b-7bb08709581d",
   "metadata": {},
   "outputs": [
    {
     "name": "stdout",
     "output_type": "stream",
     "text": [
      "Cell[0][0] = January\n",
      "Cell[0][1] = 10\n",
      "Cell[0][2] = -1\n",
      "Cell[0][3] = 5\n",
      "Cell[0][4] = 15\n",
      "Cell[0][5] = 11\n",
      "Cell[1][0] = February\n",
      "Cell[1][1] = 12\n",
      "Cell[1][2] = 0\n",
      "Cell[1][3] = 6\n",
      "Cell[1][4] = 12\n",
      "Cell[1][5] = 11\n",
      "Cell[2][0] = March\n",
      "Cell[2][1] = 15\n",
      "Cell[2][2] = 2\n",
      "Cell[2][3] = 8\n",
      "Cell[2][4] = 14\n",
      "Cell[2][5] = 9\n",
      "Cell[3][0] = April\n",
      "Cell[3][1] = 18\n",
      "Cell[3][2] = 5\n",
      "Cell[3][3] = 12\n",
      "Cell[3][4] = 10\n",
      "Cell[3][5] = 8\n",
      "Cell[4][0] = May\n",
      "Cell[4][1] = 22\n",
      "Cell[4][2] = 9\n",
      "Cell[4][3] = 14\n",
      "Cell[4][4] = 9\n",
      "Cell[4][5] = 8\n",
      "Cell[5][0] = June\n",
      "Cell[5][1] = 25\n",
      "Cell[5][2] = 13\n",
      "Cell[5][3] = 15\n",
      "Cell[5][4] = 8\n",
      "Cell[5][5] = 7\n",
      "Cell[6][0] = July\n",
      "Cell[6][1] = 28\n",
      "Cell[6][2] = 15\n",
      "Cell[6][3] = 18\n",
      "Cell[6][4] = 7\n",
      "Cell[6][5] = 6\n",
      "Cell[7][0] = August\n",
      "Cell[7][1] = 27\n",
      "Cell[7][2] = 14\n",
      "Cell[7][3] = 17\n",
      "Cell[7][4] = 8\n",
      "Cell[7][5] = 6\n",
      "Cell[8][0] = September\n",
      "Cell[8][1] = 23\n",
      "Cell[8][2] = 11\n",
      "Cell[8][3] = 13\n",
      "Cell[8][4] = 10\n",
      "Cell[8][5] = 7\n",
      "Cell[9][0] = October\n",
      "Cell[9][1] = 17\n",
      "Cell[9][2] = 7\n",
      "Cell[9][3] = 9\n",
      "Cell[9][4] = 14\n",
      "Cell[9][5] = 8\n",
      "Cell[10][0] = November\n",
      "Cell[10][1] = 11\n",
      "Cell[10][2] = 3\n",
      "Cell[10][3] = 6\n",
      "Cell[10][4] = 17\n",
      "Cell[10][5] = 7\n",
      "Cell[11][0] = December\n",
      "Cell[11][1] = 7\n",
      "Cell[11][2] = 0\n",
      "Cell[11][3] = 4\n",
      "Cell[11][4] = 18\n",
      "Cell[11][5] = 9\n"
     ]
    }
   ],
   "source": [
    "for row_index, row in enumerate(weather_year_2025):\n",
    "    for col_index, value in enumerate(row):\n",
    "        print(f\"Cell[{row_index}][{col_index}] = {value}\")"
   ]
  },
  {
   "cell_type": "markdown",
   "id": "8ee71ebd-261c-4a8c-bd65-46e70348684a",
   "metadata": {},
   "source": [
    "**enumerate()**\n",
    "\n",
    "The enumerate() function lets you loop through a list while keeping track of the index (position) of each item."
   ]
  },
  {
   "cell_type": "markdown",
   "id": "2d4dd382-b6d0-4461-bd2b-b9137c79f7f7",
   "metadata": {},
   "source": [
    "## During a loop : Select a value in a list by using index"
   ]
  },
  {
   "cell_type": "code",
   "execution_count": 62,
   "id": "9947deeb-c273-4d63-a37a-92fa7b9dfcfa",
   "metadata": {},
   "outputs": [
    {
     "name": "stdout",
     "output_type": "stream",
     "text": [
      "- Month: January => Max Temp: 10\n",
      "- Month: February => Max Temp: 12\n",
      "- Month: March => Max Temp: 15\n",
      "- Month: April => Max Temp: 18\n",
      "- Month: May => Max Temp: 22\n",
      "- Month: June => Max Temp: 25\n",
      "- Month: July => Max Temp: 28\n",
      "- Month: August => Max Temp: 27\n",
      "- Month: September => Max Temp: 23\n",
      "- Month: October => Max Temp: 17\n",
      "- Month: November => Max Temp: 11\n",
      "- Month: December => Max Temp: 7\n"
     ]
    }
   ],
   "source": [
    "# Note: Run the previous cell first\n",
    "for m in weather_year_2025:\n",
    "    print(\"- Month:\", m[0],\"=> Max Temp:\", m[1])"
   ]
  },
  {
   "cell_type": "markdown",
   "id": "00cf9325-b815-4766-b732-516e2d633aff",
   "metadata": {},
   "source": [
    "## During a loop : Select a month "
   ]
  },
  {
   "cell_type": "markdown",
   "id": "4ce07c13-1c17-4f89-a14f-b9d2e9e78726",
   "metadata": {},
   "source": [
    "**Static variable**"
   ]
  },
  {
   "cell_type": "code",
   "execution_count": 208,
   "id": "081d797f-3941-4258-b82b-df82db8441a0",
   "metadata": {},
   "outputs": [
    {
     "name": "stdout",
     "output_type": "stream",
     "text": [
      "Month: July => Max Temp: 28\n"
     ]
    }
   ],
   "source": [
    "# Note: Run the previous cell first\n",
    "month_to_search = \"July\"\n",
    "for m in weather_year_2025:\n",
    "    if m[0] == month_to_search:\n",
    "        print(\"Month:\", m[0],\"=> Max Temp:\", m[1])"
   ]
  },
  {
   "cell_type": "markdown",
   "id": "df9ba7b0-38db-4cc1-a908-aec59f5e3cd0",
   "metadata": {},
   "source": [
    "**Interactive input**"
   ]
  },
  {
   "cell_type": "code",
   "execution_count": 210,
   "id": "3e34c299-dcad-4b35-8f88-1cc6e12d8264",
   "metadata": {},
   "outputs": [
    {
     "name": "stdin",
     "output_type": "stream",
     "text": [
      "What month to select? July\n"
     ]
    },
    {
     "name": "stdout",
     "output_type": "stream",
     "text": [
      "Month: July => Max Temp: 28\n"
     ]
    }
   ],
   "source": [
    "# Note: Run the previous cell first\n",
    "month_to_search = input(\"What month to select?\")\n",
    "for m in weather_year_2025:\n",
    "    if m[0] == month_to_search:\n",
    "        print(\"Month:\", m[0],\"=> Max Temp:\", m[1])"
   ]
  },
  {
   "cell_type": "markdown",
   "id": "1a7369b8-d342-4246-8fdc-5dfb91c806b6",
   "metadata": {},
   "source": [
    "**Interactive input with partial match**\n",
    "\n",
    "- Updated Script (with partial match) using lower or uppercase and \"in\""
   ]
  },
  {
   "cell_type": "code",
   "execution_count": 55,
   "id": "f7b29556-4e4b-420b-9f8e-495f1d1626b2",
   "metadata": {},
   "outputs": [
    {
     "name": "stdin",
     "output_type": "stream",
     "text": [
      "What month to select?  De\n"
     ]
    },
    {
     "name": "stdout",
     "output_type": "stream",
     "text": [
      "Month: December => Max Temp: 7\n"
     ]
    }
   ],
   "source": [
    "# Note: Run the previous cell first\n",
    "month_to_search = input(\"What month to select? \").lower()\n",
    "for m in weather_year_2025:\n",
    "    if month_to_search in m[0].lower():\n",
    "        print(\"Month:\", m[0], \"=> Max Temp:\", m[1])"
   ]
  },
  {
   "cell_type": "markdown",
   "id": "6976a2c8-0cbf-460c-abb9-9c72775d84ca",
   "metadata": {},
   "source": [
    "## Extra Practice \n",
    "- Saving weather data to a file\n",
    "- Reading weather data from a file\n",
    "- Displaying weather data graphically"
   ]
  },
  {
   "cell_type": "markdown",
   "id": "3a69a95b-d45a-4985-a548-06eca4682152",
   "metadata": {},
   "source": [
    "# Lists Further Explored\n",
    "**Core List Operations**\n",
    "\n",
    "- Looping through a list: Go through each item in the list one by one using a loop. (done)\n",
    "- Inserting elements into a list: Add an item at a specific position in the list. \n",
    "- Appending elements to a list: Add an item to the end of the list. \n",
    "- Deleting elements from a list: Remove items from the list by value or position. \n",
    "\n",
    "**Recommended Additions**\n",
    "\n",
    "- Updating elements in a list: Modify an existing item by index. Example: my_list[2] = \"new value\" \n",
    "- Searching for elements: Check if an item is in the list using in or find its index with .index(). Example: \"apple\" in my_list \n",
    "- Slicing a list: Access a part of the list using slice notation. Example: my_list[1:4] \n",
    "- Sorting a list: Sort items alphabetically or numerically. (done)\n",
    "- Copying a list: Create a copy using slicing or .copy(). Example: copy = my_list[:] \n",
    "- Clearing a list: Remove all items with .clear().\n",
    "\n",
    "Multiple examples in the Python Essentials course."
   ]
  },
  {
   "cell_type": "code",
   "execution_count": 219,
   "id": "4c663e42-333c-42c0-8754-17cfbf42f3ce",
   "metadata": {},
   "outputs": [],
   "source": [
    "# END OF THE PREP"
   ]
  }
 ],
 "metadata": {
  "kernelspec": {
   "display_name": "Python [conda env:base] *",
   "language": "python",
   "name": "conda-base-py"
  },
  "language_info": {
   "codemirror_mode": {
    "name": "ipython",
    "version": 3
   },
   "file_extension": ".py",
   "mimetype": "text/x-python",
   "name": "python",
   "nbconvert_exporter": "python",
   "pygments_lexer": "ipython3",
   "version": "3.11.11"
  }
 },
 "nbformat": 4,
 "nbformat_minor": 5
}
