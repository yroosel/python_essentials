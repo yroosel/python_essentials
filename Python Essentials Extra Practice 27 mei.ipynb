{
 "cells": [
  {
   "cell_type": "markdown",
   "id": "2be540f9-9feb-4b3d-91e4-e00ea4d363b8",
   "metadata": {},
   "source": [
    "# Praktijkvoorbeelden 27 mei"
   ]
  },
  {
   "cell_type": "markdown",
   "id": "662698b2-fb3b-40bf-9649-c02bb423868b",
   "metadata": {},
   "source": [
    "## List of lists\n",
    "\n",
    "- A table can be viewed as a list of lists\n",
    "- In Python, you can represent a simple table as a list of rows, where each row is itself a list of values.\n",
    "\n",
    "**Limitations**\n",
    "\n",
    "- This is fine for small or simple data tables\n",
    "- A list of lists lacks labels (like column names or row indices)\n",
    "- It doesn’t support easy filtering, sorting, or column-based operations\n",
    "- That’s why libraries like pandas use the DataFrame object, which is more powerful and behaves more like a spreadsheet or database table."
   ]
  },
  {
   "cell_type": "code",
   "execution_count": 11,
   "id": "9d3d245c-3328-4d12-bf34-5b6fbdc9a332",
   "metadata": {},
   "outputs": [
    {
     "name": "stdout",
     "output_type": "stream",
     "text": [
      "Output in condensed format\n",
      "\n",
      "<class 'list'>\n",
      "[['January', 10, -1, 5, 15, 11], ['February', 12, 0, 6, 12, 11], ['March', 15, 2, 8, 14, 9], ['April', 18, 5, 12, 10, 8], ['May', 22, 9, 14, 9, 8], ['June', 25, 13, 15, 8, 7], ['July', 28, 15, 18, 7, 6], ['August', 27, 14, 17, 8, 6], ['September', 23, 11, 13, 10, 7], ['October', 17, 7, 9, 14, 8], ['November', 11, 3, 6, 17, 7], ['December', 7, 0, 4, 18, 9]]\n"
     ]
    }
   ],
   "source": [
    "# List of lists: weather data for each month\n",
    "weather_year_2025 = [\n",
    "    ['January', 10, -1, 5, 15, 11], \n",
    "    ['February', 12, 0, 6, 12, 11], \n",
    "    ['March', 15, 2, 8, 14, 9], \n",
    "    ['April', 18, 5, 12, 10, 8], \n",
    "    ['May', 22, 9, 14, 9, 8], \n",
    "    ['June', 25, 13, 15, 8, 7], \n",
    "    ['July', 28, 15, 18, 7, 6], \n",
    "    ['August', 27, 14, 17, 8, 6], \n",
    "    ['September', 23, 11, 13, 10, 7], \n",
    "    ['October', 17, 7, 9, 14, 8], \n",
    "    ['November', 11, 3, 6, 17, 7], \n",
    "    ['December', 7, 0, 4, 18, 9]\n",
    "]\n",
    "\n",
    "print(\"Output in condensed format\\n\")\n",
    "print(type(weather_year_2025)  )\n",
    "print(weather_year_2025)  \n"
   ]
  },
  {
   "cell_type": "code",
   "execution_count": 39,
   "id": "77699711-340d-4b79-9dd8-6e16929f2e14",
   "metadata": {},
   "outputs": [
    {
     "name": "stdout",
     "output_type": "stream",
     "text": [
      "Output in table format\n",
      "\n",
      "+-----------+----+----+----+----+----+\n",
      "|  January  | 10 | -1 | 5  | 15 | 11 |\n",
      "| February  | 12 | 0  | 6  | 12 | 11 |\n",
      "|   March   | 15 | 2  | 8  | 14 | 9  |\n",
      "|   April   | 18 | 5  | 12 | 10 | 8  |\n",
      "|    May    | 22 | 9  | 14 | 9  | 8  |\n",
      "|   June    | 25 | 13 | 15 | 8  | 7  |\n",
      "|   July    | 28 | 15 | 18 | 7  | 6  |\n",
      "|  August   | 27 | 14 | 17 | 8  | 6  |\n",
      "| September | 23 | 11 | 13 | 10 | 7  |\n",
      "|  October  | 17 | 7  | 9  | 14 | 8  |\n",
      "| November  | 11 | 3  | 6  | 17 | 7  |\n",
      "| December  | 7  | 0  | 4  | 18 | 9  |\n",
      "+-----------+----+----+----+----+----+\n"
     ]
    }
   ],
   "source": [
    "# Run previous cell first\n",
    "from tabulate import tabulate\n",
    "print(\"Output in table format\\n\")\n",
    "print(tabulate(weather_year_2025, tablefmt=\"pretty\"))"
   ]
  },
  {
   "cell_type": "code",
   "execution_count": 15,
   "id": "cf99220f-82ba-4ab0-b138-77d2bb01ea59",
   "metadata": {},
   "outputs": [
    {
     "name": "stdout",
     "output_type": "stream",
     "text": [
      "Output in table format\n",
      "\n",
      "+-----------+----+----+----+----+----+\n",
      "| January   | 10 | -1 |  5 | 15 | 11 |\n",
      "+-----------+----+----+----+----+----+\n",
      "| February  | 12 |  0 |  6 | 12 | 11 |\n",
      "+-----------+----+----+----+----+----+\n",
      "| March     | 15 |  2 |  8 | 14 |  9 |\n",
      "+-----------+----+----+----+----+----+\n",
      "| April     | 18 |  5 | 12 | 10 |  8 |\n",
      "+-----------+----+----+----+----+----+\n",
      "| May       | 22 |  9 | 14 |  9 |  8 |\n",
      "+-----------+----+----+----+----+----+\n",
      "| June      | 25 | 13 | 15 |  8 |  7 |\n",
      "+-----------+----+----+----+----+----+\n",
      "| July      | 28 | 15 | 18 |  7 |  6 |\n",
      "+-----------+----+----+----+----+----+\n",
      "| August    | 27 | 14 | 17 |  8 |  6 |\n",
      "+-----------+----+----+----+----+----+\n",
      "| September | 23 | 11 | 13 | 10 |  7 |\n",
      "+-----------+----+----+----+----+----+\n",
      "| October   | 17 |  7 |  9 | 14 |  8 |\n",
      "+-----------+----+----+----+----+----+\n",
      "| November  | 11 |  3 |  6 | 17 |  7 |\n",
      "+-----------+----+----+----+----+----+\n",
      "| December  |  7 |  0 |  4 | 18 |  9 |\n",
      "+-----------+----+----+----+----+----+\n"
     ]
    }
   ],
   "source": [
    "# Run previous cell first\n",
    "from tabulate import tabulate\n",
    "print(\"Output in table format\\n\")\n",
    "print(tabulate(weather_year_2025, tablefmt=\"grid\"))"
   ]
  },
  {
   "cell_type": "code",
   "execution_count": 33,
   "id": "55cc43d4-e9f4-403b-aac2-bc2ddc7a385e",
   "metadata": {},
   "outputs": [
    {
     "name": "stdout",
     "output_type": "stream",
     "text": [
      "+-----------+-------+-------+---------+----------+---------+\n",
      "| Month     |   Max |   Min |   Sunny |   Cloudy |   Rainy |\n",
      "+===========+=======+=======+=========+==========+=========+\n",
      "| January   |    10 |    -1 |       5 |       15 |      11 |\n",
      "+-----------+-------+-------+---------+----------+---------+\n",
      "| February  |    12 |     0 |       6 |       12 |      11 |\n",
      "+-----------+-------+-------+---------+----------+---------+\n",
      "| March     |    15 |     2 |       8 |       14 |       9 |\n",
      "+-----------+-------+-------+---------+----------+---------+\n",
      "| April     |    18 |     5 |      12 |       10 |       8 |\n",
      "+-----------+-------+-------+---------+----------+---------+\n",
      "| May       |    22 |     9 |      14 |        9 |       8 |\n",
      "+-----------+-------+-------+---------+----------+---------+\n",
      "| June      |    25 |    13 |      15 |        8 |       7 |\n",
      "+-----------+-------+-------+---------+----------+---------+\n",
      "| July      |    28 |    15 |      18 |        7 |       6 |\n",
      "+-----------+-------+-------+---------+----------+---------+\n",
      "| August    |    27 |    14 |      17 |        8 |       6 |\n",
      "+-----------+-------+-------+---------+----------+---------+\n",
      "| September |    23 |    11 |      13 |       10 |       7 |\n",
      "+-----------+-------+-------+---------+----------+---------+\n",
      "| October   |    17 |     7 |       9 |       14 |       8 |\n",
      "+-----------+-------+-------+---------+----------+---------+\n",
      "| November  |    11 |     3 |       6 |       17 |       7 |\n",
      "+-----------+-------+-------+---------+----------+---------+\n",
      "| December  |     7 |     0 |       4 |       18 |       9 |\n",
      "+-----------+-------+-------+---------+----------+---------+\n"
     ]
    }
   ],
   "source": [
    "col_headers = ['Month', 'Max Temp (°C)', 'Min Temp (°C)', 'Sunny Days', 'Cloudy Days', 'Rainy Days']\n",
    "# print(type(col_headers))\n",
    "short_headers = ['Month', 'Max', 'Min', 'Sunny', 'Cloudy', 'Rainy']\n",
    "print(tabulate(weather_year_2025, headers=short_headers, tablefmt=\"grid\"))"
   ]
  },
  {
   "cell_type": "code",
   "execution_count": 51,
   "id": "e79475f9-2ddd-4a47-b463-ee452739b6cb",
   "metadata": {},
   "outputs": [
    {
     "name": "stdout",
     "output_type": "stream",
     "text": [
      " Volume in drive C is Windows\n",
      " Volume Serial Number is 9E1E-8F54\n",
      "\n",
      " Directory of C:\\Users\\yroos\\Python Scripts\\Python Essentials\n",
      "\n",
      "15/05/2025  18:47             5.862 brussels_weather_2020.xlsx\n",
      "               1 File(s)          5.862 bytes\n",
      "               0 Dir(s)  638.655.922.176 bytes free\n"
     ]
    }
   ],
   "source": [
    "# ! pip install tabulate\n",
    "! dir *.xlsx\n",
    "\n"
   ]
  },
  {
   "cell_type": "code",
   "execution_count": 55,
   "id": "cd4b5f33-cc9f-49c6-812d-9fe02fcdea17",
   "metadata": {},
   "outputs": [
    {
     "name": "stdout",
     "output_type": "stream",
     "text": [
      "+----------+-------+-------+---------+----------+---------+\n",
      "| Month    |   Max |   Min |   Sunny |   Cloudy |   Rainy |\n",
      "+==========+=======+=======+=========+==========+=========+\n",
      "| January  |    10 |    -1 |       5 |       15 |      11 |\n",
      "+----------+-------+-------+---------+----------+---------+\n",
      "| February |    12 |     0 |       6 |       12 |      11 |\n",
      "+----------+-------+-------+---------+----------+---------+\n",
      "| March    |    15 |     2 |       8 |       14 |       9 |\n",
      "+----------+-------+-------+---------+----------+---------+\n",
      "| April    |    18 |     5 |      12 |       10 |       8 |\n",
      "+----------+-------+-------+---------+----------+---------+\n"
     ]
    }
   ],
   "source": [
    "from tabulate import tabulate\n",
    "\n",
    "# Include column headers as the first row in your data\n",
    "weather_with_header = [\n",
    "    ['Month', 'Max', 'Min', 'Sunny', 'Cloudy', 'Rainy'],  # <- Header row\n",
    "    ['January', 10, -1, 5, 15, 11],\n",
    "    ['February', 12, 0, 6, 12, 11],\n",
    "    ['March', 15, 2, 8, 14, 9],\n",
    "    ['April', 18, 5, 12, 10, 8]\n",
    "]\n",
    "\n",
    "# Use the first row as headers\n",
    "print(tabulate(weather_with_header, headers=\"firstrow\", tablefmt=\"grid\"))"
   ]
  },
  {
   "cell_type": "markdown",
   "id": "48a7c3a1-a968-44e6-9b6e-e5041dbbc228",
   "metadata": {},
   "source": [
    "## Pandas\n",
    "- Output: Printing a dataframe table with headers"
   ]
  },
  {
   "cell_type": "code",
   "execution_count": 63,
   "id": "bcf46d8c-b574-4f56-891d-04305dac50c0",
   "metadata": {},
   "outputs": [
    {
     "name": "stdout",
     "output_type": "stream",
     "text": [
      "Index(['Month', 'Max'], dtype='object')\n"
     ]
    }
   ],
   "source": [
    "import pandas as pd\n",
    "\n",
    "data = [['Jan', 10], ['Feb', 12]]\n",
    "df = pd.DataFrame(data, columns=['Month', 'Max'])\n",
    "\n",
    "print(df.columns)  # Index(['Month', 'Max Temp'], dtype='object')"
   ]
  },
  {
   "cell_type": "code",
   "execution_count": 67,
   "id": "b4c8b4da-a0ec-4bec-9002-62c36894eabc",
   "metadata": {},
   "outputs": [
    {
     "name": "stdout",
     "output_type": "stream",
     "text": [
      "+-----------+-------+-------+---------+----------+---------+\n",
      "| Month     |   Max |   Min |   Sunny |   Cloudy |   Rainy |\n",
      "+===========+=======+=======+=========+==========+=========+\n",
      "| January   |    10 |    -1 |       5 |       15 |      11 |\n",
      "+-----------+-------+-------+---------+----------+---------+\n",
      "| February  |    12 |     0 |       6 |       12 |      11 |\n",
      "+-----------+-------+-------+---------+----------+---------+\n",
      "| March     |    15 |     2 |       8 |       14 |       9 |\n",
      "+-----------+-------+-------+---------+----------+---------+\n",
      "| April     |    18 |     5 |      12 |       10 |       8 |\n",
      "+-----------+-------+-------+---------+----------+---------+\n",
      "| May       |    22 |     9 |      14 |        9 |       8 |\n",
      "+-----------+-------+-------+---------+----------+---------+\n",
      "| June      |    25 |    13 |      15 |        8 |       7 |\n",
      "+-----------+-------+-------+---------+----------+---------+\n",
      "| July      |    28 |    15 |      18 |        7 |       6 |\n",
      "+-----------+-------+-------+---------+----------+---------+\n",
      "| August    |    27 |    14 |      17 |        8 |       6 |\n",
      "+-----------+-------+-------+---------+----------+---------+\n",
      "| September |    23 |    11 |      13 |       10 |       7 |\n",
      "+-----------+-------+-------+---------+----------+---------+\n",
      "| October   |    17 |     7 |       9 |       14 |       8 |\n",
      "+-----------+-------+-------+---------+----------+---------+\n",
      "| November  |    11 |     3 |       6 |       17 |       7 |\n",
      "+-----------+-------+-------+---------+----------+---------+\n",
      "| December  |     7 |     0 |       4 |       18 |       9 |\n",
      "+-----------+-------+-------+---------+----------+---------+\n"
     ]
    }
   ],
   "source": [
    "import pandas as pd\n",
    "from tabulate import tabulate\n",
    "\n",
    "# Step 1: Create the data structure (without headers)\n",
    "weather_year_2025 = [\n",
    "    ['January', 10, -1, 5, 15, 11], \n",
    "    ['February', 12, 0, 6, 12, 11], \n",
    "    ['March', 15, 2, 8, 14, 9], \n",
    "    ['April', 18, 5, 12, 10, 8], \n",
    "    ['May', 22, 9, 14, 9, 8], \n",
    "    ['June', 25, 13, 15, 8, 7], \n",
    "    ['July', 28, 15, 18, 7, 6], \n",
    "    ['August', 27, 14, 17, 8, 6], \n",
    "    ['September', 23, 11, 13, 10, 7], \n",
    "    ['October', 17, 7, 9, 14, 8], \n",
    "    ['November', 11, 3, 6, 17, 7], \n",
    "    ['December', 7, 0, 4, 18, 9]\n",
    "]\n",
    "\n",
    "# Step 2: Define the column names separately\n",
    "columns = ['Month', 'Max', 'Min', 'Sunny', 'Cloudy', 'Rainy']\n",
    "\n",
    "# Step 3: Create the DataFrame (table)\n",
    "df = pd.DataFrame(weather_year_2025, columns=columns)\n",
    "\n",
    "# Step 4: Display using tabulate with headers=\"keys\"\n",
    "# The argument headers=\"keys\" tells tabulate to use the column names (i.e., keys) from the DataFrame as the headers for the table\n",
    "print(tabulate(df, headers=\"keys\", tablefmt=\"grid\", showindex=False))\n"
   ]
  },
  {
   "cell_type": "markdown",
   "id": "1be2ce2f-d0b5-4944-9907-4ab4c5aeee20",
   "metadata": {},
   "source": [
    "**Output: Printing existing Excel spreadsheet using pandas and tabulate (review)**"
   ]
  },
  {
   "cell_type": "code",
   "execution_count": 74,
   "id": "bbfab984-6860-442a-a2a7-0ba104795889",
   "metadata": {},
   "outputs": [
    {
     "name": "stdout",
     "output_type": "stream",
     "text": [
      " Volume in drive C is Windows\n",
      " Volume Serial Number is 9E1E-8F54\n",
      "\n",
      " Directory of C:\\Users\\yroos\\Python Scripts\\Python Essentials\n",
      "\n",
      "15/05/2025  18:47             5.862 brussels_weather_2020.xlsx\n",
      "               1 File(s)          5.862 bytes\n",
      "               0 Dir(s)  638.637.420.544 bytes free\n"
     ]
    }
   ],
   "source": [
    "! dir *.xlsx"
   ]
  },
  {
   "cell_type": "code",
   "execution_count": 70,
   "id": "8e53b172-db2b-4437-bc21-7b68554a078f",
   "metadata": {},
   "outputs": [],
   "source": [
    "# Rewritten version using headers=\"keys\" \n",
    "import pandas as pd\n",
    "from tabulate import tabulate\n",
    "\n",
    "# Step 1: Load the spreadsheet\n",
    "filename = \"brussels_weather_2020.xlsx\"\n",
    "df = pd.read_excel(filename)"
   ]
  },
  {
   "cell_type": "code",
   "execution_count": 78,
   "id": "1683bd90-a828-4f85-8d4f-2b2ddb8a4d75",
   "metadata": {},
   "outputs": [
    {
     "name": "stdout",
     "output_type": "stream",
     "text": [
      "+-----------+----------+----------+------------+-------------+------------+\n",
      "|   Month   | Max Temp | Min Temp | Sunny Days | Cloudy Days | Rainy Days |\n",
      "+-----------+----------+----------+------------+-------------+------------+\n",
      "|  January  |    10    |    -1    |     5      |     15      |     11     |\n",
      "| February  |    12    |    0     |     6      |     12      |     11     |\n",
      "|   March   |    15    |    2     |     8      |     14      |     9      |\n",
      "|   April   |    18    |    5     |     12     |     10      |     8      |\n",
      "|    May    |    22    |    9     |     14     |      9      |     8      |\n",
      "|   June    |    25    |    13    |     15     |      8      |     7      |\n",
      "|   July    |    28    |    15    |     18     |      7      |     6      |\n",
      "|  August   |    27    |    14    |     17     |      8      |     6      |\n",
      "| September |    23    |    11    |     13     |     10      |     7      |\n",
      "|  October  |    17    |    7     |     9      |     14      |     8      |\n",
      "| November  |    11    |    3     |     6      |     17      |     7      |\n",
      "| December  |    7     |    0     |     4      |     18      |     9      |\n",
      "+-----------+----------+----------+------------+-------------+------------+\n"
     ]
    }
   ],
   "source": [
    "# Run previous cell first\n",
    "# Step 2: Display the filtered results using headers=\"keys\"\n",
    "# The argument headers=\"keys\" tells tabulate to use the column names (i.e., keys) from the DataFrame as the headers for the table\n",
    "print(tabulate(df, headers=\"keys\", tablefmt=\"pretty\", showindex=False))"
   ]
  },
  {
   "cell_type": "markdown",
   "id": "04d70dd3-9a0a-491e-9621-192dddbdec78",
   "metadata": {},
   "source": [
    "**Filtered Output: Printing Excel spreadsheet using pandas and tabulate (review)**"
   ]
  },
  {
   "cell_type": "code",
   "execution_count": 89,
   "id": "0b977b22-b5cc-440b-8d72-52a16da6d298",
   "metadata": {},
   "outputs": [
    {
     "name": "stdout",
     "output_type": "stream",
     "text": [
      "+----------+------------+------------+--------------+---------------+--------------+\n",
      "| Month    |   Max Temp |   Min Temp |   Sunny Days |   Cloudy Days |   Rainy Days |\n",
      "+==========+============+============+==============+===============+==============+\n",
      "| January  |         10 |         -1 |            5 |            15 |           11 |\n",
      "+----------+------------+------------+--------------+---------------+--------------+\n",
      "| March    |         15 |          2 |            8 |            14 |            9 |\n",
      "+----------+------------+------------+--------------+---------------+--------------+\n",
      "| October  |         17 |          7 |            9 |            14 |            8 |\n",
      "+----------+------------+------------+--------------+---------------+--------------+\n",
      "| November |         11 |          3 |            6 |            17 |            7 |\n",
      "+----------+------------+------------+--------------+---------------+--------------+\n",
      "| December |          7 |          0 |            4 |            18 |            9 |\n",
      "+----------+------------+------------+--------------+---------------+--------------+\n"
     ]
    }
   ],
   "source": [
    "# Adding a filter for partial output: only months with more than 15 sunny days\n",
    "import pandas as pd\n",
    "from tabulate import tabulate\n",
    "\n",
    "# Step 1: Load the spreadsheet\n",
    "filename = \"brussels_weather_2020.xlsx\"\n",
    "df = pd.read_excel(filename)\n",
    "\n",
    "\n",
    "# Step 2: Filter the DataFrame directly\n",
    "\n",
    "filtered_df = df[df[\"Cloudy Days\"] > 12]  # This creates a boolean mask (a list of True/False values) to select matching rows\n",
    "\n",
    "# Step 3: Display the filtered results using headers=\"keys\"\n",
    "print(tabulate(filtered_df, headers=\"keys\", tablefmt=\"grid\", showindex=False))"
   ]
  },
  {
   "cell_type": "code",
   "execution_count": 93,
   "id": "222c4496-8cbd-4b08-9314-14cc4110004a",
   "metadata": {},
   "outputs": [
    {
     "name": "stdout",
     "output_type": "stream",
     "text": [
      "0      True\n",
      "1     False\n",
      "2      True\n",
      "3     False\n",
      "4     False\n",
      "5     False\n",
      "6     False\n",
      "7     False\n",
      "8     False\n",
      "9      True\n",
      "10     True\n",
      "11     True\n",
      "Name: Cloudy Days, dtype: bool\n"
     ]
    }
   ],
   "source": [
    "print(df[\"Cloudy Days\"] > 12)"
   ]
  },
  {
   "cell_type": "code",
   "execution_count": 91,
   "id": "2e1da4f3-3d9c-43a4-af2c-2344cedd8995",
   "metadata": {},
   "outputs": [
    {
     "name": "stdout",
     "output_type": "stream",
     "text": [
      "       Month  Max Temp  Min Temp  Sunny Days  Cloudy Days  Rainy Days\n",
      "0    January        10        -1           5           15          11\n",
      "2      March        15         2           8           14           9\n",
      "9    October        17         7           9           14           8\n",
      "10  November        11         3           6           17           7\n",
      "11  December         7         0           4           18           9\n"
     ]
    }
   ],
   "source": [
    "print(df[df[\"Cloudy Days\"] > 12])"
   ]
  },
  {
   "cell_type": "markdown",
   "id": "ba1f6b2f-28f0-415d-adf9-7778a720e327",
   "metadata": {},
   "source": [
    "## Outputting: Printing f-strings Continued"
   ]
  },
  {
   "cell_type": "code",
   "execution_count": 100,
   "id": "88e319f8-59a6-49d4-8f24-8fa2817e017f",
   "metadata": {},
   "outputs": [
    {
     "name": "stdout",
     "output_type": "stream",
     "text": [
      "Alice is 30 years old.\n"
     ]
    }
   ],
   "source": [
    "# Basic variable substitution\n",
    "name = \"Alice\"\n",
    "age = 30\n",
    "print(f\"{name} is {age} years old.\")"
   ]
  },
  {
   "cell_type": "code",
   "execution_count": 104,
   "id": "817f19c2-c35f-468e-8331-9e00355cab6f",
   "metadata": {},
   "outputs": [
    {
     "name": "stdout",
     "output_type": "stream",
     "text": [
      "The sum of 10 and 5 is 15.\n"
     ]
    }
   ],
   "source": [
    "# Inline arithmetic expressions\n",
    "av = 10\n",
    "bv = 5\n",
    "print(f\"The sum of {av} and {bv} is {av + bv}.\")"
   ]
  },
  {
   "cell_type": "code",
   "execution_count": 106,
   "id": "eb70306e-205f-4ba5-9337-ba37316cd50d",
   "metadata": {},
   "outputs": [
    {
     "name": "stdout",
     "output_type": "stream",
     "text": [
      "Today's date is Tuesday, 27 May 2025\n"
     ]
    }
   ],
   "source": [
    "# Date formatting\n",
    "from datetime import date\n",
    "today = date.today()\n",
    "print(f\"Today's date is {today:%A, %d %B %Y}\")"
   ]
  },
  {
   "cell_type": "code",
   "execution_count": 134,
   "id": "a5552cac-591f-445d-86e0-6560eaf0ef13",
   "metadata": {},
   "outputs": [
    {
     "name": "stdout",
     "output_type": "stream",
     "text": [
      "<class 'list'>\n"
     ]
    }
   ],
   "source": [
    "print(type([(\"Alice\", 92), (\"Bob\", 87), (\"Charlie\", 95)]))"
   ]
  },
  {
   "cell_type": "code",
   "execution_count": 138,
   "id": "e4506204-f5db-4252-a0b7-2cfe70a3975b",
   "metadata": {},
   "outputs": [
    {
     "name": "stdout",
     "output_type": "stream",
     "text": [
      "<class 'tuple'>\n"
     ]
    }
   ],
   "source": [
    "print(type((\"Alice\", 92)))"
   ]
  },
  {
   "cell_type": "code",
   "execution_count": 126,
   "id": "126b0c2c-fdc6-42f1-905e-5069bd43f803",
   "metadata": {},
   "outputs": [
    {
     "name": "stdout",
     "output_type": "stream",
     "text": [
      "Alice        = Score:   92\n",
      "Bob          = Score:   87\n",
      "Charlie      = Score:   95\n"
     ]
    }
   ],
   "source": [
    "# Aligning text in tables\n",
    "for name, score in [(\"Alice\", 92), (\"Bob\", 87), (\"Charlie\", 95)]:\n",
    "    print(f\"{name:<12} = Score: {score:>4}\")"
   ]
  },
  {
   "cell_type": "code",
   "execution_count": 140,
   "id": "152106e7-17e1-4f81-bf23-67138d9b6ac6",
   "metadata": {},
   "outputs": [
    {
     "name": "stdout",
     "output_type": "stream",
     "text": [
      "Alice        = Score:   92\n",
      "Bob          = Score:   87\n",
      "Charlie      = Score:   95\n"
     ]
    }
   ],
   "source": [
    "# Aligning text in tables\n",
    "exam_scores = [(\"Alice\", 92), (\"Bob\", 87), (\"Charlie\", 95)]\n",
    "for name, score in exam_scores:\n",
    "    print(f\"{name:<12} = Score: {score:>4}\")"
   ]
  },
  {
   "cell_type": "code",
   "execution_count": 142,
   "id": "a6e0c0b7-ca1f-4a3c-983a-d694456a00ec",
   "metadata": {},
   "outputs": [
    {
     "name": "stdout",
     "output_type": "stream",
     "text": [
      "<class 'dict'>\n",
      "Bob lives in Antwerp.\n"
     ]
    }
   ],
   "source": [
    "# Using dictionaries (more later) -- \"key : value pair\"\n",
    "person = {\"name\": \"Bob\", \"city\": \"Antwerp\"}\n",
    "print(type(person))\n",
    "print(f\"{person['name']} lives in {person['city']}.\")"
   ]
  },
  {
   "cell_type": "code",
   "execution_count": 148,
   "id": "a6655a56-2a44-49d8-9017-a1c39a77153d",
   "metadata": {},
   "outputs": [
    {
     "name": "stdout",
     "output_type": "stream",
     "text": [
      "<class 'dict'>\n",
      "boek is in het Engels: book.\n"
     ]
    }
   ],
   "source": [
    "# Using dictionaries (more later) -- \"key : value pair\"\n",
    "words = {\"nl\": \"boek\", \"en\": \"book\"}\n",
    "print(type(words))\n",
    "print(f\"{words['nl']} is in het Engels {words['en']}.\")"
   ]
  },
  {
   "cell_type": "code",
   "execution_count": 166,
   "id": "33cd0de2-6df8-4c72-81b6-0b476efaff6a",
   "metadata": {},
   "outputs": [
    {
     "name": "stdout",
     "output_type": "stream",
     "text": [
      "<class 'dict'>\n",
      "dict_keys(['nl', 'en'])\n",
      "scherm is in het Engels screen.\n"
     ]
    }
   ],
   "source": [
    "# Using dictionaries (more later) -- \"key : value pair\"\n",
    "words = {\"nl\": \"scherm\", \"en\": \"screen\"}\n",
    "print(type(words))\n",
    "print(words.keys())\n",
    "print(f\"{words['nl']} is in het Engels {words['en']}.\")"
   ]
  },
  {
   "cell_type": "code",
   "execution_count": 170,
   "id": "ca265911-e634-4dd5-af9a-c17c11f4ced8",
   "metadata": {},
   "outputs": [
    {
     "name": "stdout",
     "output_type": "stream",
     "text": [
      "dict_keys(['boek', 'scherm', 'tabel'])\n",
      "book\n",
      "screen\n",
      "table\n"
     ]
    }
   ],
   "source": [
    "words = {\"boek\" : \"book\" , \"scherm\": \"screen\", \"tabel\" : \"table\"}\n",
    "# print(f\"{words['boek']} is in het Engels {words['en']}.\")\n",
    "print(words.keys())\n",
    "print(words['boek'])\n",
    "print(words['scherm'])\n",
    "print(words['tabel'])\n",
    "# Make an f-string"
   ]
  },
  {
   "cell_type": "code",
   "execution_count": 172,
   "id": "137111d2-97ec-4f29-8a7a-6136e31811e5",
   "metadata": {},
   "outputs": [
    {
     "name": "stdout",
     "output_type": "stream",
     "text": [
      "dict_keys(['book', 'screen', 'table'])\n",
      "boek\n"
     ]
    }
   ],
   "source": [
    "words = {\"book\" : \"boek\" , \"screen\": \"scherm\", \"table\" : \"tabel\"}\n",
    "# print(f\"{words['boek']} is in het Engels {words['en']}.\")\n",
    "print(words.keys())\n",
    "print(words['book'])\n",
    "# Make an f-string"
   ]
  },
  {
   "cell_type": "markdown",
   "id": "77b55c54-17ab-4904-b3b1-09b1cadc08b2",
   "metadata": {},
   "source": [
    "## Lists vs Tuples\n",
    "- Tuples are used for representing fixed collections of related values\n",
    "- In the context of authentication, they can be used for storing a list of known user accounts, where each user is represented as a tuple of (username, password)\n",
    "- Tuples are immutable, so each (username, password) pair can't be changed by accident\n",
    "- They're perfect for representing fixed-length records\n",
    "- Membership testing using in is straightforward."
   ]
  },
  {
   "cell_type": "code",
   "execution_count": 179,
   "id": "319d408c-67b3-4501-a7e4-2e1045446231",
   "metadata": {},
   "outputs": [
    {
     "name": "stdout",
     "output_type": "stream",
     "text": [
      "<class 'tuple'>\n",
      "<class 'list'>\n",
      "[('alice', 'password123'), ('bob', 'qwerty456'), ('carol', 'letmein789')]\n"
     ]
    }
   ],
   "source": [
    "user1 = (\"alice\", \"password123\") \n",
    "user2 = (\"bob\", \"qwerty456\")\n",
    "user3 = (\"carol\", \"letmein789\")\n",
    "print(type(user1))\n",
    "users = [user1, user2, user3]\n",
    "print(type(users))\n",
    "print(users)"
   ]
  },
  {
   "cell_type": "code",
   "execution_count": 187,
   "id": "694c15c1-35d8-4998-a664-e8d42faf69d1",
   "metadata": {},
   "outputs": [
    {
     "name": "stdout",
     "output_type": "stream",
     "text": [
      "Welcome, alice!\n",
      "bob Authentication failed.\n"
     ]
    },
    {
     "data": {
      "text/plain": [
       "False"
      ]
     },
     "execution_count": 187,
     "metadata": {},
     "output_type": "execute_result"
    }
   ],
   "source": [
    "# Run previous cell first\n",
    "def authenticate(username, password):\n",
    "    \"\"\"\n",
    "    Check if the given username and password match any user in the list.\n",
    "    \"\"\"\n",
    "    if (username, password) in users:\n",
    "        print(f\"Welcome, {username}!\")\n",
    "        return True\n",
    "    else:\n",
    "        print(username, \"Authentication failed.\")\n",
    "        return False\n",
    "\n",
    "# Example usage\n",
    "authenticate(\"alice\", \"password123\")   # Correct\n",
    "authenticate(\"bob\", \"wrongpass\")       # Incorrect"
   ]
  },
  {
   "cell_type": "markdown",
   "id": "b3f04a51-7439-430d-bc66-c6197a1e049b",
   "metadata": {},
   "source": [
    "**Example: Membership Test with Tuples**"
   ]
  },
  {
   "cell_type": "code",
   "execution_count": 192,
   "id": "fda17be4-3012-411f-b85a-d4e04fdc5593",
   "metadata": {},
   "outputs": [
    {
     "name": "stdout",
     "output_type": "stream",
     "text": [
      "Access granted. Welcome, alice!\n",
      "Access denied. Invalid credentials.\n",
      "Access denied. Invalid credentials.\n"
     ]
    }
   ],
   "source": [
    "# Define a set of user accounts (username, password)\n",
    "user_accounts = {\n",
    "    (\"alice\", \"pass123\"),\n",
    "    (\"bob\", \"qwerty456\"),\n",
    "    (\"carol\", \"letmein789\")\n",
    "}\n",
    "\n",
    "def login(username, password):\n",
    "    \"\"\"\n",
    "    Checks if the (username, password) pair exists in the set of accounts.\n",
    "    \"\"\"\n",
    "    if (username, password) in user_accounts:\n",
    "        print(f\"Access granted. Welcome, {username}!\")\n",
    "    else:\n",
    "        print(\"Access denied. Invalid credentials.\")\n",
    "\n",
    "# Test cases\n",
    "login(\"alice\", \"pass123\")       # Valid credentials\n",
    "login(\"bob\", \"wrongpass\")       # Invalid password\n",
    "login(\"daniel\", \"abc123\")       # Unknown user"
   ]
  },
  {
   "cell_type": "markdown",
   "id": "8ccf5cd6-0b96-4035-9828-20fb7945cdde",
   "metadata": {},
   "source": [
    "## Dictionary & json"
   ]
  },
  {
   "cell_type": "code",
   "execution_count": 195,
   "id": "8658ea69-d2c9-4626-a384-37699e87dbc6",
   "metadata": {},
   "outputs": [
    {
     "name": "stdout",
     "output_type": "stream",
     "text": [
      "<class 'dict'>\n"
     ]
    }
   ],
   "source": [
    "# SIMPLE DICT\n",
    "weather_dict = {'January': {'Max Temp': 10, 'Min Temp': -1, 'Sunny Days': 5, 'Cloudy Days': 15, 'Rainy Days': 11}, \n",
    "                'February': {'Max Temp': 12, 'Min Temp': 0, 'Sunny Days': 6, 'Cloudy Days': 12, 'Rainy Days': 11}, \n",
    "                'March': {'Max Temp': 15, 'Min Temp': 2, 'Sunny Days': 8, 'Cloudy Days': 14, 'Rainy Days': 9}, \n",
    "                'April': {'Max Temp': 18, 'Min Temp': 5, 'Sunny Days': 12, 'Cloudy Days': 10, 'Rainy Days': 8}, \n",
    "                'May': {'Max Temp': 22, 'Min Temp': 9, 'Sunny Days': 14, 'Cloudy Days': 9, 'Rainy Days': 8}, \n",
    "                'June': {'Max Temp': 25, 'Min Temp': 13, 'Sunny Days': 15, 'Cloudy Days': 8, 'Rainy Days': 7}, \n",
    "                'July': {'Max Temp': 28, 'Min Temp': 15, 'Sunny Days': 18, 'Cloudy Days': 7, 'Rainy Days': 6}, \n",
    "                'August': {'Max Temp': 27, 'Min Temp': 14, 'Sunny Days': 17, 'Cloudy Days': 8, 'Rainy Days': 6}, \n",
    "                'September': {'Max Temp': 23, 'Min Temp': 11, 'Sunny Days': 13, 'Cloudy Days': 10, 'Rainy Days': 7}, \n",
    "                'October': {'Max Temp': 17, 'Min Temp': 7, 'Sunny Days': 9, 'Cloudy Days': 14, 'Rainy Days': 8}, \n",
    "                'November': {'Max Temp': 11, 'Min Temp': 3, 'Sunny Days': 6, 'Cloudy Days': 17, 'Rainy Days': 7}, \n",
    "                'December': {'Max Temp': 7, 'Min Temp': 0, 'Sunny Days': 4, 'Cloudy Days': 18, 'Rainy Days': 9}\n",
    "               }\n",
    "\n",
    "print(type(weather_dict))"
   ]
  },
  {
   "cell_type": "code",
   "execution_count": 197,
   "id": "4f339972-9f3f-41bb-bb54-674c84b9e30f",
   "metadata": {},
   "outputs": [
    {
     "name": "stdin",
     "output_type": "stream",
     "text": [
      "What month do you wish to view? March\n"
     ]
    },
    {
     "name": "stdout",
     "output_type": "stream",
     "text": [
      "{'Max Temp': 15, 'Min Temp': 2, 'Sunny Days': 8, 'Cloudy Days': 14, 'Rainy Days': 9}\n"
     ]
    }
   ],
   "source": [
    "month_to_view = input(\"What month do you wish to view?\")\n",
    "print(weather_dict[month_to_view])"
   ]
  }
 ],
 "metadata": {
  "kernelspec": {
   "display_name": "Python [conda env:base] *",
   "language": "python",
   "name": "conda-base-py"
  },
  "language_info": {
   "codemirror_mode": {
    "name": "ipython",
    "version": 3
   },
   "file_extension": ".py",
   "mimetype": "text/x-python",
   "name": "python",
   "nbconvert_exporter": "python",
   "pygments_lexer": "ipython3",
   "version": "3.11.11"
  }
 },
 "nbformat": 4,
 "nbformat_minor": 5
}
