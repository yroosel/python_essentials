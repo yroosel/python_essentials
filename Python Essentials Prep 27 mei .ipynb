{
 "cells": [
  {
   "cell_type": "markdown",
   "id": "c72f5af7-eb7c-4bfb-ab78-103d0a0f7f77",
   "metadata": {},
   "source": [
    "# Outputting: Printing tables Continued"
   ]
  },
  {
   "cell_type": "markdown",
   "id": "5a001aa6-4715-42a5-8ceb-322e0983389a",
   "metadata": {},
   "source": [
    "**List of lists**"
   ]
  },
  {
   "cell_type": "code",
   "execution_count": 16,
   "id": "c5b1f283-2f0f-4fe4-ac35-8b18a7b22478",
   "metadata": {},
   "outputs": [],
   "source": [
    "from tabulate import tabulate\n",
    "\n",
    "# List of lists: weather data for each month\n",
    "weather_year_2025 = [\n",
    "    ['January', 10, -1, 5, 15, 11], \n",
    "    ['February', 12, 0, 6, 12, 11], \n",
    "    ['March', 15, 2, 8, 14, 9], \n",
    "    ['April', 18, 5, 12, 10, 8], \n",
    "    ['May', 22, 9, 14, 9, 8], \n",
    "    ['June', 25, 13, 15, 8, 7], \n",
    "    ['July', 28, 15, 18, 7, 6], \n",
    "    ['August', 27, 14, 17, 8, 6], \n",
    "    ['September', 23, 11, 13, 10, 7], \n",
    "    ['October', 17, 7, 9, 14, 8], \n",
    "    ['November', 11, 3, 6, 17, 7], \n",
    "    ['December', 7, 0, 4, 18, 9]\n",
    "]\n",
    "\n"
   ]
  },
  {
   "cell_type": "markdown",
   "id": "fd67ed57-27cd-483a-a76a-c0e2e04a9f8a",
   "metadata": {},
   "source": [
    "**Output with no headers**"
   ]
  },
  {
   "cell_type": "code",
   "execution_count": 18,
   "id": "e652cca8-58e1-4f4a-8337-ace06a23fc98",
   "metadata": {},
   "outputs": [
    {
     "name": "stdout",
     "output_type": "stream",
     "text": [
      "+-----------+----+----+----+----+----+\n",
      "| January   | 10 | -1 |  5 | 15 | 11 |\n",
      "+-----------+----+----+----+----+----+\n",
      "| February  | 12 |  0 |  6 | 12 | 11 |\n",
      "+-----------+----+----+----+----+----+\n",
      "| March     | 15 |  2 |  8 | 14 |  9 |\n",
      "+-----------+----+----+----+----+----+\n",
      "| April     | 18 |  5 | 12 | 10 |  8 |\n",
      "+-----------+----+----+----+----+----+\n",
      "| May       | 22 |  9 | 14 |  9 |  8 |\n",
      "+-----------+----+----+----+----+----+\n",
      "| June      | 25 | 13 | 15 |  8 |  7 |\n",
      "+-----------+----+----+----+----+----+\n",
      "| July      | 28 | 15 | 18 |  7 |  6 |\n",
      "+-----------+----+----+----+----+----+\n",
      "| August    | 27 | 14 | 17 |  8 |  6 |\n",
      "+-----------+----+----+----+----+----+\n",
      "| September | 23 | 11 | 13 | 10 |  7 |\n",
      "+-----------+----+----+----+----+----+\n",
      "| October   | 17 |  7 |  9 | 14 |  8 |\n",
      "+-----------+----+----+----+----+----+\n",
      "| November  | 11 |  3 |  6 | 17 |  7 |\n",
      "+-----------+----+----+----+----+----+\n",
      "| December  |  7 |  0 |  4 | 18 |  9 |\n",
      "+-----------+----+----+----+----+----+\n"
     ]
    }
   ],
   "source": [
    "# Run previous cell first\n",
    "print(tabulate(weather_year_2025, tablefmt=\"grid\"))"
   ]
  },
  {
   "cell_type": "markdown",
   "id": "170da072-04a4-46bc-928e-2f7e5fc47250",
   "metadata": {},
   "source": [
    "**Output: Printing with headers for clarity**"
   ]
  },
  {
   "cell_type": "code",
   "execution_count": 20,
   "id": "5c2539ac-87bb-415b-ae6e-5629e95abf50",
   "metadata": {},
   "outputs": [
    {
     "name": "stdout",
     "output_type": "stream",
     "text": [
      "+-----------+-----------------+-----------------+--------------+---------------+--------------+\n",
      "| Month     |   Max Temp (°C) |   Min Temp (°C) |   Sunny Days |   Cloudy Days |   Rainy Days |\n",
      "+===========+=================+=================+==============+===============+==============+\n",
      "| January   |              10 |              -1 |            5 |            15 |           11 |\n",
      "+-----------+-----------------+-----------------+--------------+---------------+--------------+\n",
      "| February  |              12 |               0 |            6 |            12 |           11 |\n",
      "+-----------+-----------------+-----------------+--------------+---------------+--------------+\n",
      "| March     |              15 |               2 |            8 |            14 |            9 |\n",
      "+-----------+-----------------+-----------------+--------------+---------------+--------------+\n",
      "| April     |              18 |               5 |           12 |            10 |            8 |\n",
      "+-----------+-----------------+-----------------+--------------+---------------+--------------+\n",
      "| May       |              22 |               9 |           14 |             9 |            8 |\n",
      "+-----------+-----------------+-----------------+--------------+---------------+--------------+\n",
      "| June      |              25 |              13 |           15 |             8 |            7 |\n",
      "+-----------+-----------------+-----------------+--------------+---------------+--------------+\n",
      "| July      |              28 |              15 |           18 |             7 |            6 |\n",
      "+-----------+-----------------+-----------------+--------------+---------------+--------------+\n",
      "| August    |              27 |              14 |           17 |             8 |            6 |\n",
      "+-----------+-----------------+-----------------+--------------+---------------+--------------+\n",
      "| September |              23 |              11 |           13 |            10 |            7 |\n",
      "+-----------+-----------------+-----------------+--------------+---------------+--------------+\n",
      "| October   |              17 |               7 |            9 |            14 |            8 |\n",
      "+-----------+-----------------+-----------------+--------------+---------------+--------------+\n",
      "| November  |              11 |               3 |            6 |            17 |            7 |\n",
      "+-----------+-----------------+-----------------+--------------+---------------+--------------+\n",
      "| December  |               7 |               0 |            4 |            18 |            9 |\n",
      "+-----------+-----------------+-----------------+--------------+---------------+--------------+\n"
     ]
    }
   ],
   "source": [
    "# Run previous cells first\n",
    "\n",
    "# Define the column headers and use the variable as an argument for tabulate\n",
    "headers = ['Month', 'Max Temp (°C)', 'Min Temp (°C)', 'Sunny Days', 'Cloudy Days', 'Rainy Days']\n",
    "\n",
    "# Print the formatted table\n",
    "print(tabulate(weather_year_2025, headers=headers, tablefmt=\"grid\"))\n"
   ]
  },
  {
   "cell_type": "markdown",
   "id": "cfe9ed01-9f0c-49f9-8dc1-d829eb738492",
   "metadata": {},
   "source": [
    "**Output: Printing a dataframe table with headers**"
   ]
  },
  {
   "cell_type": "code",
   "execution_count": 61,
   "id": "6f34d400-be13-42e9-b100-91015ccdd6a2",
   "metadata": {},
   "outputs": [
    {
     "name": "stdout",
     "output_type": "stream",
     "text": [
      "+-----------+------------+------------+--------------+---------------+--------------+\n",
      "| Month     |   Max Temp |   Min Temp |   Sunny Days |   Cloudy Days |   Rainy Days |\n",
      "+===========+============+============+==============+===============+==============+\n",
      "| January   |         10 |         -1 |            5 |            15 |           11 |\n",
      "+-----------+------------+------------+--------------+---------------+--------------+\n",
      "| February  |         12 |          0 |            6 |            12 |           11 |\n",
      "+-----------+------------+------------+--------------+---------------+--------------+\n",
      "| March     |         15 |          2 |            8 |            14 |            9 |\n",
      "+-----------+------------+------------+--------------+---------------+--------------+\n",
      "| April     |         18 |          5 |           12 |            10 |            8 |\n",
      "+-----------+------------+------------+--------------+---------------+--------------+\n",
      "| May       |         22 |          9 |           14 |             9 |            8 |\n",
      "+-----------+------------+------------+--------------+---------------+--------------+\n",
      "| June      |         25 |         13 |           15 |             8 |            7 |\n",
      "+-----------+------------+------------+--------------+---------------+--------------+\n",
      "| July      |         28 |         15 |           18 |             7 |            6 |\n",
      "+-----------+------------+------------+--------------+---------------+--------------+\n",
      "| August    |         27 |         14 |           17 |             8 |            6 |\n",
      "+-----------+------------+------------+--------------+---------------+--------------+\n",
      "| September |         23 |         11 |           13 |            10 |            7 |\n",
      "+-----------+------------+------------+--------------+---------------+--------------+\n",
      "| October   |         17 |          7 |            9 |            14 |            8 |\n",
      "+-----------+------------+------------+--------------+---------------+--------------+\n",
      "| November  |         11 |          3 |            6 |            17 |            7 |\n",
      "+-----------+------------+------------+--------------+---------------+--------------+\n",
      "| December  |          7 |          0 |            4 |            18 |            9 |\n",
      "+-----------+------------+------------+--------------+---------------+--------------+\n"
     ]
    }
   ],
   "source": [
    "# When printing a dataframe one can use headers=\"keys\" \n",
    "import pandas as pd\n",
    "from tabulate import tabulate\n",
    "\n",
    "# Step 1: Create the data structure\n",
    "weather_year_2025 = [\n",
    "    ['Month', 'Max Temp', 'Min Temp', 'Sunny Days', 'Cloudy Days', 'Rainy Days'], \n",
    "    ['January', 10, -1, 5, 15, 11], \n",
    "    ['February', 12, 0, 6, 12, 11], \n",
    "    ['March', 15, 2, 8, 14, 9], \n",
    "    ['April', 18, 5, 12, 10, 8], \n",
    "    ['May', 22, 9, 14, 9, 8], \n",
    "    ['June', 25, 13, 15, 8, 7], \n",
    "    ['July', 28, 15, 18, 7, 6], \n",
    "    ['August', 27, 14, 17, 8, 6], \n",
    "    ['September', 23, 11, 13, 10, 7], \n",
    "    ['October', 17, 7, 9, 14, 8], \n",
    "    ['November', 11, 3, 6, 17, 7], \n",
    "    ['December', 7, 0, 4, 18, 9]\n",
    "]\n",
    "\n",
    "# Step 2: Extract headers and rows\n",
    "headers = weather_year_2025[0]\n",
    "data = weather_year_2025[1:]\n",
    "\n",
    "# Step 3: Create a DataFrame\n",
    "df = pd.DataFrame(data, columns=headers)\n",
    "\n",
    "# Step 4: Print with tabulate using headers=\"keys\"\n",
    "print(tabulate(df, headers=\"keys\", tablefmt=\"grid\", showindex=False))"
   ]
  },
  {
   "cell_type": "markdown",
   "id": "495e104b-2182-4145-ad84-b6ead0ab876d",
   "metadata": {},
   "source": [
    "**Output: Printing Excel spreadsheet using pandas and tabulate (review)**"
   ]
  },
  {
   "cell_type": "code",
   "execution_count": 49,
   "id": "f96735c1-f0b4-4205-ac32-eaaf315320e0",
   "metadata": {},
   "outputs": [
    {
     "name": "stdout",
     "output_type": "stream",
     "text": [
      "+-----------+------------+------------+--------------+---------------+--------------+\n",
      "| Month     |   Max Temp |   Min Temp |   Sunny Days |   Cloudy Days |   Rainy Days |\n",
      "+===========+============+============+==============+===============+==============+\n",
      "| January   |         10 |         -1 |            5 |            15 |           11 |\n",
      "+-----------+------------+------------+--------------+---------------+--------------+\n",
      "| February  |         12 |          0 |            6 |            12 |           11 |\n",
      "+-----------+------------+------------+--------------+---------------+--------------+\n",
      "| March     |         15 |          2 |            8 |            14 |            9 |\n",
      "+-----------+------------+------------+--------------+---------------+--------------+\n",
      "| April     |         18 |          5 |           12 |            10 |            8 |\n",
      "+-----------+------------+------------+--------------+---------------+--------------+\n",
      "| May       |         22 |          9 |           14 |             9 |            8 |\n",
      "+-----------+------------+------------+--------------+---------------+--------------+\n",
      "| June      |         25 |         13 |           15 |             8 |            7 |\n",
      "+-----------+------------+------------+--------------+---------------+--------------+\n",
      "| July      |         28 |         15 |           18 |             7 |            6 |\n",
      "+-----------+------------+------------+--------------+---------------+--------------+\n",
      "| August    |         27 |         14 |           17 |             8 |            6 |\n",
      "+-----------+------------+------------+--------------+---------------+--------------+\n",
      "| September |         23 |         11 |           13 |            10 |            7 |\n",
      "+-----------+------------+------------+--------------+---------------+--------------+\n",
      "| October   |         17 |          7 |            9 |            14 |            8 |\n",
      "+-----------+------------+------------+--------------+---------------+--------------+\n",
      "| November  |         11 |          3 |            6 |            17 |            7 |\n",
      "+-----------+------------+------------+--------------+---------------+--------------+\n",
      "| December  |          7 |          0 |            4 |            18 |            9 |\n",
      "+-----------+------------+------------+--------------+---------------+--------------+\n"
     ]
    }
   ],
   "source": [
    "# Rewritten version using headers=\"keys\" \n",
    "import pandas as pd\n",
    "from tabulate import tabulate\n",
    "\n",
    "# Step 1: Load the spreadsheet\n",
    "filename = \"brussels_weather_2020.xlsx\"\n",
    "df = pd.read_excel(filename)\n",
    "\n",
    "# Step 2: Display the filtered results using headers=\"keys\"\n",
    "print(tabulate(df, headers=\"keys\", tablefmt=\"grid\", showindex=False))"
   ]
  },
  {
   "cell_type": "markdown",
   "id": "98bd5675-62be-49dd-9ddb-8d51225a9740",
   "metadata": {},
   "source": [
    "**Filtered Output: Printing Excel spreadsheet using pandas and tabulate (review)**"
   ]
  },
  {
   "cell_type": "code",
   "execution_count": 71,
   "id": "d9a0ddea-92f4-43b1-a8f2-af4ae63610fc",
   "metadata": {},
   "outputs": [
    {
     "name": "stdout",
     "output_type": "stream",
     "text": [
      "+---------+------------+------------+--------------+---------------+--------------+\n",
      "| Month   |   Max Temp |   Min Temp |   Sunny Days |   Cloudy Days |   Rainy Days |\n",
      "+=========+============+============+==============+===============+==============+\n",
      "| July    |         28 |         15 |           18 |             7 |            6 |\n",
      "+---------+------------+------------+--------------+---------------+--------------+\n",
      "| August  |         27 |         14 |           17 |             8 |            6 |\n",
      "+---------+------------+------------+--------------+---------------+--------------+\n"
     ]
    }
   ],
   "source": [
    "# Adding a filter for partial output: only months with more than 15 sunny days\n",
    "import pandas as pd\n",
    "from tabulate import tabulate\n",
    "\n",
    "# Step 1: Load the spreadsheet\n",
    "filename = \"brussels_weather_2020.xlsx\"\n",
    "df = pd.read_excel(filename)\n",
    "\n",
    "# Step 2: Filter the DataFrame directly\n",
    "filtered_df = df[df[\"Sunny Days\"] > 15]  # This creates a boolean mask (a list of True/False values) to select matching rows\n",
    "\n",
    "# Step 3: Display the filtered results using headers=\"keys\"\n",
    "print(tabulate(filtered_df, headers=\"keys\", tablefmt=\"grid\", showindex=False))"
   ]
  },
  {
   "cell_type": "markdown",
   "id": "32b5f3a1-e0f6-4aa3-a8c5-55fe12ac5bf5",
   "metadata": {},
   "source": [
    "# Outputting: Printing f-strings Continued"
   ]
  },
  {
   "cell_type": "code",
   "execution_count": 3,
   "id": "c8f5661c-114a-4d07-beb9-56c938384ca1",
   "metadata": {},
   "outputs": [
    {
     "name": "stdout",
     "output_type": "stream",
     "text": [
      "Alice is 30 years old.\n"
     ]
    }
   ],
   "source": [
    "# Basic variable substitution\n",
    "name = \"Alice\"\n",
    "age = 30\n",
    "print(f\"{name} is {age} years old.\")"
   ]
  },
  {
   "cell_type": "code",
   "execution_count": 5,
   "id": "24112b42-de85-4bc2-8747-6eb3c73cc05d",
   "metadata": {},
   "outputs": [
    {
     "name": "stdout",
     "output_type": "stream",
     "text": [
      "The sum of 10 and 5 is 15.\n"
     ]
    }
   ],
   "source": [
    "# Inline arithmetic expressions\n",
    "a = 10\n",
    "b = 5\n",
    "print(f\"The sum of {a} and {b} is {a + b}.\")"
   ]
  },
  {
   "cell_type": "code",
   "execution_count": 7,
   "id": "cc0be533-992d-4b0e-b82e-31c178679f0b",
   "metadata": {},
   "outputs": [
    {
     "name": "stdout",
     "output_type": "stream",
     "text": [
      "Today's date is Wednesday, 21 May 2025\n"
     ]
    }
   ],
   "source": [
    "# Date formatting\n",
    "from datetime import date\n",
    "today = date.today()\n",
    "print(f\"Today's date is {today:%A, %d %B %Y}\")"
   ]
  },
  {
   "cell_type": "code",
   "execution_count": 9,
   "id": "e4297628-45f6-491c-9728-1df537c3e46d",
   "metadata": {},
   "outputs": [
    {
     "name": "stdout",
     "output_type": "stream",
     "text": [
      "Alice      | Score:  92\n",
      "Bob        | Score:  87\n",
      "Charlie    | Score:  95\n"
     ]
    }
   ],
   "source": [
    "# Aligning text in tables\n",
    "for name, score in [(\"Alice\", 92), (\"Bob\", 87), (\"Charlie\", 95)]:\n",
    "    print(f\"{name:<10} | Score: {score:>3}\")"
   ]
  },
  {
   "cell_type": "markdown",
   "id": "e81edd11-bc99-4879-912b-9da434d939be",
   "metadata": {},
   "source": [
    "**name:<10**\n",
    "\n",
    "- name is a string variable (e.g., \"Alice\")\n",
    "\n",
    "< means left-align the text\n",
    "\n",
    "- 10 is the total width the text should occupy"
   ]
  },
  {
   "cell_type": "code",
   "execution_count": 13,
   "id": "548ee029-fefb-48bc-9dac-7ef130b9fe0d",
   "metadata": {},
   "outputs": [
    {
     "name": "stdout",
     "output_type": "stream",
     "text": [
      "Bob lives in Antwerp.\n"
     ]
    }
   ],
   "source": [
    "# Using dictionaries (more later)\n",
    "person = {\"name\": \"Bob\", \"city\": \"Antwerp\"}\n",
    "print(f\"{person['name']} lives in {person['city']}.\")"
   ]
  },
  {
   "cell_type": "code",
   "execution_count": 15,
   "id": "2f884807-f489-4ad0-9649-26b9e1b699aa",
   "metadata": {},
   "outputs": [
    {
     "name": "stdout",
     "output_type": "stream",
     "text": [
      "1. Alice\n",
      "2. Bob\n",
      "3. Charlie\n"
     ]
    }
   ],
   "source": [
    "# Loop with index and f-strings\n",
    "names = [\"Alice\", \"Bob\", \"Charlie\"]\n",
    "for i, name in enumerate(names, start=1):\n",
    "    print(f\"{i}. {name}\")"
   ]
  },
  {
   "cell_type": "markdown",
   "id": "6920d5b9-4add-47d8-8758-51e8bd9e333c",
   "metadata": {},
   "source": [
    "# Dictionary & json\n",
    "\n",
    "- From list to dict\n",
    "- Dictionaries and json have **key : value**  pairs\n",
    "- **Keys** provide context and meaning"
   ]
  },
  {
   "cell_type": "markdown",
   "id": "a306fc09-35a8-4272-b66e-9678459ba476",
   "metadata": {},
   "source": [
    "**Change the following list into a dictionary**"
   ]
  },
  {
   "cell_type": "code",
   "execution_count": 45,
   "id": "e764079a-29b7-4dff-a2af-0a1ad65ed9ca",
   "metadata": {},
   "outputs": [
    {
     "name": "stdout",
     "output_type": "stream",
     "text": [
      "<class 'list'>\n"
     ]
    }
   ],
   "source": [
    "#LIST\n",
    "weather_year_2025 = [\n",
    "    ['January', 10, -1, 5, 15, 11], \n",
    "\t['February', 12, 0, 6, 12, 11], \n",
    "\t['March', 15, 2, 8, 14, 9], \n",
    "    ['April', 18, 5, 12, 10, 8], \n",
    "\t['May', 22, 9, 14, 9, 8], \n",
    "\t['June', 25, 13, 15, 8, 7], \n",
    "    ['July', 28, 15, 18, 7, 6], \n",
    "\t['August', 27, 14, 17, 8, 6], \n",
    "\t['September', 23, 11, 13, 10, 7], \n",
    "    ['October', 17, 7, 9, 14, 8], \n",
    "\t['November', 11, 3, 6, 17, 7], \n",
    "\t['December', 7, 0, 4, 18, 9]\n",
    "]\n",
    "\n",
    "print(type(weather_year_2025))"
   ]
  },
  {
   "cell_type": "markdown",
   "id": "d1dbfe84-b047-45a1-895c-ec86409378a6",
   "metadata": {},
   "source": [
    "**Code to transform a list  into a dict, if meaning of data elements is known**\n",
    "\n",
    "Here are the first three months as an example:\n",
    "\n",
    "- January: Max Temp = 10°C, Min Temp = -1°C, Sunny = 5 days, Cloudy = 15 days, Rainy = 11 days\n",
    "- February: Max Temp = 12°C, Min Temp = 0°C, Sunny = 6 days, Cloudy = 12 days, Rainy = 11 days\n",
    "- March: Max Temp = 15°C, Min Temp = 2°C, Sunny = 8 days, Cloudy = 14 days, Rainy = 9 days"
   ]
  },
  {
   "cell_type": "code",
   "execution_count": 80,
   "id": "c4dac0f3-7205-415a-9db8-07d4ba16c7d7",
   "metadata": {},
   "outputs": [
    {
     "name": "stdout",
     "output_type": "stream",
     "text": [
      "{'Max Temp': 10, 'Min Temp': -1, 'Sunny Days': 5, 'Cloudy Days': 15, 'Rainy Days': 11}\n",
      "{'Max Temp': 12, 'Min Temp': 0, 'Sunny Days': 6, 'Cloudy Days': 12, 'Rainy Days': 11}\n",
      "<class 'dict'>\n"
     ]
    }
   ],
   "source": [
    "#DICT\n",
    "# weather_year_2025 = {}\n",
    "\n",
    "weather_dict = {\n",
    "    row[0]: {\n",
    "        \"Max Temp\": row[1],\n",
    "        \"Min Temp\": row[2],\n",
    "        \"Sunny Days\": row[3],\n",
    "        \"Cloudy Days\": row[4],\n",
    "        \"Rainy Days\": row[5]\n",
    "    }\n",
    "    for row in weather_year_2025\n",
    "}\n",
    "\n",
    "# Example: print data for January\n",
    "print(weather_dict[\"January\"])\n",
    "print(weather_dict[\"February\"])\n",
    "print(type(weather_dict))\n",
    "    "
   ]
  },
  {
   "cell_type": "code",
   "execution_count": 82,
   "id": "6d1eac0e-2af8-4c93-bbff-ca30112b11ba",
   "metadata": {},
   "outputs": [
    {
     "name": "stdout",
     "output_type": "stream",
     "text": [
      "{'January': {'Max Temp': 10, 'Min Temp': -1, 'Sunny Days': 5, 'Cloudy Days': 15, 'Rainy Days': 11}, 'February': {'Max Temp': 12, 'Min Temp': 0, 'Sunny Days': 6, 'Cloudy Days': 12, 'Rainy Days': 11}, 'March': {'Max Temp': 15, 'Min Temp': 2, 'Sunny Days': 8, 'Cloudy Days': 14, 'Rainy Days': 9}, 'April': {'Max Temp': 18, 'Min Temp': 5, 'Sunny Days': 12, 'Cloudy Days': 10, 'Rainy Days': 8}, 'May': {'Max Temp': 22, 'Min Temp': 9, 'Sunny Days': 14, 'Cloudy Days': 9, 'Rainy Days': 8}, 'June': {'Max Temp': 25, 'Min Temp': 13, 'Sunny Days': 15, 'Cloudy Days': 8, 'Rainy Days': 7}, 'July': {'Max Temp': 28, 'Min Temp': 15, 'Sunny Days': 18, 'Cloudy Days': 7, 'Rainy Days': 6}, 'August': {'Max Temp': 27, 'Min Temp': 14, 'Sunny Days': 17, 'Cloudy Days': 8, 'Rainy Days': 6}, 'September': {'Max Temp': 23, 'Min Temp': 11, 'Sunny Days': 13, 'Cloudy Days': 10, 'Rainy Days': 7}, 'October': {'Max Temp': 17, 'Min Temp': 7, 'Sunny Days': 9, 'Cloudy Days': 14, 'Rainy Days': 8}, 'November': {'Max Temp': 11, 'Min Temp': 3, 'Sunny Days': 6, 'Cloudy Days': 17, 'Rainy Days': 7}, 'December': {'Max Temp': 7, 'Min Temp': 0, 'Sunny Days': 4, 'Cloudy Days': 18, 'Rainy Days': 9}}\n"
     ]
    }
   ],
   "source": [
    "# Raw dict format\n",
    "print(weather_dict)"
   ]
  },
  {
   "cell_type": "markdown",
   "id": "c79e9d2f-de4b-4d2a-9667-b7dffab2540b",
   "metadata": {},
   "source": [
    "## Printing with indentation"
   ]
  },
  {
   "cell_type": "markdown",
   "id": "13da39e0-fc99-4f31-95d9-410f26b8c635",
   "metadata": {},
   "source": [
    "## json format"
   ]
  },
  {
   "cell_type": "code",
   "execution_count": 97,
   "id": "93434977-da2b-450b-986e-2c519b8ff355",
   "metadata": {},
   "outputs": [
    {
     "name": "stdout",
     "output_type": "stream",
     "text": [
      "{\n",
      "    \"January\": {\n",
      "        \"Max Temp\": 10,\n",
      "        \"Min Temp\": -1,\n",
      "        \"Sunny Days\": 5,\n",
      "        \"Cloudy Days\": 15,\n",
      "        \"Rainy Days\": 11\n",
      "    },\n",
      "    \"February\": {\n",
      "        \"Max Temp\": 12,\n",
      "        \"Min Temp\": 0,\n",
      "        \"Sunny Days\": 6,\n",
      "        \"Cloudy Days\": 12,\n",
      "        \"Rainy Days\": 11\n",
      "    },\n",
      "    \"March\": {\n",
      "        \"Max Temp\": 15,\n",
      "        \"Min Temp\": 2,\n",
      "        \"Sunny Days\": 8,\n",
      "        \"Cloudy Days\": 14,\n",
      "        \"Rainy Days\": 9\n",
      "    },\n",
      "    \"April\": {\n",
      "        \"Max Temp\": 18,\n",
      "        \"Min Temp\": 5,\n",
      "        \"Sunny Days\": 12,\n",
      "        \"Cloudy Days\": 10,\n",
      "        \"Rainy Days\": 8\n",
      "    },\n",
      "    \"May\": {\n",
      "        \"Max Temp\": 22,\n",
      "        \"Min Temp\": 9,\n",
      "        \"Sunny Days\": 14,\n",
      "        \"Cloudy Days\": 9,\n",
      "        \"Rainy Days\": 8\n",
      "    },\n",
      "    \"June\": {\n",
      "        \"Max Temp\": 25,\n",
      "        \"Min Temp\": 13,\n",
      "        \"Sunny Days\": 15,\n",
      "        \"Cloudy Days\": 8,\n",
      "        \"Rainy Days\": 7\n",
      "    },\n",
      "    \"July\": {\n",
      "        \"Max Temp\": 28,\n",
      "        \"Min Temp\": 15,\n",
      "        \"Sunny Days\": 18,\n",
      "        \"Cloudy Days\": 7,\n",
      "        \"Rainy Days\": 6\n",
      "    },\n",
      "    \"August\": {\n",
      "        \"Max Temp\": 27,\n",
      "        \"Min Temp\": 14,\n",
      "        \"Sunny Days\": 17,\n",
      "        \"Cloudy Days\": 8,\n",
      "        \"Rainy Days\": 6\n",
      "    },\n",
      "    \"September\": {\n",
      "        \"Max Temp\": 23,\n",
      "        \"Min Temp\": 11,\n",
      "        \"Sunny Days\": 13,\n",
      "        \"Cloudy Days\": 10,\n",
      "        \"Rainy Days\": 7\n",
      "    },\n",
      "    \"October\": {\n",
      "        \"Max Temp\": 17,\n",
      "        \"Min Temp\": 7,\n",
      "        \"Sunny Days\": 9,\n",
      "        \"Cloudy Days\": 14,\n",
      "        \"Rainy Days\": 8\n",
      "    },\n",
      "    \"November\": {\n",
      "        \"Max Temp\": 11,\n",
      "        \"Min Temp\": 3,\n",
      "        \"Sunny Days\": 6,\n",
      "        \"Cloudy Days\": 17,\n",
      "        \"Rainy Days\": 7\n",
      "    },\n",
      "    \"December\": {\n",
      "        \"Max Temp\": 7,\n",
      "        \"Min Temp\": 0,\n",
      "        \"Sunny Days\": 4,\n",
      "        \"Cloudy Days\": 18,\n",
      "        \"Rainy Days\": 9\n",
      "    }\n",
      "}\n"
     ]
    }
   ],
   "source": [
    "#indentation\n",
    "import json\n",
    "# Pretty-print the dictionary with indentation\n",
    "print(json.dumps(weather_dict, indent=4))\n",
    "# weather_dict_json = json.dumps(weather_dict)\n",
    "# print(weather_dict_json)"
   ]
  },
  {
   "cell_type": "markdown",
   "id": "b9e46719-3dc1-437e-8f7d-21b38ab1b6e7",
   "metadata": {},
   "source": [
    "**Selecting specific keys from a dict**"
   ]
  },
  {
   "cell_type": "code",
   "execution_count": 67,
   "id": "75759e32-52bb-4589-b8ca-343ef7b28693",
   "metadata": {},
   "outputs": [
    {
     "name": "stdout",
     "output_type": "stream",
     "text": [
      "10\n",
      "-1\n",
      "5\n"
     ]
    }
   ],
   "source": [
    "print(weather_dict[\"January\"][\"Max Temp\"])\n",
    "print(weather_dict[\"January\"][\"Min Temp\"])\n",
    "print(weather_dict[\"January\"][\"Sunny Days\"])"
   ]
  },
  {
   "cell_type": "markdown",
   "id": "dee04ce2-cdeb-4e65-bd25-f6ba860eece2",
   "metadata": {},
   "source": [
    "**Interactive input**"
   ]
  },
  {
   "cell_type": "code",
   "execution_count": 71,
   "id": "738a15ed-dcd0-4aa6-bebf-2c67ab503777",
   "metadata": {},
   "outputs": [
    {
     "name": "stdin",
     "output_type": "stream",
     "text": [
      "Which month? December\n"
     ]
    },
    {
     "name": "stdout",
     "output_type": "stream",
     "text": [
      "7\n",
      "0\n",
      "4\n"
     ]
    }
   ],
   "source": [
    "month_sel = input(\"Which month?\")\n",
    "print(weather_dict[month_sel][\"Max Temp\"])\n",
    "print(weather_dict[month_sel][\"Min Temp\"])\n",
    "print(weather_dict[month_sel][\"Sunny Days\"])"
   ]
  },
  {
   "cell_type": "markdown",
   "id": "c80560a9-314a-4faf-8efe-9c56c7a0a7f0",
   "metadata": {},
   "source": [
    "**Viewing existing keys of a dict**"
   ]
  },
  {
   "cell_type": "markdown",
   "id": "31e15c3d-8683-413a-9580-4d45a41f9182",
   "metadata": {},
   "source": [
    "**Top Level**"
   ]
  },
  {
   "cell_type": "code",
   "execution_count": 56,
   "id": "d7ed8af4-2a44-4f8b-9cbf-cafc9c06e535",
   "metadata": {},
   "outputs": [
    {
     "name": "stdout",
     "output_type": "stream",
     "text": [
      "dict_keys(['January', 'February', 'March', 'April', 'May', 'June', 'July', 'August', 'September', 'October', 'November', 'December'])\n"
     ]
    }
   ],
   "source": [
    "print(weather_dict.keys())"
   ]
  },
  {
   "cell_type": "markdown",
   "id": "c870cc25-10ed-48fe-a88f-7eb314d7dbe7",
   "metadata": {},
   "source": [
    "**Second Level**"
   ]
  },
  {
   "cell_type": "code",
   "execution_count": 58,
   "id": "8d5e6fab-ae64-464d-950a-8b1239d73708",
   "metadata": {},
   "outputs": [
    {
     "name": "stdout",
     "output_type": "stream",
     "text": [
      "dict_keys(['Max Temp', 'Min Temp', 'Sunny Days', 'Cloudy Days', 'Rainy Days'])\n"
     ]
    }
   ],
   "source": [
    "print(weather_dict[\"January\"].keys())"
   ]
  },
  {
   "cell_type": "markdown",
   "id": "b4df3bf0-27cd-4fdc-8707-338da2a0c4d4",
   "metadata": {},
   "source": [
    "## Yaml - More human readable alternative to json"
   ]
  },
  {
   "cell_type": "code",
   "execution_count": 95,
   "id": "989ada25-b4f0-4ddd-adbf-7a569f8e1f59",
   "metadata": {},
   "outputs": [
    {
     "name": "stdout",
     "output_type": "stream",
     "text": [
      "January:\n",
      "  Max Temp: 10\n",
      "  Min Temp: -1\n",
      "  Sunny Days: 5\n",
      "  Cloudy Days: 15\n",
      "  Rainy Days: 11\n",
      "February:\n",
      "  Max Temp: 12\n",
      "  Min Temp: 0\n",
      "  Sunny Days: 6\n",
      "  Cloudy Days: 12\n",
      "  Rainy Days: 11\n",
      "March:\n",
      "  Max Temp: 15\n",
      "  Min Temp: 2\n",
      "  Sunny Days: 8\n",
      "  Cloudy Days: 14\n",
      "  Rainy Days: 9\n",
      "April:\n",
      "  Max Temp: 18\n",
      "  Min Temp: 5\n",
      "  Sunny Days: 12\n",
      "  Cloudy Days: 10\n",
      "  Rainy Days: 8\n",
      "May:\n",
      "  Max Temp: 22\n",
      "  Min Temp: 9\n",
      "  Sunny Days: 14\n",
      "  Cloudy Days: 9\n",
      "  Rainy Days: 8\n",
      "June:\n",
      "  Max Temp: 25\n",
      "  Min Temp: 13\n",
      "  Sunny Days: 15\n",
      "  Cloudy Days: 8\n",
      "  Rainy Days: 7\n",
      "July:\n",
      "  Max Temp: 28\n",
      "  Min Temp: 15\n",
      "  Sunny Days: 18\n",
      "  Cloudy Days: 7\n",
      "  Rainy Days: 6\n",
      "August:\n",
      "  Max Temp: 27\n",
      "  Min Temp: 14\n",
      "  Sunny Days: 17\n",
      "  Cloudy Days: 8\n",
      "  Rainy Days: 6\n",
      "September:\n",
      "  Max Temp: 23\n",
      "  Min Temp: 11\n",
      "  Sunny Days: 13\n",
      "  Cloudy Days: 10\n",
      "  Rainy Days: 7\n",
      "October:\n",
      "  Max Temp: 17\n",
      "  Min Temp: 7\n",
      "  Sunny Days: 9\n",
      "  Cloudy Days: 14\n",
      "  Rainy Days: 8\n",
      "November:\n",
      "  Max Temp: 11\n",
      "  Min Temp: 3\n",
      "  Sunny Days: 6\n",
      "  Cloudy Days: 17\n",
      "  Rainy Days: 7\n",
      "December:\n",
      "  Max Temp: 7\n",
      "  Min Temp: 0\n",
      "  Sunny Days: 4\n",
      "  Cloudy Days: 18\n",
      "  Rainy Days: 9\n",
      "\n"
     ]
    }
   ],
   "source": [
    "import json\n",
    "import yaml  # Requires PyYAML\n",
    "\n",
    "yaml_output = yaml.dump(weather_dict, sort_keys=False, allow_unicode=True)\n",
    "\n",
    "# Step 3: Print the YAML result\n",
    "print(yaml_output)"
   ]
  }
 ],
 "metadata": {
  "kernelspec": {
   "display_name": "Python [conda env:base] *",
   "language": "python",
   "name": "conda-base-py"
  },
  "language_info": {
   "codemirror_mode": {
    "name": "ipython",
    "version": 3
   },
   "file_extension": ".py",
   "mimetype": "text/x-python",
   "name": "python",
   "nbconvert_exporter": "python",
   "pygments_lexer": "ipython3",
   "version": "3.11.11"
  }
 },
 "nbformat": 4,
 "nbformat_minor": 5
}
