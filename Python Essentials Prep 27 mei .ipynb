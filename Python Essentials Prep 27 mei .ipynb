{
 "cells": [
  {
   "cell_type": "markdown",
   "id": "6920d5b9-4add-47d8-8758-51e8bd9e333c",
   "metadata": {},
   "source": [
    "# Dictionary vs json\n",
    "- Dictionaries have **key : value**  pairs"
   ]
  },
  {
   "cell_type": "markdown",
   "id": "a306fc09-35a8-4272-b66e-9678459ba476",
   "metadata": {},
   "source": [
    "**Change the following list into a dictionary**"
   ]
  },
  {
   "cell_type": "code",
   "execution_count": 45,
   "id": "e764079a-29b7-4dff-a2af-0a1ad65ed9ca",
   "metadata": {},
   "outputs": [
    {
     "name": "stdout",
     "output_type": "stream",
     "text": [
      "<class 'list'>\n"
     ]
    }
   ],
   "source": [
    "#LIST\n",
    "weather_year_2025 = [\n",
    "    ['January', 10, -1, 5, 15, 11], \n",
    "\t['February', 12, 0, 6, 12, 11], \n",
    "\t['March', 15, 2, 8, 14, 9], \n",
    "    ['April', 18, 5, 12, 10, 8], \n",
    "\t['May', 22, 9, 14, 9, 8], \n",
    "\t['June', 25, 13, 15, 8, 7], \n",
    "    ['July', 28, 15, 18, 7, 6], \n",
    "\t['August', 27, 14, 17, 8, 6], \n",
    "\t['September', 23, 11, 13, 10, 7], \n",
    "    ['October', 17, 7, 9, 14, 8], \n",
    "\t['November', 11, 3, 6, 17, 7], \n",
    "\t['December', 7, 0, 4, 18, 9]\n",
    "]\n",
    "\n",
    "print(type(weather_year_2025))"
   ]
  },
  {
   "cell_type": "markdown",
   "id": "d1dbfe84-b047-45a1-895c-ec86409378a6",
   "metadata": {},
   "source": [
    "**Code to transform a lsit into a dict, if meaning of data elements is known**\n",
    "\n",
    "Here are the first three months as an example:\n",
    "\n",
    "- January: Max Temp = 10°C, Min Temp = -1°C, Sunny = 5 days, Cloudy = 15 days, Rainy = 11 days\n",
    "- February: Max Temp = 12°C, Min Temp = 0°C, Sunny = 6 days, Cloudy = 12 days, Rainy = 11 days\n",
    "- March: Max Temp = 15°C, Min Temp = 2°C, Sunny = 8 days, Cloudy = 14 days, Rainy = 9 days"
   ]
  },
  {
   "cell_type": "code",
   "execution_count": 80,
   "id": "c4dac0f3-7205-415a-9db8-07d4ba16c7d7",
   "metadata": {},
   "outputs": [
    {
     "name": "stdout",
     "output_type": "stream",
     "text": [
      "{'Max Temp': 10, 'Min Temp': -1, 'Sunny Days': 5, 'Cloudy Days': 15, 'Rainy Days': 11}\n",
      "{'Max Temp': 12, 'Min Temp': 0, 'Sunny Days': 6, 'Cloudy Days': 12, 'Rainy Days': 11}\n",
      "<class 'dict'>\n"
     ]
    }
   ],
   "source": [
    "#DICT\n",
    "# weather_year_2025 = {}\n",
    "\n",
    "weather_dict = {\n",
    "    row[0]: {\n",
    "        \"Max Temp\": row[1],\n",
    "        \"Min Temp\": row[2],\n",
    "        \"Sunny Days\": row[3],\n",
    "        \"Cloudy Days\": row[4],\n",
    "        \"Rainy Days\": row[5]\n",
    "    }\n",
    "    for row in weather_year_2025\n",
    "}\n",
    "\n",
    "# Example: print data for January\n",
    "print(weather_dict[\"January\"])\n",
    "print(weather_dict[\"February\"])\n",
    "print(type(weather_dict))\n",
    "    "
   ]
  },
  {
   "cell_type": "code",
   "execution_count": 82,
   "id": "6d1eac0e-2af8-4c93-bbff-ca30112b11ba",
   "metadata": {},
   "outputs": [
    {
     "name": "stdout",
     "output_type": "stream",
     "text": [
      "{'January': {'Max Temp': 10, 'Min Temp': -1, 'Sunny Days': 5, 'Cloudy Days': 15, 'Rainy Days': 11}, 'February': {'Max Temp': 12, 'Min Temp': 0, 'Sunny Days': 6, 'Cloudy Days': 12, 'Rainy Days': 11}, 'March': {'Max Temp': 15, 'Min Temp': 2, 'Sunny Days': 8, 'Cloudy Days': 14, 'Rainy Days': 9}, 'April': {'Max Temp': 18, 'Min Temp': 5, 'Sunny Days': 12, 'Cloudy Days': 10, 'Rainy Days': 8}, 'May': {'Max Temp': 22, 'Min Temp': 9, 'Sunny Days': 14, 'Cloudy Days': 9, 'Rainy Days': 8}, 'June': {'Max Temp': 25, 'Min Temp': 13, 'Sunny Days': 15, 'Cloudy Days': 8, 'Rainy Days': 7}, 'July': {'Max Temp': 28, 'Min Temp': 15, 'Sunny Days': 18, 'Cloudy Days': 7, 'Rainy Days': 6}, 'August': {'Max Temp': 27, 'Min Temp': 14, 'Sunny Days': 17, 'Cloudy Days': 8, 'Rainy Days': 6}, 'September': {'Max Temp': 23, 'Min Temp': 11, 'Sunny Days': 13, 'Cloudy Days': 10, 'Rainy Days': 7}, 'October': {'Max Temp': 17, 'Min Temp': 7, 'Sunny Days': 9, 'Cloudy Days': 14, 'Rainy Days': 8}, 'November': {'Max Temp': 11, 'Min Temp': 3, 'Sunny Days': 6, 'Cloudy Days': 17, 'Rainy Days': 7}, 'December': {'Max Temp': 7, 'Min Temp': 0, 'Sunny Days': 4, 'Cloudy Days': 18, 'Rainy Days': 9}}\n"
     ]
    }
   ],
   "source": [
    "# Raw dict format\n",
    "print(weather_dict)"
   ]
  },
  {
   "cell_type": "markdown",
   "id": "c79e9d2f-de4b-4d2a-9667-b7dffab2540b",
   "metadata": {},
   "source": [
    "## Printing with indentation"
   ]
  },
  {
   "cell_type": "markdown",
   "id": "13da39e0-fc99-4f31-95d9-410f26b8c635",
   "metadata": {},
   "source": [
    "## json format"
   ]
  },
  {
   "cell_type": "code",
   "execution_count": 97,
   "id": "93434977-da2b-450b-986e-2c519b8ff355",
   "metadata": {},
   "outputs": [
    {
     "name": "stdout",
     "output_type": "stream",
     "text": [
      "{\n",
      "    \"January\": {\n",
      "        \"Max Temp\": 10,\n",
      "        \"Min Temp\": -1,\n",
      "        \"Sunny Days\": 5,\n",
      "        \"Cloudy Days\": 15,\n",
      "        \"Rainy Days\": 11\n",
      "    },\n",
      "    \"February\": {\n",
      "        \"Max Temp\": 12,\n",
      "        \"Min Temp\": 0,\n",
      "        \"Sunny Days\": 6,\n",
      "        \"Cloudy Days\": 12,\n",
      "        \"Rainy Days\": 11\n",
      "    },\n",
      "    \"March\": {\n",
      "        \"Max Temp\": 15,\n",
      "        \"Min Temp\": 2,\n",
      "        \"Sunny Days\": 8,\n",
      "        \"Cloudy Days\": 14,\n",
      "        \"Rainy Days\": 9\n",
      "    },\n",
      "    \"April\": {\n",
      "        \"Max Temp\": 18,\n",
      "        \"Min Temp\": 5,\n",
      "        \"Sunny Days\": 12,\n",
      "        \"Cloudy Days\": 10,\n",
      "        \"Rainy Days\": 8\n",
      "    },\n",
      "    \"May\": {\n",
      "        \"Max Temp\": 22,\n",
      "        \"Min Temp\": 9,\n",
      "        \"Sunny Days\": 14,\n",
      "        \"Cloudy Days\": 9,\n",
      "        \"Rainy Days\": 8\n",
      "    },\n",
      "    \"June\": {\n",
      "        \"Max Temp\": 25,\n",
      "        \"Min Temp\": 13,\n",
      "        \"Sunny Days\": 15,\n",
      "        \"Cloudy Days\": 8,\n",
      "        \"Rainy Days\": 7\n",
      "    },\n",
      "    \"July\": {\n",
      "        \"Max Temp\": 28,\n",
      "        \"Min Temp\": 15,\n",
      "        \"Sunny Days\": 18,\n",
      "        \"Cloudy Days\": 7,\n",
      "        \"Rainy Days\": 6\n",
      "    },\n",
      "    \"August\": {\n",
      "        \"Max Temp\": 27,\n",
      "        \"Min Temp\": 14,\n",
      "        \"Sunny Days\": 17,\n",
      "        \"Cloudy Days\": 8,\n",
      "        \"Rainy Days\": 6\n",
      "    },\n",
      "    \"September\": {\n",
      "        \"Max Temp\": 23,\n",
      "        \"Min Temp\": 11,\n",
      "        \"Sunny Days\": 13,\n",
      "        \"Cloudy Days\": 10,\n",
      "        \"Rainy Days\": 7\n",
      "    },\n",
      "    \"October\": {\n",
      "        \"Max Temp\": 17,\n",
      "        \"Min Temp\": 7,\n",
      "        \"Sunny Days\": 9,\n",
      "        \"Cloudy Days\": 14,\n",
      "        \"Rainy Days\": 8\n",
      "    },\n",
      "    \"November\": {\n",
      "        \"Max Temp\": 11,\n",
      "        \"Min Temp\": 3,\n",
      "        \"Sunny Days\": 6,\n",
      "        \"Cloudy Days\": 17,\n",
      "        \"Rainy Days\": 7\n",
      "    },\n",
      "    \"December\": {\n",
      "        \"Max Temp\": 7,\n",
      "        \"Min Temp\": 0,\n",
      "        \"Sunny Days\": 4,\n",
      "        \"Cloudy Days\": 18,\n",
      "        \"Rainy Days\": 9\n",
      "    }\n",
      "}\n"
     ]
    }
   ],
   "source": [
    "#indentation\n",
    "import json\n",
    "# Pretty-print the dictionary with indentation\n",
    "print(json.dumps(weather_dict, indent=4))\n",
    "# weather_dict_json = json.dumps(weather_dict)\n",
    "# print(weather_dict_json)"
   ]
  },
  {
   "cell_type": "markdown",
   "id": "b9e46719-3dc1-437e-8f7d-21b38ab1b6e7",
   "metadata": {},
   "source": [
    "**Selecting specific keys from a dict**"
   ]
  },
  {
   "cell_type": "code",
   "execution_count": 67,
   "id": "75759e32-52bb-4589-b8ca-343ef7b28693",
   "metadata": {},
   "outputs": [
    {
     "name": "stdout",
     "output_type": "stream",
     "text": [
      "10\n",
      "-1\n",
      "5\n"
     ]
    }
   ],
   "source": [
    "print(weather_dict[\"January\"][\"Max Temp\"])\n",
    "print(weather_dict[\"January\"][\"Min Temp\"])\n",
    "print(weather_dict[\"January\"][\"Sunny Days\"])"
   ]
  },
  {
   "cell_type": "markdown",
   "id": "dee04ce2-cdeb-4e65-bd25-f6ba860eece2",
   "metadata": {},
   "source": [
    "**Interactive input**"
   ]
  },
  {
   "cell_type": "code",
   "execution_count": 71,
   "id": "738a15ed-dcd0-4aa6-bebf-2c67ab503777",
   "metadata": {},
   "outputs": [
    {
     "name": "stdin",
     "output_type": "stream",
     "text": [
      "Which month? December\n"
     ]
    },
    {
     "name": "stdout",
     "output_type": "stream",
     "text": [
      "7\n",
      "0\n",
      "4\n"
     ]
    }
   ],
   "source": [
    "month_sel = input(\"Which month?\")\n",
    "print(weather_dict[month_sel][\"Max Temp\"])\n",
    "print(weather_dict[month_sel][\"Min Temp\"])\n",
    "print(weather_dict[month_sel][\"Sunny Days\"])"
   ]
  },
  {
   "cell_type": "markdown",
   "id": "c80560a9-314a-4faf-8efe-9c56c7a0a7f0",
   "metadata": {},
   "source": [
    "**Viewing existing keys of a dict**"
   ]
  },
  {
   "cell_type": "markdown",
   "id": "31e15c3d-8683-413a-9580-4d45a41f9182",
   "metadata": {},
   "source": [
    "**Top Level**"
   ]
  },
  {
   "cell_type": "code",
   "execution_count": 56,
   "id": "d7ed8af4-2a44-4f8b-9cbf-cafc9c06e535",
   "metadata": {},
   "outputs": [
    {
     "name": "stdout",
     "output_type": "stream",
     "text": [
      "dict_keys(['January', 'February', 'March', 'April', 'May', 'June', 'July', 'August', 'September', 'October', 'November', 'December'])\n"
     ]
    }
   ],
   "source": [
    "print(weather_dict.keys())"
   ]
  },
  {
   "cell_type": "markdown",
   "id": "c870cc25-10ed-48fe-a88f-7eb314d7dbe7",
   "metadata": {},
   "source": [
    "**Second Level**"
   ]
  },
  {
   "cell_type": "code",
   "execution_count": 58,
   "id": "8d5e6fab-ae64-464d-950a-8b1239d73708",
   "metadata": {},
   "outputs": [
    {
     "name": "stdout",
     "output_type": "stream",
     "text": [
      "dict_keys(['Max Temp', 'Min Temp', 'Sunny Days', 'Cloudy Days', 'Rainy Days'])\n"
     ]
    }
   ],
   "source": [
    "print(weather_dict[\"January\"].keys())"
   ]
  },
  {
   "cell_type": "markdown",
   "id": "b4df3bf0-27cd-4fdc-8707-338da2a0c4d4",
   "metadata": {},
   "source": [
    "## Yaml - More human readable alternative to json"
   ]
  },
  {
   "cell_type": "code",
   "execution_count": 95,
   "id": "989ada25-b4f0-4ddd-adbf-7a569f8e1f59",
   "metadata": {},
   "outputs": [
    {
     "name": "stdout",
     "output_type": "stream",
     "text": [
      "January:\n",
      "  Max Temp: 10\n",
      "  Min Temp: -1\n",
      "  Sunny Days: 5\n",
      "  Cloudy Days: 15\n",
      "  Rainy Days: 11\n",
      "February:\n",
      "  Max Temp: 12\n",
      "  Min Temp: 0\n",
      "  Sunny Days: 6\n",
      "  Cloudy Days: 12\n",
      "  Rainy Days: 11\n",
      "March:\n",
      "  Max Temp: 15\n",
      "  Min Temp: 2\n",
      "  Sunny Days: 8\n",
      "  Cloudy Days: 14\n",
      "  Rainy Days: 9\n",
      "April:\n",
      "  Max Temp: 18\n",
      "  Min Temp: 5\n",
      "  Sunny Days: 12\n",
      "  Cloudy Days: 10\n",
      "  Rainy Days: 8\n",
      "May:\n",
      "  Max Temp: 22\n",
      "  Min Temp: 9\n",
      "  Sunny Days: 14\n",
      "  Cloudy Days: 9\n",
      "  Rainy Days: 8\n",
      "June:\n",
      "  Max Temp: 25\n",
      "  Min Temp: 13\n",
      "  Sunny Days: 15\n",
      "  Cloudy Days: 8\n",
      "  Rainy Days: 7\n",
      "July:\n",
      "  Max Temp: 28\n",
      "  Min Temp: 15\n",
      "  Sunny Days: 18\n",
      "  Cloudy Days: 7\n",
      "  Rainy Days: 6\n",
      "August:\n",
      "  Max Temp: 27\n",
      "  Min Temp: 14\n",
      "  Sunny Days: 17\n",
      "  Cloudy Days: 8\n",
      "  Rainy Days: 6\n",
      "September:\n",
      "  Max Temp: 23\n",
      "  Min Temp: 11\n",
      "  Sunny Days: 13\n",
      "  Cloudy Days: 10\n",
      "  Rainy Days: 7\n",
      "October:\n",
      "  Max Temp: 17\n",
      "  Min Temp: 7\n",
      "  Sunny Days: 9\n",
      "  Cloudy Days: 14\n",
      "  Rainy Days: 8\n",
      "November:\n",
      "  Max Temp: 11\n",
      "  Min Temp: 3\n",
      "  Sunny Days: 6\n",
      "  Cloudy Days: 17\n",
      "  Rainy Days: 7\n",
      "December:\n",
      "  Max Temp: 7\n",
      "  Min Temp: 0\n",
      "  Sunny Days: 4\n",
      "  Cloudy Days: 18\n",
      "  Rainy Days: 9\n",
      "\n"
     ]
    }
   ],
   "source": [
    "import json\n",
    "import yaml  # Requires PyYAML\n",
    "\n",
    "yaml_output = yaml.dump(weather_dict, sort_keys=False, allow_unicode=True)\n",
    "\n",
    "# Step 3: Print the YAML result\n",
    "print(yaml_output)"
   ]
  }
 ],
 "metadata": {
  "kernelspec": {
   "display_name": "Python [conda env:base] *",
   "language": "python",
   "name": "conda-base-py"
  },
  "language_info": {
   "codemirror_mode": {
    "name": "ipython",
    "version": 3
   },
   "file_extension": ".py",
   "mimetype": "text/x-python",
   "name": "python",
   "nbconvert_exporter": "python",
   "pygments_lexer": "ipython3",
   "version": "3.11.11"
  }
 },
 "nbformat": 4,
 "nbformat_minor": 5
}
