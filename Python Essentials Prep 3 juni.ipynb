{
 "cells": [
  {
   "cell_type": "markdown",
   "id": "44302294-f93b-478d-8db6-46ae4779bcde",
   "metadata": {},
   "source": [
    "# Dictionaries & json Revisited and Further Explored"
   ]
  },
  {
   "cell_type": "markdown",
   "id": "0c91b2a4-cde4-49c1-9e49-282cc9b372e3",
   "metadata": {},
   "source": [
    "**Is the structure (in the next cell) dict or json?**\n",
    "\n",
    "In Python, the distinction between a dict and JSON hinges on their data types and intended uses:\n",
    "\n",
    "- **JSON**: A JSON object is a string that represents data in a structured, text-based format. It's commonly used for transmitting or storing data across different systems.\n",
    "- **dict**: A dict is a native Python data structure that stores data as **key-value** pairs, allowing for direct access and manipulation within Python programs.\n",
    "\n",
    "**To convert between these two, Python provides the json module:**\n",
    "\n",
    "- **From dict to JSON**: Use json.dumps() to serialize a Python dictionary into a JSON-formatted string.\n",
    "- **From JSON to dict**: Use json.loads() to deserialize a JSON-formatted string back into a Python dictionary.\n",
    "\n",
    "This distinction is crucial: **JSON strings are ideal for data exchange and storage**, while **dictionaries are optimal for in-memory data manipulation** within Python.\n"
   ]
  },
  {
   "cell_type": "code",
   "execution_count": 4,
   "id": "a471035c-e292-4c62-9eb2-d339983a27b5",
   "metadata": {},
   "outputs": [],
   "source": [
    "groups_str = \"\"\" {\n",
    " \"groups\": [\n",
    "      { \"group\": { \"group_id\": \"G1\" , \"group_name\": \"Micro\" ,    \n",
    "                   \"members\": [   \n",
    "                     {\"person_id\": \"P-1\" , \"person_name\": \"Nick\", \"email\": \"nick@biasc.be\"},\n",
    "                     {\"person_id\": \"P-2\" , \"person_name\": \"Marcus\", \"email\": \"marcus@biasc.be\"},\n",
    "                     {\"person_id\": \"P-3\" , \"person_name\": \"Liesbet\", \"email\": \"liesbet@biasc.be\"} \n",
    "                   ]\n",
    "                 }\n",
    "      },\n",
    "      { \"group\": { \"group_id\": \"G2\" , \"group_name\": \"Nano\" ,    \n",
    "                   \"members\": [   \n",
    "                     {\"person_id\": \"P-4\" ,\"person_name\": \"Martin\", \"email\": \"martin@biasc.be\"}, \n",
    "                     {\"person_id\": \"P-5\" ,\"person_name\": \"Bob\", \"email\": \"bob@biasc.be\"}, \n",
    "                     {\"person_id\": \"P-6\" ,\"person_name\": \"Alice\", \"email\": \"alice@biasc.be\"} \n",
    "                   ]     \n",
    "                 }\n",
    "      },\n",
    "      { \"group\": { \"group_id\": \"G3\" , \"group_name\": \"Pico\" ,    \n",
    "                   \"members\": [   \n",
    "                     {\"person_id\": \"P-7\" ,\"person_name\": \"Matt\", \"email\": \"matt@biasc.be\"}, \n",
    "                     {\"person_id\": \"P-8\" ,\"person_name\": \"Lucas\", \"email\": \"lucas@biasc.be\"}, \n",
    "                     {\"person_id\": \"P-9\" ,\"person_name\": \"Elsa\", \"email\": \"elsa@biasc.be\"} \n",
    "                   ] \n",
    "                 }\n",
    "      }\n",
    "   ]\n",
    "}\n",
    "\"\"\""
   ]
  },
  {
   "cell_type": "code",
   "execution_count": 5,
   "id": "0dbabd86-64f5-4522-bb95-41f0953f79c7",
   "metadata": {},
   "outputs": [
    {
     "name": "stdout",
     "output_type": "stream",
     "text": [
      "<class 'str'>\n",
      " {\n",
      " \"groups\": [\n",
      "      { \"group\": { \"group_id\": \"G1\" , \"group_name\": \"Micro\" ,    \n",
      "                   \"members\": [   \n",
      "                     {\"person_id\": \"P-1\" , \"person_name\": \"Nick\", \"email\": \"nick@biasc.be\"},\n",
      "                     {\"person_id\": \"P-2\" , \"person_name\": \"Marcus\", \"email\": \"marcus@biasc.be\"},\n",
      "                     {\"person_id\": \"P-3\" , \"person_name\": \"Liesbet\", \"email\": \"liesbet@biasc.be\"} \n",
      "                   ]\n",
      "                 }\n",
      "      },\n",
      "      { \"group\": { \"group_id\": \"G2\" , \"group_name\": \"Nano\" ,    \n",
      "                   \"members\": [   \n",
      "                     {\"person_id\": \"P-4\" ,\"person_name\": \"Martin\", \"email\": \"martin@biasc.be\"}, \n",
      "                     {\"person_id\": \"P-5\" ,\"person_name\": \"Bob\", \"email\": \"bob@biasc.be\"}, \n",
      "                     {\"person_id\": \"P-6\" ,\"person_name\": \"Alice\", \"email\": \"alice@biasc.be\"} \n",
      "                   ]     \n",
      "                 }\n",
      "      },\n",
      "      { \"group\": { \"group_id\": \"G3\" , \"group_name\": \"Pico\" ,    \n",
      "                   \"members\": [   \n",
      "                     {\"person_id\": \"P-7\" ,\"person_name\": \"Matt\", \"email\": \"matt@biasc.be\"}, \n",
      "                     {\"person_id\": \"P-8\" ,\"person_name\": \"Lucas\", \"email\": \"lucas@biasc.be\"}, \n",
      "                     {\"person_id\": \"P-9\" ,\"person_name\": \"Elsa\", \"email\": \"elsa@biasc.be\"} \n",
      "                   ] \n",
      "                 }\n",
      "      }\n",
      "   ]\n",
      "}\n",
      "\n"
     ]
    }
   ],
   "source": [
    "# Here is the answer\n",
    "# Run previous cell first\n",
    "print(type(groups_str))\n",
    "print(groups_str)"
   ]
  },
  {
   "cell_type": "code",
   "execution_count": 6,
   "id": "96646a56-5d0d-405c-af9b-b2b795bf2ac5",
   "metadata": {},
   "outputs": [],
   "source": [
    "groups_struc = {\n",
    " \"groups\": [\n",
    "      { \"group\": { \"group_id\": \"G1\" , \"group_name\": \"Micro_Group\" ,    \n",
    "                   \"members\": [   \n",
    "                     {\"person_id\": \"P-1\" , \"person_name\": \"Nick\", \"email\": \"nick@biasc.be\"},\n",
    "                     {\"person_id\": \"P-2\" , \"person_name\": \"Marcus\", \"email\": \"marcus@biasc.be\"},\n",
    "                     {\"person_id\": \"P-3\" , \"person_name\": \"Liesbet\", \"email\": \"liesbet@biasc.be\"} \n",
    "                   ]\n",
    "                 }\n",
    "      },\n",
    "      { \"group\": { \"group_id\": \"G2\" , \"group_name\": \"Nano_Group\" ,    \n",
    "                   \"members\": [   \n",
    "                     {\"person_id\": \"P-4\" ,\"person_name\": \"Martin\", \"email\": \"martin@biasc.be\"}, \n",
    "                     {\"person_id\": \"P-5\" ,\"person_name\": \"Bob\", \"email\": \"bob@biasc.be\"}, \n",
    "                     {\"person_id\": \"P-6\" ,\"person_name\": \"Alice\", \"email\": \"alice@biasc.be\"} \n",
    "                   ]     \n",
    "                 }\n",
    "      },\n",
    "      { \"group\": { \"group_id\": \"G3\" , \"group_name\": \"Pico_Group\" ,    \n",
    "                   \"members\": [   \n",
    "                     {\"person_id\": \"P-7\" ,\"person_name\": \"Matt\", \"email\": \"matt@biasc.be\"}, \n",
    "                     {\"person_id\": \"P-8\" ,\"person_name\": \"Lucas\", \"email\": \"lucas@biasc.be\"}, \n",
    "                     {\"person_id\": \"P-9\" ,\"person_name\": \"Elsa\", \"email\": \"elsa@biasc.be\"} \n",
    "                   ] \n",
    "                 }\n",
    "      }\n",
    "   ]\n",
    "}"
   ]
  },
  {
   "cell_type": "code",
   "execution_count": 7,
   "id": "92a22193-7843-4671-b1b9-8632588e8991",
   "metadata": {},
   "outputs": [
    {
     "name": "stdout",
     "output_type": "stream",
     "text": [
      "<class 'dict'>\n",
      "{'groups': [{'group': {'group_id': 'G1', 'group_name': 'Micro_Group', 'members': [{'person_id': 'P-1', 'person_name': 'Nick', 'email': 'nick@biasc.be'}, {'person_id': 'P-2', 'person_name': 'Marcus', 'email': 'marcus@biasc.be'}, {'person_id': 'P-3', 'person_name': 'Liesbet', 'email': 'liesbet@biasc.be'}]}}, {'group': {'group_id': 'G2', 'group_name': 'Nano_Group', 'members': [{'person_id': 'P-4', 'person_name': 'Martin', 'email': 'martin@biasc.be'}, {'person_id': 'P-5', 'person_name': 'Bob', 'email': 'bob@biasc.be'}, {'person_id': 'P-6', 'person_name': 'Alice', 'email': 'alice@biasc.be'}]}}, {'group': {'group_id': 'G3', 'group_name': 'Pico_Group', 'members': [{'person_id': 'P-7', 'person_name': 'Matt', 'email': 'matt@biasc.be'}, {'person_id': 'P-8', 'person_name': 'Lucas', 'email': 'lucas@biasc.be'}, {'person_id': 'P-9', 'person_name': 'Elsa', 'email': 'elsa@biasc.be'}]}}]}\n"
     ]
    }
   ],
   "source": [
    "# Here is the answer\n",
    "# Run previous cell first\n",
    "print(type(groups_struc))\n",
    "print(groups_struc)"
   ]
  },
  {
   "cell_type": "markdown",
   "id": "ca39567b-74e5-47ad-aa23-96f2d320bd50",
   "metadata": {},
   "source": [
    "**Filtering from a dict**"
   ]
  },
  {
   "cell_type": "code",
   "execution_count": 9,
   "id": "b9bf020d-8953-49ff-b689-158a415949f0",
   "metadata": {},
   "outputs": [
    {
     "name": "stdout",
     "output_type": "stream",
     "text": [
      "dict_keys(['groups'])\n"
     ]
    }
   ],
   "source": [
    "# Run previous cell first\n",
    "print(groups_struc.keys())"
   ]
  },
  {
   "cell_type": "code",
   "execution_count": 10,
   "id": "8a0ac717-43e9-465d-9c9c-b0848bf06ea4",
   "metadata": {},
   "outputs": [
    {
     "name": "stdout",
     "output_type": "stream",
     "text": [
      "dict_keys(['group'])\n"
     ]
    }
   ],
   "source": [
    "# Run previous cell first\n",
    "print(groups_struc[\"groups\"][0].keys())"
   ]
  },
  {
   "cell_type": "code",
   "execution_count": 11,
   "id": "568fa529-8df5-4ec5-a8e6-add6f1fd4177",
   "metadata": {},
   "outputs": [
    {
     "name": "stdout",
     "output_type": "stream",
     "text": [
      "dict_keys(['group_id', 'group_name', 'members'])\n"
     ]
    }
   ],
   "source": [
    "# Run previous cell first\n",
    "print(groups_struc[\"groups\"][0][\"group\"].keys())\n"
   ]
  },
  {
   "cell_type": "code",
   "execution_count": 12,
   "id": "1fb9c5f7-745f-4b95-a8c8-07d128325e0d",
   "metadata": {},
   "outputs": [
    {
     "name": "stdout",
     "output_type": "stream",
     "text": [
      "dict_keys(['person_id', 'person_name', 'email'])\n"
     ]
    }
   ],
   "source": [
    "# Run previous cell first\n",
    "print(groups_struc[\"groups\"][0][\"group\"][\"members\"][0].keys())"
   ]
  },
  {
   "cell_type": "code",
   "execution_count": 13,
   "id": "98bfebb9-258a-44da-bdf9-e3d898e97168",
   "metadata": {},
   "outputs": [
    {
     "name": "stdout",
     "output_type": "stream",
     "text": [
      "{'person_id': 'P-1', 'person_name': 'Nick', 'email': 'nick@biasc.be'}\n"
     ]
    }
   ],
   "source": [
    "# Run previous cell first\n",
    "searched_item = groups_struc[\"groups\"][0][\"group\"][\"members\"][0]\n",
    "print(searched_item)"
   ]
  },
  {
   "cell_type": "code",
   "execution_count": 14,
   "id": "f182b635-b2de-48e0-9c5a-8eb7fd3b5570",
   "metadata": {},
   "outputs": [
    {
     "name": "stdout",
     "output_type": "stream",
     "text": [
      "Nick\n"
     ]
    }
   ],
   "source": [
    "# Run previous cell first\n",
    "searched_item = groups_struc[\"groups\"][0][\"group\"][\"members\"][0][\"person_name\"]\n",
    "print(searched_item)"
   ]
  },
  {
   "cell_type": "markdown",
   "id": "e0b5ab02-941c-4a90-bb17-f5f86b0b776b",
   "metadata": {},
   "source": [
    "**Task:** Write a statement that extracts all the group names\n",
    "\n"
   ]
  },
  {
   "cell_type": "markdown",
   "id": "cd097576-287e-489b-a739-7369139cc0d0",
   "metadata": {},
   "source": [
    "**Functions to work with dict**"
   ]
  },
  {
   "cell_type": "code",
   "execution_count": 17,
   "id": "bccea1d4-d7d7-4dc0-b631-9a78fbc91a27",
   "metadata": {},
   "outputs": [
    {
     "name": "stdout",
     "output_type": "stream",
     "text": [
      "Available Groups:\n",
      "- Micro Group\n",
      "- Nano Group\n",
      "- Pico Group\n",
      "\n",
      "Marcus is in group: Micro Group\n",
      "\n",
      "Members of Nano Group:\n",
      "  - Martin (martin@biasc.be)\n",
      "  - Bob (bob@biasc.be)\n",
      "  - Alice (alice@biasc.be)\n",
      "\n",
      "Search results for 'elsa':\n",
      "  - Elsa (elsa@biasc.be) in Pico Group\n"
     ]
    }
   ],
   "source": [
    "# Adding functions\n",
    "groups_struc = {\n",
    "    \"groups\": [\n",
    "        { \"group\": { \"group_id\": \"G1\", \"group_name\": \"Micro Group\",\n",
    "                     \"members\": [\n",
    "                         {\"person_id\": \"P-1\", \"person_name\": \"Nick\", \"email\": \"nick@biasc.be\"},\n",
    "                         {\"person_id\": \"P-2\", \"person_name\": \"Marcus\", \"email\": \"marcus@biasc.be\"},\n",
    "                         {\"person_id\": \"P-3\", \"person_name\": \"Liesbet\", \"email\": \"liesbet@biasc.be\"}\n",
    "                     ]\n",
    "        }},\n",
    "        { \"group\": { \"group_id\": \"G2\", \"group_name\": \"Nano Group\",\n",
    "                     \"members\": [\n",
    "                         {\"person_id\": \"P-4\", \"person_name\": \"Martin\", \"email\": \"martin@biasc.be\"},\n",
    "                         {\"person_id\": \"P-5\", \"person_name\": \"Bob\", \"email\": \"bob@biasc.be\"},\n",
    "                         {\"person_id\": \"P-6\", \"person_name\": \"Alice\", \"email\": \"alice@biasc.be\"}\n",
    "                     ]\n",
    "        }},\n",
    "        { \"group\": { \"group_id\": \"G3\", \"group_name\": \"Pico Group\",\n",
    "                     \"members\": [\n",
    "                         {\"person_id\": \"P-7\", \"person_name\": \"Matt\", \"email\": \"matt@biasc.be\"},\n",
    "                         {\"person_id\": \"P-8\", \"person_name\": \"Lucas\", \"email\": \"lucas@biasc.be\"},\n",
    "                         {\"person_id\": \"P-9\", \"person_name\": \"Elsa\", \"email\": \"elsa@biasc.be\"}\n",
    "                     ]\n",
    "        }}\n",
    "    ]\n",
    "}\n",
    "\n",
    "# 1. List all group names\n",
    "def list_groups():\n",
    "    print(\"Available Groups:\")\n",
    "    for entry in groups_struc[\"groups\"]:\n",
    "        print(f\"- {entry['group']['group_name']}\")\n",
    "\n",
    "# 2. Show members of a specific group\n",
    "def show_members(group_name):\n",
    "    for entry in groups_struc[\"groups\"]:\n",
    "        group = entry[\"group\"]\n",
    "        if group[\"group_name\"] == group_name:\n",
    "            print(f\"\\nMembers of {group_name}:\")\n",
    "            for member in group[\"members\"]:\n",
    "                print(f\"  - {member['person_name']} ({member['email']})\")\n",
    "            return\n",
    "    print(\"Group not found.\")\n",
    "\n",
    "# 3. Search by person name or email\n",
    "def search_person(query):\n",
    "    print(f\"\\nSearch results for '{query}':\")\n",
    "    found = False\n",
    "    for entry in groups_struc[\"groups\"]:\n",
    "        group = entry[\"group\"]\n",
    "        for member in group[\"members\"]:\n",
    "            if query.lower() in member[\"person_name\"].lower() or query.lower() in member[\"email\"].lower():\n",
    "                print(f\"  - {member['person_name']} ({member['email']}) in {group['group_name']}\")\n",
    "                found = True\n",
    "    if not found:\n",
    "        print(\"  No match found.\")\n",
    "\n",
    "# 4. Find group by person name\n",
    "def find_group_by_person(name):\n",
    "    for entry in groups_struc[\"groups\"]:\n",
    "        group = entry[\"group\"]\n",
    "        for member in group[\"members\"]:\n",
    "            if member[\"person_name\"].lower() == name.lower():\n",
    "                print(f\"{name} is in group: {group['group_name']}\")\n",
    "                return\n",
    "    print(\"Person not found.\")\n",
    "\n",
    "# === DEMO CALLS ===\n",
    "list_groups()\n",
    "print()\n",
    "find_group_by_person(\"Marcus\")\n",
    "show_members(\"Nano Group\")\n",
    "search_person(\"elsa\")\n"
   ]
  },
  {
   "cell_type": "markdown",
   "id": "941d512e-8d4c-4a31-88c9-1f3aff0acf6a",
   "metadata": {},
   "source": [
    "**Transforming a dict**"
   ]
  },
  {
   "cell_type": "code",
   "execution_count": 19,
   "id": "db2b60d2-660b-43e4-a85d-e3ecacab589f",
   "metadata": {},
   "outputs": [
    {
     "name": "stdout",
     "output_type": "stream",
     "text": [
      "groups:\n",
      "- group:\n",
      "    group_id: G1\n",
      "    group_name: Micro Group\n",
      "    members:\n",
      "    - person_id: P-1\n",
      "      person_name: Nick\n",
      "      email: nick@biasc.be\n",
      "    - person_id: P-2\n",
      "      person_name: Marcus\n",
      "      email: marcus@biasc.be\n",
      "    - person_id: P-3\n",
      "      person_name: Liesbet\n",
      "      email: liesbet@biasc.be\n",
      "- group:\n",
      "    group_id: G2\n",
      "    group_name: Nano Group\n",
      "    members:\n",
      "    - person_id: P-4\n",
      "      person_name: Martin\n",
      "      email: martin@biasc.be\n",
      "    - person_id: P-5\n",
      "      person_name: Bob\n",
      "      email: bob@biasc.be\n",
      "    - person_id: P-6\n",
      "      person_name: Alice\n",
      "      email: alice@biasc.be\n",
      "- group:\n",
      "    group_id: G3\n",
      "    group_name: Pico Group\n",
      "    members:\n",
      "    - person_id: P-7\n",
      "      person_name: Matt\n",
      "      email: matt@biasc.be\n",
      "    - person_id: P-8\n",
      "      person_name: Lucas\n",
      "      email: lucas@biasc.be\n",
      "    - person_id: P-9\n",
      "      person_name: Elsa\n",
      "      email: elsa@biasc.be\n",
      "\n"
     ]
    }
   ],
   "source": [
    "# Run previous cell first\n",
    "import json\n",
    "import yaml  # Requires PyYAML\n",
    "\n",
    "yaml_output = yaml.dump(groups_struc, sort_keys=False, allow_unicode=True)\n",
    "\n",
    "# Step 3: Print the YAML result\n",
    "print(yaml_output)"
   ]
  },
  {
   "cell_type": "markdown",
   "id": "44459f3a-657c-497c-a9da-053cfe9260b0",
   "metadata": {},
   "source": [
    "# Restful API Calls\n",
    "## Exploring HTTP Requests"
   ]
  },
  {
   "cell_type": "code",
   "execution_count": null,
   "id": "525aa2e9-ccf8-49bf-8184-fc6c5939fa72",
   "metadata": {},
   "outputs": [],
   "source": []
  },
  {
   "cell_type": "markdown",
   "id": "6d7da68d-834d-4ff0-9228-1b7425610ee7",
   "metadata": {},
   "source": [
    "**Example in Python using the popular requests library**\n",
    "- demonstrate how to perform and display the output of HTTP GET and POST requests.\n",
    "\n",
    "**Free online REST API**\n",
    "- https://jsonplaceholder.typicode.com is a free online REST API that provides fake (placeholder) data for testing and prototyping web or API clients.\n",
    "\n",
    "**To install the requests module (if not installed):**\n",
    "\n",
    "- ! pip install requests\n",
    "\n",
    "**HTTP Status Codes**\n",
    "\n",
    "As a response to a HTTP request, you will get a **status code**, for example\n",
    "\n",
    "- **200 OK**: The request was successful.\n",
    "- **201 Created**: The request was successful, and a new resource was created.\n",
    "- **204 No Content**: The request was successful, but there is no content to send in the response (e.g. after a Delete operation)\n",
    "- **400 Bad Request**: The server could not understand the request due to invalid syntax.\n",
    "- **401 Unauthorized**: Authentication is required and has failed or has not yet been provided.\n",
    "- **404 Not Found**: The requested resource could not be found on the server."
   ]
  },
  {
   "cell_type": "code",
   "execution_count": 22,
   "id": "7d6cf0c7-228d-4b42-8626-8fc267cec093",
   "metadata": {},
   "outputs": [
    {
     "name": "stdout",
     "output_type": "stream",
     "text": [
      "=== GET Request ===\n",
      "Status Code: 200\n",
      "Headers: application/json; charset=utf-8\n",
      "JSON Data:\n",
      "{'userId': 1, 'id': 1, 'title': 'sunt aut facere repellat provident occaecati excepturi optio reprehenderit', 'body': 'quia et suscipit\\nsuscipit recusandae consequuntur expedita et cum\\nreprehenderit molestiae ut ut quas totam\\nnostrum rerum est autem sunt rem eveniet architecto'}\n",
      "\n",
      "=== POST Request ===\n",
      "Status Code: 201\n",
      "Returned JSON:\n",
      "{'title': 'Python Demo', 'body': 'This is a test post from Python.', 'userId': 101, 'id': 101}\n",
      "\n"
     ]
    }
   ],
   "source": [
    "import requests\n",
    "\n",
    "# 1. HTTP GET request to fetch data from a public API\n",
    "def get_example():\n",
    "    url = \"https://jsonplaceholder.typicode.com/posts/1\"\n",
    "    response = requests.get(url)\n",
    "\n",
    "    print(\"=== GET Request ===\")\n",
    "    print(\"Status Code:\", response.status_code)\n",
    "    print(\"Headers:\", response.headers[\"Content-Type\"])\n",
    "    print(\"JSON Data:\")\n",
    "    print(response.json())\n",
    "    print()\n",
    "\n",
    "# 2. HTTP POST request to send data to a server (fake API for demo)\n",
    "def post_example():\n",
    "    url = \"https://jsonplaceholder.typicode.com/posts\"\n",
    "    data = {\n",
    "        \"title\": \"Python Demo\",\n",
    "        \"body\": \"This is a test post from Python.\",\n",
    "        \"userId\": 101\n",
    "    }\n",
    "    response = requests.post(url, json=data)\n",
    "\n",
    "    print(\"=== POST Request ===\")\n",
    "    print(\"Status Code:\", response.status_code)\n",
    "    print(\"Returned JSON:\")\n",
    "    print(response.json())\n",
    "    print()\n",
    "\n",
    "# Run examples\n",
    "get_example()\n",
    "post_example()\n"
   ]
  },
  {
   "cell_type": "code",
   "execution_count": 40,
   "id": "4a80a8a2-17ad-4883-b300-29029ea82d61",
   "metadata": {},
   "outputs": [
    {
     "name": "stdout",
     "output_type": "stream",
     "text": [
      "To-Do ID: 1\n",
      "Title: delectus aut autem\n",
      "Completed: False\n"
     ]
    }
   ],
   "source": [
    "import requests\n",
    "\n",
    "def fetch_todo_item(todo_id):\n",
    "    url = f\"https://jsonplaceholder.typicode.com/todos/{todo_id}\"\n",
    "    response = requests.get(url)\n",
    "\n",
    "    if response.status_code == 200:\n",
    "        todo = response.json()\n",
    "        print(f\"To-Do ID: {todo['id']}\")\n",
    "        print(f\"Title: {todo['title']}\")\n",
    "        print(f\"Completed: {todo['completed']}\")\n",
    "    else:\n",
    "        print(f\"Failed to fetch to-do item. Status code: {response.status_code}\")\n",
    "\n",
    "if __name__ == \"__main__\":\n",
    "    fetch_todo_item(1)\n"
   ]
  }
 ],
 "metadata": {
  "kernelspec": {
   "display_name": "Python [conda env:base] *",
   "language": "python",
   "name": "conda-base-py"
  },
  "language_info": {
   "codemirror_mode": {
    "name": "ipython",
    "version": 3
   },
   "file_extension": ".py",
   "mimetype": "text/x-python",
   "name": "python",
   "nbconvert_exporter": "python",
   "pygments_lexer": "ipython3",
   "version": "3.11.11"
  }
 },
 "nbformat": 4,
 "nbformat_minor": 5
}
