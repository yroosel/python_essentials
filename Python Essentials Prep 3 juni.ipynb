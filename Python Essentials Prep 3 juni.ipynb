{
 "cells": [
  {
   "cell_type": "markdown",
   "id": "44302294-f93b-478d-8db6-46ae4779bcde",
   "metadata": {},
   "source": [
    "# Dictionaries & Json Revisited and Further Explored"
   ]
  },
  {
   "cell_type": "code",
   "execution_count": null,
   "id": "96646a56-5d0d-405c-af9b-b2b795bf2ac5",
   "metadata": {},
   "outputs": [],
   "source": []
  }
 ],
 "metadata": {
  "kernelspec": {
   "display_name": "Python [conda env:base] *",
   "language": "python",
   "name": "conda-base-py"
  },
  "language_info": {
   "codemirror_mode": {
    "name": "ipython",
    "version": 3
   },
   "file_extension": ".py",
   "mimetype": "text/x-python",
   "name": "python",
   "nbconvert_exporter": "python",
   "pygments_lexer": "ipython3",
   "version": "3.11.11"
  }
 },
 "nbformat": 4,
 "nbformat_minor": 5
}
