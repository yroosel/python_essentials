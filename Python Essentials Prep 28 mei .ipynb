{
 "cells": [
  {
   "cell_type": "markdown",
   "id": "f1d10fae-568e-4055-97a8-e3efe4290779",
   "metadata": {},
   "source": [
    "# Python functions Continued"
   ]
  },
  {
   "cell_type": "markdown",
   "id": "878549b5-7256-40cf-91c1-f22aa9cc855e",
   "metadata": {},
   "source": [
    "## Functions are created for (small) tasks that are useful and common"
   ]
  },
  {
   "cell_type": "markdown",
   "id": "45788eb3-eb71-4b48-b094-3f4711a1f3cb",
   "metadata": {},
   "source": [
    "**Example: How many days are between two dates ?**"
   ]
  },
  {
   "cell_type": "code",
   "execution_count": 65,
   "id": "18428d64-2993-465b-a0a4-accb7aded324",
   "metadata": {},
   "outputs": [],
   "source": [
    "from datetime import datetime\n",
    "\n",
    "def days_between_dates(date1_str, date2_str, date_format=\"%Y-%m-%d\"):\n",
    "    \"\"\"\n",
    "    Returns the number of days between two dates.\n",
    "    \n",
    "    Args:\n",
    "        date1_str: First date as a string (e.g., \"2025-05-01\")\n",
    "        date2_str: Second date as a string (e.g., \"2025-05-27\")\n",
    "        date_format: Optional date format string (default: \"YYYY-MM-DD\")\n",
    "        The order of the arguments does not matter because you are using abs() to return the absolute difference\n",
    "    \"\"\"\n",
    "    d1 = datetime.strptime(date1_str, date_format)\n",
    "    d2 = datetime.strptime(date2_str, date_format)\n",
    "    return abs((d2 - d1).days)\n"
   ]
  },
  {
   "cell_type": "code",
   "execution_count": 52,
   "id": "fde06073-3e3e-4412-a29b-c8799abd2e61",
   "metadata": {},
   "outputs": [
    {
     "name": "stdout",
     "output_type": "stream",
     "text": [
      "26\n"
     ]
    }
   ],
   "source": [
    "# Run previous cell first\n",
    "# Example usage\n",
    "print(days_between_dates(\"2025-05-01\", \"2025-05-27\"))  # Output: 26"
   ]
  },
  {
   "cell_type": "code",
   "execution_count": 61,
   "id": "50689e5c-56b5-458f-a3b9-0583d7183632",
   "metadata": {},
   "outputs": [
    {
     "name": "stdout",
     "output_type": "stream",
     "text": [
      "Today: 2025-05-27\n"
     ]
    },
    {
     "name": "stdin",
     "output_type": "stream",
     "text": [
      "Please enter a birthday (YYYY-MM-DD) 2026-01-01\n"
     ]
    },
    {
     "name": "stdout",
     "output_type": "stream",
     "text": [
      "219\n"
     ]
    }
   ],
   "source": [
    "from datetime import datetime\n",
    "date_now = datetime.now()\n",
    "date_today_str = date_now.strftime(\"%Y-%m-%d\")\n",
    "print(\"Today:\", date_today_str )\n",
    "birthday = input(\"Please enter a birthday (YYYY-MM-DD)\")\n",
    "print(days_between_dates(date_today_str, birthday))"
   ]
  },
  {
   "cell_type": "markdown",
   "id": "82f77fbd-c77a-4fd8-a9bc-bf2a319401f9",
   "metadata": {},
   "source": [
    "**Example: How many months are between two dates ?**"
   ]
  },
  {
   "cell_type": "code",
   "execution_count": 56,
   "id": "e8ed1397-d2ca-402f-b6b3-b28c82907df9",
   "metadata": {},
   "outputs": [],
   "source": [
    "from datetime import datetime\n",
    "\n",
    "def months_between(date1_str, date2_str, date_format=\"%Y-%m-%d\"):\n",
    "    \"\"\"\n",
    "    Returns the number of full months between two dates.\n",
    "    \n",
    "    Args:\n",
    "        date1_str: First date as a string (e.g., \"2025-01-15\")\n",
    "        date2_str: Second date as a string (e.g., \"2025-05-27\")\n",
    "        date_format: Format of the input dates (default: \"%Y-%m-%d\")\n",
    "        \n",
    "    Returns:\n",
    "        Number of full months (integer)\n",
    "    \"\"\"\n",
    "    d1 = datetime.strptime(date1_str, date_format)\n",
    "    d2 = datetime.strptime(date2_str, date_format)\n",
    "\n",
    "    # Ensure d1 is before d2\n",
    "    if d1 > d2:\n",
    "        d1, d2 = d2, d1\n",
    "\n",
    "    # Calculate year and month difference\n",
    "    year_diff = d2.year - d1.year\n",
    "    month_diff = d2.month - d1.month\n",
    "\n",
    "    total_months = year_diff * 12 + month_diff\n",
    "\n",
    "    # Adjust if the end day is before the start day\n",
    "    if d2.day < d1.day:\n",
    "        total_months -= 1\n",
    "\n",
    "    return total_months\n"
   ]
  },
  {
   "cell_type": "code",
   "execution_count": 59,
   "id": "06789d6f-6332-494d-844a-cbabc90a6b6a",
   "metadata": {},
   "outputs": [
    {
     "name": "stdout",
     "output_type": "stream",
     "text": [
      "4\n",
      "4\n",
      "0\n"
     ]
    }
   ],
   "source": [
    "# Run previous cell first\n",
    "print(months_between(\"2025-01-15\", \"2025-05-27\"))  # Output: 4\n",
    "print(months_between(\"2025-05-27\", \"2025-01-15\"))  # Output: 4 (order doesn't matter)\n",
    "print(months_between(\"2025-01-31\", \"2025-02-28\"))  # Output: 0 (not a full month)"
   ]
  },
  {
   "cell_type": "markdown",
   "id": "1217d291-7034-48b7-ac5b-1b2f6a78b27f",
   "metadata": {},
   "source": [
    "## Datetime: Under the hood\n",
    "\n",
    "- datetime objects are not stored as a single number (like a timestamp), but rather as structured fields (like a class with attributes).\n",
    "- If needed, you can convert a datetime to a **Unix timestamp** (seconds since 1970-01-01 UTC)\n",
    "- Dates before 1970 are simply negative timestamps\n",
    "- The UNIX timestamp is still very commonly used in modern computing — especially in contexts where time needs to be stored, transferred, or compared in a **compact and universal** format."
   ]
  },
  {
   "cell_type": "code",
   "execution_count": 80,
   "id": "5b8c8f2c-3c7a-4cd8-ad7a-7b875c79cedf",
   "metadata": {},
   "outputs": [
    {
     "name": "stdout",
     "output_type": "stream",
     "text": [
      "1748333902.521214\n"
     ]
    }
   ],
   "source": [
    "\n",
    "from datetime import datetime\n",
    "\n",
    "date_now = datetime.now()           # Get the current date and time\n",
    "timestamp = date_now.timestamp()    # Convert to Unix timestamp\n",
    "print(timestamp)                    # e.g., 1748327400.0\n"
   ]
  },
  {
   "cell_type": "markdown",
   "id": "939b2828-9f13-4f46-a929-aebe4b5090a8",
   "metadata": {},
   "source": [
    "## Functions Continued"
   ]
  },
  {
   "cell_type": "markdown",
   "id": "38b3622f-dfe3-4a5d-a8f2-7dcb857a26f7",
   "metadata": {},
   "source": [
    "**Example: What kind of file is it?**\n",
    "\n",
    "- text\n",
    "- csv\n",
    "- pdf\n",
    "- data\n",
    "- spreadsheet\n",
    "- image\n",
    "- video\n",
    "- ...\n",
    "\n",
    "It begins by looking at the **file extension**."
   ]
  },
  {
   "cell_type": "code",
   "execution_count": 28,
   "id": "0fc28e19-bc25-4d9c-bbf3-5727f541caeb",
   "metadata": {},
   "outputs": [],
   "source": [
    "def get_file_extension(filename):\n",
    "    \"\"\"Returns the extension of a filename (e.g. 'txt' or 'jpg').\"\"\"\n",
    "    parts = filename.rsplit('.', 1)\n",
    "    # print(parts)\n",
    "    return parts[1] if len(parts) == 2 else ''\n"
   ]
  },
  {
   "cell_type": "markdown",
   "id": "bbb77afc-0ea9-45cc-b1d6-597e6cbb9b58",
   "metadata": {},
   "source": [
    " **Triple quotes** (\"\"\" ... \"\"\") are used to write a docstring in Python — a special kind of string that documents a function, class, or module."
   ]
  },
  {
   "cell_type": "code",
   "execution_count": 26,
   "id": "5e020a33-f641-402c-8183-100a6caeb606",
   "metadata": {},
   "outputs": [
    {
     "name": "stdout",
     "output_type": "stream",
     "text": [
      "['document', 'pdf']\n",
      "pdf\n",
      "['archive.tar', 'gz']\n",
      "gz\n",
      "['no_extension']\n",
      "\n"
     ]
    }
   ],
   "source": [
    "# Run previous cell first\n",
    "print(get_file_extension(\"document.pdf\"))     # Output: pdf\n",
    "print(get_file_extension(\"archive.tar.gz\"))   # Output: gz\n",
    "print(get_file_extension(\"no_extension\"))     # Output: (empty string)"
   ]
  },
  {
   "cell_type": "markdown",
   "id": "b967fe92-afe9-4ee2-9f82-921524148168",
   "metadata": {},
   "source": [
    "**Why is this function useful?**\n",
    "\n",
    "- It's used in file uploads, data validation, and file conversions.\n",
    "- It's better than using split('.') blindly (handles edge cases).\n",
    "- It’s reusable and improves code clarity."
   ]
  },
  {
   "cell_type": "markdown",
   "id": "a9cccdec-1f5b-4341-9804-e163d054b086",
   "metadata": {},
   "source": [
    "## Python libraries continued"
   ]
  },
  {
   "cell_type": "markdown",
   "id": "4c03545e-bba1-4bfd-a99f-cd5741008b61",
   "metadata": {},
   "source": [
    "**Example: Adding text to image files**\n",
    "\n",
    "- It’s possible to create a Python function that adds a text string to an image file — using the **Pillow** library (the modern fork of PIL, the Python Imaging Library)."
   ]
  },
  {
   "cell_type": "code",
   "execution_count": 91,
   "id": "0d3cd5a0-0c66-4e2d-91ce-e46720331cd6",
   "metadata": {},
   "outputs": [
    {
     "name": "stdout",
     "output_type": "stream",
     "text": [
      "Defaulting to user installation because normal site-packages is not writeable\n",
      "Requirement already satisfied: Pillow in c:\\programdata\\anaconda3\\lib\\site-packages (11.0.0)\n"
     ]
    }
   ],
   "source": [
    "# Run this once\n",
    "! pip install Pillow"
   ]
  },
  {
   "cell_type": "code",
   "execution_count": 93,
   "id": "b3ec02a3-ab54-4541-95f1-156c5ecdd172",
   "metadata": {},
   "outputs": [],
   "source": [
    "from PIL import Image, ImageDraw, ImageFont\n",
    "\n",
    "def add_text_to_image(input_path, output_path, text, position=(10, 10), font_size=24):\n",
    "    \"\"\"\n",
    "    Adds text to an image and saves it as a new file.\n",
    "    \n",
    "    Args:\n",
    "        input_path: Path to the input image.\n",
    "        output_path: Path to save the modified image.\n",
    "        text: Text string to add.\n",
    "        position: Tuple (x, y) for text position.\n",
    "        font_size: Size of the text font.\n",
    "    \"\"\"\n",
    "    # Open the image\n",
    "    image = Image.open(input_path).convert(\"RGBA\")\n",
    "    \n",
    "    # Create a transparent layer to draw text on\n",
    "    txt_layer = Image.new(\"RGBA\", image.size, (255,255,255,0))\n",
    "    draw = ImageDraw.Draw(txt_layer)\n",
    "\n",
    "    # Load default font or specify one\n",
    "    try:\n",
    "        font = ImageFont.truetype(\"arial.ttf\", font_size)  # or another .ttf path\n",
    "    except:\n",
    "        font = ImageFont.load_default()\n",
    "\n",
    "    # Draw the text\n",
    "    draw.text(position, text, fill=(255, 0, 0, 255), font=font)  # red text\n",
    "\n",
    "    # Combine image with text layer\n",
    "    combined = Image.alpha_composite(image, txt_layer)\n",
    "\n",
    "    # Save to output file\n",
    "    combined.convert(\"RGB\").save(output_path, \"JPEG\")\n"
   ]
  },
  {
   "cell_type": "code",
   "execution_count": 109,
   "id": "f0fd114d-997d-4946-a4ea-27152c4731c6",
   "metadata": {},
   "outputs": [],
   "source": [
    "# Run previous cell first\n",
    "add_text_to_image(\"white_table.jpg\", \"written_table.jpg\", \"Hello\", position=(700, 400), font_size=64)\n"
   ]
  },
  {
   "cell_type": "code",
   "execution_count": 111,
   "id": "2094e1b1-a49f-4a27-86b9-9e119ea2b4e4",
   "metadata": {},
   "outputs": [],
   "source": [
    "# Run previous cell first\n",
    "\n",
    "add_text_to_image(\"written_table.jpg\", \"written_table_2.jpg\", \"What's up?\", position=(700, 1000), font_size=64)"
   ]
  },
  {
   "cell_type": "code",
   "execution_count": null,
   "id": "c4c47567-f140-4024-a4a0-eae195152c4d",
   "metadata": {},
   "outputs": [],
   "source": []
  }
 ],
 "metadata": {
  "kernelspec": {
   "display_name": "Python [conda env:base] *",
   "language": "python",
   "name": "conda-base-py"
  },
  "language_info": {
   "codemirror_mode": {
    "name": "ipython",
    "version": 3
   },
   "file_extension": ".py",
   "mimetype": "text/x-python",
   "name": "python",
   "nbconvert_exporter": "python",
   "pygments_lexer": "ipython3",
   "version": "3.11.11"
  }
 },
 "nbformat": 4,
 "nbformat_minor": 5
}
