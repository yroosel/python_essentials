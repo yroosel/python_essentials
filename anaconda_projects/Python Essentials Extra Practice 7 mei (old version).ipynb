{
 "cells": [
  {
   "cell_type": "code",
   "execution_count": 6,
   "id": "0e57a23f-0cb5-42a9-b94c-f82f7b098af2",
   "metadata": {},
   "outputs": [
    {
     "name": "stdout",
     "output_type": "stream",
     "text": [
      "Python 3.11.11\n"
     ]
    }
   ],
   "source": [
    "# OS command\n",
    "! python --version"
   ]
  },
  {
   "cell_type": "markdown",
   "id": "e91d8879-28e9-411b-b66b-f85adb303443",
   "metadata": {},
   "source": [
    "**Printing**"
   ]
  },
  {
   "cell_type": "code",
   "execution_count": 10,
   "id": "6cd752be-de76-4473-a4b3-61943cfb7f1e",
   "metadata": {},
   "outputs": [
    {
     "name": "stdout",
     "output_type": "stream",
     "text": [
      "Yvan Rooseleer BiASC Gravenbosstraat 134 Brussel\n"
     ]
    }
   ],
   "source": [
    "### STEP 1 # In reality, data is often read in \"realtime\" from an input source, e.g. a file, a spreadsheet, a message, ...\n",
    "first_name = \"Yvan\"\n",
    "last_name = \"Rooseleer\"\n",
    "company = \"BiASC\"\n",
    "address = \"Gravenbosstraat 134\"\n",
    "city = \"Brussel\"\n",
    "\n",
    "print (first_name, last_name, company, address, city)"
   ]
  },
  {
   "cell_type": "code",
   "execution_count": 21,
   "id": "f101b4a0-84ad-48e0-aa57-693794f71d00",
   "metadata": {},
   "outputs": [
    {
     "name": "stdout",
     "output_type": "stream",
     "text": [
      "Y. Rooseleer\n"
     ]
    }
   ],
   "source": [
    "### MANIPULATE NAME\n",
    "first_name = \"Yvan\"\n",
    "last_name = \"Rooseleer\"\n",
    "company = \"BiASC\"\n",
    "address = \"Gravenbosstraat 134\"\n",
    "city = \"Brussel\"\n",
    "\n",
    "# short_name = f\"{first_name[0]}. {last_name}\"\n",
    "short_name = first_name[0] +\". \"+ last_name\n",
    "short_name = first_name[0] +\". \"+ last_name\n",
    "print(short_name)"
   ]
  },
  {
   "cell_type": "code",
   "execution_count": 25,
   "id": "029f371c-2acb-4f43-b508-b71e4bbe7984",
   "metadata": {},
   "outputs": [
    {
     "name": "stdout",
     "output_type": "stream",
     "text": [
      "YR\n"
     ]
    }
   ],
   "source": [
    "### INITIALS\n",
    "first_name = \"Yvan\"\n",
    "last_name = \"Rooseleer\"\n",
    "company = \"BiASC\"\n",
    "address = \"Gravenbosstraat 134\"\n",
    "city = \"Brussel\"\n",
    "\n",
    "# short_name = f\"{first_name[0]}. {last_name}\"\n",
    "initials = first_name[0] + last_name[0]\n",
    "print(initials)"
   ]
  },
  {
   "cell_type": "code",
   "execution_count": 26,
   "id": "7f2891d2-abb7-4e1f-b6c9-5977e1fe9278",
   "metadata": {},
   "outputs": [
    {
     "name": "stdin",
     "output_type": "stream",
     "text": [
      "Voornaam: Yvan\n",
      "Familienaam: Rooseleer\n",
      "Company: BiASC\n",
      "Adres: Gravenbos 134\n",
      "Woonplaats: iedekerke\n"
     ]
    },
    {
     "name": "stdout",
     "output_type": "stream",
     "text": [
      "Yvan Rooseleer BiASC Gravenbos 134 iedekerke\n"
     ]
    }
   ],
   "source": [
    "### STEP 1 USING INPUT\n",
    "first_name = input(\"Voornaam:\")\n",
    "last_name = input(\"Familienaam:\")\n",
    "company = input(\"Company:\")\n",
    "address = input(\"Adres:\")\n",
    "city = input(\"Woonplaats:\")\n",
    "\n",
    "print (first_name, last_name, company, address, city)"
   ]
  },
  {
   "cell_type": "code",
   "execution_count": 27,
   "id": "69b14c57-045c-44a4-a755-59e9b55ac89e",
   "metadata": {},
   "outputs": [
    {
     "name": "stdout",
     "output_type": "stream",
     "text": [
      "Yvan Rooseleer BiASC Gravenbos 134 iedekerke\n"
     ]
    }
   ],
   "source": [
    "print (first_name, last_name, company, address, city)"
   ]
  },
  {
   "cell_type": "code",
   "execution_count": 29,
   "id": "594da164-70cf-420a-af57-4609272d0104",
   "metadata": {},
   "outputs": [
    {
     "name": "stdout",
     "output_type": "stream",
     "text": [
      "Yvan, Rooseleer, BiASC, Gravenbos 134, iedekerke\n"
     ]
    }
   ],
   "source": [
    "print (first_name, last_name, company, address, city, sep=\", \")\n"
   ]
  },
  {
   "cell_type": "code",
   "execution_count": 39,
   "id": "bc636828-fe53-45bc-8fc7-87f31df20bad",
   "metadata": {},
   "outputs": [
    {
     "name": "stdout",
     "output_type": "stream",
     "text": [
      "Yvan/Rooseleer/BiASC/Gravenbos 134/iedekerke\n"
     ]
    }
   ],
   "source": [
    "print (first_name, last_name, company, address, city, sep=\"/\" )"
   ]
  },
  {
   "cell_type": "code",
   "execution_count": 40,
   "id": "0aa0f659-e731-448e-89bd-b8b413781afa",
   "metadata": {},
   "outputs": [
    {
     "name": "stdout",
     "output_type": "stream",
     "text": [
      "Yvan Rooseleer\n",
      "BiASC\n",
      "Gravenbos 134\n",
      "iedekerke\n"
     ]
    }
   ],
   "source": [
    "print (first_name, last_name)\n",
    "print (company)\n",
    "print (address)\n",
    "print (city)"
   ]
  },
  {
   "cell_type": "code",
   "execution_count": 47,
   "id": "cc97f76f-1e5c-4343-ac40-e34404d52143",
   "metadata": {},
   "outputs": [
    {
     "name": "stdout",
     "output_type": "stream",
     "text": [
      "Y. Rooseleer\n",
      "BiASC\n",
      "Gravenbos 134\n",
      "iedekerke\n"
     ]
    }
   ],
   "source": [
    "print (first_name[0]+\".\", last_name)\n",
    "print (company)\n",
    "print (address)\n",
    "print (city)"
   ]
  },
  {
   "cell_type": "code",
   "execution_count": 50,
   "id": "9b6ebe31-e5ce-487d-8bc1-fb9cced3cb22",
   "metadata": {},
   "outputs": [
    {
     "name": "stdout",
     "output_type": "stream",
     "text": [
      "4\n",
      "9\n"
     ]
    }
   ],
   "source": [
    "print(len(first_name))\n",
    "print(len(last_name))"
   ]
  },
  {
   "cell_type": "code",
   "execution_count": 51,
   "id": "1a80461c-7a7b-4e85-9e2b-5551e2bdcd8a",
   "metadata": {},
   "outputs": [
    {
     "name": "stdout",
     "output_type": "stream",
     "text": [
      "Rooseleer, Yvan\n",
      "BiASC, Gravenbos 134, iedekerke\n"
     ]
    }
   ],
   "source": [
    "print (last_name, first_name, sep=\", \")\n",
    "print (company, address, city, sep=\", \")"
   ]
  },
  {
   "cell_type": "code",
   "execution_count": 55,
   "id": "65a04561-34ce-4dfd-a49f-44db7b5f58ba",
   "metadata": {},
   "outputs": [
    {
     "name": "stdout",
     "output_type": "stream",
     "text": [
      "Y. Rooseleer\n",
      "BiASC, Gravenbos 134, iedekerke\n"
     ]
    }
   ],
   "source": [
    "print (first_name[0], last_name, sep = \". \")\n",
    "print (company, address, city, sep=\", \")"
   ]
  },
  {
   "cell_type": "code",
   "execution_count": 56,
   "id": "719bce3a-a3ee-4900-94be-94cc352457d1",
   "metadata": {},
   "outputs": [
    {
     "name": "stdout",
     "output_type": "stream",
     "text": [
      "YRoosel\n"
     ]
    }
   ],
   "source": [
    "# STEP 5 username\n",
    "first_name = \"Yvan\"\n",
    "last_name = \"Rooseleer\"\n",
    "company = \"BiASC\"\n",
    "address = \"Gravenbosstraat 134\"\n",
    "city = \"Brussel\"\n",
    "\n",
    "user_name = first_name[0] +last_name[0:6]\n",
    "print(user_name)\n",
    "#user_name = user_name.lower()\n",
    "#print(user_name)"
   ]
  },
  {
   "cell_type": "code",
   "execution_count": 59,
   "id": "b7d317b0-7d58-4d05-bb7b-6764d1b7865c",
   "metadata": {},
   "outputs": [
    {
     "name": "stdout",
     "output_type": "stream",
     "text": [
      "yroosel\n"
     ]
    }
   ],
   "source": [
    "# STEP 5 bis username\n",
    "first_name = \"Yvan\"\n",
    "last_name = \"Rooseleer\"\n",
    "company = \"BiASC\"\n",
    "address = \"Gravenbosstraat 134\"\n",
    "city = \"Brussel\"\n",
    "\n",
    "user_name = first_name[0] +last_name[0:6]\n",
    "user_name = user_name.lower()  # of upper()\n",
    "print(user_name)\n"
   ]
  },
  {
   "cell_type": "markdown",
   "id": "c9e24b31-7200-42a7-9fcb-a1c56d6ef6c7",
   "metadata": {},
   "source": [
    "**Length of the hypotenuse**"
   ]
  },
  {
   "cell_type": "code",
   "execution_count": 80,
   "id": "5a642331-6368-4da8-9341-2ff04607b9fa",
   "metadata": {},
   "outputs": [
    {
     "name": "stdout",
     "output_type": "stream",
     "text": [
      "c = 5.0\n"
     ]
    }
   ],
   "source": [
    "a = 3.0\n",
    "b = 4.0\n",
    "c = (a ** 2 + b ** 2) ** 0.5\n",
    "print(\"c =\", c)"
   ]
  },
  {
   "cell_type": "markdown",
   "id": "028957d6-628b-4aa7-bbd4-c2b486e6113c",
   "metadata": {},
   "source": [
    "**Simple converter**"
   ]
  },
  {
   "cell_type": "code",
   "execution_count": 91,
   "id": "289a1341-9c7e-44b7-96e6-cb6134ea98ca",
   "metadata": {},
   "outputs": [
    {
     "name": "stdout",
     "output_type": "stream",
     "text": [
      "26.4 miles is 42.5 kilometers\n",
      "42.15 kilometers is 26.18 miles\n"
     ]
    }
   ],
   "source": [
    "kilometers = 42.150\n",
    "miles = 26.4\n",
    "\n",
    "miles_to_kilometers = miles * 1.61\n",
    "kilometers_to_miles = kilometers / 1.61\n",
    "\n",
    "print(miles, \"miles is\", round(miles_to_kilometers, 2), \"kilometers\")\n",
    "print(kilometers, \"kilometers is\", round(kilometers_to_miles, 2), \"miles\")\n"
   ]
  },
  {
   "cell_type": "markdown",
   "id": "469fbf2d-b000-4dd7-8064-0e9c244226a6",
   "metadata": {},
   "source": [
    "**Datetime**"
   ]
  },
  {
   "cell_type": "code",
   "execution_count": 61,
   "id": "8cb55507-01e1-44dc-aea5-0d9f17d81c80",
   "metadata": {},
   "outputs": [
    {
     "name": "stdout",
     "output_type": "stream",
     "text": [
      "Current date and time: 2025-05-07 16:20:15.153099\n"
     ]
    }
   ],
   "source": [
    "# DATETIME STEP 1\n",
    "from datetime import datetime\n",
    "now = datetime.now()\n",
    "print(\"Current date and time:\", now)"
   ]
  },
  {
   "cell_type": "code",
   "execution_count": 62,
   "id": "c5e8fca8-1240-49bc-97d4-0eba355a4acb",
   "metadata": {},
   "outputs": [
    {
     "name": "stdout",
     "output_type": "stream",
     "text": [
      "Europe/Brussels\n"
     ]
    }
   ],
   "source": [
    "# DATETIME STEP 2\n",
    "from datetime import datetime\n",
    "from zoneinfo import ZoneInfo  # Only available in Python 3.9+\n",
    "\n",
    "# Choose a timezone\n",
    "tz = ZoneInfo(\"Europe/Brussels\")\n",
    "print (tz)\n"
   ]
  },
  {
   "cell_type": "code",
   "execution_count": 65,
   "id": "ce48554c-457c-44a5-b84a-745f7f585e6d",
   "metadata": {},
   "outputs": [
    {
     "name": "stdout",
     "output_type": "stream",
     "text": [
      "Date: 07 May 2025\n",
      "Time: 18:24 Europe/Brussels\n"
     ]
    }
   ],
   "source": [
    "# DATETIME STEP 2 bis\n",
    "from datetime import datetime\n",
    "from zoneinfo import ZoneInfo  # Only available in Python 3.9+\n",
    "\n",
    "# Choose a timezone\n",
    "tz = ZoneInfo(\"Europe/Brussels\")\n",
    "\n",
    "# Get current date and time in that timezone\n",
    "now = datetime.now(tz)\n",
    "\n",
    "# Format the date and time\n",
    "MyOS = \"Windows\"\n",
    "if MyOS == \"Windows\":\n",
    "    # Use %#d for Windows; if on Linux/macOS, you can use %-d instead\n",
    "    formatted_date = now.strftime(\"%#d %B %Y\")\n",
    "    formatted_time = now.strftime(\"%H:%M\")\n",
    "else:  \n",
    "    # Use %#d for Windows; if on Linux/macOS, you can use %-d instead\n",
    "    formatted_date = now.strftime(\"%-d %B %Y\")     # e.g. 7 May 2025 (on Unix/macOS)\n",
    "    formatted_time = now.strftime(\"%H:%M\")         # e.g. 13:16\n",
    "# Print the result\n",
    "print(f\"Date: {formatted_date}\")\n",
    "print(f\"Time: {formatted_time} {tz.key}\")"
   ]
  },
  {
   "cell_type": "markdown",
   "id": "ee3c933a-73c6-488f-8ed8-1da60b6f04e6",
   "metadata": {},
   "source": [
    "**Calculating Minutes**"
   ]
  },
  {
   "cell_type": "code",
   "execution_count": 71,
   "id": "941bf70d-134c-4a36-821f-99d07f3f0b57",
   "metadata": {},
   "outputs": [
    {
     "name": "stdout",
     "output_type": "stream",
     "text": [
      "Resultaat: 2:30 is gelijk aan 150 minuten\n"
     ]
    }
   ],
   "source": [
    "## STEP 1\n",
    "## CONVERT HH:MI TO MINUTES\n",
    "## Verander de namen van de variabelen voor meer leesbaarheid\n",
    "HH = 2 # uren\n",
    "MM = 30 # minuten\n",
    "MINS = (HH * 60) + MM # berekend aantal minuten\n",
    "print (\"Resultaat: \" , HH, \":\", MM ,\" is gelijk aan\" , sep=\"\", end=\" \")\n",
    "print(MINS, \"minuten\", sep=\" \")"
   ]
  },
  {
   "cell_type": "code",
   "execution_count": 72,
   "id": "67279b3e-eb49-48b8-9cbf-117301e809a1",
   "metadata": {},
   "outputs": [
    {
     "name": "stdout",
     "output_type": "stream",
     "text": [
      "Result: 1:30:10 is 5410 seconds\n"
     ]
    }
   ],
   "source": [
    "## STEP 2\n",
    "## CONVERT HH MIN SEC TO SECONDS\n",
    "HH = 1\n",
    "MM = 30\n",
    "SS = 10\n",
    "SEC = (HH * 60 * 60) + (MM * 60) + SS\n",
    "print (\"Result: \" , HH, \":\", MM , \":\", SS , \" is\" , sep=\"\", end=\" \")\n",
    "print(SEC, \"seconds\", sep=\" \")"
   ]
  },
  {
   "cell_type": "code",
   "execution_count": 74,
   "id": "a588cb6f-f13b-4b4a-87ed-46f786aedb67",
   "metadata": {},
   "outputs": [
    {
     "name": "stdin",
     "output_type": "stream",
     "text": [
      "How  many hours? (0-48) 48\n",
      "How  many minutes? (0-59) 59\n",
      "How  many seconds? (0-59) 120\n"
     ]
    },
    {
     "name": "stdout",
     "output_type": "stream",
     "text": [
      "Result: 48:59:120 is 176460 seconds\n"
     ]
    }
   ],
   "source": [
    "## STEP 3\n",
    "## CONVERT HH MIN SEC TO SECONDS : INTERACTIVE\n",
    "HH = int(input(\"How  many hours? (0-48)\"))\n",
    "MM = int(input(\"How  many minutes? (0-59)\"))\n",
    "SS = int(input(\"How  many seconds? (0-59)\"))\n",
    "SEC = (HH * 60 * 60) + (MM * 60) + SS\n",
    "print (\"Result: \" , HH, \":\", MM , \":\", SS , \" is\" , sep=\"\", end=\" \")\n",
    "print(SEC, \"seconds\", sep=\" \")"
   ]
  },
  {
   "cell_type": "code",
   "execution_count": 77,
   "id": "22262147-ef0a-4501-ae68-1903e6d3a517",
   "metadata": {},
   "outputs": [
    {
     "name": "stdin",
     "output_type": "stream",
     "text": [
      "How many hours? (0–48, 99 to quit):  2\n",
      "How many minutes? (0–59, 99 to quit):  2\n",
      "How many seconds? (0–59, 99 to quit):  2\n"
     ]
    },
    {
     "name": "stdout",
     "output_type": "stream",
     "text": [
      "Result: 2:2:2 is 7322 seconds\n"
     ]
    }
   ],
   "source": [
    "## STEP 4 -- NOT FINISHED !\n",
    "## CONVERT HH MIN SEC TO SECONDS : INTERACTIVE\n",
    "## Input should stop  if user enters 99\n",
    "\n",
    "def get_valid_input(prompt, min_val, max_val):\n",
    "    while True:\n",
    "        try:\n",
    "            val = int(input(prompt))\n",
    "            if val == 99:\n",
    "                print(\"Exiting...\")\n",
    "                break\n",
    "            if min_val <= val <= max_val:\n",
    "                return val\n",
    "            else:\n",
    "                print(f\"Please enter a value between {min_val} and {max_val}, or 99 to quit.\")\n",
    "        except ValueError:\n",
    "            print(\"Invalid input. Please enter a number.\")\n",
    "\n",
    "HH = get_valid_input(\"How many hours? (0–48, 99 to quit): \", 0, 48)\n",
    "MM = get_valid_input(\"How many minutes? (0–59, 99 to quit): \", 0, 59)\n",
    "SS = get_valid_input(\"How many seconds? (0–59, 99 to quit): \", 0, 59)\n",
    "\n",
    "SEC = (HH * 60 * 60) + (MM * 60) + SS\n",
    "\n",
    "print(\"Result: \", HH, \":\", MM, \":\", SS, \" is\", sep=\"\", end=\" \")\n",
    "print(SEC, \"seconds\", sep=\" \")"
   ]
  },
  {
   "cell_type": "code",
   "execution_count": 79,
   "id": "64d3ab8f-e4b4-45e1-989f-9919320053e7",
   "metadata": {},
   "outputs": [
    {
     "name": "stdout",
     "output_type": "stream",
     "text": [
      "Start of the program\n"
     ]
    },
    {
     "name": "stdin",
     "output_type": "stream",
     "text": [
      "How many hours? (0–48, 99 to quit):  99\n"
     ]
    },
    {
     "name": "stdout",
     "output_type": "stream",
     "text": [
      "End of the program\n"
     ]
    }
   ],
   "source": [
    "## STEP 5\n",
    "## Input stops immediately if user enters 99\n",
    "## Output format: always two digits (e.g. 01:01:01)\n",
    "\n",
    "def get_valid_input(prompt, min_val, max_val):\n",
    "    while True:\n",
    "        try:\n",
    "            val = int(input(prompt))\n",
    "            if val == 99:\n",
    "                return 99\n",
    "            if min_val <= val <= max_val:\n",
    "                return val\n",
    "            else:\n",
    "                print(f\"Please enter a value between {min_val} and {max_val}, or 99 to quit.\")\n",
    "        except ValueError:\n",
    "            print(\"Invalid input. Please enter a number.\")\n",
    "\n",
    "def convert_time_to_seconds():\n",
    "    HH = get_valid_input(\"How many hours? (0–48, 99 to quit): \", 0, 48)\n",
    "    if HH == 99:\n",
    "        return  # stop immediately\n",
    "\n",
    "    MM = get_valid_input(\"How many minutes? (0–59, 99 to quit): \", 0, 59)\n",
    "    if MM == 99:\n",
    "        return  # stop immediately\n",
    "\n",
    "    SS = get_valid_input(\"How many seconds? (0–59, 99 to quit): \", 0, 59)\n",
    "    if SS == 99:\n",
    "        return  # stop immediately\n",
    "\n",
    "    # only executed if all inputs are valid (not 99)\n",
    "    SEC = (HH * 60 * 60) + (MM * 60) + SS\n",
    "    print(f\"Result: {HH:02}:{MM:02}:{SS:02} is {SEC} seconds\")\n",
    "\n",
    "# Run the program\n",
    "print(\"Start of the program\")\n",
    "convert_time_to_seconds()\n",
    "print(\"End of the program\")"
   ]
  }
 ],
 "metadata": {
  "kernelspec": {
   "display_name": "Python [conda env:base] *",
   "language": "python",
   "name": "conda-base-py"
  },
  "language_info": {
   "codemirror_mode": {
    "name": "ipython",
    "version": 3
   },
   "file_extension": ".py",
   "mimetype": "text/x-python",
   "name": "python",
   "nbconvert_exporter": "python",
   "pygments_lexer": "ipython3",
   "version": "3.11.11"
  }
 },
 "nbformat": 4,
 "nbformat_minor": 5
}
