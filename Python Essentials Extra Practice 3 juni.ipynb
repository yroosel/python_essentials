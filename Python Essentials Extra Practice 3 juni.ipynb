{
 "cells": [
  {
   "cell_type": "markdown",
   "id": "21f8d3c7-1a9a-4fdb-ab36-77216a98d435",
   "metadata": {},
   "source": [
    "# Praktijkvoorbeelden 3 juni"
   ]
  },
  {
   "cell_type": "markdown",
   "id": "02537644-c538-427d-b940-6aff41cb5ae1",
   "metadata": {},
   "source": [
    "Here are some tips who to work with script examples from the online course in order to master them.\n",
    "Preparing for the exam means that you have experimented with every key example from the course."
   ]
  },
  {
   "cell_type": "markdown",
   "id": "9c8d3d50-c302-4928-b4e3-b3e1884d2614",
   "metadata": {},
   "source": [
    "## Outputs"
   ]
  },
  {
   "cell_type": "code",
   "execution_count": null,
   "id": "59572b48-0cfb-439c-947b-11dc49c4d2f4",
   "metadata": {},
   "outputs": [],
   "source": []
  },
  {
   "cell_type": "code",
   "execution_count": null,
   "id": "f62f4d90-5e5d-48de-8df3-e87d8ce523d3",
   "metadata": {},
   "outputs": [],
   "source": []
  },
  {
   "cell_type": "markdown",
   "id": "ab67164d-1331-4658-912a-96331e90ec14",
   "metadata": {},
   "source": [
    "## Operators"
   ]
  },
  {
   "cell_type": "code",
   "execution_count": null,
   "id": "ec696290-f7df-4662-ad97-cedfc77464a1",
   "metadata": {},
   "outputs": [],
   "source": []
  },
  {
   "cell_type": "code",
   "execution_count": null,
   "id": "e8491736-34e9-4fd3-892a-935bc6fe75e4",
   "metadata": {},
   "outputs": [],
   "source": []
  },
  {
   "cell_type": "markdown",
   "id": "a8eb1593-e68e-47b6-925f-768a81996fa5",
   "metadata": {},
   "source": [
    "## Conditions"
   ]
  },
  {
   "cell_type": "code",
   "execution_count": null,
   "id": "f11bf1c5-5de5-47fa-ba4d-f339f60c065c",
   "metadata": {},
   "outputs": [],
   "source": []
  },
  {
   "cell_type": "code",
   "execution_count": null,
   "id": "f5b61ea1-2a34-4d95-92c5-247867f0d4e6",
   "metadata": {},
   "outputs": [],
   "source": []
  },
  {
   "cell_type": "markdown",
   "id": "3e9243a4-a32e-4bd1-88eb-f3b54923579b",
   "metadata": {},
   "source": [
    "## Looping"
   ]
  },
  {
   "cell_type": "code",
   "execution_count": null,
   "id": "1f811786-2b2b-46fa-8f09-5253c4405351",
   "metadata": {},
   "outputs": [],
   "source": []
  },
  {
   "cell_type": "code",
   "execution_count": null,
   "id": "c3575859-a26e-456e-8cb7-c18561f4b752",
   "metadata": {},
   "outputs": [],
   "source": []
  },
  {
   "cell_type": "markdown",
   "id": "7b362f7d-fab4-4e7b-a101-262748bbcbd2",
   "metadata": {},
   "source": [
    "## True & False"
   ]
  },
  {
   "cell_type": "code",
   "execution_count": null,
   "id": "fa59c793-1bcb-41c9-be66-ea13ce742059",
   "metadata": {},
   "outputs": [],
   "source": []
  },
  {
   "cell_type": "code",
   "execution_count": null,
   "id": "757ccd65-379f-4142-9080-560137a4cc43",
   "metadata": {},
   "outputs": [],
   "source": []
  },
  {
   "cell_type": "markdown",
   "id": "09b13046-a3ab-4ab8-894c-98f763b6c521",
   "metadata": {},
   "source": [
    "## Logical vs. bit operations"
   ]
  },
  {
   "cell_type": "code",
   "execution_count": null,
   "id": "692caa4d-bbdf-46d2-b766-28a4d569a1e8",
   "metadata": {},
   "outputs": [],
   "source": []
  },
  {
   "cell_type": "code",
   "execution_count": null,
   "id": "dfb88b28-81eb-4c56-80f1-37ca274338b3",
   "metadata": {},
   "outputs": [],
   "source": []
  },
  {
   "cell_type": "markdown",
   "id": "91615111-bd4a-47c7-8170-7612ecf2661b",
   "metadata": {},
   "source": [
    "## Lists"
   ]
  },
  {
   "cell_type": "code",
   "execution_count": null,
   "id": "8dc442c6-0a03-4157-8b32-0d920e8236aa",
   "metadata": {},
   "outputs": [],
   "source": []
  },
  {
   "cell_type": "code",
   "execution_count": null,
   "id": "d70ceb96-f364-44c2-9dc1-2d70a4679f21",
   "metadata": {},
   "outputs": [],
   "source": []
  },
  {
   "cell_type": "markdown",
   "id": "4ce0a3d6-d397-46ac-ab96-ac48ebb27b1a",
   "metadata": {},
   "source": [
    "## Sorting Lists"
   ]
  },
  {
   "cell_type": "code",
   "execution_count": null,
   "id": "3e246374-274c-4132-8419-4ff29940b16a",
   "metadata": {},
   "outputs": [],
   "source": []
  },
  {
   "cell_type": "code",
   "execution_count": null,
   "id": "aed4ff9e-6490-42e3-a9c4-74f084978939",
   "metadata": {},
   "outputs": [],
   "source": []
  },
  {
   "cell_type": "markdown",
   "id": "ca5c2dc8-9b28-4a0f-9cc3-8c8e22ecf2ef",
   "metadata": {},
   "source": [
    "## Slicing"
   ]
  },
  {
   "cell_type": "code",
   "execution_count": null,
   "id": "24866e05-cace-4056-8ec9-694ca1bc93af",
   "metadata": {},
   "outputs": [],
   "source": []
  },
  {
   "cell_type": "code",
   "execution_count": null,
   "id": "ccecd186-2628-4ef7-a19a-3cc7d43af256",
   "metadata": {},
   "outputs": [],
   "source": []
  },
  {
   "cell_type": "markdown",
   "id": "d8f7d5db-929f-4d64-be82-f950a1287641",
   "metadata": {},
   "source": [
    "## List operations"
   ]
  },
  {
   "cell_type": "code",
   "execution_count": null,
   "id": "9f2f8cf5-92e9-4c84-be30-edb6cc602575",
   "metadata": {},
   "outputs": [],
   "source": []
  },
  {
   "cell_type": "code",
   "execution_count": null,
   "id": "1fcc1d57-c541-4ef8-bec2-eaf09b7e28e8",
   "metadata": {},
   "outputs": [],
   "source": []
  },
  {
   "cell_type": "markdown",
   "id": "9b6af6d7-069e-482a-bad1-13ae02134ca2",
   "metadata": {},
   "source": [
    "## Functions"
   ]
  },
  {
   "cell_type": "code",
   "execution_count": null,
   "id": "57a2dd4c-26bf-4c03-a8a8-c40c352570da",
   "metadata": {},
   "outputs": [],
   "source": []
  },
  {
   "cell_type": "code",
   "execution_count": null,
   "id": "b0daf9ae-6681-4ea1-8633-ff3bccbde352",
   "metadata": {},
   "outputs": [],
   "source": []
  },
  {
   "cell_type": "markdown",
   "id": "36a6d861-796b-4096-8b1c-98948091124e",
   "metadata": {},
   "source": [
    "## Tuples"
   ]
  },
  {
   "cell_type": "code",
   "execution_count": null,
   "id": "4a4c598d-da19-4285-b0c9-3c60f2ef3dcf",
   "metadata": {},
   "outputs": [],
   "source": []
  },
  {
   "cell_type": "code",
   "execution_count": null,
   "id": "6597e87c-9b85-4c74-a590-231c551f2e97",
   "metadata": {},
   "outputs": [],
   "source": []
  },
  {
   "cell_type": "markdown",
   "id": "2d77e0a4-23bd-4c38-b01a-ffdaeb3f2356",
   "metadata": {},
   "source": [
    "## Dictionaries"
   ]
  },
  {
   "cell_type": "code",
   "execution_count": null,
   "id": "c057b541-343a-42f5-b122-e61616f56295",
   "metadata": {},
   "outputs": [],
   "source": []
  },
  {
   "cell_type": "code",
   "execution_count": null,
   "id": "cbd153b3-afd1-40dd-9a68-a7e32c2754e3",
   "metadata": {},
   "outputs": [],
   "source": []
  },
  {
   "cell_type": "markdown",
   "id": "aaae737a-0421-450f-a939-22982cf22404",
   "metadata": {},
   "source": [
    "## Exceptions"
   ]
  },
  {
   "cell_type": "code",
   "execution_count": null,
   "id": "ff58d027-b48c-44d6-9f72-35eb83c3ee24",
   "metadata": {},
   "outputs": [],
   "source": []
  },
  {
   "cell_type": "code",
   "execution_count": null,
   "id": "58bb7047-a221-449b-b63f-1c12ce8d91c9",
   "metadata": {},
   "outputs": [],
   "source": []
  },
  {
   "cell_type": "code",
   "execution_count": null,
   "id": "c355c490-5c58-4989-85ff-e045012700fd",
   "metadata": {},
   "outputs": [],
   "source": []
  }
 ],
 "metadata": {
  "kernelspec": {
   "display_name": "Python [conda env:base] *",
   "language": "python",
   "name": "conda-base-py"
  },
  "language_info": {
   "codemirror_mode": {
    "name": "ipython",
    "version": 3
   },
   "file_extension": ".py",
   "mimetype": "text/x-python",
   "name": "python",
   "nbconvert_exporter": "python",
   "pygments_lexer": "ipython3",
   "version": "3.11.11"
  }
 },
 "nbformat": 4,
 "nbformat_minor": 5
}
