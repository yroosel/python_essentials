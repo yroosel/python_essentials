{
 "cells": [
  {
   "cell_type": "markdown",
   "id": "21f8d3c7-1a9a-4fdb-ab36-77216a98d435",
   "metadata": {},
   "source": [
    "# Praktijkvoorbeelden 3 juni"
   ]
  },
  {
   "cell_type": "markdown",
   "id": "02537644-c538-427d-b940-6aff41cb5ae1",
   "metadata": {},
   "source": [
    "Here are some tips who to work with script examples from the online course in order to master them.\n",
    "Preparing for the exam means that you have experimented with every key example from the course."
   ]
  },
  {
   "cell_type": "markdown",
   "id": "9c8d3d50-c302-4928-b4e3-b3e1884d2614",
   "metadata": {},
   "source": [
    "## Outputs"
   ]
  },
  {
   "cell_type": "code",
   "execution_count": 28,
   "id": "59572b48-0cfb-439c-947b-11dc49c4d2f4",
   "metadata": {},
   "outputs": [
    {
     "name": "stdout",
     "output_type": "stream",
     "text": [
      "fish & chips\n",
      "Procter&Gamble\n",
      "Johnson@Johnson\n"
     ]
    }
   ],
   "source": [
    "print(\"fish\", \"chips\", sep=\" & \")\n",
    "print(\"Procter\", \"Gamble\", sep=\"&\")\n",
    "print(\"Johnson\", \"Johnson\", sep=\"@\")"
   ]
  },
  {
   "cell_type": "code",
   "execution_count": 34,
   "id": "f62f4d90-5e5d-48de-8df3-e87d8ce523d3",
   "metadata": {},
   "outputs": [
    {
     "name": "stdout",
     "output_type": "stream",
     "text": [
      "fish and chips or Procter and Gamble or Johnson and Johnson\n"
     ]
    }
   ],
   "source": [
    "print(\"fish\", \"chips\", sep=\" and \", end=\" or \")\n",
    "print(\"Procter\", \"Gamble\", sep=\" and \", end=\" or \")\n",
    "print(\"Johnson\", \"Johnson\", sep=\" and \")"
   ]
  },
  {
   "cell_type": "code",
   "execution_count": 42,
   "id": "c47f9ccb-eaf9-4e41-a81a-b168bbbdd46e",
   "metadata": {},
   "outputs": [
    {
     "name": "stdout",
     "output_type": "stream",
     "text": [
      "6\n",
      "P*y*t*h*o*n*"
     ]
    }
   ],
   "source": [
    "word = \"Python\"\n",
    "print(len(word))\n",
    "for letter in word:\n",
    "    print(letter, end=\"*\")"
   ]
  },
  {
   "cell_type": "code",
   "execution_count": 52,
   "id": "eb330800-2972-4a91-bd97-1dc2be7564f0",
   "metadata": {},
   "outputs": [
    {
     "name": "stdout",
     "output_type": "stream",
     "text": [
      "P\n",
      "y\n",
      "t\n",
      "h\n",
      "o\n",
      "n\n",
      "P y t h o n "
     ]
    }
   ],
   "source": [
    "# Not in  the course but similar\n",
    "text = \"Python is powerful\"\n",
    "for letter in text:\n",
    "    if letter == \" \":\n",
    "        break  # Stop when the first space is found\n",
    "    print(letter)    \n",
    "for letter in text:\n",
    "    if letter == \" \":\n",
    "        break  # Stop when the first space is found\n",
    "    print(letter, end=\" \")"
   ]
  },
  {
   "cell_type": "markdown",
   "id": "ab67164d-1331-4658-912a-96331e90ec14",
   "metadata": {},
   "source": [
    "## Operators"
   ]
  },
  {
   "cell_type": "code",
   "execution_count": 66,
   "id": "ec696290-f7df-4662-ad97-cedfc77464a1",
   "metadata": {},
   "outputs": [
    {
     "name": "stdout",
     "output_type": "stream",
     "text": [
      "1\n",
      "3\n"
     ]
    }
   ],
   "source": [
    "x = 2 // 2 * 3    # Both // and * have the same precedence, and are evaluated left to right\n",
    "print(2 // 2)\n",
    "print(x)"
   ]
  },
  {
   "cell_type": "code",
   "execution_count": 68,
   "id": "e8491736-34e9-4fd3-892a-935bc6fe75e4",
   "metadata": {},
   "outputs": [
    {
     "name": "stdout",
     "output_type": "stream",
     "text": [
      "1 1 2\n"
     ]
    }
   ],
   "source": [
    "# Multiple assignment is evaluated in parallel (right-hand side is evaluated first).\n",
    "# You can reuse variables on both sides safely in Python.\n",
    "x = 1\n",
    "y = 2\n",
    "x, y, z = x, x, y\n",
    "z, y, z = x, y, z\n",
    "\n",
    "print(x, y, z)"
   ]
  },
  {
   "cell_type": "code",
   "execution_count": 72,
   "id": "08a78bdb-245d-40b4-af99-8469f843e943",
   "metadata": {},
   "outputs": [
    {
     "name": "stdout",
     "output_type": "stream",
     "text": [
      "1\n"
     ]
    }
   ],
   "source": [
    "x = 11\n",
    "y = 4\n",
    " \n",
    "x = x % y    # x = 11 % 4 result: 3\n",
    "x = x % y    # x = 3 % 4  result: 3   # result stays 3\n",
    "y = y % x    # y = 4 % 3  result: 1\n",
    " \n",
    "print(y)"
   ]
  },
  {
   "cell_type": "code",
   "execution_count": 82,
   "id": "45b2fbd7-ec46-42b1-b1f1-39cb634d6995",
   "metadata": {},
   "outputs": [
    {
     "name": "stdout",
     "output_type": "stream",
     "text": [
      "1.0\n"
     ]
    }
   ],
   "source": [
    "a = 6\n",
    "b = 3\n",
    "a /= 2 * b # => solve this\n",
    "print(a)\n",
    " "
   ]
  },
  {
   "cell_type": "code",
   "execution_count": 98,
   "id": "172ee5d4-aa26-49d4-8e89-8a57638f88b3",
   "metadata": {},
   "outputs": [
    {
     "name": "stdout",
     "output_type": "stream",
     "text": [
      "y = -1.0\n"
     ]
    }
   ],
   "source": [
    "x = 0\n",
    "x = float(x)                           \n",
    "# x becomes a float: 0.0\n",
    "y = 3 * x**3 - 2 * x**2 + 3 * x - 1\n",
    "# This code evaluates a cubic polynomial, a polynomial of degree 3, meaning the highest exponent of the variable is 3\n",
    "# The final value is a float, even though the result looks like a whole number.\n",
    "\n",
    "print(\"y =\", y)"
   ]
  },
  {
   "cell_type": "markdown",
   "id": "32d6a5c3-0601-4d41-ab6c-b1333443285b",
   "metadata": {},
   "source": [
    "**What Does PEMDAS Stand For?**\n",
    "\n",
    "Standard order of operations\n",
    "\n",
    "- P Parentheses (2 + 3) * 4\n",
    "- E Exponents (powers) 2 ** 3 → 8\n",
    "- MD Multiplication and Division (left to right) 6 / 2 * 3 → 9.0\n",
    "- AS Addition and Subtraction (left to right)"
   ]
  },
  {
   "cell_type": "markdown",
   "id": "a8eb1593-e68e-47b6-925f-768a81996fa5",
   "metadata": {},
   "source": [
    "## Conditions"
   ]
  },
  {
   "cell_type": "code",
   "execution_count": 114,
   "id": "f11bf1c5-5de5-47fa-ba4d-f339f60c065c",
   "metadata": {},
   "outputs": [
    {
     "name": "stdout",
     "output_type": "stream",
     "text": [
      "x == 10\n",
      "x > 5\n"
     ]
    }
   ],
   "source": [
    "x = 10\n",
    " \n",
    "if x == 10: # True\n",
    "    print(\"x == 10\")\n",
    " \n",
    "if x > 15: # False\n",
    "    print(\"x > 15\")\n",
    " \n",
    "elif x > 10: # False\n",
    "    print(\"x > 10\")\n",
    " \n",
    "elif x > 5: # True\n",
    "    print(\"x > 5\")\n",
    " \n",
    "else:\n",
    "    print(\"else will not be executed\")"
   ]
  },
  {
   "cell_type": "code",
   "execution_count": 122,
   "id": "f5b61ea1-2a34-4d95-92c5-247867f0d4e6",
   "metadata": {},
   "outputs": [
    {
     "name": "stdout",
     "output_type": "stream",
     "text": [
      "nested: x == 10\n"
     ]
    }
   ],
   "source": [
    "# nested conditions\n",
    "x = 10\n",
    " \n",
    "if x > 5: # True\n",
    "    if x == 6: # False\n",
    "        print(\"nested: x == 6\")\n",
    "    elif x == 10: # True\n",
    "        print(\"nested: x == 10\")\n",
    "    else:\n",
    "        print(\"nested: else\")\n",
    "else:\n",
    "    print(\"else\")"
   ]
  },
  {
   "cell_type": "markdown",
   "id": "3e9243a4-a32e-4bd1-88eb-f3b54923579b",
   "metadata": {},
   "source": [
    "## Looping"
   ]
  },
  {
   "cell_type": "code",
   "execution_count": 132,
   "id": "1f811786-2b2b-46fa-8f09-5253c4405351",
   "metadata": {},
   "outputs": [
    {
     "name": "stdout",
     "output_type": "stream",
     "text": [
      "*\n",
      "*\n",
      "*\n",
      "*\n"
     ]
    }
   ],
   "source": [
    "# How many stars (*) will the following snippet send to the console?\n",
    "i = 3\n",
    "while i <= 10 :\n",
    "    i += 2 # => rewrite this\n",
    "    print(\"*\")"
   ]
  },
  {
   "cell_type": "code",
   "execution_count": 146,
   "id": "c3575859-a26e-456e-8cb7-c18561f4b752",
   "metadata": {},
   "outputs": [
    {
     "name": "stdout",
     "output_type": "stream",
     "text": [
      "1 *\n"
     ]
    }
   ],
   "source": [
    "# How many stars (*) will the following snippet send to the console?\n",
    "i = 0\n",
    "while i <= 10 :\n",
    "    i += 1  # => rewrite this\n",
    "    if i % 2 == 0:\n",
    "      break\n",
    "    print(i, \"*\")"
   ]
  },
  {
   "cell_type": "code",
   "execution_count": 142,
   "id": "023da5d4-f6cd-4026-9690-724a4b72f786",
   "metadata": {},
   "outputs": [
    {
     "name": "stdout",
     "output_type": "stream",
     "text": [
      "1 #\n",
      "3 #\n",
      "5 #\n"
     ]
    }
   ],
   "source": [
    "var = 0\n",
    "while var < 6:\n",
    "    var += 1\n",
    "    if var % 2 == 0:\n",
    "        continue    # skips printing\n",
    "    print(var , \"#\")"
   ]
  },
  {
   "cell_type": "code",
   "execution_count": 148,
   "id": "fc47af75-3289-4b53-a823-4511f62887b0",
   "metadata": {},
   "outputs": [
    {
     "name": "stdout",
     "output_type": "stream",
     "text": [
      "0\n",
      "1\n",
      "2\n",
      "3\n",
      "4\n",
      "else: 4\n"
     ]
    }
   ],
   "source": [
    "for i in range(5):\n",
    "    print(i)\n",
    "else:\n",
    "    print(\"else:\", i)"
   ]
  },
  {
   "cell_type": "code",
   "execution_count": 158,
   "id": "93d8a2bd-ea14-4074-ba8a-67baa3d4e0f6",
   "metadata": {},
   "outputs": [
    {
     "name": "stdout",
     "output_type": "stream",
     "text": [
      "0 1 2 "
     ]
    }
   ],
   "source": [
    "for i in range(3):\n",
    "    print(i, end=\" \")  # Outputs: 0 1 2\n",
    "    #print(i)  # Outputs: 0 1 2"
   ]
  },
  {
   "cell_type": "code",
   "execution_count": 166,
   "id": "a09a567a-a2d0-4ed8-998c-338bacaca74b",
   "metadata": {},
   "outputs": [
    {
     "name": "stdout",
     "output_type": "stream",
     "text": [
      "20 15 10 5 "
     ]
    }
   ],
   "source": [
    "for i in range(20, 2, -5):\n",
    "    print(i, end=\" \")  # Outputs: 6, 4, 2"
   ]
  },
  {
   "cell_type": "code",
   "execution_count": 178,
   "id": "930e2aaa-e183-4a2e-9946-03cb45bee522",
   "metadata": {},
   "outputs": [
    {
     "name": "stdout",
     "output_type": "stream",
     "text": [
      "range(4, 0, -1)\n",
      "in n: 3\n",
      "in n: 2\n",
      "in n: 1\n",
      "in n: 0\n",
      "else: 1\n"
     ]
    }
   ],
   "source": [
    "n = range(4,0,-1)\n",
    "print(n)\n",
    "for num in n:\n",
    "    print(\"in n:\", num - 1)\n",
    "else:\n",
    "    print(\"else:\", num)"
   ]
  },
  {
   "cell_type": "code",
   "execution_count": 190,
   "id": "54fa60cd-c0bd-4b6e-b73a-c4ab4fcab300",
   "metadata": {},
   "outputs": [
    {
     "name": "stdout",
     "output_type": "stream",
     "text": [
      "20\n",
      "15\n",
      "10\n",
      "5\n"
     ]
    }
   ],
   "source": [
    "for i in range(20, 0, -5):\n",
    "    print(i)"
   ]
  },
  {
   "cell_type": "code",
   "execution_count": 192,
   "id": "23b069a4-7856-4480-812c-3a26fa39a5b5",
   "metadata": {},
   "outputs": [
    {
     "name": "stdout",
     "output_type": "stream",
     "text": [
      "100\n",
      "101\n",
      "102\n",
      "103\n",
      "104\n",
      "105\n",
      "106\n",
      "107\n",
      "108\n",
      "109\n",
      "110\n",
      "else: 110\n"
     ]
    }
   ],
   "source": [
    "i = 111\n",
    "for i in range(100, 111):\n",
    "    print(i)\n",
    "else:\n",
    "    print(\"else:\", i)"
   ]
  },
  {
   "cell_type": "code",
   "execution_count": 198,
   "id": "0c362dd7-8ed7-495c-9243-80b94a6a04d1",
   "metadata": {},
   "outputs": [
    {
     "name": "stdout",
     "output_type": "stream",
     "text": [
      "Looping:  0\n",
      "Looping:  1\n",
      "Looping:  2\n",
      "Looping:  3\n",
      "Looping:  4\n",
      "Looping:  5\n",
      "Looping:  6\n",
      "Looping:  7\n",
      "Looping:  8\n",
      "Looping:  9\n"
     ]
    }
   ],
   "source": [
    "for i in range(10):\n",
    "    print(\"Looping: \", i)\n",
    "    pass # <= placeholder statement. It does nothing and is used when a statement is syntactically required but no action is needed."
   ]
  },
  {
   "cell_type": "code",
   "execution_count": 212,
   "id": "e09f6ca8-6ecd-4c94-ad55-6514a906aecb",
   "metadata": {},
   "outputs": [],
   "source": [
    "for i in range(1, 1): # <= Start at 1 and go up to but not including 1\n",
    "    print(\"The value of i is currently:\", i)"
   ]
  },
  {
   "cell_type": "code",
   "execution_count": 224,
   "id": "5a3d6e3b-38f7-48e2-a4a1-e0798aa81477",
   "metadata": {},
   "outputs": [
    {
     "name": "stdout",
     "output_type": "stream",
     "text": [
      "The value of i is currently: 20\n",
      "The value of i is currently: 15\n",
      "The value of i is currently: 10\n",
      "The value of i is currently: 5\n",
      "The value of i is currently: 0\n"
     ]
    }
   ],
   "source": [
    "for i in range(20, -5, -5): # <= Start at -2 and go up to but not including 1\n",
    "    print(\"The value of i is currently:\", i)"
   ]
  },
  {
   "cell_type": "code",
   "execution_count": 232,
   "id": "22c929fa-8a56-4f3f-8ebc-4a9bd3516a1a",
   "metadata": {},
   "outputs": [
    {
     "name": "stdout",
     "output_type": "stream",
     "text": [
      "2 to the power of 0 is 1\n",
      "2 to the power of 1 is 2\n",
      "2 to the power of 2 is 4\n",
      "2 to the power of 3 is 8\n",
      "2 to the power of 4 is 16\n",
      "2 to the power of 5 is 32\n",
      "2 to the power of 6 is 64\n",
      "2 to the power of 7 is 128\n",
      "2 to the power of 8 is 256\n",
      "2 to the power of 9 is 512\n",
      "2 to the power of 10 is 1024\n",
      "2 to the power of 11 is 2048\n",
      "2 to the power of 12 is 4096\n",
      "2 to the power of 13 is 8192\n",
      "2 to the power of 14 is 16384\n",
      "2 to the power of 15 is 32768\n",
      "2 to the power of 16 is 65536\n",
      "2 to the power of 17 is 131072\n",
      "2 to the power of 18 is 262144\n",
      "2 to the power of 19 is 524288\n",
      "2 to the power of 20 is 1048576\n"
     ]
    }
   ],
   "source": [
    "power = 1\n",
    "# print(range(8))\n",
    "for expo in range(21):\n",
    "    print(\"2 to the power of\", expo, \"is\", power)\n",
    "    power *= 2"
   ]
  },
  {
   "cell_type": "code",
   "execution_count": 234,
   "id": "6b206d8a-a449-474b-bfe8-3b1461e8bc98",
   "metadata": {},
   "outputs": [
    {
     "name": "stdout",
     "output_type": "stream",
     "text": [
      "The break instruction:\n",
      "Inside loop: 1\n",
      "Inside loop: 2\n",
      "Outside loop\n"
     ]
    }
   ],
   "source": [
    "# break - example\n",
    "\n",
    "print(\"The break instruction:\")\n",
    "for i in range(1, 6): # 1 2 3 4 5\n",
    "    if i == 3:\n",
    "        break    # The break statement exits the loop immediately when i == 3\n",
    "    print(\"Inside loop:\", i)\n",
    "print(\"Outside loop\")"
   ]
  },
  {
   "cell_type": "code",
   "execution_count": 236,
   "id": "c0b230ff-6b91-4f1c-9226-42b66cf6c8c8",
   "metadata": {},
   "outputs": [
    {
     "name": "stdout",
     "output_type": "stream",
     "text": [
      "\n",
      "The continue instruction:\n",
      "Inside loop: 1\n",
      "Inside loop: 2\n",
      "Inside loop: 4\n",
      "Inside loop: 5\n",
      "Outside loop\n"
     ]
    }
   ],
   "source": [
    "print(\"\\nThe continue instruction:\")\n",
    "for i in range(1, 6):\n",
    "    if i == 3:\n",
    "        continue # Skips the rest of the loop body for that iteration\n",
    "    print(\"Inside loop:\", i)\n",
    "print(\"Outside loop\")"
   ]
  },
  {
   "cell_type": "markdown",
   "id": "c52ffd79-a964-47da-a33a-cb348c38267d",
   "metadata": {},
   "source": [
    "**Influencing loops: continue vs break vs pass**\n",
    "\n",
    "- **continue**\n",
    "Skips the rest of the current iteration - When you want to ignore specific values\n",
    "- **break**\n",
    "Exits the entire loop early - When a condition is met to stop looping\n",
    "- **pass**\n",
    "Does nothing, placeholder - Used to write code that runs later"
   ]
  },
  {
   "cell_type": "code",
   "execution_count": 245,
   "id": "52ea984c-55fb-49ff-b5c2-230e1085167a",
   "metadata": {},
   "outputs": [
    {
     "name": "stdout",
     "output_type": "stream",
     "text": [
      "john.smith\n"
     ]
    }
   ],
   "source": [
    "username = \"\"\n",
    "for ch in \"john.smith@pythoninstitute.org\":\n",
    "    if ch == \"@\":\n",
    "        break\n",
    "    username = username + ch    \n",
    "    ##print(ch, end=\"\")\n",
    "print(username)"
   ]
  },
  {
   "cell_type": "code",
   "execution_count": 247,
   "id": "f6ee37e3-65de-4086-9d9e-84fac55521ae",
   "metadata": {},
   "outputs": [
    {
     "name": "stdout",
     "output_type": "stream",
     "text": [
      "x165x318x651x"
     ]
    }
   ],
   "source": [
    "for digit in \"0165031806510\":\n",
    "    if digit == \"0\":\n",
    "        print(\"x\", end=\"\")\n",
    "        continue\n",
    "    print(digit, end=\"\")"
   ]
  },
  {
   "cell_type": "markdown",
   "id": "7b362f7d-fab4-4e7b-a101-262748bbcbd2",
   "metadata": {},
   "source": [
    "## True & False"
   ]
  },
  {
   "cell_type": "code",
   "execution_count": 253,
   "id": "fa59c793-1bcb-41c9-be66-ea13ce742059",
   "metadata": {},
   "outputs": [
    {
     "name": "stdout",
     "output_type": "stream",
     "text": [
      "True\n",
      "False\n",
      "True\n"
     ]
    }
   ],
   "source": [
    "var = 1\n",
    "print(var != 0)              # var != 0 means \"var is not equal to 0\" ; 1 != 0 → True\n",
    "print((var == 0))\n",
    "print(not (var == 0))        # var == 0 → 1 == 0 → False ; not False → True"
   ]
  },
  {
   "cell_type": "code",
   "execution_count": 257,
   "id": "757ccd65-379f-4142-9080-560137a4cc43",
   "metadata": {},
   "outputs": [
    {
     "name": "stdout",
     "output_type": "stream",
     "text": [
      "128 512 64\n"
     ]
    }
   ],
   "source": [
    "# Binary left shift and binary right shift\n",
    "var = 128                    # 128 = 0b1000_0000  (just a 1 followed by 7 zeros) \"10000000\" => 01000000\n",
    "var_right = var >> 1         # bitwise right shift: Shifts all bits one place to the right  ; Equivalent to integer division by 2\n",
    "var_left = var << 2          # bitwise left shift:  Shifts all bits two places to the left  ; Equivalent to multiplying by 4 (because 2**2 = 4)\n",
    "print(var, var_left, var_right)"
   ]
  },
  {
   "cell_type": "code",
   "execution_count": 265,
   "id": "a85b51e2-d048-40c5-8361-f63afe514ea3",
   "metadata": {},
   "outputs": [
    {
     "name": "stdout",
     "output_type": "stream",
     "text": [
      "1:#\n",
      "2:#\n",
      "4:#\n",
      "8:#\n",
      "16:#\n",
      "32:#\n",
      "64:#\n",
      "128:#\n",
      "256:#\n",
      "512:#\n"
     ]
    }
   ],
   "source": [
    "var = 1\n",
    "while var < 1024:\n",
    "    print(var, \"#\", sep=\":\")\n",
    "    var = var << 1    # var << 1 shifts the bits of var left by 1 position (same as multiplying by 2)\n",
    "    "
   ]
  },
  {
   "cell_type": "code",
   "execution_count": 267,
   "id": "c51ec553-94e9-4204-9b5b-b0680c28ecf3",
   "metadata": {},
   "outputs": [
    {
     "name": "stdout",
     "output_type": "stream",
     "text": [
      "1024:#\n",
      "512:#\n",
      "256:#\n",
      "128:#\n",
      "64:#\n",
      "32:#\n",
      "16:#\n",
      "8:#\n",
      "4:#\n",
      "2:#\n"
     ]
    }
   ],
   "source": [
    "var = 1024\n",
    "while var > 1:\n",
    "    print(var, \"#\", sep=\":\")\n",
    "    var = var >> 1    # var << 1 shifts the bits of var left by 1 position (same as dividing by 2)"
   ]
  },
  {
   "cell_type": "code",
   "execution_count": 269,
   "id": "db309da4-eb48-4526-9e6f-0c15b8386f17",
   "metadata": {},
   "outputs": [
    {
     "name": "stdout",
     "output_type": "stream",
     "text": [
      "False\n",
      "True\n",
      "False\n"
     ]
    }
   ],
   "source": [
    "# Logical operators\n",
    "x = True\n",
    "y = False\n",
    "\n",
    "print(x and y)   # Logical AND\n",
    "print(x or y)    # Logical OR\n",
    "print(not x)     # Logical NOT"
   ]
  },
  {
   "cell_type": "markdown",
   "id": "09b13046-a3ab-4ab8-894c-98f763b6c521",
   "metadata": {},
   "source": [
    "## Logical vs. bit operations"
   ]
  },
  {
   "cell_type": "code",
   "execution_count": 279,
   "id": "692caa4d-bbdf-46d2-b766-28a4d569a1e8",
   "metadata": {},
   "outputs": [
    {
     "name": "stdout",
     "output_type": "stream",
     "text": [
      "1\n",
      "2\n",
      "4\n",
      "7\n"
     ]
    }
   ],
   "source": [
    "READ    = 1 << 0  # 0001\n",
    "WRITE   = 1 << 1  # 0010\n",
    "EXECUTE = 1 << 2  # 0100\n",
    "print(READ)\n",
    "print(WRITE)\n",
    "print(EXECUTE)\n",
    "print(READ+WRITE+EXECUTE)"
   ]
  },
  {
   "cell_type": "code",
   "execution_count": 281,
   "id": "dfb88b28-81eb-4c56-80f1-37ca274338b3",
   "metadata": {},
   "outputs": [
    {
     "name": "stdout",
     "output_type": "stream",
     "text": [
      "False\n"
     ]
    }
   ],
   "source": [
    "x = 1\n",
    "y = 0\n",
    "\n",
    "z = ((x == y) and (x == y)) or not(x == y)\n",
    "\n",
    "    # x == y                      1 == 0 → False\n",
    "    # ((x == y) and (x == y))     False and False → False\n",
    "    # not(x == y)                 not(False) → True\n",
    "\n",
    "print(not(z))"
   ]
  },
  {
   "cell_type": "code",
   "execution_count": 283,
   "id": "41b4e2c7-bfae-419c-bf3a-08ea93169fbe",
   "metadata": {},
   "outputs": [
    {
     "name": "stdout",
     "output_type": "stream",
     "text": [
      "0\n",
      "1\n",
      "1\n",
      "2\n"
     ]
    }
   ],
   "source": [
    "# Bit Operations\n",
    "a = 1        # binary: 0001\n",
    "b = 0        # binary: 0000\n",
    "\n",
    "c = a & b    # AND: 1 & 0 = 0\n",
    "d = a | b    # OR:  1 | 0 = 1\n",
    "e = a ^ b    # XOR: 1 ^ 0 = 1\n",
    "\n",
    "print(c)\n",
    "print(d)\n",
    "print(e)\n",
    "print(c + d + e)"
   ]
  },
  {
   "cell_type": "code",
   "execution_count": 285,
   "id": "7093da73-bd4e-48d1-86f4-6b5dca4656be",
   "metadata": {},
   "outputs": [
    {
     "name": "stdout",
     "output_type": "stream",
     "text": [
      "0 5 -5 1 1 16\n"
     ]
    }
   ],
   "source": [
    "# Bit Operations\n",
    "z = 8   # Binary: 1000\n",
    "x = 4   # Binary: 0100\n",
    "y = 1   # Binary: 0001\n",
    " \n",
    "a = x & y    # Bitwise AND: 0100 & 0001 → 0000 → 0\n",
    "\n",
    "b = x | y    # Bitwise OR: 0100 | 0001 → 0101 → 5\n",
    "\n",
    "c = ~x       # tricky! Bitwise NOT: flips all the bits of x\n",
    "             # x = 4 → binary: 0000 0100\n",
    "             # ~x = bitwise NOT = 1111 1011 in 2’s complement (for signed integers)\n",
    "             # This equals -5 in Python (because Python uses signed integers)\n",
    "\n",
    "d = x ^ 5    # Bitwise XOR: 0100 ^ 0101 → 0001 → 1\n",
    "e = x >> 2   # Right shift: 0100 becomes 0001 → 1\n",
    "f = x << 2   # Left shift: 0100 becomes 10000 → 16\n",
    " \n",
    "print(a, b, c, d, e, f)"
   ]
  },
  {
   "cell_type": "markdown",
   "id": "91615111-bd4a-47c7-8170-7612ecf2661b",
   "metadata": {},
   "source": [
    "## Lists"
   ]
  },
  {
   "cell_type": "code",
   "execution_count": 287,
   "id": "8dc442c6-0a03-4157-8b32-0d920e8236aa",
   "metadata": {},
   "outputs": [
    {
     "name": "stdout",
     "output_type": "stream",
     "text": [
      "[2, 1, 0]\n"
     ]
    }
   ],
   "source": [
    "vals = [0, 1, 2]\n",
    "vals[0], vals[2] = vals[2], vals[0]\n",
    "# This is a simultaneous swap in Python ; It swaps the first and last elements of the list.\n",
    "print(vals)"
   ]
  },
  {
   "cell_type": "code",
   "execution_count": 289,
   "id": "6e2d64e7-3cb8-4877-98a5-7289fc0fb22b",
   "metadata": {},
   "outputs": [
    {
     "name": "stdout",
     "output_type": "stream",
     "text": [
      "[2]\n"
     ]
    }
   ],
   "source": [
    "my_list = [1, 2, 3, 4]\n",
    "print(my_list[-3:-2])\n",
    "#\" Start at index -3 (value 2)\n",
    "# Stop before index -2 (value 3)\n",
    "# So the result is a list containing only [2]"
   ]
  },
  {
   "cell_type": "code",
   "execution_count": 291,
   "id": "d70ceb96-f364-44c2-9dc1-2d70a4679f21",
   "metadata": {},
   "outputs": [
    {
     "name": "stdout",
     "output_type": "stream",
     "text": [
      "Original list contents: [10, 5, 7, 2, 1]\n",
      "New list contents:  [111, 5, 7, 2, 1]\n"
     ]
    }
   ],
   "source": [
    "numbers = [10, 5, 7, 2, 1]\n",
    "print(\"Original list contents:\", numbers)    # Printing original list contents.\n",
    " \n",
    "numbers[0] = 111\n",
    "print(\"New list contents: \", numbers)        # Current list contents."
   ]
  },
  {
   "cell_type": "code",
   "execution_count": 305,
   "id": "2100f2ca-67ed-4bfd-99b9-9ed1d2af76f7",
   "metadata": {},
   "outputs": [
    {
     "name": "stdout",
     "output_type": "stream",
     "text": [
      "4\n",
      "222\n",
      "5\n",
      "[111, 7, 2, 222, 444]\n",
      "444\n"
     ]
    }
   ],
   "source": [
    "numbers = [111, 7, 2, 222]\n",
    "print(len(numbers))\n",
    "print(numbers[-1])\n",
    "numbers.append(444)\n",
    "print(len(numbers))\n",
    "print(numbers)\n",
    "print(numbers[-1])"
   ]
  },
  {
   "cell_type": "markdown",
   "id": "4ce0a3d6-d397-46ac-ab96-ac48ebb27b1a",
   "metadata": {},
   "source": [
    "## Sorting Lists"
   ]
  },
  {
   "cell_type": "code",
   "execution_count": 310,
   "id": "3e246374-274c-4132-8419-4ff29940b16a",
   "metadata": {},
   "outputs": [
    {
     "name": "stdout",
     "output_type": "stream",
     "text": [
      "['Ann', 'Dave', 'Fred', 'Zoe']\n"
     ]
    }
   ],
   "source": [
    "lst = [\"Dave\", \"Fred\", \"Ann\", \"Zoe\"]\n",
    "lst.sort()\n",
    " \n",
    "print(lst)"
   ]
  },
  {
   "cell_type": "code",
   "execution_count": 314,
   "id": "e70cb934-a75f-40bc-9252-9edc5848de91",
   "metadata": {},
   "outputs": [
    {
     "name": "stdout",
     "output_type": "stream",
     "text": [
      "[' ', 'A', 'B', 'C']\n"
     ]
    }
   ],
   "source": [
    "a = \"A\"\n",
    "b = \"B\"\n",
    "c = \"C\"\n",
    "d = \" \"\n",
    " \n",
    "lst = [a, b, c, d]\n",
    "lst.sort()\n",
    " \n",
    "print(lst)"
   ]
  },
  {
   "cell_type": "markdown",
   "id": "ca5c2dc8-9b28-4a0f-9cc3-8c8e22ecf2ef",
   "metadata": {},
   "source": [
    "## Slicing"
   ]
  },
  {
   "cell_type": "code",
   "execution_count": 316,
   "id": "24866e05-cace-4056-8ec9-694ca1bc93af",
   "metadata": {},
   "outputs": [
    {
     "name": "stdout",
     "output_type": "stream",
     "text": [
      "[]\n"
     ]
    }
   ],
   "source": [
    "inventory = ['apple', 'banana', 'cherry']\n",
    "copy_inventory = inventory\n",
    "del copy_inventory[:]\n",
    "print(copy_inventory)"
   ]
  },
  {
   "cell_type": "code",
   "execution_count": 320,
   "id": "ccecd186-2628-4ef7-a19a-3cc7d43af256",
   "metadata": {},
   "outputs": [
    {
     "name": "stdout",
     "output_type": "stream",
     "text": [
      "[10, 8, 6, 4, 2]\n",
      "[8, 6, 4]\n"
     ]
    }
   ],
   "source": [
    "my_list = [10, 8, 6, 4, 2]\n",
    "new_list = my_list[1:4]    # Start at index 1 (which is 8); Go up to, but not including index 3 (which is 4)\n",
    "print(my_list)\n",
    "print(new_list)"
   ]
  },
  {
   "cell_type": "code",
   "execution_count": 326,
   "id": "3197745c-4381-4ee1-b9f7-377717d9c4ec",
   "metadata": {},
   "outputs": [
    {
     "name": "stdout",
     "output_type": "stream",
     "text": [
      "[10, 8, 6, 4, 2, 1]\n",
      "[10, 8, 6, 4]\n"
     ]
    }
   ],
   "source": [
    "my_list = [10, 8, 6, 4, 2, 1]\n",
    "new_list = my_list[:4]         # slice from the start of the list up to (but not including) index 3\n",
    "print(my_list)\n",
    "print(new_list)"
   ]
  },
  {
   "cell_type": "code",
   "execution_count": 334,
   "id": "83962e09-2bd4-4f9c-9e58-7f7dc90dfd76",
   "metadata": {},
   "outputs": [
    {
     "name": "stdout",
     "output_type": "stream",
     "text": [
      "[10, 8, 6, 4, 2, 1]\n",
      "[6, 4, 2, 1]\n"
     ]
    }
   ],
   "source": [
    "my_list = [10, 8, 6, 4, 2, 1]\n",
    "new_list = my_list[2:]\n",
    "print(my_list)\n",
    "print(new_list)"
   ]
  },
  {
   "cell_type": "code",
   "execution_count": 336,
   "id": "cf34a7c1-c4ea-42b6-9fb1-d39fab760918",
   "metadata": {},
   "outputs": [
    {
     "name": "stdout",
     "output_type": "stream",
     "text": [
      "[10, 8, 6, 4, 2]\n",
      "[10, 8, 6, 4, 2]\n"
     ]
    }
   ],
   "source": [
    "my_list = [10, 8, 6, 4, 2]\n",
    "new_list = my_list[:]          # The syntax [:] means: \"Take a slice starting from the beginning to the end of the list.\"\n",
    "print(my_list)\n",
    "print(new_list)"
   ]
  },
  {
   "cell_type": "code",
   "execution_count": 344,
   "id": "763d5343-a4b1-4994-bbcf-f6a844fb5f14",
   "metadata": {},
   "outputs": [
    {
     "name": "stdout",
     "output_type": "stream",
     "text": [
      "[10, 2, 1]\n"
     ]
    }
   ],
   "source": [
    "my_list = [10, 8, 6, 4, 2, 1]\n",
    "del my_list[1:4]               # Start at index 1 → value 8 ; Stop before index 3 → so deelte until index 2 (value 6)\n",
    "print(my_list)"
   ]
  },
  {
   "cell_type": "code",
   "execution_count": 348,
   "id": "12ef9826-7609-464f-89ce-d0b30b4c5879",
   "metadata": {},
   "outputs": [
    {
     "name": "stdout",
     "output_type": "stream",
     "text": [
      "[10, 8, 6, 4, 2]\n",
      "[]\n"
     ]
    }
   ],
   "source": [
    "my_list = [10, 8, 6, 4, 2]\n",
    "print(my_list)\n",
    "del my_list[:]                 # all elements\n",
    "print(my_list)"
   ]
  },
  {
   "cell_type": "markdown",
   "id": "d8f7d5db-929f-4d64-be82-f950a1287641",
   "metadata": {},
   "source": [
    "## List operations"
   ]
  },
  {
   "cell_type": "code",
   "execution_count": 356,
   "id": "9f2f8cf5-92e9-4c84-be30-edb6cc602575",
   "metadata": {},
   "outputs": [
    {
     "name": "stdout",
     "output_type": "stream",
     "text": [
      "999\n"
     ]
    }
   ],
   "source": [
    "my_list = [222, 3, 11, 5, 1,999, 7, 15, 333]\n",
    "largest = my_list[0]\n",
    "\n",
    "# The code finds the maximum value in the list by comparing each element\n",
    "for i in my_list:\n",
    "    if i > largest:\n",
    "        largest = i\n",
    " \n",
    "print(largest)"
   ]
  },
  {
   "cell_type": "code",
   "execution_count": 360,
   "id": "24fd510c-683d-4df6-854c-c439f56ae89b",
   "metadata": {},
   "outputs": [
    {
     "name": "stdout",
     "output_type": "stream",
     "text": [
      "Element found at index 7\n"
     ]
    }
   ],
   "source": [
    "# find the location of a given element inside a list\n",
    "my_list = [1, 2, 3, 4, 5, 6, 7, 8, 9, 10]\n",
    "to_find = 8\n",
    "found = False\n",
    " \n",
    "for i in range(len(my_list)):\n",
    "    found = (my_list[i] == to_find)\n",
    "    if found:\n",
    "        break\n",
    " \n",
    "if found:\n",
    "    print(\"Element found at index\", i)\n",
    "else:\n",
    "    print(\"absent\")"
   ]
  },
  {
   "cell_type": "code",
   "execution_count": 362,
   "id": "1a4de319-a2bf-4771-9150-84b0280c4101",
   "metadata": {},
   "outputs": [
    {
     "name": "stdout",
     "output_type": "stream",
     "text": [
      "4\n"
     ]
    }
   ],
   "source": [
    "drawn = [5, 11, 9, 42, 3, 49]\n",
    "bets = [3, 7, 11, 42, 34, 49]\n",
    "hits = 0\n",
    " \n",
    "for number in bets:\n",
    "    if number in drawn:\n",
    "        hits += 1\n",
    " \n",
    "print(hits)"
   ]
  },
  {
   "cell_type": "code",
   "execution_count": 364,
   "id": "1fcc1d57-c541-4ef8-bec2-eaf09b7e28e8",
   "metadata": {},
   "outputs": [
    {
     "name": "stdout",
     "output_type": "stream",
     "text": [
      "Matching numbers: {11, 49, 42, 3}\n",
      "Total hits: 4\n"
     ]
    }
   ],
   "source": [
    "drawn = {5, 11, 9, 42, 3, 49}\n",
    "bets = {3, 7, 11, 42, 34, 49}\n",
    "\n",
    "# Set intersection gives common elements\n",
    "hits = drawn & bets\n",
    "\n",
    "print(\"Matching numbers:\", hits)\n",
    "print(\"Total hits:\", len(hits))"
   ]
  },
  {
   "cell_type": "markdown",
   "id": "ce142381-df52-4679-aecb-5cf82955039f",
   "metadata": {},
   "source": [
    "**List comprehension**"
   ]
  },
  {
   "cell_type": "code",
   "execution_count": 369,
   "id": "5c87dd3e-3ac9-40e7-8809-f16ec991af52",
   "metadata": {},
   "outputs": [
    {
     "name": "stdout",
     "output_type": "stream",
     "text": [
      "[-1, -2]\n"
     ]
    }
   ],
   "source": [
    "value_list = [i for i in range(-1, -3, -1)]\n",
    "print(value_list)"
   ]
  },
  {
   "cell_type": "code",
   "execution_count": 381,
   "id": "6cba8cf1-be49-4f2c-b61b-b92762800e9b",
   "metadata": {},
   "outputs": [
    {
     "name": "stdout",
     "output_type": "stream",
     "text": [
      "[1, 3, 5, 7, 9]\n"
     ]
    }
   ],
   "source": [
    "value_list = [i for i in range(1, 10, 2)]\n",
    "print(value_list)"
   ]
  },
  {
   "cell_type": "code",
   "execution_count": 387,
   "id": "41bb6278-204d-4dd0-8282-9f44abf7f6dc",
   "metadata": {},
   "outputs": [
    {
     "name": "stdout",
     "output_type": "stream",
     "text": [
      "list t: [[0, 1, 2], [0, 1, 2], [0, 1, 2]]\n",
      "looping 0\n",
      "s: 0\n",
      "looping 1\n",
      "s: 1\n",
      "looping 2\n",
      "s: 3\n",
      "3\n"
     ]
    }
   ],
   "source": [
    "t = [[i for i in range (3)] for j in range (3)]\n",
    "\n",
    "#t = [[3-i for i in range (3)] for j in range (3)]\n",
    "\n",
    "print(\"list t:\", t)\n",
    "s = 0\n",
    "for i in range(3):\n",
    "    print(\"looping\", i)\n",
    "    s += t[i][i]\n",
    "    # s = s + t[i][i]\n",
    "    print(\"s:\",s)\n",
    "print(s)"
   ]
  },
  {
   "cell_type": "markdown",
   "id": "9b6af6d7-069e-482a-bad1-13ae02134ca2",
   "metadata": {},
   "source": [
    "## Functions"
   ]
  },
  {
   "cell_type": "code",
   "execution_count": null,
   "id": "57a2dd4c-26bf-4c03-a8a8-c40c352570da",
   "metadata": {},
   "outputs": [],
   "source": []
  },
  {
   "cell_type": "code",
   "execution_count": null,
   "id": "b0daf9ae-6681-4ea1-8633-ff3bccbde352",
   "metadata": {},
   "outputs": [],
   "source": []
  },
  {
   "cell_type": "markdown",
   "id": "36a6d861-796b-4096-8b1c-98948091124e",
   "metadata": {},
   "source": [
    "## Tuples"
   ]
  },
  {
   "cell_type": "code",
   "execution_count": null,
   "id": "4a4c598d-da19-4285-b0c9-3c60f2ef3dcf",
   "metadata": {},
   "outputs": [],
   "source": []
  },
  {
   "cell_type": "code",
   "execution_count": null,
   "id": "6597e87c-9b85-4c74-a590-231c551f2e97",
   "metadata": {},
   "outputs": [],
   "source": []
  },
  {
   "cell_type": "markdown",
   "id": "2d77e0a4-23bd-4c38-b01a-ffdaeb3f2356",
   "metadata": {},
   "source": [
    "## Dictionaries"
   ]
  },
  {
   "cell_type": "code",
   "execution_count": null,
   "id": "c057b541-343a-42f5-b122-e61616f56295",
   "metadata": {},
   "outputs": [],
   "source": []
  },
  {
   "cell_type": "code",
   "execution_count": null,
   "id": "cbd153b3-afd1-40dd-9a68-a7e32c2754e3",
   "metadata": {},
   "outputs": [],
   "source": []
  },
  {
   "cell_type": "markdown",
   "id": "aaae737a-0421-450f-a939-22982cf22404",
   "metadata": {},
   "source": [
    "## Exceptions"
   ]
  },
  {
   "cell_type": "code",
   "execution_count": null,
   "id": "ff58d027-b48c-44d6-9f72-35eb83c3ee24",
   "metadata": {},
   "outputs": [],
   "source": []
  },
  {
   "cell_type": "code",
   "execution_count": null,
   "id": "58bb7047-a221-449b-b63f-1c12ce8d91c9",
   "metadata": {},
   "outputs": [],
   "source": []
  },
  {
   "cell_type": "code",
   "execution_count": null,
   "id": "c355c490-5c58-4989-85ff-e045012700fd",
   "metadata": {},
   "outputs": [],
   "source": []
  }
 ],
 "metadata": {
  "kernelspec": {
   "display_name": "Python [conda env:base] *",
   "language": "python",
   "name": "conda-base-py"
  },
  "language_info": {
   "codemirror_mode": {
    "name": "ipython",
    "version": 3
   },
   "file_extension": ".py",
   "mimetype": "text/x-python",
   "name": "python",
   "nbconvert_exporter": "python",
   "pygments_lexer": "ipython3",
   "version": "3.11.11"
  }
 },
 "nbformat": 4,
 "nbformat_minor": 5
}
